{
 "cells": [
  {
   "cell_type": "code",
   "execution_count": 1,
   "id": "008f763f",
   "metadata": {},
   "outputs": [],
   "source": [
    "import sympy"
   ]
  },
  {
   "cell_type": "code",
   "execution_count": 2,
   "id": "b05144a2",
   "metadata": {},
   "outputs": [],
   "source": [
    "from sympy import symbols, Rational, simplify"
   ]
  },
  {
   "cell_type": "code",
   "execution_count": 6,
   "id": "60e204e4",
   "metadata": {},
   "outputs": [],
   "source": [
    "eqn = 1 - ((1 - 1/x) ** z) ** x"
   ]
  },
  {
   "cell_type": "code",
   "execution_count": 4,
   "id": "b1d51446",
   "metadata": {},
   "outputs": [],
   "source": [
    "x,y ,z = symbols('x y z')"
   ]
  },
  {
   "cell_type": "code",
   "execution_count": null,
   "id": "ee26467e",
   "metadata": {},
   "outputs": [],
   "source": [
    "eqn.subs(x, 2**64).subs(z, 100).subs(x, 200)"
   ]
  },
  {
   "cell_type": "code",
   "execution_count": null,
   "id": "542dc3b6",
   "metadata": {},
   "outputs": [],
   "source": []
  }
 ],
 "metadata": {
  "kernelspec": {
   "display_name": "Python 3",
   "language": "python",
   "name": "python3"
  },
  "language_info": {
   "codemirror_mode": {
    "name": "ipython",
    "version": 3
   },
   "file_extension": ".py",
   "mimetype": "text/x-python",
   "name": "python",
   "nbconvert_exporter": "python",
   "pygments_lexer": "ipython3",
   "version": "3.10.6"
  }
 },
 "nbformat": 4,
 "nbformat_minor": 5
}
