{
 "cells": [
  {
   "cell_type": "code",
   "execution_count": null,
   "metadata": {},
   "outputs": [],
   "source": [
    "from matplotlib import pyplot as plt\n",
    "from nbmetalog import nbmetalog as nbm\n",
    "import numpy as np\n",
    "import pandas as pd\n",
    "import seaborn as sns\n",
    "from teeplot import teeplot as tp\n",
    "\n",
    "import pylib\n"
   ]
  },
  {
   "cell_type": "code",
   "execution_count": null,
   "metadata": {},
   "outputs": [],
   "source": [
    "nbm.print_metadata()\n"
   ]
  },
  {
   "cell_type": "code",
   "execution_count": null,
   "metadata": {},
   "outputs": [],
   "source": [
    "df = pylib.util.concat_dataframes_from_glob(\n",
    "    \"a=snapshot-comparisons-stats+*+ext=.csv\"\n",
    ")\n"
   ]
  },
  {
   "cell_type": "code",
   "execution_count": null,
   "metadata": {},
   "outputs": [],
   "source": [
    "df\n"
   ]
  },
  {
   "cell_type": "code",
   "execution_count": null,
   "metadata": {},
   "outputs": [],
   "source": [
    "all(df[\"quartet distance\"] < 0.66)\n"
   ]
  },
  {
   "cell_type": "code",
   "execution_count": null,
   "metadata": {},
   "outputs": [],
   "source": [
    "df[\"Generation\"] = df[\"first rank\"]\n",
    "df[\"Population Size Estimate\"] = df[\"population size estimate at first rank\"]\n",
    "df[\"Treatment\"] = df[\"treatment\"].str.replace(\"-\", \"\\n\")\n",
    "\n",
    "\n",
    "def boxplot_popsize(data, x, y, hue):\n",
    "    sns.boxplot(\n",
    "        data=data,\n",
    "        x=x,\n",
    "        y=y,\n",
    "        hue=hue,\n",
    "        notch=True,\n",
    "    )\n",
    "    plt.yscale(\"log\")\n",
    "\n",
    "\n",
    "tp.tee(\n",
    "    boxplot_popsize,\n",
    "    data=df,\n",
    "    x=\"Treatment\",\n",
    "    y=\"Population Size Estimate\",\n",
    "    hue=\"Generation\",\n",
    ")\n"
   ]
  },
  {
   "cell_type": "code",
   "execution_count": null,
   "metadata": {},
   "outputs": [],
   "source": [
    "df[\"Generation A\"] = df[\"first rank\"]\n",
    "df[\"Generation B\"] = df[\"second rank\"]\n",
    "\n",
    "\n",
    "def plot_heatmap(data, x, y, hue, **kwargs):\n",
    "    pivoted_data = (\n",
    "        data[data[hue]]\n",
    "        .pivot_table(index=x, columns=y, aggfunc=\"size\", fill_value=0)\n",
    "        .astype(int)\n",
    "    )\n",
    "    if len(pivoted_data) == 0:\n",
    "        pivoted_data = data.pivot_table(\n",
    "            index=x, columns=y, aggfunc=\"size\", fill_value=0\n",
    "        ).astype(int)\n",
    "        pivoted_data[:] = 0\n",
    "\n",
    "    sns.heatmap(\n",
    "        pivoted_data,\n",
    "        xticklabels=True,\n",
    "        yticklabels=True,\n",
    "        vmin=0,\n",
    "        vmax=10,\n",
    "        mask=np.tril(np.ones_like(pivoted_data.values, dtype=bool), -1),\n",
    "        annot=True,\n",
    "        fmt=\"d\",\n",
    "        cmap=\"viridis\",\n",
    "        cbar=False,\n",
    "        **kwargs\n",
    "    )\n",
    "\n",
    "\n",
    "def facet_heatmap(data, x, y, hue):\n",
    "    g = sns.FacetGrid(data, col=\"treatment\", col_wrap=2, height=4, aspect=1)\n",
    "    g.map_dataframe(plot_heatmap, x=x, y=y, hue=hue)\n",
    "\n",
    "\n",
    "tp.tee(\n",
    "    facet_heatmap,\n",
    "    data=df,\n",
    "    x=\"Generation B\",\n",
    "    y=\"Generation A\",\n",
    "    hue=\"Mann-Whitney significant at alpha = 0.01\",\n",
    ")\n"
   ]
  },
  {
   "cell_type": "code",
   "execution_count": null,
   "metadata": {},
   "outputs": [],
   "source": [
    "tp.tee(\n",
    "    facet_heatmap,\n",
    "    data=df,\n",
    "    x=\"Generation B\",\n",
    "    y=\"Generation A\",\n",
    "    hue=\"nonoverlapping CI\",\n",
    ")\n"
   ]
  }
 ],
 "metadata": {
  "kernelspec": {
   "display_name": "Python 3",
   "language": "python",
   "name": "python3"
  },
  "language_info": {
   "codemirror_mode": {
    "name": "ipython",
    "version": 3
   },
   "file_extension": ".py",
   "mimetype": "text/x-python",
   "name": "python",
   "nbconvert_exporter": "python",
   "pygments_lexer": "ipython3"
  }
 },
 "nbformat": 4,
 "nbformat_minor": 5
}
