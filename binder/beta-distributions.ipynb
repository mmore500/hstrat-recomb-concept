{
 "cells": [
  {
   "cell_type": "code",
   "execution_count": null,
   "metadata": {},
   "outputs": [],
   "source": [
    "import numpy as np\n",
    "import matplotlib.pyplot as plt\n",
    "from scipy.stats import beta\n",
    "\n",
    "from teeplot import teeplot as tp\n"
   ]
  },
  {
   "cell_type": "code",
   "execution_count": null,
   "metadata": {},
   "outputs": [],
   "source": [
    "# Parameters\n",
    "n_values = [10, 100]\n",
    "colors = [\"red\", \"blue\"]\n",
    "plt.rcParams[\"figure.figsize\"] = (4, 2.5)\n",
    "\n",
    "# X-axis values\n",
    "x = np.logspace(np.log10(0.001), np.log10(1), num=1000)\n",
    "\n",
    "\n",
    "def beta_pdf():\n",
    "\n",
    "    # Plotting the distributions\n",
    "    for n, color in zip(n_values, colors):\n",
    "        # Beta distribution\n",
    "        y = beta.pdf(x, n, 1)\n",
    "\n",
    "        # Plotting the shaded area\n",
    "        plt.fill_between(x, y, color=color, alpha=0.3)\n",
    "\n",
    "        # Plotting the line\n",
    "        plt.plot(x, y, color=color, label=f\"n = {n}\", linewidth=2)\n",
    "\n",
    "    # Plot settings\n",
    "    plt.xlim([0.8, 1])\n",
    "    plt.xlabel(\"Population Max Differentia Value (normalized)\")\n",
    "    plt.ylabel(\"Probability Density\")\n",
    "    plt.legend(loc=\"upper left\")\n"
   ]
  },
  {
   "cell_type": "code",
   "execution_count": null,
   "metadata": {},
   "outputs": [],
   "source": [
    "tp.tee(\n",
    "    beta_pdf,\n",
    ")\n"
   ]
  }
 ],
 "metadata": {
  "kernelspec": {
   "display_name": "Python 3",
   "language": "python",
   "name": "python3"
  },
  "language_info": {
   "codemirror_mode": {
    "name": "ipython",
    "version": 3
   },
   "file_extension": ".py",
   "mimetype": "text/x-python",
   "name": "python",
   "nbconvert_exporter": "python",
   "pygments_lexer": "ipython3"
  }
 },
 "nbformat": 4,
 "nbformat_minor": 5
}
