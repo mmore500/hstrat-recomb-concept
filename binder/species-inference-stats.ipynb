{
 "cells": [
  {
   "cell_type": "code",
   "execution_count": null,
   "metadata": {},
   "outputs": [],
   "source": [
    "from matplotlib import pyplot as plt\n",
    "from nbmetalog import nbmetalog as nbm\n",
    "import pandas as pd\n",
    "import seaborn as sns\n",
    "from teeplot import teeplot as tp\n",
    "\n",
    "import pylib\n"
   ]
  },
  {
   "cell_type": "code",
   "execution_count": null,
   "metadata": {},
   "outputs": [],
   "source": [
    "nbm.print_metadata()\n"
   ]
  },
  {
   "cell_type": "code",
   "execution_count": null,
   "metadata": {},
   "outputs": [],
   "source": [
    "df = pylib.util.concat_dataframes_from_glob(\n",
    "    \"a=reconstruction-accuracy+*+ext=.csv\"\n",
    ")\n"
   ]
  },
  {
   "cell_type": "code",
   "execution_count": null,
   "metadata": {},
   "outputs": [],
   "source": [
    "df\n"
   ]
  },
  {
   "cell_type": "code",
   "execution_count": null,
   "metadata": {},
   "outputs": [],
   "source": [
    "all(df[\"quartet distance\"] < 0.66)\n"
   ]
  },
  {
   "cell_type": "code",
   "execution_count": null,
   "metadata": {},
   "outputs": [],
   "source": [
    "def boxplot_quartet(data, x, y):\n",
    "    sns.boxplot(\n",
    "        data=data,\n",
    "        x=x,\n",
    "        y=y,\n",
    "        notch=True,\n",
    "    )\n",
    "    plt.ylim(0, 1)\n",
    "    plt.ylabel(\"reconstruction-reference quartet distance\")\n",
    "    plt.xlabel(\"population structure\")\n",
    "    plt.axhline(0.66)\n",
    "\n",
    "\n",
    "tp.tee(\n",
    "    boxplot_quartet,\n",
    "    data=df,\n",
    "    x=\"treatment\",\n",
    "    y=\"quartet distance\",\n",
    ")\n"
   ]
  }
 ],
 "metadata": {
  "kernelspec": {
   "display_name": "Python 3",
   "language": "python",
   "name": "python3"
  },
  "language_info": {
   "codemirror_mode": {
    "name": "ipython",
    "version": 3
   },
   "file_extension": ".py",
   "mimetype": "text/x-python",
   "name": "python",
   "nbconvert_exporter": "python",
   "pygments_lexer": "ipython3"
  }
 },
 "nbformat": 4,
 "nbformat_minor": 5
}
