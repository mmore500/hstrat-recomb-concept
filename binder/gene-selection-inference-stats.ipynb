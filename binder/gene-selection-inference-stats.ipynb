{
 "cells": [
  {
   "cell_type": "code",
   "execution_count": null,
   "metadata": {},
   "outputs": [],
   "source": [
    "import itertools as it\n",
    "\n",
    "from matplotlib import pyplot as plt\n",
    "from nbmetalog import nbmetalog as nbm\n",
    "import numpy as np\n",
    "import pandas as pd\n",
    "import seaborn as sns\n",
    "from teeplot import teeplot as tp\n",
    "\n",
    "import pylib\n"
   ]
  },
  {
   "cell_type": "code",
   "execution_count": null,
   "metadata": {},
   "outputs": [],
   "source": [
    "nbm.print_metadata()\n"
   ]
  },
  {
   "cell_type": "code",
   "execution_count": null,
   "metadata": {},
   "outputs": [],
   "source": [
    "df = pylib.util.concat_dataframes_from_glob(\n",
    "    \"a=prevalence-annotation-by-generation+*+ext=.csv\"\n",
    ")\n"
   ]
  },
  {
   "cell_type": "code",
   "execution_count": null,
   "metadata": {},
   "outputs": [],
   "source": [
    "df\n"
   ]
  },
  {
   "cell_type": "code",
   "execution_count": null,
   "metadata": {},
   "outputs": [],
   "source": [
    "def lineplot_twiny(x, y1, y2, color=None, y2_lims=None, **kwargs):\n",
    "    ax1 = plt.gca()\n",
    "    ax2 = ax1.twinx()\n",
    "    ax1.twin = ax2\n",
    "\n",
    "    sns.lineplot(x=x, y=y1, color=\"blue\", ax=ax1, errorbar=\"pi\")\n",
    "    sns.lineplot(x=x, y=y2, color=\"red\", ax=ax2, errorbar=\"pi\")\n",
    "    ax2.set_ylabel(\"\")\n",
    "\n",
    "    if y2_lims is not None:\n",
    "        ax2.set_ylim(*y2_lims)\n",
    "\n",
    "\n",
    "def facet_lineplot_twiny(data, x, y1, y2, col):\n",
    "    y2_min = data[y2].min()\n",
    "    y2_max = data[y2].max()\n",
    "\n",
    "    g = sns.FacetGrid(data, col=col)\n",
    "    g.map(lineplot_twiny, x, y1, y2, y2_lims=(y2_min, y2_max), sharey=True)\n",
    "    g.set_axis_labels(\"Generation\", \"\")\n",
    "    # Use set_titles() to format the titles of subplots\n",
    "    g.set_titles(\"Fitness Advantage {col_name}\")\n",
    "    g.axes.flat[0].set_ylabel(\"Gene Copy Count\", color=\"blue\")\n",
    "    last_twinx = g.axes.flat[-1].twin\n",
    "    last_twinx.set_ylabel(\"Stratum Annotation Bit Count\", color=\"red\")\n",
    "    for ax in g.axes.flat[:-1]:\n",
    "        ax.twin.set_yticks([])\n",
    "\n",
    "\n",
    "tp.tee(\n",
    "    facet_lineplot_twiny,\n",
    "    data=df,\n",
    "    x=\"generation\",\n",
    "    y1=\"prevalence\",\n",
    "    y2=\"annotation\",\n",
    "    col=\"fitness-advantage\",\n",
    ")\n"
   ]
  },
  {
   "cell_type": "code",
   "execution_count": null,
   "metadata": {},
   "outputs": [],
   "source": [
    "rolling = (\n",
    "    df.copy()\n",
    "    .sort_values(\"generation\", axis=0)\n",
    "    .groupby([\"replicate\", \"fitness-advantage\"])[\"annotation\"]\n",
    "    .rolling(16)\n",
    "    .sum()\n",
    "    .reset_index()\n",
    ")\n",
    "rolling\n"
   ]
  },
  {
   "cell_type": "code",
   "execution_count": null,
   "metadata": {},
   "outputs": [],
   "source": [
    "records = []\n",
    "for threshold, fitness_advantage in it.product(\n",
    "    range(501), rolling[\"fitness-advantage\"].unique()\n",
    "):\n",
    "    count_above_threshold = rolling[\n",
    "        (rolling[\"fitness-advantage\"] == fitness_advantage)\n",
    "        & (rolling[\"annotation\"] >= threshold)\n",
    "    ][\"replicate\"].nunique()\n",
    "    records.append(\n",
    "        {\n",
    "            \"threshold\": threshold,\n",
    "            \"replicate_count\": count_above_threshold,\n",
    "            \"fitness-advantage\": fitness_advantage,\n",
    "        },\n",
    "    )\n",
    "\n",
    "above_threshold_df = pd.DataFrame.from_records(records)\n",
    "\n",
    "\n",
    "def lineplot_detection(data, x, y, hue):\n",
    "    sns.lineplot(\n",
    "        data,\n",
    "        x=x,\n",
    "        y=y,\n",
    "        hue=hue,\n",
    "        palette=sns.color_palette(\"viridis\", 3),\n",
    "    )\n",
    "\n",
    "    plt.xlabel(\"Detection Threshold\")\n",
    "    plt.ylabel(\"Number Replicates with Detected Selection\")\n",
    "    plt.legend(title=\"Fitness Advantage\")\n",
    "\n",
    "\n",
    "tp.tee(\n",
    "    lineplot_detection,\n",
    "    data=above_threshold_df,\n",
    "    x=\"threshold\",\n",
    "    y=\"replicate_count\",\n",
    "    hue=\"fitness-advantage\",\n",
    ")\n"
   ]
  }
 ],
 "metadata": {
  "kernelspec": {
   "display_name": "Python 3",
   "language": "python",
   "name": "python3"
  },
  "language_info": {
   "codemirror_mode": {
    "name": "ipython",
    "version": 3
   },
   "file_extension": ".py",
   "mimetype": "text/x-python",
   "name": "python",
   "nbconvert_exporter": "python",
   "pygments_lexer": "ipython3"
  }
 },
 "nbformat": 4,
 "nbformat_minor": 5
}
