{
 "cells": [
  {
   "cell_type": "code",
   "execution_count": 1,
   "id": "25f114d1",
   "metadata": {
    "execution": {
     "iopub.execute_input": "2023-05-30T22:24:05.830429Z",
     "iopub.status.busy": "2023-05-30T22:24:05.829802Z",
     "iopub.status.idle": "2023-05-30T22:24:06.621401Z",
     "shell.execute_reply": "2023-05-30T22:24:06.620995Z"
    }
   },
   "outputs": [],
   "source": [
    "import numpy as np\n",
    "import matplotlib.pyplot as plt\n",
    "from scipy.stats import beta\n",
    "\n",
    "from teeplot import teeplot as tp\n"
   ]
  },
  {
   "cell_type": "code",
   "execution_count": 2,
   "id": "35be583a",
   "metadata": {
    "execution": {
     "iopub.execute_input": "2023-05-30T22:24:06.625844Z",
     "iopub.status.busy": "2023-05-30T22:24:06.625485Z",
     "iopub.status.idle": "2023-05-30T22:24:06.627459Z",
     "shell.execute_reply": "2023-05-30T22:24:06.627105Z"
    }
   },
   "outputs": [],
   "source": [
    "# Parameters\n",
    "n_values = [10, 100]\n",
    "colors = ['red', 'blue']\n",
    "plt.rcParams['figure.figsize'] = (4, 2.5)\n",
    "\n",
    "# X-axis values\n",
    "x = np.logspace(np.log10(0.001), np.log10(1), num=1000)\n",
    "\n",
    "def beta_pdf():\n",
    "\n",
    "    # Plotting the distributions\n",
    "    for n, color in zip(n_values, colors):\n",
    "        # Beta distribution\n",
    "        y = beta.pdf(x, n, 1)\n",
    "\n",
    "        # Plotting the shaded area\n",
    "        plt.fill_between(x, y, color=color, alpha=0.3)\n",
    "\n",
    "        # Plotting the line\n",
    "        plt.plot(x, y, color=color, label=f'n = {n}', linewidth=2)\n",
    "\n",
    "    # Plot settings\n",
    "    plt.xlim([0.8, 1])\n",
    "    plt.xlabel('Population Max Differentia Value (normalized)')\n",
    "    plt.ylabel('Probability Density')\n",
    "    plt.legend(loc=\"upper left\")\n",
    "\n"
   ]
  },
  {
   "cell_type": "code",
   "execution_count": 3,
   "id": "2e6c4170",
   "metadata": {
    "execution": {
     "iopub.execute_input": "2023-05-30T22:24:06.630140Z",
     "iopub.status.busy": "2023-05-30T22:24:06.629785Z",
     "iopub.status.idle": "2023-05-30T22:24:07.225720Z",
     "shell.execute_reply": "2023-05-30T22:24:07.225981Z"
    }
   },
   "outputs": [
    {
     "name": "stdout",
     "output_type": "stream",
     "text": [
      "teeplots/./viz=beta-pdf+ext=.pdf\n",
      "teeplots/./viz=beta-pdf+ext=.png\n"
     ]
    },
    {
     "data": {
      "image/png": "[encoded data removed]",
      "text/plain": [
       "<Figure size 432x288 with 1 Axes>"
      ]
     },
     "metadata": {
      "needs_background": "light"
     },
     "output_type": "display_data"
    }
   ],
   "source": [
    "tp.tee(\n",
    "    beta_pdf,\n",
    ")"
   ]
  }
 ],
 "metadata": {
  "kernelspec": {
   "display_name": "Python 3",
   "language": "python",
   "name": "python3"
  },
  "language_info": {
   "codemirror_mode": {
    "name": "ipython",
    "version": 3
   },
   "file_extension": ".py",
   "mimetype": "text/x-python",
   "name": "python",
   "nbconvert_exporter": "python",
   "pygments_lexer": "ipython3",
   "version": "3.10.6"
  }
 },
 "nbformat": 4,
 "nbformat_minor": 5
}
