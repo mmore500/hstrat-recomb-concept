{
 "cells": [
  {
   "cell_type": "code",
   "execution_count": 1,
   "id": "a4d322d8",
   "metadata": {
    "execution": {
     "iopub.execute_input": "2023-05-24T02:13:17.740005Z",
     "iopub.status.busy": "2023-05-24T02:13:17.739457Z",
     "iopub.status.idle": "2023-05-24T02:13:18.991361Z",
     "shell.execute_reply": "2023-05-24T02:13:18.992138Z"
    },
    "papermill": {
     "duration": 1.339074,
     "end_time": "2023-05-24T02:13:18.992442",
     "exception": false,
     "start_time": "2023-05-24T02:13:17.653368",
     "status": "completed"
    },
    "tags": []
   },
   "outputs": [],
   "source": [
    "import endomill\n",
    "import yaml\n"
   ]
  },
  {
   "cell_type": "code",
   "execution_count": 2,
   "id": "baeb5d0c",
   "metadata": {
    "execution": {
     "iopub.execute_input": "2023-05-24T02:13:19.079837Z",
     "iopub.status.busy": "2023-05-24T02:13:19.078692Z",
     "iopub.status.idle": "2023-05-24T02:13:19.100373Z",
     "shell.execute_reply": "2023-05-24T02:13:19.101292Z"
    },
    "papermill": {
     "duration": 0.072634,
     "end_time": "2023-05-24T02:13:19.101559",
     "exception": false,
     "start_time": "2023-05-24T02:13:19.028925",
     "status": "completed"
    },
    "tags": []
   },
   "outputs": [],
   "source": [
    "parameter_packs = [\n",
    "    {\n",
    "        \"MILL_TREATMENT_NAME\": treatment,\n",
    "        \"MILL_REPLICATE\": replicate,\n",
    "    }\n",
    "    for treatment in [\"bag\", \"ring\", \"allopatry\"]\n",
    "    for replicate in range(10)\n",
    "]\n",
    "\n",
    "\n",
    "for i, pp in enumerate(parameter_packs):\n",
    "    with open(f\"species-inference-parameterization-{i}.yaml\", \"w\") as file:\n",
    "        yaml.safe_dump(pp, file)\n",
    "# endomill.instantiate_over(parameter_packs=parameter_packs)\n"
   ]
  },
  {
   "cell_type": "markdown",
   "id": "c23df1bb",
   "metadata": {
    "papermill": {
     "duration": 0.050639,
     "end_time": "2023-05-24T02:13:19.203169",
     "exception": false,
     "start_time": "2023-05-24T02:13:19.152530",
     "status": "completed"
    },
    "tags": []
   },
   "source": [
    "# Papermill Parameters\n"
   ]
  },
  {
   "cell_type": "code",
   "execution_count": 3,
   "id": "49f6db15",
   "metadata": {
    "execution": {
     "iopub.execute_input": "2023-05-24T02:13:19.327695Z",
     "iopub.status.busy": "2023-05-24T02:13:19.326409Z",
     "iopub.status.idle": "2023-05-24T02:13:19.328962Z",
     "shell.execute_reply": "2023-05-24T02:13:19.330046Z"
    },
    "papermill": {
     "duration": 0.065456,
     "end_time": "2023-05-24T02:13:19.330364",
     "exception": false,
     "start_time": "2023-05-24T02:13:19.264908",
     "status": "completed"
    },
    "tags": [
     "parameters"
    ]
   },
   "outputs": [],
   "source": [
    "MILL_TREATMENT_NAME: str\n",
    "MILL_REPLICATE: int\n"
   ]
  },
  {
   "cell_type": "code",
   "execution_count": 4,
   "id": "7c1fa1fc",
   "metadata": {
    "execution": {
     "iopub.execute_input": "2023-05-24T02:13:19.456720Z",
     "iopub.status.busy": "2023-05-24T02:13:19.455362Z",
     "iopub.status.idle": "2023-05-24T02:13:19.460676Z",
     "shell.execute_reply": "2023-05-24T02:13:19.461672Z"
    },
    "papermill": {
     "duration": 0.070623,
     "end_time": "2023-05-24T02:13:19.461966",
     "exception": false,
     "start_time": "2023-05-24T02:13:19.391343",
     "status": "completed"
    },
    "tags": [
     "injected-parameters"
    ]
   },
   "outputs": [],
   "source": [
    "# Parameters\n",
    "MILL_REPLICATE = 5\n",
    "MILL_TREATMENT_NAME = \"bag\"\n"
   ]
  },
  {
   "cell_type": "markdown",
   "id": "746f7e10",
   "metadata": {
    "papermill": {
     "duration": 0.057041,
     "end_time": "2023-05-24T02:13:19.574178",
     "exception": false,
     "start_time": "2023-05-24T02:13:19.517137",
     "status": "completed"
    },
    "tags": []
   },
   "source": [
    "# Global Setup\n"
   ]
  },
  {
   "cell_type": "code",
   "execution_count": 5,
   "id": "b0cf0aba",
   "metadata": {
    "execution": {
     "iopub.execute_input": "2023-05-24T02:13:19.690371Z",
     "iopub.status.busy": "2023-05-24T02:13:19.688812Z",
     "iopub.status.idle": "2023-05-24T02:13:29.362701Z",
     "shell.execute_reply": "2023-05-24T02:13:29.363809Z"
    },
    "papermill": {
     "duration": 9.735303,
     "end_time": "2023-05-24T02:13:29.364122",
     "exception": false,
     "start_time": "2023-05-24T02:13:19.628819",
     "status": "completed"
    },
    "tags": []
   },
   "outputs": [],
   "source": [
    "import copy\n",
    "import math\n",
    "import itertools as it\n",
    "import typing\n",
    "import random\n",
    "\n",
    "import alifedata_phyloinformatics_convert as apc\n",
    "from Bio import Phylo as BioPhylo\n",
    "from deap import algorithms as deap_algorithms\n",
    "from deap import base as deap_base\n",
    "from deap import creator as deap_creator\n",
    "from deap import tools as deap_tools\n",
    "\n",
    "from hstrat import hstrat\n",
    "from iterpop import iterpop as ip\n",
    "from keyname import keyname as kn\n",
    "from matplotlib import pyplot as plt\n",
    "from nbmetalog import nbmetalog as nbm\n",
    "import numpy as np\n",
    "import pandas as pd\n",
    "from scipy import stats as scipy_stats\n",
    "import seaborn as sns\n",
    "import sympy\n",
    "from teeplot import teeplot as tp\n",
    "from tqdm import tqdm\n",
    "\n",
    "import pylib\n"
   ]
  },
  {
   "cell_type": "code",
   "execution_count": 6,
   "id": "afb91460",
   "metadata": {
    "execution": {
     "iopub.execute_input": "2023-05-24T02:13:29.483981Z",
     "iopub.status.busy": "2023-05-24T02:13:29.482529Z",
     "iopub.status.idle": "2023-05-24T02:13:29.491574Z",
     "shell.execute_reply": "2023-05-24T02:13:29.493835Z"
    },
    "papermill": {
     "duration": 0.075412,
     "end_time": "2023-05-24T02:13:29.494176",
     "exception": false,
     "start_time": "2023-05-24T02:13:29.418764",
     "status": "completed"
    },
    "tags": []
   },
   "outputs": [],
   "source": [
    "random.seed(MILL_REPLICATE)\n"
   ]
  },
  {
   "cell_type": "code",
   "execution_count": 7,
   "id": "ed8a2a86",
   "metadata": {
    "execution": {
     "iopub.execute_input": "2023-05-24T02:13:29.619046Z",
     "iopub.status.busy": "2023-05-24T02:13:29.617641Z",
     "iopub.status.idle": "2023-05-24T02:13:31.494042Z",
     "shell.execute_reply": "2023-05-24T02:13:31.492116Z"
    },
    "papermill": {
     "duration": 1.942769,
     "end_time": "2023-05-24T02:13:31.494302",
     "exception": false,
     "start_time": "2023-05-24T02:13:29.551533",
     "status": "completed"
    },
    "tags": []
   },
   "outputs": [
    {
     "name": "stdout",
     "output_type": "stream",
     "text": [
      "context: local\n",
      "hostname: thinkpad\n",
      "interpreter: 3.10.6 (main, Mar 10 2023, 10:55:28) [GCC 11.3.0]\n",
      "nbcellexec: null\n",
      "nbname: None\n",
      "nbpath: None\n",
      "revision: null\n",
      "session: 9f9b787a-125c-4c1e-8faf-43789f89483c\n",
      "timestamp: 2023-05-23T19:13:30Z00:00\n",
      "\n",
      "\n"
     ]
    },
    {
     "name": "stdout",
     "output_type": "stream",
     "text": [
      "IPython==7.31.1\n",
      "keyname==0.5.2\n",
      "yaml==6.0\n",
      "Bio==1.79\n",
      "alifedata_phyloinformatics_convert==0.13.0\n",
      "deap==1.3\n",
      "endomill==0.1.3\n",
      "hstrat==1.6.1\n",
      "iterpop==0.4.1\n",
      "matplotlib==3.6.2\n",
      "nbmetalog==0.2.6\n",
      "numpy==1.23.5\n",
      "pandas==1.5.2\n",
      "scipy==1.10.1\n",
      "seaborn==0.12.1\n",
      "sympy==1.9\n",
      "teeplot==0.5.0\n",
      "re==2.2.1\n",
      "debugpy==1.6.6\n",
      "logging==0.5.1.2\n",
      "psutil==5.9.0\n",
      "zmq==22.3.0\n",
      "json==2.0.9\n",
      "ipykernel==6.7.0\n"
     ]
    }
   ],
   "source": [
    "nbm.print_metadata()\n"
   ]
  },
  {
   "cell_type": "markdown",
   "id": "ee7a5ec6",
   "metadata": {
    "papermill": {
     "duration": 0.046722,
     "end_time": "2023-05-24T02:13:31.594024",
     "exception": false,
     "start_time": "2023-05-24T02:13:31.547302",
     "status": "completed"
    },
    "tags": []
   },
   "source": [
    "# Parameters\n"
   ]
  },
  {
   "cell_type": "code",
   "execution_count": 8,
   "id": "1891c1a5",
   "metadata": {
    "execution": {
     "iopub.execute_input": "2023-05-24T02:13:31.697776Z",
     "iopub.status.busy": "2023-05-24T02:13:31.696395Z",
     "iopub.status.idle": "2023-05-24T02:13:31.701463Z",
     "shell.execute_reply": "2023-05-24T02:13:31.702683Z"
    },
    "papermill": {
     "duration": 0.063809,
     "end_time": "2023-05-24T02:13:31.703002",
     "exception": false,
     "start_time": "2023-05-24T02:13:31.639193",
     "status": "completed"
    },
    "tags": []
   },
   "outputs": [],
   "source": [
    "HSTRAT_DIFFERENTIA_WIDTH = 64\n",
    "NGEN = 200\n",
    "NPOP = 100\n",
    "NTOURN = 2\n"
   ]
  },
  {
   "cell_type": "markdown",
   "id": "0c05cb4d",
   "metadata": {
    "papermill": {
     "duration": 0.051492,
     "end_time": "2023-05-24T02:13:31.809580",
     "exception": false,
     "start_time": "2023-05-24T02:13:31.758088",
     "status": "completed"
    },
    "tags": []
   },
   "source": [
    "# Setup\n"
   ]
  },
  {
   "cell_type": "code",
   "execution_count": 9,
   "id": "b29e68a4",
   "metadata": {
    "execution": {
     "iopub.execute_input": "2023-05-24T02:13:31.927207Z",
     "iopub.status.busy": "2023-05-24T02:13:31.925877Z",
     "iopub.status.idle": "2023-05-24T02:13:31.938577Z",
     "shell.execute_reply": "2023-05-24T02:13:31.940150Z"
    },
    "papermill": {
     "duration": 0.077913,
     "end_time": "2023-05-24T02:13:31.940447",
     "exception": false,
     "start_time": "2023-05-24T02:13:31.862534",
     "status": "completed"
    },
    "tags": []
   },
   "outputs": [],
   "source": [
    "deap_creator.create(\"FitnessMax\", deap_base.Fitness, weights=(1.0,))\n",
    "deap_creator.create(\"Individual\", list, fitness=deap_creator.FitnessMax)\n",
    "\n",
    "toolbox = deap_base.Toolbox()\n",
    "\n",
    "toolbox.register(\"attr_bool\", random.randint, 0, 1)\n",
    "toolbox.register(\n",
    "    \"individual\",\n",
    "    deap_tools.initRepeat,\n",
    "    deap_creator.Individual,\n",
    "    toolbox.attr_bool,\n",
    "    n=100,\n",
    ")\n",
    "toolbox.register(\"population\", deap_tools.initRepeat, list, toolbox.individual)\n",
    "\n",
    "\n",
    "def evalOneMax(individual):\n",
    "    return (sum(individual),)\n",
    "\n",
    "\n",
    "toolbox.register(\"evaluate\", evalOneMax)\n",
    "toolbox.register(\"mate\", deap_tools.cxTwoPoint)\n",
    "toolbox.register(\"mutate\", deap_tools.mutFlipBit, indpb=0.05)\n",
    "toolbox.register(\"select\", deap_tools.selTournament, tournsize=NTOURN)\n",
    "\n",
    "# Decorate the variation operators\n",
    "history = deap_tools.History()\n",
    "toolbox.decorate(\"mate\", history.decorator)\n",
    "\n",
    "toolbox.decorate(\"mate\", pylib.deap.hstrat_mate_decorator)\n"
   ]
  },
  {
   "cell_type": "markdown",
   "id": "a54d8402",
   "metadata": {
    "papermill": {
     "duration": 0.054752,
     "end_time": "2023-05-24T02:13:32.051831",
     "exception": false,
     "start_time": "2023-05-24T02:13:31.997079",
     "status": "completed"
    },
    "tags": []
   },
   "source": [
    "# Evolve\n"
   ]
  },
  {
   "cell_type": "code",
   "execution_count": 10,
   "id": "0b80e52e",
   "metadata": {
    "execution": {
     "iopub.execute_input": "2023-05-24T02:13:32.148311Z",
     "iopub.status.busy": "2023-05-24T02:13:32.142394Z",
     "iopub.status.idle": "2023-05-24T02:21:55.341376Z",
     "shell.execute_reply": "2023-05-24T02:21:55.342172Z"
    },
    "papermill": {
     "duration": 503.23909,
     "end_time": "2023-05-24T02:21:55.342400",
     "exception": false,
     "start_time": "2023-05-24T02:13:32.103310",
     "status": "completed"
    },
    "tags": []
   },
   "outputs": [],
   "source": [
    "# Create the population and populate the history\n",
    "population = toolbox.population(n=NPOP)\n",
    "\n",
    "species_ancestor = hstrat.HereditaryStratigraphicColumn(\n",
    "    stratum_retention_policy=hstrat.perfect_resolution_algo.Policy(),\n",
    "    stratum_differentia_bit_width=HSTRAT_DIFFERENTIA_WIDTH,\n",
    ")\n",
    "gene_ancestor = hstrat.HereditaryStratigraphicColumn(\n",
    "    stratum_retention_policy=hstrat.perfect_resolution_algo.Policy(),\n",
    "    stratum_differentia_bit_width=HSTRAT_DIFFERENTIA_WIDTH,\n",
    "    initial_stratum_annotation=0,\n",
    ")\n",
    "for member in population:\n",
    "    member.species_annotation = species_ancestor.CloneDescendant()\n",
    "    member.gene_annotation = gene_ancestor.CloneDescendant(0)\n",
    "\n",
    "history.update(population)\n",
    "\n",
    "# Do the evolution, the decorators will take care of updating the\n",
    "# history\n",
    "if MILL_TREATMENT_NAME == \"bag\":\n",
    "    for _gen in range(NGEN):\n",
    "        offspring = deap_algorithms.varAnd(\n",
    "            population,\n",
    "            toolbox,\n",
    "            cxpb=1.0,\n",
    "            mutpb=1.0,\n",
    "        )\n",
    "        fits = toolbox.map(toolbox.evaluate, offspring)\n",
    "        for fit, ind in zip(fits, offspring):\n",
    "            ind.fitness.values = fit\n",
    "        population = toolbox.select(offspring, k=NPOP)\n",
    "        population = [copy.deepcopy(ind) for ind in population]\n",
    "\n",
    "elif MILL_TREATMENT_NAME == \"ring\":\n",
    "    NUM_ISLANDS = 10\n",
    "    NUM_MIGRATIONS = 1\n",
    "    slice_size = len(population) // NUM_ISLANDS\n",
    "    for gen in tqdm(range(NGEN)):\n",
    "        for slice_ in pylib.util.iter_slices(len(population), slice_size):\n",
    "            subpopulation = population[slice_]\n",
    "            offspring = deap_algorithms.varAnd(\n",
    "                subpopulation, toolbox, cxpb=1.0, mutpb=1.0\n",
    "            )\n",
    "            fits = toolbox.map(toolbox.evaluate, offspring)\n",
    "            for fit, ind in zip(fits, offspring):\n",
    "                ind.fitness.values = fit\n",
    "            subpopulation = toolbox.select(offspring, k=len(subpopulation))\n",
    "            population[slice_] = [copy.deepcopy(ind) for ind in subpopulation]\n",
    "\n",
    "        for m in range(NUM_MIGRATIONS):\n",
    "            displacement = random.randrange(slice_size, 2 * slice_size)\n",
    "            a = random.randrange(len(population))\n",
    "            b = (a + displacement) % len(population)\n",
    "            population[a], population[b] = population[b], population[a]\n",
    "\n",
    "    from_subpopulations = []\n",
    "    for i in range(0, len(population), slice_size):\n",
    "        subpopulation = population[i : i + slice_size]\n",
    "        from_subpopulations.extend(subpopulation)\n",
    "    population = from_subpopulations\n",
    "\n",
    "elif MILL_TREATMENT_NAME == \"allopatry\":\n",
    "    # sympatry\n",
    "    for gen in tqdm(range(NGEN // 2)):\n",
    "        offspring = deap_algorithms.varAnd(\n",
    "            population, toolbox, cxpb=1.0, mutpb=1.0\n",
    "        )\n",
    "        fits = toolbox.map(toolbox.evaluate, offspring)\n",
    "\n",
    "        for fit, ind in zip(fits, offspring):\n",
    "            ind.fitness.values = fit\n",
    "        population = toolbox.select(offspring, k=len(population))\n",
    "        population = [copy.deepcopy(ind) for ind in population]\n",
    "\n",
    "    # two-island allopatry\n",
    "    slice_size = NPOP // 2\n",
    "    from_subpopulations = []\n",
    "    for i in range(0, len(population), slice_size):\n",
    "        subpopulation = population[i : i + slice_size]\n",
    "        for gen in tqdm(range(NGEN // 4)):\n",
    "            offspring = deap_algorithms.varAnd(\n",
    "                subpopulation, toolbox, cxpb=1.0, mutpb=1.0\n",
    "            )\n",
    "            fits = toolbox.map(toolbox.evaluate, offspring)\n",
    "            for fit, ind in zip(fits, offspring):\n",
    "                ind.fitness.values = fit\n",
    "            subpopulation = toolbox.select(offspring, k=len(subpopulation))\n",
    "            subpopulation = [copy.deepcopy(ind) for ind in subpopulation]\n",
    "\n",
    "        from_subpopulations.extend(subpopulation)\n",
    "    population = from_subpopulations\n",
    "\n",
    "    # three-island allopatry: left island\n",
    "    slice_size = NPOP // 2\n",
    "    from_subpopulations = []\n",
    "    for i in range(0, len(population) // 2, slice_size):\n",
    "        subpopulation = population[i : i + slice_size]\n",
    "        for gen in tqdm(range(NGEN // 4)):\n",
    "            offspring = deap_algorithms.varAnd(\n",
    "                subpopulation, toolbox, cxpb=1.0, mutpb=1.0\n",
    "            )\n",
    "            fits = toolbox.map(toolbox.evaluate, offspring)\n",
    "            for fit, ind in zip(fits, offspring):\n",
    "                ind.fitness.values = fit\n",
    "            subpopulation = toolbox.select(offspring, k=len(subpopulation))\n",
    "            subpopulation = [copy.deepcopy(ind) for ind in subpopulation]\n",
    "\n",
    "        from_subpopulations.extend(subpopulation)\n",
    "\n",
    "    # three-island allopatry: right five islands\n",
    "    slice_size = NPOP // 10\n",
    "    for i in range(len(population) // 2, len(population), slice_size):\n",
    "        subpopulation = population[i : i + slice_size]\n",
    "        for gen in tqdm(range(NGEN // 4)):\n",
    "            offspring = deap_algorithms.varAnd(\n",
    "                subpopulation, toolbox, cxpb=1.0, mutpb=1.0\n",
    "            )\n",
    "            fits = toolbox.map(toolbox.evaluate, offspring)\n",
    "            for fit, ind in zip(fits, offspring):\n",
    "                ind.fitness.values = fit\n",
    "            subpopulation = toolbox.select(offspring, k=len(subpopulation))\n",
    "            subpopulation = [copy.deepcopy(ind) for ind in subpopulation]\n",
    "\n",
    "        from_subpopulations.extend(subpopulation)\n",
    "\n",
    "    population = from_subpopulations\n",
    "\n",
    "else:\n",
    "    assert False, MILL_TREATMENT_NAME\n",
    "\n",
    "# ensure all extant organisms registered with phylogeny tracker\n",
    "for x in population:\n",
    "    history.update([x])\n"
   ]
  },
  {
   "cell_type": "markdown",
   "id": "0a4e1f7a",
   "metadata": {
    "papermill": {
     "duration": 0.046401,
     "end_time": "2023-05-24T02:21:55.465383",
     "exception": false,
     "start_time": "2023-05-24T02:21:55.418982",
     "status": "completed"
    },
    "tags": []
   },
   "source": [
    "# Reconstruction\n"
   ]
  },
  {
   "cell_type": "code",
   "execution_count": 11,
   "id": "43f30c84",
   "metadata": {
    "execution": {
     "iopub.execute_input": "2023-05-24T02:21:55.605690Z",
     "iopub.status.busy": "2023-05-24T02:21:55.604685Z",
     "iopub.status.idle": "2023-05-24T02:21:57.806667Z",
     "shell.execute_reply": "2023-05-24T02:21:57.807517Z"
    },
    "papermill": {
     "duration": 2.284469,
     "end_time": "2023-05-24T02:21:57.807744",
     "exception": false,
     "start_time": "2023-05-24T02:21:55.523275",
     "status": "completed"
    },
    "tags": []
   },
   "outputs": [
    {
     "data": {
      "text/html": [
       "<div>\n",
       "<style scoped>\n",
       "    .dataframe tbody tr th:only-of-type {\n",
       "        vertical-align: middle;\n",
       "    }\n",
       "\n",
       "    .dataframe tbody tr th {\n",
       "        vertical-align: top;\n",
       "    }\n",
       "\n",
       "    .dataframe thead th {\n",
       "        text-align: right;\n",
       "    }\n",
       "</style>\n",
       "<table border=\"1\" class=\"dataframe\">\n",
       "  <thead>\n",
       "    <tr style=\"text-align: right;\">\n",
       "      <th></th>\n",
       "      <th>id</th>\n",
       "      <th>ancestor_list</th>\n",
       "      <th>origin_time</th>\n",
       "      <th>taxon_label</th>\n",
       "      <th>ancestor_id</th>\n",
       "      <th>name</th>\n",
       "    </tr>\n",
       "  </thead>\n",
       "  <tbody>\n",
       "    <tr>\n",
       "      <th>0</th>\n",
       "      <td>0</td>\n",
       "      <td>[none]</td>\n",
       "      <td>0.0</td>\n",
       "      <td>Root</td>\n",
       "      <td>0</td>\n",
       "      <td>Root</td>\n",
       "    </tr>\n",
       "    <tr>\n",
       "      <th>194</th>\n",
       "      <td>194</td>\n",
       "      <td>[0]</td>\n",
       "      <td>193.0</td>\n",
       "      <td>Inner+r=193+d=Py5iu1deArP+uid=Dknfa7gDr1BlE2v2...</td>\n",
       "      <td>0</td>\n",
       "      <td>Inner+r=193+d=Py5iu1deArP+uid=Dknfa7gDr1BlE2v2...</td>\n",
       "    </tr>\n",
       "    <tr>\n",
       "      <th>195</th>\n",
       "      <td>195</td>\n",
       "      <td>[194]</td>\n",
       "      <td>194.0</td>\n",
       "      <td>Inner+r=194+d=Pt0kWL4H6K5+uid=DuG4zEcDWKJ-uhqd...</td>\n",
       "      <td>194</td>\n",
       "      <td>Inner+r=194+d=Pt0kWL4H6K5+uid=DuG4zEcDWKJ-uhqd...</td>\n",
       "    </tr>\n",
       "    <tr>\n",
       "      <th>196</th>\n",
       "      <td>196</td>\n",
       "      <td>[194]</td>\n",
       "      <td>194.0</td>\n",
       "      <td>Inner+r=194+d=PdXnkHizQH3+uid=BtP61MQCcFRifhJa...</td>\n",
       "      <td>194</td>\n",
       "      <td>Inner+r=194+d=PdXnkHizQH3+uid=BtP61MQCcFRifhJa...</td>\n",
       "    </tr>\n",
       "    <tr>\n",
       "      <th>197</th>\n",
       "      <td>197</td>\n",
       "      <td>[194]</td>\n",
       "      <td>194.0</td>\n",
       "      <td>Inner+r=194+d=P7k8oMaHvWN+uid=Vbqt56bFh9Lyl-Ht...</td>\n",
       "      <td>194</td>\n",
       "      <td>Inner+r=194+d=P7k8oMaHvWN+uid=Vbqt56bFh9Lyl-Ht...</td>\n",
       "    </tr>\n",
       "    <tr>\n",
       "      <th>...</th>\n",
       "      <td>...</td>\n",
       "      <td>...</td>\n",
       "      <td>...</td>\n",
       "      <td>...</td>\n",
       "      <td>...</td>\n",
       "      <td>...</td>\n",
       "    </tr>\n",
       "    <tr>\n",
       "      <th>566</th>\n",
       "      <td>566</td>\n",
       "      <td>[226]</td>\n",
       "      <td>201.0</td>\n",
       "      <td>20166</td>\n",
       "      <td>226</td>\n",
       "      <td>20166</td>\n",
       "    </tr>\n",
       "    <tr>\n",
       "      <th>567</th>\n",
       "      <td>567</td>\n",
       "      <td>[369]</td>\n",
       "      <td>201.0</td>\n",
       "      <td>20151</td>\n",
       "      <td>369</td>\n",
       "      <td>20151</td>\n",
       "    </tr>\n",
       "    <tr>\n",
       "      <th>568</th>\n",
       "      <td>568</td>\n",
       "      <td>[369]</td>\n",
       "      <td>201.0</td>\n",
       "      <td>20140</td>\n",
       "      <td>369</td>\n",
       "      <td>20140</td>\n",
       "    </tr>\n",
       "    <tr>\n",
       "      <th>569</th>\n",
       "      <td>569</td>\n",
       "      <td>[369]</td>\n",
       "      <td>201.0</td>\n",
       "      <td>20136</td>\n",
       "      <td>369</td>\n",
       "      <td>20136</td>\n",
       "    </tr>\n",
       "    <tr>\n",
       "      <th>570</th>\n",
       "      <td>570</td>\n",
       "      <td>[227]</td>\n",
       "      <td>201.0</td>\n",
       "      <td>20184</td>\n",
       "      <td>227</td>\n",
       "      <td>20184</td>\n",
       "    </tr>\n",
       "  </tbody>\n",
       "</table>\n",
       "<p>154 rows × 6 columns</p>\n",
       "</div>"
      ],
      "text/plain": [
       "      id ancestor_list  origin_time  \\\n",
       "0      0        [none]          0.0   \n",
       "194  194           [0]        193.0   \n",
       "195  195         [194]        194.0   \n",
       "196  196         [194]        194.0   \n",
       "197  197         [194]        194.0   \n",
       "..   ...           ...          ...   \n",
       "566  566         [226]        201.0   \n",
       "567  567         [369]        201.0   \n",
       "568  568         [369]        201.0   \n",
       "569  569         [369]        201.0   \n",
       "570  570         [227]        201.0   \n",
       "\n",
       "                                           taxon_label  ancestor_id  \\\n",
       "0                                                 Root            0   \n",
       "194  Inner+r=193+d=Py5iu1deArP+uid=Dknfa7gDr1BlE2v2...            0   \n",
       "195  Inner+r=194+d=Pt0kWL4H6K5+uid=DuG4zEcDWKJ-uhqd...          194   \n",
       "196  Inner+r=194+d=PdXnkHizQH3+uid=BtP61MQCcFRifhJa...          194   \n",
       "197  Inner+r=194+d=P7k8oMaHvWN+uid=Vbqt56bFh9Lyl-Ht...          194   \n",
       "..                                                 ...          ...   \n",
       "566                                              20166          226   \n",
       "567                                              20151          369   \n",
       "568                                              20140          369   \n",
       "569                                              20136          369   \n",
       "570                                              20184          227   \n",
       "\n",
       "                                                  name  \n",
       "0                                                 Root  \n",
       "194  Inner+r=193+d=Py5iu1deArP+uid=Dknfa7gDr1BlE2v2...  \n",
       "195  Inner+r=194+d=Pt0kWL4H6K5+uid=DuG4zEcDWKJ-uhqd...  \n",
       "196  Inner+r=194+d=PdXnkHizQH3+uid=BtP61MQCcFRifhJa...  \n",
       "197  Inner+r=194+d=P7k8oMaHvWN+uid=Vbqt56bFh9Lyl-Ht...  \n",
       "..                                                 ...  \n",
       "566                                              20166  \n",
       "567                                              20151  \n",
       "568                                              20140  \n",
       "569                                              20136  \n",
       "570                                              20184  \n",
       "\n",
       "[154 rows x 6 columns]"
      ]
     },
     "execution_count": 11,
     "metadata": {},
     "output_type": "execute_result"
    }
   ],
   "source": [
    "extant_nodes = [individual.history_index for individual in population]\n",
    "reconstructed_df = hstrat.build_tree(\n",
    "    [individual.species_annotation for individual in population],\n",
    "    version_pin=hstrat.__version__,\n",
    "    force_common_ancestry=True,\n",
    "    taxon_labels=map(str, extant_nodes),\n",
    ")\n",
    "reconstructed_df[\"name\"] = reconstructed_df[\"taxon_label\"]\n",
    "reconstructed_df.to_csv(\n",
    "    kn.pack(\n",
    "        {\n",
    "            \"a\": \"phylogeny\",\n",
    "            \"notebook\": \"species-inference\",\n",
    "            \"replicate\": str(MILL_REPLICATE),\n",
    "            \"treatment\": MILL_TREATMENT_NAME,\n",
    "            \"type\": \"reconstruction\",\n",
    "            \"ext\": \".csv\",\n",
    "        }\n",
    "    )\n",
    ")\n",
    "reconstructed_df\n"
   ]
  },
  {
   "cell_type": "code",
   "execution_count": 12,
   "id": "1bac4104",
   "metadata": {
    "execution": {
     "iopub.execute_input": "2023-05-24T02:21:57.925194Z",
     "iopub.status.busy": "2023-05-24T02:21:57.924106Z",
     "iopub.status.idle": "2023-05-24T02:22:01.769864Z",
     "shell.execute_reply": "2023-05-24T02:22:01.770619Z"
    },
    "papermill": {
     "duration": 3.91935,
     "end_time": "2023-05-24T02:22:01.770848",
     "exception": false,
     "start_time": "2023-05-24T02:21:57.851498",
     "status": "completed"
    },
    "tags": []
   },
   "outputs": [
    {
     "name": "stdout",
     "output_type": "stream",
     "text": [
      "teeplots/./notebook=species-inference+replicate=5+treatment=bag+type=reconstruction+viz=draw-biopython-tree+ext=.pdf\n"
     ]
    },
    {
     "name": "stdout",
     "output_type": "stream",
     "text": [
      "teeplots/./notebook=species-inference+replicate=5+treatment=bag+type=reconstruction+viz=draw-biopython-tree+ext=.png\n"
     ]
    },
    {
     "data": {
      "image/png": "[encoded data removed]",
      "text/plain": [
       "<Figure size 468x288 with 1 Axes>"
      ]
     },
     "metadata": {
      "needs_background": "light"
     },
     "output_type": "display_data"
    }
   ],
   "source": [
    "reconstructed_tree = apc.alife_dataframe_to_biopython_tree(\n",
    "    reconstructed_df, setup_branch_lengths=True\n",
    ")\n",
    "BioPhylo.write(\n",
    "    reconstructed_tree,\n",
    "    kn.pack(\n",
    "        {\n",
    "            \"a\": \"phylogeny\",\n",
    "            \"notebook\": \"species-inference\",\n",
    "            \"replicate\": str(MILL_REPLICATE),\n",
    "            \"treatment\": MILL_TREATMENT_NAME,\n",
    "            \"type\": \"reconstruction\",\n",
    "            \"ext\": \".nwk\",\n",
    "        }\n",
    "    ),\n",
    "    'newick',\n",
    ")\n",
    "tp.tee(\n",
    "    pylib.tree.draw_biopython_tree,\n",
    "    reconstructed_tree,\n",
    "    teeplot_outattrs={\n",
    "        \"notebook\": \"species-inference\",\n",
    "        \"replicate\": str(MILL_REPLICATE),\n",
    "        \"treatment\": MILL_TREATMENT_NAME,\n",
    "        \"type\": \"reconstruction\",\n",
    "    },\n",
    ")\n"
   ]
  },
  {
   "cell_type": "code",
   "execution_count": 13,
   "id": "b03e9419",
   "metadata": {
    "execution": {
     "iopub.execute_input": "2023-05-24T02:22:01.892851Z",
     "iopub.status.busy": "2023-05-24T02:22:01.875691Z",
     "iopub.status.idle": "2023-05-24T02:22:04.393865Z",
     "shell.execute_reply": "2023-05-24T02:22:04.394743Z"
    },
    "papermill": {
     "duration": 2.582265,
     "end_time": "2023-05-24T02:22:04.394987",
     "exception": false,
     "start_time": "2023-05-24T02:22:01.812722",
     "status": "completed"
    },
    "tags": []
   },
   "outputs": [
    {
     "name": "stdout",
     "output_type": "stream",
     "text": [
      "teeplots/./drop_overlapping_labels=true+notebook=species-inference+replicate=5+treatment=bag+type=reconstruction+viz=draw-biopython-tree+ext=.pdf\n"
     ]
    },
    {
     "name": "stdout",
     "output_type": "stream",
     "text": [
      "teeplots/./drop_overlapping_labels=true+notebook=species-inference+replicate=5+treatment=bag+type=reconstruction+viz=draw-biopython-tree+ext=.png\n"
     ]
    },
    {
     "data": {
      "image/png": "[encoded data removed]",
      "text/plain": [
       "<Figure size 650x400 with 1 Axes>"
      ]
     },
     "metadata": {},
     "output_type": "display_data"
    }
   ],
   "source": [
    "reconstructed_tree = apc.alife_dataframe_to_biopython_tree(\n",
    "    reconstructed_df, setup_branch_lengths=True\n",
    ")\n",
    "tp.tee(\n",
    "    pylib.tree.draw_biopython_tree,\n",
    "    reconstructed_tree,\n",
    "    drop_overlapping_labels=True,\n",
    "    teeplot_outattrs={\n",
    "        \"drop_overlapping_labels\": \"true\",\n",
    "        \"notebook\": \"species-inference\",\n",
    "        \"replicate\": str(MILL_REPLICATE),\n",
    "        \"treatment\": MILL_TREATMENT_NAME,\n",
    "        \"type\": \"reconstruction\",\n",
    "    },\n",
    ")\n"
   ]
  },
  {
   "cell_type": "code",
   "execution_count": 14,
   "id": "64c9b2e7",
   "metadata": {
    "execution": {
     "iopub.execute_input": "2023-05-24T02:22:04.515714Z",
     "iopub.status.busy": "2023-05-24T02:22:04.513051Z",
     "iopub.status.idle": "2023-05-24T02:22:06.413694Z",
     "shell.execute_reply": "2023-05-24T02:22:06.414420Z"
    },
    "papermill": {
     "duration": 1.970195,
     "end_time": "2023-05-24T02:22:06.414660",
     "exception": false,
     "start_time": "2023-05-24T02:22:04.444465",
     "status": "completed"
    },
    "tags": []
   },
   "outputs": [
    {
     "name": "stdout",
     "output_type": "stream",
     "text": [
      "teeplots/./max_leaves=20+notebook=species-inference+replicate=5+treatment=bag+type=reconstruction+viz=draw-biopython-tree+ext=.pdf\n"
     ]
    },
    {
     "name": "stdout",
     "output_type": "stream",
     "text": [
      "teeplots/./max_leaves=20+notebook=species-inference+replicate=5+treatment=bag+type=reconstruction+viz=draw-biopython-tree+ext=.png\n"
     ]
    },
    {
     "data": {
      "image/png": "[encoded data removed]",
      "text/plain": [
       "<Figure size 650x400 with 1 Axes>"
      ]
     },
     "metadata": {},
     "output_type": "display_data"
    }
   ],
   "source": [
    "reconstructed_tree = apc.alife_dataframe_to_biopython_tree(\n",
    "    reconstructed_df, setup_branch_lengths=True\n",
    ")\n",
    "tp.tee(\n",
    "    pylib.tree.draw_biopython_tree,\n",
    "    reconstructed_tree,\n",
    "    max_leaves=20,\n",
    "    teeplot_outattrs={\n",
    "        \"max_leaves\": \"20\",\n",
    "        \"notebook\": \"species-inference\",\n",
    "        \"replicate\": str(MILL_REPLICATE),\n",
    "        \"treatment\": MILL_TREATMENT_NAME,\n",
    "        \"type\": \"reconstruction\",\n",
    "    },\n",
    ")\n"
   ]
  },
  {
   "cell_type": "markdown",
   "id": "d0850522",
   "metadata": {
    "papermill": {
     "duration": 0.05434,
     "end_time": "2023-05-24T02:22:06.522577",
     "exception": false,
     "start_time": "2023-05-24T02:22:06.468237",
     "status": "completed"
    },
    "tags": []
   },
   "source": [
    "# Actual Pedigree\n"
   ]
  },
  {
   "cell_type": "code",
   "execution_count": 15,
   "id": "6fe19ea6",
   "metadata": {
    "execution": {
     "iopub.execute_input": "2023-05-24T02:22:06.655983Z",
     "iopub.status.busy": "2023-05-24T02:22:06.650127Z",
     "iopub.status.idle": "2023-05-24T02:22:18.449134Z",
     "shell.execute_reply": "2023-05-24T02:22:18.450102Z"
    },
    "papermill": {
     "duration": 11.872285,
     "end_time": "2023-05-24T02:22:18.450315",
     "exception": false,
     "start_time": "2023-05-24T02:22:06.578030",
     "status": "completed"
    },
    "tags": []
   },
   "outputs": [
    {
     "data": {
      "text/plain": [
       "1"
      ]
     },
     "execution_count": 15,
     "metadata": {},
     "output_type": "execute_result"
    }
   ],
   "source": [
    "distilled_tree = pylib.deap.history_to_tree_upgma(history, extant_nodes)\n",
    "BioPhylo.write(\n",
    "    distilled_tree,\n",
    "    kn.pack(\n",
    "        {\n",
    "            \"a\": \"phylogeny\",\n",
    "            \"notebook\": \"species-inference\",\n",
    "            \"replicate\": str(MILL_REPLICATE),\n",
    "            \"treatment\": MILL_TREATMENT_NAME,\n",
    "            \"type\": \"distilled-pedigree\",\n",
    "            \"ext\": \".nwk\",\n",
    "        }\n",
    "    ),\n",
    "    'newick',\n",
    ")\n"
   ]
  },
  {
   "cell_type": "code",
   "execution_count": 16,
   "id": "a1d3b512",
   "metadata": {
    "execution": {
     "iopub.execute_input": "2023-05-24T02:22:18.601379Z",
     "iopub.status.busy": "2023-05-24T02:22:18.600406Z",
     "iopub.status.idle": "2023-05-24T02:22:23.189232Z",
     "shell.execute_reply": "2023-05-24T02:22:23.190039Z"
    },
    "papermill": {
     "duration": 4.682107,
     "end_time": "2023-05-24T02:22:23.190263",
     "exception": false,
     "start_time": "2023-05-24T02:22:18.508156",
     "status": "completed"
    },
    "tags": []
   },
   "outputs": [
    {
     "name": "stdout",
     "output_type": "stream",
     "text": [
      "teeplots/./notebook=species-inference+replicate=5+treatment=bag+type=distilled-reference+viz=draw-biopython-tree+ext=.pdf\n"
     ]
    },
    {
     "name": "stdout",
     "output_type": "stream",
     "text": [
      "teeplots/./notebook=species-inference+replicate=5+treatment=bag+type=distilled-reference+viz=draw-biopython-tree+ext=.png\n"
     ]
    },
    {
     "data": {
      "image/png": "[encoded data removed]",
      "text/plain": [
       "<Figure size 650x400 with 1 Axes>"
      ]
     },
     "metadata": {},
     "output_type": "display_data"
    }
   ],
   "source": [
    "tp.tee(\n",
    "    pylib.tree.draw_biopython_tree,\n",
    "    distilled_tree,\n",
    "    teeplot_outattrs={\n",
    "        \"notebook\": \"species-inference\",\n",
    "        \"replicate\": str(MILL_REPLICATE),\n",
    "        \"treatment\": MILL_TREATMENT_NAME,\n",
    "        \"type\": \"distilled-reference\",\n",
    "    },\n",
    ")\n"
   ]
  },
  {
   "cell_type": "code",
   "execution_count": 17,
   "id": "f8b4658d",
   "metadata": {
    "execution": {
     "iopub.execute_input": "2023-05-24T02:22:23.350410Z",
     "iopub.status.busy": "2023-05-24T02:22:23.349282Z",
     "iopub.status.idle": "2023-05-24T02:22:25.812430Z",
     "shell.execute_reply": "2023-05-24T02:22:25.813487Z"
    },
    "papermill": {
     "duration": 2.553635,
     "end_time": "2023-05-24T02:22:25.813798",
     "exception": false,
     "start_time": "2023-05-24T02:22:23.260163",
     "status": "completed"
    },
    "tags": []
   },
   "outputs": [
    {
     "name": "stdout",
     "output_type": "stream",
     "text": [
      "teeplots/./max_leaves=20+notebook=species-inference+replicate=5+treatment=bag+type=distilled-reference+viz=draw-biopython-tree+ext=.pdf\n"
     ]
    },
    {
     "name": "stdout",
     "output_type": "stream",
     "text": [
      "teeplots/./max_leaves=20+notebook=species-inference+replicate=5+treatment=bag+type=distilled-reference+viz=draw-biopython-tree+ext=.png\n"
     ]
    },
    {
     "data": {
      "image/png": "[encoded data removed]",
      "text/plain": [
       "<Figure size 650x400 with 1 Axes>"
      ]
     },
     "metadata": {},
     "output_type": "display_data"
    }
   ],
   "source": [
    "tp.tee(\n",
    "    pylib.tree.draw_biopython_tree,\n",
    "    distilled_tree,\n",
    "    max_leaves=20,\n",
    "    teeplot_outattrs={\n",
    "        \"max_leaves\": \"20\",\n",
    "        \"notebook\": \"species-inference\",\n",
    "        \"replicate\": str(MILL_REPLICATE),\n",
    "        \"treatment\": MILL_TREATMENT_NAME,\n",
    "        \"type\": \"distilled-reference\",\n",
    "    },\n",
    ")\n"
   ]
  },
  {
   "cell_type": "code",
   "execution_count": 18,
   "id": "7df5c73e",
   "metadata": {
    "execution": {
     "iopub.execute_input": "2023-05-24T02:22:26.023744Z",
     "iopub.status.busy": "2023-05-24T02:22:26.022376Z",
     "iopub.status.idle": "2023-05-24T02:22:29.342233Z",
     "shell.execute_reply": "2023-05-24T02:22:29.344255Z"
    },
    "papermill": {
     "duration": 3.433236,
     "end_time": "2023-05-24T02:22:29.344549",
     "exception": false,
     "start_time": "2023-05-24T02:22:25.911313",
     "status": "completed"
    },
    "tags": []
   },
   "outputs": [
    {
     "name": "stdout",
     "output_type": "stream",
     "text": [
      "teeplots/./drop_overlapping_labels=true+notebook=species-inference+replicate=5+treatment=bag+type=distilled-reference+viz=draw-biopython-tree+ext=.pdf\n"
     ]
    },
    {
     "name": "stdout",
     "output_type": "stream",
     "text": [
      "teeplots/./drop_overlapping_labels=true+notebook=species-inference+replicate=5+treatment=bag+type=distilled-reference+viz=draw-biopython-tree+ext=.png\n"
     ]
    },
    {
     "data": {
      "image/png": "[encoded data removed]",
      "text/plain": [
       "<Figure size 650x400 with 1 Axes>"
      ]
     },
     "metadata": {},
     "output_type": "display_data"
    }
   ],
   "source": [
    "tp.tee(\n",
    "    pylib.tree.draw_biopython_tree,\n",
    "    distilled_tree,\n",
    "    drop_overlapping_labels=True,\n",
    "    teeplot_outattrs={\n",
    "        \"drop_overlapping_labels\": \"true\",\n",
    "        \"notebook\": \"species-inference\",\n",
    "        \"replicate\": str(MILL_REPLICATE),\n",
    "        \"treatment\": MILL_TREATMENT_NAME,\n",
    "        \"type\": \"distilled-reference\",\n",
    "    },\n",
    ")\n"
   ]
  },
  {
   "cell_type": "code",
   "execution_count": 19,
   "id": "2ee95347",
   "metadata": {
    "execution": {
     "iopub.execute_input": "2023-05-24T02:22:29.554136Z",
     "iopub.status.busy": "2023-05-24T02:22:29.548009Z",
     "iopub.status.idle": "2023-05-24T02:22:46.398425Z",
     "shell.execute_reply": "2023-05-24T02:22:46.397752Z"
    },
    "papermill": {
     "duration": 16.957069,
     "end_time": "2023-05-24T02:22:46.398638",
     "exception": false,
     "start_time": "2023-05-24T02:22:29.441569",
     "status": "completed"
    },
    "tags": []
   },
   "outputs": [
    {
     "data": {
      "text/plain": [
       "0.5474852883983959"
      ]
     },
     "execution_count": 19,
     "metadata": {},
     "output_type": "execute_result"
    }
   ],
   "source": [
    "distilled_tree = pylib.deap.history_to_tree_upgma(\n",
    "    history, extant_nodes, correct_origin_times=False\n",
    ")\n",
    "BioPhylo.write(\n",
    "    distilled_tree,\n",
    "    kn.pack(\n",
    "        {\n",
    "            \"a\": \"phylogeny\",\n",
    "            \"notebook\": \"species-inference\",\n",
    "            \"replicate\": str(MILL_REPLICATE),\n",
    "            \"treatment\": MILL_TREATMENT_NAME,\n",
    "            \"type\": \"distilled-pedigree-uncorrected\",\n",
    "            \"ext\": \".nwk\",\n",
    "        }\n",
    "    ),\n",
    "    'newick',\n",
    ")\n",
    "\n",
    "quartet_dist = pylib.tree.polymorphic_quartet_distance(\n",
    "    reconstructed_tree, distilled_tree\n",
    ")\n",
    "quartet_dist\n"
   ]
  },
  {
   "cell_type": "code",
   "execution_count": 20,
   "id": "bc91c636",
   "metadata": {
    "execution": {
     "iopub.execute_input": "2023-05-24T02:22:46.520772Z",
     "iopub.status.busy": "2023-05-24T02:22:46.519497Z",
     "iopub.status.idle": "2023-05-24T02:22:46.536049Z",
     "shell.execute_reply": "2023-05-24T02:22:46.537594Z"
    },
    "papermill": {
     "duration": 0.087015,
     "end_time": "2023-05-24T02:22:46.537886",
     "exception": false,
     "start_time": "2023-05-24T02:22:46.450871",
     "status": "completed"
    },
    "tags": []
   },
   "outputs": [
    {
     "data": {
      "text/html": [
       "<div>\n",
       "<style scoped>\n",
       "    .dataframe tbody tr th:only-of-type {\n",
       "        vertical-align: middle;\n",
       "    }\n",
       "\n",
       "    .dataframe tbody tr th {\n",
       "        vertical-align: top;\n",
       "    }\n",
       "\n",
       "    .dataframe thead th {\n",
       "        text-align: right;\n",
       "    }\n",
       "</style>\n",
       "<table border=\"1\" class=\"dataframe\">\n",
       "  <thead>\n",
       "    <tr style=\"text-align: right;\">\n",
       "      <th></th>\n",
       "      <th>replicate</th>\n",
       "      <th>treatment</th>\n",
       "      <th>quartet distance</th>\n",
       "    </tr>\n",
       "  </thead>\n",
       "  <tbody>\n",
       "    <tr>\n",
       "      <th>0</th>\n",
       "      <td>5</td>\n",
       "      <td>bag</td>\n",
       "      <td>0.547485</td>\n",
       "    </tr>\n",
       "  </tbody>\n",
       "</table>\n",
       "</div>"
      ],
      "text/plain": [
       "   replicate treatment  quartet distance\n",
       "0          5       bag          0.547485"
      ]
     },
     "execution_count": 20,
     "metadata": {},
     "output_type": "execute_result"
    }
   ],
   "source": [
    "records = [\n",
    "    {\n",
    "        \"replicate\": MILL_REPLICATE,\n",
    "        \"treatment\": MILL_TREATMENT_NAME,\n",
    "        \"quartet distance\": quartet_dist,\n",
    "    }\n",
    "]\n",
    "outdf = pd.DataFrame.from_records(records)\n",
    "outdf.to_csv(\n",
    "    kn.pack(\n",
    "        {\n",
    "            \"a\": \"reconstruction-accuracy\",\n",
    "            \"notebook\": \"species-inference\",\n",
    "            \"replicate\": MILL_REPLICATE,\n",
    "            \"treatment\": MILL_TREATMENT_NAME,\n",
    "            \"ext\": \".csv\",\n",
    "        }\n",
    "    )\n",
    ")\n",
    "outdf\n"
   ]
  }
 ],
 "metadata": {
  "kernelspec": {
   "display_name": "Python 3",
   "language": "python",
   "name": "python3"
  },
  "language_info": {
   "codemirror_mode": {
    "name": "ipython",
    "version": 3
   },
   "file_extension": ".py",
   "mimetype": "text/x-python",
   "name": "python",
   "nbconvert_exporter": "python",
   "pygments_lexer": "ipython3",
   "version": "3.10.6"
  },
  "papermill": {
   "default_parameters": {},
   "duration": 573.435996,
   "end_time": "2023-05-24T02:22:49.373726",
   "environment_variables": {},
   "exception": null,
   "input_path": "species-inference.ipynb",
   "output_path": "species-inference-parameterization-5.ipynb",
   "parameters": {
    "MILL_REPLICATE": 5,
    "MILL_TREATMENT_NAME": "bag"
   },
   "start_time": "2023-05-24T02:13:15.937730",
   "version": "2.4.0"
  }
 },
 "nbformat": 4,
 "nbformat_minor": 5
}