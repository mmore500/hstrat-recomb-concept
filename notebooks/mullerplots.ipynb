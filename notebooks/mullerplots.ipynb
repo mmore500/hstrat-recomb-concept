{
 "cells": [
  {
   "cell_type": "code",
   "execution_count": 1,
   "id": "7c33ba58-3d27-41ae-95be-d48db23ff1e8",
   "metadata": {
    "execution": {
     "iopub.execute_input": "2023-05-30T21:57:06.476236Z",
     "iopub.status.busy": "2023-05-30T21:57:06.474609Z",
     "iopub.status.idle": "2023-05-30T21:57:06.480917Z",
     "shell.execute_reply": "2023-05-30T21:57:06.479561Z"
    }
   },
   "outputs": [],
   "source": [
    "# import piplite\n",
    "# await piplite.install(\"seaborn\")\n",
    "# await piplite.install(\"teeplot\")\n"
   ]
  },
  {
   "cell_type": "code",
   "execution_count": 2,
   "id": "d425c416",
   "metadata": {
    "execution": {
     "iopub.execute_input": "2023-05-30T21:57:06.495661Z",
     "iopub.status.busy": "2023-05-30T21:57:06.490403Z",
     "iopub.status.idle": "2023-05-30T21:57:07.338002Z",
     "shell.execute_reply": "2023-05-30T21:57:07.337644Z"
    }
   },
   "outputs": [],
   "source": [
    "import random\n",
    "\n",
    "from matplotlib import pyplot as plt\n",
    "import numpy as np\n",
    "import pandas as pd\n",
    "import seaborn as sns\n",
    "from teeplot import teeplot as tp\n"
   ]
  },
  {
   "cell_type": "code",
   "execution_count": 3,
   "id": "fe55883a-6887-43dd-9498-5333a51799e2",
   "metadata": {
    "execution": {
     "iopub.execute_input": "2023-05-30T21:57:07.343471Z",
     "iopub.status.busy": "2023-05-30T21:57:07.343132Z",
     "iopub.status.idle": "2023-05-30T21:57:07.344986Z",
     "shell.execute_reply": "2023-05-30T21:57:07.344659Z"
    }
   },
   "outputs": [],
   "source": [
    "random.seed(1)\n",
    "\n",
    "\n",
    "populations = [[*range(100)]]\n",
    "for generation in range(16):\n",
    "    last = populations[-1]\n",
    "    populations.append(\n",
    "        random.choices(\n",
    "            last,\n",
    "            k=len(last),\n",
    "        )\n",
    "    )\n",
    "\n",
    "records = [\n",
    "    {\n",
    "        \"generation\": generation,\n",
    "        \"clade\": individual,\n",
    "    }\n",
    "    for generation, population in enumerate(populations)\n",
    "    for individual in population\n",
    "]\n",
    "df = pd.DataFrame.from_records(records)\n"
   ]
  },
  {
   "cell_type": "code",
   "execution_count": 4,
   "id": "fa9f977a-918e-4137-92a1-339bac416fa8",
   "metadata": {
    "execution": {
     "iopub.execute_input": "2023-05-30T21:57:07.350585Z",
     "iopub.status.busy": "2023-05-30T21:57:07.350246Z",
     "iopub.status.idle": "2023-05-30T21:57:11.135921Z",
     "shell.execute_reply": "2023-05-30T21:57:11.135562Z"
    }
   },
   "outputs": [
    {
     "name": "stdout",
     "output_type": "stream",
     "text": [
      "teeplots/./fit=0.0+hue=clade+multiple=stack+ngen=16+npop=100+palette=set2+viz=histplot+x=generation+ext=.pdf\n",
      "teeplots/./fit=0.0+hue=clade+multiple=stack+ngen=16+npop=100+palette=set2+viz=histplot+x=generation+ext=.png\n"
     ]
    },
    {
     "data": {
      "text/plain": [
       "<AxesSubplot: xlabel='generation', ylabel='Count'>"
      ]
     },
     "execution_count": 4,
     "metadata": {},
     "output_type": "execute_result"
    },
    {
     "data": {
      "image/png": "[encoded data removed]",
      "text/plain": [
       "<Figure size 432x288 with 1 Axes>"
      ]
     },
     "metadata": {
      "needs_background": "light"
     },
     "output_type": "display_data"
    }
   ],
   "source": [
    "switch = 98\n",
    "df_ = df.copy()\n",
    "df_[\"clade\"] = df_[\"clade\"].apply(\n",
    "    lambda x: 0 if x == switch else switch if x == 0 else x\n",
    ")\n",
    "\n",
    "tp.tee(\n",
    "    sns.histplot,\n",
    "    data=df_,\n",
    "    x=\"generation\",\n",
    "    hue=\"clade\",\n",
    "    multiple=\"stack\",\n",
    "    binwidth=0.99,\n",
    "    palette=\"Set2\",\n",
    "    legend=False,\n",
    "    teeplot_outattrs={\n",
    "        \"ngen\": 16,\n",
    "        \"npop\": 100,\n",
    "        \"fit\": 0.0,\n",
    "    },\n",
    ")\n"
   ]
  },
  {
   "cell_type": "code",
   "execution_count": 5,
   "id": "d99d6c0d-463b-40d9-8ebe-b03accad34d0",
   "metadata": {
    "execution": {
     "iopub.execute_input": "2023-05-30T21:57:11.149126Z",
     "iopub.status.busy": "2023-05-30T21:57:11.142605Z",
     "iopub.status.idle": "2023-05-30T21:57:14.931365Z",
     "shell.execute_reply": "2023-05-30T21:57:14.931022Z"
    }
   },
   "outputs": [
    {
     "name": "stdout",
     "output_type": "stream",
     "text": [
      "teeplots/./fit=0.5+hue=clade+multiple=stack+ngen=16+npop=100+palette=set2+viz=histplot+x=generation+ext=.pdf\n",
      "teeplots/./fit=0.5+hue=clade+multiple=stack+ngen=16+npop=100+palette=set2+viz=histplot+x=generation+ext=.png\n"
     ]
    },
    {
     "data": {
      "text/plain": [
       "<AxesSubplot: xlabel='generation', ylabel='Count'>"
      ]
     },
     "execution_count": 5,
     "metadata": {},
     "output_type": "execute_result"
    },
    {
     "data": {
      "image/png": "[encoded data removed]",
      "text/plain": [
       "<Figure size 432x288 with 1 Axes>"
      ]
     },
     "metadata": {
      "needs_background": "light"
     },
     "output_type": "display_data"
    }
   ],
   "source": [
    "random.seed(2)\n",
    "\n",
    "\n",
    "populations = [[*range(100)]]\n",
    "for generation in range(16):\n",
    "    last = populations[-1]\n",
    "    populations.append(\n",
    "        [\n",
    "            0\n",
    "            if 0\n",
    "            in (\n",
    "                x := random.sample(\n",
    "                    last,\n",
    "                    k=2,\n",
    "                )\n",
    "            )\n",
    "            and random.random() < 0.5\n",
    "            else random.choice(x)\n",
    "            for __ in last\n",
    "        ]\n",
    "    )\n",
    "\n",
    "records = [\n",
    "    {\n",
    "        \"generation\": generation,\n",
    "        \"clade\": individual,\n",
    "    }\n",
    "    for generation, population in enumerate(populations)\n",
    "    for individual in population\n",
    "]\n",
    "df = pd.DataFrame.from_records(records)\n",
    "\n",
    "tp.tee(\n",
    "    sns.histplot,\n",
    "    data=df,\n",
    "    x=\"generation\",\n",
    "    hue=\"clade\",\n",
    "    multiple=\"stack\",\n",
    "    binwidth=0.99,\n",
    "    palette=\"Set2\",\n",
    "    legend=False,\n",
    "    teeplot_outattrs={\n",
    "        \"ngen\": 16,\n",
    "        \"npop\": 100,\n",
    "        \"fit\": 0.5,\n",
    "    },\n",
    ")\n"
   ]
  },
  {
   "cell_type": "code",
   "execution_count": 6,
   "id": "8aeda877",
   "metadata": {
    "execution": {
     "iopub.execute_input": "2023-05-30T21:57:14.942134Z",
     "iopub.status.busy": "2023-05-30T21:57:14.941558Z",
     "iopub.status.idle": "2023-05-30T21:57:18.616370Z",
     "shell.execute_reply": "2023-05-30T21:57:18.616014Z"
    }
   },
   "outputs": [
    {
     "name": "stdout",
     "output_type": "stream",
     "text": [
      "teeplots/./fit=1.0+hue=clade+multiple=stack+ngen=16+npop=100+palette=set2+viz=histplot+x=generation+ext=.pdf\n",
      "teeplots/./fit=1.0+hue=clade+multiple=stack+ngen=16+npop=100+palette=set2+viz=histplot+x=generation+ext=.png\n"
     ]
    },
    {
     "data": {
      "text/plain": [
       "<AxesSubplot: xlabel='generation', ylabel='Count'>"
      ]
     },
     "execution_count": 6,
     "metadata": {},
     "output_type": "execute_result"
    },
    {
     "data": {
      "image/png": "[encoded data removed]",
      "text/plain": [
       "<Figure size 432x288 with 1 Axes>"
      ]
     },
     "metadata": {
      "needs_background": "light"
     },
     "output_type": "display_data"
    }
   ],
   "source": [
    "random.seed(2)\n",
    "\n",
    "\n",
    "populations = [[*range(100)]]\n",
    "for generation in range(16):\n",
    "    last = populations[-1]\n",
    "    populations.append(\n",
    "        [\n",
    "            0\n",
    "            if 0\n",
    "            in (\n",
    "                x := random.sample(\n",
    "                    last,\n",
    "                    k=2,\n",
    "                )\n",
    "            )\n",
    "            else random.choice(x)\n",
    "            for __ in last\n",
    "        ]\n",
    "    )\n",
    "\n",
    "records = [\n",
    "    {\n",
    "        \"generation\": generation,\n",
    "        \"clade\": individual,\n",
    "    }\n",
    "    for generation, population in enumerate(populations)\n",
    "    for individual in population\n",
    "]\n",
    "df = pd.DataFrame.from_records(records)\n",
    "\n",
    "tp.tee(\n",
    "    sns.histplot,\n",
    "    data=df,\n",
    "    x=\"generation\",\n",
    "    hue=\"clade\",\n",
    "    multiple=\"stack\",\n",
    "    binwidth=0.99,\n",
    "    palette=\"Set2\",\n",
    "    legend=False,\n",
    "    teeplot_outattrs={\n",
    "        \"ngen\": 16,\n",
    "        \"npop\": 100,\n",
    "        \"fit\": 1.0,\n",
    "    },\n",
    ")\n"
   ]
  },
  {
   "cell_type": "code",
   "execution_count": 7,
   "id": "7fa39eb1-9944-4b1e-99c3-236fad25f3c9",
   "metadata": {
    "execution": {
     "iopub.execute_input": "2023-05-30T21:57:18.628724Z",
     "iopub.status.busy": "2023-05-30T21:57:18.623050Z",
     "iopub.status.idle": "2023-05-30T21:57:22.778111Z",
     "shell.execute_reply": "2023-05-30T21:57:22.777763Z"
    }
   },
   "outputs": [
    {
     "name": "stdout",
     "output_type": "stream",
     "text": [
      "teeplots/./fit=1+hue=clade+multiple=stack+ngen=50+npop=40+palette=set2+viz=histplot+x=generation+ext=.pdf\n",
      "teeplots/./fit=1+hue=clade+multiple=stack+ngen=50+npop=40+palette=set2+viz=histplot+x=generation+ext=.png\n"
     ]
    },
    {
     "data": {
      "text/plain": [
       "<AxesSubplot: xlabel='generation', ylabel='Count'>"
      ]
     },
     "execution_count": 7,
     "metadata": {},
     "output_type": "execute_result"
    },
    {
     "data": {
      "image/png": "[encoded data removed]",
      "text/plain": [
       "<Figure size 432x288 with 1 Axes>"
      ]
     },
     "metadata": {
      "needs_background": "light"
     },
     "output_type": "display_data"
    }
   ],
   "source": [
    "random.seed(9)\n",
    "\n",
    "\n",
    "populations = [[*range(40)]]\n",
    "for generation in range(50):\n",
    "    last = populations[-1]\n",
    "    populations.append(\n",
    "        [\n",
    "            0\n",
    "            if 0\n",
    "            in (\n",
    "                x := random.sample(\n",
    "                    last,\n",
    "                    k=2,\n",
    "                )\n",
    "            )\n",
    "            and random.random() < 1.0\n",
    "            else random.choice(x)\n",
    "            for __ in last\n",
    "        ]\n",
    "    )\n",
    "\n",
    "records = [\n",
    "    {\n",
    "        \"generation\": generation,\n",
    "        \"clade\": individual,\n",
    "    }\n",
    "    for generation, population in enumerate(populations)\n",
    "    for individual in population\n",
    "]\n",
    "df = pd.DataFrame.from_records(records)\n",
    "\n",
    "tp.tee(\n",
    "    sns.histplot,\n",
    "    data=df,\n",
    "    x=\"generation\",\n",
    "    hue=\"clade\",\n",
    "    multiple=\"stack\",\n",
    "    binwidth=0.999,\n",
    "    palette=\"Set2\",\n",
    "    legend=False,\n",
    "    teeplot_outattrs={\n",
    "        \"ngen\": 50,\n",
    "        \"npop\": 40,\n",
    "        \"fit\": 1,\n",
    "    },\n",
    ")\n"
   ]
  },
  {
   "cell_type": "code",
   "execution_count": 8,
   "id": "8160d217-f3e5-4616-9abc-e645cc466e0b",
   "metadata": {
    "execution": {
     "iopub.execute_input": "2023-05-30T21:57:22.790446Z",
     "iopub.status.busy": "2023-05-30T21:57:22.790079Z",
     "iopub.status.idle": "2023-05-30T21:57:27.040836Z",
     "shell.execute_reply": "2023-05-30T21:57:27.040470Z"
    }
   },
   "outputs": [
    {
     "name": "stdout",
     "output_type": "stream",
     "text": [
      "teeplots/./fit=0.4+hue=clade+multiple=stack+ngen=50+npop=40+palette=set2+viz=histplot+x=generation+ext=.pdf\n",
      "teeplots/./fit=0.4+hue=clade+multiple=stack+ngen=50+npop=40+palette=set2+viz=histplot+x=generation+ext=.png\n"
     ]
    },
    {
     "data": {
      "text/plain": [
       "<AxesSubplot: xlabel='generation', ylabel='Count'>"
      ]
     },
     "execution_count": 8,
     "metadata": {},
     "output_type": "execute_result"
    },
    {
     "data": {
      "image/png": "[encoded data removed]",
      "text/plain": [
       "<Figure size 432x288 with 1 Axes>"
      ]
     },
     "metadata": {
      "needs_background": "light"
     },
     "output_type": "display_data"
    }
   ],
   "source": [
    "random.seed(9)\n",
    "\n",
    "populations = [[*range(40)]]\n",
    "for generation in range(50):\n",
    "    last = populations[-1]\n",
    "    populations.append(\n",
    "        [\n",
    "            0\n",
    "            if 0\n",
    "            in (\n",
    "                x := random.sample(\n",
    "                    last,\n",
    "                    k=2,\n",
    "                )\n",
    "            )\n",
    "            and random.random() < 0.4\n",
    "            else random.choice(x)\n",
    "            for __ in last\n",
    "        ]\n",
    "    )\n",
    "\n",
    "records = [\n",
    "    {\n",
    "        \"generation\": generation,\n",
    "        \"clade\": individual,\n",
    "    }\n",
    "    for generation, population in enumerate(populations)\n",
    "    for individual in population\n",
    "]\n",
    "df = pd.DataFrame.from_records(records)\n",
    "\n",
    "\n",
    "tp.tee(\n",
    "    sns.histplot,\n",
    "    data=df,\n",
    "    x=\"generation\",\n",
    "    hue=\"clade\",\n",
    "    multiple=\"stack\",\n",
    "    binwidth=0.999,\n",
    "    palette=\"Set2\",\n",
    "    legend=False,\n",
    "    teeplot_outattrs={\n",
    "        \"ngen\": 50,\n",
    "        \"npop\": 40,\n",
    "        \"fit\": 0.4,\n",
    "    },\n",
    ")\n"
   ]
  },
  {
   "cell_type": "code",
   "execution_count": 9,
   "id": "634eb818-2df2-4968-b0e3-6a6d2c371eec",
   "metadata": {
    "execution": {
     "iopub.execute_input": "2023-05-30T21:57:27.053994Z",
     "iopub.status.busy": "2023-05-30T21:57:27.053368Z",
     "iopub.status.idle": "2023-05-30T21:57:31.301168Z",
     "shell.execute_reply": "2023-05-30T21:57:31.300814Z"
    }
   },
   "outputs": [
    {
     "name": "stdout",
     "output_type": "stream",
     "text": [
      "teeplots/./fit=0+hue=clade+multiple=stack+ngen=50+npop=40+palette=set2+viz=histplot+x=generation+ext=.pdf\n",
      "teeplots/./fit=0+hue=clade+multiple=stack+ngen=50+npop=40+palette=set2+viz=histplot+x=generation+ext=.png\n"
     ]
    },
    {
     "data": {
      "text/plain": [
       "<AxesSubplot: xlabel='generation', ylabel='Count'>"
      ]
     },
     "execution_count": 9,
     "metadata": {},
     "output_type": "execute_result"
    },
    {
     "data": {
      "image/png": "[encoded data removed]",
      "text/plain": [
       "<Figure size 432x288 with 1 Axes>"
      ]
     },
     "metadata": {
      "needs_background": "light"
     },
     "output_type": "display_data"
    }
   ],
   "source": [
    "random.seed(9)\n",
    "\n",
    "populations = [[*range(40)]]\n",
    "for generation in range(50):\n",
    "    last = populations[-1]\n",
    "    populations.append(random.choices(last, k=len(last)))\n",
    "\n",
    "records = [\n",
    "    {\n",
    "        \"generation\": generation,\n",
    "        \"clade\": individual,\n",
    "    }\n",
    "    for generation, population in enumerate(populations)\n",
    "    for individual in population\n",
    "]\n",
    "\n",
    "df = pd.DataFrame.from_records(records)\n",
    "\n",
    "switch = 18\n",
    "df_ = df.copy()\n",
    "df_[\"clade\"] = df_[\"clade\"].apply(\n",
    "    lambda x: 0 if x == switch else switch if x == 0 else x\n",
    ")\n",
    "\n",
    "tp.tee(\n",
    "    sns.histplot,\n",
    "    data=df_,\n",
    "    x=\"generation\",\n",
    "    hue=\"clade\",\n",
    "    multiple=\"stack\",\n",
    "    binwidth=0.999,\n",
    "    palette=\"Set2\",\n",
    "    legend=False,\n",
    "    teeplot_outattrs={\n",
    "        \"ngen\": 50,\n",
    "        \"npop\": 40,\n",
    "        \"fit\": 0,\n",
    "    },\n",
    ")\n"
   ]
  }
 ],
 "metadata": {
  "kernelspec": {
   "display_name": "Python 3",
   "language": "python",
   "name": "python3"
  },
  "language_info": {
   "codemirror_mode": {
    "name": "ipython",
    "version": 3
   },
   "file_extension": ".py",
   "mimetype": "text/x-python",
   "name": "python",
   "nbconvert_exporter": "python",
   "pygments_lexer": "ipython3",
   "version": "3.10.6"
  }
 },
 "nbformat": 4,
 "nbformat_minor": 5
}
