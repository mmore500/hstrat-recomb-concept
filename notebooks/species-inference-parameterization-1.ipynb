{
 "cells": [
  {
   "cell_type": "code",
   "execution_count": 1,
   "id": "c3a1454d",
   "metadata": {
    "execution": {
     "iopub.execute_input": "2023-05-24T02:36:48.625398Z",
     "iopub.status.busy": "2023-05-24T02:36:48.624035Z",
     "iopub.status.idle": "2023-05-24T02:36:50.871041Z",
     "shell.execute_reply": "2023-05-24T02:36:50.872991Z"
    },
    "papermill": {
     "duration": 2.33114,
     "end_time": "2023-05-24T02:36:50.873404",
     "exception": false,
     "start_time": "2023-05-24T02:36:48.542264",
     "status": "completed"
    },
    "tags": []
   },
   "outputs": [],
   "source": [
    "import endomill\n",
    "import yaml\n"
   ]
  },
  {
   "cell_type": "code",
   "execution_count": 2,
   "id": "ac9aaf47",
   "metadata": {
    "execution": {
     "iopub.execute_input": "2023-05-24T02:36:50.987747Z",
     "iopub.status.busy": "2023-05-24T02:36:50.986145Z",
     "iopub.status.idle": "2023-05-24T02:36:51.024250Z",
     "shell.execute_reply": "2023-05-24T02:36:51.025988Z"
    },
    "papermill": {
     "duration": 0.101312,
     "end_time": "2023-05-24T02:36:51.026328",
     "exception": false,
     "start_time": "2023-05-24T02:36:50.925016",
     "status": "completed"
    },
    "tags": []
   },
   "outputs": [],
   "source": [
    "parameter_packs = [\n",
    "    {\n",
    "        \"MILL_TREATMENT_NAME\": treatment,\n",
    "        \"MILL_REPLICATE\": replicate,\n",
    "    }\n",
    "    for treatment in [\"bag\", \"ring\", \"allopatry\"]\n",
    "    for replicate in range(10)\n",
    "]\n",
    "\n",
    "\n",
    "for i, pp in enumerate(parameter_packs):\n",
    "    with open(f\"species-inference-parameterization-{i}.yaml\", \"w\") as file:\n",
    "        yaml.safe_dump(pp, file)\n",
    "# endomill.instantiate_over(parameter_packs=parameter_packs)\n"
   ]
  },
  {
   "cell_type": "markdown",
   "id": "12fd531d",
   "metadata": {
    "papermill": {
     "duration": 0.054142,
     "end_time": "2023-05-24T02:36:51.137676",
     "exception": false,
     "start_time": "2023-05-24T02:36:51.083534",
     "status": "completed"
    },
    "tags": []
   },
   "source": [
    "# Papermill Parameters\n"
   ]
  },
  {
   "cell_type": "code",
   "execution_count": 3,
   "id": "31011ca6",
   "metadata": {
    "execution": {
     "iopub.execute_input": "2023-05-24T02:36:51.258373Z",
     "iopub.status.busy": "2023-05-24T02:36:51.256973Z",
     "iopub.status.idle": "2023-05-24T02:36:51.259890Z",
     "shell.execute_reply": "2023-05-24T02:36:51.261010Z"
    },
    "papermill": {
     "duration": 0.065671,
     "end_time": "2023-05-24T02:36:51.261356",
     "exception": false,
     "start_time": "2023-05-24T02:36:51.195685",
     "status": "completed"
    },
    "tags": [
     "parameters"
    ]
   },
   "outputs": [],
   "source": [
    "MILL_TREATMENT_NAME: str\n",
    "MILL_REPLICATE: int\n"
   ]
  },
  {
   "cell_type": "code",
   "execution_count": 4,
   "id": "d19b4faf",
   "metadata": {
    "execution": {
     "iopub.execute_input": "2023-05-24T02:36:51.382750Z",
     "iopub.status.busy": "2023-05-24T02:36:51.381175Z",
     "iopub.status.idle": "2023-05-24T02:36:51.386292Z",
     "shell.execute_reply": "2023-05-24T02:36:51.388327Z"
    },
    "papermill": {
     "duration": 0.067466,
     "end_time": "2023-05-24T02:36:51.388702",
     "exception": false,
     "start_time": "2023-05-24T02:36:51.321236",
     "status": "completed"
    },
    "tags": [
     "injected-parameters"
    ]
   },
   "outputs": [],
   "source": [
    "# Parameters\n",
    "MILL_REPLICATE = 1\n",
    "MILL_TREATMENT_NAME = \"bag\"\n"
   ]
  },
  {
   "cell_type": "markdown",
   "id": "5e3be1a9",
   "metadata": {
    "papermill": {
     "duration": 0.05681,
     "end_time": "2023-05-24T02:36:51.505205",
     "exception": false,
     "start_time": "2023-05-24T02:36:51.448395",
     "status": "completed"
    },
    "tags": []
   },
   "source": [
    "# Global Setup\n"
   ]
  },
  {
   "cell_type": "code",
   "execution_count": 5,
   "id": "2a45aef8",
   "metadata": {
    "execution": {
     "iopub.execute_input": "2023-05-24T02:36:51.625791Z",
     "iopub.status.busy": "2023-05-24T02:36:51.624427Z",
     "iopub.status.idle": "2023-05-24T02:37:01.182290Z",
     "shell.execute_reply": "2023-05-24T02:37:01.183798Z"
    },
    "papermill": {
     "duration": 9.621462,
     "end_time": "2023-05-24T02:37:01.184126",
     "exception": false,
     "start_time": "2023-05-24T02:36:51.562664",
     "status": "completed"
    },
    "tags": []
   },
   "outputs": [],
   "source": [
    "import copy\n",
    "import math\n",
    "import itertools as it\n",
    "import typing\n",
    "import random\n",
    "\n",
    "import alifedata_phyloinformatics_convert as apc\n",
    "from Bio import Phylo as BioPhylo\n",
    "from deap import algorithms as deap_algorithms\n",
    "from deap import base as deap_base\n",
    "from deap import creator as deap_creator\n",
    "from deap import tools as deap_tools\n",
    "\n",
    "from hstrat import hstrat\n",
    "from iterpop import iterpop as ip\n",
    "from keyname import keyname as kn\n",
    "from matplotlib import pyplot as plt\n",
    "from nbmetalog import nbmetalog as nbm\n",
    "import numpy as np\n",
    "import pandas as pd\n",
    "from scipy import stats as scipy_stats\n",
    "import seaborn as sns\n",
    "import sympy\n",
    "from teeplot import teeplot as tp\n",
    "from tqdm import tqdm\n",
    "\n",
    "import pylib\n"
   ]
  },
  {
   "cell_type": "code",
   "execution_count": 6,
   "id": "9412176b",
   "metadata": {
    "execution": {
     "iopub.execute_input": "2023-05-24T02:37:01.296140Z",
     "iopub.status.busy": "2023-05-24T02:37:01.294806Z",
     "iopub.status.idle": "2023-05-24T02:37:01.297791Z",
     "shell.execute_reply": "2023-05-24T02:37:01.299174Z"
    },
    "papermill": {
     "duration": 0.063496,
     "end_time": "2023-05-24T02:37:01.299483",
     "exception": false,
     "start_time": "2023-05-24T02:37:01.235987",
     "status": "completed"
    },
    "tags": []
   },
   "outputs": [],
   "source": [
    "random.seed(MILL_REPLICATE)\n"
   ]
  },
  {
   "cell_type": "code",
   "execution_count": 7,
   "id": "57b94bbe",
   "metadata": {
    "execution": {
     "iopub.execute_input": "2023-05-24T02:37:01.430022Z",
     "iopub.status.busy": "2023-05-24T02:37:01.428733Z",
     "iopub.status.idle": "2023-05-24T02:37:03.402784Z",
     "shell.execute_reply": "2023-05-24T02:37:03.401322Z"
    },
    "papermill": {
     "duration": 2.031761,
     "end_time": "2023-05-24T02:37:03.403050",
     "exception": false,
     "start_time": "2023-05-24T02:37:01.371289",
     "status": "completed"
    },
    "tags": []
   },
   "outputs": [
    {
     "name": "stdout",
     "output_type": "stream",
     "text": [
      "context: local\n",
      "hostname: thinkpad\n",
      "interpreter: 3.10.6 (main, Mar 10 2023, 10:55:28) [GCC 11.3.0]\n",
      "nbcellexec: null\n",
      "nbname: None\n",
      "nbpath: None\n",
      "revision: null\n",
      "session: b8111433-f981-422b-aa88-d5eb8b0df935\n",
      "timestamp: 2023-05-23T19:37:02Z00:00\n",
      "\n",
      "\n"
     ]
    },
    {
     "name": "stdout",
     "output_type": "stream",
     "text": [
      "IPython==7.31.1\n",
      "keyname==0.5.2\n",
      "yaml==6.0\n",
      "Bio==1.79\n",
      "alifedata_phyloinformatics_convert==0.13.0\n",
      "deap==1.3\n",
      "endomill==0.1.3\n",
      "hstrat==1.6.1\n",
      "iterpop==0.4.1\n",
      "matplotlib==3.6.2\n",
      "nbmetalog==0.2.6\n",
      "numpy==1.23.5\n",
      "pandas==1.5.2\n",
      "scipy==1.10.1\n",
      "seaborn==0.12.1\n",
      "sympy==1.9\n",
      "teeplot==0.5.0\n",
      "re==2.2.1\n",
      "debugpy==1.6.6\n",
      "logging==0.5.1.2\n",
      "psutil==5.9.0\n",
      "zmq==22.3.0\n",
      "json==2.0.9\n",
      "ipykernel==6.7.0\n"
     ]
    }
   ],
   "source": [
    "nbm.print_metadata()\n"
   ]
  },
  {
   "cell_type": "markdown",
   "id": "8118f3ca",
   "metadata": {
    "papermill": {
     "duration": 0.086157,
     "end_time": "2023-05-24T02:37:03.554630",
     "exception": false,
     "start_time": "2023-05-24T02:37:03.468473",
     "status": "completed"
    },
    "tags": []
   },
   "source": [
    "# Parameters\n"
   ]
  },
  {
   "cell_type": "code",
   "execution_count": 8,
   "id": "b7063a1e",
   "metadata": {
    "execution": {
     "iopub.execute_input": "2023-05-24T02:37:03.709934Z",
     "iopub.status.busy": "2023-05-24T02:37:03.708556Z",
     "iopub.status.idle": "2023-05-24T02:37:03.711375Z",
     "shell.execute_reply": "2023-05-24T02:37:03.712559Z"
    },
    "papermill": {
     "duration": 0.094349,
     "end_time": "2023-05-24T02:37:03.712891",
     "exception": false,
     "start_time": "2023-05-24T02:37:03.618542",
     "status": "completed"
    },
    "tags": []
   },
   "outputs": [],
   "source": [
    "HSTRAT_DIFFERENTIA_WIDTH = 64\n",
    "NGEN = 200\n",
    "NPOP = 100\n",
    "NTOURN = 2\n"
   ]
  },
  {
   "cell_type": "markdown",
   "id": "6e41f014",
   "metadata": {
    "papermill": {
     "duration": 0.056958,
     "end_time": "2023-05-24T02:37:03.830199",
     "exception": false,
     "start_time": "2023-05-24T02:37:03.773241",
     "status": "completed"
    },
    "tags": []
   },
   "source": [
    "# Setup\n"
   ]
  },
  {
   "cell_type": "code",
   "execution_count": 9,
   "id": "7bb651c1",
   "metadata": {
    "execution": {
     "iopub.execute_input": "2023-05-24T02:37:03.946301Z",
     "iopub.status.busy": "2023-05-24T02:37:03.944868Z",
     "iopub.status.idle": "2023-05-24T02:37:03.960639Z",
     "shell.execute_reply": "2023-05-24T02:37:03.961839Z"
    },
    "papermill": {
     "duration": 0.072164,
     "end_time": "2023-05-24T02:37:03.962177",
     "exception": false,
     "start_time": "2023-05-24T02:37:03.890013",
     "status": "completed"
    },
    "tags": []
   },
   "outputs": [],
   "source": [
    "deap_creator.create(\"FitnessMax\", deap_base.Fitness, weights=(1.0,))\n",
    "deap_creator.create(\"Individual\", list, fitness=deap_creator.FitnessMax)\n",
    "\n",
    "toolbox = deap_base.Toolbox()\n",
    "\n",
    "toolbox.register(\"attr_bool\", random.randint, 0, 1)\n",
    "toolbox.register(\n",
    "    \"individual\",\n",
    "    deap_tools.initRepeat,\n",
    "    deap_creator.Individual,\n",
    "    toolbox.attr_bool,\n",
    "    n=100,\n",
    ")\n",
    "toolbox.register(\"population\", deap_tools.initRepeat, list, toolbox.individual)\n",
    "\n",
    "\n",
    "def evalOneMax(individual):\n",
    "    return (sum(individual),)\n",
    "\n",
    "\n",
    "toolbox.register(\"evaluate\", evalOneMax)\n",
    "toolbox.register(\"mate\", deap_tools.cxTwoPoint)\n",
    "toolbox.register(\"mutate\", deap_tools.mutFlipBit, indpb=0.05)\n",
    "toolbox.register(\"select\", deap_tools.selTournament, tournsize=NTOURN)\n",
    "\n",
    "# Decorate the variation operators\n",
    "history = deap_tools.History()\n",
    "toolbox.decorate(\"mate\", history.decorator)\n",
    "\n",
    "toolbox.decorate(\"mate\", pylib.deap.hstrat_mate_decorator)\n"
   ]
  },
  {
   "cell_type": "markdown",
   "id": "70f1af86",
   "metadata": {
    "papermill": {
     "duration": 0.059818,
     "end_time": "2023-05-24T02:37:04.084220",
     "exception": false,
     "start_time": "2023-05-24T02:37:04.024402",
     "status": "completed"
    },
    "tags": []
   },
   "source": [
    "# Evolve\n"
   ]
  },
  {
   "cell_type": "code",
   "execution_count": 10,
   "id": "da7059b1",
   "metadata": {
    "execution": {
     "iopub.execute_input": "2023-05-24T02:37:04.212325Z",
     "iopub.status.busy": "2023-05-24T02:37:04.210848Z",
     "iopub.status.idle": "2023-05-24T02:46:47.283156Z",
     "shell.execute_reply": "2023-05-24T02:46:47.281450Z"
    },
    "papermill": {
     "duration": 583.138538,
     "end_time": "2023-05-24T02:46:47.283429",
     "exception": false,
     "start_time": "2023-05-24T02:37:04.144891",
     "status": "completed"
    },
    "tags": []
   },
   "outputs": [],
   "source": [
    "# Create the population and populate the history\n",
    "population = toolbox.population(n=NPOP)\n",
    "\n",
    "species_ancestor = hstrat.HereditaryStratigraphicColumn(\n",
    "    stratum_retention_policy=hstrat.perfect_resolution_algo.Policy(),\n",
    "    stratum_differentia_bit_width=HSTRAT_DIFFERENTIA_WIDTH,\n",
    ")\n",
    "gene_ancestor = hstrat.HereditaryStratigraphicColumn(\n",
    "    stratum_retention_policy=hstrat.perfect_resolution_algo.Policy(),\n",
    "    stratum_differentia_bit_width=HSTRAT_DIFFERENTIA_WIDTH,\n",
    "    initial_stratum_annotation=0,\n",
    ")\n",
    "for member in population:\n",
    "    member.species_annotation = species_ancestor.CloneDescendant()\n",
    "    member.gene_annotation = gene_ancestor.CloneDescendant(0)\n",
    "\n",
    "history.update(population)\n",
    "\n",
    "# Do the evolution, the decorators will take care of updating the\n",
    "# history\n",
    "if MILL_TREATMENT_NAME == \"bag\":\n",
    "    for _gen in range(NGEN):\n",
    "        offspring = deap_algorithms.varAnd(\n",
    "            population,\n",
    "            toolbox,\n",
    "            cxpb=1.0,\n",
    "            mutpb=1.0,\n",
    "        )\n",
    "        fits = toolbox.map(toolbox.evaluate, offspring)\n",
    "        for fit, ind in zip(fits, offspring):\n",
    "            ind.fitness.values = fit\n",
    "        population = toolbox.select(offspring, k=NPOP)\n",
    "        population = [copy.deepcopy(ind) for ind in population]\n",
    "\n",
    "elif MILL_TREATMENT_NAME == \"ring\":\n",
    "    NUM_ISLANDS = 10\n",
    "    NUM_MIGRATIONS = 1\n",
    "    slice_size = len(population) // NUM_ISLANDS\n",
    "    for gen in tqdm(range(NGEN)):\n",
    "        for slice_ in pylib.util.iter_slices(len(population), slice_size):\n",
    "            subpopulation = population[slice_]\n",
    "            offspring = deap_algorithms.varAnd(\n",
    "                subpopulation, toolbox, cxpb=1.0, mutpb=1.0\n",
    "            )\n",
    "            fits = toolbox.map(toolbox.evaluate, offspring)\n",
    "            for fit, ind in zip(fits, offspring):\n",
    "                ind.fitness.values = fit\n",
    "            subpopulation = toolbox.select(offspring, k=len(subpopulation))\n",
    "            population[slice_] = [copy.deepcopy(ind) for ind in subpopulation]\n",
    "\n",
    "        for m in range(NUM_MIGRATIONS):\n",
    "            displacement = random.randrange(slice_size, 2 * slice_size)\n",
    "            a = random.randrange(len(population))\n",
    "            b = (a + displacement) % len(population)\n",
    "            population[a], population[b] = population[b], population[a]\n",
    "\n",
    "    from_subpopulations = []\n",
    "    for i in range(0, len(population), slice_size):\n",
    "        subpopulation = population[i : i + slice_size]\n",
    "        from_subpopulations.extend(subpopulation)\n",
    "    population = from_subpopulations\n",
    "\n",
    "elif MILL_TREATMENT_NAME == \"allopatry\":\n",
    "    # sympatry\n",
    "    for gen in tqdm(range(NGEN // 2)):\n",
    "        offspring = deap_algorithms.varAnd(\n",
    "            population, toolbox, cxpb=1.0, mutpb=1.0\n",
    "        )\n",
    "        fits = toolbox.map(toolbox.evaluate, offspring)\n",
    "\n",
    "        for fit, ind in zip(fits, offspring):\n",
    "            ind.fitness.values = fit\n",
    "        population = toolbox.select(offspring, k=len(population))\n",
    "        population = [copy.deepcopy(ind) for ind in population]\n",
    "\n",
    "    # two-island allopatry\n",
    "    slice_size = NPOP // 2\n",
    "    from_subpopulations = []\n",
    "    for i in range(0, len(population), slice_size):\n",
    "        subpopulation = population[i : i + slice_size]\n",
    "        for gen in tqdm(range(NGEN // 4)):\n",
    "            offspring = deap_algorithms.varAnd(\n",
    "                subpopulation, toolbox, cxpb=1.0, mutpb=1.0\n",
    "            )\n",
    "            fits = toolbox.map(toolbox.evaluate, offspring)\n",
    "            for fit, ind in zip(fits, offspring):\n",
    "                ind.fitness.values = fit\n",
    "            subpopulation = toolbox.select(offspring, k=len(subpopulation))\n",
    "            subpopulation = [copy.deepcopy(ind) for ind in subpopulation]\n",
    "\n",
    "        from_subpopulations.extend(subpopulation)\n",
    "    population = from_subpopulations\n",
    "\n",
    "    # three-island allopatry: left island\n",
    "    slice_size = NPOP // 2\n",
    "    from_subpopulations = []\n",
    "    for i in range(0, len(population) // 2, slice_size):\n",
    "        subpopulation = population[i : i + slice_size]\n",
    "        for gen in tqdm(range(NGEN // 4)):\n",
    "            offspring = deap_algorithms.varAnd(\n",
    "                subpopulation, toolbox, cxpb=1.0, mutpb=1.0\n",
    "            )\n",
    "            fits = toolbox.map(toolbox.evaluate, offspring)\n",
    "            for fit, ind in zip(fits, offspring):\n",
    "                ind.fitness.values = fit\n",
    "            subpopulation = toolbox.select(offspring, k=len(subpopulation))\n",
    "            subpopulation = [copy.deepcopy(ind) for ind in subpopulation]\n",
    "\n",
    "        from_subpopulations.extend(subpopulation)\n",
    "\n",
    "    # three-island allopatry: right five islands\n",
    "    slice_size = NPOP // 10\n",
    "    for i in range(len(population) // 2, len(population), slice_size):\n",
    "        subpopulation = population[i : i + slice_size]\n",
    "        for gen in tqdm(range(NGEN // 4)):\n",
    "            offspring = deap_algorithms.varAnd(\n",
    "                subpopulation, toolbox, cxpb=1.0, mutpb=1.0\n",
    "            )\n",
    "            fits = toolbox.map(toolbox.evaluate, offspring)\n",
    "            for fit, ind in zip(fits, offspring):\n",
    "                ind.fitness.values = fit\n",
    "            subpopulation = toolbox.select(offspring, k=len(subpopulation))\n",
    "            subpopulation = [copy.deepcopy(ind) for ind in subpopulation]\n",
    "\n",
    "        from_subpopulations.extend(subpopulation)\n",
    "\n",
    "    population = from_subpopulations\n",
    "\n",
    "else:\n",
    "    assert False, MILL_TREATMENT_NAME\n",
    "\n",
    "# ensure all extant organisms registered with phylogeny tracker\n",
    "for x in population:\n",
    "    history.update([x])\n"
   ]
  },
  {
   "cell_type": "markdown",
   "id": "58a50119",
   "metadata": {
    "papermill": {
     "duration": 0.05098,
     "end_time": "2023-05-24T02:46:47.387594",
     "exception": false,
     "start_time": "2023-05-24T02:46:47.336614",
     "status": "completed"
    },
    "tags": []
   },
   "source": [
    "# Reconstruction\n"
   ]
  },
  {
   "cell_type": "code",
   "execution_count": 11,
   "id": "c2fda8be",
   "metadata": {
    "execution": {
     "iopub.execute_input": "2023-05-24T02:46:47.501278Z",
     "iopub.status.busy": "2023-05-24T02:46:47.495862Z",
     "iopub.status.idle": "2023-05-24T02:46:50.720517Z",
     "shell.execute_reply": "2023-05-24T02:46:50.726801Z"
    },
    "papermill": {
     "duration": 3.287859,
     "end_time": "2023-05-24T02:46:50.727126",
     "exception": false,
     "start_time": "2023-05-24T02:46:47.439267",
     "status": "completed"
    },
    "tags": []
   },
   "outputs": [
    {
     "data": {
      "text/html": [
       "<div>\n",
       "<style scoped>\n",
       "    .dataframe tbody tr th:only-of-type {\n",
       "        vertical-align: middle;\n",
       "    }\n",
       "\n",
       "    .dataframe tbody tr th {\n",
       "        vertical-align: top;\n",
       "    }\n",
       "\n",
       "    .dataframe thead th {\n",
       "        text-align: right;\n",
       "    }\n",
       "</style>\n",
       "<table border=\"1\" class=\"dataframe\">\n",
       "  <thead>\n",
       "    <tr style=\"text-align: right;\">\n",
       "      <th></th>\n",
       "      <th>id</th>\n",
       "      <th>ancestor_list</th>\n",
       "      <th>origin_time</th>\n",
       "      <th>taxon_label</th>\n",
       "      <th>ancestor_id</th>\n",
       "      <th>name</th>\n",
       "    </tr>\n",
       "  </thead>\n",
       "  <tbody>\n",
       "    <tr>\n",
       "      <th>0</th>\n",
       "      <td>0</td>\n",
       "      <td>[none]</td>\n",
       "      <td>0.0</td>\n",
       "      <td>Root</td>\n",
       "      <td>0</td>\n",
       "      <td>Root</td>\n",
       "    </tr>\n",
       "    <tr>\n",
       "      <th>191</th>\n",
       "      <td>191</td>\n",
       "      <td>[0]</td>\n",
       "      <td>190.0</td>\n",
       "      <td>Inner+r=190+d=P5d2xf2WPS9+uid=CQZwTDZdYLbkbj25...</td>\n",
       "      <td>0</td>\n",
       "      <td>Inner+r=190+d=P5d2xf2WPS9+uid=CQZwTDZdYLbkbj25...</td>\n",
       "    </tr>\n",
       "    <tr>\n",
       "      <th>197</th>\n",
       "      <td>197</td>\n",
       "      <td>[191]</td>\n",
       "      <td>193.0</td>\n",
       "      <td>Inner+r=193+d=P1hXqf8DWml+uid=BtP61MQCcFRifhJa...</td>\n",
       "      <td>191</td>\n",
       "      <td>Inner+r=193+d=P1hXqf8DWml+uid=BtP61MQCcFRifhJa...</td>\n",
       "    </tr>\n",
       "    <tr>\n",
       "      <th>198</th>\n",
       "      <td>198</td>\n",
       "      <td>[191]</td>\n",
       "      <td>194.0</td>\n",
       "      <td>Inner+r=194+d=PeGJTGtRUxa+uid=DuG4zEcDWKJ-uhqd...</td>\n",
       "      <td>191</td>\n",
       "      <td>Inner+r=194+d=PeGJTGtRUxa+uid=DuG4zEcDWKJ-uhqd...</td>\n",
       "    </tr>\n",
       "    <tr>\n",
       "      <th>199</th>\n",
       "      <td>199</td>\n",
       "      <td>[197]</td>\n",
       "      <td>194.0</td>\n",
       "      <td>Inner+r=194+d=PeGJTGtRUxa+uid=C4N42CkcvjhvESz9...</td>\n",
       "      <td>197</td>\n",
       "      <td>Inner+r=194+d=PeGJTGtRUxa+uid=C4N42CkcvjhvESz9...</td>\n",
       "    </tr>\n",
       "    <tr>\n",
       "      <th>...</th>\n",
       "      <td>...</td>\n",
       "      <td>...</td>\n",
       "      <td>...</td>\n",
       "      <td>...</td>\n",
       "      <td>...</td>\n",
       "      <td>...</td>\n",
       "    </tr>\n",
       "    <tr>\n",
       "      <th>518</th>\n",
       "      <td>518</td>\n",
       "      <td>[321]</td>\n",
       "      <td>201.0</td>\n",
       "      <td>20114</td>\n",
       "      <td>321</td>\n",
       "      <td>20114</td>\n",
       "    </tr>\n",
       "    <tr>\n",
       "      <th>519</th>\n",
       "      <td>519</td>\n",
       "      <td>[321]</td>\n",
       "      <td>201.0</td>\n",
       "      <td>20133</td>\n",
       "      <td>321</td>\n",
       "      <td>20133</td>\n",
       "    </tr>\n",
       "    <tr>\n",
       "      <th>520</th>\n",
       "      <td>520</td>\n",
       "      <td>[321]</td>\n",
       "      <td>201.0</td>\n",
       "      <td>20144</td>\n",
       "      <td>321</td>\n",
       "      <td>20144</td>\n",
       "    </tr>\n",
       "    <tr>\n",
       "      <th>521</th>\n",
       "      <td>521</td>\n",
       "      <td>[322]</td>\n",
       "      <td>201.0</td>\n",
       "      <td>20195</td>\n",
       "      <td>322</td>\n",
       "      <td>20195</td>\n",
       "    </tr>\n",
       "    <tr>\n",
       "      <th>522</th>\n",
       "      <td>522</td>\n",
       "      <td>[322]</td>\n",
       "      <td>201.0</td>\n",
       "      <td>20128</td>\n",
       "      <td>322</td>\n",
       "      <td>20128</td>\n",
       "    </tr>\n",
       "  </tbody>\n",
       "</table>\n",
       "<p>150 rows × 6 columns</p>\n",
       "</div>"
      ],
      "text/plain": [
       "      id ancestor_list  origin_time  \\\n",
       "0      0        [none]          0.0   \n",
       "191  191           [0]        190.0   \n",
       "197  197         [191]        193.0   \n",
       "198  198         [191]        194.0   \n",
       "199  199         [197]        194.0   \n",
       "..   ...           ...          ...   \n",
       "518  518         [321]        201.0   \n",
       "519  519         [321]        201.0   \n",
       "520  520         [321]        201.0   \n",
       "521  521         [322]        201.0   \n",
       "522  522         [322]        201.0   \n",
       "\n",
       "                                           taxon_label  ancestor_id  \\\n",
       "0                                                 Root            0   \n",
       "191  Inner+r=190+d=P5d2xf2WPS9+uid=CQZwTDZdYLbkbj25...            0   \n",
       "197  Inner+r=193+d=P1hXqf8DWml+uid=BtP61MQCcFRifhJa...          191   \n",
       "198  Inner+r=194+d=PeGJTGtRUxa+uid=DuG4zEcDWKJ-uhqd...          191   \n",
       "199  Inner+r=194+d=PeGJTGtRUxa+uid=C4N42CkcvjhvESz9...          197   \n",
       "..                                                 ...          ...   \n",
       "518                                              20114          321   \n",
       "519                                              20133          321   \n",
       "520                                              20144          321   \n",
       "521                                              20195          322   \n",
       "522                                              20128          322   \n",
       "\n",
       "                                                  name  \n",
       "0                                                 Root  \n",
       "191  Inner+r=190+d=P5d2xf2WPS9+uid=CQZwTDZdYLbkbj25...  \n",
       "197  Inner+r=193+d=P1hXqf8DWml+uid=BtP61MQCcFRifhJa...  \n",
       "198  Inner+r=194+d=PeGJTGtRUxa+uid=DuG4zEcDWKJ-uhqd...  \n",
       "199  Inner+r=194+d=PeGJTGtRUxa+uid=C4N42CkcvjhvESz9...  \n",
       "..                                                 ...  \n",
       "518                                              20114  \n",
       "519                                              20133  \n",
       "520                                              20144  \n",
       "521                                              20195  \n",
       "522                                              20128  \n",
       "\n",
       "[150 rows x 6 columns]"
      ]
     },
     "execution_count": 11,
     "metadata": {},
     "output_type": "execute_result"
    }
   ],
   "source": [
    "extant_nodes = [individual.history_index for individual in population]\n",
    "reconstructed_df = hstrat.build_tree(\n",
    "    [individual.species_annotation for individual in population],\n",
    "    version_pin=hstrat.__version__,\n",
    "    force_common_ancestry=True,\n",
    "    taxon_labels=map(str, extant_nodes),\n",
    ")\n",
    "reconstructed_df[\"name\"] = reconstructed_df[\"taxon_label\"]\n",
    "reconstructed_df.to_csv(\n",
    "    kn.pack(\n",
    "        {\n",
    "            \"a\": \"phylogeny\",\n",
    "            \"notebook\": \"species-inference\",\n",
    "            \"replicate\": str(MILL_REPLICATE),\n",
    "            \"treatment\": MILL_TREATMENT_NAME,\n",
    "            \"type\": \"reconstruction\",\n",
    "            \"ext\": \".csv\",\n",
    "        }\n",
    "    )\n",
    ")\n",
    "reconstructed_df\n"
   ]
  },
  {
   "cell_type": "code",
   "execution_count": 12,
   "id": "379f400f",
   "metadata": {
    "execution": {
     "iopub.execute_input": "2023-05-24T02:46:50.862605Z",
     "iopub.status.busy": "2023-05-24T02:46:50.861235Z",
     "iopub.status.idle": "2023-05-24T02:46:56.374509Z",
     "shell.execute_reply": "2023-05-24T02:46:56.373389Z"
    },
    "papermill": {
     "duration": 5.585842,
     "end_time": "2023-05-24T02:46:56.374790",
     "exception": false,
     "start_time": "2023-05-24T02:46:50.788948",
     "status": "completed"
    },
    "tags": []
   },
   "outputs": [
    {
     "name": "stdout",
     "output_type": "stream",
     "text": [
      "teeplots/./notebook=species-inference+replicate=1+treatment=bag+type=reconstruction+viz=draw-biopython-tree+ext=.pdf\n"
     ]
    },
    {
     "name": "stdout",
     "output_type": "stream",
     "text": [
      "teeplots/./notebook=species-inference+replicate=1+treatment=bag+type=reconstruction+viz=draw-biopython-tree+ext=.png\n"
     ]
    },
    {
     "data": {
      "image/png": "[encoded data removed]",
      "text/plain": [
       "<Figure size 468x288 with 1 Axes>"
      ]
     },
     "metadata": {
      "needs_background": "light"
     },
     "output_type": "display_data"
    }
   ],
   "source": [
    "reconstructed_tree = apc.alife_dataframe_to_biopython_tree(\n",
    "    reconstructed_df, setup_branch_lengths=True\n",
    ")\n",
    "BioPhylo.write(\n",
    "    reconstructed_tree,\n",
    "    kn.pack(\n",
    "        {\n",
    "            \"a\": \"phylogeny\",\n",
    "            \"notebook\": \"species-inference\",\n",
    "            \"replicate\": str(MILL_REPLICATE),\n",
    "            \"treatment\": MILL_TREATMENT_NAME,\n",
    "            \"type\": \"reconstruction\",\n",
    "            \"ext\": \".nwk\",\n",
    "        }\n",
    "    ),\n",
    "    'newick',\n",
    ")\n",
    "tp.tee(\n",
    "    pylib.tree.draw_biopython_tree,\n",
    "    reconstructed_tree,\n",
    "    teeplot_outattrs={\n",
    "        \"notebook\": \"species-inference\",\n",
    "        \"replicate\": str(MILL_REPLICATE),\n",
    "        \"treatment\": MILL_TREATMENT_NAME,\n",
    "        \"type\": \"reconstruction\",\n",
    "    },\n",
    ")\n"
   ]
  },
  {
   "cell_type": "code",
   "execution_count": 13,
   "id": "ba4b789b",
   "metadata": {
    "execution": {
     "iopub.execute_input": "2023-05-24T02:46:56.533187Z",
     "iopub.status.busy": "2023-05-24T02:46:56.520094Z",
     "iopub.status.idle": "2023-05-24T02:47:00.014930Z",
     "shell.execute_reply": "2023-05-24T02:47:00.013720Z"
    },
    "papermill": {
     "duration": 3.573652,
     "end_time": "2023-05-24T02:47:00.015200",
     "exception": false,
     "start_time": "2023-05-24T02:46:56.441548",
     "status": "completed"
    },
    "tags": []
   },
   "outputs": [
    {
     "name": "stdout",
     "output_type": "stream",
     "text": [
      "teeplots/./drop_overlapping_labels=true+notebook=species-inference+replicate=1+treatment=bag+type=reconstruction+viz=draw-biopython-tree+ext=.pdf\n"
     ]
    },
    {
     "name": "stdout",
     "output_type": "stream",
     "text": [
      "teeplots/./drop_overlapping_labels=true+notebook=species-inference+replicate=1+treatment=bag+type=reconstruction+viz=draw-biopython-tree+ext=.png\n"
     ]
    },
    {
     "data": {
      "image/png": "[encoded data removed]",
      "text/plain": [
       "<Figure size 650x400 with 1 Axes>"
      ]
     },
     "metadata": {},
     "output_type": "display_data"
    }
   ],
   "source": [
    "reconstructed_tree = apc.alife_dataframe_to_biopython_tree(\n",
    "    reconstructed_df, setup_branch_lengths=True\n",
    ")\n",
    "tp.tee(\n",
    "    pylib.tree.draw_biopython_tree,\n",
    "    reconstructed_tree,\n",
    "    drop_overlapping_labels=True,\n",
    "    teeplot_outattrs={\n",
    "        \"drop_overlapping_labels\": \"true\",\n",
    "        \"notebook\": \"species-inference\",\n",
    "        \"replicate\": str(MILL_REPLICATE),\n",
    "        \"treatment\": MILL_TREATMENT_NAME,\n",
    "        \"type\": \"reconstruction\",\n",
    "    },\n",
    ")\n"
   ]
  },
  {
   "cell_type": "code",
   "execution_count": 14,
   "id": "307a4609",
   "metadata": {
    "execution": {
     "iopub.execute_input": "2023-05-24T02:47:00.172635Z",
     "iopub.status.busy": "2023-05-24T02:47:00.166489Z",
     "iopub.status.idle": "2023-05-24T02:47:02.529926Z",
     "shell.execute_reply": "2023-05-24T02:47:02.530964Z"
    },
    "papermill": {
     "duration": 2.443852,
     "end_time": "2023-05-24T02:47:02.531249",
     "exception": false,
     "start_time": "2023-05-24T02:47:00.087397",
     "status": "completed"
    },
    "tags": []
   },
   "outputs": [
    {
     "name": "stdout",
     "output_type": "stream",
     "text": [
      "teeplots/./max_leaves=20+notebook=species-inference+replicate=1+treatment=bag+type=reconstruction+viz=draw-biopython-tree+ext=.pdf\n"
     ]
    },
    {
     "name": "stdout",
     "output_type": "stream",
     "text": [
      "teeplots/./max_leaves=20+notebook=species-inference+replicate=1+treatment=bag+type=reconstruction+viz=draw-biopython-tree+ext=.png\n"
     ]
    },
    {
     "data": {
      "image/png": "[encoded data removed]",
      "text/plain": [
       "<Figure size 650x400 with 1 Axes>"
      ]
     },
     "metadata": {},
     "output_type": "display_data"
    }
   ],
   "source": [
    "reconstructed_tree = apc.alife_dataframe_to_biopython_tree(\n",
    "    reconstructed_df, setup_branch_lengths=True\n",
    ")\n",
    "tp.tee(\n",
    "    pylib.tree.draw_biopython_tree,\n",
    "    reconstructed_tree,\n",
    "    max_leaves=20,\n",
    "    teeplot_outattrs={\n",
    "        \"max_leaves\": \"20\",\n",
    "        \"notebook\": \"species-inference\",\n",
    "        \"replicate\": str(MILL_REPLICATE),\n",
    "        \"treatment\": MILL_TREATMENT_NAME,\n",
    "        \"type\": \"reconstruction\",\n",
    "    },\n",
    ")\n"
   ]
  },
  {
   "cell_type": "markdown",
   "id": "536ebd85",
   "metadata": {
    "papermill": {
     "duration": 0.070587,
     "end_time": "2023-05-24T02:47:02.673762",
     "exception": false,
     "start_time": "2023-05-24T02:47:02.603175",
     "status": "completed"
    },
    "tags": []
   },
   "source": [
    "# Actual Pedigree\n"
   ]
  },
  {
   "cell_type": "code",
   "execution_count": 15,
   "id": "54b1b758",
   "metadata": {
    "execution": {
     "iopub.execute_input": "2023-05-24T02:47:02.843595Z",
     "iopub.status.busy": "2023-05-24T02:47:02.841801Z",
     "iopub.status.idle": "2023-05-24T02:47:22.349060Z",
     "shell.execute_reply": "2023-05-24T02:47:22.347960Z"
    },
    "papermill": {
     "duration": 19.6046,
     "end_time": "2023-05-24T02:47:22.349341",
     "exception": false,
     "start_time": "2023-05-24T02:47:02.744741",
     "status": "completed"
    },
    "tags": []
   },
   "outputs": [
    {
     "data": {
      "text/plain": [
       "1"
      ]
     },
     "execution_count": 15,
     "metadata": {},
     "output_type": "execute_result"
    }
   ],
   "source": [
    "distilled_tree = pylib.deap.history_to_tree_upgma(history, extant_nodes)\n",
    "BioPhylo.write(\n",
    "    distilled_tree,\n",
    "    kn.pack(\n",
    "        {\n",
    "            \"a\": \"phylogeny\",\n",
    "            \"notebook\": \"species-inference\",\n",
    "            \"replicate\": str(MILL_REPLICATE),\n",
    "            \"treatment\": MILL_TREATMENT_NAME,\n",
    "            \"type\": \"distilled-pedigree\",\n",
    "            \"ext\": \".nwk\",\n",
    "        }\n",
    "    ),\n",
    "    'newick',\n",
    ")\n"
   ]
  },
  {
   "cell_type": "code",
   "execution_count": 16,
   "id": "c7a4aa0a",
   "metadata": {
    "execution": {
     "iopub.execute_input": "2023-05-24T02:47:22.476283Z",
     "iopub.status.busy": "2023-05-24T02:47:22.471096Z",
     "iopub.status.idle": "2023-05-24T02:47:27.214904Z",
     "shell.execute_reply": "2023-05-24T02:47:27.215928Z"
    },
    "papermill": {
     "duration": 4.805012,
     "end_time": "2023-05-24T02:47:27.216219",
     "exception": false,
     "start_time": "2023-05-24T02:47:22.411207",
     "status": "completed"
    },
    "tags": []
   },
   "outputs": [
    {
     "name": "stdout",
     "output_type": "stream",
     "text": [
      "teeplots/./notebook=species-inference+replicate=1+treatment=bag+type=distilled-reference+viz=draw-biopython-tree+ext=.pdf\n"
     ]
    },
    {
     "name": "stdout",
     "output_type": "stream",
     "text": [
      "teeplots/./notebook=species-inference+replicate=1+treatment=bag+type=distilled-reference+viz=draw-biopython-tree+ext=.png\n"
     ]
    },
    {
     "data": {
      "image/png": "[encoded data removed]",
      "text/plain": [
       "<Figure size 650x400 with 1 Axes>"
      ]
     },
     "metadata": {},
     "output_type": "display_data"
    }
   ],
   "source": [
    "tp.tee(\n",
    "    pylib.tree.draw_biopython_tree,\n",
    "    distilled_tree,\n",
    "    teeplot_outattrs={\n",
    "        \"notebook\": \"species-inference\",\n",
    "        \"replicate\": str(MILL_REPLICATE),\n",
    "        \"treatment\": MILL_TREATMENT_NAME,\n",
    "        \"type\": \"distilled-reference\",\n",
    "    },\n",
    ")\n"
   ]
  },
  {
   "cell_type": "code",
   "execution_count": 17,
   "id": "782b9554",
   "metadata": {
    "execution": {
     "iopub.execute_input": "2023-05-24T02:47:27.354417Z",
     "iopub.status.busy": "2023-05-24T02:47:27.353093Z",
     "iopub.status.idle": "2023-05-24T02:47:30.012807Z",
     "shell.execute_reply": "2023-05-24T02:47:30.011208Z"
    },
    "papermill": {
     "duration": 2.713451,
     "end_time": "2023-05-24T02:47:30.013077",
     "exception": false,
     "start_time": "2023-05-24T02:47:27.299626",
     "status": "completed"
    },
    "tags": []
   },
   "outputs": [
    {
     "name": "stdout",
     "output_type": "stream",
     "text": [
      "teeplots/./max_leaves=20+notebook=species-inference+replicate=1+treatment=bag+type=distilled-reference+viz=draw-biopython-tree+ext=.pdf\n"
     ]
    },
    {
     "name": "stdout",
     "output_type": "stream",
     "text": [
      "teeplots/./max_leaves=20+notebook=species-inference+replicate=1+treatment=bag+type=distilled-reference+viz=draw-biopython-tree+ext=.png\n"
     ]
    },
    {
     "data": {
      "image/png": "[encoded data removed]",
      "text/plain": [
       "<Figure size 650x400 with 1 Axes>"
      ]
     },
     "metadata": {},
     "output_type": "display_data"
    }
   ],
   "source": [
    "tp.tee(\n",
    "    pylib.tree.draw_biopython_tree,\n",
    "    distilled_tree,\n",
    "    max_leaves=20,\n",
    "    teeplot_outattrs={\n",
    "        \"max_leaves\": \"20\",\n",
    "        \"notebook\": \"species-inference\",\n",
    "        \"replicate\": str(MILL_REPLICATE),\n",
    "        \"treatment\": MILL_TREATMENT_NAME,\n",
    "        \"type\": \"distilled-reference\",\n",
    "    },\n",
    ")\n"
   ]
  },
  {
   "cell_type": "code",
   "execution_count": 18,
   "id": "e48a0dbd",
   "metadata": {
    "execution": {
     "iopub.execute_input": "2023-05-24T02:47:30.247309Z",
     "iopub.status.busy": "2023-05-24T02:47:30.245921Z",
     "iopub.status.idle": "2023-05-24T02:47:34.056556Z",
     "shell.execute_reply": "2023-05-24T02:47:34.055235Z"
    },
    "papermill": {
     "duration": 3.912832,
     "end_time": "2023-05-24T02:47:34.056832",
     "exception": false,
     "start_time": "2023-05-24T02:47:30.144000",
     "status": "completed"
    },
    "tags": []
   },
   "outputs": [
    {
     "name": "stdout",
     "output_type": "stream",
     "text": [
      "teeplots/./drop_overlapping_labels=true+notebook=species-inference+replicate=1+treatment=bag+type=distilled-reference+viz=draw-biopython-tree+ext=.pdf\n"
     ]
    },
    {
     "name": "stdout",
     "output_type": "stream",
     "text": [
      "teeplots/./drop_overlapping_labels=true+notebook=species-inference+replicate=1+treatment=bag+type=distilled-reference+viz=draw-biopython-tree+ext=.png\n"
     ]
    },
    {
     "data": {
      "image/png": "[encoded data removed]",
      "text/plain": [
       "<Figure size 650x400 with 1 Axes>"
      ]
     },
     "metadata": {},
     "output_type": "display_data"
    }
   ],
   "source": [
    "tp.tee(\n",
    "    pylib.tree.draw_biopython_tree,\n",
    "    distilled_tree,\n",
    "    drop_overlapping_labels=True,\n",
    "    teeplot_outattrs={\n",
    "        \"drop_overlapping_labels\": \"true\",\n",
    "        \"notebook\": \"species-inference\",\n",
    "        \"replicate\": str(MILL_REPLICATE),\n",
    "        \"treatment\": MILL_TREATMENT_NAME,\n",
    "        \"type\": \"distilled-reference\",\n",
    "    },\n",
    ")\n"
   ]
  },
  {
   "cell_type": "code",
   "execution_count": 19,
   "id": "c25fe7fe",
   "metadata": {
    "execution": {
     "iopub.execute_input": "2023-05-24T02:47:34.270561Z",
     "iopub.status.busy": "2023-05-24T02:47:34.265345Z",
     "iopub.status.idle": "2023-05-24T02:47:52.081968Z",
     "shell.execute_reply": "2023-05-24T02:47:52.083183Z"
    },
    "papermill": {
     "duration": 17.927003,
     "end_time": "2023-05-24T02:47:52.083519",
     "exception": false,
     "start_time": "2023-05-24T02:47:34.156516",
     "status": "completed"
    },
    "tags": []
   },
   "outputs": [
    {
     "data": {
      "text/plain": [
       "0.51104999075544"
      ]
     },
     "execution_count": 19,
     "metadata": {},
     "output_type": "execute_result"
    }
   ],
   "source": [
    "distilled_tree = pylib.deap.history_to_tree_upgma(\n",
    "    history, extant_nodes, correct_origin_times=False\n",
    ")\n",
    "BioPhylo.write(\n",
    "    distilled_tree,\n",
    "    kn.pack(\n",
    "        {\n",
    "            \"a\": \"phylogeny\",\n",
    "            \"notebook\": \"species-inference\",\n",
    "            \"replicate\": str(MILL_REPLICATE),\n",
    "            \"treatment\": MILL_TREATMENT_NAME,\n",
    "            \"type\": \"distilled-pedigree-uncorrected\",\n",
    "            \"ext\": \".nwk\",\n",
    "        }\n",
    "    ),\n",
    "    'newick',\n",
    ")\n",
    "\n",
    "quartet_dist = pylib.tree.polymorphic_quartet_distance(\n",
    "    reconstructed_tree, distilled_tree\n",
    ")\n",
    "quartet_dist\n"
   ]
  },
  {
   "cell_type": "code",
   "execution_count": 20,
   "id": "acc23d07",
   "metadata": {
    "execution": {
     "iopub.execute_input": "2023-05-24T02:47:52.293244Z",
     "iopub.status.busy": "2023-05-24T02:47:52.291481Z",
     "iopub.status.idle": "2023-05-24T02:47:52.309059Z",
     "shell.execute_reply": "2023-05-24T02:47:52.310116Z"
    },
    "papermill": {
     "duration": 0.126222,
     "end_time": "2023-05-24T02:47:52.310438",
     "exception": false,
     "start_time": "2023-05-24T02:47:52.184216",
     "status": "completed"
    },
    "tags": []
   },
   "outputs": [
    {
     "data": {
      "text/html": [
       "<div>\n",
       "<style scoped>\n",
       "    .dataframe tbody tr th:only-of-type {\n",
       "        vertical-align: middle;\n",
       "    }\n",
       "\n",
       "    .dataframe tbody tr th {\n",
       "        vertical-align: top;\n",
       "    }\n",
       "\n",
       "    .dataframe thead th {\n",
       "        text-align: right;\n",
       "    }\n",
       "</style>\n",
       "<table border=\"1\" class=\"dataframe\">\n",
       "  <thead>\n",
       "    <tr style=\"text-align: right;\">\n",
       "      <th></th>\n",
       "      <th>replicate</th>\n",
       "      <th>treatment</th>\n",
       "      <th>quartet distance</th>\n",
       "    </tr>\n",
       "  </thead>\n",
       "  <tbody>\n",
       "    <tr>\n",
       "      <th>0</th>\n",
       "      <td>1</td>\n",
       "      <td>bag</td>\n",
       "      <td>0.51105</td>\n",
       "    </tr>\n",
       "  </tbody>\n",
       "</table>\n",
       "</div>"
      ],
      "text/plain": [
       "   replicate treatment  quartet distance\n",
       "0          1       bag           0.51105"
      ]
     },
     "execution_count": 20,
     "metadata": {},
     "output_type": "execute_result"
    }
   ],
   "source": [
    "records = [\n",
    "    {\n",
    "        \"replicate\": MILL_REPLICATE,\n",
    "        \"treatment\": MILL_TREATMENT_NAME,\n",
    "        \"quartet distance\": quartet_dist,\n",
    "    }\n",
    "]\n",
    "outdf = pd.DataFrame.from_records(records)\n",
    "outdf.to_csv(\n",
    "    kn.pack(\n",
    "        {\n",
    "            \"a\": \"reconstruction-accuracy\",\n",
    "            \"notebook\": \"species-inference\",\n",
    "            \"replicate\": MILL_REPLICATE,\n",
    "            \"treatment\": MILL_TREATMENT_NAME,\n",
    "            \"ext\": \".csv\",\n",
    "        }\n",
    "    )\n",
    ")\n",
    "outdf\n"
   ]
  }
 ],
 "metadata": {
  "kernelspec": {
   "display_name": "Python 3",
   "language": "python",
   "name": "python3"
  },
  "language_info": {
   "codemirror_mode": {
    "name": "ipython",
    "version": 3
   },
   "file_extension": ".py",
   "mimetype": "text/x-python",
   "name": "python",
   "nbconvert_exporter": "python",
   "pygments_lexer": "ipython3",
   "version": "3.10.6"
  },
  "papermill": {
   "default_parameters": {},
   "duration": 669.991866,
   "end_time": "2023-05-24T02:47:55.138293",
   "environment_variables": {},
   "exception": null,
   "input_path": "species-inference.ipynb",
   "output_path": "species-inference-parameterization-1.ipynb",
   "parameters": {
    "MILL_REPLICATE": 1,
    "MILL_TREATMENT_NAME": "bag"
   },
   "start_time": "2023-05-24T02:36:45.146427",
   "version": "2.4.0"
  }
 },
 "nbformat": 4,
 "nbformat_minor": 5
}