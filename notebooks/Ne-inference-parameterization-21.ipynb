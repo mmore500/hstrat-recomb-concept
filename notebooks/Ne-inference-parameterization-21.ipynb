{
 "cells": [
  {
   "cell_type": "code",
   "execution_count": 1,
   "id": "a9960d69",
   "metadata": {
    "execution": {
     "iopub.execute_input": "2023-05-23T19:53:53.241832Z",
     "iopub.status.busy": "2023-05-23T19:53:53.241246Z",
     "iopub.status.idle": "2023-05-23T19:53:55.119711Z",
     "shell.execute_reply": "2023-05-23T19:53:55.118338Z"
    },
    "papermill": {
     "duration": 1.901189,
     "end_time": "2023-05-23T19:53:55.124010",
     "exception": false,
     "start_time": "2023-05-23T19:53:53.222821",
     "status": "completed"
    },
    "tags": []
   },
   "outputs": [],
   "source": [
    "import endomill\n",
    "import yaml\n"
   ]
  },
  {
   "cell_type": "code",
   "execution_count": 2,
   "id": "1398cac5",
   "metadata": {
    "execution": {
     "iopub.execute_input": "2023-05-23T19:53:55.155696Z",
     "iopub.status.busy": "2023-05-23T19:53:55.153924Z",
     "iopub.status.idle": "2023-05-23T19:53:55.217504Z",
     "shell.execute_reply": "2023-05-23T19:53:55.216128Z"
    },
    "papermill": {
     "duration": 0.083031,
     "end_time": "2023-05-23T19:53:55.221249",
     "exception": false,
     "start_time": "2023-05-23T19:53:55.138218",
     "status": "completed"
    },
    "tags": []
   },
   "outputs": [],
   "source": [
    "parameter_packs = (\n",
    "    [\n",
    "        {\n",
    "            \"MILL_TREATMENT_NAME\": \"bottleneck\",\n",
    "            \"MILL_NPOP_SEQ\": \"[100] * 67 + [10] * 66 + [100] * 67\",\n",
    "            \"MILL_REPLICATE\": replicate,\n",
    "        }\n",
    "        for replicate in range(10)\n",
    "    ]\n",
    "    + [\n",
    "        {\n",
    "            \"MILL_TREATMENT_NAME\": \"control\",\n",
    "            \"MILL_REPLICATE\": replicate,\n",
    "        }\n",
    "        for replicate in range(10)\n",
    "    ]\n",
    "    + [\n",
    "        {\n",
    "            \"MILL_TREATMENT_NAME\": \"selection-pressure\",\n",
    "            \"MILL_NTOURN_SEQ\": \"[8] * 67 + [1] * 66 + [8] * 67\",\n",
    "            \"MILL_REPLICATE\": replicate,\n",
    "        }\n",
    "        for replicate in range(10)\n",
    "    ]\n",
    "    + [\n",
    "        {\n",
    "            \"MILL_TREATMENT_NAME\": \"range-expansion\",\n",
    "            \"MILL_REPLICATE\": replicate,\n",
    "            \"MILL_NPOP_SEQ\": \"[10] * 67 + [*range(10, 142, 2)] + [142] * 67\",\n",
    "        }\n",
    "        for replicate in range(10)\n",
    "    ]\n",
    ")\n",
    "\n",
    "for i, pp in enumerate(parameter_packs):\n",
    "    with open(f\"Ne-inference-parameterization-{i}.yaml\", \"w\") as file:\n",
    "        yaml.safe_dump(pp, file)\n",
    "# endomill.instantiate_over(parameter_packs=parameter_packs)\n"
   ]
  },
  {
   "cell_type": "markdown",
   "id": "a38d0055",
   "metadata": {
    "papermill": {
     "duration": 0.01469,
     "end_time": "2023-05-23T19:53:55.250511",
     "exception": false,
     "start_time": "2023-05-23T19:53:55.235821",
     "status": "completed"
    },
    "tags": []
   },
   "source": [
    "# Papermill Parameters\n"
   ]
  },
  {
   "cell_type": "code",
   "execution_count": 3,
   "id": "bd721132",
   "metadata": {
    "execution": {
     "iopub.execute_input": "2023-05-23T19:53:55.284146Z",
     "iopub.status.busy": "2023-05-23T19:53:55.283582Z",
     "iopub.status.idle": "2023-05-23T19:53:55.293735Z",
     "shell.execute_reply": "2023-05-23T19:53:55.292328Z"
    },
    "papermill": {
     "duration": 0.03202,
     "end_time": "2023-05-23T19:53:55.297571",
     "exception": false,
     "start_time": "2023-05-23T19:53:55.265551",
     "status": "completed"
    },
    "tags": [
     "parameters"
    ]
   },
   "outputs": [],
   "source": [
    "MILL_NPOP_SEQ: str = \"[100] * 200\"\n",
    "MILL_NTOURN_SEQ: str = \"[2] * 200\"\n",
    "MILL_TREATMENT_NAME: str  # = \"control\"\n",
    "MILL_REPLICATE: int  # = 0\n"
   ]
  },
  {
   "cell_type": "code",
   "execution_count": 4,
   "id": "05340c5b",
   "metadata": {
    "execution": {
     "iopub.execute_input": "2023-05-23T19:53:55.332763Z",
     "iopub.status.busy": "2023-05-23T19:53:55.329766Z",
     "iopub.status.idle": "2023-05-23T19:53:55.338191Z",
     "shell.execute_reply": "2023-05-23T19:53:55.336777Z"
    },
    "papermill": {
     "duration": 0.028575,
     "end_time": "2023-05-23T19:53:55.341766",
     "exception": false,
     "start_time": "2023-05-23T19:53:55.313191",
     "status": "completed"
    },
    "tags": [
     "injected-parameters"
    ]
   },
   "outputs": [],
   "source": [
    "# Parameters\n",
    "MILL_NTOURN_SEQ = \"[8] * 67 + [1] * 66 + [8] * 67\"\n",
    "MILL_REPLICATE = 1\n",
    "MILL_TREATMENT_NAME = \"selection-pressure\"\n"
   ]
  },
  {
   "cell_type": "code",
   "execution_count": 5,
   "id": "dbd5aa03",
   "metadata": {
    "execution": {
     "iopub.execute_input": "2023-05-23T19:53:55.378727Z",
     "iopub.status.busy": "2023-05-23T19:53:55.373249Z",
     "iopub.status.idle": "2023-05-23T19:53:55.386710Z",
     "shell.execute_reply": "2023-05-23T19:53:55.383027Z"
    },
    "papermill": {
     "duration": 0.034318,
     "end_time": "2023-05-23T19:53:55.390794",
     "exception": false,
     "start_time": "2023-05-23T19:53:55.356476",
     "status": "completed"
    },
    "tags": []
   },
   "outputs": [],
   "source": [
    "MILL_NPOP_SEQ = eval(MILL_NPOP_SEQ)\n",
    "MILL_NTOURN_SEQ = eval(MILL_NTOURN_SEQ)\n"
   ]
  },
  {
   "cell_type": "markdown",
   "id": "20267ae4",
   "metadata": {
    "papermill": {
     "duration": 0.014548,
     "end_time": "2023-05-23T19:53:55.420298",
     "exception": false,
     "start_time": "2023-05-23T19:53:55.405750",
     "status": "completed"
    },
    "tags": []
   },
   "source": [
    "# Global Setup\n"
   ]
  },
  {
   "cell_type": "code",
   "execution_count": 6,
   "id": "6425bac7",
   "metadata": {
    "execution": {
     "iopub.execute_input": "2023-05-23T19:53:55.453056Z",
     "iopub.status.busy": "2023-05-23T19:53:55.452493Z",
     "iopub.status.idle": "2023-05-23T19:53:58.905540Z",
     "shell.execute_reply": "2023-05-23T19:53:58.904071Z"
    },
    "papermill": {
     "duration": 3.473943,
     "end_time": "2023-05-23T19:53:58.909233",
     "exception": false,
     "start_time": "2023-05-23T19:53:55.435290",
     "status": "completed"
    },
    "tags": []
   },
   "outputs": [],
   "source": [
    "import copy\n",
    "import math\n",
    "import itertools as it\n",
    "import typing\n",
    "import random\n",
    "\n",
    "import alifedata_phyloinformatics_convert as apc\n",
    "from deap import algorithms as deap_algorithms\n",
    "from deap import base as deap_base\n",
    "from deap import creator as deap_creator\n",
    "from deap import tools as deap_tools\n",
    "\n",
    "from hstrat import hstrat\n",
    "from iterpop import iterpop as ip\n",
    "from keyname import keyname as kn\n",
    "from matplotlib import pyplot as plt\n",
    "from nbmetalog import nbmetalog as nbm\n",
    "import numpy as np\n",
    "import pandas as pd\n",
    "from scipy import stats as scipy_stats\n",
    "import seaborn as sns\n",
    "import sympy\n",
    "from teeplot import teeplot as tp\n",
    "from tqdm import tqdm\n",
    "\n",
    "import pylib\n"
   ]
  },
  {
   "cell_type": "code",
   "execution_count": 7,
   "id": "eabf1507",
   "metadata": {
    "execution": {
     "iopub.execute_input": "2023-05-23T19:53:58.944511Z",
     "iopub.status.busy": "2023-05-23T19:53:58.943499Z",
     "iopub.status.idle": "2023-05-23T19:53:58.950175Z",
     "shell.execute_reply": "2023-05-23T19:53:58.948786Z"
    },
    "papermill": {
     "duration": 0.028748,
     "end_time": "2023-05-23T19:53:58.953563",
     "exception": false,
     "start_time": "2023-05-23T19:53:58.924815",
     "status": "completed"
    },
    "tags": []
   },
   "outputs": [],
   "source": [
    "random.seed(MILL_REPLICATE)\n"
   ]
  },
  {
   "cell_type": "code",
   "execution_count": 8,
   "id": "a974317f",
   "metadata": {
    "execution": {
     "iopub.execute_input": "2023-05-23T19:53:58.985830Z",
     "iopub.status.busy": "2023-05-23T19:53:58.984471Z",
     "iopub.status.idle": "2023-05-23T19:54:00.378632Z",
     "shell.execute_reply": "2023-05-23T19:54:00.377122Z"
    },
    "papermill": {
     "duration": 1.41465,
     "end_time": "2023-05-23T19:54:00.382743",
     "exception": false,
     "start_time": "2023-05-23T19:53:58.968093",
     "status": "completed"
    },
    "tags": []
   },
   "outputs": [
    {
     "name": "stdout",
     "output_type": "stream",
     "text": [
      "context: local\n",
      "hostname: thinkpad\n",
      "interpreter: 3.10.6 (main, Mar 10 2023, 10:55:28) [GCC 11.3.0]\n",
      "nbcellexec: null\n",
      "nbname: None\n",
      "nbpath: None\n",
      "revision: null\n",
      "session: adead4c1-f0c0-4807-8978-9e3a754b4e83\n",
      "timestamp: 2023-05-23T12:53:59Z00:00\n",
      "\n",
      "\n"
     ]
    },
    {
     "name": "stdout",
     "output_type": "stream",
     "text": [
      "IPython==8.13.2\n",
      "keyname==0.5.2\n",
      "yaml==6.0\n",
      "alifedata_phyloinformatics_convert==0.13.0\n",
      "deap==1.3\n",
      "endomill==0.1.3\n",
      "hstrat==1.6.1\n",
      "iterpop==0.4.1\n",
      "matplotlib==3.7.1\n",
      "nbmetalog==0.2.6\n",
      "numpy==1.24.3\n",
      "pandas==2.0.1\n",
      "scipy==1.10.1\n",
      "seaborn==0.12.2\n",
      "sympy==1.12\n",
      "teeplot==0.5.0\n",
      "re==2.2.1\n",
      "comm==0.1.3\n",
      "logging==0.5.1.2\n",
      "psutil==5.9.5\n",
      "zmq==25.0.2\n",
      "json==2.0.9\n",
      "ipykernel==6.23.1\n"
     ]
    }
   ],
   "source": [
    "nbm.print_metadata()\n"
   ]
  },
  {
   "cell_type": "markdown",
   "id": "e7e1844b",
   "metadata": {
    "papermill": {
     "duration": 0.015642,
     "end_time": "2023-05-23T19:54:00.414954",
     "exception": false,
     "start_time": "2023-05-23T19:54:00.399312",
     "status": "completed"
    },
    "tags": []
   },
   "source": [
    "# Parameters\n"
   ]
  },
  {
   "cell_type": "code",
   "execution_count": 9,
   "id": "bb4b06fa",
   "metadata": {
    "execution": {
     "iopub.execute_input": "2023-05-23T19:54:00.451265Z",
     "iopub.status.busy": "2023-05-23T19:54:00.450278Z",
     "iopub.status.idle": "2023-05-23T19:54:00.457538Z",
     "shell.execute_reply": "2023-05-23T19:54:00.456066Z"
    },
    "papermill": {
     "duration": 0.031657,
     "end_time": "2023-05-23T19:54:00.462409",
     "exception": false,
     "start_time": "2023-05-23T19:54:00.430752",
     "status": "completed"
    },
    "tags": []
   },
   "outputs": [],
   "source": [
    "# HSTRAT_RESOLUTION = None\n",
    "HSTRAT_DIFFERENTIA_WIDTH = 64\n",
    "NGEN = ip.pophomogeneous([len(MILL_NPOP_SEQ), len(MILL_NTOURN_SEQ)])\n"
   ]
  },
  {
   "cell_type": "markdown",
   "id": "6cbfc9d7",
   "metadata": {
    "papermill": {
     "duration": 0.015728,
     "end_time": "2023-05-23T19:54:00.493662",
     "exception": false,
     "start_time": "2023-05-23T19:54:00.477934",
     "status": "completed"
    },
    "tags": []
   },
   "source": [
    "# Setup\n"
   ]
  },
  {
   "cell_type": "code",
   "execution_count": 10,
   "id": "5f980f00",
   "metadata": {
    "execution": {
     "iopub.execute_input": "2023-05-23T19:54:00.529102Z",
     "iopub.status.busy": "2023-05-23T19:54:00.528003Z",
     "iopub.status.idle": "2023-05-23T19:54:00.542926Z",
     "shell.execute_reply": "2023-05-23T19:54:00.541408Z"
    },
    "papermill": {
     "duration": 0.036289,
     "end_time": "2023-05-23T19:54:00.546702",
     "exception": false,
     "start_time": "2023-05-23T19:54:00.510413",
     "status": "completed"
    },
    "tags": []
   },
   "outputs": [],
   "source": [
    "deap_creator.create(\"FitnessMax\", deap_base.Fitness, weights=(1.0,))\n",
    "deap_creator.create(\"Individual\", list, fitness=deap_creator.FitnessMax)\n",
    "\n",
    "toolbox = deap_base.Toolbox()\n",
    "\n",
    "toolbox.register(\"attr_bool\", random.randint, 0, 1)\n",
    "toolbox.register(\n",
    "    \"individual\",\n",
    "    deap_tools.initRepeat,\n",
    "    deap_creator.Individual,\n",
    "    toolbox.attr_bool,\n",
    "    n=100,\n",
    ")\n",
    "toolbox.register(\"population\", deap_tools.initRepeat, list, toolbox.individual)\n",
    "\n",
    "\n",
    "def evalOneMax(individual):\n",
    "    return (sum(individual),)\n",
    "\n",
    "\n",
    "toolbox.register(\"evaluate\", evalOneMax)\n",
    "toolbox.register(\"mate\", deap_tools.cxTwoPoint)\n",
    "toolbox.register(\"mutate\", deap_tools.mutFlipBit, indpb=0.05)\n",
    "\n",
    "# Decorate the variation operators\n",
    "history = deap_tools.History()\n",
    "toolbox.decorate(\"mate\", history.decorator)\n",
    "\n",
    "toolbox.decorate(\"mate\", pylib.deap.hstrat_mate_decorator)\n"
   ]
  },
  {
   "cell_type": "markdown",
   "id": "1c3c6604",
   "metadata": {
    "papermill": {
     "duration": 0.015982,
     "end_time": "2023-05-23T19:54:00.578570",
     "exception": false,
     "start_time": "2023-05-23T19:54:00.562588",
     "status": "completed"
    },
    "tags": []
   },
   "source": [
    "# Evolve\n"
   ]
  },
  {
   "cell_type": "code",
   "execution_count": 11,
   "id": "3723528e",
   "metadata": {
    "execution": {
     "iopub.execute_input": "2023-05-23T19:54:00.613191Z",
     "iopub.status.busy": "2023-05-23T19:54:00.612626Z",
     "iopub.status.idle": "2023-05-23T20:03:44.735269Z",
     "shell.execute_reply": "2023-05-23T20:03:44.734118Z"
    },
    "papermill": {
     "duration": 584.144226,
     "end_time": "2023-05-23T20:03:44.738669",
     "exception": false,
     "start_time": "2023-05-23T19:54:00.594443",
     "status": "completed"
    },
    "tags": []
   },
   "outputs": [
    {
     "name": "stderr",
     "output_type": "stream",
     "text": [
      "\r",
      "0it [00:00, ?it/s]"
     ]
    },
    {
     "name": "stderr",
     "output_type": "stream",
     "text": [
      "\r",
      "1it [00:00,  2.21it/s]"
     ]
    },
    {
     "name": "stderr",
     "output_type": "stream",
     "text": [
      "\r",
      "2it [00:01,  1.78it/s]"
     ]
    },
    {
     "name": "stderr",
     "output_type": "stream",
     "text": [
      "\r",
      "3it [00:01,  1.86it/s]"
     ]
    },
    {
     "name": "stderr",
     "output_type": "stream",
     "text": [
      "\r",
      "4it [00:02,  1.88it/s]"
     ]
    },
    {
     "name": "stderr",
     "output_type": "stream",
     "text": [
      "\r",
      "5it [00:02,  1.65it/s]"
     ]
    },
    {
     "name": "stderr",
     "output_type": "stream",
     "text": [
      "\r",
      "6it [00:03,  1.66it/s]"
     ]
    },
    {
     "name": "stderr",
     "output_type": "stream",
     "text": [
      "\r",
      "7it [00:04,  1.67it/s]"
     ]
    },
    {
     "name": "stderr",
     "output_type": "stream",
     "text": [
      "\r",
      "8it [00:04,  1.49it/s]"
     ]
    },
    {
     "name": "stderr",
     "output_type": "stream",
     "text": [
      "\r",
      "9it [00:05,  1.56it/s]"
     ]
    },
    {
     "name": "stderr",
     "output_type": "stream",
     "text": [
      "\r",
      "10it [00:06,  1.55it/s]"
     ]
    },
    {
     "name": "stderr",
     "output_type": "stream",
     "text": [
      "\r",
      "11it [00:06,  1.39it/s]"
     ]
    },
    {
     "name": "stderr",
     "output_type": "stream",
     "text": [
      "\r",
      "12it [00:07,  1.36it/s]"
     ]
    },
    {
     "name": "stderr",
     "output_type": "stream",
     "text": [
      "\r",
      "13it [00:08,  1.40it/s]"
     ]
    },
    {
     "name": "stderr",
     "output_type": "stream",
     "text": [
      "\r",
      "14it [00:09,  1.38it/s]"
     ]
    },
    {
     "name": "stderr",
     "output_type": "stream",
     "text": [
      "\r",
      "15it [00:09,  1.56it/s]"
     ]
    },
    {
     "name": "stderr",
     "output_type": "stream",
     "text": [
      "\r",
      "16it [00:10,  1.58it/s]"
     ]
    },
    {
     "name": "stderr",
     "output_type": "stream",
     "text": [
      "\r",
      "17it [00:11,  1.34it/s]"
     ]
    },
    {
     "name": "stderr",
     "output_type": "stream",
     "text": [
      "\r",
      "18it [00:12,  1.29it/s]"
     ]
    },
    {
     "name": "stderr",
     "output_type": "stream",
     "text": [
      "\r",
      "19it [00:12,  1.36it/s]"
     ]
    },
    {
     "name": "stderr",
     "output_type": "stream",
     "text": [
      "\r",
      "20it [00:13,  1.28it/s]"
     ]
    },
    {
     "name": "stderr",
     "output_type": "stream",
     "text": [
      "\r",
      "21it [00:14,  1.09it/s]"
     ]
    },
    {
     "name": "stderr",
     "output_type": "stream",
     "text": [
      "\r",
      "22it [00:15,  1.10it/s]"
     ]
    },
    {
     "name": "stderr",
     "output_type": "stream",
     "text": [
      "\r",
      "23it [00:16,  1.25it/s]"
     ]
    },
    {
     "name": "stderr",
     "output_type": "stream",
     "text": [
      "\r",
      "24it [00:17,  1.22it/s]"
     ]
    },
    {
     "name": "stderr",
     "output_type": "stream",
     "text": [
      "\r",
      "25it [00:17,  1.33it/s]"
     ]
    },
    {
     "name": "stderr",
     "output_type": "stream",
     "text": [
      "\r",
      "26it [00:18,  1.41it/s]"
     ]
    },
    {
     "name": "stderr",
     "output_type": "stream",
     "text": [
      "\r",
      "27it [00:19,  1.22it/s]"
     ]
    },
    {
     "name": "stderr",
     "output_type": "stream",
     "text": [
      "\r",
      "28it [00:20,  1.01s/it]"
     ]
    },
    {
     "name": "stderr",
     "output_type": "stream",
     "text": [
      "\r",
      "29it [00:21,  1.12it/s]"
     ]
    },
    {
     "name": "stderr",
     "output_type": "stream",
     "text": [
      "\r",
      "30it [00:22,  1.24it/s]"
     ]
    },
    {
     "name": "stderr",
     "output_type": "stream",
     "text": [
      "\r",
      "31it [00:22,  1.22it/s]"
     ]
    },
    {
     "name": "stderr",
     "output_type": "stream",
     "text": [
      "\r",
      "32it [00:23,  1.31it/s]"
     ]
    },
    {
     "name": "stderr",
     "output_type": "stream",
     "text": [
      "\r",
      "33it [00:24,  1.39it/s]"
     ]
    },
    {
     "name": "stderr",
     "output_type": "stream",
     "text": [
      "\r",
      "34it [00:24,  1.36it/s]"
     ]
    },
    {
     "name": "stderr",
     "output_type": "stream",
     "text": [
      "\r",
      "35it [00:25,  1.26it/s]"
     ]
    },
    {
     "name": "stderr",
     "output_type": "stream",
     "text": [
      "\r",
      "36it [00:27,  1.08it/s]"
     ]
    },
    {
     "name": "stderr",
     "output_type": "stream",
     "text": [
      "\r",
      "37it [00:28,  1.04s/it]"
     ]
    },
    {
     "name": "stderr",
     "output_type": "stream",
     "text": [
      "\r",
      "38it [00:29,  1.12s/it]"
     ]
    },
    {
     "name": "stderr",
     "output_type": "stream",
     "text": [
      "\r",
      "39it [00:31,  1.30s/it]"
     ]
    },
    {
     "name": "stderr",
     "output_type": "stream",
     "text": [
      "\r",
      "40it [00:32,  1.32s/it]"
     ]
    },
    {
     "name": "stderr",
     "output_type": "stream",
     "text": [
      "\r",
      "41it [00:34,  1.34s/it]"
     ]
    },
    {
     "name": "stderr",
     "output_type": "stream",
     "text": [
      "\r",
      "42it [00:36,  1.49s/it]"
     ]
    },
    {
     "name": "stderr",
     "output_type": "stream",
     "text": [
      "\r",
      "43it [00:37,  1.48s/it]"
     ]
    },
    {
     "name": "stderr",
     "output_type": "stream",
     "text": [
      "\r",
      "44it [00:39,  1.47s/it]"
     ]
    },
    {
     "name": "stderr",
     "output_type": "stream",
     "text": [
      "\r",
      "45it [00:40,  1.48s/it]"
     ]
    },
    {
     "name": "stderr",
     "output_type": "stream",
     "text": [
      "\r",
      "46it [00:42,  1.62s/it]"
     ]
    },
    {
     "name": "stderr",
     "output_type": "stream",
     "text": [
      "\r",
      "47it [00:43,  1.59s/it]"
     ]
    },
    {
     "name": "stderr",
     "output_type": "stream",
     "text": [
      "\r",
      "48it [00:45,  1.58s/it]"
     ]
    },
    {
     "name": "stderr",
     "output_type": "stream",
     "text": [
      "\r",
      "49it [00:47,  1.58s/it]"
     ]
    },
    {
     "name": "stderr",
     "output_type": "stream",
     "text": [
      "\r",
      "50it [00:49,  1.72s/it]"
     ]
    },
    {
     "name": "stderr",
     "output_type": "stream",
     "text": [
      "\r",
      "51it [00:50,  1.70s/it]"
     ]
    },
    {
     "name": "stderr",
     "output_type": "stream",
     "text": [
      "\r",
      "52it [00:51,  1.47s/it]"
     ]
    },
    {
     "name": "stderr",
     "output_type": "stream",
     "text": [
      "\r",
      "53it [00:52,  1.32s/it]"
     ]
    },
    {
     "name": "stderr",
     "output_type": "stream",
     "text": [
      "\r",
      "54it [00:53,  1.30s/it]"
     ]
    },
    {
     "name": "stderr",
     "output_type": "stream",
     "text": [
      "\r",
      "55it [00:55,  1.32s/it]"
     ]
    },
    {
     "name": "stderr",
     "output_type": "stream",
     "text": [
      "\r",
      "56it [00:56,  1.20s/it]"
     ]
    },
    {
     "name": "stderr",
     "output_type": "stream",
     "text": [
      "\r",
      "57it [00:57,  1.12s/it]"
     ]
    },
    {
     "name": "stderr",
     "output_type": "stream",
     "text": [
      "\r",
      "58it [00:58,  1.25s/it]"
     ]
    },
    {
     "name": "stderr",
     "output_type": "stream",
     "text": [
      "\r",
      "59it [01:00,  1.53s/it]"
     ]
    },
    {
     "name": "stderr",
     "output_type": "stream",
     "text": [
      "\r",
      "60it [01:02,  1.62s/it]"
     ]
    },
    {
     "name": "stderr",
     "output_type": "stream",
     "text": [
      "\r",
      "61it [01:04,  1.71s/it]"
     ]
    },
    {
     "name": "stderr",
     "output_type": "stream",
     "text": [
      "\r",
      "62it [01:06,  1.77s/it]"
     ]
    },
    {
     "name": "stderr",
     "output_type": "stream",
     "text": [
      "\r",
      "63it [01:09,  1.99s/it]"
     ]
    },
    {
     "name": "stderr",
     "output_type": "stream",
     "text": [
      "\r",
      "64it [01:11,  1.99s/it]"
     ]
    },
    {
     "name": "stderr",
     "output_type": "stream",
     "text": [
      "\r",
      "65it [01:13,  1.99s/it]"
     ]
    },
    {
     "name": "stderr",
     "output_type": "stream",
     "text": [
      "\r",
      "66it [01:15,  1.99s/it]"
     ]
    },
    {
     "name": "stderr",
     "output_type": "stream",
     "text": [
      "\r",
      "67it [01:17,  2.00s/it]"
     ]
    },
    {
     "name": "stderr",
     "output_type": "stream",
     "text": [
      "\r",
      "68it [01:19,  2.20s/it]"
     ]
    },
    {
     "name": "stderr",
     "output_type": "stream",
     "text": [
      "\r",
      "69it [01:21,  2.17s/it]"
     ]
    },
    {
     "name": "stderr",
     "output_type": "stream",
     "text": [
      "\r",
      "70it [01:23,  2.16s/it]"
     ]
    },
    {
     "name": "stderr",
     "output_type": "stream",
     "text": [
      "\r",
      "71it [01:26,  2.15s/it]"
     ]
    },
    {
     "name": "stderr",
     "output_type": "stream",
     "text": [
      "\r",
      "72it [01:28,  2.35s/it]"
     ]
    },
    {
     "name": "stderr",
     "output_type": "stream",
     "text": [
      "\r",
      "73it [01:31,  2.32s/it]"
     ]
    },
    {
     "name": "stderr",
     "output_type": "stream",
     "text": [
      "\r",
      "74it [01:32,  1.97s/it]"
     ]
    },
    {
     "name": "stderr",
     "output_type": "stream",
     "text": [
      "\r",
      "75it [01:33,  1.73s/it]"
     ]
    },
    {
     "name": "stderr",
     "output_type": "stream",
     "text": [
      "\r",
      "76it [01:34,  1.57s/it]"
     ]
    },
    {
     "name": "stderr",
     "output_type": "stream",
     "text": [
      "\r",
      "77it [01:36,  1.62s/it]"
     ]
    },
    {
     "name": "stderr",
     "output_type": "stream",
     "text": [
      "\r",
      "78it [01:37,  1.57s/it]"
     ]
    },
    {
     "name": "stderr",
     "output_type": "stream",
     "text": [
      "\r",
      "79it [01:39,  1.47s/it]"
     ]
    },
    {
     "name": "stderr",
     "output_type": "stream",
     "text": [
      "\r",
      "80it [01:40,  1.42s/it]"
     ]
    },
    {
     "name": "stderr",
     "output_type": "stream",
     "text": [
      "\r",
      "81it [01:42,  1.47s/it]"
     ]
    },
    {
     "name": "stderr",
     "output_type": "stream",
     "text": [
      "\r",
      "82it [01:44,  1.88s/it]"
     ]
    },
    {
     "name": "stderr",
     "output_type": "stream",
     "text": [
      "\r",
      "83it [01:47,  2.07s/it]"
     ]
    },
    {
     "name": "stderr",
     "output_type": "stream",
     "text": [
      "\r",
      "84it [01:49,  2.09s/it]"
     ]
    },
    {
     "name": "stderr",
     "output_type": "stream",
     "text": [
      "\r",
      "85it [01:50,  1.85s/it]"
     ]
    },
    {
     "name": "stderr",
     "output_type": "stream",
     "text": [
      "\r",
      "86it [01:52,  1.91s/it]"
     ]
    },
    {
     "name": "stderr",
     "output_type": "stream",
     "text": [
      "\r",
      "87it [01:55,  2.28s/it]"
     ]
    },
    {
     "name": "stderr",
     "output_type": "stream",
     "text": [
      "\r",
      "88it [01:57,  2.18s/it]"
     ]
    },
    {
     "name": "stderr",
     "output_type": "stream",
     "text": [
      "\r",
      "89it [02:00,  2.18s/it]"
     ]
    },
    {
     "name": "stderr",
     "output_type": "stream",
     "text": [
      "\r",
      "90it [02:02,  2.19s/it]"
     ]
    },
    {
     "name": "stderr",
     "output_type": "stream",
     "text": [
      "\r",
      "91it [02:03,  1.94s/it]"
     ]
    },
    {
     "name": "stderr",
     "output_type": "stream",
     "text": [
      "\r",
      "92it [02:05,  1.81s/it]"
     ]
    },
    {
     "name": "stderr",
     "output_type": "stream",
     "text": [
      "\r",
      "93it [02:08,  2.27s/it]"
     ]
    },
    {
     "name": "stderr",
     "output_type": "stream",
     "text": [
      "\r",
      "94it [02:11,  2.49s/it]"
     ]
    },
    {
     "name": "stderr",
     "output_type": "stream",
     "text": [
      "\r",
      "95it [02:14,  2.62s/it]"
     ]
    },
    {
     "name": "stderr",
     "output_type": "stream",
     "text": [
      "\r",
      "96it [02:17,  2.78s/it]"
     ]
    },
    {
     "name": "stderr",
     "output_type": "stream",
     "text": [
      "\r",
      "97it [02:20,  2.83s/it]"
     ]
    },
    {
     "name": "stderr",
     "output_type": "stream",
     "text": [
      "\r",
      "98it [02:24,  3.19s/it]"
     ]
    },
    {
     "name": "stderr",
     "output_type": "stream",
     "text": [
      "\r",
      "99it [02:27,  3.16s/it]"
     ]
    },
    {
     "name": "stderr",
     "output_type": "stream",
     "text": [
      "\r",
      "100it [02:30,  3.09s/it]"
     ]
    },
    {
     "name": "stderr",
     "output_type": "stream",
     "text": [
      "\r",
      "101it [02:33,  3.00s/it]"
     ]
    },
    {
     "name": "stderr",
     "output_type": "stream",
     "text": [
      "\r",
      "102it [02:36,  3.03s/it]"
     ]
    },
    {
     "name": "stderr",
     "output_type": "stream",
     "text": [
      "\r",
      "103it [02:39,  3.03s/it]"
     ]
    },
    {
     "name": "stderr",
     "output_type": "stream",
     "text": [
      "\r",
      "104it [02:43,  3.39s/it]"
     ]
    },
    {
     "name": "stderr",
     "output_type": "stream",
     "text": [
      "\r",
      "105it [02:46,  3.22s/it]"
     ]
    },
    {
     "name": "stderr",
     "output_type": "stream",
     "text": [
      "\r",
      "106it [02:49,  3.18s/it]"
     ]
    },
    {
     "name": "stderr",
     "output_type": "stream",
     "text": [
      "\r",
      "107it [02:52,  3.07s/it]"
     ]
    },
    {
     "name": "stderr",
     "output_type": "stream",
     "text": [
      "\r",
      "108it [02:55,  3.06s/it]"
     ]
    },
    {
     "name": "stderr",
     "output_type": "stream",
     "text": [
      "\r",
      "109it [02:59,  3.35s/it]"
     ]
    },
    {
     "name": "stderr",
     "output_type": "stream",
     "text": [
      "\r",
      "110it [03:02,  3.33s/it]"
     ]
    },
    {
     "name": "stderr",
     "output_type": "stream",
     "text": [
      "\r",
      "111it [03:06,  3.33s/it]"
     ]
    },
    {
     "name": "stderr",
     "output_type": "stream",
     "text": [
      "\r",
      "112it [03:09,  3.35s/it]"
     ]
    },
    {
     "name": "stderr",
     "output_type": "stream",
     "text": [
      "\r",
      "113it [03:12,  3.19s/it]"
     ]
    },
    {
     "name": "stderr",
     "output_type": "stream",
     "text": [
      "\r",
      "114it [03:15,  3.27s/it]"
     ]
    },
    {
     "name": "stderr",
     "output_type": "stream",
     "text": [
      "\r",
      "115it [03:20,  3.68s/it]"
     ]
    },
    {
     "name": "stderr",
     "output_type": "stream",
     "text": [
      "\r",
      "116it [03:23,  3.50s/it]"
     ]
    },
    {
     "name": "stderr",
     "output_type": "stream",
     "text": [
      "\r",
      "117it [03:27,  3.54s/it]"
     ]
    },
    {
     "name": "stderr",
     "output_type": "stream",
     "text": [
      "\r",
      "118it [03:30,  3.42s/it]"
     ]
    },
    {
     "name": "stderr",
     "output_type": "stream",
     "text": [
      "\r",
      "119it [03:33,  3.41s/it]"
     ]
    },
    {
     "name": "stderr",
     "output_type": "stream",
     "text": [
      "\r",
      "120it [03:37,  3.52s/it]"
     ]
    },
    {
     "name": "stderr",
     "output_type": "stream",
     "text": [
      "\r",
      "121it [03:42,  4.00s/it]"
     ]
    },
    {
     "name": "stderr",
     "output_type": "stream",
     "text": [
      "\r",
      "122it [03:45,  3.80s/it]"
     ]
    },
    {
     "name": "stderr",
     "output_type": "stream",
     "text": [
      "\r",
      "123it [03:49,  3.62s/it]"
     ]
    },
    {
     "name": "stderr",
     "output_type": "stream",
     "text": [
      "\r",
      "124it [03:52,  3.62s/it]"
     ]
    },
    {
     "name": "stderr",
     "output_type": "stream",
     "text": [
      "\r",
      "125it [03:56,  3.56s/it]"
     ]
    },
    {
     "name": "stderr",
     "output_type": "stream",
     "text": [
      "\r",
      "126it [04:00,  3.73s/it]"
     ]
    },
    {
     "name": "stderr",
     "output_type": "stream",
     "text": [
      "\r",
      "127it [04:05,  4.28s/it]"
     ]
    },
    {
     "name": "stderr",
     "output_type": "stream",
     "text": [
      "\r",
      "128it [04:09,  4.21s/it]"
     ]
    },
    {
     "name": "stderr",
     "output_type": "stream",
     "text": [
      "\r",
      "129it [04:14,  4.19s/it]"
     ]
    },
    {
     "name": "stderr",
     "output_type": "stream",
     "text": [
      "\r",
      "130it [04:17,  4.10s/it]"
     ]
    },
    {
     "name": "stderr",
     "output_type": "stream",
     "text": [
      "\r",
      "131it [04:21,  4.06s/it]"
     ]
    },
    {
     "name": "stderr",
     "output_type": "stream",
     "text": [
      "\r",
      "132it [04:25,  3.95s/it]"
     ]
    },
    {
     "name": "stderr",
     "output_type": "stream",
     "text": [
      "\r",
      "133it [04:31,  4.40s/it]"
     ]
    },
    {
     "name": "stderr",
     "output_type": "stream",
     "text": [
      "\r",
      "134it [04:34,  4.25s/it]"
     ]
    },
    {
     "name": "stderr",
     "output_type": "stream",
     "text": [
      "\r",
      "135it [04:38,  4.10s/it]"
     ]
    },
    {
     "name": "stderr",
     "output_type": "stream",
     "text": [
      "\r",
      "136it [04:41,  3.84s/it]"
     ]
    },
    {
     "name": "stderr",
     "output_type": "stream",
     "text": [
      "\r",
      "137it [04:45,  3.65s/it]"
     ]
    },
    {
     "name": "stderr",
     "output_type": "stream",
     "text": [
      "\r",
      "138it [04:48,  3.50s/it]"
     ]
    },
    {
     "name": "stderr",
     "output_type": "stream",
     "text": [
      "\r",
      "139it [04:51,  3.40s/it]"
     ]
    },
    {
     "name": "stderr",
     "output_type": "stream",
     "text": [
      "\r",
      "140it [04:55,  3.74s/it]"
     ]
    },
    {
     "name": "stderr",
     "output_type": "stream",
     "text": [
      "\r",
      "141it [04:59,  3.57s/it]"
     ]
    },
    {
     "name": "stderr",
     "output_type": "stream",
     "text": [
      "\r",
      "142it [05:02,  3.46s/it]"
     ]
    },
    {
     "name": "stderr",
     "output_type": "stream",
     "text": [
      "\r",
      "143it [05:05,  3.39s/it]"
     ]
    },
    {
     "name": "stderr",
     "output_type": "stream",
     "text": [
      "\r",
      "144it [05:08,  3.34s/it]"
     ]
    },
    {
     "name": "stderr",
     "output_type": "stream",
     "text": [
      "\r",
      "145it [05:12,  3.32s/it]"
     ]
    },
    {
     "name": "stderr",
     "output_type": "stream",
     "text": [
      "\r",
      "146it [05:15,  3.38s/it]"
     ]
    },
    {
     "name": "stderr",
     "output_type": "stream",
     "text": [
      "\r",
      "147it [05:20,  3.83s/it]"
     ]
    },
    {
     "name": "stderr",
     "output_type": "stream",
     "text": [
      "\r",
      "148it [05:23,  3.70s/it]"
     ]
    },
    {
     "name": "stderr",
     "output_type": "stream",
     "text": [
      "\r",
      "149it [05:27,  3.80s/it]"
     ]
    },
    {
     "name": "stderr",
     "output_type": "stream",
     "text": [
      "\r",
      "150it [05:32,  4.10s/it]"
     ]
    },
    {
     "name": "stderr",
     "output_type": "stream",
     "text": [
      "\r",
      "151it [05:37,  4.28s/it]"
     ]
    },
    {
     "name": "stderr",
     "output_type": "stream",
     "text": [
      "\r",
      "152it [05:41,  4.23s/it]"
     ]
    },
    {
     "name": "stderr",
     "output_type": "stream",
     "text": [
      "\r",
      "153it [05:45,  4.18s/it]"
     ]
    },
    {
     "name": "stderr",
     "output_type": "stream",
     "text": [
      "\r",
      "154it [05:51,  4.69s/it]"
     ]
    },
    {
     "name": "stderr",
     "output_type": "stream",
     "text": [
      "\r",
      "155it [05:55,  4.61s/it]"
     ]
    },
    {
     "name": "stderr",
     "output_type": "stream",
     "text": [
      "\r",
      "156it [06:00,  4.51s/it]"
     ]
    },
    {
     "name": "stderr",
     "output_type": "stream",
     "text": [
      "\r",
      "157it [06:04,  4.50s/it]"
     ]
    },
    {
     "name": "stderr",
     "output_type": "stream",
     "text": [
      "\r",
      "158it [06:09,  4.55s/it]"
     ]
    },
    {
     "name": "stderr",
     "output_type": "stream",
     "text": [
      "\r",
      "159it [06:13,  4.57s/it]"
     ]
    },
    {
     "name": "stderr",
     "output_type": "stream",
     "text": [
      "\r",
      "160it [06:18,  4.59s/it]"
     ]
    },
    {
     "name": "stderr",
     "output_type": "stream",
     "text": [
      "\r",
      "161it [06:25,  5.28s/it]"
     ]
    },
    {
     "name": "stderr",
     "output_type": "stream",
     "text": [
      "\r",
      "162it [06:30,  5.19s/it]"
     ]
    },
    {
     "name": "stderr",
     "output_type": "stream",
     "text": [
      "\r",
      "163it [06:35,  5.06s/it]"
     ]
    },
    {
     "name": "stderr",
     "output_type": "stream",
     "text": [
      "\r",
      "164it [06:39,  4.71s/it]"
     ]
    },
    {
     "name": "stderr",
     "output_type": "stream",
     "text": [
      "\r",
      "165it [06:42,  4.43s/it]"
     ]
    },
    {
     "name": "stderr",
     "output_type": "stream",
     "text": [
      "\r",
      "166it [06:47,  4.43s/it]"
     ]
    },
    {
     "name": "stderr",
     "output_type": "stream",
     "text": [
      "\r",
      "167it [06:52,  4.58s/it]"
     ]
    },
    {
     "name": "stderr",
     "output_type": "stream",
     "text": [
      "\r",
      "168it [06:56,  4.58s/it]"
     ]
    },
    {
     "name": "stderr",
     "output_type": "stream",
     "text": [
      "\r",
      "169it [07:03,  5.17s/it]"
     ]
    },
    {
     "name": "stderr",
     "output_type": "stream",
     "text": [
      "\r",
      "170it [07:07,  4.96s/it]"
     ]
    },
    {
     "name": "stderr",
     "output_type": "stream",
     "text": [
      "\r",
      "171it [07:11,  4.66s/it]"
     ]
    },
    {
     "name": "stderr",
     "output_type": "stream",
     "text": [
      "\r",
      "172it [07:16,  4.76s/it]"
     ]
    },
    {
     "name": "stderr",
     "output_type": "stream",
     "text": [
      "\r",
      "173it [07:21,  4.80s/it]"
     ]
    },
    {
     "name": "stderr",
     "output_type": "stream",
     "text": [
      "\r",
      "174it [07:26,  4.74s/it]"
     ]
    },
    {
     "name": "stderr",
     "output_type": "stream",
     "text": [
      "\r",
      "175it [07:31,  4.79s/it]"
     ]
    },
    {
     "name": "stderr",
     "output_type": "stream",
     "text": [
      "\r",
      "176it [07:36,  4.82s/it]"
     ]
    },
    {
     "name": "stderr",
     "output_type": "stream",
     "text": [
      "\r",
      "177it [07:43,  5.61s/it]"
     ]
    },
    {
     "name": "stderr",
     "output_type": "stream",
     "text": [
      "\r",
      "178it [07:48,  5.36s/it]"
     ]
    },
    {
     "name": "stderr",
     "output_type": "stream",
     "text": [
      "\r",
      "179it [07:53,  5.22s/it]"
     ]
    },
    {
     "name": "stderr",
     "output_type": "stream",
     "text": [
      "\r",
      "180it [07:58,  5.15s/it]"
     ]
    },
    {
     "name": "stderr",
     "output_type": "stream",
     "text": [
      "\r",
      "181it [08:03,  5.27s/it]"
     ]
    },
    {
     "name": "stderr",
     "output_type": "stream",
     "text": [
      "\r",
      "182it [08:08,  5.19s/it]"
     ]
    },
    {
     "name": "stderr",
     "output_type": "stream",
     "text": [
      "\r",
      "183it [08:14,  5.22s/it]"
     ]
    },
    {
     "name": "stderr",
     "output_type": "stream",
     "text": [
      "\r",
      "184it [08:18,  5.04s/it]"
     ]
    },
    {
     "name": "stderr",
     "output_type": "stream",
     "text": [
      "\r",
      "185it [08:25,  5.68s/it]"
     ]
    },
    {
     "name": "stderr",
     "output_type": "stream",
     "text": [
      "\r",
      "186it [08:30,  5.50s/it]"
     ]
    },
    {
     "name": "stderr",
     "output_type": "stream",
     "text": [
      "\r",
      "187it [08:35,  5.34s/it]"
     ]
    },
    {
     "name": "stderr",
     "output_type": "stream",
     "text": [
      "\r",
      "188it [08:41,  5.29s/it]"
     ]
    },
    {
     "name": "stderr",
     "output_type": "stream",
     "text": [
      "\r",
      "189it [08:45,  5.06s/it]"
     ]
    },
    {
     "name": "stderr",
     "output_type": "stream",
     "text": [
      "\r",
      "190it [08:50,  5.16s/it]"
     ]
    },
    {
     "name": "stderr",
     "output_type": "stream",
     "text": [
      "\r",
      "191it [08:56,  5.19s/it]"
     ]
    },
    {
     "name": "stderr",
     "output_type": "stream",
     "text": [
      "\r",
      "192it [09:01,  5.23s/it]"
     ]
    },
    {
     "name": "stderr",
     "output_type": "stream",
     "text": [
      "\r",
      "193it [09:09,  5.90s/it]"
     ]
    },
    {
     "name": "stderr",
     "output_type": "stream",
     "text": [
      "\r",
      "194it [09:14,  5.82s/it]"
     ]
    },
    {
     "name": "stderr",
     "output_type": "stream",
     "text": [
      "\r",
      "195it [09:19,  5.64s/it]"
     ]
    },
    {
     "name": "stderr",
     "output_type": "stream",
     "text": [
      "\r",
      "196it [09:24,  5.48s/it]"
     ]
    },
    {
     "name": "stderr",
     "output_type": "stream",
     "text": [
      "\r",
      "197it [09:28,  4.89s/it]"
     ]
    },
    {
     "name": "stderr",
     "output_type": "stream",
     "text": [
      "\r",
      "198it [09:33,  5.02s/it]"
     ]
    },
    {
     "name": "stderr",
     "output_type": "stream",
     "text": [
      "\r",
      "199it [09:38,  4.85s/it]"
     ]
    },
    {
     "name": "stderr",
     "output_type": "stream",
     "text": [
      "\r",
      "200it [09:42,  4.71s/it]"
     ]
    },
    {
     "name": "stderr",
     "output_type": "stream",
     "text": [
      "\r",
      "200it [09:42,  2.91s/it]"
     ]
    },
    {
     "name": "stderr",
     "output_type": "stream",
     "text": [
      "\n"
     ]
    }
   ],
   "source": [
    "# Create the population and populate the history\n",
    "population = toolbox.population(n=MILL_NPOP_SEQ[0])\n",
    "\n",
    "species_ancestor = hstrat.HereditaryStratigraphicColumn(\n",
    "    stratum_retention_policy=hstrat.perfect_resolution_algo.Policy(),\n",
    "    stratum_differentia_bit_width=HSTRAT_DIFFERENTIA_WIDTH,\n",
    ")\n",
    "gene_ancestor = hstrat.HereditaryStratigraphicColumn(\n",
    "    stratum_retention_policy=hstrat.perfect_resolution_algo.Policy(),\n",
    "    stratum_differentia_bit_width=HSTRAT_DIFFERENTIA_WIDTH,\n",
    "    initial_stratum_annotation=0,\n",
    ")\n",
    "for member in population:\n",
    "    member.species_annotation = species_ancestor.CloneDescendant()\n",
    "    member.gene_annotation = gene_ancestor.CloneDescendant(0)\n",
    "\n",
    "history.update(population)\n",
    "\n",
    "# Do the evolution, the decorators will take care of updating the\n",
    "# history\n",
    "for _gen, (NPOP, NTOURN) in tqdm(\n",
    "    enumerate(\n",
    "        zip(\n",
    "            MILL_NPOP_SEQ,\n",
    "            MILL_NTOURN_SEQ,\n",
    "        )\n",
    "    )\n",
    "):\n",
    "    toolbox.register(\"select\", deap_tools.selTournament, tournsize=NTOURN)\n",
    "    offspring = deap_algorithms.varAnd(\n",
    "        population, toolbox, cxpb=1.0, mutpb=1.0,\n",
    "    )\n",
    "    fits = toolbox.map(toolbox.evaluate, offspring)\n",
    "    for fit, ind in zip(fits, offspring):\n",
    "        ind.fitness.values = fit\n",
    "    population = toolbox.select(offspring, k=NPOP)\n",
    "    population = [copy.deepcopy(ind) for ind in population]\n",
    "\n",
    "# ensure all extant organisms registered with phylogeny tracker\n",
    "for x in population:\n",
    "    history.update([x])\n"
   ]
  },
  {
   "cell_type": "markdown",
   "id": "b7653633",
   "metadata": {
    "papermill": {
     "duration": 0.033986,
     "end_time": "2023-05-23T20:03:44.809381",
     "exception": false,
     "start_time": "2023-05-23T20:03:44.775395",
     "status": "completed"
    },
    "tags": []
   },
   "source": [
    "# Reconstruction\n"
   ]
  },
  {
   "cell_type": "code",
   "execution_count": 12,
   "id": "f49148c9",
   "metadata": {
    "execution": {
     "iopub.execute_input": "2023-05-23T20:03:44.879531Z",
     "iopub.status.busy": "2023-05-23T20:03:44.879084Z",
     "iopub.status.idle": "2023-05-23T20:03:45.161418Z",
     "shell.execute_reply": "2023-05-23T20:03:45.160331Z"
    },
    "papermill": {
     "duration": 0.355204,
     "end_time": "2023-05-23T20:03:45.198760",
     "exception": false,
     "start_time": "2023-05-23T20:03:44.843556",
     "status": "completed"
    },
    "tags": []
   },
   "outputs": [
    {
     "data": {
      "text/html": [
       "<div>\n",
       "<style scoped>\n",
       "    .dataframe tbody tr th:only-of-type {\n",
       "        vertical-align: middle;\n",
       "    }\n",
       "\n",
       "    .dataframe tbody tr th {\n",
       "        vertical-align: top;\n",
       "    }\n",
       "\n",
       "    .dataframe thead th {\n",
       "        text-align: right;\n",
       "    }\n",
       "</style>\n",
       "<table border=\"1\" class=\"dataframe\">\n",
       "  <thead>\n",
       "    <tr style=\"text-align: right;\">\n",
       "      <th></th>\n",
       "      <th>id</th>\n",
       "      <th>ancestor_list</th>\n",
       "      <th>origin_time</th>\n",
       "      <th>taxon_label</th>\n",
       "      <th>ancestor_id</th>\n",
       "      <th>name</th>\n",
       "    </tr>\n",
       "  </thead>\n",
       "  <tbody>\n",
       "    <tr>\n",
       "      <th>0</th>\n",
       "      <td>0</td>\n",
       "      <td>[none]</td>\n",
       "      <td>0.0</td>\n",
       "      <td>Root</td>\n",
       "      <td>0</td>\n",
       "      <td>Root</td>\n",
       "    </tr>\n",
       "    <tr>\n",
       "      <th>193</th>\n",
       "      <td>193</td>\n",
       "      <td>[0]</td>\n",
       "      <td>192.0</td>\n",
       "      <td>Inner+r=192+d=Po3gVCTRMY2+uid=tdcJdAeoGOXxqR6c...</td>\n",
       "      <td>0</td>\n",
       "      <td>Inner+r=192+d=Po3gVCTRMY2+uid=tdcJdAeoGOXxqR6c...</td>\n",
       "    </tr>\n",
       "    <tr>\n",
       "      <th>195</th>\n",
       "      <td>195</td>\n",
       "      <td>[193]</td>\n",
       "      <td>193.0</td>\n",
       "      <td>Inner+r=193+d=Okz9v-eNRFb+uid=CzhtJcs4dCrSpJJv...</td>\n",
       "      <td>193</td>\n",
       "      <td>Inner+r=193+d=Okz9v-eNRFb+uid=CzhtJcs4dCrSpJJv...</td>\n",
       "    </tr>\n",
       "    <tr>\n",
       "      <th>196</th>\n",
       "      <td>196</td>\n",
       "      <td>[193]</td>\n",
       "      <td>194.0</td>\n",
       "      <td>Inner+r=194+d=My5wk3-p2Oo+uid=DuG4zEcDWKJ-uhqd...</td>\n",
       "      <td>193</td>\n",
       "      <td>Inner+r=194+d=My5wk3-p2Oo+uid=DuG4zEcDWKJ-uhqd...</td>\n",
       "    </tr>\n",
       "    <tr>\n",
       "      <th>197</th>\n",
       "      <td>197</td>\n",
       "      <td>[195]</td>\n",
       "      <td>194.0</td>\n",
       "      <td>Inner+r=194+d=O2KTjTSoev5+uid=VwM3VmDZATHb7tu2...</td>\n",
       "      <td>195</td>\n",
       "      <td>Inner+r=194+d=O2KTjTSoev5+uid=VwM3VmDZATHb7tu2...</td>\n",
       "    </tr>\n",
       "    <tr>\n",
       "      <th>...</th>\n",
       "      <td>...</td>\n",
       "      <td>...</td>\n",
       "      <td>...</td>\n",
       "      <td>...</td>\n",
       "      <td>...</td>\n",
       "      <td>...</td>\n",
       "    </tr>\n",
       "    <tr>\n",
       "      <th>486</th>\n",
       "      <td>486</td>\n",
       "      <td>[290]</td>\n",
       "      <td>201.0</td>\n",
       "      <td>20115</td>\n",
       "      <td>290</td>\n",
       "      <td>20115</td>\n",
       "    </tr>\n",
       "    <tr>\n",
       "      <th>487</th>\n",
       "      <td>487</td>\n",
       "      <td>[290]</td>\n",
       "      <td>201.0</td>\n",
       "      <td>20122</td>\n",
       "      <td>290</td>\n",
       "      <td>20122</td>\n",
       "    </tr>\n",
       "    <tr>\n",
       "      <th>488</th>\n",
       "      <td>488</td>\n",
       "      <td>[290]</td>\n",
       "      <td>201.0</td>\n",
       "      <td>20141</td>\n",
       "      <td>290</td>\n",
       "      <td>20141</td>\n",
       "    </tr>\n",
       "    <tr>\n",
       "      <th>489</th>\n",
       "      <td>489</td>\n",
       "      <td>[290]</td>\n",
       "      <td>201.0</td>\n",
       "      <td>20151</td>\n",
       "      <td>290</td>\n",
       "      <td>20151</td>\n",
       "    </tr>\n",
       "    <tr>\n",
       "      <th>490</th>\n",
       "      <td>490</td>\n",
       "      <td>[290]</td>\n",
       "      <td>201.0</td>\n",
       "      <td>20183</td>\n",
       "      <td>290</td>\n",
       "      <td>20183</td>\n",
       "    </tr>\n",
       "  </tbody>\n",
       "</table>\n",
       "<p>137 rows × 6 columns</p>\n",
       "</div>"
      ],
      "text/plain": [
       "      id ancestor_list  origin_time   \n",
       "0      0        [none]          0.0  \\\n",
       "193  193           [0]        192.0   \n",
       "195  195         [193]        193.0   \n",
       "196  196         [193]        194.0   \n",
       "197  197         [195]        194.0   \n",
       "..   ...           ...          ...   \n",
       "486  486         [290]        201.0   \n",
       "487  487         [290]        201.0   \n",
       "488  488         [290]        201.0   \n",
       "489  489         [290]        201.0   \n",
       "490  490         [290]        201.0   \n",
       "\n",
       "                                           taxon_label  ancestor_id   \n",
       "0                                                 Root            0  \\\n",
       "193  Inner+r=192+d=Po3gVCTRMY2+uid=tdcJdAeoGOXxqR6c...            0   \n",
       "195  Inner+r=193+d=Okz9v-eNRFb+uid=CzhtJcs4dCrSpJJv...          193   \n",
       "196  Inner+r=194+d=My5wk3-p2Oo+uid=DuG4zEcDWKJ-uhqd...          193   \n",
       "197  Inner+r=194+d=O2KTjTSoev5+uid=VwM3VmDZATHb7tu2...          195   \n",
       "..                                                 ...          ...   \n",
       "486                                              20115          290   \n",
       "487                                              20122          290   \n",
       "488                                              20141          290   \n",
       "489                                              20151          290   \n",
       "490                                              20183          290   \n",
       "\n",
       "                                                  name  \n",
       "0                                                 Root  \n",
       "193  Inner+r=192+d=Po3gVCTRMY2+uid=tdcJdAeoGOXxqR6c...  \n",
       "195  Inner+r=193+d=Okz9v-eNRFb+uid=CzhtJcs4dCrSpJJv...  \n",
       "196  Inner+r=194+d=My5wk3-p2Oo+uid=DuG4zEcDWKJ-uhqd...  \n",
       "197  Inner+r=194+d=O2KTjTSoev5+uid=VwM3VmDZATHb7tu2...  \n",
       "..                                                 ...  \n",
       "486                                              20115  \n",
       "487                                              20122  \n",
       "488                                              20141  \n",
       "489                                              20151  \n",
       "490                                              20183  \n",
       "\n",
       "[137 rows x 6 columns]"
      ]
     },
     "execution_count": 12,
     "metadata": {},
     "output_type": "execute_result"
    }
   ],
   "source": [
    "extant_nodes = [individual.history_index for individual in population]\n",
    "reconstructed_df = hstrat.build_tree(\n",
    "    [individual.species_annotation for individual in population],\n",
    "    version_pin=hstrat.__version__,\n",
    "    force_common_ancestry=True,\n",
    "    taxon_labels=map(str, extant_nodes),\n",
    ")\n",
    "reconstructed_df[\"name\"] = reconstructed_df[\"taxon_label\"]\n",
    "reconstructed_df\n"
   ]
  },
  {
   "cell_type": "code",
   "execution_count": 13,
   "id": "9ac0a3c2",
   "metadata": {
    "execution": {
     "iopub.execute_input": "2023-05-23T20:03:45.288343Z",
     "iopub.status.busy": "2023-05-23T20:03:45.287893Z",
     "iopub.status.idle": "2023-05-23T20:03:48.832428Z",
     "shell.execute_reply": "2023-05-23T20:03:48.831256Z"
    },
    "papermill": {
     "duration": 3.583646,
     "end_time": "2023-05-23T20:03:48.835320",
     "exception": false,
     "start_time": "2023-05-23T20:03:45.251674",
     "status": "completed"
    },
    "tags": []
   },
   "outputs": [
    {
     "name": "stdout",
     "output_type": "stream",
     "text": [
      "teeplots/./notebook=ne-inference+replicate=1+treatment=selection-pressure+type=reconstruction+viz=draw-biopython-tree+ext=.pdf\n"
     ]
    },
    {
     "name": "stdout",
     "output_type": "stream",
     "text": [
      "teeplots/./notebook=ne-inference+replicate=1+treatment=selection-pressure+type=reconstruction+viz=draw-biopython-tree+ext=.png\n"
     ]
    },
    {
     "data": {
      "image/png": "[encoded data removed]",
      "text/plain": [
       "<Figure size 650x400 with 1 Axes>"
      ]
     },
     "metadata": {},
     "output_type": "display_data"
    }
   ],
   "source": [
    "reconstructed_tree = apc.alife_dataframe_to_biopython_tree(\n",
    "    reconstructed_df, setup_branch_lengths=True\n",
    ")\n",
    "plt.rcdefaults()\n",
    "plt.close('all')\n",
    "plt.clf()\n",
    "tp.tee(\n",
    "    pylib.tree.draw_biopython_tree,\n",
    "    reconstructed_tree,\n",
    "    teeplot_outattrs={\n",
    "        \"notebook\": \"ne-inference\",\n",
    "        \"replicate\": str(MILL_REPLICATE),\n",
    "        \"treatment\": MILL_TREATMENT_NAME,\n",
    "        \"type\": \"reconstruction\",\n",
    "    },\n",
    ")\n"
   ]
  },
  {
   "cell_type": "code",
   "execution_count": 14,
   "id": "6b1fc1dd",
   "metadata": {
    "execution": {
     "iopub.execute_input": "2023-05-23T20:03:48.911218Z",
     "iopub.status.busy": "2023-05-23T20:03:48.909683Z",
     "iopub.status.idle": "2023-05-23T20:03:51.343458Z",
     "shell.execute_reply": "2023-05-23T20:03:51.342123Z"
    },
    "papermill": {
     "duration": 2.475099,
     "end_time": "2023-05-23T20:03:51.346618",
     "exception": false,
     "start_time": "2023-05-23T20:03:48.871519",
     "status": "completed"
    },
    "tags": []
   },
   "outputs": [
    {
     "name": "stdout",
     "output_type": "stream",
     "text": [
      "teeplots/./drop_overlapping_labels=true+notebook=ne-inference+replicate=1+treatment=selection-pressure+type=reconstruction+viz=draw-biopython-tree+ext=.pdf\n"
     ]
    },
    {
     "name": "stdout",
     "output_type": "stream",
     "text": [
      "teeplots/./drop_overlapping_labels=true+notebook=ne-inference+replicate=1+treatment=selection-pressure+type=reconstruction+viz=draw-biopython-tree+ext=.png\n"
     ]
    },
    {
     "data": {
      "image/png": "[encoded data removed]",
      "text/plain": [
       "<Figure size 650x400 with 1 Axes>"
      ]
     },
     "metadata": {},
     "output_type": "display_data"
    }
   ],
   "source": [
    "reconstructed_tree = apc.alife_dataframe_to_biopython_tree(\n",
    "    reconstructed_df, setup_branch_lengths=True\n",
    ")\n",
    "plt.rcdefaults()\n",
    "plt.close('all')\n",
    "plt.clf()\n",
    "tp.tee(\n",
    "    pylib.tree.draw_biopython_tree,\n",
    "    reconstructed_tree,\n",
    "    drop_overlapping_labels=True,\n",
    "    teeplot_outattrs={\n",
    "        \"drop_overlapping_labels\": \"true\",\n",
    "        \"notebook\": \"ne-inference\",\n",
    "        \"replicate\": str(MILL_REPLICATE),\n",
    "        \"treatment\": MILL_TREATMENT_NAME,\n",
    "        \"type\": \"reconstruction\",\n",
    "    },\n",
    ")\n"
   ]
  },
  {
   "cell_type": "code",
   "execution_count": 15,
   "id": "47bbbd0f",
   "metadata": {
    "execution": {
     "iopub.execute_input": "2023-05-23T20:03:51.425582Z",
     "iopub.status.busy": "2023-05-23T20:03:51.425100Z",
     "iopub.status.idle": "2023-05-23T20:03:53.533419Z",
     "shell.execute_reply": "2023-05-23T20:03:53.532257Z"
    },
    "papermill": {
     "duration": 2.151052,
     "end_time": "2023-05-23T20:03:53.536441",
     "exception": false,
     "start_time": "2023-05-23T20:03:51.385389",
     "status": "completed"
    },
    "tags": []
   },
   "outputs": [
    {
     "name": "stdout",
     "output_type": "stream",
     "text": [
      "teeplots/./max_leaves=20+notebook=ne-inference+replicate=1+treatment=selection-pressure+type=reconstruction+viz=draw-biopython-tree+ext=.pdf\n"
     ]
    },
    {
     "name": "stdout",
     "output_type": "stream",
     "text": [
      "teeplots/./max_leaves=20+notebook=ne-inference+replicate=1+treatment=selection-pressure+type=reconstruction+viz=draw-biopython-tree+ext=.png\n"
     ]
    },
    {
     "data": {
      "image/png": "[encoded data removed]",
      "text/plain": [
       "<Figure size 650x400 with 1 Axes>"
      ]
     },
     "metadata": {},
     "output_type": "display_data"
    }
   ],
   "source": [
    "reconstructed_tree = apc.alife_dataframe_to_biopython_tree(\n",
    "    reconstructed_df, setup_branch_lengths=True\n",
    ")\n",
    "plt.rcdefaults()\n",
    "plt.close('all')\n",
    "plt.clf()\n",
    "tp.tee(\n",
    "    pylib.tree.draw_biopython_tree,\n",
    "    reconstructed_tree,\n",
    "    max_leaves=20,\n",
    "    teeplot_outattrs={\n",
    "        \"max_leaves\": \"20\",\n",
    "        \"notebook\": \"ne-inference\",\n",
    "        \"replicate\": str(MILL_REPLICATE),\n",
    "        \"treatment\": MILL_TREATMENT_NAME,\n",
    "        \"type\": \"reconstruction\",\n",
    "    },\n",
    ")\n"
   ]
  },
  {
   "cell_type": "markdown",
   "id": "ecd398bc",
   "metadata": {
    "papermill": {
     "duration": 0.05927,
     "end_time": "2023-05-23T20:03:53.635450",
     "exception": false,
     "start_time": "2023-05-23T20:03:53.576180",
     "status": "completed"
    },
    "tags": []
   },
   "source": [
    "# Actual Pedigree\n"
   ]
  },
  {
   "cell_type": "code",
   "execution_count": 16,
   "id": "0b02ff77",
   "metadata": {
    "execution": {
     "iopub.execute_input": "2023-05-23T20:03:53.719366Z",
     "iopub.status.busy": "2023-05-23T20:03:53.718900Z",
     "iopub.status.idle": "2023-05-23T20:04:05.000049Z",
     "shell.execute_reply": "2023-05-23T20:04:04.999256Z"
    },
    "papermill": {
     "duration": 11.328268,
     "end_time": "2023-05-23T20:04:05.002185",
     "exception": false,
     "start_time": "2023-05-23T20:03:53.673917",
     "status": "completed"
    },
    "tags": []
   },
   "outputs": [],
   "source": [
    "distilled_tree = pylib.deap.history_to_tree_upgma(history, extant_nodes)\n"
   ]
  },
  {
   "cell_type": "code",
   "execution_count": 17,
   "id": "c7d0cff5",
   "metadata": {
    "execution": {
     "iopub.execute_input": "2023-05-23T20:04:05.046876Z",
     "iopub.status.busy": "2023-05-23T20:04:05.046283Z",
     "iopub.status.idle": "2023-05-23T20:04:09.665518Z",
     "shell.execute_reply": "2023-05-23T20:04:09.662338Z"
    },
    "papermill": {
     "duration": 4.645995,
     "end_time": "2023-05-23T20:04:09.669697",
     "exception": false,
     "start_time": "2023-05-23T20:04:05.023702",
     "status": "completed"
    },
    "tags": []
   },
   "outputs": [
    {
     "name": "stdout",
     "output_type": "stream",
     "text": [
      "teeplots/./notebook=ne-inference+replicate=1+treatment=selection-pressure+type=distilled-reference+viz=draw-biopython-tree+ext=.pdf\n"
     ]
    },
    {
     "name": "stdout",
     "output_type": "stream",
     "text": [
      "teeplots/./notebook=ne-inference+replicate=1+treatment=selection-pressure+type=distilled-reference+viz=draw-biopython-tree+ext=.png\n"
     ]
    },
    {
     "data": {
      "image/png": "[encoded data removed]",
      "text/plain": [
       "<Figure size 650x400 with 1 Axes>"
      ]
     },
     "metadata": {},
     "output_type": "display_data"
    }
   ],
   "source": [
    "plt.rcdefaults()\n",
    "plt.close('all')\n",
    "plt.clf()\n",
    "tp.tee(\n",
    "    pylib.tree.draw_biopython_tree,\n",
    "    distilled_tree,\n",
    "    teeplot_outattrs={\n",
    "        \"notebook\": \"ne-inference\",\n",
    "        \"replicate\": str(MILL_REPLICATE),\n",
    "        \"treatment\": MILL_TREATMENT_NAME,\n",
    "        \"type\": \"distilled-reference\",\n",
    "    },\n",
    ")\n"
   ]
  },
  {
   "cell_type": "code",
   "execution_count": 18,
   "id": "6a006be9",
   "metadata": {
    "execution": {
     "iopub.execute_input": "2023-05-23T20:04:09.762579Z",
     "iopub.status.busy": "2023-05-23T20:04:09.760604Z",
     "iopub.status.idle": "2023-05-23T20:04:12.866544Z",
     "shell.execute_reply": "2023-05-23T20:04:12.865277Z"
    },
    "papermill": {
     "duration": 3.15401,
     "end_time": "2023-05-23T20:04:12.869642",
     "exception": false,
     "start_time": "2023-05-23T20:04:09.715632",
     "status": "completed"
    },
    "tags": []
   },
   "outputs": [
    {
     "name": "stdout",
     "output_type": "stream",
     "text": [
      "teeplots/./drop_overlapping_labels=true+notebook=ne-inference+replicate=1+treatment=selection-pressure+type=distilled-reference+viz=draw-biopython-tree+ext=.pdf\n"
     ]
    },
    {
     "name": "stdout",
     "output_type": "stream",
     "text": [
      "teeplots/./drop_overlapping_labels=true+notebook=ne-inference+replicate=1+treatment=selection-pressure+type=distilled-reference+viz=draw-biopython-tree+ext=.png\n"
     ]
    },
    {
     "data": {
      "image/png": "[encoded data removed]",
      "text/plain": [
       "<Figure size 650x400 with 1 Axes>"
      ]
     },
     "metadata": {},
     "output_type": "display_data"
    }
   ],
   "source": [
    "tp.tee(\n",
    "    pylib.tree.draw_biopython_tree,\n",
    "    distilled_tree,\n",
    "    drop_overlapping_labels=True,\n",
    "    teeplot_outattrs={\n",
    "        \"drop_overlapping_labels\": \"true\",\n",
    "        \"notebook\": \"ne-inference\",\n",
    "        \"replicate\": str(MILL_REPLICATE),\n",
    "        \"treatment\": MILL_TREATMENT_NAME,\n",
    "        \"type\": \"distilled-reference\",\n",
    "    },\n",
    ")\n"
   ]
  },
  {
   "cell_type": "code",
   "execution_count": 19,
   "id": "311351af",
   "metadata": {
    "execution": {
     "iopub.execute_input": "2023-05-23T20:04:12.961043Z",
     "iopub.status.busy": "2023-05-23T20:04:12.960514Z",
     "iopub.status.idle": "2023-05-23T20:04:14.974721Z",
     "shell.execute_reply": "2023-05-23T20:04:14.973695Z"
    },
    "papermill": {
     "duration": 2.063636,
     "end_time": "2023-05-23T20:04:14.977565",
     "exception": false,
     "start_time": "2023-05-23T20:04:12.913929",
     "status": "completed"
    },
    "tags": []
   },
   "outputs": [
    {
     "name": "stdout",
     "output_type": "stream",
     "text": [
      "teeplots/./max_leaves=20+notebook=ne-inference+replicate=1+treatment=selection-pressure+type=distilled-reference+viz=draw-biopython-tree+ext=.pdf\n"
     ]
    },
    {
     "name": "stdout",
     "output_type": "stream",
     "text": [
      "teeplots/./max_leaves=20+notebook=ne-inference+replicate=1+treatment=selection-pressure+type=distilled-reference+viz=draw-biopython-tree+ext=.png\n"
     ]
    },
    {
     "data": {
      "image/png": "[encoded data removed]",
      "text/plain": [
       "<Figure size 650x400 with 1 Axes>"
      ]
     },
     "metadata": {},
     "output_type": "display_data"
    }
   ],
   "source": [
    "tp.tee(\n",
    "    pylib.tree.draw_biopython_tree,\n",
    "    distilled_tree,\n",
    "    max_leaves=20,\n",
    "    teeplot_outattrs={\n",
    "        \"max_leaves\": \"20\",\n",
    "        \"notebook\": \"ne-inference\",\n",
    "        \"replicate\": str(MILL_REPLICATE),\n",
    "        \"treatment\": MILL_TREATMENT_NAME,\n",
    "        \"type\": \"distilled-reference\",\n",
    "    },\n",
    ")\n"
   ]
  },
  {
   "cell_type": "code",
   "execution_count": 20,
   "id": "7008ba4b",
   "metadata": {
    "execution": {
     "iopub.execute_input": "2023-05-23T20:04:15.131570Z",
     "iopub.status.busy": "2023-05-23T20:04:15.131117Z",
     "iopub.status.idle": "2023-05-23T20:04:24.028308Z",
     "shell.execute_reply": "2023-05-23T20:04:24.027137Z"
    },
    "papermill": {
     "duration": 8.947739,
     "end_time": "2023-05-23T20:04:24.031532",
     "exception": false,
     "start_time": "2023-05-23T20:04:15.083793",
     "status": "completed"
    },
    "tags": []
   },
   "outputs": [
    {
     "data": {
      "text/plain": [
       "0.447932470082691"
      ]
     },
     "execution_count": 20,
     "metadata": {},
     "output_type": "execute_result"
    }
   ],
   "source": [
    "distilled_tree = pylib.deap.history_to_tree_upgma(\n",
    "    history, extant_nodes, correct_origin_times=False\n",
    ")\n",
    "pylib.tree.polymorphic_quartet_distance(reconstructed_tree, distilled_tree)\n"
   ]
  },
  {
   "cell_type": "markdown",
   "id": "93ee3402",
   "metadata": {
    "papermill": {
     "duration": 0.046633,
     "end_time": "2023-05-23T20:04:24.125690",
     "exception": false,
     "start_time": "2023-05-23T20:04:24.079057",
     "status": "completed"
    },
    "tags": []
   },
   "source": [
    "# Differentia Magnitude\n"
   ]
  },
  {
   "cell_type": "code",
   "execution_count": 21,
   "id": "ec124a3f",
   "metadata": {
    "execution": {
     "iopub.execute_input": "2023-05-23T20:04:24.216660Z",
     "iopub.status.busy": "2023-05-23T20:04:24.216130Z",
     "iopub.status.idle": "2023-05-23T20:04:24.224045Z",
     "shell.execute_reply": "2023-05-23T20:04:24.222838Z"
    },
    "papermill": {
     "duration": 0.054848,
     "end_time": "2023-05-23T20:04:24.226975",
     "exception": false,
     "start_time": "2023-05-23T20:04:24.172127",
     "status": "completed"
    },
    "tags": []
   },
   "outputs": [],
   "source": [
    "rd_data = dict(population[0].species_annotation.IterRankDifferentiaZip())\n"
   ]
  },
  {
   "cell_type": "code",
   "execution_count": 22,
   "id": "846f27cd",
   "metadata": {
    "execution": {
     "iopub.execute_input": "2023-05-23T20:04:24.315648Z",
     "iopub.status.busy": "2023-05-23T20:04:24.314722Z",
     "iopub.status.idle": "2023-05-23T20:04:25.969148Z",
     "shell.execute_reply": "2023-05-23T20:04:25.967779Z"
    },
    "papermill": {
     "duration": 1.703354,
     "end_time": "2023-05-23T20:04:25.973340",
     "exception": false,
     "start_time": "2023-05-23T20:04:24.269986",
     "status": "completed"
    },
    "tags": []
   },
   "outputs": [
    {
     "name": "stdout",
     "output_type": "stream",
     "text": [
      "teeplots/./notebook=ne-inference+replicate=1+treatment=selection-pressure+viz=scatterplot-differentia-magnitude+ext=.pdf\n"
     ]
    },
    {
     "name": "stdout",
     "output_type": "stream",
     "text": [
      "teeplots/./notebook=ne-inference+replicate=1+treatment=selection-pressure+viz=scatterplot-differentia-magnitude+ext=.png\n"
     ]
    },
    {
     "data": {
      "image/png": "[encoded data removed]",
      "text/plain": [
       "<Figure size 640x480 with 1 Axes>"
      ]
     },
     "metadata": {},
     "output_type": "display_data"
    }
   ],
   "source": [
    "def scatterplot_differentia_magnitude():\n",
    "#     plt.plot(*[*zip(*enumerate(MILL_NPOP_SEQ))])\n",
    "\n",
    "    sns.scatterplot(\n",
    "        x=rd_data.keys(),\n",
    "        y=rd_data.values(),\n",
    "        c=\"k\",\n",
    "    )\n",
    "\n",
    "    for i, (a, b) in enumerate(it.pairwise(MILL_NPOP_SEQ)):\n",
    "        if abs(a - b) > 2:\n",
    "            plt.axvline(i + 1, c=\"white\", lw=6)\n",
    "\n",
    "            plt.axvline(i + 1, ls=\":\", c=\"red\")\n",
    "    for i, (a, b) in enumerate(it.pairwise(MILL_NTOURN_SEQ)):\n",
    "        if a != b:\n",
    "            plt.axvline(i + 1, c=\"white\", lw=6)\n",
    "            plt.axvline(i + 1, ls=\":\", c=\"red\")\n",
    "\n",
    "    plt.ylabel(\"fixed differentia magnitude\")\n",
    "    plt.xlabel(\"generation\")\n",
    "\n",
    "plt.rcdefaults()\n",
    "plt.close('all')\n",
    "plt.clf()\n",
    "tp.tee(\n",
    "    scatterplot_differentia_magnitude,\n",
    "    teeplot_outattrs={\n",
    "        \"notebook\": \"ne-inference\",\n",
    "        \"replicate\": str(MILL_REPLICATE),\n",
    "        \"treatment\": MILL_TREATMENT_NAME,\n",
    "    },\n",
    ")\n"
   ]
  },
  {
   "cell_type": "code",
   "execution_count": 23,
   "id": "24eff28e",
   "metadata": {
    "execution": {
     "iopub.execute_input": "2023-05-23T20:04:26.151847Z",
     "iopub.status.busy": "2023-05-23T20:04:26.150617Z",
     "iopub.status.idle": "2023-05-23T20:04:28.123733Z",
     "shell.execute_reply": "2023-05-23T20:04:28.122388Z"
    },
    "papermill": {
     "duration": 2.051472,
     "end_time": "2023-05-23T20:04:28.127744",
     "exception": false,
     "start_time": "2023-05-23T20:04:26.076272",
     "status": "completed"
    },
    "tags": []
   },
   "outputs": [
    {
     "name": "stdout",
     "output_type": "stream",
     "text": [
      "teeplots/./notebook=ne-inference+replicate=1+treatment=selection-pressure+viz=scatterplot-popsize-estimates+ext=.pdf\n"
     ]
    },
    {
     "name": "stdout",
     "output_type": "stream",
     "text": [
      "teeplots/./notebook=ne-inference+replicate=1+treatment=selection-pressure+viz=scatterplot-popsize-estimates+ext=.png\n"
     ]
    },
    {
     "data": {
      "image/png": "[encoded data removed]",
      "text/plain": [
       "<Figure size 640x480 with 1 Axes>"
      ]
     },
     "metadata": {},
     "output_type": "display_data"
    }
   ],
   "source": [
    "def scatterplot_popsize_estimates():\n",
    "    plt.plot(*[*zip(*enumerate(MILL_NPOP_SEQ))])\n",
    "\n",
    "    sns.scatterplot(\n",
    "        x=rd_data.keys(),\n",
    "       y=[\n",
    "            -1 / np.log(x / 2**HSTRAT_DIFFERENTIA_WIDTH)\n",
    "            for x in rd_data.values()\n",
    "        ],\n",
    "        c=\"k\",\n",
    "    )\n",
    "\n",
    "    for i, (a, b) in enumerate(it.pairwise(MILL_NPOP_SEQ)):\n",
    "        if abs(a - b) > 2:\n",
    "            plt.axvline(i + 1, c=\"white\", lw=6)\n",
    "\n",
    "            plt.axvline(i + 1, ls=\":\", c=\"red\")\n",
    "    for i, (a, b) in enumerate(it.pairwise(MILL_NTOURN_SEQ)):\n",
    "        if a != b:\n",
    "            plt.axvline(i + 1, c=\"white\", lw=6)\n",
    "            plt.axvline(i + 1, ls=\":\", c=\"red\")\n",
    "\n",
    "    plt.ylabel(\"estimated population size\")\n",
    "    plt.xlabel(\"generation\")\n",
    "\n",
    "plt.rcdefaults()\n",
    "plt.close('all')\n",
    "plt.clf()\n",
    "tp.tee(\n",
    "    scatterplot_popsize_estimates,\n",
    "    teeplot_outattrs={\n",
    "        \"notebook\": \"ne-inference\",\n",
    "        \"replicate\": str(MILL_REPLICATE),\n",
    "        \"treatment\": MILL_TREATMENT_NAME,\n",
    "    },\n",
    ")\n"
   ]
  },
  {
   "cell_type": "code",
   "execution_count": 24,
   "id": "4e4e4dfa",
   "metadata": {
    "execution": {
     "iopub.execute_input": "2023-05-23T20:04:28.240674Z",
     "iopub.status.busy": "2023-05-23T20:04:28.240139Z",
     "iopub.status.idle": "2023-05-23T20:04:28.257573Z",
     "shell.execute_reply": "2023-05-23T20:04:28.254332Z"
    },
    "papermill": {
     "duration": 0.086676,
     "end_time": "2023-05-23T20:04:28.264120",
     "exception": false,
     "start_time": "2023-05-23T20:04:28.177444",
     "status": "completed"
    },
    "tags": []
   },
   "outputs": [],
   "source": [
    "# TODO pool strata to create a running estimate with 95% confidence interval bands\n",
    "import pandas as pd\n",
    "\n",
    "df = pd.DataFrame(\n",
    "    {\n",
    "        \"rank\": rd_data.keys(),\n",
    "        \"differentia\": rd_data.values(),\n",
    "    }\n",
    ")\n",
    "\n",
    "df[\"normalized differentia\"] = (\n",
    "    df[\"differentia\"] / 2**HSTRAT_DIFFERENTIA_WIDTH\n",
    ")\n"
   ]
  },
  {
   "cell_type": "code",
   "execution_count": 25,
   "id": "81e544f5",
   "metadata": {
    "execution": {
     "iopub.execute_input": "2023-05-23T20:04:28.372208Z",
     "iopub.status.busy": "2023-05-23T20:04:28.371739Z",
     "iopub.status.idle": "2023-05-23T20:04:28.388502Z",
     "shell.execute_reply": "2023-05-23T20:04:28.387325Z"
    },
    "papermill": {
     "duration": 0.070862,
     "end_time": "2023-05-23T20:04:28.391899",
     "exception": false,
     "start_time": "2023-05-23T20:04:28.321037",
     "status": "completed"
    },
    "tags": []
   },
   "outputs": [],
   "source": [
    "# https://github.com/mmore500/hereditary-stratigraph-concept/blob/3ebe7a7f3f03c03592564a64b0024632888d8f1d/binder/popsize/maximum_likelihood_popsize_estimator_confidence_interval.ipynb\n",
    "def solve_mle_popsize_ci_lb(\n",
    "    observations: typing.List[float],\n",
    "    *,\n",
    "    confidence: float = 0.95,\n",
    ") -> float:\n",
    "\n",
    "    k = len(observations)\n",
    "    hat_x = math.prod(observations)\n",
    "\n",
    "    # use mle estimate as starting guess\n",
    "    hat_n_mle = -k / math.log(hat_x)\n",
    "\n",
    "    n_lb = sympy.Symbol(\n",
    "        \"n_\\mathrm{lb}\",\n",
    "        positive=True,\n",
    "        real=True,\n",
    "    )\n",
    "\n",
    "    return float(\n",
    "        sympy.nsolve(\n",
    "            2 * sympy.uppergamma(k, -n_lb * sympy.log(hat_x))\n",
    "            - (confidence + 1) * sympy.gamma(k),\n",
    "            hat_n_mle,\n",
    "            verify=False,\n",
    "        )\n",
    "    )\n",
    "\n",
    "\n",
    "def solve_mle_popsize_ci_ub(\n",
    "    observations: typing.List[float],\n",
    "    *,\n",
    "    confidence: float = 0.95,\n",
    ") -> float:\n",
    "\n",
    "    k = len(observations)\n",
    "    hat_x = math.prod(observations)\n",
    "\n",
    "    # use mle estimate as starting guess\n",
    "    hat_n_mle = -k / math.log(hat_x)\n",
    "\n",
    "    n_lb = sympy.Symbol(\n",
    "        \"n_\\mathrm{ub}\",\n",
    "        positive=True,\n",
    "        real=True,\n",
    "    )\n",
    "\n",
    "    return float(\n",
    "        sympy.nsolve(\n",
    "            2 * sympy.uppergamma(k, -n_lb * sympy.log(hat_x))\n",
    "            - (1 - confidence) * sympy.gamma(k),\n",
    "            hat_n_mle,\n",
    "            verify=False,\n",
    "        )\n",
    "    )\n"
   ]
  },
  {
   "cell_type": "code",
   "execution_count": 26,
   "id": "c8f98ff3",
   "metadata": {
    "execution": {
     "iopub.execute_input": "2023-05-23T20:04:28.514115Z",
     "iopub.status.busy": "2023-05-23T20:04:28.513488Z",
     "iopub.status.idle": "2023-05-23T20:04:57.201477Z",
     "shell.execute_reply": "2023-05-23T20:04:57.199840Z"
    },
    "papermill": {
     "duration": 28.753546,
     "end_time": "2023-05-23T20:04:57.205465",
     "exception": false,
     "start_time": "2023-05-23T20:04:28.451919",
     "status": "completed"
    },
    "tags": []
   },
   "outputs": [],
   "source": [
    "# Calculate the pooled running estimate\n",
    "k = 10\n",
    "\n",
    "df[\"running_ub\"] = (\n",
    "    df[\"normalized differentia\"]\n",
    "    .rolling(window=k)\n",
    "    .apply(solve_mle_popsize_ci_ub)\n",
    ")\n",
    "df[\"running_lb\"] = (\n",
    "    df[\"normalized differentia\"]\n",
    "    .rolling(window=k)\n",
    "    .apply(solve_mle_popsize_ci_lb)\n",
    ")\n",
    "df[\"population size\"] = (\n",
    "    df[\"normalized differentia\"]\n",
    "    .rolling(window=k)\n",
    "    .apply(lambda x: -k / np.sum(np.log(x)))\n",
    ")\n",
    "\n",
    "k = 1\n",
    "df[\"population size from singleton\"] = (\n",
    "    df[\"normalized differentia\"]\n",
    "    .rolling(window=k)\n",
    "    .apply(lambda x: -k / np.sum(np.log(x)))\n",
    ")\n"
   ]
  },
  {
   "cell_type": "code",
   "execution_count": 27,
   "id": "ae3752b5",
   "metadata": {
    "execution": {
     "iopub.execute_input": "2023-05-23T20:04:57.331522Z",
     "iopub.status.busy": "2023-05-23T20:04:57.330945Z",
     "iopub.status.idle": "2023-05-23T20:04:59.468246Z",
     "shell.execute_reply": "2023-05-23T20:04:59.466648Z"
    },
    "papermill": {
     "duration": 2.205426,
     "end_time": "2023-05-23T20:04:59.472991",
     "exception": false,
     "start_time": "2023-05-23T20:04:57.267565",
     "status": "completed"
    },
    "tags": []
   },
   "outputs": [
    {
     "name": "stdout",
     "output_type": "stream",
     "text": [
      "teeplots/./notebook=ne-inference+replicate=1+treatment=selection-pressure+viz=plot-running-estimation+x=rank+y=population-size+ext=.pdf\n"
     ]
    },
    {
     "name": "stdout",
     "output_type": "stream",
     "text": [
      "teeplots/./notebook=ne-inference+replicate=1+treatment=selection-pressure+viz=plot-running-estimation+x=rank+y=population-size+ext=.png\n"
     ]
    },
    {
     "data": {
      "image/png": "[encoded data removed]",
      "text/plain": [
       "<Figure size 640x480 with 1 Axes>"
      ]
     },
     "metadata": {},
     "output_type": "display_data"
    }
   ],
   "source": [
    "def plot_running_estimation(x, y, data):\n",
    "    plt.plot(*[*zip(*enumerate(MILL_NPOP_SEQ))])\n",
    "\n",
    "    sns.lineplot(\n",
    "        data=data,\n",
    "        x=x,\n",
    "        y=y,\n",
    "        c=\"k\",\n",
    "    )\n",
    "\n",
    "    for i, (a, b) in enumerate(it.pairwise(MILL_NPOP_SEQ)):\n",
    "        if abs(a - b) > 2:\n",
    "            plt.axvline(i + 1, c=\"white\", lw=6)\n",
    "            plt.axvline(i + 1, ls=\":\", c=\"red\")\n",
    "\n",
    "    for i, (a, b) in enumerate(it.pairwise(MILL_NTOURN_SEQ)):\n",
    "        if a != b:\n",
    "            plt.axvline(i + 1, c=\"white\", lw=6)\n",
    "            plt.axvline(i + 1, ls=\":\", c=\"red\")\n",
    "\n",
    "    plt.fill_between(\n",
    "        df[\"rank\"], df[\"running_ub\"], df[\"running_lb\"], fc=\"lightblue\"\n",
    "    )\n",
    "    plt.xlabel(\"generation\")\n",
    "\n",
    "\n",
    "plt.rcdefaults()\n",
    "plt.close('all')\n",
    "plt.clf()\n",
    "tp.tee(\n",
    "    plot_running_estimation,\n",
    "    x=\"rank\",\n",
    "    y=\"population size\",\n",
    "    data=df,\n",
    "    teeplot_outattrs={\n",
    "        \"notebook\": \"ne-inference\",\n",
    "        \"replicate\": str(MILL_REPLICATE),\n",
    "        \"treatment\": MILL_TREATMENT_NAME,\n",
    "    },\n",
    ")\n"
   ]
  },
  {
   "cell_type": "code",
   "execution_count": 28,
   "id": "e185d909",
   "metadata": {
    "execution": {
     "iopub.execute_input": "2023-05-23T20:04:59.606408Z",
     "iopub.status.busy": "2023-05-23T20:04:59.605775Z",
     "iopub.status.idle": "2023-05-23T20:04:59.785314Z",
     "shell.execute_reply": "2023-05-23T20:04:59.783777Z"
    },
    "papermill": {
     "duration": 0.250168,
     "end_time": "2023-05-23T20:04:59.789549",
     "exception": false,
     "start_time": "2023-05-23T20:04:59.539381",
     "status": "completed"
    },
    "tags": []
   },
   "outputs": [
    {
     "data": {
      "text/html": [
       "<div>\n",
       "<style scoped>\n",
       "    .dataframe tbody tr th:only-of-type {\n",
       "        vertical-align: middle;\n",
       "    }\n",
       "\n",
       "    .dataframe tbody tr th {\n",
       "        vertical-align: top;\n",
       "    }\n",
       "\n",
       "    .dataframe thead th {\n",
       "        text-align: right;\n",
       "    }\n",
       "</style>\n",
       "<table border=\"1\" class=\"dataframe\">\n",
       "  <thead>\n",
       "    <tr style=\"text-align: right;\">\n",
       "      <th></th>\n",
       "      <th>notebook</th>\n",
       "      <th>replicate</th>\n",
       "      <th>treatment</th>\n",
       "      <th>first rank</th>\n",
       "      <th>population size estimate at first rank</th>\n",
       "      <th>population size upper bound at first rank</th>\n",
       "      <th>population size lower bound at first rank</th>\n",
       "      <th>second rank</th>\n",
       "      <th>population size estimate at second rank</th>\n",
       "      <th>population size upper bound at second rank</th>\n",
       "      <th>population size lower bound at second rank</th>\n",
       "      <th>nonoverlapping CI</th>\n",
       "      <th>Mann-Whitney p</th>\n",
       "      <th>Mann-Whitney significant at alpha = 0.05</th>\n",
       "      <th>Mann-Whitney significant at alpha = 0.01</th>\n",
       "    </tr>\n",
       "  </thead>\n",
       "  <tbody>\n",
       "    <tr>\n",
       "      <th>0</th>\n",
       "      <td>ne-inference</td>\n",
       "      <td>1</td>\n",
       "      <td>selection-pressure</td>\n",
       "      <td>33</td>\n",
       "      <td>15.787865</td>\n",
       "      <td>26.973258</td>\n",
       "      <td>7.570895</td>\n",
       "      <td>100</td>\n",
       "      <td>98.152351</td>\n",
       "      <td>167.691362</td>\n",
       "      <td>47.067867</td>\n",
       "      <td>True</td>\n",
       "      <td>0.000369</td>\n",
       "      <td>True</td>\n",
       "      <td>True</td>\n",
       "    </tr>\n",
       "    <tr>\n",
       "      <th>1</th>\n",
       "      <td>ne-inference</td>\n",
       "      <td>1</td>\n",
       "      <td>selection-pressure</td>\n",
       "      <td>33</td>\n",
       "      <td>15.787865</td>\n",
       "      <td>26.973258</td>\n",
       "      <td>7.570895</td>\n",
       "      <td>166</td>\n",
       "      <td>24.459614</td>\n",
       "      <td>41.788769</td>\n",
       "      <td>11.729335</td>\n",
       "      <td>False</td>\n",
       "      <td>0.755781</td>\n",
       "      <td>False</td>\n",
       "      <td>False</td>\n",
       "    </tr>\n",
       "    <tr>\n",
       "      <th>2</th>\n",
       "      <td>ne-inference</td>\n",
       "      <td>1</td>\n",
       "      <td>selection-pressure</td>\n",
       "      <td>100</td>\n",
       "      <td>98.152351</td>\n",
       "      <td>167.691362</td>\n",
       "      <td>47.067867</td>\n",
       "      <td>33</td>\n",
       "      <td>15.787865</td>\n",
       "      <td>26.973258</td>\n",
       "      <td>7.570895</td>\n",
       "      <td>True</td>\n",
       "      <td>0.000369</td>\n",
       "      <td>True</td>\n",
       "      <td>True</td>\n",
       "    </tr>\n",
       "    <tr>\n",
       "      <th>3</th>\n",
       "      <td>ne-inference</td>\n",
       "      <td>1</td>\n",
       "      <td>selection-pressure</td>\n",
       "      <td>100</td>\n",
       "      <td>98.152351</td>\n",
       "      <td>167.691362</td>\n",
       "      <td>47.067867</td>\n",
       "      <td>166</td>\n",
       "      <td>24.459614</td>\n",
       "      <td>41.788769</td>\n",
       "      <td>11.729335</td>\n",
       "      <td>True</td>\n",
       "      <td>0.002687</td>\n",
       "      <td>True</td>\n",
       "      <td>True</td>\n",
       "    </tr>\n",
       "    <tr>\n",
       "      <th>4</th>\n",
       "      <td>ne-inference</td>\n",
       "      <td>1</td>\n",
       "      <td>selection-pressure</td>\n",
       "      <td>166</td>\n",
       "      <td>24.459614</td>\n",
       "      <td>41.788769</td>\n",
       "      <td>11.729335</td>\n",
       "      <td>33</td>\n",
       "      <td>15.787865</td>\n",
       "      <td>26.973258</td>\n",
       "      <td>7.570895</td>\n",
       "      <td>False</td>\n",
       "      <td>0.755781</td>\n",
       "      <td>False</td>\n",
       "      <td>False</td>\n",
       "    </tr>\n",
       "    <tr>\n",
       "      <th>5</th>\n",
       "      <td>ne-inference</td>\n",
       "      <td>1</td>\n",
       "      <td>selection-pressure</td>\n",
       "      <td>166</td>\n",
       "      <td>24.459614</td>\n",
       "      <td>41.788769</td>\n",
       "      <td>11.729335</td>\n",
       "      <td>100</td>\n",
       "      <td>98.152351</td>\n",
       "      <td>167.691362</td>\n",
       "      <td>47.067867</td>\n",
       "      <td>True</td>\n",
       "      <td>0.002687</td>\n",
       "      <td>True</td>\n",
       "      <td>True</td>\n",
       "    </tr>\n",
       "  </tbody>\n",
       "</table>\n",
       "</div>"
      ],
      "text/plain": [
       "       notebook  replicate           treatment  first rank   \n",
       "0  ne-inference          1  selection-pressure          33  \\\n",
       "1  ne-inference          1  selection-pressure          33   \n",
       "2  ne-inference          1  selection-pressure         100   \n",
       "3  ne-inference          1  selection-pressure         100   \n",
       "4  ne-inference          1  selection-pressure         166   \n",
       "5  ne-inference          1  selection-pressure         166   \n",
       "\n",
       "   population size estimate at first rank   \n",
       "0                               15.787865  \\\n",
       "1                               15.787865   \n",
       "2                               98.152351   \n",
       "3                               98.152351   \n",
       "4                               24.459614   \n",
       "5                               24.459614   \n",
       "\n",
       "   population size upper bound at first rank   \n",
       "0                                  26.973258  \\\n",
       "1                                  26.973258   \n",
       "2                                 167.691362   \n",
       "3                                 167.691362   \n",
       "4                                  41.788769   \n",
       "5                                  41.788769   \n",
       "\n",
       "   population size lower bound at first rank  second rank   \n",
       "0                                   7.570895          100  \\\n",
       "1                                   7.570895          166   \n",
       "2                                  47.067867           33   \n",
       "3                                  47.067867          166   \n",
       "4                                  11.729335           33   \n",
       "5                                  11.729335          100   \n",
       "\n",
       "   population size estimate at second rank   \n",
       "0                                98.152351  \\\n",
       "1                                24.459614   \n",
       "2                                15.787865   \n",
       "3                                24.459614   \n",
       "4                                15.787865   \n",
       "5                                98.152351   \n",
       "\n",
       "   population size upper bound at second rank   \n",
       "0                                  167.691362  \\\n",
       "1                                   41.788769   \n",
       "2                                   26.973258   \n",
       "3                                   41.788769   \n",
       "4                                   26.973258   \n",
       "5                                  167.691362   \n",
       "\n",
       "   population size lower bound at second rank  nonoverlapping CI   \n",
       "0                                   47.067867               True  \\\n",
       "1                                   11.729335              False   \n",
       "2                                    7.570895               True   \n",
       "3                                   11.729335               True   \n",
       "4                                    7.570895              False   \n",
       "5                                   47.067867               True   \n",
       "\n",
       "   Mann-Whitney p  Mann-Whitney significant at alpha = 0.05   \n",
       "0        0.000369                                      True  \\\n",
       "1        0.755781                                     False   \n",
       "2        0.000369                                      True   \n",
       "3        0.002687                                      True   \n",
       "4        0.755781                                     False   \n",
       "5        0.002687                                      True   \n",
       "\n",
       "   Mann-Whitney significant at alpha = 0.01  \n",
       "0                                      True  \n",
       "1                                     False  \n",
       "2                                      True  \n",
       "3                                      True  \n",
       "4                                     False  \n",
       "5                                      True  "
      ]
     },
     "execution_count": 28,
     "metadata": {},
     "output_type": "execute_result"
    }
   ],
   "source": [
    "records = [\n",
    "    {\n",
    "        \"notebook\": \"ne-inference\",\n",
    "        \"replicate\": MILL_REPLICATE,\n",
    "        \"treatment\": MILL_TREATMENT_NAME,\n",
    "        \"first rank\": first_rank,\n",
    "        \"population size estimate at first rank\": df[\n",
    "            df[\"rank\"] == first_rank\n",
    "        ].iloc[0][\"population size\"],\n",
    "        \"population size upper bound at first rank\": df[\n",
    "            df[\"rank\"] == first_rank\n",
    "        ].iloc[0][\"running_ub\"],\n",
    "        \"population size lower bound at first rank\": df[\n",
    "            df[\"rank\"] == first_rank\n",
    "        ].iloc[0][\"running_lb\"],\n",
    "        \"second rank\": second_rank,\n",
    "        \"population size estimate at second rank\": df[\n",
    "            df[\"rank\"] == second_rank\n",
    "        ].iloc[0][\"population size\"],\n",
    "        \"population size upper bound at second rank\": df[\n",
    "            df[\"rank\"] == second_rank\n",
    "        ].iloc[0][\"running_ub\"],\n",
    "        \"population size lower bound at second rank\": df[\n",
    "            df[\"rank\"] == second_rank\n",
    "        ].iloc[0][\"running_lb\"],\n",
    "        \"nonoverlapping CI\": min(\n",
    "            df[df[\"rank\"] == first_rank].iloc[0][\"running_ub\"],\n",
    "            df[df[\"rank\"] == second_rank].iloc[0][\"running_ub\"],\n",
    "        )\n",
    "        < max(\n",
    "            df[df[\"rank\"] == first_rank].iloc[0][\"running_lb\"],\n",
    "            df[df[\"rank\"] == second_rank].iloc[0][\"running_lb\"],\n",
    "        ),\n",
    "        \"Mann-Whitney p\": scipy_stats.mannwhitneyu(\n",
    "            df.loc[\n",
    "                (df[\"rank\"] - first_rank).abs() < 15,\n",
    "                \"population size from singleton\",\n",
    "            ],\n",
    "            df.loc[\n",
    "                (df[\"rank\"] - second_rank).abs() < 15,\n",
    "                \"population size from singleton\",\n",
    "            ],\n",
    "        )[1],\n",
    "    }\n",
    "    for first_rank, second_rank in it.permutations([33, 100, 166], 2)\n",
    "]\n",
    "outdf = pd.DataFrame.from_records(records)\n",
    "outdf[\"Mann-Whitney significant at alpha = 0.05\"] = (\n",
    "    outdf[\"Mann-Whitney p\"] < 0.05\n",
    ")\n",
    "outdf[\"Mann-Whitney significant at alpha = 0.01\"] = (\n",
    "    outdf[\"Mann-Whitney p\"] < 0.01\n",
    ")\n",
    "outdf.to_csv(\n",
    "    kn.pack(\n",
    "        {\n",
    "            \"a\": \"snapshot-comparisons-stats\",\n",
    "            \"notebook\": \"ne-inference\",\n",
    "            \"replicate\": MILL_REPLICATE,\n",
    "            \"treatment\": MILL_TREATMENT_NAME,\n",
    "            \"ext\": \".csv\",\n",
    "        }\n",
    "    )\n",
    ")\n",
    "outdf\n"
   ]
  }
 ],
 "metadata": {
  "kernelspec": {
   "display_name": "Python 3",
   "language": "python",
   "name": "python3"
  },
  "language_info": {
   "codemirror_mode": {
    "name": "ipython",
    "version": 3
   },
   "file_extension": ".py",
   "mimetype": "text/x-python",
   "name": "python",
   "nbconvert_exporter": "python",
   "pygments_lexer": "ipython3",
   "version": "3.10.6"
  },
  "papermill": {
   "default_parameters": {},
   "duration": 671.823111,
   "end_time": "2023-05-23T20:05:02.591317",
   "environment_variables": {},
   "exception": null,
   "input_path": "Ne-inference.ipynb",
   "output_path": "Ne-inference-parameterization-21.ipynb",
   "parameters": {
    "MILL_NTOURN_SEQ": "[8] * 67 + [1] * 66 + [8] * 67",
    "MILL_REPLICATE": 1,
    "MILL_TREATMENT_NAME": "selection-pressure"
   },
   "start_time": "2023-05-23T19:53:50.768206",
   "version": "2.4.0"
  }
 },
 "nbformat": 4,
 "nbformat_minor": 5
}