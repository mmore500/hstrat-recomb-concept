{
 "cells": [
  {
   "cell_type": "code",
   "execution_count": 1,
   "id": "a609da9a",
   "metadata": {
    "execution": {
     "iopub.execute_input": "2023-05-24T02:23:58.326958Z",
     "iopub.status.busy": "2023-05-24T02:23:58.325613Z",
     "iopub.status.idle": "2023-05-24T02:24:00.258446Z",
     "shell.execute_reply": "2023-05-24T02:24:00.259487Z"
    },
    "papermill": {
     "duration": 1.99639,
     "end_time": "2023-05-24T02:24:00.259928",
     "exception": false,
     "start_time": "2023-05-24T02:23:58.263538",
     "status": "completed"
    },
    "tags": []
   },
   "outputs": [],
   "source": [
    "import endomill\n",
    "import yaml\n"
   ]
  },
  {
   "cell_type": "code",
   "execution_count": 2,
   "id": "adf94da0",
   "metadata": {
    "execution": {
     "iopub.execute_input": "2023-05-24T02:24:00.386003Z",
     "iopub.status.busy": "2023-05-24T02:24:00.384522Z",
     "iopub.status.idle": "2023-05-24T02:24:00.417538Z",
     "shell.execute_reply": "2023-05-24T02:24:00.419092Z"
    },
    "papermill": {
     "duration": 0.107593,
     "end_time": "2023-05-24T02:24:00.419410",
     "exception": false,
     "start_time": "2023-05-24T02:24:00.311817",
     "status": "completed"
    },
    "tags": []
   },
   "outputs": [],
   "source": [
    "parameter_packs = [\n",
    "    {\n",
    "        \"MILL_TREATMENT_NAME\": treatment,\n",
    "        \"MILL_REPLICATE\": replicate,\n",
    "    }\n",
    "    for treatment in [\"bag\", \"ring\", \"allopatry\"]\n",
    "    for replicate in range(10)\n",
    "]\n",
    "\n",
    "\n",
    "for i, pp in enumerate(parameter_packs):\n",
    "    with open(f\"species-inference-parameterization-{i}.yaml\", \"w\") as file:\n",
    "        yaml.safe_dump(pp, file)\n",
    "# endomill.instantiate_over(parameter_packs=parameter_packs)\n"
   ]
  },
  {
   "cell_type": "markdown",
   "id": "fcb0bc0f",
   "metadata": {
    "papermill": {
     "duration": 0.073152,
     "end_time": "2023-05-24T02:24:00.577341",
     "exception": false,
     "start_time": "2023-05-24T02:24:00.504189",
     "status": "completed"
    },
    "tags": []
   },
   "source": [
    "# Papermill Parameters\n"
   ]
  },
  {
   "cell_type": "code",
   "execution_count": 3,
   "id": "83cc4f70",
   "metadata": {
    "execution": {
     "iopub.execute_input": "2023-05-24T02:24:00.694934Z",
     "iopub.status.busy": "2023-05-24T02:24:00.693463Z",
     "iopub.status.idle": "2023-05-24T02:24:00.699107Z",
     "shell.execute_reply": "2023-05-24T02:24:00.700176Z"
    },
    "papermill": {
     "duration": 0.068423,
     "end_time": "2023-05-24T02:24:00.700508",
     "exception": false,
     "start_time": "2023-05-24T02:24:00.632085",
     "status": "completed"
    },
    "tags": [
     "parameters"
    ]
   },
   "outputs": [],
   "source": [
    "MILL_TREATMENT_NAME: str\n",
    "MILL_REPLICATE: int\n"
   ]
  },
  {
   "cell_type": "code",
   "execution_count": 4,
   "id": "15aedfee",
   "metadata": {
    "execution": {
     "iopub.execute_input": "2023-05-24T02:24:00.824684Z",
     "iopub.status.busy": "2023-05-24T02:24:00.822721Z",
     "iopub.status.idle": "2023-05-24T02:24:00.828969Z",
     "shell.execute_reply": "2023-05-24T02:24:00.830033Z"
    },
    "papermill": {
     "duration": 0.069531,
     "end_time": "2023-05-24T02:24:00.830364",
     "exception": false,
     "start_time": "2023-05-24T02:24:00.760833",
     "status": "completed"
    },
    "tags": [
     "injected-parameters"
    ]
   },
   "outputs": [],
   "source": [
    "# Parameters\n",
    "MILL_REPLICATE = 7\n",
    "MILL_TREATMENT_NAME = \"bag\"\n"
   ]
  },
  {
   "cell_type": "markdown",
   "id": "5ae8269a",
   "metadata": {
    "papermill": {
     "duration": 0.054556,
     "end_time": "2023-05-24T02:24:00.941707",
     "exception": false,
     "start_time": "2023-05-24T02:24:00.887151",
     "status": "completed"
    },
    "tags": []
   },
   "source": [
    "# Global Setup\n"
   ]
  },
  {
   "cell_type": "code",
   "execution_count": 5,
   "id": "f351ce8c",
   "metadata": {
    "execution": {
     "iopub.execute_input": "2023-05-24T02:24:01.065824Z",
     "iopub.status.busy": "2023-05-24T02:24:01.063584Z",
     "iopub.status.idle": "2023-05-24T02:24:10.042648Z",
     "shell.execute_reply": "2023-05-24T02:24:10.043769Z"
    },
    "papermill": {
     "duration": 9.046054,
     "end_time": "2023-05-24T02:24:10.044131",
     "exception": false,
     "start_time": "2023-05-24T02:24:00.998077",
     "status": "completed"
    },
    "tags": []
   },
   "outputs": [],
   "source": [
    "import copy\n",
    "import math\n",
    "import itertools as it\n",
    "import typing\n",
    "import random\n",
    "\n",
    "import alifedata_phyloinformatics_convert as apc\n",
    "from Bio import Phylo as BioPhylo\n",
    "from deap import algorithms as deap_algorithms\n",
    "from deap import base as deap_base\n",
    "from deap import creator as deap_creator\n",
    "from deap import tools as deap_tools\n",
    "\n",
    "from hstrat import hstrat\n",
    "from iterpop import iterpop as ip\n",
    "from keyname import keyname as kn\n",
    "from matplotlib import pyplot as plt\n",
    "from nbmetalog import nbmetalog as nbm\n",
    "import numpy as np\n",
    "import pandas as pd\n",
    "from scipy import stats as scipy_stats\n",
    "import seaborn as sns\n",
    "import sympy\n",
    "from teeplot import teeplot as tp\n",
    "from tqdm import tqdm\n",
    "\n",
    "import pylib\n"
   ]
  },
  {
   "cell_type": "code",
   "execution_count": 6,
   "id": "5b0c185f",
   "metadata": {
    "execution": {
     "iopub.execute_input": "2023-05-24T02:24:10.168679Z",
     "iopub.status.busy": "2023-05-24T02:24:10.167198Z",
     "iopub.status.idle": "2023-05-24T02:24:10.173692Z",
     "shell.execute_reply": "2023-05-24T02:24:10.175846Z"
    },
    "papermill": {
     "duration": 0.073319,
     "end_time": "2023-05-24T02:24:10.176180",
     "exception": false,
     "start_time": "2023-05-24T02:24:10.102861",
     "status": "completed"
    },
    "tags": []
   },
   "outputs": [],
   "source": [
    "random.seed(MILL_REPLICATE)\n"
   ]
  },
  {
   "cell_type": "code",
   "execution_count": 7,
   "id": "f2f5211e",
   "metadata": {
    "execution": {
     "iopub.execute_input": "2023-05-24T02:24:10.314550Z",
     "iopub.status.busy": "2023-05-24T02:24:10.313132Z",
     "iopub.status.idle": "2023-05-24T02:24:12.310441Z",
     "shell.execute_reply": "2023-05-24T02:24:12.311479Z"
    },
    "papermill": {
     "duration": 2.078399,
     "end_time": "2023-05-24T02:24:12.311801",
     "exception": false,
     "start_time": "2023-05-24T02:24:10.233402",
     "status": "completed"
    },
    "tags": []
   },
   "outputs": [
    {
     "name": "stdout",
     "output_type": "stream",
     "text": [
      "context: local\n",
      "hostname: thinkpad\n",
      "interpreter: 3.10.6 (main, Mar 10 2023, 10:55:28) [GCC 11.3.0]\n",
      "nbcellexec: null\n",
      "nbname: None\n",
      "nbpath: None\n",
      "revision: null\n",
      "session: 7bdb9034-8cee-403c-b377-3400a67e13d2\n",
      "timestamp: 2023-05-23T19:24:11Z00:00\n",
      "\n",
      "\n"
     ]
    },
    {
     "name": "stdout",
     "output_type": "stream",
     "text": [
      "IPython==7.31.1\n",
      "keyname==0.5.2\n",
      "yaml==6.0\n",
      "Bio==1.79\n",
      "alifedata_phyloinformatics_convert==0.13.0\n",
      "deap==1.3\n",
      "endomill==0.1.3\n",
      "hstrat==1.6.1\n",
      "iterpop==0.4.1\n",
      "matplotlib==3.6.2\n",
      "nbmetalog==0.2.6\n",
      "numpy==1.23.5\n",
      "pandas==1.5.2\n",
      "scipy==1.10.1\n",
      "seaborn==0.12.1\n",
      "sympy==1.9\n",
      "teeplot==0.5.0\n",
      "re==2.2.1\n",
      "debugpy==1.6.6\n",
      "logging==0.5.1.2\n",
      "psutil==5.9.0\n",
      "zmq==22.3.0\n",
      "json==2.0.9\n",
      "ipykernel==6.7.0\n"
     ]
    }
   ],
   "source": [
    "nbm.print_metadata()\n"
   ]
  },
  {
   "cell_type": "markdown",
   "id": "52afd565",
   "metadata": {
    "papermill": {
     "duration": 0.067536,
     "end_time": "2023-05-24T02:24:12.435229",
     "exception": false,
     "start_time": "2023-05-24T02:24:12.367693",
     "status": "completed"
    },
    "tags": []
   },
   "source": [
    "# Parameters\n"
   ]
  },
  {
   "cell_type": "code",
   "execution_count": 8,
   "id": "cd987a7d",
   "metadata": {
    "execution": {
     "iopub.execute_input": "2023-05-24T02:24:12.567964Z",
     "iopub.status.busy": "2023-05-24T02:24:12.566457Z",
     "iopub.status.idle": "2023-05-24T02:24:12.572401Z",
     "shell.execute_reply": "2023-05-24T02:24:12.576820Z"
    },
    "papermill": {
     "duration": 0.078172,
     "end_time": "2023-05-24T02:24:12.577165",
     "exception": false,
     "start_time": "2023-05-24T02:24:12.498993",
     "status": "completed"
    },
    "tags": []
   },
   "outputs": [],
   "source": [
    "HSTRAT_DIFFERENTIA_WIDTH = 64\n",
    "NGEN = 200\n",
    "NPOP = 100\n",
    "NTOURN = 2\n"
   ]
  },
  {
   "cell_type": "markdown",
   "id": "1e2822ff",
   "metadata": {
    "papermill": {
     "duration": 0.059582,
     "end_time": "2023-05-24T02:24:12.697721",
     "exception": false,
     "start_time": "2023-05-24T02:24:12.638139",
     "status": "completed"
    },
    "tags": []
   },
   "source": [
    "# Setup\n"
   ]
  },
  {
   "cell_type": "code",
   "execution_count": 9,
   "id": "29950421",
   "metadata": {
    "execution": {
     "iopub.execute_input": "2023-05-24T02:24:12.895505Z",
     "iopub.status.busy": "2023-05-24T02:24:12.894049Z",
     "iopub.status.idle": "2023-05-24T02:24:12.906579Z",
     "shell.execute_reply": "2023-05-24T02:24:12.908254Z"
    },
    "papermill": {
     "duration": 0.098605,
     "end_time": "2023-05-24T02:24:12.908593",
     "exception": false,
     "start_time": "2023-05-24T02:24:12.809988",
     "status": "completed"
    },
    "tags": []
   },
   "outputs": [],
   "source": [
    "deap_creator.create(\"FitnessMax\", deap_base.Fitness, weights=(1.0,))\n",
    "deap_creator.create(\"Individual\", list, fitness=deap_creator.FitnessMax)\n",
    "\n",
    "toolbox = deap_base.Toolbox()\n",
    "\n",
    "toolbox.register(\"attr_bool\", random.randint, 0, 1)\n",
    "toolbox.register(\n",
    "    \"individual\",\n",
    "    deap_tools.initRepeat,\n",
    "    deap_creator.Individual,\n",
    "    toolbox.attr_bool,\n",
    "    n=100,\n",
    ")\n",
    "toolbox.register(\"population\", deap_tools.initRepeat, list, toolbox.individual)\n",
    "\n",
    "\n",
    "def evalOneMax(individual):\n",
    "    return (sum(individual),)\n",
    "\n",
    "\n",
    "toolbox.register(\"evaluate\", evalOneMax)\n",
    "toolbox.register(\"mate\", deap_tools.cxTwoPoint)\n",
    "toolbox.register(\"mutate\", deap_tools.mutFlipBit, indpb=0.05)\n",
    "toolbox.register(\"select\", deap_tools.selTournament, tournsize=NTOURN)\n",
    "\n",
    "# Decorate the variation operators\n",
    "history = deap_tools.History()\n",
    "toolbox.decorate(\"mate\", history.decorator)\n",
    "\n",
    "toolbox.decorate(\"mate\", pylib.deap.hstrat_mate_decorator)\n"
   ]
  },
  {
   "cell_type": "markdown",
   "id": "f589ae29",
   "metadata": {
    "papermill": {
     "duration": 0.07283,
     "end_time": "2023-05-24T02:24:13.041980",
     "exception": false,
     "start_time": "2023-05-24T02:24:12.969150",
     "status": "completed"
    },
    "tags": []
   },
   "source": [
    "# Evolve\n"
   ]
  },
  {
   "cell_type": "code",
   "execution_count": 10,
   "id": "fb4b3a54",
   "metadata": {
    "execution": {
     "iopub.execute_input": "2023-05-24T02:24:13.179904Z",
     "iopub.status.busy": "2023-05-24T02:24:13.178241Z",
     "iopub.status.idle": "2023-05-24T02:34:03.692634Z",
     "shell.execute_reply": "2023-05-24T02:34:03.694426Z"
    },
    "papermill": {
     "duration": 590.590538,
     "end_time": "2023-05-24T02:34:03.694741",
     "exception": false,
     "start_time": "2023-05-24T02:24:13.104203",
     "status": "completed"
    },
    "tags": []
   },
   "outputs": [],
   "source": [
    "# Create the population and populate the history\n",
    "population = toolbox.population(n=NPOP)\n",
    "\n",
    "species_ancestor = hstrat.HereditaryStratigraphicColumn(\n",
    "    stratum_retention_policy=hstrat.perfect_resolution_algo.Policy(),\n",
    "    stratum_differentia_bit_width=HSTRAT_DIFFERENTIA_WIDTH,\n",
    ")\n",
    "gene_ancestor = hstrat.HereditaryStratigraphicColumn(\n",
    "    stratum_retention_policy=hstrat.perfect_resolution_algo.Policy(),\n",
    "    stratum_differentia_bit_width=HSTRAT_DIFFERENTIA_WIDTH,\n",
    "    initial_stratum_annotation=0,\n",
    ")\n",
    "for member in population:\n",
    "    member.species_annotation = species_ancestor.CloneDescendant()\n",
    "    member.gene_annotation = gene_ancestor.CloneDescendant(0)\n",
    "\n",
    "history.update(population)\n",
    "\n",
    "# Do the evolution, the decorators will take care of updating the\n",
    "# history\n",
    "if MILL_TREATMENT_NAME == \"bag\":\n",
    "    for _gen in range(NGEN):\n",
    "        offspring = deap_algorithms.varAnd(\n",
    "            population,\n",
    "            toolbox,\n",
    "            cxpb=1.0,\n",
    "            mutpb=1.0,\n",
    "        )\n",
    "        fits = toolbox.map(toolbox.evaluate, offspring)\n",
    "        for fit, ind in zip(fits, offspring):\n",
    "            ind.fitness.values = fit\n",
    "        population = toolbox.select(offspring, k=NPOP)\n",
    "        population = [copy.deepcopy(ind) for ind in population]\n",
    "\n",
    "elif MILL_TREATMENT_NAME == \"ring\":\n",
    "    NUM_ISLANDS = 10\n",
    "    NUM_MIGRATIONS = 1\n",
    "    slice_size = len(population) // NUM_ISLANDS\n",
    "    for gen in tqdm(range(NGEN)):\n",
    "        for slice_ in pylib.util.iter_slices(len(population), slice_size):\n",
    "            subpopulation = population[slice_]\n",
    "            offspring = deap_algorithms.varAnd(\n",
    "                subpopulation, toolbox, cxpb=1.0, mutpb=1.0\n",
    "            )\n",
    "            fits = toolbox.map(toolbox.evaluate, offspring)\n",
    "            for fit, ind in zip(fits, offspring):\n",
    "                ind.fitness.values = fit\n",
    "            subpopulation = toolbox.select(offspring, k=len(subpopulation))\n",
    "            population[slice_] = [copy.deepcopy(ind) for ind in subpopulation]\n",
    "\n",
    "        for m in range(NUM_MIGRATIONS):\n",
    "            displacement = random.randrange(slice_size, 2 * slice_size)\n",
    "            a = random.randrange(len(population))\n",
    "            b = (a + displacement) % len(population)\n",
    "            population[a], population[b] = population[b], population[a]\n",
    "\n",
    "    from_subpopulations = []\n",
    "    for i in range(0, len(population), slice_size):\n",
    "        subpopulation = population[i : i + slice_size]\n",
    "        from_subpopulations.extend(subpopulation)\n",
    "    population = from_subpopulations\n",
    "\n",
    "elif MILL_TREATMENT_NAME == \"allopatry\":\n",
    "    # sympatry\n",
    "    for gen in tqdm(range(NGEN // 2)):\n",
    "        offspring = deap_algorithms.varAnd(\n",
    "            population, toolbox, cxpb=1.0, mutpb=1.0\n",
    "        )\n",
    "        fits = toolbox.map(toolbox.evaluate, offspring)\n",
    "\n",
    "        for fit, ind in zip(fits, offspring):\n",
    "            ind.fitness.values = fit\n",
    "        population = toolbox.select(offspring, k=len(population))\n",
    "        population = [copy.deepcopy(ind) for ind in population]\n",
    "\n",
    "    # two-island allopatry\n",
    "    slice_size = NPOP // 2\n",
    "    from_subpopulations = []\n",
    "    for i in range(0, len(population), slice_size):\n",
    "        subpopulation = population[i : i + slice_size]\n",
    "        for gen in tqdm(range(NGEN // 4)):\n",
    "            offspring = deap_algorithms.varAnd(\n",
    "                subpopulation, toolbox, cxpb=1.0, mutpb=1.0\n",
    "            )\n",
    "            fits = toolbox.map(toolbox.evaluate, offspring)\n",
    "            for fit, ind in zip(fits, offspring):\n",
    "                ind.fitness.values = fit\n",
    "            subpopulation = toolbox.select(offspring, k=len(subpopulation))\n",
    "            subpopulation = [copy.deepcopy(ind) for ind in subpopulation]\n",
    "\n",
    "        from_subpopulations.extend(subpopulation)\n",
    "    population = from_subpopulations\n",
    "\n",
    "    # three-island allopatry: left island\n",
    "    slice_size = NPOP // 2\n",
    "    from_subpopulations = []\n",
    "    for i in range(0, len(population) // 2, slice_size):\n",
    "        subpopulation = population[i : i + slice_size]\n",
    "        for gen in tqdm(range(NGEN // 4)):\n",
    "            offspring = deap_algorithms.varAnd(\n",
    "                subpopulation, toolbox, cxpb=1.0, mutpb=1.0\n",
    "            )\n",
    "            fits = toolbox.map(toolbox.evaluate, offspring)\n",
    "            for fit, ind in zip(fits, offspring):\n",
    "                ind.fitness.values = fit\n",
    "            subpopulation = toolbox.select(offspring, k=len(subpopulation))\n",
    "            subpopulation = [copy.deepcopy(ind) for ind in subpopulation]\n",
    "\n",
    "        from_subpopulations.extend(subpopulation)\n",
    "\n",
    "    # three-island allopatry: right five islands\n",
    "    slice_size = NPOP // 10\n",
    "    for i in range(len(population) // 2, len(population), slice_size):\n",
    "        subpopulation = population[i : i + slice_size]\n",
    "        for gen in tqdm(range(NGEN // 4)):\n",
    "            offspring = deap_algorithms.varAnd(\n",
    "                subpopulation, toolbox, cxpb=1.0, mutpb=1.0\n",
    "            )\n",
    "            fits = toolbox.map(toolbox.evaluate, offspring)\n",
    "            for fit, ind in zip(fits, offspring):\n",
    "                ind.fitness.values = fit\n",
    "            subpopulation = toolbox.select(offspring, k=len(subpopulation))\n",
    "            subpopulation = [copy.deepcopy(ind) for ind in subpopulation]\n",
    "\n",
    "        from_subpopulations.extend(subpopulation)\n",
    "\n",
    "    population = from_subpopulations\n",
    "\n",
    "else:\n",
    "    assert False, MILL_TREATMENT_NAME\n",
    "\n",
    "# ensure all extant organisms registered with phylogeny tracker\n",
    "for x in population:\n",
    "    history.update([x])\n"
   ]
  },
  {
   "cell_type": "markdown",
   "id": "ab971e80",
   "metadata": {
    "papermill": {
     "duration": 0.058492,
     "end_time": "2023-05-24T02:34:03.812849",
     "exception": false,
     "start_time": "2023-05-24T02:34:03.754357",
     "status": "completed"
    },
    "tags": []
   },
   "source": [
    "# Reconstruction\n"
   ]
  },
  {
   "cell_type": "code",
   "execution_count": 11,
   "id": "2238f64b",
   "metadata": {
    "execution": {
     "iopub.execute_input": "2023-05-24T02:34:03.946801Z",
     "iopub.status.busy": "2023-05-24T02:34:03.940003Z",
     "iopub.status.idle": "2023-05-24T02:34:06.991108Z",
     "shell.execute_reply": "2023-05-24T02:34:06.990223Z"
    },
    "papermill": {
     "duration": 3.118654,
     "end_time": "2023-05-24T02:34:06.991325",
     "exception": false,
     "start_time": "2023-05-24T02:34:03.872671",
     "status": "completed"
    },
    "tags": []
   },
   "outputs": [
    {
     "data": {
      "text/html": [
       "<div>\n",
       "<style scoped>\n",
       "    .dataframe tbody tr th:only-of-type {\n",
       "        vertical-align: middle;\n",
       "    }\n",
       "\n",
       "    .dataframe tbody tr th {\n",
       "        vertical-align: top;\n",
       "    }\n",
       "\n",
       "    .dataframe thead th {\n",
       "        text-align: right;\n",
       "    }\n",
       "</style>\n",
       "<table border=\"1\" class=\"dataframe\">\n",
       "  <thead>\n",
       "    <tr style=\"text-align: right;\">\n",
       "      <th></th>\n",
       "      <th>id</th>\n",
       "      <th>ancestor_list</th>\n",
       "      <th>origin_time</th>\n",
       "      <th>taxon_label</th>\n",
       "      <th>ancestor_id</th>\n",
       "      <th>name</th>\n",
       "    </tr>\n",
       "  </thead>\n",
       "  <tbody>\n",
       "    <tr>\n",
       "      <th>0</th>\n",
       "      <td>0</td>\n",
       "      <td>[none]</td>\n",
       "      <td>0.0</td>\n",
       "      <td>Root</td>\n",
       "      <td>0</td>\n",
       "      <td>Root</td>\n",
       "    </tr>\n",
       "    <tr>\n",
       "      <th>193</th>\n",
       "      <td>193</td>\n",
       "      <td>[0]</td>\n",
       "      <td>192.0</td>\n",
       "      <td>Inner+r=192+d=P8ULYrpNTZ2+uid=tdcJdAeoGOXxqR6c...</td>\n",
       "      <td>0</td>\n",
       "      <td>Inner+r=192+d=P8ULYrpNTZ2+uid=tdcJdAeoGOXxqR6c...</td>\n",
       "    </tr>\n",
       "    <tr>\n",
       "      <th>197</th>\n",
       "      <td>197</td>\n",
       "      <td>[193]</td>\n",
       "      <td>194.0</td>\n",
       "      <td>Inner+r=194+d=P_FssRhN69j+uid=DuG4zEcDWKJ-uhqd...</td>\n",
       "      <td>193</td>\n",
       "      <td>Inner+r=194+d=P_FssRhN69j+uid=DuG4zEcDWKJ-uhqd...</td>\n",
       "    </tr>\n",
       "    <tr>\n",
       "      <th>198</th>\n",
       "      <td>198</td>\n",
       "      <td>[193]</td>\n",
       "      <td>194.0</td>\n",
       "      <td>Inner+r=194+d=P_FssRhN69j+uid=BMeMerT9JCBjQvIr...</td>\n",
       "      <td>193</td>\n",
       "      <td>Inner+r=194+d=P_FssRhN69j+uid=BMeMerT9JCBjQvIr...</td>\n",
       "    </tr>\n",
       "    <tr>\n",
       "      <th>200</th>\n",
       "      <td>200</td>\n",
       "      <td>[197]</td>\n",
       "      <td>195.0</td>\n",
       "      <td>Inner+r=195+d=P7HM-EHItXb+uid=5yXqxuz54D6OcxLK...</td>\n",
       "      <td>197</td>\n",
       "      <td>Inner+r=195+d=P7HM-EHItXb+uid=5yXqxuz54D6OcxLK...</td>\n",
       "    </tr>\n",
       "    <tr>\n",
       "      <th>...</th>\n",
       "      <td>...</td>\n",
       "      <td>...</td>\n",
       "      <td>...</td>\n",
       "      <td>...</td>\n",
       "      <td>...</td>\n",
       "      <td>...</td>\n",
       "    </tr>\n",
       "    <tr>\n",
       "      <th>553</th>\n",
       "      <td>553</td>\n",
       "      <td>[357]</td>\n",
       "      <td>201.0</td>\n",
       "      <td>20186</td>\n",
       "      <td>357</td>\n",
       "      <td>20186</td>\n",
       "    </tr>\n",
       "    <tr>\n",
       "      <th>554</th>\n",
       "      <td>554</td>\n",
       "      <td>[357]</td>\n",
       "      <td>201.0</td>\n",
       "      <td>20179</td>\n",
       "      <td>357</td>\n",
       "      <td>20179</td>\n",
       "    </tr>\n",
       "    <tr>\n",
       "      <th>555</th>\n",
       "      <td>555</td>\n",
       "      <td>[357]</td>\n",
       "      <td>201.0</td>\n",
       "      <td>20135</td>\n",
       "      <td>357</td>\n",
       "      <td>20135</td>\n",
       "    </tr>\n",
       "    <tr>\n",
       "      <th>556</th>\n",
       "      <td>556</td>\n",
       "      <td>[357]</td>\n",
       "      <td>201.0</td>\n",
       "      <td>20137</td>\n",
       "      <td>357</td>\n",
       "      <td>20137</td>\n",
       "    </tr>\n",
       "    <tr>\n",
       "      <th>557</th>\n",
       "      <td>557</td>\n",
       "      <td>[357]</td>\n",
       "      <td>201.0</td>\n",
       "      <td>20150</td>\n",
       "      <td>357</td>\n",
       "      <td>20150</td>\n",
       "    </tr>\n",
       "  </tbody>\n",
       "</table>\n",
       "<p>155 rows × 6 columns</p>\n",
       "</div>"
      ],
      "text/plain": [
       "      id ancestor_list  origin_time  \\\n",
       "0      0        [none]          0.0   \n",
       "193  193           [0]        192.0   \n",
       "197  197         [193]        194.0   \n",
       "198  198         [193]        194.0   \n",
       "200  200         [197]        195.0   \n",
       "..   ...           ...          ...   \n",
       "553  553         [357]        201.0   \n",
       "554  554         [357]        201.0   \n",
       "555  555         [357]        201.0   \n",
       "556  556         [357]        201.0   \n",
       "557  557         [357]        201.0   \n",
       "\n",
       "                                           taxon_label  ancestor_id  \\\n",
       "0                                                 Root            0   \n",
       "193  Inner+r=192+d=P8ULYrpNTZ2+uid=tdcJdAeoGOXxqR6c...            0   \n",
       "197  Inner+r=194+d=P_FssRhN69j+uid=DuG4zEcDWKJ-uhqd...          193   \n",
       "198  Inner+r=194+d=P_FssRhN69j+uid=BMeMerT9JCBjQvIr...          193   \n",
       "200  Inner+r=195+d=P7HM-EHItXb+uid=5yXqxuz54D6OcxLK...          197   \n",
       "..                                                 ...          ...   \n",
       "553                                              20186          357   \n",
       "554                                              20179          357   \n",
       "555                                              20135          357   \n",
       "556                                              20137          357   \n",
       "557                                              20150          357   \n",
       "\n",
       "                                                  name  \n",
       "0                                                 Root  \n",
       "193  Inner+r=192+d=P8ULYrpNTZ2+uid=tdcJdAeoGOXxqR6c...  \n",
       "197  Inner+r=194+d=P_FssRhN69j+uid=DuG4zEcDWKJ-uhqd...  \n",
       "198  Inner+r=194+d=P_FssRhN69j+uid=BMeMerT9JCBjQvIr...  \n",
       "200  Inner+r=195+d=P7HM-EHItXb+uid=5yXqxuz54D6OcxLK...  \n",
       "..                                                 ...  \n",
       "553                                              20186  \n",
       "554                                              20179  \n",
       "555                                              20135  \n",
       "556                                              20137  \n",
       "557                                              20150  \n",
       "\n",
       "[155 rows x 6 columns]"
      ]
     },
     "execution_count": 11,
     "metadata": {},
     "output_type": "execute_result"
    }
   ],
   "source": [
    "extant_nodes = [individual.history_index for individual in population]\n",
    "reconstructed_df = hstrat.build_tree(\n",
    "    [individual.species_annotation for individual in population],\n",
    "    version_pin=hstrat.__version__,\n",
    "    force_common_ancestry=True,\n",
    "    taxon_labels=map(str, extant_nodes),\n",
    ")\n",
    "reconstructed_df[\"name\"] = reconstructed_df[\"taxon_label\"]\n",
    "reconstructed_df.to_csv(\n",
    "    kn.pack(\n",
    "        {\n",
    "            \"a\": \"phylogeny\",\n",
    "            \"notebook\": \"species-inference\",\n",
    "            \"replicate\": str(MILL_REPLICATE),\n",
    "            \"treatment\": MILL_TREATMENT_NAME,\n",
    "            \"type\": \"reconstruction\",\n",
    "            \"ext\": \".csv\",\n",
    "        }\n",
    "    )\n",
    ")\n",
    "reconstructed_df\n"
   ]
  },
  {
   "cell_type": "code",
   "execution_count": 12,
   "id": "2e7ec92d",
   "metadata": {
    "execution": {
     "iopub.execute_input": "2023-05-24T02:34:07.092353Z",
     "iopub.status.busy": "2023-05-24T02:34:07.091339Z",
     "iopub.status.idle": "2023-05-24T02:34:10.817852Z",
     "shell.execute_reply": "2023-05-24T02:34:10.819331Z"
    },
    "papermill": {
     "duration": 3.782573,
     "end_time": "2023-05-24T02:34:10.819604",
     "exception": false,
     "start_time": "2023-05-24T02:34:07.037031",
     "status": "completed"
    },
    "tags": []
   },
   "outputs": [
    {
     "name": "stdout",
     "output_type": "stream",
     "text": [
      "teeplots/./notebook=species-inference+replicate=7+treatment=bag+type=reconstruction+viz=draw-biopython-tree+ext=.pdf\n"
     ]
    },
    {
     "name": "stdout",
     "output_type": "stream",
     "text": [
      "teeplots/./notebook=species-inference+replicate=7+treatment=bag+type=reconstruction+viz=draw-biopython-tree+ext=.png\n"
     ]
    },
    {
     "data": {
      "image/png": "[encoded data removed]",
      "text/plain": [
       "<Figure size 468x288 with 1 Axes>"
      ]
     },
     "metadata": {
      "needs_background": "light"
     },
     "output_type": "display_data"
    }
   ],
   "source": [
    "reconstructed_tree = apc.alife_dataframe_to_biopython_tree(\n",
    "    reconstructed_df, setup_branch_lengths=True\n",
    ")\n",
    "BioPhylo.write(\n",
    "    reconstructed_tree,\n",
    "    kn.pack(\n",
    "        {\n",
    "            \"a\": \"phylogeny\",\n",
    "            \"notebook\": \"species-inference\",\n",
    "            \"replicate\": str(MILL_REPLICATE),\n",
    "            \"treatment\": MILL_TREATMENT_NAME,\n",
    "            \"type\": \"reconstruction\",\n",
    "            \"ext\": \".nwk\",\n",
    "        }\n",
    "    ),\n",
    "    'newick',\n",
    ")\n",
    "tp.tee(\n",
    "    pylib.tree.draw_biopython_tree,\n",
    "    reconstructed_tree,\n",
    "    teeplot_outattrs={\n",
    "        \"notebook\": \"species-inference\",\n",
    "        \"replicate\": str(MILL_REPLICATE),\n",
    "        \"treatment\": MILL_TREATMENT_NAME,\n",
    "        \"type\": \"reconstruction\",\n",
    "    },\n",
    ")\n"
   ]
  },
  {
   "cell_type": "code",
   "execution_count": 13,
   "id": "1797df61",
   "metadata": {
    "execution": {
     "iopub.execute_input": "2023-05-24T02:34:10.927769Z",
     "iopub.status.busy": "2023-05-24T02:34:10.919108Z",
     "iopub.status.idle": "2023-05-24T02:34:13.357437Z",
     "shell.execute_reply": "2023-05-24T02:34:13.356645Z"
    },
    "papermill": {
     "duration": 2.490105,
     "end_time": "2023-05-24T02:34:13.357640",
     "exception": false,
     "start_time": "2023-05-24T02:34:10.867535",
     "status": "completed"
    },
    "tags": []
   },
   "outputs": [
    {
     "name": "stdout",
     "output_type": "stream",
     "text": [
      "teeplots/./drop_overlapping_labels=true+notebook=species-inference+replicate=7+treatment=bag+type=reconstruction+viz=draw-biopython-tree+ext=.pdf\n"
     ]
    },
    {
     "name": "stdout",
     "output_type": "stream",
     "text": [
      "teeplots/./drop_overlapping_labels=true+notebook=species-inference+replicate=7+treatment=bag+type=reconstruction+viz=draw-biopython-tree+ext=.png\n"
     ]
    },
    {
     "data": {
      "image/png": "[encoded data removed]",
      "text/plain": [
       "<Figure size 650x400 with 1 Axes>"
      ]
     },
     "metadata": {},
     "output_type": "display_data"
    }
   ],
   "source": [
    "reconstructed_tree = apc.alife_dataframe_to_biopython_tree(\n",
    "    reconstructed_df, setup_branch_lengths=True\n",
    ")\n",
    "tp.tee(\n",
    "    pylib.tree.draw_biopython_tree,\n",
    "    reconstructed_tree,\n",
    "    drop_overlapping_labels=True,\n",
    "    teeplot_outattrs={\n",
    "        \"drop_overlapping_labels\": \"true\",\n",
    "        \"notebook\": \"species-inference\",\n",
    "        \"replicate\": str(MILL_REPLICATE),\n",
    "        \"treatment\": MILL_TREATMENT_NAME,\n",
    "        \"type\": \"reconstruction\",\n",
    "    },\n",
    ")\n"
   ]
  },
  {
   "cell_type": "code",
   "execution_count": 14,
   "id": "dc82a176",
   "metadata": {
    "execution": {
     "iopub.execute_input": "2023-05-24T02:34:13.468087Z",
     "iopub.status.busy": "2023-05-24T02:34:13.467050Z",
     "iopub.status.idle": "2023-05-24T02:34:15.130196Z",
     "shell.execute_reply": "2023-05-24T02:34:15.129269Z"
    },
    "papermill": {
     "duration": 1.721962,
     "end_time": "2023-05-24T02:34:15.130390",
     "exception": false,
     "start_time": "2023-05-24T02:34:13.408428",
     "status": "completed"
    },
    "tags": []
   },
   "outputs": [
    {
     "name": "stdout",
     "output_type": "stream",
     "text": [
      "teeplots/./max_leaves=20+notebook=species-inference+replicate=7+treatment=bag+type=reconstruction+viz=draw-biopython-tree+ext=.pdf\n"
     ]
    },
    {
     "name": "stdout",
     "output_type": "stream",
     "text": [
      "teeplots/./max_leaves=20+notebook=species-inference+replicate=7+treatment=bag+type=reconstruction+viz=draw-biopython-tree+ext=.png\n"
     ]
    },
    {
     "data": {
      "image/png": "[encoded data removed]",
      "text/plain": [
       "<Figure size 650x400 with 1 Axes>"
      ]
     },
     "metadata": {},
     "output_type": "display_data"
    }
   ],
   "source": [
    "reconstructed_tree = apc.alife_dataframe_to_biopython_tree(\n",
    "    reconstructed_df, setup_branch_lengths=True\n",
    ")\n",
    "tp.tee(\n",
    "    pylib.tree.draw_biopython_tree,\n",
    "    reconstructed_tree,\n",
    "    max_leaves=20,\n",
    "    teeplot_outattrs={\n",
    "        \"max_leaves\": \"20\",\n",
    "        \"notebook\": \"species-inference\",\n",
    "        \"replicate\": str(MILL_REPLICATE),\n",
    "        \"treatment\": MILL_TREATMENT_NAME,\n",
    "        \"type\": \"reconstruction\",\n",
    "    },\n",
    ")\n"
   ]
  },
  {
   "cell_type": "markdown",
   "id": "33209e67",
   "metadata": {
    "papermill": {
     "duration": 0.054309,
     "end_time": "2023-05-24T02:34:15.240233",
     "exception": false,
     "start_time": "2023-05-24T02:34:15.185924",
     "status": "completed"
    },
    "tags": []
   },
   "source": [
    "# Actual Pedigree\n"
   ]
  },
  {
   "cell_type": "code",
   "execution_count": 15,
   "id": "12350f56",
   "metadata": {
    "execution": {
     "iopub.execute_input": "2023-05-24T02:34:15.367950Z",
     "iopub.status.busy": "2023-05-24T02:34:15.366871Z",
     "iopub.status.idle": "2023-05-24T02:34:28.763186Z",
     "shell.execute_reply": "2023-05-24T02:34:28.763733Z"
    },
    "papermill": {
     "duration": 13.467137,
     "end_time": "2023-05-24T02:34:28.763885",
     "exception": false,
     "start_time": "2023-05-24T02:34:15.296748",
     "status": "completed"
    },
    "tags": []
   },
   "outputs": [
    {
     "data": {
      "text/plain": [
       "1"
      ]
     },
     "execution_count": 15,
     "metadata": {},
     "output_type": "execute_result"
    }
   ],
   "source": [
    "distilled_tree = pylib.deap.history_to_tree_upgma(history, extant_nodes)\n",
    "BioPhylo.write(\n",
    "    distilled_tree,\n",
    "    kn.pack(\n",
    "        {\n",
    "            \"a\": \"phylogeny\",\n",
    "            \"notebook\": \"species-inference\",\n",
    "            \"replicate\": str(MILL_REPLICATE),\n",
    "            \"treatment\": MILL_TREATMENT_NAME,\n",
    "            \"type\": \"distilled-pedigree\",\n",
    "            \"ext\": \".nwk\",\n",
    "        }\n",
    "    ),\n",
    "    'newick',\n",
    ")\n"
   ]
  },
  {
   "cell_type": "code",
   "execution_count": 16,
   "id": "31de8cea",
   "metadata": {
    "execution": {
     "iopub.execute_input": "2023-05-24T02:34:28.918105Z",
     "iopub.status.busy": "2023-05-24T02:34:28.917125Z",
     "iopub.status.idle": "2023-05-24T02:34:33.435693Z",
     "shell.execute_reply": "2023-05-24T02:34:33.436450Z"
    },
    "papermill": {
     "duration": 4.618433,
     "end_time": "2023-05-24T02:34:33.436678",
     "exception": false,
     "start_time": "2023-05-24T02:34:28.818245",
     "status": "completed"
    },
    "tags": []
   },
   "outputs": [
    {
     "name": "stdout",
     "output_type": "stream",
     "text": [
      "teeplots/./notebook=species-inference+replicate=7+treatment=bag+type=distilled-reference+viz=draw-biopython-tree+ext=.pdf\n"
     ]
    },
    {
     "name": "stdout",
     "output_type": "stream",
     "text": [
      "teeplots/./notebook=species-inference+replicate=7+treatment=bag+type=distilled-reference+viz=draw-biopython-tree+ext=.png\n"
     ]
    },
    {
     "data": {
      "image/png": "[encoded data removed]",
      "text/plain": [
       "<Figure size 650x400 with 1 Axes>"
      ]
     },
     "metadata": {},
     "output_type": "display_data"
    }
   ],
   "source": [
    "tp.tee(\n",
    "    pylib.tree.draw_biopython_tree,\n",
    "    distilled_tree,\n",
    "    teeplot_outattrs={\n",
    "        \"notebook\": \"species-inference\",\n",
    "        \"replicate\": str(MILL_REPLICATE),\n",
    "        \"treatment\": MILL_TREATMENT_NAME,\n",
    "        \"type\": \"distilled-reference\",\n",
    "    },\n",
    ")\n"
   ]
  },
  {
   "cell_type": "code",
   "execution_count": 17,
   "id": "9677bdc0",
   "metadata": {
    "execution": {
     "iopub.execute_input": "2023-05-24T02:34:33.572451Z",
     "iopub.status.busy": "2023-05-24T02:34:33.571445Z",
     "iopub.status.idle": "2023-05-24T02:34:35.437843Z",
     "shell.execute_reply": "2023-05-24T02:34:35.439394Z"
    },
    "papermill": {
     "duration": 1.942049,
     "end_time": "2023-05-24T02:34:35.439637",
     "exception": false,
     "start_time": "2023-05-24T02:34:33.497588",
     "status": "completed"
    },
    "tags": []
   },
   "outputs": [
    {
     "name": "stdout",
     "output_type": "stream",
     "text": [
      "teeplots/./max_leaves=20+notebook=species-inference+replicate=7+treatment=bag+type=distilled-reference+viz=draw-biopython-tree+ext=.pdf\n"
     ]
    },
    {
     "name": "stdout",
     "output_type": "stream",
     "text": [
      "teeplots/./max_leaves=20+notebook=species-inference+replicate=7+treatment=bag+type=distilled-reference+viz=draw-biopython-tree+ext=.png\n"
     ]
    },
    {
     "data": {
      "image/png": "[encoded data removed]",
      "text/plain": [
       "<Figure size 650x400 with 1 Axes>"
      ]
     },
     "metadata": {},
     "output_type": "display_data"
    }
   ],
   "source": [
    "tp.tee(\n",
    "    pylib.tree.draw_biopython_tree,\n",
    "    distilled_tree,\n",
    "    max_leaves=20,\n",
    "    teeplot_outattrs={\n",
    "        \"max_leaves\": \"20\",\n",
    "        \"notebook\": \"species-inference\",\n",
    "        \"replicate\": str(MILL_REPLICATE),\n",
    "        \"treatment\": MILL_TREATMENT_NAME,\n",
    "        \"type\": \"distilled-reference\",\n",
    "    },\n",
    ")\n"
   ]
  },
  {
   "cell_type": "code",
   "execution_count": 18,
   "id": "67609939",
   "metadata": {
    "execution": {
     "iopub.execute_input": "2023-05-24T02:34:35.590250Z",
     "iopub.status.busy": "2023-05-24T02:34:35.589236Z",
     "iopub.status.idle": "2023-05-24T02:34:38.559952Z",
     "shell.execute_reply": "2023-05-24T02:34:38.560737Z"
    },
    "papermill": {
     "duration": 3.052386,
     "end_time": "2023-05-24T02:34:38.561239",
     "exception": false,
     "start_time": "2023-05-24T02:34:35.508853",
     "status": "completed"
    },
    "tags": []
   },
   "outputs": [
    {
     "name": "stdout",
     "output_type": "stream",
     "text": [
      "teeplots/./drop_overlapping_labels=true+notebook=species-inference+replicate=7+treatment=bag+type=distilled-reference+viz=draw-biopython-tree+ext=.pdf\n"
     ]
    },
    {
     "name": "stdout",
     "output_type": "stream",
     "text": [
      "teeplots/./drop_overlapping_labels=true+notebook=species-inference+replicate=7+treatment=bag+type=distilled-reference+viz=draw-biopython-tree+ext=.png\n"
     ]
    },
    {
     "data": {
      "image/png": "[encoded data removed]",
      "text/plain": [
       "<Figure size 650x400 with 1 Axes>"
      ]
     },
     "metadata": {},
     "output_type": "display_data"
    }
   ],
   "source": [
    "tp.tee(\n",
    "    pylib.tree.draw_biopython_tree,\n",
    "    distilled_tree,\n",
    "    drop_overlapping_labels=True,\n",
    "    teeplot_outattrs={\n",
    "        \"drop_overlapping_labels\": \"true\",\n",
    "        \"notebook\": \"species-inference\",\n",
    "        \"replicate\": str(MILL_REPLICATE),\n",
    "        \"treatment\": MILL_TREATMENT_NAME,\n",
    "        \"type\": \"distilled-reference\",\n",
    "    },\n",
    ")\n"
   ]
  },
  {
   "cell_type": "code",
   "execution_count": 19,
   "id": "88c0de84",
   "metadata": {
    "execution": {
     "iopub.execute_input": "2023-05-24T02:34:38.769923Z",
     "iopub.status.busy": "2023-05-24T02:34:38.764597Z",
     "iopub.status.idle": "2023-05-24T02:34:52.753685Z",
     "shell.execute_reply": "2023-05-24T02:34:52.754602Z"
    },
    "papermill": {
     "duration": 14.086537,
     "end_time": "2023-05-24T02:34:52.754829",
     "exception": false,
     "start_time": "2023-05-24T02:34:38.668292",
     "status": "completed"
    },
    "tags": []
   },
   "outputs": [
    {
     "data": {
      "text/plain": [
       "0.5914707776268896"
      ]
     },
     "execution_count": 19,
     "metadata": {},
     "output_type": "execute_result"
    }
   ],
   "source": [
    "distilled_tree = pylib.deap.history_to_tree_upgma(\n",
    "    history, extant_nodes, correct_origin_times=False\n",
    ")\n",
    "BioPhylo.write(\n",
    "    distilled_tree,\n",
    "    kn.pack(\n",
    "        {\n",
    "            \"a\": \"phylogeny\",\n",
    "            \"notebook\": \"species-inference\",\n",
    "            \"replicate\": str(MILL_REPLICATE),\n",
    "            \"treatment\": MILL_TREATMENT_NAME,\n",
    "            \"type\": \"distilled-pedigree-uncorrected\",\n",
    "            \"ext\": \".nwk\",\n",
    "        }\n",
    "    ),\n",
    "    'newick',\n",
    ")\n",
    "\n",
    "quartet_dist = pylib.tree.polymorphic_quartet_distance(\n",
    "    reconstructed_tree, distilled_tree\n",
    ")\n",
    "quartet_dist\n"
   ]
  },
  {
   "cell_type": "code",
   "execution_count": 20,
   "id": "838098c5",
   "metadata": {
    "execution": {
     "iopub.execute_input": "2023-05-24T02:34:52.974881Z",
     "iopub.status.busy": "2023-05-24T02:34:52.973853Z",
     "iopub.status.idle": "2023-05-24T02:34:52.985059Z",
     "shell.execute_reply": "2023-05-24T02:34:52.985915Z"
    },
    "papermill": {
     "duration": 0.098563,
     "end_time": "2023-05-24T02:34:52.986158",
     "exception": false,
     "start_time": "2023-05-24T02:34:52.887595",
     "status": "completed"
    },
    "tags": []
   },
   "outputs": [
    {
     "data": {
      "text/html": [
       "<div>\n",
       "<style scoped>\n",
       "    .dataframe tbody tr th:only-of-type {\n",
       "        vertical-align: middle;\n",
       "    }\n",
       "\n",
       "    .dataframe tbody tr th {\n",
       "        vertical-align: top;\n",
       "    }\n",
       "\n",
       "    .dataframe thead th {\n",
       "        text-align: right;\n",
       "    }\n",
       "</style>\n",
       "<table border=\"1\" class=\"dataframe\">\n",
       "  <thead>\n",
       "    <tr style=\"text-align: right;\">\n",
       "      <th></th>\n",
       "      <th>replicate</th>\n",
       "      <th>treatment</th>\n",
       "      <th>quartet distance</th>\n",
       "    </tr>\n",
       "  </thead>\n",
       "  <tbody>\n",
       "    <tr>\n",
       "      <th>0</th>\n",
       "      <td>7</td>\n",
       "      <td>bag</td>\n",
       "      <td>0.591471</td>\n",
       "    </tr>\n",
       "  </tbody>\n",
       "</table>\n",
       "</div>"
      ],
      "text/plain": [
       "   replicate treatment  quartet distance\n",
       "0          7       bag          0.591471"
      ]
     },
     "execution_count": 20,
     "metadata": {},
     "output_type": "execute_result"
    }
   ],
   "source": [
    "records = [\n",
    "    {\n",
    "        \"replicate\": MILL_REPLICATE,\n",
    "        \"treatment\": MILL_TREATMENT_NAME,\n",
    "        \"quartet distance\": quartet_dist,\n",
    "    }\n",
    "]\n",
    "outdf = pd.DataFrame.from_records(records)\n",
    "outdf.to_csv(\n",
    "    kn.pack(\n",
    "        {\n",
    "            \"a\": \"reconstruction-accuracy\",\n",
    "            \"notebook\": \"species-inference\",\n",
    "            \"replicate\": MILL_REPLICATE,\n",
    "            \"treatment\": MILL_TREATMENT_NAME,\n",
    "            \"ext\": \".csv\",\n",
    "        }\n",
    "    )\n",
    ")\n",
    "outdf\n"
   ]
  }
 ],
 "metadata": {
  "kernelspec": {
   "display_name": "Python 3",
   "language": "python",
   "name": "python3"
  },
  "language_info": {
   "codemirror_mode": {
    "name": "ipython",
    "version": 3
   },
   "file_extension": ".py",
   "mimetype": "text/x-python",
   "name": "python",
   "nbconvert_exporter": "python",
   "pygments_lexer": "ipython3",
   "version": "3.10.6"
  },
  "papermill": {
   "default_parameters": {},
   "duration": 661.185112,
   "end_time": "2023-05-24T02:34:55.783160",
   "environment_variables": {},
   "exception": null,
   "input_path": "species-inference.ipynb",
   "output_path": "species-inference-parameterization-7.ipynb",
   "parameters": {
    "MILL_REPLICATE": 7,
    "MILL_TREATMENT_NAME": "bag"
   },
   "start_time": "2023-05-24T02:23:54.598048",
   "version": "2.4.0"
  }
 },
 "nbformat": 4,
 "nbformat_minor": 5
}