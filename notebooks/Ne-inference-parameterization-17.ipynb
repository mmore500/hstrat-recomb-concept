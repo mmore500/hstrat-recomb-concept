{
 "cells": [
  {
   "cell_type": "code",
   "execution_count": 1,
   "id": "2112d77c",
   "metadata": {
    "execution": {
     "iopub.execute_input": "2023-05-23T19:25:08.304426Z",
     "iopub.status.busy": "2023-05-23T19:25:08.304140Z",
     "iopub.status.idle": "2023-05-23T19:25:09.339456Z",
     "shell.execute_reply": "2023-05-23T19:25:09.338627Z"
    },
    "papermill": {
     "duration": 1.047841,
     "end_time": "2023-05-23T19:25:09.341604",
     "exception": false,
     "start_time": "2023-05-23T19:25:08.293763",
     "status": "completed"
    },
    "tags": []
   },
   "outputs": [],
   "source": [
    "import endomill\n",
    "import yaml\n"
   ]
  },
  {
   "cell_type": "code",
   "execution_count": 2,
   "id": "da5968c1",
   "metadata": {
    "execution": {
     "iopub.execute_input": "2023-05-23T19:25:09.366282Z",
     "iopub.status.busy": "2023-05-23T19:25:09.365584Z",
     "iopub.status.idle": "2023-05-23T19:25:09.395359Z",
     "shell.execute_reply": "2023-05-23T19:25:09.394496Z"
    },
    "papermill": {
     "duration": 0.047201,
     "end_time": "2023-05-23T19:25:09.397586",
     "exception": false,
     "start_time": "2023-05-23T19:25:09.350385",
     "status": "completed"
    },
    "tags": []
   },
   "outputs": [],
   "source": [
    "parameter_packs = (\n",
    "    [\n",
    "        {\n",
    "            \"MILL_TREATMENT_NAME\": \"bottleneck\",\n",
    "            \"MILL_NPOP_SEQ\": \"[100] * 67 + [10] * 66 + [100] * 67\",\n",
    "            \"MILL_REPLICATE\": replicate,\n",
    "        }\n",
    "        for replicate in range(10)\n",
    "    ]\n",
    "    + [\n",
    "        {\n",
    "            \"MILL_TREATMENT_NAME\": \"control\",\n",
    "            \"MILL_REPLICATE\": replicate,\n",
    "        }\n",
    "        for replicate in range(10)\n",
    "    ]\n",
    "    + [\n",
    "        {\n",
    "            \"MILL_TREATMENT_NAME\": \"selection-pressure\",\n",
    "            \"MILL_NTOURN_SEQ\": \"[8] * 67 + [1] * 66 + [8] * 67\",\n",
    "            \"MILL_REPLICATE\": replicate,\n",
    "        }\n",
    "        for replicate in range(10)\n",
    "    ]\n",
    "    + [\n",
    "        {\n",
    "            \"MILL_TREATMENT_NAME\": \"range-expansion\",\n",
    "            \"MILL_REPLICATE\": replicate,\n",
    "            \"MILL_NPOP_SEQ\": \"[10] * 67 + [*range(10, 142, 2)] + [142] * 67\",\n",
    "        }\n",
    "        for replicate in range(10)\n",
    "    ]\n",
    ")\n",
    "\n",
    "for i, pp in enumerate(parameter_packs):\n",
    "    with open(f\"Ne-inference-parameterization-{i}.yaml\", \"w\") as file:\n",
    "        yaml.safe_dump(pp, file)\n",
    "# endomill.instantiate_over(parameter_packs=parameter_packs)\n"
   ]
  },
  {
   "cell_type": "markdown",
   "id": "6654bc7e",
   "metadata": {
    "papermill": {
     "duration": 0.00726,
     "end_time": "2023-05-23T19:25:09.421511",
     "exception": false,
     "start_time": "2023-05-23T19:25:09.414251",
     "status": "completed"
    },
    "tags": []
   },
   "source": [
    "# Papermill Parameters\n"
   ]
  },
  {
   "cell_type": "code",
   "execution_count": 3,
   "id": "a8ad95b7",
   "metadata": {
    "execution": {
     "iopub.execute_input": "2023-05-23T19:25:09.440480Z",
     "iopub.status.busy": "2023-05-23T19:25:09.440109Z",
     "iopub.status.idle": "2023-05-23T19:25:09.446747Z",
     "shell.execute_reply": "2023-05-23T19:25:09.445866Z"
    },
    "papermill": {
     "duration": 0.020037,
     "end_time": "2023-05-23T19:25:09.449012",
     "exception": false,
     "start_time": "2023-05-23T19:25:09.428975",
     "status": "completed"
    },
    "tags": [
     "parameters"
    ]
   },
   "outputs": [],
   "source": [
    "MILL_NPOP_SEQ: str = \"[100] * 200\"\n",
    "MILL_NTOURN_SEQ: str = \"[2] * 200\"\n",
    "MILL_TREATMENT_NAME: str  # = \"control\"\n",
    "MILL_REPLICATE: int  # = 0\n"
   ]
  },
  {
   "cell_type": "code",
   "execution_count": 4,
   "id": "a416d393",
   "metadata": {
    "execution": {
     "iopub.execute_input": "2023-05-23T19:25:09.468572Z",
     "iopub.status.busy": "2023-05-23T19:25:09.468240Z",
     "iopub.status.idle": "2023-05-23T19:25:09.474387Z",
     "shell.execute_reply": "2023-05-23T19:25:09.473187Z"
    },
    "papermill": {
     "duration": 0.018516,
     "end_time": "2023-05-23T19:25:09.476855",
     "exception": false,
     "start_time": "2023-05-23T19:25:09.458339",
     "status": "completed"
    },
    "tags": [
     "injected-parameters"
    ]
   },
   "outputs": [],
   "source": [
    "# Parameters\n",
    "MILL_REPLICATE = 7\n",
    "MILL_TREATMENT_NAME = \"control\"\n"
   ]
  },
  {
   "cell_type": "code",
   "execution_count": 5,
   "id": "cd8585d4",
   "metadata": {
    "execution": {
     "iopub.execute_input": "2023-05-23T19:25:09.493047Z",
     "iopub.status.busy": "2023-05-23T19:25:09.492716Z",
     "iopub.status.idle": "2023-05-23T19:25:09.497025Z",
     "shell.execute_reply": "2023-05-23T19:25:09.496145Z"
    },
    "papermill": {
     "duration": 0.015664,
     "end_time": "2023-05-23T19:25:09.499802",
     "exception": false,
     "start_time": "2023-05-23T19:25:09.484138",
     "status": "completed"
    },
    "tags": []
   },
   "outputs": [],
   "source": [
    "MILL_NPOP_SEQ = eval(MILL_NPOP_SEQ)\n",
    "MILL_NTOURN_SEQ = eval(MILL_NTOURN_SEQ)\n"
   ]
  },
  {
   "cell_type": "markdown",
   "id": "3abb6823",
   "metadata": {
    "papermill": {
     "duration": 0.007582,
     "end_time": "2023-05-23T19:25:09.515152",
     "exception": false,
     "start_time": "2023-05-23T19:25:09.507570",
     "status": "completed"
    },
    "tags": []
   },
   "source": [
    "# Global Setup\n"
   ]
  },
  {
   "cell_type": "code",
   "execution_count": 6,
   "id": "b27f926f",
   "metadata": {
    "execution": {
     "iopub.execute_input": "2023-05-23T19:25:09.529819Z",
     "iopub.status.busy": "2023-05-23T19:25:09.529374Z",
     "iopub.status.idle": "2023-05-23T19:25:11.829529Z",
     "shell.execute_reply": "2023-05-23T19:25:11.828620Z"
    },
    "papermill": {
     "duration": 2.309711,
     "end_time": "2023-05-23T19:25:11.831587",
     "exception": false,
     "start_time": "2023-05-23T19:25:09.521876",
     "status": "completed"
    },
    "tags": []
   },
   "outputs": [],
   "source": [
    "import copy\n",
    "import math\n",
    "import itertools as it\n",
    "import typing\n",
    "import random\n",
    "\n",
    "import alifedata_phyloinformatics_convert as apc\n",
    "from deap import algorithms as deap_algorithms\n",
    "from deap import base as deap_base\n",
    "from deap import creator as deap_creator\n",
    "from deap import tools as deap_tools\n",
    "\n",
    "from hstrat import hstrat\n",
    "from iterpop import iterpop as ip\n",
    "from keyname import keyname as kn\n",
    "from matplotlib import pyplot as plt\n",
    "from nbmetalog import nbmetalog as nbm\n",
    "import numpy as np\n",
    "import pandas as pd\n",
    "from scipy import stats as scipy_stats\n",
    "import seaborn as sns\n",
    "import sympy\n",
    "from teeplot import teeplot as tp\n",
    "from tqdm import tqdm\n",
    "\n",
    "import pylib\n"
   ]
  },
  {
   "cell_type": "code",
   "execution_count": 7,
   "id": "dbc99ddd",
   "metadata": {
    "execution": {
     "iopub.execute_input": "2023-05-23T19:25:11.850433Z",
     "iopub.status.busy": "2023-05-23T19:25:11.849678Z",
     "iopub.status.idle": "2023-05-23T19:25:11.854164Z",
     "shell.execute_reply": "2023-05-23T19:25:11.853373Z"
    },
    "papermill": {
     "duration": 0.015821,
     "end_time": "2023-05-23T19:25:11.856134",
     "exception": false,
     "start_time": "2023-05-23T19:25:11.840313",
     "status": "completed"
    },
    "tags": []
   },
   "outputs": [],
   "source": [
    "random.seed(MILL_REPLICATE)\n"
   ]
  },
  {
   "cell_type": "code",
   "execution_count": 8,
   "id": "de43796c",
   "metadata": {
    "execution": {
     "iopub.execute_input": "2023-05-23T19:25:11.877656Z",
     "iopub.status.busy": "2023-05-23T19:25:11.876058Z",
     "iopub.status.idle": "2023-05-23T19:25:12.905069Z",
     "shell.execute_reply": "2023-05-23T19:25:12.903793Z"
    },
    "papermill": {
     "duration": 1.042766,
     "end_time": "2023-05-23T19:25:12.907146",
     "exception": false,
     "start_time": "2023-05-23T19:25:11.864380",
     "status": "completed"
    },
    "tags": []
   },
   "outputs": [
    {
     "name": "stdout",
     "output_type": "stream",
     "text": [
      "context: local\n",
      "hostname: thinkpad\n",
      "interpreter: 3.10.6 (main, Mar 10 2023, 10:55:28) [GCC 11.3.0]\n",
      "nbcellexec: null\n",
      "nbname: None\n",
      "nbpath: None\n",
      "revision: null\n",
      "session: fae7a50e-20f3-4fb9-9f99-ede5b0304c7d\n",
      "timestamp: 2023-05-23T12:25:12Z00:00\n",
      "\n",
      "\n"
     ]
    },
    {
     "name": "stdout",
     "output_type": "stream",
     "text": [
      "IPython==8.13.2\n",
      "keyname==0.5.2\n",
      "yaml==6.0\n",
      "alifedata_phyloinformatics_convert==0.13.0\n",
      "deap==1.3\n",
      "endomill==0.1.3\n",
      "hstrat==1.6.1\n",
      "iterpop==0.4.1\n",
      "matplotlib==3.7.1\n",
      "nbmetalog==0.2.6\n",
      "numpy==1.24.3\n",
      "pandas==2.0.1\n",
      "scipy==1.10.1\n",
      "seaborn==0.12.2\n",
      "sympy==1.12\n",
      "teeplot==0.5.0\n",
      "re==2.2.1\n",
      "comm==0.1.3\n",
      "logging==0.5.1.2\n",
      "psutil==5.9.5\n",
      "zmq==25.0.2\n",
      "json==2.0.9\n",
      "ipykernel==6.23.1\n"
     ]
    }
   ],
   "source": [
    "nbm.print_metadata()\n"
   ]
  },
  {
   "cell_type": "markdown",
   "id": "b63cd85d",
   "metadata": {
    "papermill": {
     "duration": 0.005531,
     "end_time": "2023-05-23T19:25:12.921602",
     "exception": false,
     "start_time": "2023-05-23T19:25:12.916071",
     "status": "completed"
    },
    "tags": []
   },
   "source": [
    "# Parameters\n"
   ]
  },
  {
   "cell_type": "code",
   "execution_count": 9,
   "id": "12d37f65",
   "metadata": {
    "execution": {
     "iopub.execute_input": "2023-05-23T19:25:12.932210Z",
     "iopub.status.busy": "2023-05-23T19:25:12.931881Z",
     "iopub.status.idle": "2023-05-23T19:25:12.940923Z",
     "shell.execute_reply": "2023-05-23T19:25:12.939663Z"
    },
    "papermill": {
     "duration": 0.016933,
     "end_time": "2023-05-23T19:25:12.943206",
     "exception": false,
     "start_time": "2023-05-23T19:25:12.926273",
     "status": "completed"
    },
    "tags": []
   },
   "outputs": [],
   "source": [
    "# HSTRAT_RESOLUTION = None\n",
    "HSTRAT_DIFFERENTIA_WIDTH = 64\n",
    "NGEN = ip.pophomogeneous([len(MILL_NPOP_SEQ), len(MILL_NTOURN_SEQ)])\n"
   ]
  },
  {
   "cell_type": "markdown",
   "id": "c45bd521",
   "metadata": {
    "papermill": {
     "duration": 0.00848,
     "end_time": "2023-05-23T19:25:12.960626",
     "exception": false,
     "start_time": "2023-05-23T19:25:12.952146",
     "status": "completed"
    },
    "tags": []
   },
   "source": [
    "# Setup\n"
   ]
  },
  {
   "cell_type": "code",
   "execution_count": 10,
   "id": "c6124261",
   "metadata": {
    "execution": {
     "iopub.execute_input": "2023-05-23T19:25:12.979644Z",
     "iopub.status.busy": "2023-05-23T19:25:12.979147Z",
     "iopub.status.idle": "2023-05-23T19:25:12.987467Z",
     "shell.execute_reply": "2023-05-23T19:25:12.986665Z"
    },
    "papermill": {
     "duration": 0.020301,
     "end_time": "2023-05-23T19:25:12.989775",
     "exception": false,
     "start_time": "2023-05-23T19:25:12.969474",
     "status": "completed"
    },
    "tags": []
   },
   "outputs": [],
   "source": [
    "deap_creator.create(\"FitnessMax\", deap_base.Fitness, weights=(1.0,))\n",
    "deap_creator.create(\"Individual\", list, fitness=deap_creator.FitnessMax)\n",
    "\n",
    "toolbox = deap_base.Toolbox()\n",
    "\n",
    "toolbox.register(\"attr_bool\", random.randint, 0, 1)\n",
    "toolbox.register(\n",
    "    \"individual\",\n",
    "    deap_tools.initRepeat,\n",
    "    deap_creator.Individual,\n",
    "    toolbox.attr_bool,\n",
    "    n=100,\n",
    ")\n",
    "toolbox.register(\"population\", deap_tools.initRepeat, list, toolbox.individual)\n",
    "\n",
    "\n",
    "def evalOneMax(individual):\n",
    "    return (sum(individual),)\n",
    "\n",
    "\n",
    "toolbox.register(\"evaluate\", evalOneMax)\n",
    "toolbox.register(\"mate\", deap_tools.cxTwoPoint)\n",
    "toolbox.register(\"mutate\", deap_tools.mutFlipBit, indpb=0.05)\n",
    "\n",
    "# Decorate the variation operators\n",
    "history = deap_tools.History()\n",
    "toolbox.decorate(\"mate\", history.decorator)\n",
    "\n",
    "toolbox.decorate(\"mate\", pylib.deap.hstrat_mate_decorator)\n"
   ]
  },
  {
   "cell_type": "markdown",
   "id": "163135ba",
   "metadata": {
    "papermill": {
     "duration": 0.009039,
     "end_time": "2023-05-23T19:25:13.008344",
     "exception": false,
     "start_time": "2023-05-23T19:25:12.999305",
     "status": "completed"
    },
    "tags": []
   },
   "source": [
    "# Evolve\n"
   ]
  },
  {
   "cell_type": "code",
   "execution_count": 11,
   "id": "c879d161",
   "metadata": {
    "execution": {
     "iopub.execute_input": "2023-05-23T19:25:13.024177Z",
     "iopub.status.busy": "2023-05-23T19:25:13.023799Z",
     "iopub.status.idle": "2023-05-23T19:32:34.780398Z",
     "shell.execute_reply": "2023-05-23T19:32:34.779526Z"
    },
    "papermill": {
     "duration": 441.765625,
     "end_time": "2023-05-23T19:32:34.782827",
     "exception": false,
     "start_time": "2023-05-23T19:25:13.017202",
     "status": "completed"
    },
    "tags": []
   },
   "outputs": [
    {
     "name": "stderr",
     "output_type": "stream",
     "text": [
      "\r",
      "0it [00:00, ?it/s]"
     ]
    },
    {
     "name": "stderr",
     "output_type": "stream",
     "text": [
      "\r",
      "1it [00:00,  3.44it/s]"
     ]
    },
    {
     "name": "stderr",
     "output_type": "stream",
     "text": [
      "\r",
      "2it [00:00,  2.69it/s]"
     ]
    },
    {
     "name": "stderr",
     "output_type": "stream",
     "text": [
      "\r",
      "3it [00:00,  3.07it/s]"
     ]
    },
    {
     "name": "stderr",
     "output_type": "stream",
     "text": [
      "\r",
      "4it [00:01,  2.77it/s]"
     ]
    },
    {
     "name": "stderr",
     "output_type": "stream",
     "text": [
      "\r",
      "5it [00:02,  2.13it/s]"
     ]
    },
    {
     "name": "stderr",
     "output_type": "stream",
     "text": [
      "\r",
      "6it [00:02,  2.09it/s]"
     ]
    },
    {
     "name": "stderr",
     "output_type": "stream",
     "text": [
      "\r",
      "7it [00:03,  2.03it/s]"
     ]
    },
    {
     "name": "stderr",
     "output_type": "stream",
     "text": [
      "\r",
      "8it [00:03,  1.68it/s]"
     ]
    },
    {
     "name": "stderr",
     "output_type": "stream",
     "text": [
      "\r",
      "9it [00:04,  1.73it/s]"
     ]
    },
    {
     "name": "stderr",
     "output_type": "stream",
     "text": [
      "\r",
      "10it [00:05,  1.68it/s]"
     ]
    },
    {
     "name": "stderr",
     "output_type": "stream",
     "text": [
      "\r",
      "11it [00:05,  1.44it/s]"
     ]
    },
    {
     "name": "stderr",
     "output_type": "stream",
     "text": [
      "\r",
      "12it [00:06,  1.45it/s]"
     ]
    },
    {
     "name": "stderr",
     "output_type": "stream",
     "text": [
      "\r",
      "13it [00:07,  1.43it/s]"
     ]
    },
    {
     "name": "stderr",
     "output_type": "stream",
     "text": [
      "\r",
      "14it [00:08,  1.28it/s]"
     ]
    },
    {
     "name": "stderr",
     "output_type": "stream",
     "text": [
      "\r",
      "15it [00:09,  1.31it/s]"
     ]
    },
    {
     "name": "stderr",
     "output_type": "stream",
     "text": [
      "\r",
      "16it [00:09,  1.28it/s]"
     ]
    },
    {
     "name": "stderr",
     "output_type": "stream",
     "text": [
      "\r",
      "17it [00:10,  1.21it/s]"
     ]
    },
    {
     "name": "stderr",
     "output_type": "stream",
     "text": [
      "\r",
      "18it [00:11,  1.31it/s]"
     ]
    },
    {
     "name": "stderr",
     "output_type": "stream",
     "text": [
      "\r",
      "19it [00:12,  1.37it/s]"
     ]
    },
    {
     "name": "stderr",
     "output_type": "stream",
     "text": [
      "\r",
      "20it [00:12,  1.35it/s]"
     ]
    },
    {
     "name": "stderr",
     "output_type": "stream",
     "text": [
      "\r",
      "21it [00:13,  1.18it/s]"
     ]
    },
    {
     "name": "stderr",
     "output_type": "stream",
     "text": [
      "\r",
      "22it [00:14,  1.20it/s]"
     ]
    },
    {
     "name": "stderr",
     "output_type": "stream",
     "text": [
      "\r",
      "23it [00:15,  1.18it/s]"
     ]
    },
    {
     "name": "stderr",
     "output_type": "stream",
     "text": [
      "\r",
      "24it [00:16,  1.09it/s]"
     ]
    },
    {
     "name": "stderr",
     "output_type": "stream",
     "text": [
      "\r",
      "25it [00:17,  1.08it/s]"
     ]
    },
    {
     "name": "stderr",
     "output_type": "stream",
     "text": [
      "\r",
      "26it [00:18,  1.08it/s]"
     ]
    },
    {
     "name": "stderr",
     "output_type": "stream",
     "text": [
      "\r",
      "27it [00:19,  1.08it/s]"
     ]
    },
    {
     "name": "stderr",
     "output_type": "stream",
     "text": [
      "\r",
      "28it [00:20,  1.05s/it]"
     ]
    },
    {
     "name": "stderr",
     "output_type": "stream",
     "text": [
      "\r",
      "29it [00:21,  1.11it/s]"
     ]
    },
    {
     "name": "stderr",
     "output_type": "stream",
     "text": [
      "\r",
      "30it [00:22,  1.09it/s]"
     ]
    },
    {
     "name": "stderr",
     "output_type": "stream",
     "text": [
      "\r",
      "31it [00:23,  1.01s/it]"
     ]
    },
    {
     "name": "stderr",
     "output_type": "stream",
     "text": [
      "\r",
      "32it [00:24,  1.05it/s]"
     ]
    },
    {
     "name": "stderr",
     "output_type": "stream",
     "text": [
      "\r",
      "33it [00:25,  1.03it/s]"
     ]
    },
    {
     "name": "stderr",
     "output_type": "stream",
     "text": [
      "\r",
      "34it [00:26,  1.02it/s]"
     ]
    },
    {
     "name": "stderr",
     "output_type": "stream",
     "text": [
      "\r",
      "35it [00:27,  1.05s/it]"
     ]
    },
    {
     "name": "stderr",
     "output_type": "stream",
     "text": [
      "\r",
      "36it [00:28,  1.05s/it]"
     ]
    },
    {
     "name": "stderr",
     "output_type": "stream",
     "text": [
      "\r",
      "37it [00:29,  1.07s/it]"
     ]
    },
    {
     "name": "stderr",
     "output_type": "stream",
     "text": [
      "\r",
      "38it [00:31,  1.10s/it]"
     ]
    },
    {
     "name": "stderr",
     "output_type": "stream",
     "text": [
      "\r",
      "39it [00:32,  1.17s/it]"
     ]
    },
    {
     "name": "stderr",
     "output_type": "stream",
     "text": [
      "\r",
      "40it [00:33,  1.14s/it]"
     ]
    },
    {
     "name": "stderr",
     "output_type": "stream",
     "text": [
      "\r",
      "41it [00:34,  1.15s/it]"
     ]
    },
    {
     "name": "stderr",
     "output_type": "stream",
     "text": [
      "\r",
      "42it [00:36,  1.27s/it]"
     ]
    },
    {
     "name": "stderr",
     "output_type": "stream",
     "text": [
      "\r",
      "43it [00:37,  1.25s/it]"
     ]
    },
    {
     "name": "stderr",
     "output_type": "stream",
     "text": [
      "\r",
      "44it [00:38,  1.24s/it]"
     ]
    },
    {
     "name": "stderr",
     "output_type": "stream",
     "text": [
      "\r",
      "45it [00:39,  1.24s/it]"
     ]
    },
    {
     "name": "stderr",
     "output_type": "stream",
     "text": [
      "\r",
      "46it [00:41,  1.37s/it]"
     ]
    },
    {
     "name": "stderr",
     "output_type": "stream",
     "text": [
      "\r",
      "47it [00:42,  1.34s/it]"
     ]
    },
    {
     "name": "stderr",
     "output_type": "stream",
     "text": [
      "\r",
      "48it [00:44,  1.33s/it]"
     ]
    },
    {
     "name": "stderr",
     "output_type": "stream",
     "text": [
      "\r",
      "49it [00:45,  1.32s/it]"
     ]
    },
    {
     "name": "stderr",
     "output_type": "stream",
     "text": [
      "\r",
      "50it [00:47,  1.45s/it]"
     ]
    },
    {
     "name": "stderr",
     "output_type": "stream",
     "text": [
      "\r",
      "51it [00:48,  1.42s/it]"
     ]
    },
    {
     "name": "stderr",
     "output_type": "stream",
     "text": [
      "\r",
      "52it [00:49,  1.41s/it]"
     ]
    },
    {
     "name": "stderr",
     "output_type": "stream",
     "text": [
      "\r",
      "53it [00:50,  1.20s/it]"
     ]
    },
    {
     "name": "stderr",
     "output_type": "stream",
     "text": [
      "\r",
      "54it [00:51,  1.26s/it]"
     ]
    },
    {
     "name": "stderr",
     "output_type": "stream",
     "text": [
      "\r",
      "55it [00:53,  1.45s/it]"
     ]
    },
    {
     "name": "stderr",
     "output_type": "stream",
     "text": [
      "\r",
      "56it [00:55,  1.45s/it]"
     ]
    },
    {
     "name": "stderr",
     "output_type": "stream",
     "text": [
      "\r",
      "57it [00:56,  1.45s/it]"
     ]
    },
    {
     "name": "stderr",
     "output_type": "stream",
     "text": [
      "\r",
      "58it [00:58,  1.46s/it]"
     ]
    },
    {
     "name": "stderr",
     "output_type": "stream",
     "text": [
      "\r",
      "59it [01:00,  1.61s/it]"
     ]
    },
    {
     "name": "stderr",
     "output_type": "stream",
     "text": [
      "\r",
      "60it [01:01,  1.59s/it]"
     ]
    },
    {
     "name": "stderr",
     "output_type": "stream",
     "text": [
      "\r",
      "61it [01:03,  1.58s/it]"
     ]
    },
    {
     "name": "stderr",
     "output_type": "stream",
     "text": [
      "\r",
      "62it [01:04,  1.58s/it]"
     ]
    },
    {
     "name": "stderr",
     "output_type": "stream",
     "text": [
      "\r",
      "63it [01:06,  1.58s/it]"
     ]
    },
    {
     "name": "stderr",
     "output_type": "stream",
     "text": [
      "\r",
      "64it [01:08,  1.75s/it]"
     ]
    },
    {
     "name": "stderr",
     "output_type": "stream",
     "text": [
      "\r",
      "65it [01:10,  1.71s/it]"
     ]
    },
    {
     "name": "stderr",
     "output_type": "stream",
     "text": [
      "\r",
      "66it [01:11,  1.70s/it]"
     ]
    },
    {
     "name": "stderr",
     "output_type": "stream",
     "text": [
      "\r",
      "67it [01:13,  1.69s/it]"
     ]
    },
    {
     "name": "stderr",
     "output_type": "stream",
     "text": [
      "\r",
      "68it [01:15,  1.86s/it]"
     ]
    },
    {
     "name": "stderr",
     "output_type": "stream",
     "text": [
      "\r",
      "69it [01:17,  1.83s/it]"
     ]
    },
    {
     "name": "stderr",
     "output_type": "stream",
     "text": [
      "\r",
      "70it [01:19,  1.79s/it]"
     ]
    },
    {
     "name": "stderr",
     "output_type": "stream",
     "text": [
      "\r",
      "71it [01:21,  1.77s/it]"
     ]
    },
    {
     "name": "stderr",
     "output_type": "stream",
     "text": [
      "\r",
      "72it [01:22,  1.69s/it]"
     ]
    },
    {
     "name": "stderr",
     "output_type": "stream",
     "text": [
      "\r",
      "73it [01:24,  1.88s/it]"
     ]
    },
    {
     "name": "stderr",
     "output_type": "stream",
     "text": [
      "\r",
      "74it [01:26,  1.85s/it]"
     ]
    },
    {
     "name": "stderr",
     "output_type": "stream",
     "text": [
      "\r",
      "75it [01:28,  1.84s/it]"
     ]
    },
    {
     "name": "stderr",
     "output_type": "stream",
     "text": [
      "\r",
      "76it [01:30,  1.83s/it]"
     ]
    },
    {
     "name": "stderr",
     "output_type": "stream",
     "text": [
      "\r",
      "77it [01:32,  1.85s/it]"
     ]
    },
    {
     "name": "stderr",
     "output_type": "stream",
     "text": [
      "\r",
      "78it [01:34,  2.03s/it]"
     ]
    },
    {
     "name": "stderr",
     "output_type": "stream",
     "text": [
      "\r",
      "79it [01:35,  1.75s/it]"
     ]
    },
    {
     "name": "stderr",
     "output_type": "stream",
     "text": [
      "\r",
      "80it [01:36,  1.61s/it]"
     ]
    },
    {
     "name": "stderr",
     "output_type": "stream",
     "text": [
      "\r",
      "81it [01:38,  1.53s/it]"
     ]
    },
    {
     "name": "stderr",
     "output_type": "stream",
     "text": [
      "\r",
      "82it [01:39,  1.40s/it]"
     ]
    },
    {
     "name": "stderr",
     "output_type": "stream",
     "text": [
      "\r",
      "83it [01:41,  1.67s/it]"
     ]
    },
    {
     "name": "stderr",
     "output_type": "stream",
     "text": [
      "\r",
      "84it [01:42,  1.56s/it]"
     ]
    },
    {
     "name": "stderr",
     "output_type": "stream",
     "text": [
      "\r",
      "85it [01:44,  1.40s/it]"
     ]
    },
    {
     "name": "stderr",
     "output_type": "stream",
     "text": [
      "\r",
      "86it [01:45,  1.52s/it]"
     ]
    },
    {
     "name": "stderr",
     "output_type": "stream",
     "text": [
      "\r",
      "87it [01:47,  1.60s/it]"
     ]
    },
    {
     "name": "stderr",
     "output_type": "stream",
     "text": [
      "\r",
      "88it [01:50,  1.89s/it]"
     ]
    },
    {
     "name": "stderr",
     "output_type": "stream",
     "text": [
      "\r",
      "89it [01:51,  1.70s/it]"
     ]
    },
    {
     "name": "stderr",
     "output_type": "stream",
     "text": [
      "\r",
      "90it [01:53,  1.67s/it]"
     ]
    },
    {
     "name": "stderr",
     "output_type": "stream",
     "text": [
      "\r",
      "91it [01:55,  1.80s/it]"
     ]
    },
    {
     "name": "stderr",
     "output_type": "stream",
     "text": [
      "\r",
      "92it [01:57,  1.82s/it]"
     ]
    },
    {
     "name": "stderr",
     "output_type": "stream",
     "text": [
      "\r",
      "93it [02:00,  2.17s/it]"
     ]
    },
    {
     "name": "stderr",
     "output_type": "stream",
     "text": [
      "\r",
      "94it [02:01,  1.96s/it]"
     ]
    },
    {
     "name": "stderr",
     "output_type": "stream",
     "text": [
      "\r",
      "95it [02:03,  2.03s/it]"
     ]
    },
    {
     "name": "stderr",
     "output_type": "stream",
     "text": [
      "\r",
      "96it [02:05,  1.96s/it]"
     ]
    },
    {
     "name": "stderr",
     "output_type": "stream",
     "text": [
      "\r",
      "97it [02:07,  2.04s/it]"
     ]
    },
    {
     "name": "stderr",
     "output_type": "stream",
     "text": [
      "\r",
      "98it [02:10,  2.12s/it]"
     ]
    },
    {
     "name": "stderr",
     "output_type": "stream",
     "text": [
      "\r",
      "99it [02:13,  2.45s/it]"
     ]
    },
    {
     "name": "stderr",
     "output_type": "stream",
     "text": [
      "\r",
      "100it [02:15,  2.43s/it]"
     ]
    },
    {
     "name": "stderr",
     "output_type": "stream",
     "text": [
      "\r",
      "101it [02:18,  2.42s/it]"
     ]
    },
    {
     "name": "stderr",
     "output_type": "stream",
     "text": [
      "\r",
      "102it [02:20,  2.42s/it]"
     ]
    },
    {
     "name": "stderr",
     "output_type": "stream",
     "text": [
      "\r",
      "103it [02:22,  2.28s/it]"
     ]
    },
    {
     "name": "stderr",
     "output_type": "stream",
     "text": [
      "\r",
      "104it [02:24,  2.33s/it]"
     ]
    },
    {
     "name": "stderr",
     "output_type": "stream",
     "text": [
      "\r",
      "105it [02:28,  2.64s/it]"
     ]
    },
    {
     "name": "stderr",
     "output_type": "stream",
     "text": [
      "\r",
      "106it [02:30,  2.60s/it]"
     ]
    },
    {
     "name": "stderr",
     "output_type": "stream",
     "text": [
      "\r",
      "107it [02:33,  2.58s/it]"
     ]
    },
    {
     "name": "stderr",
     "output_type": "stream",
     "text": [
      "\r",
      "108it [02:34,  2.20s/it]"
     ]
    },
    {
     "name": "stderr",
     "output_type": "stream",
     "text": [
      "\r",
      "109it [02:36,  2.22s/it]"
     ]
    },
    {
     "name": "stderr",
     "output_type": "stream",
     "text": [
      "\r",
      "110it [02:39,  2.47s/it]"
     ]
    },
    {
     "name": "stderr",
     "output_type": "stream",
     "text": [
      "\r",
      "111it [02:42,  2.47s/it]"
     ]
    },
    {
     "name": "stderr",
     "output_type": "stream",
     "text": [
      "\r",
      "112it [02:44,  2.36s/it]"
     ]
    },
    {
     "name": "stderr",
     "output_type": "stream",
     "text": [
      "\r",
      "113it [02:45,  2.05s/it]"
     ]
    },
    {
     "name": "stderr",
     "output_type": "stream",
     "text": [
      "\r",
      "114it [02:47,  1.86s/it]"
     ]
    },
    {
     "name": "stderr",
     "output_type": "stream",
     "text": [
      "\r",
      "115it [02:49,  1.97s/it]"
     ]
    },
    {
     "name": "stderr",
     "output_type": "stream",
     "text": [
      "\r",
      "116it [02:50,  1.83s/it]"
     ]
    },
    {
     "name": "stderr",
     "output_type": "stream",
     "text": [
      "\r",
      "117it [02:52,  1.76s/it]"
     ]
    },
    {
     "name": "stderr",
     "output_type": "stream",
     "text": [
      "\r",
      "118it [02:53,  1.66s/it]"
     ]
    },
    {
     "name": "stderr",
     "output_type": "stream",
     "text": [
      "\r",
      "119it [02:55,  1.58s/it]"
     ]
    },
    {
     "name": "stderr",
     "output_type": "stream",
     "text": [
      "\r",
      "120it [02:56,  1.54s/it]"
     ]
    },
    {
     "name": "stderr",
     "output_type": "stream",
     "text": [
      "\r",
      "121it [02:58,  1.51s/it]"
     ]
    },
    {
     "name": "stderr",
     "output_type": "stream",
     "text": [
      "\r",
      "122it [03:00,  1.76s/it]"
     ]
    },
    {
     "name": "stderr",
     "output_type": "stream",
     "text": [
      "\r",
      "123it [03:02,  1.67s/it]"
     ]
    },
    {
     "name": "stderr",
     "output_type": "stream",
     "text": [
      "\r",
      "124it [03:03,  1.62s/it]"
     ]
    },
    {
     "name": "stderr",
     "output_type": "stream",
     "text": [
      "\r",
      "125it [03:05,  1.60s/it]"
     ]
    },
    {
     "name": "stderr",
     "output_type": "stream",
     "text": [
      "\r",
      "126it [03:07,  1.99s/it]"
     ]
    },
    {
     "name": "stderr",
     "output_type": "stream",
     "text": [
      "\r",
      "127it [03:10,  2.26s/it]"
     ]
    },
    {
     "name": "stderr",
     "output_type": "stream",
     "text": [
      "\r",
      "128it [03:14,  2.81s/it]"
     ]
    },
    {
     "name": "stderr",
     "output_type": "stream",
     "text": [
      "\r",
      "129it [03:17,  2.85s/it]"
     ]
    },
    {
     "name": "stderr",
     "output_type": "stream",
     "text": [
      "\r",
      "130it [03:20,  2.89s/it]"
     ]
    },
    {
     "name": "stderr",
     "output_type": "stream",
     "text": [
      "\r",
      "131it [03:23,  2.91s/it]"
     ]
    },
    {
     "name": "stderr",
     "output_type": "stream",
     "text": [
      "\r",
      "132it [03:26,  2.92s/it]"
     ]
    },
    {
     "name": "stderr",
     "output_type": "stream",
     "text": [
      "\r",
      "133it [03:29,  2.95s/it]"
     ]
    },
    {
     "name": "stderr",
     "output_type": "stream",
     "text": [
      "\r",
      "134it [03:34,  3.36s/it]"
     ]
    },
    {
     "name": "stderr",
     "output_type": "stream",
     "text": [
      "\r",
      "135it [03:37,  3.26s/it]"
     ]
    },
    {
     "name": "stderr",
     "output_type": "stream",
     "text": [
      "\r",
      "136it [03:40,  3.21s/it]"
     ]
    },
    {
     "name": "stderr",
     "output_type": "stream",
     "text": [
      "\r",
      "137it [03:43,  3.17s/it]"
     ]
    },
    {
     "name": "stderr",
     "output_type": "stream",
     "text": [
      "\r",
      "138it [03:46,  3.15s/it]"
     ]
    },
    {
     "name": "stderr",
     "output_type": "stream",
     "text": [
      "\r",
      "139it [03:49,  3.02s/it]"
     ]
    },
    {
     "name": "stderr",
     "output_type": "stream",
     "text": [
      "\r",
      "140it [03:52,  3.06s/it]"
     ]
    },
    {
     "name": "stderr",
     "output_type": "stream",
     "text": [
      "\r",
      "141it [03:55,  3.23s/it]"
     ]
    },
    {
     "name": "stderr",
     "output_type": "stream",
     "text": [
      "\r",
      "142it [03:57,  2.82s/it]"
     ]
    },
    {
     "name": "stderr",
     "output_type": "stream",
     "text": [
      "\r",
      "143it [04:00,  2.89s/it]"
     ]
    },
    {
     "name": "stderr",
     "output_type": "stream",
     "text": [
      "\r",
      "144it [04:04,  2.98s/it]"
     ]
    },
    {
     "name": "stderr",
     "output_type": "stream",
     "text": [
      "\r",
      "145it [04:07,  3.04s/it]"
     ]
    },
    {
     "name": "stderr",
     "output_type": "stream",
     "text": [
      "\r",
      "146it [04:10,  3.10s/it]"
     ]
    },
    {
     "name": "stderr",
     "output_type": "stream",
     "text": [
      "\r",
      "147it [04:13,  3.13s/it]"
     ]
    },
    {
     "name": "stderr",
     "output_type": "stream",
     "text": [
      "\r",
      "148it [04:18,  3.63s/it]"
     ]
    },
    {
     "name": "stderr",
     "output_type": "stream",
     "text": [
      "\r",
      "149it [04:21,  3.40s/it]"
     ]
    },
    {
     "name": "stderr",
     "output_type": "stream",
     "text": [
      "\r",
      "150it [04:23,  3.11s/it]"
     ]
    },
    {
     "name": "stderr",
     "output_type": "stream",
     "text": [
      "\r",
      "151it [04:25,  2.81s/it]"
     ]
    },
    {
     "name": "stderr",
     "output_type": "stream",
     "text": [
      "\r",
      "152it [04:29,  2.93s/it]"
     ]
    },
    {
     "name": "stderr",
     "output_type": "stream",
     "text": [
      "\r",
      "153it [04:31,  2.81s/it]"
     ]
    },
    {
     "name": "stderr",
     "output_type": "stream",
     "text": [
      "\r",
      "154it [04:34,  2.83s/it]"
     ]
    },
    {
     "name": "stderr",
     "output_type": "stream",
     "text": [
      "\r",
      "155it [04:39,  3.45s/it]"
     ]
    },
    {
     "name": "stderr",
     "output_type": "stream",
     "text": [
      "\r",
      "156it [04:42,  3.47s/it]"
     ]
    },
    {
     "name": "stderr",
     "output_type": "stream",
     "text": [
      "\r",
      "157it [04:46,  3.48s/it]"
     ]
    },
    {
     "name": "stderr",
     "output_type": "stream",
     "text": [
      "\r",
      "158it [04:49,  3.50s/it]"
     ]
    },
    {
     "name": "stderr",
     "output_type": "stream",
     "text": [
      "\r",
      "159it [04:53,  3.48s/it]"
     ]
    },
    {
     "name": "stderr",
     "output_type": "stream",
     "text": [
      "\r",
      "160it [04:55,  2.99s/it]"
     ]
    },
    {
     "name": "stderr",
     "output_type": "stream",
     "text": [
      "\r",
      "161it [04:57,  2.85s/it]"
     ]
    },
    {
     "name": "stderr",
     "output_type": "stream",
     "text": [
      "\r",
      "162it [05:02,  3.29s/it]"
     ]
    },
    {
     "name": "stderr",
     "output_type": "stream",
     "text": [
      "\r",
      "163it [05:04,  3.15s/it]"
     ]
    },
    {
     "name": "stderr",
     "output_type": "stream",
     "text": [
      "\r",
      "164it [05:08,  3.17s/it]"
     ]
    },
    {
     "name": "stderr",
     "output_type": "stream",
     "text": [
      "\r",
      "165it [05:11,  3.10s/it]"
     ]
    },
    {
     "name": "stderr",
     "output_type": "stream",
     "text": [
      "\r",
      "166it [05:13,  2.95s/it]"
     ]
    },
    {
     "name": "stderr",
     "output_type": "stream",
     "text": [
      "\r",
      "167it [05:16,  2.84s/it]"
     ]
    },
    {
     "name": "stderr",
     "output_type": "stream",
     "text": [
      "\r",
      "168it [05:18,  2.70s/it]"
     ]
    },
    {
     "name": "stderr",
     "output_type": "stream",
     "text": [
      "\r",
      "169it [05:21,  2.86s/it]"
     ]
    },
    {
     "name": "stderr",
     "output_type": "stream",
     "text": [
      "\r",
      "170it [05:27,  3.60s/it]"
     ]
    },
    {
     "name": "stderr",
     "output_type": "stream",
     "text": [
      "\r",
      "171it [05:29,  3.22s/it]"
     ]
    },
    {
     "name": "stderr",
     "output_type": "stream",
     "text": [
      "\r",
      "172it [05:31,  2.99s/it]"
     ]
    },
    {
     "name": "stderr",
     "output_type": "stream",
     "text": [
      "\r",
      "173it [05:34,  2.82s/it]"
     ]
    },
    {
     "name": "stderr",
     "output_type": "stream",
     "text": [
      "\r",
      "174it [05:36,  2.64s/it]"
     ]
    },
    {
     "name": "stderr",
     "output_type": "stream",
     "text": [
      "\r",
      "175it [05:40,  2.90s/it]"
     ]
    },
    {
     "name": "stderr",
     "output_type": "stream",
     "text": [
      "\r",
      "176it [05:43,  3.16s/it]"
     ]
    },
    {
     "name": "stderr",
     "output_type": "stream",
     "text": [
      "\r",
      "177it [05:47,  3.38s/it]"
     ]
    },
    {
     "name": "stderr",
     "output_type": "stream",
     "text": [
      "\r",
      "178it [05:53,  4.18s/it]"
     ]
    },
    {
     "name": "stderr",
     "output_type": "stream",
     "text": [
      "\r",
      "179it [05:57,  4.11s/it]"
     ]
    },
    {
     "name": "stderr",
     "output_type": "stream",
     "text": [
      "\r",
      "180it [06:01,  4.07s/it]"
     ]
    },
    {
     "name": "stderr",
     "output_type": "stream",
     "text": [
      "\r",
      "181it [06:05,  4.00s/it]"
     ]
    },
    {
     "name": "stderr",
     "output_type": "stream",
     "text": [
      "\r",
      "182it [06:09,  3.95s/it]"
     ]
    },
    {
     "name": "stderr",
     "output_type": "stream",
     "text": [
      "\r",
      "183it [06:13,  3.95s/it]"
     ]
    },
    {
     "name": "stderr",
     "output_type": "stream",
     "text": [
      "\r",
      "184it [06:17,  3.99s/it]"
     ]
    },
    {
     "name": "stderr",
     "output_type": "stream",
     "text": [
      "\r",
      "185it [06:21,  3.88s/it]"
     ]
    },
    {
     "name": "stderr",
     "output_type": "stream",
     "text": [
      "\r",
      "186it [06:26,  4.29s/it]"
     ]
    },
    {
     "name": "stderr",
     "output_type": "stream",
     "text": [
      "\r",
      "187it [06:29,  3.99s/it]"
     ]
    },
    {
     "name": "stderr",
     "output_type": "stream",
     "text": [
      "\r",
      "188it [06:33,  3.92s/it]"
     ]
    },
    {
     "name": "stderr",
     "output_type": "stream",
     "text": [
      "\r",
      "189it [06:36,  3.57s/it]"
     ]
    },
    {
     "name": "stderr",
     "output_type": "stream",
     "text": [
      "\r",
      "190it [06:39,  3.47s/it]"
     ]
    },
    {
     "name": "stderr",
     "output_type": "stream",
     "text": [
      "\r",
      "191it [06:43,  3.68s/it]"
     ]
    },
    {
     "name": "stderr",
     "output_type": "stream",
     "text": [
      "\r",
      "192it [06:47,  3.70s/it]"
     ]
    },
    {
     "name": "stderr",
     "output_type": "stream",
     "text": [
      "\r",
      "193it [06:51,  3.85s/it]"
     ]
    },
    {
     "name": "stderr",
     "output_type": "stream",
     "text": [
      "\r",
      "194it [06:57,  4.64s/it]"
     ]
    },
    {
     "name": "stderr",
     "output_type": "stream",
     "text": [
      "\r",
      "195it [07:02,  4.53s/it]"
     ]
    },
    {
     "name": "stderr",
     "output_type": "stream",
     "text": [
      "\r",
      "196it [07:06,  4.44s/it]"
     ]
    },
    {
     "name": "stderr",
     "output_type": "stream",
     "text": [
      "\r",
      "197it [07:10,  4.38s/it]"
     ]
    },
    {
     "name": "stderr",
     "output_type": "stream",
     "text": [
      "\r",
      "198it [07:14,  4.19s/it]"
     ]
    },
    {
     "name": "stderr",
     "output_type": "stream",
     "text": [
      "\r",
      "199it [07:17,  3.88s/it]"
     ]
    },
    {
     "name": "stderr",
     "output_type": "stream",
     "text": [
      "\r",
      "200it [07:20,  3.63s/it]"
     ]
    },
    {
     "name": "stderr",
     "output_type": "stream",
     "text": [
      "\r",
      "200it [07:20,  2.20s/it]"
     ]
    },
    {
     "name": "stderr",
     "output_type": "stream",
     "text": [
      "\n"
     ]
    }
   ],
   "source": [
    "# Create the population and populate the history\n",
    "population = toolbox.population(n=MILL_NPOP_SEQ[0])\n",
    "\n",
    "species_ancestor = hstrat.HereditaryStratigraphicColumn(\n",
    "    stratum_retention_policy=hstrat.perfect_resolution_algo.Policy(),\n",
    "    stratum_differentia_bit_width=HSTRAT_DIFFERENTIA_WIDTH,\n",
    ")\n",
    "gene_ancestor = hstrat.HereditaryStratigraphicColumn(\n",
    "    stratum_retention_policy=hstrat.perfect_resolution_algo.Policy(),\n",
    "    stratum_differentia_bit_width=HSTRAT_DIFFERENTIA_WIDTH,\n",
    "    initial_stratum_annotation=0,\n",
    ")\n",
    "for member in population:\n",
    "    member.species_annotation = species_ancestor.CloneDescendant()\n",
    "    member.gene_annotation = gene_ancestor.CloneDescendant(0)\n",
    "\n",
    "history.update(population)\n",
    "\n",
    "# Do the evolution, the decorators will take care of updating the\n",
    "# history\n",
    "for _gen, (NPOP, NTOURN) in tqdm(\n",
    "    enumerate(\n",
    "        zip(\n",
    "            MILL_NPOP_SEQ,\n",
    "            MILL_NTOURN_SEQ,\n",
    "        )\n",
    "    )\n",
    "):\n",
    "    toolbox.register(\"select\", deap_tools.selTournament, tournsize=NTOURN)\n",
    "    offspring = deap_algorithms.varAnd(\n",
    "        population, toolbox, cxpb=1.0, mutpb=1.0,\n",
    "    )\n",
    "    fits = toolbox.map(toolbox.evaluate, offspring)\n",
    "    for fit, ind in zip(fits, offspring):\n",
    "        ind.fitness.values = fit\n",
    "    population = toolbox.select(offspring, k=NPOP)\n",
    "    population = [copy.deepcopy(ind) for ind in population]\n",
    "\n",
    "# ensure all extant organisms registered with phylogeny tracker\n",
    "for x in population:\n",
    "    history.update([x])\n"
   ]
  },
  {
   "cell_type": "markdown",
   "id": "70f000c8",
   "metadata": {
    "papermill": {
     "duration": 0.040895,
     "end_time": "2023-05-23T19:32:34.859452",
     "exception": false,
     "start_time": "2023-05-23T19:32:34.818557",
     "status": "completed"
    },
    "tags": []
   },
   "source": [
    "# Reconstruction\n"
   ]
  },
  {
   "cell_type": "code",
   "execution_count": 12,
   "id": "44e90172",
   "metadata": {
    "execution": {
     "iopub.execute_input": "2023-05-23T19:32:34.995717Z",
     "iopub.status.busy": "2023-05-23T19:32:34.995225Z",
     "iopub.status.idle": "2023-05-23T19:32:35.282403Z",
     "shell.execute_reply": "2023-05-23T19:32:35.281294Z"
    },
    "papermill": {
     "duration": 0.390109,
     "end_time": "2023-05-23T19:32:35.286465",
     "exception": false,
     "start_time": "2023-05-23T19:32:34.896356",
     "status": "completed"
    },
    "tags": []
   },
   "outputs": [
    {
     "data": {
      "text/html": [
       "<div>\n",
       "<style scoped>\n",
       "    .dataframe tbody tr th:only-of-type {\n",
       "        vertical-align: middle;\n",
       "    }\n",
       "\n",
       "    .dataframe tbody tr th {\n",
       "        vertical-align: top;\n",
       "    }\n",
       "\n",
       "    .dataframe thead th {\n",
       "        text-align: right;\n",
       "    }\n",
       "</style>\n",
       "<table border=\"1\" class=\"dataframe\">\n",
       "  <thead>\n",
       "    <tr style=\"text-align: right;\">\n",
       "      <th></th>\n",
       "      <th>id</th>\n",
       "      <th>ancestor_list</th>\n",
       "      <th>origin_time</th>\n",
       "      <th>taxon_label</th>\n",
       "      <th>ancestor_id</th>\n",
       "      <th>name</th>\n",
       "    </tr>\n",
       "  </thead>\n",
       "  <tbody>\n",
       "    <tr>\n",
       "      <th>0</th>\n",
       "      <td>0</td>\n",
       "      <td>[none]</td>\n",
       "      <td>0.0</td>\n",
       "      <td>Root</td>\n",
       "      <td>0</td>\n",
       "      <td>Root</td>\n",
       "    </tr>\n",
       "    <tr>\n",
       "      <th>189</th>\n",
       "      <td>189</td>\n",
       "      <td>[0]</td>\n",
       "      <td>188.0</td>\n",
       "      <td>Inner+r=188+d=P-M0lQ-ODGs+uid=CX8qcCI2aWdpR_gU...</td>\n",
       "      <td>0</td>\n",
       "      <td>Inner+r=188+d=P-M0lQ-ODGs+uid=CX8qcCI2aWdpR_gU...</td>\n",
       "    </tr>\n",
       "    <tr>\n",
       "      <th>190</th>\n",
       "      <td>190</td>\n",
       "      <td>[189]</td>\n",
       "      <td>189.0</td>\n",
       "      <td>Inner+r=189+d=PYbdl3feQLD+uid=D7tB0UQlU6MyN0de...</td>\n",
       "      <td>189</td>\n",
       "      <td>Inner+r=189+d=PYbdl3feQLD+uid=D7tB0UQlU6MyN0de...</td>\n",
       "    </tr>\n",
       "    <tr>\n",
       "      <th>195</th>\n",
       "      <td>195</td>\n",
       "      <td>[190]</td>\n",
       "      <td>191.0</td>\n",
       "      <td>Inner+r=191+d=PBifeHLOcHG+uid=W2OgOnMkw0ywTnBl...</td>\n",
       "      <td>190</td>\n",
       "      <td>Inner+r=191+d=PBifeHLOcHG+uid=W2OgOnMkw0ywTnBl...</td>\n",
       "    </tr>\n",
       "    <tr>\n",
       "      <th>206</th>\n",
       "      <td>206</td>\n",
       "      <td>[195]</td>\n",
       "      <td>194.0</td>\n",
       "      <td>Inner+r=194+d=P9C7DMMjbz1+uid=DuG4zEcDWKJ-uhqd...</td>\n",
       "      <td>195</td>\n",
       "      <td>Inner+r=194+d=P9C7DMMjbz1+uid=DuG4zEcDWKJ-uhqd...</td>\n",
       "    </tr>\n",
       "    <tr>\n",
       "      <th>...</th>\n",
       "      <td>...</td>\n",
       "      <td>...</td>\n",
       "      <td>...</td>\n",
       "      <td>...</td>\n",
       "      <td>...</td>\n",
       "      <td>...</td>\n",
       "    </tr>\n",
       "    <tr>\n",
       "      <th>552</th>\n",
       "      <td>552</td>\n",
       "      <td>[214]</td>\n",
       "      <td>201.0</td>\n",
       "      <td>20187</td>\n",
       "      <td>214</td>\n",
       "      <td>20187</td>\n",
       "    </tr>\n",
       "    <tr>\n",
       "      <th>553</th>\n",
       "      <td>553</td>\n",
       "      <td>[355]</td>\n",
       "      <td>201.0</td>\n",
       "      <td>20155</td>\n",
       "      <td>355</td>\n",
       "      <td>20155</td>\n",
       "    </tr>\n",
       "    <tr>\n",
       "      <th>554</th>\n",
       "      <td>554</td>\n",
       "      <td>[355]</td>\n",
       "      <td>201.0</td>\n",
       "      <td>20103</td>\n",
       "      <td>355</td>\n",
       "      <td>20103</td>\n",
       "    </tr>\n",
       "    <tr>\n",
       "      <th>555</th>\n",
       "      <td>555</td>\n",
       "      <td>[355]</td>\n",
       "      <td>201.0</td>\n",
       "      <td>20130</td>\n",
       "      <td>355</td>\n",
       "      <td>20130</td>\n",
       "    </tr>\n",
       "    <tr>\n",
       "      <th>556</th>\n",
       "      <td>556</td>\n",
       "      <td>[189]</td>\n",
       "      <td>201.0</td>\n",
       "      <td>20197</td>\n",
       "      <td>189</td>\n",
       "      <td>20197</td>\n",
       "    </tr>\n",
       "  </tbody>\n",
       "</table>\n",
       "<p>150 rows × 6 columns</p>\n",
       "</div>"
      ],
      "text/plain": [
       "      id ancestor_list  origin_time   \n",
       "0      0        [none]          0.0  \\\n",
       "189  189           [0]        188.0   \n",
       "190  190         [189]        189.0   \n",
       "195  195         [190]        191.0   \n",
       "206  206         [195]        194.0   \n",
       "..   ...           ...          ...   \n",
       "552  552         [214]        201.0   \n",
       "553  553         [355]        201.0   \n",
       "554  554         [355]        201.0   \n",
       "555  555         [355]        201.0   \n",
       "556  556         [189]        201.0   \n",
       "\n",
       "                                           taxon_label  ancestor_id   \n",
       "0                                                 Root            0  \\\n",
       "189  Inner+r=188+d=P-M0lQ-ODGs+uid=CX8qcCI2aWdpR_gU...            0   \n",
       "190  Inner+r=189+d=PYbdl3feQLD+uid=D7tB0UQlU6MyN0de...          189   \n",
       "195  Inner+r=191+d=PBifeHLOcHG+uid=W2OgOnMkw0ywTnBl...          190   \n",
       "206  Inner+r=194+d=P9C7DMMjbz1+uid=DuG4zEcDWKJ-uhqd...          195   \n",
       "..                                                 ...          ...   \n",
       "552                                              20187          214   \n",
       "553                                              20155          355   \n",
       "554                                              20103          355   \n",
       "555                                              20130          355   \n",
       "556                                              20197          189   \n",
       "\n",
       "                                                  name  \n",
       "0                                                 Root  \n",
       "189  Inner+r=188+d=P-M0lQ-ODGs+uid=CX8qcCI2aWdpR_gU...  \n",
       "190  Inner+r=189+d=PYbdl3feQLD+uid=D7tB0UQlU6MyN0de...  \n",
       "195  Inner+r=191+d=PBifeHLOcHG+uid=W2OgOnMkw0ywTnBl...  \n",
       "206  Inner+r=194+d=P9C7DMMjbz1+uid=DuG4zEcDWKJ-uhqd...  \n",
       "..                                                 ...  \n",
       "552                                              20187  \n",
       "553                                              20155  \n",
       "554                                              20103  \n",
       "555                                              20130  \n",
       "556                                              20197  \n",
       "\n",
       "[150 rows x 6 columns]"
      ]
     },
     "execution_count": 12,
     "metadata": {},
     "output_type": "execute_result"
    }
   ],
   "source": [
    "extant_nodes = [individual.history_index for individual in population]\n",
    "reconstructed_df = hstrat.build_tree(\n",
    "    [individual.species_annotation for individual in population],\n",
    "    version_pin=hstrat.__version__,\n",
    "    force_common_ancestry=True,\n",
    "    taxon_labels=map(str, extant_nodes),\n",
    ")\n",
    "reconstructed_df[\"name\"] = reconstructed_df[\"taxon_label\"]\n",
    "reconstructed_df\n"
   ]
  },
  {
   "cell_type": "code",
   "execution_count": 13,
   "id": "ff8edb79",
   "metadata": {
    "execution": {
     "iopub.execute_input": "2023-05-23T19:32:35.364791Z",
     "iopub.status.busy": "2023-05-23T19:32:35.363530Z",
     "iopub.status.idle": "2023-05-23T19:32:39.341611Z",
     "shell.execute_reply": "2023-05-23T19:32:39.340504Z"
    },
    "papermill": {
     "duration": 4.021802,
     "end_time": "2023-05-23T19:32:39.344548",
     "exception": false,
     "start_time": "2023-05-23T19:32:35.322746",
     "status": "completed"
    },
    "tags": []
   },
   "outputs": [
    {
     "name": "stdout",
     "output_type": "stream",
     "text": [
      "teeplots/./notebook=ne-inference+replicate=7+treatment=control+type=reconstruction+viz=draw-biopython-tree+ext=.pdf\n"
     ]
    },
    {
     "name": "stdout",
     "output_type": "stream",
     "text": [
      "teeplots/./notebook=ne-inference+replicate=7+treatment=control+type=reconstruction+viz=draw-biopython-tree+ext=.png\n"
     ]
    },
    {
     "data": {
      "image/png": "[encoded data removed]",
      "text/plain": [
       "<Figure size 650x400 with 1 Axes>"
      ]
     },
     "metadata": {},
     "output_type": "display_data"
    }
   ],
   "source": [
    "reconstructed_tree = apc.alife_dataframe_to_biopython_tree(\n",
    "    reconstructed_df, setup_branch_lengths=True\n",
    ")\n",
    "plt.rcdefaults()\n",
    "plt.close('all')\n",
    "plt.clf()\n",
    "tp.tee(\n",
    "    pylib.tree.draw_biopython_tree,\n",
    "    reconstructed_tree,\n",
    "    teeplot_outattrs={\n",
    "        \"notebook\": \"ne-inference\",\n",
    "        \"replicate\": str(MILL_REPLICATE),\n",
    "        \"treatment\": MILL_TREATMENT_NAME,\n",
    "        \"type\": \"reconstruction\",\n",
    "    },\n",
    ")\n"
   ]
  },
  {
   "cell_type": "code",
   "execution_count": 14,
   "id": "0743c232",
   "metadata": {
    "execution": {
     "iopub.execute_input": "2023-05-23T19:32:39.423047Z",
     "iopub.status.busy": "2023-05-23T19:32:39.422022Z",
     "iopub.status.idle": "2023-05-23T19:32:41.908810Z",
     "shell.execute_reply": "2023-05-23T19:32:41.907708Z"
    },
    "papermill": {
     "duration": 2.529425,
     "end_time": "2023-05-23T19:32:41.911719",
     "exception": false,
     "start_time": "2023-05-23T19:32:39.382294",
     "status": "completed"
    },
    "tags": []
   },
   "outputs": [
    {
     "name": "stdout",
     "output_type": "stream",
     "text": [
      "teeplots/./drop_overlapping_labels=true+notebook=ne-inference+replicate=7+treatment=control+type=reconstruction+viz=draw-biopython-tree+ext=.pdf\n"
     ]
    },
    {
     "name": "stdout",
     "output_type": "stream",
     "text": [
      "teeplots/./drop_overlapping_labels=true+notebook=ne-inference+replicate=7+treatment=control+type=reconstruction+viz=draw-biopython-tree+ext=.png\n"
     ]
    },
    {
     "data": {
      "image/png": "[encoded data removed]",
      "text/plain": [
       "<Figure size 650x400 with 1 Axes>"
      ]
     },
     "metadata": {},
     "output_type": "display_data"
    }
   ],
   "source": [
    "reconstructed_tree = apc.alife_dataframe_to_biopython_tree(\n",
    "    reconstructed_df, setup_branch_lengths=True\n",
    ")\n",
    "plt.rcdefaults()\n",
    "plt.close('all')\n",
    "plt.clf()\n",
    "tp.tee(\n",
    "    pylib.tree.draw_biopython_tree,\n",
    "    reconstructed_tree,\n",
    "    drop_overlapping_labels=True,\n",
    "    teeplot_outattrs={\n",
    "        \"drop_overlapping_labels\": \"true\",\n",
    "        \"notebook\": \"ne-inference\",\n",
    "        \"replicate\": str(MILL_REPLICATE),\n",
    "        \"treatment\": MILL_TREATMENT_NAME,\n",
    "        \"type\": \"reconstruction\",\n",
    "    },\n",
    ")\n"
   ]
  },
  {
   "cell_type": "code",
   "execution_count": 15,
   "id": "5ac658c1",
   "metadata": {
    "execution": {
     "iopub.execute_input": "2023-05-23T19:32:41.998093Z",
     "iopub.status.busy": "2023-05-23T19:32:41.997555Z",
     "iopub.status.idle": "2023-05-23T19:32:43.903464Z",
     "shell.execute_reply": "2023-05-23T19:32:43.902314Z"
    },
    "papermill": {
     "duration": 1.950843,
     "end_time": "2023-05-23T19:32:43.905516",
     "exception": false,
     "start_time": "2023-05-23T19:32:41.954673",
     "status": "completed"
    },
    "tags": []
   },
   "outputs": [
    {
     "name": "stdout",
     "output_type": "stream",
     "text": [
      "teeplots/./max_leaves=20+notebook=ne-inference+replicate=7+treatment=control+type=reconstruction+viz=draw-biopython-tree+ext=.pdf\n"
     ]
    },
    {
     "name": "stdout",
     "output_type": "stream",
     "text": [
      "teeplots/./max_leaves=20+notebook=ne-inference+replicate=7+treatment=control+type=reconstruction+viz=draw-biopython-tree+ext=.png\n"
     ]
    },
    {
     "data": {
      "image/png": "[encoded data removed]",
      "text/plain": [
       "<Figure size 650x400 with 1 Axes>"
      ]
     },
     "metadata": {},
     "output_type": "display_data"
    }
   ],
   "source": [
    "reconstructed_tree = apc.alife_dataframe_to_biopython_tree(\n",
    "    reconstructed_df, setup_branch_lengths=True\n",
    ")\n",
    "plt.rcdefaults()\n",
    "plt.close('all')\n",
    "plt.clf()\n",
    "tp.tee(\n",
    "    pylib.tree.draw_biopython_tree,\n",
    "    reconstructed_tree,\n",
    "    max_leaves=20,\n",
    "    teeplot_outattrs={\n",
    "        \"max_leaves\": \"20\",\n",
    "        \"notebook\": \"ne-inference\",\n",
    "        \"replicate\": str(MILL_REPLICATE),\n",
    "        \"treatment\": MILL_TREATMENT_NAME,\n",
    "        \"type\": \"reconstruction\",\n",
    "    },\n",
    ")\n"
   ]
  },
  {
   "cell_type": "markdown",
   "id": "df583931",
   "metadata": {
    "papermill": {
     "duration": 0.022316,
     "end_time": "2023-05-23T19:32:43.950183",
     "exception": false,
     "start_time": "2023-05-23T19:32:43.927867",
     "status": "completed"
    },
    "tags": []
   },
   "source": [
    "# Actual Pedigree\n"
   ]
  },
  {
   "cell_type": "code",
   "execution_count": 16,
   "id": "8b8e3f5e",
   "metadata": {
    "execution": {
     "iopub.execute_input": "2023-05-23T19:32:43.996731Z",
     "iopub.status.busy": "2023-05-23T19:32:43.996148Z",
     "iopub.status.idle": "2023-05-23T19:32:55.148172Z",
     "shell.execute_reply": "2023-05-23T19:32:55.147056Z"
    },
    "papermill": {
     "duration": 11.178713,
     "end_time": "2023-05-23T19:32:55.151562",
     "exception": false,
     "start_time": "2023-05-23T19:32:43.972849",
     "status": "completed"
    },
    "tags": []
   },
   "outputs": [],
   "source": [
    "distilled_tree = pylib.deap.history_to_tree_upgma(history, extant_nodes)\n"
   ]
  },
  {
   "cell_type": "code",
   "execution_count": 17,
   "id": "578e44d1",
   "metadata": {
    "execution": {
     "iopub.execute_input": "2023-05-23T19:32:55.247027Z",
     "iopub.status.busy": "2023-05-23T19:32:55.246535Z",
     "iopub.status.idle": "2023-05-23T19:32:59.472018Z",
     "shell.execute_reply": "2023-05-23T19:32:59.470853Z"
    },
    "papermill": {
     "duration": 4.281152,
     "end_time": "2023-05-23T19:32:59.474804",
     "exception": false,
     "start_time": "2023-05-23T19:32:55.193652",
     "status": "completed"
    },
    "tags": []
   },
   "outputs": [
    {
     "name": "stdout",
     "output_type": "stream",
     "text": [
      "teeplots/./notebook=ne-inference+replicate=7+treatment=control+type=distilled-reference+viz=draw-biopython-tree+ext=.pdf\n"
     ]
    },
    {
     "name": "stdout",
     "output_type": "stream",
     "text": [
      "teeplots/./notebook=ne-inference+replicate=7+treatment=control+type=distilled-reference+viz=draw-biopython-tree+ext=.png\n"
     ]
    },
    {
     "data": {
      "image/png": "[encoded data removed]",
      "text/plain": [
       "<Figure size 650x400 with 1 Axes>"
      ]
     },
     "metadata": {},
     "output_type": "display_data"
    }
   ],
   "source": [
    "plt.rcdefaults()\n",
    "plt.close('all')\n",
    "plt.clf()\n",
    "tp.tee(\n",
    "    pylib.tree.draw_biopython_tree,\n",
    "    distilled_tree,\n",
    "    teeplot_outattrs={\n",
    "        \"notebook\": \"ne-inference\",\n",
    "        \"replicate\": str(MILL_REPLICATE),\n",
    "        \"treatment\": MILL_TREATMENT_NAME,\n",
    "        \"type\": \"distilled-reference\",\n",
    "    },\n",
    ")\n"
   ]
  },
  {
   "cell_type": "code",
   "execution_count": 18,
   "id": "01395c2b",
   "metadata": {
    "execution": {
     "iopub.execute_input": "2023-05-23T19:32:59.579464Z",
     "iopub.status.busy": "2023-05-23T19:32:59.578703Z",
     "iopub.status.idle": "2023-05-23T19:33:02.439240Z",
     "shell.execute_reply": "2023-05-23T19:33:02.438041Z"
    },
    "papermill": {
     "duration": 2.922888,
     "end_time": "2023-05-23T19:33:02.441902",
     "exception": false,
     "start_time": "2023-05-23T19:32:59.519014",
     "status": "completed"
    },
    "tags": []
   },
   "outputs": [
    {
     "name": "stdout",
     "output_type": "stream",
     "text": [
      "teeplots/./drop_overlapping_labels=true+notebook=ne-inference+replicate=7+treatment=control+type=distilled-reference+viz=draw-biopython-tree+ext=.pdf\n"
     ]
    },
    {
     "name": "stdout",
     "output_type": "stream",
     "text": [
      "teeplots/./drop_overlapping_labels=true+notebook=ne-inference+replicate=7+treatment=control+type=distilled-reference+viz=draw-biopython-tree+ext=.png\n"
     ]
    },
    {
     "data": {
      "image/png": "[encoded data removed]",
      "text/plain": [
       "<Figure size 650x400 with 1 Axes>"
      ]
     },
     "metadata": {},
     "output_type": "display_data"
    }
   ],
   "source": [
    "tp.tee(\n",
    "    pylib.tree.draw_biopython_tree,\n",
    "    distilled_tree,\n",
    "    drop_overlapping_labels=True,\n",
    "    teeplot_outattrs={\n",
    "        \"drop_overlapping_labels\": \"true\",\n",
    "        \"notebook\": \"ne-inference\",\n",
    "        \"replicate\": str(MILL_REPLICATE),\n",
    "        \"treatment\": MILL_TREATMENT_NAME,\n",
    "        \"type\": \"distilled-reference\",\n",
    "    },\n",
    ")\n"
   ]
  },
  {
   "cell_type": "code",
   "execution_count": 19,
   "id": "3132f477",
   "metadata": {
    "execution": {
     "iopub.execute_input": "2023-05-23T19:33:02.539540Z",
     "iopub.status.busy": "2023-05-23T19:33:02.539070Z",
     "iopub.status.idle": "2023-05-23T19:33:07.223520Z",
     "shell.execute_reply": "2023-05-23T19:33:07.222310Z"
    },
    "papermill": {
     "duration": 4.739239,
     "end_time": "2023-05-23T19:33:07.226442",
     "exception": false,
     "start_time": "2023-05-23T19:33:02.487203",
     "status": "completed"
    },
    "tags": []
   },
   "outputs": [
    {
     "name": "stdout",
     "output_type": "stream",
     "text": [
      "teeplots/./max_leaves=20+notebook=ne-inference+replicate=7+treatment=control+type=distilled-reference+viz=draw-biopython-tree+ext=.pdf\n"
     ]
    },
    {
     "name": "stdout",
     "output_type": "stream",
     "text": [
      "teeplots/./max_leaves=20+notebook=ne-inference+replicate=7+treatment=control+type=distilled-reference+viz=draw-biopython-tree+ext=.png\n"
     ]
    },
    {
     "data": {
      "image/png": "[encoded data removed]",
      "text/plain": [
       "<Figure size 650x400 with 1 Axes>"
      ]
     },
     "metadata": {},
     "output_type": "display_data"
    }
   ],
   "source": [
    "tp.tee(\n",
    "    pylib.tree.draw_biopython_tree,\n",
    "    distilled_tree,\n",
    "    max_leaves=20,\n",
    "    teeplot_outattrs={\n",
    "        \"max_leaves\": \"20\",\n",
    "        \"notebook\": \"ne-inference\",\n",
    "        \"replicate\": str(MILL_REPLICATE),\n",
    "        \"treatment\": MILL_TREATMENT_NAME,\n",
    "        \"type\": \"distilled-reference\",\n",
    "    },\n",
    ")\n"
   ]
  },
  {
   "cell_type": "code",
   "execution_count": 20,
   "id": "9c3fcee0",
   "metadata": {
    "execution": {
     "iopub.execute_input": "2023-05-23T19:33:07.326527Z",
     "iopub.status.busy": "2023-05-23T19:33:07.324486Z",
     "iopub.status.idle": "2023-05-23T19:33:19.819122Z",
     "shell.execute_reply": "2023-05-23T19:33:19.817890Z"
    },
    "papermill": {
     "duration": 12.548646,
     "end_time": "2023-05-23T19:33:19.823242",
     "exception": false,
     "start_time": "2023-05-23T19:33:07.274596",
     "status": "completed"
    },
    "tags": []
   },
   "outputs": [
    {
     "data": {
      "text/plain": [
       "0.5726761407468329"
      ]
     },
     "execution_count": 20,
     "metadata": {},
     "output_type": "execute_result"
    }
   ],
   "source": [
    "distilled_tree = pylib.deap.history_to_tree_upgma(\n",
    "    history, extant_nodes, correct_origin_times=False\n",
    ")\n",
    "pylib.tree.polymorphic_quartet_distance(reconstructed_tree, distilled_tree)\n"
   ]
  },
  {
   "cell_type": "markdown",
   "id": "befd2a98",
   "metadata": {
    "papermill": {
     "duration": 0.057872,
     "end_time": "2023-05-23T19:33:19.935361",
     "exception": false,
     "start_time": "2023-05-23T19:33:19.877489",
     "status": "completed"
    },
    "tags": []
   },
   "source": [
    "# Differentia Magnitude\n"
   ]
  },
  {
   "cell_type": "code",
   "execution_count": 21,
   "id": "36b27c13",
   "metadata": {
    "execution": {
     "iopub.execute_input": "2023-05-23T19:33:20.052531Z",
     "iopub.status.busy": "2023-05-23T19:33:20.052022Z",
     "iopub.status.idle": "2023-05-23T19:33:20.061482Z",
     "shell.execute_reply": "2023-05-23T19:33:20.060159Z"
    },
    "papermill": {
     "duration": 0.077012,
     "end_time": "2023-05-23T19:33:20.066509",
     "exception": false,
     "start_time": "2023-05-23T19:33:19.989497",
     "status": "completed"
    },
    "tags": []
   },
   "outputs": [],
   "source": [
    "rd_data = dict(population[0].species_annotation.IterRankDifferentiaZip())\n"
   ]
  },
  {
   "cell_type": "code",
   "execution_count": 22,
   "id": "1b3b1e58",
   "metadata": {
    "execution": {
     "iopub.execute_input": "2023-05-23T19:33:20.175370Z",
     "iopub.status.busy": "2023-05-23T19:33:20.174862Z",
     "iopub.status.idle": "2023-05-23T19:33:22.387897Z",
     "shell.execute_reply": "2023-05-23T19:33:22.386637Z"
    },
    "papermill": {
     "duration": 2.274558,
     "end_time": "2023-05-23T19:33:22.390929",
     "exception": false,
     "start_time": "2023-05-23T19:33:20.116371",
     "status": "completed"
    },
    "tags": []
   },
   "outputs": [
    {
     "name": "stdout",
     "output_type": "stream",
     "text": [
      "teeplots/./notebook=ne-inference+replicate=7+treatment=control+viz=scatterplot-differentia-magnitude+ext=.pdf\n"
     ]
    },
    {
     "name": "stdout",
     "output_type": "stream",
     "text": [
      "teeplots/./notebook=ne-inference+replicate=7+treatment=control+viz=scatterplot-differentia-magnitude+ext=.png\n"
     ]
    },
    {
     "data": {
      "image/png": "[encoded data removed]",
      "text/plain": [
       "<Figure size 640x480 with 1 Axes>"
      ]
     },
     "metadata": {},
     "output_type": "display_data"
    }
   ],
   "source": [
    "def scatterplot_differentia_magnitude():\n",
    "#     plt.plot(*[*zip(*enumerate(MILL_NPOP_SEQ))])\n",
    "\n",
    "    sns.scatterplot(\n",
    "        x=rd_data.keys(),\n",
    "        y=rd_data.values(),\n",
    "        c=\"k\",\n",
    "    )\n",
    "\n",
    "    for i, (a, b) in enumerate(it.pairwise(MILL_NPOP_SEQ)):\n",
    "        if abs(a - b) > 2:\n",
    "            plt.axvline(i + 1, c=\"white\", lw=6)\n",
    "\n",
    "            plt.axvline(i + 1, ls=\":\", c=\"red\")\n",
    "    for i, (a, b) in enumerate(it.pairwise(MILL_NTOURN_SEQ)):\n",
    "        if a != b:\n",
    "            plt.axvline(i + 1, c=\"white\", lw=6)\n",
    "            plt.axvline(i + 1, ls=\":\", c=\"red\")\n",
    "\n",
    "    plt.ylabel(\"fixed differentia magnitude\")\n",
    "    plt.xlabel(\"generation\")\n",
    "\n",
    "plt.rcdefaults()\n",
    "plt.close('all')\n",
    "plt.clf()\n",
    "tp.tee(\n",
    "    scatterplot_differentia_magnitude,\n",
    "    teeplot_outattrs={\n",
    "        \"notebook\": \"ne-inference\",\n",
    "        \"replicate\": str(MILL_REPLICATE),\n",
    "        \"treatment\": MILL_TREATMENT_NAME,\n",
    "    },\n",
    ")\n"
   ]
  },
  {
   "cell_type": "code",
   "execution_count": 23,
   "id": "8efaf071",
   "metadata": {
    "execution": {
     "iopub.execute_input": "2023-05-23T19:33:22.500217Z",
     "iopub.status.busy": "2023-05-23T19:33:22.497754Z",
     "iopub.status.idle": "2023-05-23T19:33:24.903298Z",
     "shell.execute_reply": "2023-05-23T19:33:24.901455Z"
    },
    "papermill": {
     "duration": 2.461153,
     "end_time": "2023-05-23T19:33:24.907122",
     "exception": false,
     "start_time": "2023-05-23T19:33:22.445969",
     "status": "completed"
    },
    "tags": []
   },
   "outputs": [
    {
     "name": "stdout",
     "output_type": "stream",
     "text": [
      "teeplots/./notebook=ne-inference+replicate=7+treatment=control+viz=scatterplot-popsize-estimates+ext=.pdf\n"
     ]
    },
    {
     "name": "stdout",
     "output_type": "stream",
     "text": [
      "teeplots/./notebook=ne-inference+replicate=7+treatment=control+viz=scatterplot-popsize-estimates+ext=.png\n"
     ]
    },
    {
     "data": {
      "image/png": "[encoded data removed]",
      "text/plain": [
       "<Figure size 640x480 with 1 Axes>"
      ]
     },
     "metadata": {},
     "output_type": "display_data"
    }
   ],
   "source": [
    "def scatterplot_popsize_estimates():\n",
    "    plt.plot(*[*zip(*enumerate(MILL_NPOP_SEQ))])\n",
    "\n",
    "    sns.scatterplot(\n",
    "        x=rd_data.keys(),\n",
    "       y=[\n",
    "            -1 / np.log(x / 2**HSTRAT_DIFFERENTIA_WIDTH)\n",
    "            for x in rd_data.values()\n",
    "        ],\n",
    "        c=\"k\",\n",
    "    )\n",
    "\n",
    "    for i, (a, b) in enumerate(it.pairwise(MILL_NPOP_SEQ)):\n",
    "        if abs(a - b) > 2:\n",
    "            plt.axvline(i + 1, c=\"white\", lw=6)\n",
    "\n",
    "            plt.axvline(i + 1, ls=\":\", c=\"red\")\n",
    "    for i, (a, b) in enumerate(it.pairwise(MILL_NTOURN_SEQ)):\n",
    "        if a != b:\n",
    "            plt.axvline(i + 1, c=\"white\", lw=6)\n",
    "            plt.axvline(i + 1, ls=\":\", c=\"red\")\n",
    "\n",
    "    plt.ylabel(\"estimated population size\")\n",
    "    plt.xlabel(\"generation\")\n",
    "\n",
    "plt.rcdefaults()\n",
    "plt.close('all')\n",
    "plt.clf()\n",
    "tp.tee(\n",
    "    scatterplot_popsize_estimates,\n",
    "    teeplot_outattrs={\n",
    "        \"notebook\": \"ne-inference\",\n",
    "        \"replicate\": str(MILL_REPLICATE),\n",
    "        \"treatment\": MILL_TREATMENT_NAME,\n",
    "    },\n",
    ")\n"
   ]
  },
  {
   "cell_type": "code",
   "execution_count": 24,
   "id": "e1a9735c",
   "metadata": {
    "execution": {
     "iopub.execute_input": "2023-05-23T19:33:25.098456Z",
     "iopub.status.busy": "2023-05-23T19:33:25.097893Z",
     "iopub.status.idle": "2023-05-23T19:33:25.112161Z",
     "shell.execute_reply": "2023-05-23T19:33:25.110471Z"
    },
    "papermill": {
     "duration": 0.11231,
     "end_time": "2023-05-23T19:33:25.115812",
     "exception": false,
     "start_time": "2023-05-23T19:33:25.003502",
     "status": "completed"
    },
    "tags": []
   },
   "outputs": [],
   "source": [
    "# TODO pool strata to create a running estimate with 95% confidence interval bands\n",
    "import pandas as pd\n",
    "\n",
    "df = pd.DataFrame(\n",
    "    {\n",
    "        \"rank\": rd_data.keys(),\n",
    "        \"differentia\": rd_data.values(),\n",
    "    }\n",
    ")\n",
    "\n",
    "df[\"normalized differentia\"] = (\n",
    "    df[\"differentia\"] / 2**HSTRAT_DIFFERENTIA_WIDTH\n",
    ")\n"
   ]
  },
  {
   "cell_type": "code",
   "execution_count": 25,
   "id": "2598bf6d",
   "metadata": {
    "execution": {
     "iopub.execute_input": "2023-05-23T19:33:25.280278Z",
     "iopub.status.busy": "2023-05-23T19:33:25.278956Z",
     "iopub.status.idle": "2023-05-23T19:33:25.300689Z",
     "shell.execute_reply": "2023-05-23T19:33:25.297251Z"
    },
    "papermill": {
     "duration": 0.080408,
     "end_time": "2023-05-23T19:33:25.304562",
     "exception": false,
     "start_time": "2023-05-23T19:33:25.224154",
     "status": "completed"
    },
    "tags": []
   },
   "outputs": [],
   "source": [
    "# https://github.com/mmore500/hereditary-stratigraph-concept/blob/3ebe7a7f3f03c03592564a64b0024632888d8f1d/binder/popsize/maximum_likelihood_popsize_estimator_confidence_interval.ipynb\n",
    "def solve_mle_popsize_ci_lb(\n",
    "    observations: typing.List[float],\n",
    "    *,\n",
    "    confidence: float = 0.95,\n",
    ") -> float:\n",
    "\n",
    "    k = len(observations)\n",
    "    hat_x = math.prod(observations)\n",
    "\n",
    "    # use mle estimate as starting guess\n",
    "    hat_n_mle = -k / math.log(hat_x)\n",
    "\n",
    "    n_lb = sympy.Symbol(\n",
    "        \"n_\\mathrm{lb}\",\n",
    "        positive=True,\n",
    "        real=True,\n",
    "    )\n",
    "\n",
    "    return float(\n",
    "        sympy.nsolve(\n",
    "            2 * sympy.uppergamma(k, -n_lb * sympy.log(hat_x))\n",
    "            - (confidence + 1) * sympy.gamma(k),\n",
    "            hat_n_mle,\n",
    "            verify=False,\n",
    "        )\n",
    "    )\n",
    "\n",
    "\n",
    "def solve_mle_popsize_ci_ub(\n",
    "    observations: typing.List[float],\n",
    "    *,\n",
    "    confidence: float = 0.95,\n",
    ") -> float:\n",
    "\n",
    "    k = len(observations)\n",
    "    hat_x = math.prod(observations)\n",
    "\n",
    "    # use mle estimate as starting guess\n",
    "    hat_n_mle = -k / math.log(hat_x)\n",
    "\n",
    "    n_lb = sympy.Symbol(\n",
    "        \"n_\\mathrm{ub}\",\n",
    "        positive=True,\n",
    "        real=True,\n",
    "    )\n",
    "\n",
    "    return float(\n",
    "        sympy.nsolve(\n",
    "            2 * sympy.uppergamma(k, -n_lb * sympy.log(hat_x))\n",
    "            - (1 - confidence) * sympy.gamma(k),\n",
    "            hat_n_mle,\n",
    "            verify=False,\n",
    "        )\n",
    "    )\n"
   ]
  },
  {
   "cell_type": "code",
   "execution_count": 26,
   "id": "dbb17792",
   "metadata": {
    "execution": {
     "iopub.execute_input": "2023-05-23T19:33:25.413336Z",
     "iopub.status.busy": "2023-05-23T19:33:25.412841Z",
     "iopub.status.idle": "2023-05-23T19:33:43.314677Z",
     "shell.execute_reply": "2023-05-23T19:33:43.313503Z"
    },
    "papermill": {
     "duration": 17.959004,
     "end_time": "2023-05-23T19:33:43.317640",
     "exception": false,
     "start_time": "2023-05-23T19:33:25.358636",
     "status": "completed"
    },
    "tags": []
   },
   "outputs": [],
   "source": [
    "# Calculate the pooled running estimate\n",
    "k = 10\n",
    "\n",
    "df[\"running_ub\"] = (\n",
    "    df[\"normalized differentia\"]\n",
    "    .rolling(window=k)\n",
    "    .apply(solve_mle_popsize_ci_ub)\n",
    ")\n",
    "df[\"running_lb\"] = (\n",
    "    df[\"normalized differentia\"]\n",
    "    .rolling(window=k)\n",
    "    .apply(solve_mle_popsize_ci_lb)\n",
    ")\n",
    "df[\"population size\"] = (\n",
    "    df[\"normalized differentia\"]\n",
    "    .rolling(window=k)\n",
    "    .apply(lambda x: -k / np.sum(np.log(x)))\n",
    ")\n",
    "\n",
    "k = 1\n",
    "df[\"population size from singleton\"] = (\n",
    "    df[\"normalized differentia\"]\n",
    "    .rolling(window=k)\n",
    "    .apply(lambda x: -k / np.sum(np.log(x)))\n",
    ")\n"
   ]
  },
  {
   "cell_type": "code",
   "execution_count": 27,
   "id": "1f30ceaf",
   "metadata": {
    "execution": {
     "iopub.execute_input": "2023-05-23T19:33:43.426497Z",
     "iopub.status.busy": "2023-05-23T19:33:43.425954Z",
     "iopub.status.idle": "2023-05-23T19:33:45.051680Z",
     "shell.execute_reply": "2023-05-23T19:33:45.050445Z"
    },
    "papermill": {
     "duration": 1.688653,
     "end_time": "2023-05-23T19:33:45.054659",
     "exception": false,
     "start_time": "2023-05-23T19:33:43.366006",
     "status": "completed"
    },
    "tags": []
   },
   "outputs": [
    {
     "name": "stdout",
     "output_type": "stream",
     "text": [
      "teeplots/./notebook=ne-inference+replicate=7+treatment=control+viz=plot-running-estimation+x=rank+y=population-size+ext=.pdf\n"
     ]
    },
    {
     "name": "stdout",
     "output_type": "stream",
     "text": [
      "teeplots/./notebook=ne-inference+replicate=7+treatment=control+viz=plot-running-estimation+x=rank+y=population-size+ext=.png\n"
     ]
    },
    {
     "data": {
      "image/png": "[encoded data removed]",
      "text/plain": [
       "<Figure size 640x480 with 1 Axes>"
      ]
     },
     "metadata": {},
     "output_type": "display_data"
    }
   ],
   "source": [
    "def plot_running_estimation(x, y, data):\n",
    "    plt.plot(*[*zip(*enumerate(MILL_NPOP_SEQ))])\n",
    "\n",
    "    sns.lineplot(\n",
    "        data=data,\n",
    "        x=x,\n",
    "        y=y,\n",
    "        c=\"k\",\n",
    "    )\n",
    "\n",
    "    for i, (a, b) in enumerate(it.pairwise(MILL_NPOP_SEQ)):\n",
    "        if abs(a - b) > 2:\n",
    "            plt.axvline(i + 1, c=\"white\", lw=6)\n",
    "            plt.axvline(i + 1, ls=\":\", c=\"red\")\n",
    "\n",
    "    for i, (a, b) in enumerate(it.pairwise(MILL_NTOURN_SEQ)):\n",
    "        if a != b:\n",
    "            plt.axvline(i + 1, c=\"white\", lw=6)\n",
    "            plt.axvline(i + 1, ls=\":\", c=\"red\")\n",
    "\n",
    "    plt.fill_between(\n",
    "        df[\"rank\"], df[\"running_ub\"], df[\"running_lb\"], fc=\"lightblue\"\n",
    "    )\n",
    "    plt.xlabel(\"generation\")\n",
    "\n",
    "\n",
    "plt.rcdefaults()\n",
    "plt.close('all')\n",
    "plt.clf()\n",
    "tp.tee(\n",
    "    plot_running_estimation,\n",
    "    x=\"rank\",\n",
    "    y=\"population size\",\n",
    "    data=df,\n",
    "    teeplot_outattrs={\n",
    "        \"notebook\": \"ne-inference\",\n",
    "        \"replicate\": str(MILL_REPLICATE),\n",
    "        \"treatment\": MILL_TREATMENT_NAME,\n",
    "    },\n",
    ")\n"
   ]
  },
  {
   "cell_type": "code",
   "execution_count": 28,
   "id": "4b7b41f3",
   "metadata": {
    "execution": {
     "iopub.execute_input": "2023-05-23T19:33:45.181816Z",
     "iopub.status.busy": "2023-05-23T19:33:45.181340Z",
     "iopub.status.idle": "2023-05-23T19:33:45.317746Z",
     "shell.execute_reply": "2023-05-23T19:33:45.316486Z"
    },
    "papermill": {
     "duration": 0.212454,
     "end_time": "2023-05-23T19:33:45.320138",
     "exception": false,
     "start_time": "2023-05-23T19:33:45.107684",
     "status": "completed"
    },
    "tags": []
   },
   "outputs": [
    {
     "data": {
      "text/html": [
       "<div>\n",
       "<style scoped>\n",
       "    .dataframe tbody tr th:only-of-type {\n",
       "        vertical-align: middle;\n",
       "    }\n",
       "\n",
       "    .dataframe tbody tr th {\n",
       "        vertical-align: top;\n",
       "    }\n",
       "\n",
       "    .dataframe thead th {\n",
       "        text-align: right;\n",
       "    }\n",
       "</style>\n",
       "<table border=\"1\" class=\"dataframe\">\n",
       "  <thead>\n",
       "    <tr style=\"text-align: right;\">\n",
       "      <th></th>\n",
       "      <th>notebook</th>\n",
       "      <th>replicate</th>\n",
       "      <th>treatment</th>\n",
       "      <th>first rank</th>\n",
       "      <th>population size estimate at first rank</th>\n",
       "      <th>population size upper bound at first rank</th>\n",
       "      <th>population size lower bound at first rank</th>\n",
       "      <th>second rank</th>\n",
       "      <th>population size estimate at second rank</th>\n",
       "      <th>population size upper bound at second rank</th>\n",
       "      <th>population size lower bound at second rank</th>\n",
       "      <th>nonoverlapping CI</th>\n",
       "      <th>Mann-Whitney p</th>\n",
       "      <th>Mann-Whitney significant at alpha = 0.05</th>\n",
       "      <th>Mann-Whitney significant at alpha = 0.01</th>\n",
       "    </tr>\n",
       "  </thead>\n",
       "  <tbody>\n",
       "    <tr>\n",
       "      <th>0</th>\n",
       "      <td>ne-inference</td>\n",
       "      <td>7</td>\n",
       "      <td>control</td>\n",
       "      <td>33</td>\n",
       "      <td>37.279431</td>\n",
       "      <td>63.691175</td>\n",
       "      <td>17.876936</td>\n",
       "      <td>100</td>\n",
       "      <td>64.678602</td>\n",
       "      <td>110.502121</td>\n",
       "      <td>31.015904</td>\n",
       "      <td>False</td>\n",
       "      <td>0.367070</td>\n",
       "      <td>False</td>\n",
       "      <td>False</td>\n",
       "    </tr>\n",
       "    <tr>\n",
       "      <th>1</th>\n",
       "      <td>ne-inference</td>\n",
       "      <td>7</td>\n",
       "      <td>control</td>\n",
       "      <td>33</td>\n",
       "      <td>37.279431</td>\n",
       "      <td>63.691175</td>\n",
       "      <td>17.876936</td>\n",
       "      <td>166</td>\n",
       "      <td>44.113422</td>\n",
       "      <td>75.366914</td>\n",
       "      <td>21.154101</td>\n",
       "      <td>False</td>\n",
       "      <td>0.196788</td>\n",
       "      <td>False</td>\n",
       "      <td>False</td>\n",
       "    </tr>\n",
       "    <tr>\n",
       "      <th>2</th>\n",
       "      <td>ne-inference</td>\n",
       "      <td>7</td>\n",
       "      <td>control</td>\n",
       "      <td>100</td>\n",
       "      <td>64.678602</td>\n",
       "      <td>110.502121</td>\n",
       "      <td>31.015904</td>\n",
       "      <td>33</td>\n",
       "      <td>37.279431</td>\n",
       "      <td>63.691175</td>\n",
       "      <td>17.876936</td>\n",
       "      <td>False</td>\n",
       "      <td>0.367070</td>\n",
       "      <td>False</td>\n",
       "      <td>False</td>\n",
       "    </tr>\n",
       "    <tr>\n",
       "      <th>3</th>\n",
       "      <td>ne-inference</td>\n",
       "      <td>7</td>\n",
       "      <td>control</td>\n",
       "      <td>100</td>\n",
       "      <td>64.678602</td>\n",
       "      <td>110.502121</td>\n",
       "      <td>31.015904</td>\n",
       "      <td>166</td>\n",
       "      <td>44.113422</td>\n",
       "      <td>75.366914</td>\n",
       "      <td>21.154101</td>\n",
       "      <td>False</td>\n",
       "      <td>0.575584</td>\n",
       "      <td>False</td>\n",
       "      <td>False</td>\n",
       "    </tr>\n",
       "    <tr>\n",
       "      <th>4</th>\n",
       "      <td>ne-inference</td>\n",
       "      <td>7</td>\n",
       "      <td>control</td>\n",
       "      <td>166</td>\n",
       "      <td>44.113422</td>\n",
       "      <td>75.366914</td>\n",
       "      <td>21.154101</td>\n",
       "      <td>33</td>\n",
       "      <td>37.279431</td>\n",
       "      <td>63.691175</td>\n",
       "      <td>17.876936</td>\n",
       "      <td>False</td>\n",
       "      <td>0.196788</td>\n",
       "      <td>False</td>\n",
       "      <td>False</td>\n",
       "    </tr>\n",
       "    <tr>\n",
       "      <th>5</th>\n",
       "      <td>ne-inference</td>\n",
       "      <td>7</td>\n",
       "      <td>control</td>\n",
       "      <td>166</td>\n",
       "      <td>44.113422</td>\n",
       "      <td>75.366914</td>\n",
       "      <td>21.154101</td>\n",
       "      <td>100</td>\n",
       "      <td>64.678602</td>\n",
       "      <td>110.502121</td>\n",
       "      <td>31.015904</td>\n",
       "      <td>False</td>\n",
       "      <td>0.575584</td>\n",
       "      <td>False</td>\n",
       "      <td>False</td>\n",
       "    </tr>\n",
       "  </tbody>\n",
       "</table>\n",
       "</div>"
      ],
      "text/plain": [
       "       notebook  replicate treatment  first rank   \n",
       "0  ne-inference          7   control          33  \\\n",
       "1  ne-inference          7   control          33   \n",
       "2  ne-inference          7   control         100   \n",
       "3  ne-inference          7   control         100   \n",
       "4  ne-inference          7   control         166   \n",
       "5  ne-inference          7   control         166   \n",
       "\n",
       "   population size estimate at first rank   \n",
       "0                               37.279431  \\\n",
       "1                               37.279431   \n",
       "2                               64.678602   \n",
       "3                               64.678602   \n",
       "4                               44.113422   \n",
       "5                               44.113422   \n",
       "\n",
       "   population size upper bound at first rank   \n",
       "0                                  63.691175  \\\n",
       "1                                  63.691175   \n",
       "2                                 110.502121   \n",
       "3                                 110.502121   \n",
       "4                                  75.366914   \n",
       "5                                  75.366914   \n",
       "\n",
       "   population size lower bound at first rank  second rank   \n",
       "0                                  17.876936          100  \\\n",
       "1                                  17.876936          166   \n",
       "2                                  31.015904           33   \n",
       "3                                  31.015904          166   \n",
       "4                                  21.154101           33   \n",
       "5                                  21.154101          100   \n",
       "\n",
       "   population size estimate at second rank   \n",
       "0                                64.678602  \\\n",
       "1                                44.113422   \n",
       "2                                37.279431   \n",
       "3                                44.113422   \n",
       "4                                37.279431   \n",
       "5                                64.678602   \n",
       "\n",
       "   population size upper bound at second rank   \n",
       "0                                  110.502121  \\\n",
       "1                                   75.366914   \n",
       "2                                   63.691175   \n",
       "3                                   75.366914   \n",
       "4                                   63.691175   \n",
       "5                                  110.502121   \n",
       "\n",
       "   population size lower bound at second rank  nonoverlapping CI   \n",
       "0                                   31.015904              False  \\\n",
       "1                                   21.154101              False   \n",
       "2                                   17.876936              False   \n",
       "3                                   21.154101              False   \n",
       "4                                   17.876936              False   \n",
       "5                                   31.015904              False   \n",
       "\n",
       "   Mann-Whitney p  Mann-Whitney significant at alpha = 0.05   \n",
       "0        0.367070                                     False  \\\n",
       "1        0.196788                                     False   \n",
       "2        0.367070                                     False   \n",
       "3        0.575584                                     False   \n",
       "4        0.196788                                     False   \n",
       "5        0.575584                                     False   \n",
       "\n",
       "   Mann-Whitney significant at alpha = 0.01  \n",
       "0                                     False  \n",
       "1                                     False  \n",
       "2                                     False  \n",
       "3                                     False  \n",
       "4                                     False  \n",
       "5                                     False  "
      ]
     },
     "execution_count": 28,
     "metadata": {},
     "output_type": "execute_result"
    }
   ],
   "source": [
    "records = [\n",
    "    {\n",
    "        \"notebook\": \"ne-inference\",\n",
    "        \"replicate\": MILL_REPLICATE,\n",
    "        \"treatment\": MILL_TREATMENT_NAME,\n",
    "        \"first rank\": first_rank,\n",
    "        \"population size estimate at first rank\": df[\n",
    "            df[\"rank\"] == first_rank\n",
    "        ].iloc[0][\"population size\"],\n",
    "        \"population size upper bound at first rank\": df[\n",
    "            df[\"rank\"] == first_rank\n",
    "        ].iloc[0][\"running_ub\"],\n",
    "        \"population size lower bound at first rank\": df[\n",
    "            df[\"rank\"] == first_rank\n",
    "        ].iloc[0][\"running_lb\"],\n",
    "        \"second rank\": second_rank,\n",
    "        \"population size estimate at second rank\": df[\n",
    "            df[\"rank\"] == second_rank\n",
    "        ].iloc[0][\"population size\"],\n",
    "        \"population size upper bound at second rank\": df[\n",
    "            df[\"rank\"] == second_rank\n",
    "        ].iloc[0][\"running_ub\"],\n",
    "        \"population size lower bound at second rank\": df[\n",
    "            df[\"rank\"] == second_rank\n",
    "        ].iloc[0][\"running_lb\"],\n",
    "        \"nonoverlapping CI\": min(\n",
    "            df[df[\"rank\"] == first_rank].iloc[0][\"running_ub\"],\n",
    "            df[df[\"rank\"] == second_rank].iloc[0][\"running_ub\"],\n",
    "        )\n",
    "        < max(\n",
    "            df[df[\"rank\"] == first_rank].iloc[0][\"running_lb\"],\n",
    "            df[df[\"rank\"] == second_rank].iloc[0][\"running_lb\"],\n",
    "        ),\n",
    "        \"Mann-Whitney p\": scipy_stats.mannwhitneyu(\n",
    "            df.loc[\n",
    "                (df[\"rank\"] - first_rank).abs() < 15,\n",
    "                \"population size from singleton\",\n",
    "            ],\n",
    "            df.loc[\n",
    "                (df[\"rank\"] - second_rank).abs() < 15,\n",
    "                \"population size from singleton\",\n",
    "            ],\n",
    "        )[1],\n",
    "    }\n",
    "    for first_rank, second_rank in it.permutations([33, 100, 166], 2)\n",
    "]\n",
    "outdf = pd.DataFrame.from_records(records)\n",
    "outdf[\"Mann-Whitney significant at alpha = 0.05\"] = (\n",
    "    outdf[\"Mann-Whitney p\"] < 0.05\n",
    ")\n",
    "outdf[\"Mann-Whitney significant at alpha = 0.01\"] = (\n",
    "    outdf[\"Mann-Whitney p\"] < 0.01\n",
    ")\n",
    "outdf.to_csv(\n",
    "    kn.pack(\n",
    "        {\n",
    "            \"a\": \"snapshot-comparisons-stats\",\n",
    "            \"notebook\": \"ne-inference\",\n",
    "            \"replicate\": MILL_REPLICATE,\n",
    "            \"treatment\": MILL_TREATMENT_NAME,\n",
    "            \"ext\": \".csv\",\n",
    "        }\n",
    "    )\n",
    ")\n",
    "outdf\n"
   ]
  }
 ],
 "metadata": {
  "kernelspec": {
   "display_name": "Python 3",
   "language": "python",
   "name": "python3"
  },
  "language_info": {
   "codemirror_mode": {
    "name": "ipython",
    "version": 3
   },
   "file_extension": ".py",
   "mimetype": "text/x-python",
   "name": "python",
   "nbconvert_exporter": "python",
   "pygments_lexer": "ipython3",
   "version": "3.10.6"
  },
  "papermill": {
   "default_parameters": {},
   "duration": 521.298575,
   "end_time": "2023-05-23T19:33:48.073951",
   "environment_variables": {},
   "exception": null,
   "input_path": "Ne-inference.ipynb",
   "output_path": "Ne-inference-parameterization-17.ipynb",
   "parameters": {
    "MILL_REPLICATE": 7,
    "MILL_TREATMENT_NAME": "control"
   },
   "start_time": "2023-05-23T19:25:06.775376",
   "version": "2.4.0"
  }
 },
 "nbformat": 4,
 "nbformat_minor": 5
}