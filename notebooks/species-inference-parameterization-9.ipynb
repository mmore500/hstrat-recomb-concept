{
 "cells": [
  {
   "cell_type": "code",
   "execution_count": 1,
   "id": "adf85f9d",
   "metadata": {
    "execution": {
     "iopub.execute_input": "2023-05-24T02:24:07.262523Z",
     "iopub.status.busy": "2023-05-24T02:24:07.256220Z",
     "iopub.status.idle": "2023-05-24T02:24:09.525048Z",
     "shell.execute_reply": "2023-05-24T02:24:09.526145Z"
    },
    "papermill": {
     "duration": 2.343639,
     "end_time": "2023-05-24T02:24:09.526576",
     "exception": false,
     "start_time": "2023-05-24T02:24:07.182937",
     "status": "completed"
    },
    "tags": []
   },
   "outputs": [],
   "source": [
    "import endomill\n",
    "import yaml\n"
   ]
  },
  {
   "cell_type": "code",
   "execution_count": 2,
   "id": "e0bf28e0",
   "metadata": {
    "execution": {
     "iopub.execute_input": "2023-05-24T02:24:09.642337Z",
     "iopub.status.busy": "2023-05-24T02:24:09.640865Z",
     "iopub.status.idle": "2023-05-24T02:24:09.677200Z",
     "shell.execute_reply": "2023-05-24T02:24:09.675855Z"
    },
    "papermill": {
     "duration": 0.099183,
     "end_time": "2023-05-24T02:24:09.677483",
     "exception": false,
     "start_time": "2023-05-24T02:24:09.578300",
     "status": "completed"
    },
    "tags": []
   },
   "outputs": [],
   "source": [
    "parameter_packs = [\n",
    "    {\n",
    "        \"MILL_TREATMENT_NAME\": treatment,\n",
    "        \"MILL_REPLICATE\": replicate,\n",
    "    }\n",
    "    for treatment in [\"bag\", \"ring\", \"allopatry\"]\n",
    "    for replicate in range(10)\n",
    "]\n",
    "\n",
    "\n",
    "for i, pp in enumerate(parameter_packs):\n",
    "    with open(f\"species-inference-parameterization-{i}.yaml\", \"w\") as file:\n",
    "        yaml.safe_dump(pp, file)\n",
    "# endomill.instantiate_over(parameter_packs=parameter_packs)\n"
   ]
  },
  {
   "cell_type": "markdown",
   "id": "57ee3f23",
   "metadata": {
    "papermill": {
     "duration": 0.065089,
     "end_time": "2023-05-24T02:24:09.796692",
     "exception": false,
     "start_time": "2023-05-24T02:24:09.731603",
     "status": "completed"
    },
    "tags": []
   },
   "source": [
    "# Papermill Parameters\n"
   ]
  },
  {
   "cell_type": "code",
   "execution_count": 3,
   "id": "003bba0f",
   "metadata": {
    "execution": {
     "iopub.execute_input": "2023-05-24T02:24:09.913570Z",
     "iopub.status.busy": "2023-05-24T02:24:09.912026Z",
     "iopub.status.idle": "2023-05-24T02:24:09.917378Z",
     "shell.execute_reply": "2023-05-24T02:24:09.920111Z"
    },
    "papermill": {
     "duration": 0.068713,
     "end_time": "2023-05-24T02:24:09.920470",
     "exception": false,
     "start_time": "2023-05-24T02:24:09.851757",
     "status": "completed"
    },
    "tags": [
     "parameters"
    ]
   },
   "outputs": [],
   "source": [
    "MILL_TREATMENT_NAME: str\n",
    "MILL_REPLICATE: int\n"
   ]
  },
  {
   "cell_type": "code",
   "execution_count": 4,
   "id": "b00c693b",
   "metadata": {
    "execution": {
     "iopub.execute_input": "2023-05-24T02:24:10.049509Z",
     "iopub.status.busy": "2023-05-24T02:24:10.048230Z",
     "iopub.status.idle": "2023-05-24T02:24:10.053878Z",
     "shell.execute_reply": "2023-05-24T02:24:10.055892Z"
    },
    "papermill": {
     "duration": 0.079952,
     "end_time": "2023-05-24T02:24:10.056204",
     "exception": false,
     "start_time": "2023-05-24T02:24:09.976252",
     "status": "completed"
    },
    "tags": [
     "injected-parameters"
    ]
   },
   "outputs": [],
   "source": [
    "# Parameters\n",
    "MILL_REPLICATE = 9\n",
    "MILL_TREATMENT_NAME = \"bag\"\n"
   ]
  },
  {
   "cell_type": "markdown",
   "id": "cd931415",
   "metadata": {
    "papermill": {
     "duration": 0.070216,
     "end_time": "2023-05-24T02:24:10.181682",
     "exception": false,
     "start_time": "2023-05-24T02:24:10.111466",
     "status": "completed"
    },
    "tags": []
   },
   "source": [
    "# Global Setup\n"
   ]
  },
  {
   "cell_type": "code",
   "execution_count": 5,
   "id": "eab232b1",
   "metadata": {
    "execution": {
     "iopub.execute_input": "2023-05-24T02:24:10.303498Z",
     "iopub.status.busy": "2023-05-24T02:24:10.302000Z",
     "iopub.status.idle": "2023-05-24T02:24:19.581886Z",
     "shell.execute_reply": "2023-05-24T02:24:19.582967Z"
    },
    "papermill": {
     "duration": 9.346735,
     "end_time": "2023-05-24T02:24:19.583265",
     "exception": false,
     "start_time": "2023-05-24T02:24:10.236530",
     "status": "completed"
    },
    "tags": []
   },
   "outputs": [],
   "source": [
    "import copy\n",
    "import math\n",
    "import itertools as it\n",
    "import typing\n",
    "import random\n",
    "\n",
    "import alifedata_phyloinformatics_convert as apc\n",
    "from Bio import Phylo as BioPhylo\n",
    "from deap import algorithms as deap_algorithms\n",
    "from deap import base as deap_base\n",
    "from deap import creator as deap_creator\n",
    "from deap import tools as deap_tools\n",
    "\n",
    "from hstrat import hstrat\n",
    "from iterpop import iterpop as ip\n",
    "from keyname import keyname as kn\n",
    "from matplotlib import pyplot as plt\n",
    "from nbmetalog import nbmetalog as nbm\n",
    "import numpy as np\n",
    "import pandas as pd\n",
    "from scipy import stats as scipy_stats\n",
    "import seaborn as sns\n",
    "import sympy\n",
    "from teeplot import teeplot as tp\n",
    "from tqdm import tqdm\n",
    "\n",
    "import pylib\n"
   ]
  },
  {
   "cell_type": "code",
   "execution_count": 6,
   "id": "d22b56fa",
   "metadata": {
    "execution": {
     "iopub.execute_input": "2023-05-24T02:24:19.686279Z",
     "iopub.status.busy": "2023-05-24T02:24:19.685019Z",
     "iopub.status.idle": "2023-05-24T02:24:19.691995Z",
     "shell.execute_reply": "2023-05-24T02:24:19.693009Z"
    },
    "papermill": {
     "duration": 0.059863,
     "end_time": "2023-05-24T02:24:19.693313",
     "exception": false,
     "start_time": "2023-05-24T02:24:19.633450",
     "status": "completed"
    },
    "tags": []
   },
   "outputs": [],
   "source": [
    "random.seed(MILL_REPLICATE)\n"
   ]
  },
  {
   "cell_type": "code",
   "execution_count": 7,
   "id": "5eee4339",
   "metadata": {
    "execution": {
     "iopub.execute_input": "2023-05-24T02:24:19.796549Z",
     "iopub.status.busy": "2023-05-24T02:24:19.795240Z",
     "iopub.status.idle": "2023-05-24T02:24:21.721408Z",
     "shell.execute_reply": "2023-05-24T02:24:21.720283Z"
    },
    "papermill": {
     "duration": 1.979476,
     "end_time": "2023-05-24T02:24:21.721690",
     "exception": false,
     "start_time": "2023-05-24T02:24:19.742214",
     "status": "completed"
    },
    "tags": []
   },
   "outputs": [
    {
     "name": "stdout",
     "output_type": "stream",
     "text": [
      "context: local\n",
      "hostname: thinkpad\n",
      "interpreter: 3.10.6 (main, Mar 10 2023, 10:55:28) [GCC 11.3.0]\n",
      "nbcellexec: null\n",
      "nbname: None\n",
      "nbpath: None\n",
      "revision: null\n",
      "session: 0639ffe8-5651-4981-a183-50c06a47bdd3\n",
      "timestamp: 2023-05-23T19:24:20Z00:00\n",
      "\n",
      "\n"
     ]
    },
    {
     "name": "stdout",
     "output_type": "stream",
     "text": [
      "IPython==7.31.1\n",
      "keyname==0.5.2\n",
      "yaml==6.0\n",
      "Bio==1.79\n",
      "alifedata_phyloinformatics_convert==0.13.0\n",
      "deap==1.3\n",
      "endomill==0.1.3\n",
      "hstrat==1.6.1\n",
      "iterpop==0.4.1\n",
      "matplotlib==3.6.2\n",
      "nbmetalog==0.2.6\n",
      "numpy==1.23.5\n",
      "pandas==1.5.2\n",
      "scipy==1.10.1\n",
      "seaborn==0.12.1\n",
      "sympy==1.9\n",
      "teeplot==0.5.0\n",
      "re==2.2.1\n",
      "debugpy==1.6.6\n",
      "logging==0.5.1.2\n",
      "psutil==5.9.0\n",
      "zmq==22.3.0\n",
      "json==2.0.9\n",
      "ipykernel==6.7.0\n"
     ]
    }
   ],
   "source": [
    "nbm.print_metadata()\n"
   ]
  },
  {
   "cell_type": "markdown",
   "id": "f48c53b7",
   "metadata": {
    "papermill": {
     "duration": 0.059369,
     "end_time": "2023-05-24T02:24:21.838373",
     "exception": false,
     "start_time": "2023-05-24T02:24:21.779004",
     "status": "completed"
    },
    "tags": []
   },
   "source": [
    "# Parameters\n"
   ]
  },
  {
   "cell_type": "code",
   "execution_count": 8,
   "id": "10e963c1",
   "metadata": {
    "execution": {
     "iopub.execute_input": "2023-05-24T02:24:21.968446Z",
     "iopub.status.busy": "2023-05-24T02:24:21.964198Z",
     "iopub.status.idle": "2023-05-24T02:24:21.969973Z",
     "shell.execute_reply": "2023-05-24T02:24:21.971265Z"
    },
    "papermill": {
     "duration": 0.075157,
     "end_time": "2023-05-24T02:24:21.971596",
     "exception": false,
     "start_time": "2023-05-24T02:24:21.896439",
     "status": "completed"
    },
    "tags": []
   },
   "outputs": [],
   "source": [
    "HSTRAT_DIFFERENTIA_WIDTH = 64\n",
    "NGEN = 200\n",
    "NPOP = 100\n",
    "NTOURN = 2\n"
   ]
  },
  {
   "cell_type": "markdown",
   "id": "57f8ca36",
   "metadata": {
    "papermill": {
     "duration": 0.064656,
     "end_time": "2023-05-24T02:24:22.093413",
     "exception": false,
     "start_time": "2023-05-24T02:24:22.028757",
     "status": "completed"
    },
    "tags": []
   },
   "source": [
    "# Setup\n"
   ]
  },
  {
   "cell_type": "code",
   "execution_count": 9,
   "id": "a31db311",
   "metadata": {
    "execution": {
     "iopub.execute_input": "2023-05-24T02:24:22.260502Z",
     "iopub.status.busy": "2023-05-24T02:24:22.253428Z",
     "iopub.status.idle": "2023-05-24T02:24:22.264861Z",
     "shell.execute_reply": "2023-05-24T02:24:22.263733Z"
    },
    "papermill": {
     "duration": 0.095299,
     "end_time": "2023-05-24T02:24:22.265145",
     "exception": false,
     "start_time": "2023-05-24T02:24:22.169846",
     "status": "completed"
    },
    "tags": []
   },
   "outputs": [],
   "source": [
    "deap_creator.create(\"FitnessMax\", deap_base.Fitness, weights=(1.0,))\n",
    "deap_creator.create(\"Individual\", list, fitness=deap_creator.FitnessMax)\n",
    "\n",
    "toolbox = deap_base.Toolbox()\n",
    "\n",
    "toolbox.register(\"attr_bool\", random.randint, 0, 1)\n",
    "toolbox.register(\n",
    "    \"individual\",\n",
    "    deap_tools.initRepeat,\n",
    "    deap_creator.Individual,\n",
    "    toolbox.attr_bool,\n",
    "    n=100,\n",
    ")\n",
    "toolbox.register(\"population\", deap_tools.initRepeat, list, toolbox.individual)\n",
    "\n",
    "\n",
    "def evalOneMax(individual):\n",
    "    return (sum(individual),)\n",
    "\n",
    "\n",
    "toolbox.register(\"evaluate\", evalOneMax)\n",
    "toolbox.register(\"mate\", deap_tools.cxTwoPoint)\n",
    "toolbox.register(\"mutate\", deap_tools.mutFlipBit, indpb=0.05)\n",
    "toolbox.register(\"select\", deap_tools.selTournament, tournsize=NTOURN)\n",
    "\n",
    "# Decorate the variation operators\n",
    "history = deap_tools.History()\n",
    "toolbox.decorate(\"mate\", history.decorator)\n",
    "\n",
    "toolbox.decorate(\"mate\", pylib.deap.hstrat_mate_decorator)\n"
   ]
  },
  {
   "cell_type": "markdown",
   "id": "f74ff2fd",
   "metadata": {
    "papermill": {
     "duration": 0.063127,
     "end_time": "2023-05-24T02:24:22.390854",
     "exception": false,
     "start_time": "2023-05-24T02:24:22.327727",
     "status": "completed"
    },
    "tags": []
   },
   "source": [
    "# Evolve\n"
   ]
  },
  {
   "cell_type": "code",
   "execution_count": 10,
   "id": "79129427",
   "metadata": {
    "execution": {
     "iopub.execute_input": "2023-05-24T02:24:22.564040Z",
     "iopub.status.busy": "2023-05-24T02:24:22.557448Z",
     "iopub.status.idle": "2023-05-24T02:34:48.694215Z",
     "shell.execute_reply": "2023-05-24T02:34:48.695064Z"
    },
    "papermill": {
     "duration": 626.243144,
     "end_time": "2023-05-24T02:34:48.695320",
     "exception": false,
     "start_time": "2023-05-24T02:24:22.452176",
     "status": "completed"
    },
    "tags": []
   },
   "outputs": [],
   "source": [
    "# Create the population and populate the history\n",
    "population = toolbox.population(n=NPOP)\n",
    "\n",
    "species_ancestor = hstrat.HereditaryStratigraphicColumn(\n",
    "    stratum_retention_policy=hstrat.perfect_resolution_algo.Policy(),\n",
    "    stratum_differentia_bit_width=HSTRAT_DIFFERENTIA_WIDTH,\n",
    ")\n",
    "gene_ancestor = hstrat.HereditaryStratigraphicColumn(\n",
    "    stratum_retention_policy=hstrat.perfect_resolution_algo.Policy(),\n",
    "    stratum_differentia_bit_width=HSTRAT_DIFFERENTIA_WIDTH,\n",
    "    initial_stratum_annotation=0,\n",
    ")\n",
    "for member in population:\n",
    "    member.species_annotation = species_ancestor.CloneDescendant()\n",
    "    member.gene_annotation = gene_ancestor.CloneDescendant(0)\n",
    "\n",
    "history.update(population)\n",
    "\n",
    "# Do the evolution, the decorators will take care of updating the\n",
    "# history\n",
    "if MILL_TREATMENT_NAME == \"bag\":\n",
    "    for _gen in range(NGEN):\n",
    "        offspring = deap_algorithms.varAnd(\n",
    "            population,\n",
    "            toolbox,\n",
    "            cxpb=1.0,\n",
    "            mutpb=1.0,\n",
    "        )\n",
    "        fits = toolbox.map(toolbox.evaluate, offspring)\n",
    "        for fit, ind in zip(fits, offspring):\n",
    "            ind.fitness.values = fit\n",
    "        population = toolbox.select(offspring, k=NPOP)\n",
    "        population = [copy.deepcopy(ind) for ind in population]\n",
    "\n",
    "elif MILL_TREATMENT_NAME == \"ring\":\n",
    "    NUM_ISLANDS = 10\n",
    "    NUM_MIGRATIONS = 1\n",
    "    slice_size = len(population) // NUM_ISLANDS\n",
    "    for gen in tqdm(range(NGEN)):\n",
    "        for slice_ in pylib.util.iter_slices(len(population), slice_size):\n",
    "            subpopulation = population[slice_]\n",
    "            offspring = deap_algorithms.varAnd(\n",
    "                subpopulation, toolbox, cxpb=1.0, mutpb=1.0\n",
    "            )\n",
    "            fits = toolbox.map(toolbox.evaluate, offspring)\n",
    "            for fit, ind in zip(fits, offspring):\n",
    "                ind.fitness.values = fit\n",
    "            subpopulation = toolbox.select(offspring, k=len(subpopulation))\n",
    "            population[slice_] = [copy.deepcopy(ind) for ind in subpopulation]\n",
    "\n",
    "        for m in range(NUM_MIGRATIONS):\n",
    "            displacement = random.randrange(slice_size, 2 * slice_size)\n",
    "            a = random.randrange(len(population))\n",
    "            b = (a + displacement) % len(population)\n",
    "            population[a], population[b] = population[b], population[a]\n",
    "\n",
    "    from_subpopulations = []\n",
    "    for i in range(0, len(population), slice_size):\n",
    "        subpopulation = population[i : i + slice_size]\n",
    "        from_subpopulations.extend(subpopulation)\n",
    "    population = from_subpopulations\n",
    "\n",
    "elif MILL_TREATMENT_NAME == \"allopatry\":\n",
    "    # sympatry\n",
    "    for gen in tqdm(range(NGEN // 2)):\n",
    "        offspring = deap_algorithms.varAnd(\n",
    "            population, toolbox, cxpb=1.0, mutpb=1.0\n",
    "        )\n",
    "        fits = toolbox.map(toolbox.evaluate, offspring)\n",
    "\n",
    "        for fit, ind in zip(fits, offspring):\n",
    "            ind.fitness.values = fit\n",
    "        population = toolbox.select(offspring, k=len(population))\n",
    "        population = [copy.deepcopy(ind) for ind in population]\n",
    "\n",
    "    # two-island allopatry\n",
    "    slice_size = NPOP // 2\n",
    "    from_subpopulations = []\n",
    "    for i in range(0, len(population), slice_size):\n",
    "        subpopulation = population[i : i + slice_size]\n",
    "        for gen in tqdm(range(NGEN // 4)):\n",
    "            offspring = deap_algorithms.varAnd(\n",
    "                subpopulation, toolbox, cxpb=1.0, mutpb=1.0\n",
    "            )\n",
    "            fits = toolbox.map(toolbox.evaluate, offspring)\n",
    "            for fit, ind in zip(fits, offspring):\n",
    "                ind.fitness.values = fit\n",
    "            subpopulation = toolbox.select(offspring, k=len(subpopulation))\n",
    "            subpopulation = [copy.deepcopy(ind) for ind in subpopulation]\n",
    "\n",
    "        from_subpopulations.extend(subpopulation)\n",
    "    population = from_subpopulations\n",
    "\n",
    "    # three-island allopatry: left island\n",
    "    slice_size = NPOP // 2\n",
    "    from_subpopulations = []\n",
    "    for i in range(0, len(population) // 2, slice_size):\n",
    "        subpopulation = population[i : i + slice_size]\n",
    "        for gen in tqdm(range(NGEN // 4)):\n",
    "            offspring = deap_algorithms.varAnd(\n",
    "                subpopulation, toolbox, cxpb=1.0, mutpb=1.0\n",
    "            )\n",
    "            fits = toolbox.map(toolbox.evaluate, offspring)\n",
    "            for fit, ind in zip(fits, offspring):\n",
    "                ind.fitness.values = fit\n",
    "            subpopulation = toolbox.select(offspring, k=len(subpopulation))\n",
    "            subpopulation = [copy.deepcopy(ind) for ind in subpopulation]\n",
    "\n",
    "        from_subpopulations.extend(subpopulation)\n",
    "\n",
    "    # three-island allopatry: right five islands\n",
    "    slice_size = NPOP // 10\n",
    "    for i in range(len(population) // 2, len(population), slice_size):\n",
    "        subpopulation = population[i : i + slice_size]\n",
    "        for gen in tqdm(range(NGEN // 4)):\n",
    "            offspring = deap_algorithms.varAnd(\n",
    "                subpopulation, toolbox, cxpb=1.0, mutpb=1.0\n",
    "            )\n",
    "            fits = toolbox.map(toolbox.evaluate, offspring)\n",
    "            for fit, ind in zip(fits, offspring):\n",
    "                ind.fitness.values = fit\n",
    "            subpopulation = toolbox.select(offspring, k=len(subpopulation))\n",
    "            subpopulation = [copy.deepcopy(ind) for ind in subpopulation]\n",
    "\n",
    "        from_subpopulations.extend(subpopulation)\n",
    "\n",
    "    population = from_subpopulations\n",
    "\n",
    "else:\n",
    "    assert False, MILL_TREATMENT_NAME\n",
    "\n",
    "# ensure all extant organisms registered with phylogeny tracker\n",
    "for x in population:\n",
    "    history.update([x])\n"
   ]
  },
  {
   "cell_type": "markdown",
   "id": "20a2a092",
   "metadata": {
    "papermill": {
     "duration": 0.027498,
     "end_time": "2023-05-24T02:34:48.760677",
     "exception": false,
     "start_time": "2023-05-24T02:34:48.733179",
     "status": "completed"
    },
    "tags": []
   },
   "source": [
    "# Reconstruction\n"
   ]
  },
  {
   "cell_type": "code",
   "execution_count": 11,
   "id": "56659b88",
   "metadata": {
    "execution": {
     "iopub.execute_input": "2023-05-24T02:34:48.843463Z",
     "iopub.status.busy": "2023-05-24T02:34:48.842485Z",
     "iopub.status.idle": "2023-05-24T02:34:51.095683Z",
     "shell.execute_reply": "2023-05-24T02:34:51.096578Z"
    },
    "papermill": {
     "duration": 2.296461,
     "end_time": "2023-05-24T02:34:51.096803",
     "exception": false,
     "start_time": "2023-05-24T02:34:48.800342",
     "status": "completed"
    },
    "tags": []
   },
   "outputs": [
    {
     "data": {
      "text/html": [
       "<div>\n",
       "<style scoped>\n",
       "    .dataframe tbody tr th:only-of-type {\n",
       "        vertical-align: middle;\n",
       "    }\n",
       "\n",
       "    .dataframe tbody tr th {\n",
       "        vertical-align: top;\n",
       "    }\n",
       "\n",
       "    .dataframe thead th {\n",
       "        text-align: right;\n",
       "    }\n",
       "</style>\n",
       "<table border=\"1\" class=\"dataframe\">\n",
       "  <thead>\n",
       "    <tr style=\"text-align: right;\">\n",
       "      <th></th>\n",
       "      <th>id</th>\n",
       "      <th>ancestor_list</th>\n",
       "      <th>origin_time</th>\n",
       "      <th>taxon_label</th>\n",
       "      <th>ancestor_id</th>\n",
       "      <th>name</th>\n",
       "    </tr>\n",
       "  </thead>\n",
       "  <tbody>\n",
       "    <tr>\n",
       "      <th>0</th>\n",
       "      <td>0</td>\n",
       "      <td>[none]</td>\n",
       "      <td>0.0</td>\n",
       "      <td>Root</td>\n",
       "      <td>0</td>\n",
       "      <td>Root</td>\n",
       "    </tr>\n",
       "    <tr>\n",
       "      <th>193</th>\n",
       "      <td>193</td>\n",
       "      <td>[0]</td>\n",
       "      <td>192.0</td>\n",
       "      <td>Inner+r=192+d=PB5mowwiZ6w+uid=tdcJdAeoGOXxqR6c...</td>\n",
       "      <td>0</td>\n",
       "      <td>Inner+r=192+d=PB5mowwiZ6w+uid=tdcJdAeoGOXxqR6c...</td>\n",
       "    </tr>\n",
       "    <tr>\n",
       "      <th>195</th>\n",
       "      <td>195</td>\n",
       "      <td>[193]</td>\n",
       "      <td>193.0</td>\n",
       "      <td>Inner+r=193+d=O0wYFnBtZh_+uid=Dox6AdaIFf2oi3zG...</td>\n",
       "      <td>193</td>\n",
       "      <td>Inner+r=193+d=O0wYFnBtZh_+uid=Dox6AdaIFf2oi3zG...</td>\n",
       "    </tr>\n",
       "    <tr>\n",
       "      <th>199</th>\n",
       "      <td>199</td>\n",
       "      <td>[193]</td>\n",
       "      <td>195.0</td>\n",
       "      <td>Inner+r=195+d=PtfUdn-GJjX+uid=5yXqxuz54D6OcxLK...</td>\n",
       "      <td>193</td>\n",
       "      <td>Inner+r=195+d=PtfUdn-GJjX+uid=5yXqxuz54D6OcxLK...</td>\n",
       "    </tr>\n",
       "    <tr>\n",
       "      <th>200</th>\n",
       "      <td>200</td>\n",
       "      <td>[195]</td>\n",
       "      <td>195.0</td>\n",
       "      <td>Inner+r=195+d=PtfUdn-GJjX+uid=CPMySDv-REDmD8R_...</td>\n",
       "      <td>195</td>\n",
       "      <td>Inner+r=195+d=PtfUdn-GJjX+uid=CPMySDv-REDmD8R_...</td>\n",
       "    </tr>\n",
       "    <tr>\n",
       "      <th>...</th>\n",
       "      <td>...</td>\n",
       "      <td>...</td>\n",
       "      <td>...</td>\n",
       "      <td>...</td>\n",
       "      <td>...</td>\n",
       "      <td>...</td>\n",
       "    </tr>\n",
       "    <tr>\n",
       "      <th>522</th>\n",
       "      <td>522</td>\n",
       "      <td>[325]</td>\n",
       "      <td>201.0</td>\n",
       "      <td>20140</td>\n",
       "      <td>325</td>\n",
       "      <td>20140</td>\n",
       "    </tr>\n",
       "    <tr>\n",
       "      <th>523</th>\n",
       "      <td>523</td>\n",
       "      <td>[326]</td>\n",
       "      <td>201.0</td>\n",
       "      <td>20185</td>\n",
       "      <td>326</td>\n",
       "      <td>20185</td>\n",
       "    </tr>\n",
       "    <tr>\n",
       "      <th>524</th>\n",
       "      <td>524</td>\n",
       "      <td>[326]</td>\n",
       "      <td>201.0</td>\n",
       "      <td>20165</td>\n",
       "      <td>326</td>\n",
       "      <td>20165</td>\n",
       "    </tr>\n",
       "    <tr>\n",
       "      <th>525</th>\n",
       "      <td>525</td>\n",
       "      <td>[326]</td>\n",
       "      <td>201.0</td>\n",
       "      <td>20173</td>\n",
       "      <td>326</td>\n",
       "      <td>20173</td>\n",
       "    </tr>\n",
       "    <tr>\n",
       "      <th>526</th>\n",
       "      <td>526</td>\n",
       "      <td>[326]</td>\n",
       "      <td>201.0</td>\n",
       "      <td>20179</td>\n",
       "      <td>326</td>\n",
       "      <td>20179</td>\n",
       "    </tr>\n",
       "  </tbody>\n",
       "</table>\n",
       "<p>152 rows × 6 columns</p>\n",
       "</div>"
      ],
      "text/plain": [
       "      id ancestor_list  origin_time  \\\n",
       "0      0        [none]          0.0   \n",
       "193  193           [0]        192.0   \n",
       "195  195         [193]        193.0   \n",
       "199  199         [193]        195.0   \n",
       "200  200         [195]        195.0   \n",
       "..   ...           ...          ...   \n",
       "522  522         [325]        201.0   \n",
       "523  523         [326]        201.0   \n",
       "524  524         [326]        201.0   \n",
       "525  525         [326]        201.0   \n",
       "526  526         [326]        201.0   \n",
       "\n",
       "                                           taxon_label  ancestor_id  \\\n",
       "0                                                 Root            0   \n",
       "193  Inner+r=192+d=PB5mowwiZ6w+uid=tdcJdAeoGOXxqR6c...            0   \n",
       "195  Inner+r=193+d=O0wYFnBtZh_+uid=Dox6AdaIFf2oi3zG...          193   \n",
       "199  Inner+r=195+d=PtfUdn-GJjX+uid=5yXqxuz54D6OcxLK...          193   \n",
       "200  Inner+r=195+d=PtfUdn-GJjX+uid=CPMySDv-REDmD8R_...          195   \n",
       "..                                                 ...          ...   \n",
       "522                                              20140          325   \n",
       "523                                              20185          326   \n",
       "524                                              20165          326   \n",
       "525                                              20173          326   \n",
       "526                                              20179          326   \n",
       "\n",
       "                                                  name  \n",
       "0                                                 Root  \n",
       "193  Inner+r=192+d=PB5mowwiZ6w+uid=tdcJdAeoGOXxqR6c...  \n",
       "195  Inner+r=193+d=O0wYFnBtZh_+uid=Dox6AdaIFf2oi3zG...  \n",
       "199  Inner+r=195+d=PtfUdn-GJjX+uid=5yXqxuz54D6OcxLK...  \n",
       "200  Inner+r=195+d=PtfUdn-GJjX+uid=CPMySDv-REDmD8R_...  \n",
       "..                                                 ...  \n",
       "522                                              20140  \n",
       "523                                              20185  \n",
       "524                                              20165  \n",
       "525                                              20173  \n",
       "526                                              20179  \n",
       "\n",
       "[152 rows x 6 columns]"
      ]
     },
     "execution_count": 11,
     "metadata": {},
     "output_type": "execute_result"
    }
   ],
   "source": [
    "extant_nodes = [individual.history_index for individual in population]\n",
    "reconstructed_df = hstrat.build_tree(\n",
    "    [individual.species_annotation for individual in population],\n",
    "    version_pin=hstrat.__version__,\n",
    "    force_common_ancestry=True,\n",
    "    taxon_labels=map(str, extant_nodes),\n",
    ")\n",
    "reconstructed_df[\"name\"] = reconstructed_df[\"taxon_label\"]\n",
    "reconstructed_df.to_csv(\n",
    "    kn.pack(\n",
    "        {\n",
    "            \"a\": \"phylogeny\",\n",
    "            \"notebook\": \"species-inference\",\n",
    "            \"replicate\": str(MILL_REPLICATE),\n",
    "            \"treatment\": MILL_TREATMENT_NAME,\n",
    "            \"type\": \"reconstruction\",\n",
    "            \"ext\": \".csv\",\n",
    "        }\n",
    "    )\n",
    ")\n",
    "reconstructed_df\n"
   ]
  },
  {
   "cell_type": "code",
   "execution_count": 12,
   "id": "8e28d04a",
   "metadata": {
    "execution": {
     "iopub.execute_input": "2023-05-24T02:34:51.233130Z",
     "iopub.status.busy": "2023-05-24T02:34:51.232137Z",
     "iopub.status.idle": "2023-05-24T02:34:55.448162Z",
     "shell.execute_reply": "2023-05-24T02:34:55.449065Z"
    },
    "papermill": {
     "duration": 4.306565,
     "end_time": "2023-05-24T02:34:55.449405",
     "exception": false,
     "start_time": "2023-05-24T02:34:51.142840",
     "status": "completed"
    },
    "tags": []
   },
   "outputs": [
    {
     "name": "stdout",
     "output_type": "stream",
     "text": [
      "teeplots/./notebook=species-inference+replicate=9+treatment=bag+type=reconstruction+viz=draw-biopython-tree+ext=.pdf\n"
     ]
    },
    {
     "name": "stdout",
     "output_type": "stream",
     "text": [
      "teeplots/./notebook=species-inference+replicate=9+treatment=bag+type=reconstruction+viz=draw-biopython-tree+ext=.png\n"
     ]
    },
    {
     "data": {
      "image/png": "[encoded data removed]",
      "text/plain": [
       "<Figure size 468x288 with 1 Axes>"
      ]
     },
     "metadata": {
      "needs_background": "light"
     },
     "output_type": "display_data"
    }
   ],
   "source": [
    "reconstructed_tree = apc.alife_dataframe_to_biopython_tree(\n",
    "    reconstructed_df, setup_branch_lengths=True\n",
    ")\n",
    "BioPhylo.write(\n",
    "    reconstructed_tree,\n",
    "    kn.pack(\n",
    "        {\n",
    "            \"a\": \"phylogeny\",\n",
    "            \"notebook\": \"species-inference\",\n",
    "            \"replicate\": str(MILL_REPLICATE),\n",
    "            \"treatment\": MILL_TREATMENT_NAME,\n",
    "            \"type\": \"reconstruction\",\n",
    "            \"ext\": \".nwk\",\n",
    "        }\n",
    "    ),\n",
    "    'newick',\n",
    ")\n",
    "tp.tee(\n",
    "    pylib.tree.draw_biopython_tree,\n",
    "    reconstructed_tree,\n",
    "    teeplot_outattrs={\n",
    "        \"notebook\": \"species-inference\",\n",
    "        \"replicate\": str(MILL_REPLICATE),\n",
    "        \"treatment\": MILL_TREATMENT_NAME,\n",
    "        \"type\": \"reconstruction\",\n",
    "    },\n",
    ")\n"
   ]
  },
  {
   "cell_type": "code",
   "execution_count": 13,
   "id": "1a1922ca",
   "metadata": {
    "execution": {
     "iopub.execute_input": "2023-05-24T02:34:55.568218Z",
     "iopub.status.busy": "2023-05-24T02:34:55.566922Z",
     "iopub.status.idle": "2023-05-24T02:34:59.147635Z",
     "shell.execute_reply": "2023-05-24T02:34:59.148765Z"
    },
    "papermill": {
     "duration": 3.644008,
     "end_time": "2023-05-24T02:34:59.149091",
     "exception": false,
     "start_time": "2023-05-24T02:34:55.505083",
     "status": "completed"
    },
    "tags": []
   },
   "outputs": [
    {
     "name": "stdout",
     "output_type": "stream",
     "text": [
      "teeplots/./drop_overlapping_labels=true+notebook=species-inference+replicate=9+treatment=bag+type=reconstruction+viz=draw-biopython-tree+ext=.pdf\n"
     ]
    },
    {
     "name": "stdout",
     "output_type": "stream",
     "text": [
      "teeplots/./drop_overlapping_labels=true+notebook=species-inference+replicate=9+treatment=bag+type=reconstruction+viz=draw-biopython-tree+ext=.png\n"
     ]
    },
    {
     "data": {
      "image/png": "[encoded data removed]",
      "text/plain": [
       "<Figure size 650x400 with 1 Axes>"
      ]
     },
     "metadata": {},
     "output_type": "display_data"
    }
   ],
   "source": [
    "reconstructed_tree = apc.alife_dataframe_to_biopython_tree(\n",
    "    reconstructed_df, setup_branch_lengths=True\n",
    ")\n",
    "tp.tee(\n",
    "    pylib.tree.draw_biopython_tree,\n",
    "    reconstructed_tree,\n",
    "    drop_overlapping_labels=True,\n",
    "    teeplot_outattrs={\n",
    "        \"drop_overlapping_labels\": \"true\",\n",
    "        \"notebook\": \"species-inference\",\n",
    "        \"replicate\": str(MILL_REPLICATE),\n",
    "        \"treatment\": MILL_TREATMENT_NAME,\n",
    "        \"type\": \"reconstruction\",\n",
    "    },\n",
    ")\n"
   ]
  },
  {
   "cell_type": "code",
   "execution_count": 14,
   "id": "e3eef448",
   "metadata": {
    "execution": {
     "iopub.execute_input": "2023-05-24T02:34:59.324988Z",
     "iopub.status.busy": "2023-05-24T02:34:59.315409Z",
     "iopub.status.idle": "2023-05-24T02:35:01.688726Z",
     "shell.execute_reply": "2023-05-24T02:35:01.689701Z"
    },
    "papermill": {
     "duration": 2.468238,
     "end_time": "2023-05-24T02:35:01.689920",
     "exception": false,
     "start_time": "2023-05-24T02:34:59.221682",
     "status": "completed"
    },
    "tags": []
   },
   "outputs": [
    {
     "name": "stdout",
     "output_type": "stream",
     "text": [
      "teeplots/./max_leaves=20+notebook=species-inference+replicate=9+treatment=bag+type=reconstruction+viz=draw-biopython-tree+ext=.pdf\n"
     ]
    },
    {
     "name": "stdout",
     "output_type": "stream",
     "text": [
      "teeplots/./max_leaves=20+notebook=species-inference+replicate=9+treatment=bag+type=reconstruction+viz=draw-biopython-tree+ext=.png\n"
     ]
    },
    {
     "data": {
      "image/png": "[encoded data removed]",
      "text/plain": [
       "<Figure size 650x400 with 1 Axes>"
      ]
     },
     "metadata": {},
     "output_type": "display_data"
    }
   ],
   "source": [
    "reconstructed_tree = apc.alife_dataframe_to_biopython_tree(\n",
    "    reconstructed_df, setup_branch_lengths=True\n",
    ")\n",
    "tp.tee(\n",
    "    pylib.tree.draw_biopython_tree,\n",
    "    reconstructed_tree,\n",
    "    max_leaves=20,\n",
    "    teeplot_outattrs={\n",
    "        \"max_leaves\": \"20\",\n",
    "        \"notebook\": \"species-inference\",\n",
    "        \"replicate\": str(MILL_REPLICATE),\n",
    "        \"treatment\": MILL_TREATMENT_NAME,\n",
    "        \"type\": \"reconstruction\",\n",
    "    },\n",
    ")\n"
   ]
  },
  {
   "cell_type": "markdown",
   "id": "d0e9b4f5",
   "metadata": {
    "papermill": {
     "duration": 0.048807,
     "end_time": "2023-05-24T02:35:01.781461",
     "exception": false,
     "start_time": "2023-05-24T02:35:01.732654",
     "status": "completed"
    },
    "tags": []
   },
   "source": [
    "# Actual Pedigree\n"
   ]
  },
  {
   "cell_type": "code",
   "execution_count": 15,
   "id": "0fe3e228",
   "metadata": {
    "execution": {
     "iopub.execute_input": "2023-05-24T02:35:01.903129Z",
     "iopub.status.busy": "2023-05-24T02:35:01.901862Z",
     "iopub.status.idle": "2023-05-24T02:35:20.809941Z",
     "shell.execute_reply": "2023-05-24T02:35:20.811456Z"
    },
    "papermill": {
     "duration": 18.974648,
     "end_time": "2023-05-24T02:35:20.811773",
     "exception": false,
     "start_time": "2023-05-24T02:35:01.837125",
     "status": "completed"
    },
    "tags": []
   },
   "outputs": [
    {
     "data": {
      "text/plain": [
       "1"
      ]
     },
     "execution_count": 15,
     "metadata": {},
     "output_type": "execute_result"
    }
   ],
   "source": [
    "distilled_tree = pylib.deap.history_to_tree_upgma(history, extant_nodes)\n",
    "BioPhylo.write(\n",
    "    distilled_tree,\n",
    "    kn.pack(\n",
    "        {\n",
    "            \"a\": \"phylogeny\",\n",
    "            \"notebook\": \"species-inference\",\n",
    "            \"replicate\": str(MILL_REPLICATE),\n",
    "            \"treatment\": MILL_TREATMENT_NAME,\n",
    "            \"type\": \"distilled-pedigree\",\n",
    "            \"ext\": \".nwk\",\n",
    "        }\n",
    "    ),\n",
    "    'newick',\n",
    ")\n"
   ]
  },
  {
   "cell_type": "code",
   "execution_count": 16,
   "id": "08f305d6",
   "metadata": {
    "execution": {
     "iopub.execute_input": "2023-05-24T02:35:20.937595Z",
     "iopub.status.busy": "2023-05-24T02:35:20.936311Z",
     "iopub.status.idle": "2023-05-24T02:35:25.984516Z",
     "shell.execute_reply": "2023-05-24T02:35:25.985161Z"
    },
    "papermill": {
     "duration": 5.124763,
     "end_time": "2023-05-24T02:35:25.985363",
     "exception": false,
     "start_time": "2023-05-24T02:35:20.860600",
     "status": "completed"
    },
    "tags": []
   },
   "outputs": [
    {
     "name": "stdout",
     "output_type": "stream",
     "text": [
      "teeplots/./notebook=species-inference+replicate=9+treatment=bag+type=distilled-reference+viz=draw-biopython-tree+ext=.pdf\n"
     ]
    },
    {
     "name": "stdout",
     "output_type": "stream",
     "text": [
      "teeplots/./notebook=species-inference+replicate=9+treatment=bag+type=distilled-reference+viz=draw-biopython-tree+ext=.png\n"
     ]
    },
    {
     "data": {
      "image/png": "[encoded data removed]",
      "text/plain": [
       "<Figure size 650x400 with 1 Axes>"
      ]
     },
     "metadata": {},
     "output_type": "display_data"
    }
   ],
   "source": [
    "tp.tee(\n",
    "    pylib.tree.draw_biopython_tree,\n",
    "    distilled_tree,\n",
    "    teeplot_outattrs={\n",
    "        \"notebook\": \"species-inference\",\n",
    "        \"replicate\": str(MILL_REPLICATE),\n",
    "        \"treatment\": MILL_TREATMENT_NAME,\n",
    "        \"type\": \"distilled-reference\",\n",
    "    },\n",
    ")\n"
   ]
  },
  {
   "cell_type": "code",
   "execution_count": 17,
   "id": "e4099ca1",
   "metadata": {
    "execution": {
     "iopub.execute_input": "2023-05-24T02:35:26.103541Z",
     "iopub.status.busy": "2023-05-24T02:35:26.102197Z",
     "iopub.status.idle": "2023-05-24T02:35:28.556613Z",
     "shell.execute_reply": "2023-05-24T02:35:28.557715Z"
    },
    "papermill": {
     "duration": 2.520824,
     "end_time": "2023-05-24T02:35:28.558026",
     "exception": false,
     "start_time": "2023-05-24T02:35:26.037202",
     "status": "completed"
    },
    "tags": []
   },
   "outputs": [
    {
     "name": "stdout",
     "output_type": "stream",
     "text": [
      "teeplots/./max_leaves=20+notebook=species-inference+replicate=9+treatment=bag+type=distilled-reference+viz=draw-biopython-tree+ext=.pdf\n"
     ]
    },
    {
     "name": "stdout",
     "output_type": "stream",
     "text": [
      "teeplots/./max_leaves=20+notebook=species-inference+replicate=9+treatment=bag+type=distilled-reference+viz=draw-biopython-tree+ext=.png\n"
     ]
    },
    {
     "data": {
      "image/png": "[encoded data removed]",
      "text/plain": [
       "<Figure size 650x400 with 1 Axes>"
      ]
     },
     "metadata": {},
     "output_type": "display_data"
    }
   ],
   "source": [
    "tp.tee(\n",
    "    pylib.tree.draw_biopython_tree,\n",
    "    distilled_tree,\n",
    "    max_leaves=20,\n",
    "    teeplot_outattrs={\n",
    "        \"max_leaves\": \"20\",\n",
    "        \"notebook\": \"species-inference\",\n",
    "        \"replicate\": str(MILL_REPLICATE),\n",
    "        \"treatment\": MILL_TREATMENT_NAME,\n",
    "        \"type\": \"distilled-reference\",\n",
    "    },\n",
    ")\n"
   ]
  },
  {
   "cell_type": "code",
   "execution_count": 18,
   "id": "e74345a7",
   "metadata": {
    "execution": {
     "iopub.execute_input": "2023-05-24T02:35:28.891276Z",
     "iopub.status.busy": "2023-05-24T02:35:28.889588Z",
     "iopub.status.idle": "2023-05-24T02:35:32.956622Z",
     "shell.execute_reply": "2023-05-24T02:35:32.957589Z"
    },
    "papermill": {
     "duration": 4.20376,
     "end_time": "2023-05-24T02:35:32.957848",
     "exception": false,
     "start_time": "2023-05-24T02:35:28.754088",
     "status": "completed"
    },
    "tags": []
   },
   "outputs": [
    {
     "name": "stdout",
     "output_type": "stream",
     "text": [
      "teeplots/./drop_overlapping_labels=true+notebook=species-inference+replicate=9+treatment=bag+type=distilled-reference+viz=draw-biopython-tree+ext=.pdf\n"
     ]
    },
    {
     "name": "stdout",
     "output_type": "stream",
     "text": [
      "teeplots/./drop_overlapping_labels=true+notebook=species-inference+replicate=9+treatment=bag+type=distilled-reference+viz=draw-biopython-tree+ext=.png\n"
     ]
    },
    {
     "data": {
      "image/png": "[encoded data removed]",
      "text/plain": [
       "<Figure size 650x400 with 1 Axes>"
      ]
     },
     "metadata": {},
     "output_type": "display_data"
    }
   ],
   "source": [
    "tp.tee(\n",
    "    pylib.tree.draw_biopython_tree,\n",
    "    distilled_tree,\n",
    "    drop_overlapping_labels=True,\n",
    "    teeplot_outattrs={\n",
    "        \"drop_overlapping_labels\": \"true\",\n",
    "        \"notebook\": \"species-inference\",\n",
    "        \"replicate\": str(MILL_REPLICATE),\n",
    "        \"treatment\": MILL_TREATMENT_NAME,\n",
    "        \"type\": \"distilled-reference\",\n",
    "    },\n",
    ")\n"
   ]
  },
  {
   "cell_type": "code",
   "execution_count": 19,
   "id": "959f9859",
   "metadata": {
    "execution": {
     "iopub.execute_input": "2023-05-24T02:35:33.195385Z",
     "iopub.status.busy": "2023-05-24T02:35:33.194019Z",
     "iopub.status.idle": "2023-05-24T02:35:53.401743Z",
     "shell.execute_reply": "2023-05-24T02:35:53.403654Z"
    },
    "papermill": {
     "duration": 20.360774,
     "end_time": "2023-05-24T02:35:53.403956",
     "exception": false,
     "start_time": "2023-05-24T02:35:33.043182",
     "status": "completed"
    },
    "tags": []
   },
   "outputs": [
    {
     "data": {
      "text/plain": [
       "0.6396419486257483"
      ]
     },
     "execution_count": 19,
     "metadata": {},
     "output_type": "execute_result"
    }
   ],
   "source": [
    "distilled_tree = pylib.deap.history_to_tree_upgma(\n",
    "    history, extant_nodes, correct_origin_times=False\n",
    ")\n",
    "BioPhylo.write(\n",
    "    distilled_tree,\n",
    "    kn.pack(\n",
    "        {\n",
    "            \"a\": \"phylogeny\",\n",
    "            \"notebook\": \"species-inference\",\n",
    "            \"replicate\": str(MILL_REPLICATE),\n",
    "            \"treatment\": MILL_TREATMENT_NAME,\n",
    "            \"type\": \"distilled-pedigree-uncorrected\",\n",
    "            \"ext\": \".nwk\",\n",
    "        }\n",
    "    ),\n",
    "    'newick',\n",
    ")\n",
    "\n",
    "quartet_dist = pylib.tree.polymorphic_quartet_distance(\n",
    "    reconstructed_tree, distilled_tree\n",
    ")\n",
    "quartet_dist\n"
   ]
  },
  {
   "cell_type": "code",
   "execution_count": 20,
   "id": "9af23cb4",
   "metadata": {
    "execution": {
     "iopub.execute_input": "2023-05-24T02:35:53.665547Z",
     "iopub.status.busy": "2023-05-24T02:35:53.664182Z",
     "iopub.status.idle": "2023-05-24T02:35:53.681247Z",
     "shell.execute_reply": "2023-05-24T02:35:53.682518Z"
    },
    "papermill": {
     "duration": 0.135586,
     "end_time": "2023-05-24T02:35:53.682833",
     "exception": false,
     "start_time": "2023-05-24T02:35:53.547247",
     "status": "completed"
    },
    "tags": []
   },
   "outputs": [
    {
     "data": {
      "text/html": [
       "<div>\n",
       "<style scoped>\n",
       "    .dataframe tbody tr th:only-of-type {\n",
       "        vertical-align: middle;\n",
       "    }\n",
       "\n",
       "    .dataframe tbody tr th {\n",
       "        vertical-align: top;\n",
       "    }\n",
       "\n",
       "    .dataframe thead th {\n",
       "        text-align: right;\n",
       "    }\n",
       "</style>\n",
       "<table border=\"1\" class=\"dataframe\">\n",
       "  <thead>\n",
       "    <tr style=\"text-align: right;\">\n",
       "      <th></th>\n",
       "      <th>replicate</th>\n",
       "      <th>treatment</th>\n",
       "      <th>quartet distance</th>\n",
       "    </tr>\n",
       "  </thead>\n",
       "  <tbody>\n",
       "    <tr>\n",
       "      <th>0</th>\n",
       "      <td>9</td>\n",
       "      <td>bag</td>\n",
       "      <td>0.639642</td>\n",
       "    </tr>\n",
       "  </tbody>\n",
       "</table>\n",
       "</div>"
      ],
      "text/plain": [
       "   replicate treatment  quartet distance\n",
       "0          9       bag          0.639642"
      ]
     },
     "execution_count": 20,
     "metadata": {},
     "output_type": "execute_result"
    }
   ],
   "source": [
    "records = [\n",
    "    {\n",
    "        \"replicate\": MILL_REPLICATE,\n",
    "        \"treatment\": MILL_TREATMENT_NAME,\n",
    "        \"quartet distance\": quartet_dist,\n",
    "    }\n",
    "]\n",
    "outdf = pd.DataFrame.from_records(records)\n",
    "outdf.to_csv(\n",
    "    kn.pack(\n",
    "        {\n",
    "            \"a\": \"reconstruction-accuracy\",\n",
    "            \"notebook\": \"species-inference\",\n",
    "            \"replicate\": MILL_REPLICATE,\n",
    "            \"treatment\": MILL_TREATMENT_NAME,\n",
    "            \"ext\": \".csv\",\n",
    "        }\n",
    "    )\n",
    ")\n",
    "outdf\n"
   ]
  }
 ],
 "metadata": {
  "kernelspec": {
   "display_name": "Python 3",
   "language": "python",
   "name": "python3"
  },
  "language_info": {
   "codemirror_mode": {
    "name": "ipython",
    "version": 3
   },
   "file_extension": ".py",
   "mimetype": "text/x-python",
   "name": "python",
   "nbconvert_exporter": "python",
   "pygments_lexer": "ipython3",
   "version": "3.10.6"
  },
  "papermill": {
   "default_parameters": {},
   "duration": 712.933663,
   "end_time": "2023-05-24T02:35:56.623818",
   "environment_variables": {},
   "exception": null,
   "input_path": "species-inference.ipynb",
   "output_path": "species-inference-parameterization-9.ipynb",
   "parameters": {
    "MILL_REPLICATE": 9,
    "MILL_TREATMENT_NAME": "bag"
   },
   "start_time": "2023-05-24T02:24:03.690155",
   "version": "2.4.0"
  }
 },
 "nbformat": 4,
 "nbformat_minor": 5
}