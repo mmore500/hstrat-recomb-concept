{
 "cells": [
  {
   "cell_type": "code",
   "execution_count": 1,
   "id": "d38017e6",
   "metadata": {
    "execution": {
     "iopub.execute_input": "2023-05-24T02:13:17.704987Z",
     "iopub.status.busy": "2023-05-24T02:13:17.704392Z",
     "iopub.status.idle": "2023-05-24T02:13:18.646931Z",
     "shell.execute_reply": "2023-05-24T02:13:18.646517Z"
    },
    "papermill": {
     "duration": 0.992675,
     "end_time": "2023-05-24T02:13:18.647045",
     "exception": false,
     "start_time": "2023-05-24T02:13:17.654370",
     "status": "completed"
    },
    "tags": []
   },
   "outputs": [],
   "source": [
    "import endomill\n",
    "import yaml\n"
   ]
  },
  {
   "cell_type": "code",
   "execution_count": 2,
   "id": "1335601d",
   "metadata": {
    "execution": {
     "iopub.execute_input": "2023-05-24T02:13:18.679562Z",
     "iopub.status.busy": "2023-05-24T02:13:18.678861Z",
     "iopub.status.idle": "2023-05-24T02:13:18.690614Z",
     "shell.execute_reply": "2023-05-24T02:13:18.691213Z"
    },
    "papermill": {
     "duration": 0.030828,
     "end_time": "2023-05-24T02:13:18.691412",
     "exception": false,
     "start_time": "2023-05-24T02:13:18.660584",
     "status": "completed"
    },
    "tags": []
   },
   "outputs": [],
   "source": [
    "parameter_packs = [\n",
    "    {\n",
    "        \"MILL_TREATMENT_NAME\": treatment,\n",
    "        \"MILL_REPLICATE\": replicate,\n",
    "    }\n",
    "    for treatment in [\"bag\", \"ring\", \"allopatry\"]\n",
    "    for replicate in range(10)\n",
    "]\n",
    "\n",
    "\n",
    "for i, pp in enumerate(parameter_packs):\n",
    "    with open(f\"species-inference-parameterization-{i}.yaml\", \"w\") as file:\n",
    "        yaml.safe_dump(pp, file)\n",
    "# endomill.instantiate_over(parameter_packs=parameter_packs)\n"
   ]
  },
  {
   "cell_type": "markdown",
   "id": "46ddb058",
   "metadata": {
    "papermill": {
     "duration": 0.021002,
     "end_time": "2023-05-24T02:13:18.735815",
     "exception": false,
     "start_time": "2023-05-24T02:13:18.714813",
     "status": "completed"
    },
    "tags": []
   },
   "source": [
    "# Papermill Parameters\n"
   ]
  },
  {
   "cell_type": "code",
   "execution_count": 3,
   "id": "38c80d04",
   "metadata": {
    "execution": {
     "iopub.execute_input": "2023-05-24T02:13:18.763747Z",
     "iopub.status.busy": "2023-05-24T02:13:18.763249Z",
     "iopub.status.idle": "2023-05-24T02:13:18.765127Z",
     "shell.execute_reply": "2023-05-24T02:13:18.764768Z"
    },
    "papermill": {
     "duration": 0.016935,
     "end_time": "2023-05-24T02:13:18.765217",
     "exception": false,
     "start_time": "2023-05-24T02:13:18.748282",
     "status": "completed"
    },
    "tags": [
     "parameters"
    ]
   },
   "outputs": [],
   "source": [
    "MILL_TREATMENT_NAME: str\n",
    "MILL_REPLICATE: int\n"
   ]
  },
  {
   "cell_type": "code",
   "execution_count": 4,
   "id": "1ab61f96",
   "metadata": {
    "execution": {
     "iopub.execute_input": "2023-05-24T02:13:18.794423Z",
     "iopub.status.busy": "2023-05-24T02:13:18.793940Z",
     "iopub.status.idle": "2023-05-24T02:13:18.795805Z",
     "shell.execute_reply": "2023-05-24T02:13:18.795402Z"
    },
    "papermill": {
     "duration": 0.017913,
     "end_time": "2023-05-24T02:13:18.795900",
     "exception": false,
     "start_time": "2023-05-24T02:13:18.777987",
     "status": "completed"
    },
    "tags": [
     "injected-parameters"
    ]
   },
   "outputs": [],
   "source": [
    "# Parameters\n",
    "MILL_REPLICATE = 6\n",
    "MILL_TREATMENT_NAME = \"bag\"\n"
   ]
  },
  {
   "cell_type": "markdown",
   "id": "11cc2fe1",
   "metadata": {
    "papermill": {
     "duration": 0.013869,
     "end_time": "2023-05-24T02:13:18.824004",
     "exception": false,
     "start_time": "2023-05-24T02:13:18.810135",
     "status": "completed"
    },
    "tags": []
   },
   "source": [
    "# Global Setup\n"
   ]
  },
  {
   "cell_type": "code",
   "execution_count": 5,
   "id": "30d44972",
   "metadata": {
    "execution": {
     "iopub.execute_input": "2023-05-24T02:13:18.864587Z",
     "iopub.status.busy": "2023-05-24T02:13:18.863827Z",
     "iopub.status.idle": "2023-05-24T02:13:27.185002Z",
     "shell.execute_reply": "2023-05-24T02:13:27.184281Z"
    },
    "papermill": {
     "duration": 8.347238,
     "end_time": "2023-05-24T02:13:27.185199",
     "exception": false,
     "start_time": "2023-05-24T02:13:18.837961",
     "status": "completed"
    },
    "tags": []
   },
   "outputs": [],
   "source": [
    "import copy\n",
    "import math\n",
    "import itertools as it\n",
    "import typing\n",
    "import random\n",
    "\n",
    "import alifedata_phyloinformatics_convert as apc\n",
    "from Bio import Phylo as BioPhylo\n",
    "from deap import algorithms as deap_algorithms\n",
    "from deap import base as deap_base\n",
    "from deap import creator as deap_creator\n",
    "from deap import tools as deap_tools\n",
    "\n",
    "from hstrat import hstrat\n",
    "from iterpop import iterpop as ip\n",
    "from keyname import keyname as kn\n",
    "from matplotlib import pyplot as plt\n",
    "from nbmetalog import nbmetalog as nbm\n",
    "import numpy as np\n",
    "import pandas as pd\n",
    "from scipy import stats as scipy_stats\n",
    "import seaborn as sns\n",
    "import sympy\n",
    "from teeplot import teeplot as tp\n",
    "from tqdm import tqdm\n",
    "\n",
    "import pylib\n"
   ]
  },
  {
   "cell_type": "code",
   "execution_count": 6,
   "id": "18712ebc",
   "metadata": {
    "execution": {
     "iopub.execute_input": "2023-05-24T02:13:27.256175Z",
     "iopub.status.busy": "2023-05-24T02:13:27.254839Z",
     "iopub.status.idle": "2023-05-24T02:13:27.259930Z",
     "shell.execute_reply": "2023-05-24T02:13:27.260713Z"
    },
    "papermill": {
     "duration": 0.04686,
     "end_time": "2023-05-24T02:13:27.260960",
     "exception": false,
     "start_time": "2023-05-24T02:13:27.214100",
     "status": "completed"
    },
    "tags": []
   },
   "outputs": [],
   "source": [
    "random.seed(MILL_REPLICATE)\n"
   ]
  },
  {
   "cell_type": "code",
   "execution_count": 7,
   "id": "12ff22dc",
   "metadata": {
    "execution": {
     "iopub.execute_input": "2023-05-24T02:13:27.333177Z",
     "iopub.status.busy": "2023-05-24T02:13:27.331347Z",
     "iopub.status.idle": "2023-05-24T02:13:29.288799Z",
     "shell.execute_reply": "2023-05-24T02:13:29.289807Z"
    },
    "papermill": {
     "duration": 1.992592,
     "end_time": "2023-05-24T02:13:29.290115",
     "exception": false,
     "start_time": "2023-05-24T02:13:27.297523",
     "status": "completed"
    },
    "tags": []
   },
   "outputs": [
    {
     "name": "stdout",
     "output_type": "stream",
     "text": [
      "context: local\n",
      "hostname: thinkpad\n",
      "interpreter: 3.10.6 (main, Mar 10 2023, 10:55:28) [GCC 11.3.0]\n",
      "nbcellexec: null\n",
      "nbname: None\n",
      "nbpath: None\n",
      "revision: null\n",
      "session: cc35900c-ad4c-4906-95e5-77f1789fd0ff\n",
      "timestamp: 2023-05-23T19:13:28Z00:00\n",
      "\n",
      "\n"
     ]
    },
    {
     "name": "stdout",
     "output_type": "stream",
     "text": [
      "IPython==7.31.1\n",
      "keyname==0.5.2\n",
      "yaml==6.0\n",
      "Bio==1.79\n",
      "alifedata_phyloinformatics_convert==0.13.0\n",
      "deap==1.3\n",
      "endomill==0.1.3\n",
      "hstrat==1.6.1\n",
      "iterpop==0.4.1\n",
      "matplotlib==3.6.2\n",
      "nbmetalog==0.2.6\n",
      "numpy==1.23.5\n",
      "pandas==1.5.2\n",
      "scipy==1.10.1\n",
      "seaborn==0.12.1\n",
      "sympy==1.9\n",
      "teeplot==0.5.0\n",
      "re==2.2.1\n",
      "debugpy==1.6.6\n",
      "logging==0.5.1.2\n",
      "psutil==5.9.0\n",
      "zmq==22.3.0\n",
      "json==2.0.9\n",
      "ipykernel==6.7.0\n"
     ]
    }
   ],
   "source": [
    "nbm.print_metadata()\n"
   ]
  },
  {
   "cell_type": "markdown",
   "id": "adb81e7b",
   "metadata": {
    "papermill": {
     "duration": 0.056522,
     "end_time": "2023-05-24T02:13:29.401575",
     "exception": false,
     "start_time": "2023-05-24T02:13:29.345053",
     "status": "completed"
    },
    "tags": []
   },
   "source": [
    "# Parameters\n"
   ]
  },
  {
   "cell_type": "code",
   "execution_count": 8,
   "id": "aa425389",
   "metadata": {
    "execution": {
     "iopub.execute_input": "2023-05-24T02:13:29.525031Z",
     "iopub.status.busy": "2023-05-24T02:13:29.516558Z",
     "iopub.status.idle": "2023-05-24T02:13:29.534254Z",
     "shell.execute_reply": "2023-05-24T02:13:29.536665Z"
    },
    "papermill": {
     "duration": 0.074956,
     "end_time": "2023-05-24T02:13:29.537028",
     "exception": false,
     "start_time": "2023-05-24T02:13:29.462072",
     "status": "completed"
    },
    "tags": []
   },
   "outputs": [],
   "source": [
    "HSTRAT_DIFFERENTIA_WIDTH = 64\n",
    "NGEN = 200\n",
    "NPOP = 100\n",
    "NTOURN = 2\n"
   ]
  },
  {
   "cell_type": "markdown",
   "id": "e20da3e2",
   "metadata": {
    "papermill": {
     "duration": 0.060966,
     "end_time": "2023-05-24T02:13:29.658369",
     "exception": false,
     "start_time": "2023-05-24T02:13:29.597403",
     "status": "completed"
    },
    "tags": []
   },
   "source": [
    "# Setup\n"
   ]
  },
  {
   "cell_type": "code",
   "execution_count": 9,
   "id": "870cbdcc",
   "metadata": {
    "execution": {
     "iopub.execute_input": "2023-05-24T02:13:29.788487Z",
     "iopub.status.busy": "2023-05-24T02:13:29.786938Z",
     "iopub.status.idle": "2023-05-24T02:13:29.803739Z",
     "shell.execute_reply": "2023-05-24T02:13:29.805291Z"
    },
    "papermill": {
     "duration": 0.083843,
     "end_time": "2023-05-24T02:13:29.805647",
     "exception": false,
     "start_time": "2023-05-24T02:13:29.721804",
     "status": "completed"
    },
    "tags": []
   },
   "outputs": [],
   "source": [
    "deap_creator.create(\"FitnessMax\", deap_base.Fitness, weights=(1.0,))\n",
    "deap_creator.create(\"Individual\", list, fitness=deap_creator.FitnessMax)\n",
    "\n",
    "toolbox = deap_base.Toolbox()\n",
    "\n",
    "toolbox.register(\"attr_bool\", random.randint, 0, 1)\n",
    "toolbox.register(\n",
    "    \"individual\",\n",
    "    deap_tools.initRepeat,\n",
    "    deap_creator.Individual,\n",
    "    toolbox.attr_bool,\n",
    "    n=100,\n",
    ")\n",
    "toolbox.register(\"population\", deap_tools.initRepeat, list, toolbox.individual)\n",
    "\n",
    "\n",
    "def evalOneMax(individual):\n",
    "    return (sum(individual),)\n",
    "\n",
    "\n",
    "toolbox.register(\"evaluate\", evalOneMax)\n",
    "toolbox.register(\"mate\", deap_tools.cxTwoPoint)\n",
    "toolbox.register(\"mutate\", deap_tools.mutFlipBit, indpb=0.05)\n",
    "toolbox.register(\"select\", deap_tools.selTournament, tournsize=NTOURN)\n",
    "\n",
    "# Decorate the variation operators\n",
    "history = deap_tools.History()\n",
    "toolbox.decorate(\"mate\", history.decorator)\n",
    "\n",
    "toolbox.decorate(\"mate\", pylib.deap.hstrat_mate_decorator)\n"
   ]
  },
  {
   "cell_type": "markdown",
   "id": "8aca54f9",
   "metadata": {
    "papermill": {
     "duration": 0.078019,
     "end_time": "2023-05-24T02:13:29.949963",
     "exception": false,
     "start_time": "2023-05-24T02:13:29.871944",
     "status": "completed"
    },
    "tags": []
   },
   "source": [
    "# Evolve\n"
   ]
  },
  {
   "cell_type": "code",
   "execution_count": 10,
   "id": "d9970a06",
   "metadata": {
    "execution": {
     "iopub.execute_input": "2023-05-24T02:13:30.122903Z",
     "iopub.status.busy": "2023-05-24T02:13:30.099149Z",
     "iopub.status.idle": "2023-05-24T02:23:57.711366Z",
     "shell.execute_reply": "2023-05-24T02:23:57.712511Z"
    },
    "papermill": {
     "duration": 627.696752,
     "end_time": "2023-05-24T02:23:57.712835",
     "exception": false,
     "start_time": "2023-05-24T02:13:30.016083",
     "status": "completed"
    },
    "tags": []
   },
   "outputs": [],
   "source": [
    "# Create the population and populate the history\n",
    "population = toolbox.population(n=NPOP)\n",
    "\n",
    "species_ancestor = hstrat.HereditaryStratigraphicColumn(\n",
    "    stratum_retention_policy=hstrat.perfect_resolution_algo.Policy(),\n",
    "    stratum_differentia_bit_width=HSTRAT_DIFFERENTIA_WIDTH,\n",
    ")\n",
    "gene_ancestor = hstrat.HereditaryStratigraphicColumn(\n",
    "    stratum_retention_policy=hstrat.perfect_resolution_algo.Policy(),\n",
    "    stratum_differentia_bit_width=HSTRAT_DIFFERENTIA_WIDTH,\n",
    "    initial_stratum_annotation=0,\n",
    ")\n",
    "for member in population:\n",
    "    member.species_annotation = species_ancestor.CloneDescendant()\n",
    "    member.gene_annotation = gene_ancestor.CloneDescendant(0)\n",
    "\n",
    "history.update(population)\n",
    "\n",
    "# Do the evolution, the decorators will take care of updating the\n",
    "# history\n",
    "if MILL_TREATMENT_NAME == \"bag\":\n",
    "    for _gen in range(NGEN):\n",
    "        offspring = deap_algorithms.varAnd(\n",
    "            population,\n",
    "            toolbox,\n",
    "            cxpb=1.0,\n",
    "            mutpb=1.0,\n",
    "        )\n",
    "        fits = toolbox.map(toolbox.evaluate, offspring)\n",
    "        for fit, ind in zip(fits, offspring):\n",
    "            ind.fitness.values = fit\n",
    "        population = toolbox.select(offspring, k=NPOP)\n",
    "        population = [copy.deepcopy(ind) for ind in population]\n",
    "\n",
    "elif MILL_TREATMENT_NAME == \"ring\":\n",
    "    NUM_ISLANDS = 10\n",
    "    NUM_MIGRATIONS = 1\n",
    "    slice_size = len(population) // NUM_ISLANDS\n",
    "    for gen in tqdm(range(NGEN)):\n",
    "        for slice_ in pylib.util.iter_slices(len(population), slice_size):\n",
    "            subpopulation = population[slice_]\n",
    "            offspring = deap_algorithms.varAnd(\n",
    "                subpopulation, toolbox, cxpb=1.0, mutpb=1.0\n",
    "            )\n",
    "            fits = toolbox.map(toolbox.evaluate, offspring)\n",
    "            for fit, ind in zip(fits, offspring):\n",
    "                ind.fitness.values = fit\n",
    "            subpopulation = toolbox.select(offspring, k=len(subpopulation))\n",
    "            population[slice_] = [copy.deepcopy(ind) for ind in subpopulation]\n",
    "\n",
    "        for m in range(NUM_MIGRATIONS):\n",
    "            displacement = random.randrange(slice_size, 2 * slice_size)\n",
    "            a = random.randrange(len(population))\n",
    "            b = (a + displacement) % len(population)\n",
    "            population[a], population[b] = population[b], population[a]\n",
    "\n",
    "    from_subpopulations = []\n",
    "    for i in range(0, len(population), slice_size):\n",
    "        subpopulation = population[i : i + slice_size]\n",
    "        from_subpopulations.extend(subpopulation)\n",
    "    population = from_subpopulations\n",
    "\n",
    "elif MILL_TREATMENT_NAME == \"allopatry\":\n",
    "    # sympatry\n",
    "    for gen in tqdm(range(NGEN // 2)):\n",
    "        offspring = deap_algorithms.varAnd(\n",
    "            population, toolbox, cxpb=1.0, mutpb=1.0\n",
    "        )\n",
    "        fits = toolbox.map(toolbox.evaluate, offspring)\n",
    "\n",
    "        for fit, ind in zip(fits, offspring):\n",
    "            ind.fitness.values = fit\n",
    "        population = toolbox.select(offspring, k=len(population))\n",
    "        population = [copy.deepcopy(ind) for ind in population]\n",
    "\n",
    "    # two-island allopatry\n",
    "    slice_size = NPOP // 2\n",
    "    from_subpopulations = []\n",
    "    for i in range(0, len(population), slice_size):\n",
    "        subpopulation = population[i : i + slice_size]\n",
    "        for gen in tqdm(range(NGEN // 4)):\n",
    "            offspring = deap_algorithms.varAnd(\n",
    "                subpopulation, toolbox, cxpb=1.0, mutpb=1.0\n",
    "            )\n",
    "            fits = toolbox.map(toolbox.evaluate, offspring)\n",
    "            for fit, ind in zip(fits, offspring):\n",
    "                ind.fitness.values = fit\n",
    "            subpopulation = toolbox.select(offspring, k=len(subpopulation))\n",
    "            subpopulation = [copy.deepcopy(ind) for ind in subpopulation]\n",
    "\n",
    "        from_subpopulations.extend(subpopulation)\n",
    "    population = from_subpopulations\n",
    "\n",
    "    # three-island allopatry: left island\n",
    "    slice_size = NPOP // 2\n",
    "    from_subpopulations = []\n",
    "    for i in range(0, len(population) // 2, slice_size):\n",
    "        subpopulation = population[i : i + slice_size]\n",
    "        for gen in tqdm(range(NGEN // 4)):\n",
    "            offspring = deap_algorithms.varAnd(\n",
    "                subpopulation, toolbox, cxpb=1.0, mutpb=1.0\n",
    "            )\n",
    "            fits = toolbox.map(toolbox.evaluate, offspring)\n",
    "            for fit, ind in zip(fits, offspring):\n",
    "                ind.fitness.values = fit\n",
    "            subpopulation = toolbox.select(offspring, k=len(subpopulation))\n",
    "            subpopulation = [copy.deepcopy(ind) for ind in subpopulation]\n",
    "\n",
    "        from_subpopulations.extend(subpopulation)\n",
    "\n",
    "    # three-island allopatry: right five islands\n",
    "    slice_size = NPOP // 10\n",
    "    for i in range(len(population) // 2, len(population), slice_size):\n",
    "        subpopulation = population[i : i + slice_size]\n",
    "        for gen in tqdm(range(NGEN // 4)):\n",
    "            offspring = deap_algorithms.varAnd(\n",
    "                subpopulation, toolbox, cxpb=1.0, mutpb=1.0\n",
    "            )\n",
    "            fits = toolbox.map(toolbox.evaluate, offspring)\n",
    "            for fit, ind in zip(fits, offspring):\n",
    "                ind.fitness.values = fit\n",
    "            subpopulation = toolbox.select(offspring, k=len(subpopulation))\n",
    "            subpopulation = [copy.deepcopy(ind) for ind in subpopulation]\n",
    "\n",
    "        from_subpopulations.extend(subpopulation)\n",
    "\n",
    "    population = from_subpopulations\n",
    "\n",
    "else:\n",
    "    assert False, MILL_TREATMENT_NAME\n",
    "\n",
    "# ensure all extant organisms registered with phylogeny tracker\n",
    "for x in population:\n",
    "    history.update([x])\n"
   ]
  },
  {
   "cell_type": "markdown",
   "id": "e6117ce1",
   "metadata": {
    "papermill": {
     "duration": 0.059285,
     "end_time": "2023-05-24T02:23:57.833100",
     "exception": false,
     "start_time": "2023-05-24T02:23:57.773815",
     "status": "completed"
    },
    "tags": []
   },
   "source": [
    "# Reconstruction\n"
   ]
  },
  {
   "cell_type": "code",
   "execution_count": 11,
   "id": "b6d498d0",
   "metadata": {
    "execution": {
     "iopub.execute_input": "2023-05-24T02:23:57.963759Z",
     "iopub.status.busy": "2023-05-24T02:23:57.962353Z",
     "iopub.status.idle": "2023-05-24T02:24:01.073251Z",
     "shell.execute_reply": "2023-05-24T02:24:01.082799Z"
    },
    "papermill": {
     "duration": 3.190143,
     "end_time": "2023-05-24T02:24:01.083181",
     "exception": false,
     "start_time": "2023-05-24T02:23:57.893038",
     "status": "completed"
    },
    "tags": []
   },
   "outputs": [
    {
     "data": {
      "text/html": [
       "<div>\n",
       "<style scoped>\n",
       "    .dataframe tbody tr th:only-of-type {\n",
       "        vertical-align: middle;\n",
       "    }\n",
       "\n",
       "    .dataframe tbody tr th {\n",
       "        vertical-align: top;\n",
       "    }\n",
       "\n",
       "    .dataframe thead th {\n",
       "        text-align: right;\n",
       "    }\n",
       "</style>\n",
       "<table border=\"1\" class=\"dataframe\">\n",
       "  <thead>\n",
       "    <tr style=\"text-align: right;\">\n",
       "      <th></th>\n",
       "      <th>id</th>\n",
       "      <th>ancestor_list</th>\n",
       "      <th>origin_time</th>\n",
       "      <th>taxon_label</th>\n",
       "      <th>ancestor_id</th>\n",
       "      <th>name</th>\n",
       "    </tr>\n",
       "  </thead>\n",
       "  <tbody>\n",
       "    <tr>\n",
       "      <th>0</th>\n",
       "      <td>0</td>\n",
       "      <td>[none]</td>\n",
       "      <td>0.0</td>\n",
       "      <td>Root</td>\n",
       "      <td>0</td>\n",
       "      <td>Root</td>\n",
       "    </tr>\n",
       "    <tr>\n",
       "      <th>191</th>\n",
       "      <td>191</td>\n",
       "      <td>[0]</td>\n",
       "      <td>190.0</td>\n",
       "      <td>Inner+r=190+d=P44mOZldFbU+uid=CQZwTDZdYLbkbj25...</td>\n",
       "      <td>0</td>\n",
       "      <td>Inner+r=190+d=P44mOZldFbU+uid=CQZwTDZdYLbkbj25...</td>\n",
       "    </tr>\n",
       "    <tr>\n",
       "      <th>192</th>\n",
       "      <td>192</td>\n",
       "      <td>[191]</td>\n",
       "      <td>191.0</td>\n",
       "      <td>Inner+r=191+d=PqM7X7tVEKi+uid=W2OgOnMkw0ywTnBl...</td>\n",
       "      <td>191</td>\n",
       "      <td>Inner+r=191+d=PqM7X7tVEKi+uid=W2OgOnMkw0ywTnBl...</td>\n",
       "    </tr>\n",
       "    <tr>\n",
       "      <th>195</th>\n",
       "      <td>195</td>\n",
       "      <td>[192]</td>\n",
       "      <td>192.0</td>\n",
       "      <td>Inner+r=192+d=Pnbd8HxjHhA+uid=BtP61MQCcFRifhJa...</td>\n",
       "      <td>192</td>\n",
       "      <td>Inner+r=192+d=Pnbd8HxjHhA+uid=BtP61MQCcFRifhJa...</td>\n",
       "    </tr>\n",
       "    <tr>\n",
       "      <th>201</th>\n",
       "      <td>201</td>\n",
       "      <td>[192]</td>\n",
       "      <td>194.0</td>\n",
       "      <td>Inner+r=194+d=PmDSUBN3853+uid=DuG4zEcDWKJ-uhqd...</td>\n",
       "      <td>192</td>\n",
       "      <td>Inner+r=194+d=PmDSUBN3853+uid=DuG4zEcDWKJ-uhqd...</td>\n",
       "    </tr>\n",
       "    <tr>\n",
       "      <th>...</th>\n",
       "      <td>...</td>\n",
       "      <td>...</td>\n",
       "      <td>...</td>\n",
       "      <td>...</td>\n",
       "      <td>...</td>\n",
       "      <td>...</td>\n",
       "    </tr>\n",
       "    <tr>\n",
       "      <th>535</th>\n",
       "      <td>535</td>\n",
       "      <td>[338]</td>\n",
       "      <td>201.0</td>\n",
       "      <td>20126</td>\n",
       "      <td>338</td>\n",
       "      <td>20126</td>\n",
       "    </tr>\n",
       "    <tr>\n",
       "      <th>536</th>\n",
       "      <td>536</td>\n",
       "      <td>[338]</td>\n",
       "      <td>201.0</td>\n",
       "      <td>20175</td>\n",
       "      <td>338</td>\n",
       "      <td>20175</td>\n",
       "    </tr>\n",
       "    <tr>\n",
       "      <th>537</th>\n",
       "      <td>537</td>\n",
       "      <td>[338]</td>\n",
       "      <td>201.0</td>\n",
       "      <td>20127</td>\n",
       "      <td>338</td>\n",
       "      <td>20127</td>\n",
       "    </tr>\n",
       "    <tr>\n",
       "      <th>538</th>\n",
       "      <td>538</td>\n",
       "      <td>[338]</td>\n",
       "      <td>201.0</td>\n",
       "      <td>20173</td>\n",
       "      <td>338</td>\n",
       "      <td>20173</td>\n",
       "    </tr>\n",
       "    <tr>\n",
       "      <th>539</th>\n",
       "      <td>539</td>\n",
       "      <td>[221]</td>\n",
       "      <td>201.0</td>\n",
       "      <td>20113</td>\n",
       "      <td>221</td>\n",
       "      <td>20113</td>\n",
       "    </tr>\n",
       "  </tbody>\n",
       "</table>\n",
       "<p>152 rows × 6 columns</p>\n",
       "</div>"
      ],
      "text/plain": [
       "      id ancestor_list  origin_time  \\\n",
       "0      0        [none]          0.0   \n",
       "191  191           [0]        190.0   \n",
       "192  192         [191]        191.0   \n",
       "195  195         [192]        192.0   \n",
       "201  201         [192]        194.0   \n",
       "..   ...           ...          ...   \n",
       "535  535         [338]        201.0   \n",
       "536  536         [338]        201.0   \n",
       "537  537         [338]        201.0   \n",
       "538  538         [338]        201.0   \n",
       "539  539         [221]        201.0   \n",
       "\n",
       "                                           taxon_label  ancestor_id  \\\n",
       "0                                                 Root            0   \n",
       "191  Inner+r=190+d=P44mOZldFbU+uid=CQZwTDZdYLbkbj25...            0   \n",
       "192  Inner+r=191+d=PqM7X7tVEKi+uid=W2OgOnMkw0ywTnBl...          191   \n",
       "195  Inner+r=192+d=Pnbd8HxjHhA+uid=BtP61MQCcFRifhJa...          192   \n",
       "201  Inner+r=194+d=PmDSUBN3853+uid=DuG4zEcDWKJ-uhqd...          192   \n",
       "..                                                 ...          ...   \n",
       "535                                              20126          338   \n",
       "536                                              20175          338   \n",
       "537                                              20127          338   \n",
       "538                                              20173          338   \n",
       "539                                              20113          221   \n",
       "\n",
       "                                                  name  \n",
       "0                                                 Root  \n",
       "191  Inner+r=190+d=P44mOZldFbU+uid=CQZwTDZdYLbkbj25...  \n",
       "192  Inner+r=191+d=PqM7X7tVEKi+uid=W2OgOnMkw0ywTnBl...  \n",
       "195  Inner+r=192+d=Pnbd8HxjHhA+uid=BtP61MQCcFRifhJa...  \n",
       "201  Inner+r=194+d=PmDSUBN3853+uid=DuG4zEcDWKJ-uhqd...  \n",
       "..                                                 ...  \n",
       "535                                              20126  \n",
       "536                                              20175  \n",
       "537                                              20127  \n",
       "538                                              20173  \n",
       "539                                              20113  \n",
       "\n",
       "[152 rows x 6 columns]"
      ]
     },
     "execution_count": 11,
     "metadata": {},
     "output_type": "execute_result"
    }
   ],
   "source": [
    "extant_nodes = [individual.history_index for individual in population]\n",
    "reconstructed_df = hstrat.build_tree(\n",
    "    [individual.species_annotation for individual in population],\n",
    "    version_pin=hstrat.__version__,\n",
    "    force_common_ancestry=True,\n",
    "    taxon_labels=map(str, extant_nodes),\n",
    ")\n",
    "reconstructed_df[\"name\"] = reconstructed_df[\"taxon_label\"]\n",
    "reconstructed_df.to_csv(\n",
    "    kn.pack(\n",
    "        {\n",
    "            \"a\": \"phylogeny\",\n",
    "            \"notebook\": \"species-inference\",\n",
    "            \"replicate\": str(MILL_REPLICATE),\n",
    "            \"treatment\": MILL_TREATMENT_NAME,\n",
    "            \"type\": \"reconstruction\",\n",
    "            \"ext\": \".csv\",\n",
    "        }\n",
    "    )\n",
    ")\n",
    "reconstructed_df\n"
   ]
  },
  {
   "cell_type": "code",
   "execution_count": 12,
   "id": "704a7823",
   "metadata": {
    "execution": {
     "iopub.execute_input": "2023-05-24T02:24:01.260918Z",
     "iopub.status.busy": "2023-05-24T02:24:01.259503Z",
     "iopub.status.idle": "2023-05-24T02:24:06.301672Z",
     "shell.execute_reply": "2023-05-24T02:24:06.303595Z"
    },
    "papermill": {
     "duration": 5.107313,
     "end_time": "2023-05-24T02:24:06.303897",
     "exception": false,
     "start_time": "2023-05-24T02:24:01.196584",
     "status": "completed"
    },
    "tags": []
   },
   "outputs": [
    {
     "name": "stdout",
     "output_type": "stream",
     "text": [
      "teeplots/./notebook=species-inference+replicate=6+treatment=bag+type=reconstruction+viz=draw-biopython-tree+ext=.pdf\n"
     ]
    },
    {
     "name": "stdout",
     "output_type": "stream",
     "text": [
      "teeplots/./notebook=species-inference+replicate=6+treatment=bag+type=reconstruction+viz=draw-biopython-tree+ext=.png\n"
     ]
    },
    {
     "data": {
      "image/png": "[encoded data removed]",
      "text/plain": [
       "<Figure size 468x288 with 1 Axes>"
      ]
     },
     "metadata": {
      "needs_background": "light"
     },
     "output_type": "display_data"
    }
   ],
   "source": [
    "reconstructed_tree = apc.alife_dataframe_to_biopython_tree(\n",
    "    reconstructed_df, setup_branch_lengths=True\n",
    ")\n",
    "BioPhylo.write(\n",
    "    reconstructed_tree,\n",
    "    kn.pack(\n",
    "        {\n",
    "            \"a\": \"phylogeny\",\n",
    "            \"notebook\": \"species-inference\",\n",
    "            \"replicate\": str(MILL_REPLICATE),\n",
    "            \"treatment\": MILL_TREATMENT_NAME,\n",
    "            \"type\": \"reconstruction\",\n",
    "            \"ext\": \".nwk\",\n",
    "        }\n",
    "    ),\n",
    "    'newick',\n",
    ")\n",
    "tp.tee(\n",
    "    pylib.tree.draw_biopython_tree,\n",
    "    reconstructed_tree,\n",
    "    teeplot_outattrs={\n",
    "        \"notebook\": \"species-inference\",\n",
    "        \"replicate\": str(MILL_REPLICATE),\n",
    "        \"treatment\": MILL_TREATMENT_NAME,\n",
    "        \"type\": \"reconstruction\",\n",
    "    },\n",
    ")\n"
   ]
  },
  {
   "cell_type": "code",
   "execution_count": 13,
   "id": "14dd9eb7",
   "metadata": {
    "execution": {
     "iopub.execute_input": "2023-05-24T02:24:06.468770Z",
     "iopub.status.busy": "2023-05-24T02:24:06.467410Z",
     "iopub.status.idle": "2023-05-24T02:24:10.172485Z",
     "shell.execute_reply": "2023-05-24T02:24:10.173617Z"
    },
    "papermill": {
     "duration": 3.805807,
     "end_time": "2023-05-24T02:24:10.173973",
     "exception": false,
     "start_time": "2023-05-24T02:24:06.368166",
     "status": "completed"
    },
    "tags": []
   },
   "outputs": [
    {
     "name": "stdout",
     "output_type": "stream",
     "text": [
      "teeplots/./drop_overlapping_labels=true+notebook=species-inference+replicate=6+treatment=bag+type=reconstruction+viz=draw-biopython-tree+ext=.pdf\n"
     ]
    },
    {
     "name": "stdout",
     "output_type": "stream",
     "text": [
      "teeplots/./drop_overlapping_labels=true+notebook=species-inference+replicate=6+treatment=bag+type=reconstruction+viz=draw-biopython-tree+ext=.png\n"
     ]
    },
    {
     "data": {
      "image/png": "[encoded data removed]",
      "text/plain": [
       "<Figure size 650x400 with 1 Axes>"
      ]
     },
     "metadata": {},
     "output_type": "display_data"
    }
   ],
   "source": [
    "reconstructed_tree = apc.alife_dataframe_to_biopython_tree(\n",
    "    reconstructed_df, setup_branch_lengths=True\n",
    ")\n",
    "tp.tee(\n",
    "    pylib.tree.draw_biopython_tree,\n",
    "    reconstructed_tree,\n",
    "    drop_overlapping_labels=True,\n",
    "    teeplot_outattrs={\n",
    "        \"drop_overlapping_labels\": \"true\",\n",
    "        \"notebook\": \"species-inference\",\n",
    "        \"replicate\": str(MILL_REPLICATE),\n",
    "        \"treatment\": MILL_TREATMENT_NAME,\n",
    "        \"type\": \"reconstruction\",\n",
    "    },\n",
    ")\n"
   ]
  },
  {
   "cell_type": "code",
   "execution_count": 14,
   "id": "fd3c7027",
   "metadata": {
    "execution": {
     "iopub.execute_input": "2023-05-24T02:24:10.339875Z",
     "iopub.status.busy": "2023-05-24T02:24:10.335923Z",
     "iopub.status.idle": "2023-05-24T02:24:12.958145Z",
     "shell.execute_reply": "2023-05-24T02:24:12.959790Z"
    },
    "papermill": {
     "duration": 2.709469,
     "end_time": "2023-05-24T02:24:12.960114",
     "exception": false,
     "start_time": "2023-05-24T02:24:10.250645",
     "status": "completed"
    },
    "tags": []
   },
   "outputs": [
    {
     "name": "stdout",
     "output_type": "stream",
     "text": [
      "teeplots/./max_leaves=20+notebook=species-inference+replicate=6+treatment=bag+type=reconstruction+viz=draw-biopython-tree+ext=.pdf\n"
     ]
    },
    {
     "name": "stdout",
     "output_type": "stream",
     "text": [
      "teeplots/./max_leaves=20+notebook=species-inference+replicate=6+treatment=bag+type=reconstruction+viz=draw-biopython-tree+ext=.png\n"
     ]
    },
    {
     "data": {
      "image/png": "[encoded data removed]",
      "text/plain": [
       "<Figure size 650x400 with 1 Axes>"
      ]
     },
     "metadata": {},
     "output_type": "display_data"
    }
   ],
   "source": [
    "reconstructed_tree = apc.alife_dataframe_to_biopython_tree(\n",
    "    reconstructed_df, setup_branch_lengths=True\n",
    ")\n",
    "tp.tee(\n",
    "    pylib.tree.draw_biopython_tree,\n",
    "    reconstructed_tree,\n",
    "    max_leaves=20,\n",
    "    teeplot_outattrs={\n",
    "        \"max_leaves\": \"20\",\n",
    "        \"notebook\": \"species-inference\",\n",
    "        \"replicate\": str(MILL_REPLICATE),\n",
    "        \"treatment\": MILL_TREATMENT_NAME,\n",
    "        \"type\": \"reconstruction\",\n",
    "    },\n",
    ")\n"
   ]
  },
  {
   "cell_type": "markdown",
   "id": "89bed397",
   "metadata": {
    "papermill": {
     "duration": 0.082654,
     "end_time": "2023-05-24T02:24:13.159382",
     "exception": false,
     "start_time": "2023-05-24T02:24:13.076728",
     "status": "completed"
    },
    "tags": []
   },
   "source": [
    "# Actual Pedigree\n"
   ]
  },
  {
   "cell_type": "code",
   "execution_count": 15,
   "id": "15688603",
   "metadata": {
    "execution": {
     "iopub.execute_input": "2023-05-24T02:24:13.330160Z",
     "iopub.status.busy": "2023-05-24T02:24:13.328800Z",
     "iopub.status.idle": "2023-05-24T02:24:31.618480Z",
     "shell.execute_reply": "2023-05-24T02:24:31.619533Z"
    },
    "papermill": {
     "duration": 18.377498,
     "end_time": "2023-05-24T02:24:31.619829",
     "exception": false,
     "start_time": "2023-05-24T02:24:13.242331",
     "status": "completed"
    },
    "tags": []
   },
   "outputs": [
    {
     "data": {
      "text/plain": [
       "1"
      ]
     },
     "execution_count": 15,
     "metadata": {},
     "output_type": "execute_result"
    }
   ],
   "source": [
    "distilled_tree = pylib.deap.history_to_tree_upgma(history, extant_nodes)\n",
    "BioPhylo.write(\n",
    "    distilled_tree,\n",
    "    kn.pack(\n",
    "        {\n",
    "            \"a\": \"phylogeny\",\n",
    "            \"notebook\": \"species-inference\",\n",
    "            \"replicate\": str(MILL_REPLICATE),\n",
    "            \"treatment\": MILL_TREATMENT_NAME,\n",
    "            \"type\": \"distilled-pedigree\",\n",
    "            \"ext\": \".nwk\",\n",
    "        }\n",
    "    ),\n",
    "    'newick',\n",
    ")\n"
   ]
  },
  {
   "cell_type": "code",
   "execution_count": 16,
   "id": "0dd72796",
   "metadata": {
    "execution": {
     "iopub.execute_input": "2023-05-24T02:24:31.799824Z",
     "iopub.status.busy": "2023-05-24T02:24:31.798297Z",
     "iopub.status.idle": "2023-05-24T02:24:38.146451Z",
     "shell.execute_reply": "2023-05-24T02:24:38.148193Z"
    },
    "papermill": {
     "duration": 6.454204,
     "end_time": "2023-05-24T02:24:38.148501",
     "exception": false,
     "start_time": "2023-05-24T02:24:31.694297",
     "status": "completed"
    },
    "tags": []
   },
   "outputs": [
    {
     "name": "stdout",
     "output_type": "stream",
     "text": [
      "teeplots/./notebook=species-inference+replicate=6+treatment=bag+type=distilled-reference+viz=draw-biopython-tree+ext=.pdf\n"
     ]
    },
    {
     "name": "stdout",
     "output_type": "stream",
     "text": [
      "teeplots/./notebook=species-inference+replicate=6+treatment=bag+type=distilled-reference+viz=draw-biopython-tree+ext=.png\n"
     ]
    },
    {
     "data": {
      "image/png": "[encoded data removed]",
      "text/plain": [
       "<Figure size 650x400 with 1 Axes>"
      ]
     },
     "metadata": {},
     "output_type": "display_data"
    }
   ],
   "source": [
    "tp.tee(\n",
    "    pylib.tree.draw_biopython_tree,\n",
    "    distilled_tree,\n",
    "    teeplot_outattrs={\n",
    "        \"notebook\": \"species-inference\",\n",
    "        \"replicate\": str(MILL_REPLICATE),\n",
    "        \"treatment\": MILL_TREATMENT_NAME,\n",
    "        \"type\": \"distilled-reference\",\n",
    "    },\n",
    ")\n"
   ]
  },
  {
   "cell_type": "code",
   "execution_count": 17,
   "id": "3f186139",
   "metadata": {
    "execution": {
     "iopub.execute_input": "2023-05-24T02:24:38.349517Z",
     "iopub.status.busy": "2023-05-24T02:24:38.343676Z",
     "iopub.status.idle": "2023-05-24T02:24:40.890818Z",
     "shell.execute_reply": "2023-05-24T02:24:40.891808Z"
    },
    "papermill": {
     "duration": 2.648579,
     "end_time": "2023-05-24T02:24:40.892087",
     "exception": false,
     "start_time": "2023-05-24T02:24:38.243508",
     "status": "completed"
    },
    "tags": []
   },
   "outputs": [
    {
     "name": "stdout",
     "output_type": "stream",
     "text": [
      "teeplots/./max_leaves=20+notebook=species-inference+replicate=6+treatment=bag+type=distilled-reference+viz=draw-biopython-tree+ext=.pdf\n"
     ]
    },
    {
     "name": "stdout",
     "output_type": "stream",
     "text": [
      "teeplots/./max_leaves=20+notebook=species-inference+replicate=6+treatment=bag+type=distilled-reference+viz=draw-biopython-tree+ext=.png\n"
     ]
    },
    {
     "data": {
      "image/png": "[encoded data removed]",
      "text/plain": [
       "<Figure size 650x400 with 1 Axes>"
      ]
     },
     "metadata": {},
     "output_type": "display_data"
    }
   ],
   "source": [
    "tp.tee(\n",
    "    pylib.tree.draw_biopython_tree,\n",
    "    distilled_tree,\n",
    "    max_leaves=20,\n",
    "    teeplot_outattrs={\n",
    "        \"max_leaves\": \"20\",\n",
    "        \"notebook\": \"species-inference\",\n",
    "        \"replicate\": str(MILL_REPLICATE),\n",
    "        \"treatment\": MILL_TREATMENT_NAME,\n",
    "        \"type\": \"distilled-reference\",\n",
    "    },\n",
    ")\n"
   ]
  },
  {
   "cell_type": "code",
   "execution_count": 18,
   "id": "d417d72f",
   "metadata": {
    "execution": {
     "iopub.execute_input": "2023-05-24T02:24:41.079354Z",
     "iopub.status.busy": "2023-05-24T02:24:41.077986Z",
     "iopub.status.idle": "2023-05-24T02:24:44.570450Z",
     "shell.execute_reply": "2023-05-24T02:24:44.571500Z"
    },
    "papermill": {
     "duration": 3.594625,
     "end_time": "2023-05-24T02:24:44.571800",
     "exception": false,
     "start_time": "2023-05-24T02:24:40.977175",
     "status": "completed"
    },
    "tags": []
   },
   "outputs": [
    {
     "name": "stdout",
     "output_type": "stream",
     "text": [
      "teeplots/./drop_overlapping_labels=true+notebook=species-inference+replicate=6+treatment=bag+type=distilled-reference+viz=draw-biopython-tree+ext=.pdf\n"
     ]
    },
    {
     "name": "stdout",
     "output_type": "stream",
     "text": [
      "teeplots/./drop_overlapping_labels=true+notebook=species-inference+replicate=6+treatment=bag+type=distilled-reference+viz=draw-biopython-tree+ext=.png\n"
     ]
    },
    {
     "data": {
      "image/png": "[encoded data removed]",
      "text/plain": [
       "<Figure size 650x400 with 1 Axes>"
      ]
     },
     "metadata": {},
     "output_type": "display_data"
    }
   ],
   "source": [
    "tp.tee(\n",
    "    pylib.tree.draw_biopython_tree,\n",
    "    distilled_tree,\n",
    "    drop_overlapping_labels=True,\n",
    "    teeplot_outattrs={\n",
    "        \"drop_overlapping_labels\": \"true\",\n",
    "        \"notebook\": \"species-inference\",\n",
    "        \"replicate\": str(MILL_REPLICATE),\n",
    "        \"treatment\": MILL_TREATMENT_NAME,\n",
    "        \"type\": \"distilled-reference\",\n",
    "    },\n",
    ")\n"
   ]
  },
  {
   "cell_type": "code",
   "execution_count": 19,
   "id": "b08baba0",
   "metadata": {
    "execution": {
     "iopub.execute_input": "2023-05-24T02:24:44.786685Z",
     "iopub.status.busy": "2023-05-24T02:24:44.785299Z",
     "iopub.status.idle": "2023-05-24T02:25:04.375974Z",
     "shell.execute_reply": "2023-05-24T02:25:04.376708Z"
    },
    "papermill": {
     "duration": 19.706222,
     "end_time": "2023-05-24T02:25:04.376943",
     "exception": false,
     "start_time": "2023-05-24T02:24:44.670721",
     "status": "completed"
    },
    "tags": []
   },
   "outputs": [
    {
     "data": {
      "text/plain": [
       "0.5154988555872209"
      ]
     },
     "execution_count": 19,
     "metadata": {},
     "output_type": "execute_result"
    }
   ],
   "source": [
    "distilled_tree = pylib.deap.history_to_tree_upgma(\n",
    "    history, extant_nodes, correct_origin_times=False\n",
    ")\n",
    "BioPhylo.write(\n",
    "    distilled_tree,\n",
    "    kn.pack(\n",
    "        {\n",
    "            \"a\": \"phylogeny\",\n",
    "            \"notebook\": \"species-inference\",\n",
    "            \"replicate\": str(MILL_REPLICATE),\n",
    "            \"treatment\": MILL_TREATMENT_NAME,\n",
    "            \"type\": \"distilled-pedigree-uncorrected\",\n",
    "            \"ext\": \".nwk\",\n",
    "        }\n",
    "    ),\n",
    "    'newick',\n",
    ")\n",
    "\n",
    "quartet_dist = pylib.tree.polymorphic_quartet_distance(\n",
    "    reconstructed_tree, distilled_tree\n",
    ")\n",
    "quartet_dist\n"
   ]
  },
  {
   "cell_type": "code",
   "execution_count": 20,
   "id": "2b8648fc",
   "metadata": {
    "execution": {
     "iopub.execute_input": "2023-05-24T02:25:04.493734Z",
     "iopub.status.busy": "2023-05-24T02:25:04.492772Z",
     "iopub.status.idle": "2023-05-24T02:25:04.501416Z",
     "shell.execute_reply": "2023-05-24T02:25:04.501888Z"
    },
    "papermill": {
     "duration": 0.058647,
     "end_time": "2023-05-24T02:25:04.502061",
     "exception": false,
     "start_time": "2023-05-24T02:25:04.443414",
     "status": "completed"
    },
    "tags": []
   },
   "outputs": [
    {
     "data": {
      "text/html": [
       "<div>\n",
       "<style scoped>\n",
       "    .dataframe tbody tr th:only-of-type {\n",
       "        vertical-align: middle;\n",
       "    }\n",
       "\n",
       "    .dataframe tbody tr th {\n",
       "        vertical-align: top;\n",
       "    }\n",
       "\n",
       "    .dataframe thead th {\n",
       "        text-align: right;\n",
       "    }\n",
       "</style>\n",
       "<table border=\"1\" class=\"dataframe\">\n",
       "  <thead>\n",
       "    <tr style=\"text-align: right;\">\n",
       "      <th></th>\n",
       "      <th>replicate</th>\n",
       "      <th>treatment</th>\n",
       "      <th>quartet distance</th>\n",
       "    </tr>\n",
       "  </thead>\n",
       "  <tbody>\n",
       "    <tr>\n",
       "      <th>0</th>\n",
       "      <td>6</td>\n",
       "      <td>bag</td>\n",
       "      <td>0.515499</td>\n",
       "    </tr>\n",
       "  </tbody>\n",
       "</table>\n",
       "</div>"
      ],
      "text/plain": [
       "   replicate treatment  quartet distance\n",
       "0          6       bag          0.515499"
      ]
     },
     "execution_count": 20,
     "metadata": {},
     "output_type": "execute_result"
    }
   ],
   "source": [
    "records = [\n",
    "    {\n",
    "        \"replicate\": MILL_REPLICATE,\n",
    "        \"treatment\": MILL_TREATMENT_NAME,\n",
    "        \"quartet distance\": quartet_dist,\n",
    "    }\n",
    "]\n",
    "outdf = pd.DataFrame.from_records(records)\n",
    "outdf.to_csv(\n",
    "    kn.pack(\n",
    "        {\n",
    "            \"a\": \"reconstruction-accuracy\",\n",
    "            \"notebook\": \"species-inference\",\n",
    "            \"replicate\": MILL_REPLICATE,\n",
    "            \"treatment\": MILL_TREATMENT_NAME,\n",
    "            \"ext\": \".csv\",\n",
    "        }\n",
    "    )\n",
    ")\n",
    "outdf\n"
   ]
  }
 ],
 "metadata": {
  "kernelspec": {
   "display_name": "Python 3",
   "language": "python",
   "name": "python3"
  },
  "language_info": {
   "codemirror_mode": {
    "name": "ipython",
    "version": 3
   },
   "file_extension": ".py",
   "mimetype": "text/x-python",
   "name": "python",
   "nbconvert_exporter": "python",
   "pygments_lexer": "ipython3",
   "version": "3.10.6"
  },
  "papermill": {
   "default_parameters": {},
   "duration": 711.580297,
   "end_time": "2023-05-24T02:25:07.183797",
   "environment_variables": {},
   "exception": null,
   "input_path": "species-inference.ipynb",
   "output_path": "species-inference-parameterization-6.ipynb",
   "parameters": {
    "MILL_REPLICATE": 6,
    "MILL_TREATMENT_NAME": "bag"
   },
   "start_time": "2023-05-24T02:13:15.603500",
   "version": "2.4.0"
  }
 },
 "nbformat": 4,
 "nbformat_minor": 5
}