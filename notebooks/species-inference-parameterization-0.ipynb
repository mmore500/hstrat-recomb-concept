{
 "cells": [
  {
   "cell_type": "code",
   "execution_count": 1,
   "id": "f0d8d2ca",
   "metadata": {
    "execution": {
     "iopub.execute_input": "2023-05-24T02:35:02.255250Z",
     "iopub.status.busy": "2023-05-24T02:35:02.253875Z",
     "iopub.status.idle": "2023-05-24T02:35:04.519387Z",
     "shell.execute_reply": "2023-05-24T02:35:04.520597Z"
    },
    "papermill": {
     "duration": 2.3227,
     "end_time": "2023-05-24T02:35:04.521030",
     "exception": false,
     "start_time": "2023-05-24T02:35:02.198330",
     "status": "completed"
    },
    "tags": []
   },
   "outputs": [],
   "source": [
    "import endomill\n",
    "import yaml\n"
   ]
  },
  {
   "cell_type": "code",
   "execution_count": 2,
   "id": "c82e5024",
   "metadata": {
    "execution": {
     "iopub.execute_input": "2023-05-24T02:35:04.656234Z",
     "iopub.status.busy": "2023-05-24T02:35:04.654743Z",
     "iopub.status.idle": "2023-05-24T02:35:04.686079Z",
     "shell.execute_reply": "2023-05-24T02:35:04.687143Z"
    },
    "papermill": {
     "duration": 0.110852,
     "end_time": "2023-05-24T02:35:04.687479",
     "exception": false,
     "start_time": "2023-05-24T02:35:04.576627",
     "status": "completed"
    },
    "tags": []
   },
   "outputs": [],
   "source": [
    "parameter_packs = [\n",
    "    {\n",
    "        \"MILL_TREATMENT_NAME\": treatment,\n",
    "        \"MILL_REPLICATE\": replicate,\n",
    "    }\n",
    "    for treatment in [\"bag\", \"ring\", \"allopatry\"]\n",
    "    for replicate in range(10)\n",
    "]\n",
    "\n",
    "\n",
    "for i, pp in enumerate(parameter_packs):\n",
    "    with open(f\"species-inference-parameterization-{i}.yaml\", \"w\") as file:\n",
    "        yaml.safe_dump(pp, file)\n",
    "# endomill.instantiate_over(parameter_packs=parameter_packs)\n"
   ]
  },
  {
   "cell_type": "markdown",
   "id": "909fdf07",
   "metadata": {
    "papermill": {
     "duration": 0.050443,
     "end_time": "2023-05-24T02:35:04.789061",
     "exception": false,
     "start_time": "2023-05-24T02:35:04.738618",
     "status": "completed"
    },
    "tags": []
   },
   "source": [
    "# Papermill Parameters\n"
   ]
  },
  {
   "cell_type": "code",
   "execution_count": 3,
   "id": "c251b0dd",
   "metadata": {
    "execution": {
     "iopub.execute_input": "2023-05-24T02:35:04.903993Z",
     "iopub.status.busy": "2023-05-24T02:35:04.901928Z",
     "iopub.status.idle": "2023-05-24T02:35:04.911850Z",
     "shell.execute_reply": "2023-05-24T02:35:04.910439Z"
    },
    "papermill": {
     "duration": 0.068753,
     "end_time": "2023-05-24T02:35:04.912134",
     "exception": false,
     "start_time": "2023-05-24T02:35:04.843381",
     "status": "completed"
    },
    "tags": [
     "parameters"
    ]
   },
   "outputs": [],
   "source": [
    "MILL_TREATMENT_NAME: str\n",
    "MILL_REPLICATE: int\n"
   ]
  },
  {
   "cell_type": "code",
   "execution_count": 4,
   "id": "7b983ef7",
   "metadata": {
    "execution": {
     "iopub.execute_input": "2023-05-24T02:35:05.035480Z",
     "iopub.status.busy": "2023-05-24T02:35:05.034103Z",
     "iopub.status.idle": "2023-05-24T02:35:05.036897Z",
     "shell.execute_reply": "2023-05-24T02:35:05.037957Z"
    },
    "papermill": {
     "duration": 0.065533,
     "end_time": "2023-05-24T02:35:05.038275",
     "exception": false,
     "start_time": "2023-05-24T02:35:04.972742",
     "status": "completed"
    },
    "tags": [
     "injected-parameters"
    ]
   },
   "outputs": [],
   "source": [
    "# Parameters\n",
    "MILL_REPLICATE = 0\n",
    "MILL_TREATMENT_NAME = \"bag\"\n"
   ]
  },
  {
   "cell_type": "markdown",
   "id": "e682df1c",
   "metadata": {
    "papermill": {
     "duration": 0.061214,
     "end_time": "2023-05-24T02:35:05.160537",
     "exception": false,
     "start_time": "2023-05-24T02:35:05.099323",
     "status": "completed"
    },
    "tags": []
   },
   "source": [
    "# Global Setup\n"
   ]
  },
  {
   "cell_type": "code",
   "execution_count": 5,
   "id": "d1ea9c9a",
   "metadata": {
    "execution": {
     "iopub.execute_input": "2023-05-24T02:35:05.284742Z",
     "iopub.status.busy": "2023-05-24T02:35:05.283283Z",
     "iopub.status.idle": "2023-05-24T02:35:13.243965Z",
     "shell.execute_reply": "2023-05-24T02:35:13.245125Z"
    },
    "papermill": {
     "duration": 8.029416,
     "end_time": "2023-05-24T02:35:13.245453",
     "exception": false,
     "start_time": "2023-05-24T02:35:05.216037",
     "status": "completed"
    },
    "tags": []
   },
   "outputs": [],
   "source": [
    "import copy\n",
    "import math\n",
    "import itertools as it\n",
    "import typing\n",
    "import random\n",
    "\n",
    "import alifedata_phyloinformatics_convert as apc\n",
    "from Bio import Phylo as BioPhylo\n",
    "from deap import algorithms as deap_algorithms\n",
    "from deap import base as deap_base\n",
    "from deap import creator as deap_creator\n",
    "from deap import tools as deap_tools\n",
    "\n",
    "from hstrat import hstrat\n",
    "from iterpop import iterpop as ip\n",
    "from keyname import keyname as kn\n",
    "from matplotlib import pyplot as plt\n",
    "from nbmetalog import nbmetalog as nbm\n",
    "import numpy as np\n",
    "import pandas as pd\n",
    "from scipy import stats as scipy_stats\n",
    "import seaborn as sns\n",
    "import sympy\n",
    "from teeplot import teeplot as tp\n",
    "from tqdm import tqdm\n",
    "\n",
    "import pylib\n"
   ]
  },
  {
   "cell_type": "code",
   "execution_count": 6,
   "id": "f866c80d",
   "metadata": {
    "execution": {
     "iopub.execute_input": "2023-05-24T02:35:13.369826Z",
     "iopub.status.busy": "2023-05-24T02:35:13.368432Z",
     "iopub.status.idle": "2023-05-24T02:35:13.376598Z",
     "shell.execute_reply": "2023-05-24T02:35:13.378876Z"
    },
    "papermill": {
     "duration": 0.075348,
     "end_time": "2023-05-24T02:35:13.379222",
     "exception": false,
     "start_time": "2023-05-24T02:35:13.303874",
     "status": "completed"
    },
    "tags": []
   },
   "outputs": [],
   "source": [
    "random.seed(MILL_REPLICATE)\n"
   ]
  },
  {
   "cell_type": "code",
   "execution_count": 7,
   "id": "699c29c4",
   "metadata": {
    "execution": {
     "iopub.execute_input": "2023-05-24T02:35:13.515345Z",
     "iopub.status.busy": "2023-05-24T02:35:13.512533Z",
     "iopub.status.idle": "2023-05-24T02:35:15.064054Z",
     "shell.execute_reply": "2023-05-24T02:35:15.063352Z"
    },
    "papermill": {
     "duration": 1.6262,
     "end_time": "2023-05-24T02:35:15.064257",
     "exception": false,
     "start_time": "2023-05-24T02:35:13.438057",
     "status": "completed"
    },
    "tags": []
   },
   "outputs": [
    {
     "name": "stdout",
     "output_type": "stream",
     "text": [
      "context: local\n",
      "hostname: thinkpad\n",
      "interpreter: 3.10.6 (main, Mar 10 2023, 10:55:28) [GCC 11.3.0]\n",
      "nbcellexec: null\n",
      "nbname: None\n",
      "nbpath: None\n",
      "revision: null\n",
      "session: 741d54dc-ea3e-488c-9e10-7bcfa76660de\n",
      "timestamp: 2023-05-23T19:35:14Z00:00\n",
      "\n",
      "\n"
     ]
    },
    {
     "name": "stdout",
     "output_type": "stream",
     "text": [
      "IPython==7.31.1\n",
      "keyname==0.5.2\n",
      "yaml==6.0\n",
      "Bio==1.79\n",
      "alifedata_phyloinformatics_convert==0.13.0\n",
      "deap==1.3\n",
      "endomill==0.1.3\n",
      "hstrat==1.6.1\n",
      "iterpop==0.4.1\n",
      "matplotlib==3.6.2\n",
      "nbmetalog==0.2.6\n",
      "numpy==1.23.5\n",
      "pandas==1.5.2\n",
      "scipy==1.10.1\n",
      "seaborn==0.12.1\n",
      "sympy==1.9\n",
      "teeplot==0.5.0\n",
      "re==2.2.1\n",
      "debugpy==1.6.6\n",
      "logging==0.5.1.2\n",
      "psutil==5.9.0\n",
      "zmq==22.3.0\n",
      "json==2.0.9\n",
      "ipykernel==6.7.0\n"
     ]
    }
   ],
   "source": [
    "nbm.print_metadata()\n"
   ]
  },
  {
   "cell_type": "markdown",
   "id": "a5acb617",
   "metadata": {
    "papermill": {
     "duration": 0.039123,
     "end_time": "2023-05-24T02:35:15.142733",
     "exception": false,
     "start_time": "2023-05-24T02:35:15.103610",
     "status": "completed"
    },
    "tags": []
   },
   "source": [
    "# Parameters\n"
   ]
  },
  {
   "cell_type": "code",
   "execution_count": 8,
   "id": "d1cafe10",
   "metadata": {
    "execution": {
     "iopub.execute_input": "2023-05-24T02:35:15.227251Z",
     "iopub.status.busy": "2023-05-24T02:35:15.225799Z",
     "iopub.status.idle": "2023-05-24T02:35:15.229583Z",
     "shell.execute_reply": "2023-05-24T02:35:15.228700Z"
    },
    "papermill": {
     "duration": 0.048386,
     "end_time": "2023-05-24T02:35:15.229787",
     "exception": false,
     "start_time": "2023-05-24T02:35:15.181401",
     "status": "completed"
    },
    "tags": []
   },
   "outputs": [],
   "source": [
    "HSTRAT_DIFFERENTIA_WIDTH = 64\n",
    "NGEN = 200\n",
    "NPOP = 100\n",
    "NTOURN = 2\n"
   ]
  },
  {
   "cell_type": "markdown",
   "id": "447ccf9e",
   "metadata": {
    "papermill": {
     "duration": 0.10581,
     "end_time": "2023-05-24T02:35:15.384901",
     "exception": false,
     "start_time": "2023-05-24T02:35:15.279091",
     "status": "completed"
    },
    "tags": []
   },
   "source": [
    "# Setup\n"
   ]
  },
  {
   "cell_type": "code",
   "execution_count": 9,
   "id": "726c406f",
   "metadata": {
    "execution": {
     "iopub.execute_input": "2023-05-24T02:35:15.513425Z",
     "iopub.status.busy": "2023-05-24T02:35:15.496937Z",
     "iopub.status.idle": "2023-05-24T02:35:15.518305Z",
     "shell.execute_reply": "2023-05-24T02:35:15.516968Z"
    },
    "papermill": {
     "duration": 0.079644,
     "end_time": "2023-05-24T02:35:15.518611",
     "exception": false,
     "start_time": "2023-05-24T02:35:15.438967",
     "status": "completed"
    },
    "tags": []
   },
   "outputs": [],
   "source": [
    "deap_creator.create(\"FitnessMax\", deap_base.Fitness, weights=(1.0,))\n",
    "deap_creator.create(\"Individual\", list, fitness=deap_creator.FitnessMax)\n",
    "\n",
    "toolbox = deap_base.Toolbox()\n",
    "\n",
    "toolbox.register(\"attr_bool\", random.randint, 0, 1)\n",
    "toolbox.register(\n",
    "    \"individual\",\n",
    "    deap_tools.initRepeat,\n",
    "    deap_creator.Individual,\n",
    "    toolbox.attr_bool,\n",
    "    n=100,\n",
    ")\n",
    "toolbox.register(\"population\", deap_tools.initRepeat, list, toolbox.individual)\n",
    "\n",
    "\n",
    "def evalOneMax(individual):\n",
    "    return (sum(individual),)\n",
    "\n",
    "\n",
    "toolbox.register(\"evaluate\", evalOneMax)\n",
    "toolbox.register(\"mate\", deap_tools.cxTwoPoint)\n",
    "toolbox.register(\"mutate\", deap_tools.mutFlipBit, indpb=0.05)\n",
    "toolbox.register(\"select\", deap_tools.selTournament, tournsize=NTOURN)\n",
    "\n",
    "# Decorate the variation operators\n",
    "history = deap_tools.History()\n",
    "toolbox.decorate(\"mate\", history.decorator)\n",
    "\n",
    "toolbox.decorate(\"mate\", pylib.deap.hstrat_mate_decorator)\n"
   ]
  },
  {
   "cell_type": "markdown",
   "id": "14b84361",
   "metadata": {
    "papermill": {
     "duration": 0.059093,
     "end_time": "2023-05-24T02:35:15.637871",
     "exception": false,
     "start_time": "2023-05-24T02:35:15.578778",
     "status": "completed"
    },
    "tags": []
   },
   "source": [
    "# Evolve\n"
   ]
  },
  {
   "cell_type": "code",
   "execution_count": 10,
   "id": "98a1c1a4",
   "metadata": {
    "execution": {
     "iopub.execute_input": "2023-05-24T02:35:15.795948Z",
     "iopub.status.busy": "2023-05-24T02:35:15.775577Z",
     "iopub.status.idle": "2023-05-24T02:45:34.778331Z",
     "shell.execute_reply": "2023-05-24T02:45:34.779067Z"
    },
    "papermill": {
     "duration": 619.067424,
     "end_time": "2023-05-24T02:45:34.779292",
     "exception": false,
     "start_time": "2023-05-24T02:35:15.711868",
     "status": "completed"
    },
    "tags": []
   },
   "outputs": [],
   "source": [
    "# Create the population and populate the history\n",
    "population = toolbox.population(n=NPOP)\n",
    "\n",
    "species_ancestor = hstrat.HereditaryStratigraphicColumn(\n",
    "    stratum_retention_policy=hstrat.perfect_resolution_algo.Policy(),\n",
    "    stratum_differentia_bit_width=HSTRAT_DIFFERENTIA_WIDTH,\n",
    ")\n",
    "gene_ancestor = hstrat.HereditaryStratigraphicColumn(\n",
    "    stratum_retention_policy=hstrat.perfect_resolution_algo.Policy(),\n",
    "    stratum_differentia_bit_width=HSTRAT_DIFFERENTIA_WIDTH,\n",
    "    initial_stratum_annotation=0,\n",
    ")\n",
    "for member in population:\n",
    "    member.species_annotation = species_ancestor.CloneDescendant()\n",
    "    member.gene_annotation = gene_ancestor.CloneDescendant(0)\n",
    "\n",
    "history.update(population)\n",
    "\n",
    "# Do the evolution, the decorators will take care of updating the\n",
    "# history\n",
    "if MILL_TREATMENT_NAME == \"bag\":\n",
    "    for _gen in range(NGEN):\n",
    "        offspring = deap_algorithms.varAnd(\n",
    "            population,\n",
    "            toolbox,\n",
    "            cxpb=1.0,\n",
    "            mutpb=1.0,\n",
    "        )\n",
    "        fits = toolbox.map(toolbox.evaluate, offspring)\n",
    "        for fit, ind in zip(fits, offspring):\n",
    "            ind.fitness.values = fit\n",
    "        population = toolbox.select(offspring, k=NPOP)\n",
    "        population = [copy.deepcopy(ind) for ind in population]\n",
    "\n",
    "elif MILL_TREATMENT_NAME == \"ring\":\n",
    "    NUM_ISLANDS = 10\n",
    "    NUM_MIGRATIONS = 1\n",
    "    slice_size = len(population) // NUM_ISLANDS\n",
    "    for gen in tqdm(range(NGEN)):\n",
    "        for slice_ in pylib.util.iter_slices(len(population), slice_size):\n",
    "            subpopulation = population[slice_]\n",
    "            offspring = deap_algorithms.varAnd(\n",
    "                subpopulation, toolbox, cxpb=1.0, mutpb=1.0\n",
    "            )\n",
    "            fits = toolbox.map(toolbox.evaluate, offspring)\n",
    "            for fit, ind in zip(fits, offspring):\n",
    "                ind.fitness.values = fit\n",
    "            subpopulation = toolbox.select(offspring, k=len(subpopulation))\n",
    "            population[slice_] = [copy.deepcopy(ind) for ind in subpopulation]\n",
    "\n",
    "        for m in range(NUM_MIGRATIONS):\n",
    "            displacement = random.randrange(slice_size, 2 * slice_size)\n",
    "            a = random.randrange(len(population))\n",
    "            b = (a + displacement) % len(population)\n",
    "            population[a], population[b] = population[b], population[a]\n",
    "\n",
    "    from_subpopulations = []\n",
    "    for i in range(0, len(population), slice_size):\n",
    "        subpopulation = population[i : i + slice_size]\n",
    "        from_subpopulations.extend(subpopulation)\n",
    "    population = from_subpopulations\n",
    "\n",
    "elif MILL_TREATMENT_NAME == \"allopatry\":\n",
    "    # sympatry\n",
    "    for gen in tqdm(range(NGEN // 2)):\n",
    "        offspring = deap_algorithms.varAnd(\n",
    "            population, toolbox, cxpb=1.0, mutpb=1.0\n",
    "        )\n",
    "        fits = toolbox.map(toolbox.evaluate, offspring)\n",
    "\n",
    "        for fit, ind in zip(fits, offspring):\n",
    "            ind.fitness.values = fit\n",
    "        population = toolbox.select(offspring, k=len(population))\n",
    "        population = [copy.deepcopy(ind) for ind in population]\n",
    "\n",
    "    # two-island allopatry\n",
    "    slice_size = NPOP // 2\n",
    "    from_subpopulations = []\n",
    "    for i in range(0, len(population), slice_size):\n",
    "        subpopulation = population[i : i + slice_size]\n",
    "        for gen in tqdm(range(NGEN // 4)):\n",
    "            offspring = deap_algorithms.varAnd(\n",
    "                subpopulation, toolbox, cxpb=1.0, mutpb=1.0\n",
    "            )\n",
    "            fits = toolbox.map(toolbox.evaluate, offspring)\n",
    "            for fit, ind in zip(fits, offspring):\n",
    "                ind.fitness.values = fit\n",
    "            subpopulation = toolbox.select(offspring, k=len(subpopulation))\n",
    "            subpopulation = [copy.deepcopy(ind) for ind in subpopulation]\n",
    "\n",
    "        from_subpopulations.extend(subpopulation)\n",
    "    population = from_subpopulations\n",
    "\n",
    "    # three-island allopatry: left island\n",
    "    slice_size = NPOP // 2\n",
    "    from_subpopulations = []\n",
    "    for i in range(0, len(population) // 2, slice_size):\n",
    "        subpopulation = population[i : i + slice_size]\n",
    "        for gen in tqdm(range(NGEN // 4)):\n",
    "            offspring = deap_algorithms.varAnd(\n",
    "                subpopulation, toolbox, cxpb=1.0, mutpb=1.0\n",
    "            )\n",
    "            fits = toolbox.map(toolbox.evaluate, offspring)\n",
    "            for fit, ind in zip(fits, offspring):\n",
    "                ind.fitness.values = fit\n",
    "            subpopulation = toolbox.select(offspring, k=len(subpopulation))\n",
    "            subpopulation = [copy.deepcopy(ind) for ind in subpopulation]\n",
    "\n",
    "        from_subpopulations.extend(subpopulation)\n",
    "\n",
    "    # three-island allopatry: right five islands\n",
    "    slice_size = NPOP // 10\n",
    "    for i in range(len(population) // 2, len(population), slice_size):\n",
    "        subpopulation = population[i : i + slice_size]\n",
    "        for gen in tqdm(range(NGEN // 4)):\n",
    "            offspring = deap_algorithms.varAnd(\n",
    "                subpopulation, toolbox, cxpb=1.0, mutpb=1.0\n",
    "            )\n",
    "            fits = toolbox.map(toolbox.evaluate, offspring)\n",
    "            for fit, ind in zip(fits, offspring):\n",
    "                ind.fitness.values = fit\n",
    "            subpopulation = toolbox.select(offspring, k=len(subpopulation))\n",
    "            subpopulation = [copy.deepcopy(ind) for ind in subpopulation]\n",
    "\n",
    "        from_subpopulations.extend(subpopulation)\n",
    "\n",
    "    population = from_subpopulations\n",
    "\n",
    "else:\n",
    "    assert False, MILL_TREATMENT_NAME\n",
    "\n",
    "# ensure all extant organisms registered with phylogeny tracker\n",
    "for x in population:\n",
    "    history.update([x])\n"
   ]
  },
  {
   "cell_type": "markdown",
   "id": "83f20ecf",
   "metadata": {
    "papermill": {
     "duration": 0.031324,
     "end_time": "2023-05-24T02:45:34.843378",
     "exception": false,
     "start_time": "2023-05-24T02:45:34.812054",
     "status": "completed"
    },
    "tags": []
   },
   "source": [
    "# Reconstruction\n"
   ]
  },
  {
   "cell_type": "code",
   "execution_count": 11,
   "id": "2336b503",
   "metadata": {
    "execution": {
     "iopub.execute_input": "2023-05-24T02:45:34.919852Z",
     "iopub.status.busy": "2023-05-24T02:45:34.918616Z",
     "iopub.status.idle": "2023-05-24T02:45:37.794709Z",
     "shell.execute_reply": "2023-05-24T02:45:37.795836Z"
    },
    "papermill": {
     "duration": 2.922832,
     "end_time": "2023-05-24T02:45:37.796192",
     "exception": false,
     "start_time": "2023-05-24T02:45:34.873360",
     "status": "completed"
    },
    "tags": []
   },
   "outputs": [
    {
     "data": {
      "text/html": [
       "<div>\n",
       "<style scoped>\n",
       "    .dataframe tbody tr th:only-of-type {\n",
       "        vertical-align: middle;\n",
       "    }\n",
       "\n",
       "    .dataframe tbody tr th {\n",
       "        vertical-align: top;\n",
       "    }\n",
       "\n",
       "    .dataframe thead th {\n",
       "        text-align: right;\n",
       "    }\n",
       "</style>\n",
       "<table border=\"1\" class=\"dataframe\">\n",
       "  <thead>\n",
       "    <tr style=\"text-align: right;\">\n",
       "      <th></th>\n",
       "      <th>id</th>\n",
       "      <th>ancestor_list</th>\n",
       "      <th>origin_time</th>\n",
       "      <th>taxon_label</th>\n",
       "      <th>ancestor_id</th>\n",
       "      <th>name</th>\n",
       "    </tr>\n",
       "  </thead>\n",
       "  <tbody>\n",
       "    <tr>\n",
       "      <th>0</th>\n",
       "      <td>0</td>\n",
       "      <td>[none]</td>\n",
       "      <td>0.0</td>\n",
       "      <td>Root</td>\n",
       "      <td>0</td>\n",
       "      <td>Root</td>\n",
       "    </tr>\n",
       "    <tr>\n",
       "      <th>192</th>\n",
       "      <td>192</td>\n",
       "      <td>[0]</td>\n",
       "      <td>191.0</td>\n",
       "      <td>Inner+r=191+d=P2laCUeidpj+uid=W2OgOnMkw0ywTnBl...</td>\n",
       "      <td>0</td>\n",
       "      <td>Inner+r=191+d=P2laCUeidpj+uid=W2OgOnMkw0ywTnBl...</td>\n",
       "    </tr>\n",
       "    <tr>\n",
       "      <th>193</th>\n",
       "      <td>193</td>\n",
       "      <td>[192]</td>\n",
       "      <td>192.0</td>\n",
       "      <td>Inner+r=192+d=PWYwsk3br98+uid=tdcJdAeoGOXxqR6c...</td>\n",
       "      <td>192</td>\n",
       "      <td>Inner+r=192+d=PWYwsk3br98+uid=tdcJdAeoGOXxqR6c...</td>\n",
       "    </tr>\n",
       "    <tr>\n",
       "      <th>194</th>\n",
       "      <td>194</td>\n",
       "      <td>[192]</td>\n",
       "      <td>192.0</td>\n",
       "      <td>Inner+r=192+d=OsnmEvln2Ys+uid=BtP61MQCcFRifhJa...</td>\n",
       "      <td>192</td>\n",
       "      <td>Inner+r=192+d=OsnmEvln2Ys+uid=BtP61MQCcFRifhJa...</td>\n",
       "    </tr>\n",
       "    <tr>\n",
       "      <th>195</th>\n",
       "      <td>195</td>\n",
       "      <td>[193]</td>\n",
       "      <td>193.0</td>\n",
       "      <td>Inner+r=193+d=PlIZHYCRWrx+uid=Dknfa7gDr1BlE2v2...</td>\n",
       "      <td>193</td>\n",
       "      <td>Inner+r=193+d=PlIZHYCRWrx+uid=Dknfa7gDr1BlE2v2...</td>\n",
       "    </tr>\n",
       "    <tr>\n",
       "      <th>...</th>\n",
       "      <td>...</td>\n",
       "      <td>...</td>\n",
       "      <td>...</td>\n",
       "      <td>...</td>\n",
       "      <td>...</td>\n",
       "      <td>...</td>\n",
       "    </tr>\n",
       "    <tr>\n",
       "      <th>561</th>\n",
       "      <td>561</td>\n",
       "      <td>[364]</td>\n",
       "      <td>201.0</td>\n",
       "      <td>20125</td>\n",
       "      <td>364</td>\n",
       "      <td>20125</td>\n",
       "    </tr>\n",
       "    <tr>\n",
       "      <th>562</th>\n",
       "      <td>562</td>\n",
       "      <td>[364]</td>\n",
       "      <td>201.0</td>\n",
       "      <td>20140</td>\n",
       "      <td>364</td>\n",
       "      <td>20140</td>\n",
       "    </tr>\n",
       "    <tr>\n",
       "      <th>563</th>\n",
       "      <td>563</td>\n",
       "      <td>[364]</td>\n",
       "      <td>201.0</td>\n",
       "      <td>20169</td>\n",
       "      <td>364</td>\n",
       "      <td>20169</td>\n",
       "    </tr>\n",
       "    <tr>\n",
       "      <th>564</th>\n",
       "      <td>564</td>\n",
       "      <td>[365]</td>\n",
       "      <td>201.0</td>\n",
       "      <td>20143</td>\n",
       "      <td>365</td>\n",
       "      <td>20143</td>\n",
       "    </tr>\n",
       "    <tr>\n",
       "      <th>565</th>\n",
       "      <td>565</td>\n",
       "      <td>[365]</td>\n",
       "      <td>201.0</td>\n",
       "      <td>20153</td>\n",
       "      <td>365</td>\n",
       "      <td>20153</td>\n",
       "    </tr>\n",
       "  </tbody>\n",
       "</table>\n",
       "<p>151 rows × 6 columns</p>\n",
       "</div>"
      ],
      "text/plain": [
       "      id ancestor_list  origin_time  \\\n",
       "0      0        [none]          0.0   \n",
       "192  192           [0]        191.0   \n",
       "193  193         [192]        192.0   \n",
       "194  194         [192]        192.0   \n",
       "195  195         [193]        193.0   \n",
       "..   ...           ...          ...   \n",
       "561  561         [364]        201.0   \n",
       "562  562         [364]        201.0   \n",
       "563  563         [364]        201.0   \n",
       "564  564         [365]        201.0   \n",
       "565  565         [365]        201.0   \n",
       "\n",
       "                                           taxon_label  ancestor_id  \\\n",
       "0                                                 Root            0   \n",
       "192  Inner+r=191+d=P2laCUeidpj+uid=W2OgOnMkw0ywTnBl...            0   \n",
       "193  Inner+r=192+d=PWYwsk3br98+uid=tdcJdAeoGOXxqR6c...          192   \n",
       "194  Inner+r=192+d=OsnmEvln2Ys+uid=BtP61MQCcFRifhJa...          192   \n",
       "195  Inner+r=193+d=PlIZHYCRWrx+uid=Dknfa7gDr1BlE2v2...          193   \n",
       "..                                                 ...          ...   \n",
       "561                                              20125          364   \n",
       "562                                              20140          364   \n",
       "563                                              20169          364   \n",
       "564                                              20143          365   \n",
       "565                                              20153          365   \n",
       "\n",
       "                                                  name  \n",
       "0                                                 Root  \n",
       "192  Inner+r=191+d=P2laCUeidpj+uid=W2OgOnMkw0ywTnBl...  \n",
       "193  Inner+r=192+d=PWYwsk3br98+uid=tdcJdAeoGOXxqR6c...  \n",
       "194  Inner+r=192+d=OsnmEvln2Ys+uid=BtP61MQCcFRifhJa...  \n",
       "195  Inner+r=193+d=PlIZHYCRWrx+uid=Dknfa7gDr1BlE2v2...  \n",
       "..                                                 ...  \n",
       "561                                              20125  \n",
       "562                                              20140  \n",
       "563                                              20169  \n",
       "564                                              20143  \n",
       "565                                              20153  \n",
       "\n",
       "[151 rows x 6 columns]"
      ]
     },
     "execution_count": 11,
     "metadata": {},
     "output_type": "execute_result"
    }
   ],
   "source": [
    "extant_nodes = [individual.history_index for individual in population]\n",
    "reconstructed_df = hstrat.build_tree(\n",
    "    [individual.species_annotation for individual in population],\n",
    "    version_pin=hstrat.__version__,\n",
    "    force_common_ancestry=True,\n",
    "    taxon_labels=map(str, extant_nodes),\n",
    ")\n",
    "reconstructed_df[\"name\"] = reconstructed_df[\"taxon_label\"]\n",
    "reconstructed_df.to_csv(\n",
    "    kn.pack(\n",
    "        {\n",
    "            \"a\": \"phylogeny\",\n",
    "            \"notebook\": \"species-inference\",\n",
    "            \"replicate\": str(MILL_REPLICATE),\n",
    "            \"treatment\": MILL_TREATMENT_NAME,\n",
    "            \"type\": \"reconstruction\",\n",
    "            \"ext\": \".csv\",\n",
    "        }\n",
    "    )\n",
    ")\n",
    "reconstructed_df\n"
   ]
  },
  {
   "cell_type": "code",
   "execution_count": 12,
   "id": "ee99d5c8",
   "metadata": {
    "execution": {
     "iopub.execute_input": "2023-05-24T02:45:37.960830Z",
     "iopub.status.busy": "2023-05-24T02:45:37.959432Z",
     "iopub.status.idle": "2023-05-24T02:45:42.784378Z",
     "shell.execute_reply": "2023-05-24T02:45:42.785477Z"
    },
    "papermill": {
     "duration": 4.904381,
     "end_time": "2023-05-24T02:45:42.785789",
     "exception": false,
     "start_time": "2023-05-24T02:45:37.881408",
     "status": "completed"
    },
    "tags": []
   },
   "outputs": [
    {
     "name": "stdout",
     "output_type": "stream",
     "text": [
      "teeplots/./notebook=species-inference+replicate=0+treatment=bag+type=reconstruction+viz=draw-biopython-tree+ext=.pdf\n"
     ]
    },
    {
     "name": "stdout",
     "output_type": "stream",
     "text": [
      "teeplots/./notebook=species-inference+replicate=0+treatment=bag+type=reconstruction+viz=draw-biopython-tree+ext=.png\n"
     ]
    },
    {
     "data": {
      "image/png": "[encoded data removed]",
      "text/plain": [
       "<Figure size 468x288 with 1 Axes>"
      ]
     },
     "metadata": {
      "needs_background": "light"
     },
     "output_type": "display_data"
    }
   ],
   "source": [
    "reconstructed_tree = apc.alife_dataframe_to_biopython_tree(\n",
    "    reconstructed_df, setup_branch_lengths=True\n",
    ")\n",
    "BioPhylo.write(\n",
    "    reconstructed_tree,\n",
    "    kn.pack(\n",
    "        {\n",
    "            \"a\": \"phylogeny\",\n",
    "            \"notebook\": \"species-inference\",\n",
    "            \"replicate\": str(MILL_REPLICATE),\n",
    "            \"treatment\": MILL_TREATMENT_NAME,\n",
    "            \"type\": \"reconstruction\",\n",
    "            \"ext\": \".nwk\",\n",
    "        }\n",
    "    ),\n",
    "    'newick',\n",
    ")\n",
    "tp.tee(\n",
    "    pylib.tree.draw_biopython_tree,\n",
    "    reconstructed_tree,\n",
    "    teeplot_outattrs={\n",
    "        \"notebook\": \"species-inference\",\n",
    "        \"replicate\": str(MILL_REPLICATE),\n",
    "        \"treatment\": MILL_TREATMENT_NAME,\n",
    "        \"type\": \"reconstruction\",\n",
    "    },\n",
    ")\n"
   ]
  },
  {
   "cell_type": "code",
   "execution_count": 13,
   "id": "c3c72586",
   "metadata": {
    "execution": {
     "iopub.execute_input": "2023-05-24T02:45:42.948373Z",
     "iopub.status.busy": "2023-05-24T02:45:42.943803Z",
     "iopub.status.idle": "2023-05-24T02:45:46.462535Z",
     "shell.execute_reply": "2023-05-24T02:45:46.464453Z"
    },
    "papermill": {
     "duration": 3.590586,
     "end_time": "2023-05-24T02:45:46.464757",
     "exception": false,
     "start_time": "2023-05-24T02:45:42.874171",
     "status": "completed"
    },
    "tags": []
   },
   "outputs": [
    {
     "name": "stdout",
     "output_type": "stream",
     "text": [
      "teeplots/./drop_overlapping_labels=true+notebook=species-inference+replicate=0+treatment=bag+type=reconstruction+viz=draw-biopython-tree+ext=.pdf\n"
     ]
    },
    {
     "name": "stdout",
     "output_type": "stream",
     "text": [
      "teeplots/./drop_overlapping_labels=true+notebook=species-inference+replicate=0+treatment=bag+type=reconstruction+viz=draw-biopython-tree+ext=.png\n"
     ]
    },
    {
     "data": {
      "image/png": "[encoded data removed]",
      "text/plain": [
       "<Figure size 650x400 with 1 Axes>"
      ]
     },
     "metadata": {},
     "output_type": "display_data"
    }
   ],
   "source": [
    "reconstructed_tree = apc.alife_dataframe_to_biopython_tree(\n",
    "    reconstructed_df, setup_branch_lengths=True\n",
    ")\n",
    "tp.tee(\n",
    "    pylib.tree.draw_biopython_tree,\n",
    "    reconstructed_tree,\n",
    "    drop_overlapping_labels=True,\n",
    "    teeplot_outattrs={\n",
    "        \"drop_overlapping_labels\": \"true\",\n",
    "        \"notebook\": \"species-inference\",\n",
    "        \"replicate\": str(MILL_REPLICATE),\n",
    "        \"treatment\": MILL_TREATMENT_NAME,\n",
    "        \"type\": \"reconstruction\",\n",
    "    },\n",
    ")\n"
   ]
  },
  {
   "cell_type": "code",
   "execution_count": 14,
   "id": "5e6ea62b",
   "metadata": {
    "execution": {
     "iopub.execute_input": "2023-05-24T02:45:46.631340Z",
     "iopub.status.busy": "2023-05-24T02:45:46.627939Z",
     "iopub.status.idle": "2023-05-24T02:45:48.953059Z",
     "shell.execute_reply": "2023-05-24T02:45:48.954091Z"
    },
    "papermill": {
     "duration": 2.412402,
     "end_time": "2023-05-24T02:45:48.954390",
     "exception": false,
     "start_time": "2023-05-24T02:45:46.541988",
     "status": "completed"
    },
    "tags": []
   },
   "outputs": [
    {
     "name": "stdout",
     "output_type": "stream",
     "text": [
      "teeplots/./max_leaves=20+notebook=species-inference+replicate=0+treatment=bag+type=reconstruction+viz=draw-biopython-tree+ext=.pdf\n"
     ]
    },
    {
     "name": "stdout",
     "output_type": "stream",
     "text": [
      "teeplots/./max_leaves=20+notebook=species-inference+replicate=0+treatment=bag+type=reconstruction+viz=draw-biopython-tree+ext=.png\n"
     ]
    },
    {
     "data": {
      "image/png": "[encoded data removed]",
      "text/plain": [
       "<Figure size 650x400 with 1 Axes>"
      ]
     },
     "metadata": {},
     "output_type": "display_data"
    }
   ],
   "source": [
    "reconstructed_tree = apc.alife_dataframe_to_biopython_tree(\n",
    "    reconstructed_df, setup_branch_lengths=True\n",
    ")\n",
    "tp.tee(\n",
    "    pylib.tree.draw_biopython_tree,\n",
    "    reconstructed_tree,\n",
    "    max_leaves=20,\n",
    "    teeplot_outattrs={\n",
    "        \"max_leaves\": \"20\",\n",
    "        \"notebook\": \"species-inference\",\n",
    "        \"replicate\": str(MILL_REPLICATE),\n",
    "        \"treatment\": MILL_TREATMENT_NAME,\n",
    "        \"type\": \"reconstruction\",\n",
    "    },\n",
    ")\n"
   ]
  },
  {
   "cell_type": "markdown",
   "id": "e518b88e",
   "metadata": {
    "papermill": {
     "duration": 0.082164,
     "end_time": "2023-05-24T02:45:49.138289",
     "exception": false,
     "start_time": "2023-05-24T02:45:49.056125",
     "status": "completed"
    },
    "tags": []
   },
   "source": [
    "# Actual Pedigree\n"
   ]
  },
  {
   "cell_type": "code",
   "execution_count": 15,
   "id": "aa6c4c36",
   "metadata": {
    "execution": {
     "iopub.execute_input": "2023-05-24T02:45:49.313287Z",
     "iopub.status.busy": "2023-05-24T02:45:49.311944Z",
     "iopub.status.idle": "2023-05-24T02:46:08.034971Z",
     "shell.execute_reply": "2023-05-24T02:46:08.035956Z"
    },
    "papermill": {
     "duration": 18.815652,
     "end_time": "2023-05-24T02:46:08.036266",
     "exception": false,
     "start_time": "2023-05-24T02:45:49.220614",
     "status": "completed"
    },
    "tags": []
   },
   "outputs": [
    {
     "data": {
      "text/plain": [
       "1"
      ]
     },
     "execution_count": 15,
     "metadata": {},
     "output_type": "execute_result"
    }
   ],
   "source": [
    "distilled_tree = pylib.deap.history_to_tree_upgma(history, extant_nodes)\n",
    "BioPhylo.write(\n",
    "    distilled_tree,\n",
    "    kn.pack(\n",
    "        {\n",
    "            \"a\": \"phylogeny\",\n",
    "            \"notebook\": \"species-inference\",\n",
    "            \"replicate\": str(MILL_REPLICATE),\n",
    "            \"treatment\": MILL_TREATMENT_NAME,\n",
    "            \"type\": \"distilled-pedigree\",\n",
    "            \"ext\": \".nwk\",\n",
    "        }\n",
    "    ),\n",
    "    'newick',\n",
    ")\n"
   ]
  },
  {
   "cell_type": "code",
   "execution_count": 16,
   "id": "8b4f71e2",
   "metadata": {
    "execution": {
     "iopub.execute_input": "2023-05-24T02:46:08.205205Z",
     "iopub.status.busy": "2023-05-24T02:46:08.199897Z",
     "iopub.status.idle": "2023-05-24T02:46:13.082856Z",
     "shell.execute_reply": "2023-05-24T02:46:13.083499Z"
    },
    "papermill": {
     "duration": 4.968884,
     "end_time": "2023-05-24T02:46:13.083707",
     "exception": false,
     "start_time": "2023-05-24T02:46:08.114823",
     "status": "completed"
    },
    "tags": []
   },
   "outputs": [
    {
     "name": "stdout",
     "output_type": "stream",
     "text": [
      "teeplots/./notebook=species-inference+replicate=0+treatment=bag+type=distilled-reference+viz=draw-biopython-tree+ext=.pdf\n"
     ]
    },
    {
     "name": "stdout",
     "output_type": "stream",
     "text": [
      "teeplots/./notebook=species-inference+replicate=0+treatment=bag+type=distilled-reference+viz=draw-biopython-tree+ext=.png\n"
     ]
    },
    {
     "data": {
      "image/png": "[encoded data removed]",
      "text/plain": [
       "<Figure size 650x400 with 1 Axes>"
      ]
     },
     "metadata": {},
     "output_type": "display_data"
    }
   ],
   "source": [
    "tp.tee(\n",
    "    pylib.tree.draw_biopython_tree,\n",
    "    distilled_tree,\n",
    "    teeplot_outattrs={\n",
    "        \"notebook\": \"species-inference\",\n",
    "        \"replicate\": str(MILL_REPLICATE),\n",
    "        \"treatment\": MILL_TREATMENT_NAME,\n",
    "        \"type\": \"distilled-reference\",\n",
    "    },\n",
    ")\n"
   ]
  },
  {
   "cell_type": "code",
   "execution_count": 17,
   "id": "43f25ca3",
   "metadata": {
    "execution": {
     "iopub.execute_input": "2023-05-24T02:46:13.209550Z",
     "iopub.status.busy": "2023-05-24T02:46:13.204529Z",
     "iopub.status.idle": "2023-05-24T02:46:15.226885Z",
     "shell.execute_reply": "2023-05-24T02:46:15.227535Z"
    },
    "papermill": {
     "duration": 2.095871,
     "end_time": "2023-05-24T02:46:15.227739",
     "exception": false,
     "start_time": "2023-05-24T02:46:13.131868",
     "status": "completed"
    },
    "tags": []
   },
   "outputs": [
    {
     "name": "stdout",
     "output_type": "stream",
     "text": [
      "teeplots/./max_leaves=20+notebook=species-inference+replicate=0+treatment=bag+type=distilled-reference+viz=draw-biopython-tree+ext=.pdf\n"
     ]
    },
    {
     "name": "stdout",
     "output_type": "stream",
     "text": [
      "teeplots/./max_leaves=20+notebook=species-inference+replicate=0+treatment=bag+type=distilled-reference+viz=draw-biopython-tree+ext=.png\n"
     ]
    },
    {
     "data": {
      "image/png": "[encoded data removed]",
      "text/plain": [
       "<Figure size 650x400 with 1 Axes>"
      ]
     },
     "metadata": {},
     "output_type": "display_data"
    }
   ],
   "source": [
    "tp.tee(\n",
    "    pylib.tree.draw_biopython_tree,\n",
    "    distilled_tree,\n",
    "    max_leaves=20,\n",
    "    teeplot_outattrs={\n",
    "        \"max_leaves\": \"20\",\n",
    "        \"notebook\": \"species-inference\",\n",
    "        \"replicate\": str(MILL_REPLICATE),\n",
    "        \"treatment\": MILL_TREATMENT_NAME,\n",
    "        \"type\": \"distilled-reference\",\n",
    "    },\n",
    ")\n"
   ]
  },
  {
   "cell_type": "code",
   "execution_count": 18,
   "id": "46fc4a3d",
   "metadata": {
    "execution": {
     "iopub.execute_input": "2023-05-24T02:46:15.348365Z",
     "iopub.status.busy": "2023-05-24T02:46:15.347109Z",
     "iopub.status.idle": "2023-05-24T02:46:18.961154Z",
     "shell.execute_reply": "2023-05-24T02:46:18.961801Z"
    },
    "papermill": {
     "duration": 3.683139,
     "end_time": "2023-05-24T02:46:18.962006",
     "exception": false,
     "start_time": "2023-05-24T02:46:15.278867",
     "status": "completed"
    },
    "tags": []
   },
   "outputs": [
    {
     "name": "stdout",
     "output_type": "stream",
     "text": [
      "teeplots/./drop_overlapping_labels=true+notebook=species-inference+replicate=0+treatment=bag+type=distilled-reference+viz=draw-biopython-tree+ext=.pdf\n"
     ]
    },
    {
     "name": "stdout",
     "output_type": "stream",
     "text": [
      "teeplots/./drop_overlapping_labels=true+notebook=species-inference+replicate=0+treatment=bag+type=distilled-reference+viz=draw-biopython-tree+ext=.png\n"
     ]
    },
    {
     "data": {
      "image/png": "[encoded data removed]",
      "text/plain": [
       "<Figure size 650x400 with 1 Axes>"
      ]
     },
     "metadata": {},
     "output_type": "display_data"
    }
   ],
   "source": [
    "tp.tee(\n",
    "    pylib.tree.draw_biopython_tree,\n",
    "    distilled_tree,\n",
    "    drop_overlapping_labels=True,\n",
    "    teeplot_outattrs={\n",
    "        \"drop_overlapping_labels\": \"true\",\n",
    "        \"notebook\": \"species-inference\",\n",
    "        \"replicate\": str(MILL_REPLICATE),\n",
    "        \"treatment\": MILL_TREATMENT_NAME,\n",
    "        \"type\": \"distilled-reference\",\n",
    "    },\n",
    ")\n"
   ]
  },
  {
   "cell_type": "code",
   "execution_count": 19,
   "id": "e5eefa16",
   "metadata": {
    "execution": {
     "iopub.execute_input": "2023-05-24T02:46:19.080380Z",
     "iopub.status.busy": "2023-05-24T02:46:19.073275Z",
     "iopub.status.idle": "2023-05-24T02:46:36.068696Z",
     "shell.execute_reply": "2023-05-24T02:46:36.069661Z"
    },
    "papermill": {
     "duration": 17.054434,
     "end_time": "2023-05-24T02:46:36.069965",
     "exception": false,
     "start_time": "2023-05-24T02:46:19.015531",
     "status": "completed"
    },
    "tags": []
   },
   "outputs": [
    {
     "data": {
      "text/plain": [
       "0.5879160211413526"
      ]
     },
     "execution_count": 19,
     "metadata": {},
     "output_type": "execute_result"
    }
   ],
   "source": [
    "distilled_tree = pylib.deap.history_to_tree_upgma(\n",
    "    history, extant_nodes, correct_origin_times=False\n",
    ")\n",
    "BioPhylo.write(\n",
    "    distilled_tree,\n",
    "    kn.pack(\n",
    "        {\n",
    "            \"a\": \"phylogeny\",\n",
    "            \"notebook\": \"species-inference\",\n",
    "            \"replicate\": str(MILL_REPLICATE),\n",
    "            \"treatment\": MILL_TREATMENT_NAME,\n",
    "            \"type\": \"distilled-pedigree-uncorrected\",\n",
    "            \"ext\": \".nwk\",\n",
    "        }\n",
    "    ),\n",
    "    'newick',\n",
    ")\n",
    "\n",
    "quartet_dist = pylib.tree.polymorphic_quartet_distance(\n",
    "    reconstructed_tree, distilled_tree\n",
    ")\n",
    "quartet_dist\n"
   ]
  },
  {
   "cell_type": "code",
   "execution_count": 20,
   "id": "7e716d6b",
   "metadata": {
    "execution": {
     "iopub.execute_input": "2023-05-24T02:46:36.282660Z",
     "iopub.status.busy": "2023-05-24T02:46:36.281342Z",
     "iopub.status.idle": "2023-05-24T02:46:36.296714Z",
     "shell.execute_reply": "2023-05-24T02:46:36.297682Z"
    },
    "papermill": {
     "duration": 0.127473,
     "end_time": "2023-05-24T02:46:36.297981",
     "exception": false,
     "start_time": "2023-05-24T02:46:36.170508",
     "status": "completed"
    },
    "tags": []
   },
   "outputs": [
    {
     "data": {
      "text/html": [
       "<div>\n",
       "<style scoped>\n",
       "    .dataframe tbody tr th:only-of-type {\n",
       "        vertical-align: middle;\n",
       "    }\n",
       "\n",
       "    .dataframe tbody tr th {\n",
       "        vertical-align: top;\n",
       "    }\n",
       "\n",
       "    .dataframe thead th {\n",
       "        text-align: right;\n",
       "    }\n",
       "</style>\n",
       "<table border=\"1\" class=\"dataframe\">\n",
       "  <thead>\n",
       "    <tr style=\"text-align: right;\">\n",
       "      <th></th>\n",
       "      <th>replicate</th>\n",
       "      <th>treatment</th>\n",
       "      <th>quartet distance</th>\n",
       "    </tr>\n",
       "  </thead>\n",
       "  <tbody>\n",
       "    <tr>\n",
       "      <th>0</th>\n",
       "      <td>0</td>\n",
       "      <td>bag</td>\n",
       "      <td>0.587916</td>\n",
       "    </tr>\n",
       "  </tbody>\n",
       "</table>\n",
       "</div>"
      ],
      "text/plain": [
       "   replicate treatment  quartet distance\n",
       "0          0       bag          0.587916"
      ]
     },
     "execution_count": 20,
     "metadata": {},
     "output_type": "execute_result"
    }
   ],
   "source": [
    "records = [\n",
    "    {\n",
    "        \"replicate\": MILL_REPLICATE,\n",
    "        \"treatment\": MILL_TREATMENT_NAME,\n",
    "        \"quartet distance\": quartet_dist,\n",
    "    }\n",
    "]\n",
    "outdf = pd.DataFrame.from_records(records)\n",
    "outdf.to_csv(\n",
    "    kn.pack(\n",
    "        {\n",
    "            \"a\": \"reconstruction-accuracy\",\n",
    "            \"notebook\": \"species-inference\",\n",
    "            \"replicate\": MILL_REPLICATE,\n",
    "            \"treatment\": MILL_TREATMENT_NAME,\n",
    "            \"ext\": \".csv\",\n",
    "        }\n",
    "    )\n",
    ")\n",
    "outdf\n"
   ]
  }
 ],
 "metadata": {
  "kernelspec": {
   "display_name": "Python 3",
   "language": "python",
   "name": "python3"
  },
  "language_info": {
   "codemirror_mode": {
    "name": "ipython",
    "version": 3
   },
   "file_extension": ".py",
   "mimetype": "text/x-python",
   "name": "python",
   "nbconvert_exporter": "python",
   "pygments_lexer": "ipython3",
   "version": "3.10.6"
  },
  "papermill": {
   "default_parameters": {},
   "duration": 700.401857,
   "end_time": "2023-05-24T02:46:39.128067",
   "environment_variables": {},
   "exception": null,
   "input_path": "species-inference.ipynb",
   "output_path": "species-inference-parameterization-0.ipynb",
   "parameters": {
    "MILL_REPLICATE": 0,
    "MILL_TREATMENT_NAME": "bag"
   },
   "start_time": "2023-05-24T02:34:58.726210",
   "version": "2.4.0"
  }
 },
 "nbformat": 4,
 "nbformat_minor": 5
}