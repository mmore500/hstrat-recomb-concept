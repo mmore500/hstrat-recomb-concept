{
 "cells": [
  {
   "cell_type": "code",
   "execution_count": 1,
   "id": "559874bf",
   "metadata": {
    "execution": {
     "iopub.execute_input": "2023-05-24T02:33:52.995588Z",
     "iopub.status.busy": "2023-05-24T02:33:52.994082Z",
     "iopub.status.idle": "2023-05-24T02:33:55.299886Z",
     "shell.execute_reply": "2023-05-24T02:33:55.301303Z"
    },
    "papermill": {
     "duration": 2.433887,
     "end_time": "2023-05-24T02:33:55.301728",
     "exception": false,
     "start_time": "2023-05-24T02:33:52.867841",
     "status": "completed"
    },
    "tags": []
   },
   "outputs": [],
   "source": [
    "import endomill\n",
    "import yaml\n"
   ]
  },
  {
   "cell_type": "code",
   "execution_count": 2,
   "id": "a348f9c4",
   "metadata": {
    "execution": {
     "iopub.execute_input": "2023-05-24T02:33:55.442270Z",
     "iopub.status.busy": "2023-05-24T02:33:55.440906Z",
     "iopub.status.idle": "2023-05-24T02:33:55.478793Z",
     "shell.execute_reply": "2023-05-24T02:33:55.480089Z"
    },
    "papermill": {
     "duration": 0.111225,
     "end_time": "2023-05-24T02:33:55.480396",
     "exception": false,
     "start_time": "2023-05-24T02:33:55.369171",
     "status": "completed"
    },
    "tags": []
   },
   "outputs": [],
   "source": [
    "parameter_packs = [\n",
    "    {\n",
    "        \"MILL_TREATMENT_NAME\": treatment,\n",
    "        \"MILL_REPLICATE\": replicate,\n",
    "    }\n",
    "    for treatment in [\"bag\", \"ring\", \"allopatry\"]\n",
    "    for replicate in range(10)\n",
    "]\n",
    "\n",
    "\n",
    "for i, pp in enumerate(parameter_packs):\n",
    "    with open(f\"species-inference-parameterization-{i}.yaml\", \"w\") as file:\n",
    "        yaml.safe_dump(pp, file)\n",
    "# endomill.instantiate_over(parameter_packs=parameter_packs)\n"
   ]
  },
  {
   "cell_type": "markdown",
   "id": "64f468fa",
   "metadata": {
    "papermill": {
     "duration": 0.066168,
     "end_time": "2023-05-24T02:33:55.597667",
     "exception": false,
     "start_time": "2023-05-24T02:33:55.531499",
     "status": "completed"
    },
    "tags": []
   },
   "source": [
    "# Papermill Parameters\n"
   ]
  },
  {
   "cell_type": "code",
   "execution_count": 3,
   "id": "c9e3829b",
   "metadata": {
    "execution": {
     "iopub.execute_input": "2023-05-24T02:33:55.740104Z",
     "iopub.status.busy": "2023-05-24T02:33:55.737726Z",
     "iopub.status.idle": "2023-05-24T02:33:55.741396Z",
     "shell.execute_reply": "2023-05-24T02:33:55.738902Z"
    },
    "papermill": {
     "duration": 0.076867,
     "end_time": "2023-05-24T02:33:55.741654",
     "exception": false,
     "start_time": "2023-05-24T02:33:55.664787",
     "status": "completed"
    },
    "tags": [
     "parameters"
    ]
   },
   "outputs": [],
   "source": [
    "MILL_TREATMENT_NAME: str\n",
    "MILL_REPLICATE: int\n"
   ]
  },
  {
   "cell_type": "code",
   "execution_count": 4,
   "id": "7315f37d",
   "metadata": {
    "execution": {
     "iopub.execute_input": "2023-05-24T02:33:55.887220Z",
     "iopub.status.busy": "2023-05-24T02:33:55.885191Z",
     "iopub.status.idle": "2023-05-24T02:33:55.892983Z",
     "shell.execute_reply": "2023-05-24T02:33:55.891799Z"
    },
    "papermill": {
     "duration": 0.091693,
     "end_time": "2023-05-24T02:33:55.893282",
     "exception": false,
     "start_time": "2023-05-24T02:33:55.801589",
     "status": "completed"
    },
    "tags": [
     "injected-parameters"
    ]
   },
   "outputs": [],
   "source": [
    "# Parameters\n",
    "MILL_REPLICATE = 2\n",
    "MILL_TREATMENT_NAME = \"bag\"\n"
   ]
  },
  {
   "cell_type": "markdown",
   "id": "0aec8fe6",
   "metadata": {
    "papermill": {
     "duration": 0.057151,
     "end_time": "2023-05-24T02:33:56.007939",
     "exception": false,
     "start_time": "2023-05-24T02:33:55.950788",
     "status": "completed"
    },
    "tags": []
   },
   "source": [
    "# Global Setup\n"
   ]
  },
  {
   "cell_type": "code",
   "execution_count": 5,
   "id": "61478106",
   "metadata": {
    "execution": {
     "iopub.execute_input": "2023-05-24T02:33:56.132083Z",
     "iopub.status.busy": "2023-05-24T02:33:56.130675Z",
     "iopub.status.idle": "2023-05-24T02:34:05.667623Z",
     "shell.execute_reply": "2023-05-24T02:34:05.668460Z"
    },
    "papermill": {
     "duration": 9.604968,
     "end_time": "2023-05-24T02:34:05.668685",
     "exception": false,
     "start_time": "2023-05-24T02:33:56.063717",
     "status": "completed"
    },
    "tags": []
   },
   "outputs": [],
   "source": [
    "import copy\n",
    "import math\n",
    "import itertools as it\n",
    "import typing\n",
    "import random\n",
    "\n",
    "import alifedata_phyloinformatics_convert as apc\n",
    "from Bio import Phylo as BioPhylo\n",
    "from deap import algorithms as deap_algorithms\n",
    "from deap import base as deap_base\n",
    "from deap import creator as deap_creator\n",
    "from deap import tools as deap_tools\n",
    "\n",
    "from hstrat import hstrat\n",
    "from iterpop import iterpop as ip\n",
    "from keyname import keyname as kn\n",
    "from matplotlib import pyplot as plt\n",
    "from nbmetalog import nbmetalog as nbm\n",
    "import numpy as np\n",
    "import pandas as pd\n",
    "from scipy import stats as scipy_stats\n",
    "import seaborn as sns\n",
    "import sympy\n",
    "from teeplot import teeplot as tp\n",
    "from tqdm import tqdm\n",
    "\n",
    "import pylib\n"
   ]
  },
  {
   "cell_type": "code",
   "execution_count": 6,
   "id": "689a52bf",
   "metadata": {
    "execution": {
     "iopub.execute_input": "2023-05-24T02:34:05.802845Z",
     "iopub.status.busy": "2023-05-24T02:34:05.801442Z",
     "iopub.status.idle": "2023-05-24T02:34:05.807699Z",
     "shell.execute_reply": "2023-05-24T02:34:05.809209Z"
    },
    "papermill": {
     "duration": 0.086627,
     "end_time": "2023-05-24T02:34:05.809537",
     "exception": false,
     "start_time": "2023-05-24T02:34:05.722910",
     "status": "completed"
    },
    "tags": []
   },
   "outputs": [],
   "source": [
    "random.seed(MILL_REPLICATE)\n"
   ]
  },
  {
   "cell_type": "code",
   "execution_count": 7,
   "id": "0bc67b5c",
   "metadata": {
    "execution": {
     "iopub.execute_input": "2023-05-24T02:34:05.935604Z",
     "iopub.status.busy": "2023-05-24T02:34:05.932394Z",
     "iopub.status.idle": "2023-05-24T02:34:07.662880Z",
     "shell.execute_reply": "2023-05-24T02:34:07.661942Z"
    },
    "papermill": {
     "duration": 1.796825,
     "end_time": "2023-05-24T02:34:07.663076",
     "exception": false,
     "start_time": "2023-05-24T02:34:05.866251",
     "status": "completed"
    },
    "tags": []
   },
   "outputs": [
    {
     "name": "stdout",
     "output_type": "stream",
     "text": [
      "context: local\n",
      "hostname: thinkpad\n",
      "interpreter: 3.10.6 (main, Mar 10 2023, 10:55:28) [GCC 11.3.0]\n",
      "nbcellexec: null\n",
      "nbname: None\n",
      "nbpath: None\n",
      "revision: null\n",
      "session: cbf9e29c-bcd9-4b04-8266-3d4a5731b6a0\n",
      "timestamp: 2023-05-23T19:34:06Z00:00\n",
      "\n",
      "\n"
     ]
    },
    {
     "name": "stdout",
     "output_type": "stream",
     "text": [
      "IPython==7.31.1\n",
      "keyname==0.5.2\n",
      "yaml==6.0\n",
      "Bio==1.79\n",
      "alifedata_phyloinformatics_convert==0.13.0\n",
      "deap==1.3\n",
      "endomill==0.1.3\n",
      "hstrat==1.6.1\n",
      "iterpop==0.4.1\n",
      "matplotlib==3.6.2\n",
      "nbmetalog==0.2.6\n",
      "numpy==1.23.5\n",
      "pandas==1.5.2\n",
      "scipy==1.10.1\n",
      "seaborn==0.12.1\n",
      "sympy==1.9\n",
      "teeplot==0.5.0\n",
      "re==2.2.1\n",
      "debugpy==1.6.6\n",
      "logging==0.5.1.2\n",
      "psutil==5.9.0\n",
      "zmq==22.3.0\n",
      "json==2.0.9\n",
      "ipykernel==6.7.0\n"
     ]
    }
   ],
   "source": [
    "nbm.print_metadata()\n"
   ]
  },
  {
   "cell_type": "markdown",
   "id": "bb107adb",
   "metadata": {
    "papermill": {
     "duration": 0.052206,
     "end_time": "2023-05-24T02:34:07.755406",
     "exception": false,
     "start_time": "2023-05-24T02:34:07.703200",
     "status": "completed"
    },
    "tags": []
   },
   "source": [
    "# Parameters\n"
   ]
  },
  {
   "cell_type": "code",
   "execution_count": 8,
   "id": "3a74e251",
   "metadata": {
    "execution": {
     "iopub.execute_input": "2023-05-24T02:34:07.855030Z",
     "iopub.status.busy": "2023-05-24T02:34:07.852581Z",
     "iopub.status.idle": "2023-05-24T02:34:07.857546Z",
     "shell.execute_reply": "2023-05-24T02:34:07.858536Z"
    },
    "papermill": {
     "duration": 0.055314,
     "end_time": "2023-05-24T02:34:07.858803",
     "exception": false,
     "start_time": "2023-05-24T02:34:07.803489",
     "status": "completed"
    },
    "tags": []
   },
   "outputs": [],
   "source": [
    "HSTRAT_DIFFERENTIA_WIDTH = 64\n",
    "NGEN = 200\n",
    "NPOP = 100\n",
    "NTOURN = 2\n"
   ]
  },
  {
   "cell_type": "markdown",
   "id": "ac00978d",
   "metadata": {
    "papermill": {
     "duration": 0.04375,
     "end_time": "2023-05-24T02:34:07.952991",
     "exception": false,
     "start_time": "2023-05-24T02:34:07.909241",
     "status": "completed"
    },
    "tags": []
   },
   "source": [
    "# Setup\n"
   ]
  },
  {
   "cell_type": "code",
   "execution_count": 9,
   "id": "780352a1",
   "metadata": {
    "execution": {
     "iopub.execute_input": "2023-05-24T02:34:08.048843Z",
     "iopub.status.busy": "2023-05-24T02:34:08.047866Z",
     "iopub.status.idle": "2023-05-24T02:34:08.054008Z",
     "shell.execute_reply": "2023-05-24T02:34:08.054902Z"
    },
    "papermill": {
     "duration": 0.05657,
     "end_time": "2023-05-24T02:34:08.055126",
     "exception": false,
     "start_time": "2023-05-24T02:34:07.998556",
     "status": "completed"
    },
    "tags": []
   },
   "outputs": [],
   "source": [
    "deap_creator.create(\"FitnessMax\", deap_base.Fitness, weights=(1.0,))\n",
    "deap_creator.create(\"Individual\", list, fitness=deap_creator.FitnessMax)\n",
    "\n",
    "toolbox = deap_base.Toolbox()\n",
    "\n",
    "toolbox.register(\"attr_bool\", random.randint, 0, 1)\n",
    "toolbox.register(\n",
    "    \"individual\",\n",
    "    deap_tools.initRepeat,\n",
    "    deap_creator.Individual,\n",
    "    toolbox.attr_bool,\n",
    "    n=100,\n",
    ")\n",
    "toolbox.register(\"population\", deap_tools.initRepeat, list, toolbox.individual)\n",
    "\n",
    "\n",
    "def evalOneMax(individual):\n",
    "    return (sum(individual),)\n",
    "\n",
    "\n",
    "toolbox.register(\"evaluate\", evalOneMax)\n",
    "toolbox.register(\"mate\", deap_tools.cxTwoPoint)\n",
    "toolbox.register(\"mutate\", deap_tools.mutFlipBit, indpb=0.05)\n",
    "toolbox.register(\"select\", deap_tools.selTournament, tournsize=NTOURN)\n",
    "\n",
    "# Decorate the variation operators\n",
    "history = deap_tools.History()\n",
    "toolbox.decorate(\"mate\", history.decorator)\n",
    "\n",
    "toolbox.decorate(\"mate\", pylib.deap.hstrat_mate_decorator)\n"
   ]
  },
  {
   "cell_type": "markdown",
   "id": "7e3684f2",
   "metadata": {
    "papermill": {
     "duration": 0.043038,
     "end_time": "2023-05-24T02:34:08.140312",
     "exception": false,
     "start_time": "2023-05-24T02:34:08.097274",
     "status": "completed"
    },
    "tags": []
   },
   "source": [
    "# Evolve\n"
   ]
  },
  {
   "cell_type": "code",
   "execution_count": 10,
   "id": "04c8cdb2",
   "metadata": {
    "execution": {
     "iopub.execute_input": "2023-05-24T02:34:08.222145Z",
     "iopub.status.busy": "2023-05-24T02:34:08.221144Z",
     "iopub.status.idle": "2023-05-24T02:44:31.684234Z",
     "shell.execute_reply": "2023-05-24T02:44:31.685242Z"
    },
    "papermill": {
     "duration": 623.517256,
     "end_time": "2023-05-24T02:44:31.685484",
     "exception": false,
     "start_time": "2023-05-24T02:34:08.168228",
     "status": "completed"
    },
    "tags": []
   },
   "outputs": [],
   "source": [
    "# Create the population and populate the history\n",
    "population = toolbox.population(n=NPOP)\n",
    "\n",
    "species_ancestor = hstrat.HereditaryStratigraphicColumn(\n",
    "    stratum_retention_policy=hstrat.perfect_resolution_algo.Policy(),\n",
    "    stratum_differentia_bit_width=HSTRAT_DIFFERENTIA_WIDTH,\n",
    ")\n",
    "gene_ancestor = hstrat.HereditaryStratigraphicColumn(\n",
    "    stratum_retention_policy=hstrat.perfect_resolution_algo.Policy(),\n",
    "    stratum_differentia_bit_width=HSTRAT_DIFFERENTIA_WIDTH,\n",
    "    initial_stratum_annotation=0,\n",
    ")\n",
    "for member in population:\n",
    "    member.species_annotation = species_ancestor.CloneDescendant()\n",
    "    member.gene_annotation = gene_ancestor.CloneDescendant(0)\n",
    "\n",
    "history.update(population)\n",
    "\n",
    "# Do the evolution, the decorators will take care of updating the\n",
    "# history\n",
    "if MILL_TREATMENT_NAME == \"bag\":\n",
    "    for _gen in range(NGEN):\n",
    "        offspring = deap_algorithms.varAnd(\n",
    "            population,\n",
    "            toolbox,\n",
    "            cxpb=1.0,\n",
    "            mutpb=1.0,\n",
    "        )\n",
    "        fits = toolbox.map(toolbox.evaluate, offspring)\n",
    "        for fit, ind in zip(fits, offspring):\n",
    "            ind.fitness.values = fit\n",
    "        population = toolbox.select(offspring, k=NPOP)\n",
    "        population = [copy.deepcopy(ind) for ind in population]\n",
    "\n",
    "elif MILL_TREATMENT_NAME == \"ring\":\n",
    "    NUM_ISLANDS = 10\n",
    "    NUM_MIGRATIONS = 1\n",
    "    slice_size = len(population) // NUM_ISLANDS\n",
    "    for gen in tqdm(range(NGEN)):\n",
    "        for slice_ in pylib.util.iter_slices(len(population), slice_size):\n",
    "            subpopulation = population[slice_]\n",
    "            offspring = deap_algorithms.varAnd(\n",
    "                subpopulation, toolbox, cxpb=1.0, mutpb=1.0\n",
    "            )\n",
    "            fits = toolbox.map(toolbox.evaluate, offspring)\n",
    "            for fit, ind in zip(fits, offspring):\n",
    "                ind.fitness.values = fit\n",
    "            subpopulation = toolbox.select(offspring, k=len(subpopulation))\n",
    "            population[slice_] = [copy.deepcopy(ind) for ind in subpopulation]\n",
    "\n",
    "        for m in range(NUM_MIGRATIONS):\n",
    "            displacement = random.randrange(slice_size, 2 * slice_size)\n",
    "            a = random.randrange(len(population))\n",
    "            b = (a + displacement) % len(population)\n",
    "            population[a], population[b] = population[b], population[a]\n",
    "\n",
    "    from_subpopulations = []\n",
    "    for i in range(0, len(population), slice_size):\n",
    "        subpopulation = population[i : i + slice_size]\n",
    "        from_subpopulations.extend(subpopulation)\n",
    "    population = from_subpopulations\n",
    "\n",
    "elif MILL_TREATMENT_NAME == \"allopatry\":\n",
    "    # sympatry\n",
    "    for gen in tqdm(range(NGEN // 2)):\n",
    "        offspring = deap_algorithms.varAnd(\n",
    "            population, toolbox, cxpb=1.0, mutpb=1.0\n",
    "        )\n",
    "        fits = toolbox.map(toolbox.evaluate, offspring)\n",
    "\n",
    "        for fit, ind in zip(fits, offspring):\n",
    "            ind.fitness.values = fit\n",
    "        population = toolbox.select(offspring, k=len(population))\n",
    "        population = [copy.deepcopy(ind) for ind in population]\n",
    "\n",
    "    # two-island allopatry\n",
    "    slice_size = NPOP // 2\n",
    "    from_subpopulations = []\n",
    "    for i in range(0, len(population), slice_size):\n",
    "        subpopulation = population[i : i + slice_size]\n",
    "        for gen in tqdm(range(NGEN // 4)):\n",
    "            offspring = deap_algorithms.varAnd(\n",
    "                subpopulation, toolbox, cxpb=1.0, mutpb=1.0\n",
    "            )\n",
    "            fits = toolbox.map(toolbox.evaluate, offspring)\n",
    "            for fit, ind in zip(fits, offspring):\n",
    "                ind.fitness.values = fit\n",
    "            subpopulation = toolbox.select(offspring, k=len(subpopulation))\n",
    "            subpopulation = [copy.deepcopy(ind) for ind in subpopulation]\n",
    "\n",
    "        from_subpopulations.extend(subpopulation)\n",
    "    population = from_subpopulations\n",
    "\n",
    "    # three-island allopatry: left island\n",
    "    slice_size = NPOP // 2\n",
    "    from_subpopulations = []\n",
    "    for i in range(0, len(population) // 2, slice_size):\n",
    "        subpopulation = population[i : i + slice_size]\n",
    "        for gen in tqdm(range(NGEN // 4)):\n",
    "            offspring = deap_algorithms.varAnd(\n",
    "                subpopulation, toolbox, cxpb=1.0, mutpb=1.0\n",
    "            )\n",
    "            fits = toolbox.map(toolbox.evaluate, offspring)\n",
    "            for fit, ind in zip(fits, offspring):\n",
    "                ind.fitness.values = fit\n",
    "            subpopulation = toolbox.select(offspring, k=len(subpopulation))\n",
    "            subpopulation = [copy.deepcopy(ind) for ind in subpopulation]\n",
    "\n",
    "        from_subpopulations.extend(subpopulation)\n",
    "\n",
    "    # three-island allopatry: right five islands\n",
    "    slice_size = NPOP // 10\n",
    "    for i in range(len(population) // 2, len(population), slice_size):\n",
    "        subpopulation = population[i : i + slice_size]\n",
    "        for gen in tqdm(range(NGEN // 4)):\n",
    "            offspring = deap_algorithms.varAnd(\n",
    "                subpopulation, toolbox, cxpb=1.0, mutpb=1.0\n",
    "            )\n",
    "            fits = toolbox.map(toolbox.evaluate, offspring)\n",
    "            for fit, ind in zip(fits, offspring):\n",
    "                ind.fitness.values = fit\n",
    "            subpopulation = toolbox.select(offspring, k=len(subpopulation))\n",
    "            subpopulation = [copy.deepcopy(ind) for ind in subpopulation]\n",
    "\n",
    "        from_subpopulations.extend(subpopulation)\n",
    "\n",
    "    population = from_subpopulations\n",
    "\n",
    "else:\n",
    "    assert False, MILL_TREATMENT_NAME\n",
    "\n",
    "# ensure all extant organisms registered with phylogeny tracker\n",
    "for x in population:\n",
    "    history.update([x])\n"
   ]
  },
  {
   "cell_type": "markdown",
   "id": "cd8b69d5",
   "metadata": {
    "papermill": {
     "duration": 0.04432,
     "end_time": "2023-05-24T02:44:31.774520",
     "exception": false,
     "start_time": "2023-05-24T02:44:31.730200",
     "status": "completed"
    },
    "tags": []
   },
   "source": [
    "# Reconstruction\n"
   ]
  },
  {
   "cell_type": "code",
   "execution_count": 11,
   "id": "4d48b1d2",
   "metadata": {
    "execution": {
     "iopub.execute_input": "2023-05-24T02:44:31.868946Z",
     "iopub.status.busy": "2023-05-24T02:44:31.861551Z",
     "iopub.status.idle": "2023-05-24T02:44:34.062775Z",
     "shell.execute_reply": "2023-05-24T02:44:34.063574Z"
    },
    "papermill": {
     "duration": 2.247653,
     "end_time": "2023-05-24T02:44:34.063802",
     "exception": false,
     "start_time": "2023-05-24T02:44:31.816149",
     "status": "completed"
    },
    "tags": []
   },
   "outputs": [
    {
     "data": {
      "text/html": [
       "<div>\n",
       "<style scoped>\n",
       "    .dataframe tbody tr th:only-of-type {\n",
       "        vertical-align: middle;\n",
       "    }\n",
       "\n",
       "    .dataframe tbody tr th {\n",
       "        vertical-align: top;\n",
       "    }\n",
       "\n",
       "    .dataframe thead th {\n",
       "        text-align: right;\n",
       "    }\n",
       "</style>\n",
       "<table border=\"1\" class=\"dataframe\">\n",
       "  <thead>\n",
       "    <tr style=\"text-align: right;\">\n",
       "      <th></th>\n",
       "      <th>id</th>\n",
       "      <th>ancestor_list</th>\n",
       "      <th>origin_time</th>\n",
       "      <th>taxon_label</th>\n",
       "      <th>ancestor_id</th>\n",
       "      <th>name</th>\n",
       "    </tr>\n",
       "  </thead>\n",
       "  <tbody>\n",
       "    <tr>\n",
       "      <th>0</th>\n",
       "      <td>0</td>\n",
       "      <td>[none]</td>\n",
       "      <td>0.0</td>\n",
       "      <td>Root</td>\n",
       "      <td>0</td>\n",
       "      <td>Root</td>\n",
       "    </tr>\n",
       "    <tr>\n",
       "      <th>193</th>\n",
       "      <td>193</td>\n",
       "      <td>[0]</td>\n",
       "      <td>192.0</td>\n",
       "      <td>Inner+r=192+d=P4z36s-YKrn+uid=tdcJdAeoGOXxqR6c...</td>\n",
       "      <td>0</td>\n",
       "      <td>Inner+r=192+d=P4z36s-YKrn+uid=tdcJdAeoGOXxqR6c...</td>\n",
       "    </tr>\n",
       "    <tr>\n",
       "      <th>194</th>\n",
       "      <td>194</td>\n",
       "      <td>[193]</td>\n",
       "      <td>193.0</td>\n",
       "      <td>Inner+r=193+d=P-sSZLDdUWF+uid=Dknfa7gDr1BlE2v2...</td>\n",
       "      <td>193</td>\n",
       "      <td>Inner+r=193+d=P-sSZLDdUWF+uid=Dknfa7gDr1BlE2v2...</td>\n",
       "    </tr>\n",
       "    <tr>\n",
       "      <th>197</th>\n",
       "      <td>197</td>\n",
       "      <td>[194]</td>\n",
       "      <td>194.0</td>\n",
       "      <td>Inner+r=194+d=O2rYyir5s3J+uid=DuG4zEcDWKJ-uhqd...</td>\n",
       "      <td>194</td>\n",
       "      <td>Inner+r=194+d=O2rYyir5s3J+uid=DuG4zEcDWKJ-uhqd...</td>\n",
       "    </tr>\n",
       "    <tr>\n",
       "      <th>198</th>\n",
       "      <td>198</td>\n",
       "      <td>[194]</td>\n",
       "      <td>194.0</td>\n",
       "      <td>Inner+r=194+d=Ot09IJwnNTP+uid=O473LYl1N0twU-Cc...</td>\n",
       "      <td>194</td>\n",
       "      <td>Inner+r=194+d=Ot09IJwnNTP+uid=O473LYl1N0twU-Cc...</td>\n",
       "    </tr>\n",
       "    <tr>\n",
       "      <th>...</th>\n",
       "      <td>...</td>\n",
       "      <td>...</td>\n",
       "      <td>...</td>\n",
       "      <td>...</td>\n",
       "      <td>...</td>\n",
       "      <td>...</td>\n",
       "    </tr>\n",
       "    <tr>\n",
       "      <th>543</th>\n",
       "      <td>543</td>\n",
       "      <td>[344]</td>\n",
       "      <td>201.0</td>\n",
       "      <td>20179</td>\n",
       "      <td>344</td>\n",
       "      <td>20179</td>\n",
       "    </tr>\n",
       "    <tr>\n",
       "      <th>544</th>\n",
       "      <td>544</td>\n",
       "      <td>[345]</td>\n",
       "      <td>201.0</td>\n",
       "      <td>20158</td>\n",
       "      <td>345</td>\n",
       "      <td>20158</td>\n",
       "    </tr>\n",
       "    <tr>\n",
       "      <th>545</th>\n",
       "      <td>545</td>\n",
       "      <td>[345]</td>\n",
       "      <td>201.0</td>\n",
       "      <td>20159</td>\n",
       "      <td>345</td>\n",
       "      <td>20159</td>\n",
       "    </tr>\n",
       "    <tr>\n",
       "      <th>546</th>\n",
       "      <td>546</td>\n",
       "      <td>[244]</td>\n",
       "      <td>201.0</td>\n",
       "      <td>20185</td>\n",
       "      <td>244</td>\n",
       "      <td>20185</td>\n",
       "    </tr>\n",
       "    <tr>\n",
       "      <th>547</th>\n",
       "      <td>547</td>\n",
       "      <td>[209]</td>\n",
       "      <td>201.0</td>\n",
       "      <td>20183</td>\n",
       "      <td>209</td>\n",
       "      <td>20183</td>\n",
       "    </tr>\n",
       "  </tbody>\n",
       "</table>\n",
       "<p>156 rows × 6 columns</p>\n",
       "</div>"
      ],
      "text/plain": [
       "      id ancestor_list  origin_time  \\\n",
       "0      0        [none]          0.0   \n",
       "193  193           [0]        192.0   \n",
       "194  194         [193]        193.0   \n",
       "197  197         [194]        194.0   \n",
       "198  198         [194]        194.0   \n",
       "..   ...           ...          ...   \n",
       "543  543         [344]        201.0   \n",
       "544  544         [345]        201.0   \n",
       "545  545         [345]        201.0   \n",
       "546  546         [244]        201.0   \n",
       "547  547         [209]        201.0   \n",
       "\n",
       "                                           taxon_label  ancestor_id  \\\n",
       "0                                                 Root            0   \n",
       "193  Inner+r=192+d=P4z36s-YKrn+uid=tdcJdAeoGOXxqR6c...            0   \n",
       "194  Inner+r=193+d=P-sSZLDdUWF+uid=Dknfa7gDr1BlE2v2...          193   \n",
       "197  Inner+r=194+d=O2rYyir5s3J+uid=DuG4zEcDWKJ-uhqd...          194   \n",
       "198  Inner+r=194+d=Ot09IJwnNTP+uid=O473LYl1N0twU-Cc...          194   \n",
       "..                                                 ...          ...   \n",
       "543                                              20179          344   \n",
       "544                                              20158          345   \n",
       "545                                              20159          345   \n",
       "546                                              20185          244   \n",
       "547                                              20183          209   \n",
       "\n",
       "                                                  name  \n",
       "0                                                 Root  \n",
       "193  Inner+r=192+d=P4z36s-YKrn+uid=tdcJdAeoGOXxqR6c...  \n",
       "194  Inner+r=193+d=P-sSZLDdUWF+uid=Dknfa7gDr1BlE2v2...  \n",
       "197  Inner+r=194+d=O2rYyir5s3J+uid=DuG4zEcDWKJ-uhqd...  \n",
       "198  Inner+r=194+d=Ot09IJwnNTP+uid=O473LYl1N0twU-Cc...  \n",
       "..                                                 ...  \n",
       "543                                              20179  \n",
       "544                                              20158  \n",
       "545                                              20159  \n",
       "546                                              20185  \n",
       "547                                              20183  \n",
       "\n",
       "[156 rows x 6 columns]"
      ]
     },
     "execution_count": 11,
     "metadata": {},
     "output_type": "execute_result"
    }
   ],
   "source": [
    "extant_nodes = [individual.history_index for individual in population]\n",
    "reconstructed_df = hstrat.build_tree(\n",
    "    [individual.species_annotation for individual in population],\n",
    "    version_pin=hstrat.__version__,\n",
    "    force_common_ancestry=True,\n",
    "    taxon_labels=map(str, extant_nodes),\n",
    ")\n",
    "reconstructed_df[\"name\"] = reconstructed_df[\"taxon_label\"]\n",
    "reconstructed_df.to_csv(\n",
    "    kn.pack(\n",
    "        {\n",
    "            \"a\": \"phylogeny\",\n",
    "            \"notebook\": \"species-inference\",\n",
    "            \"replicate\": str(MILL_REPLICATE),\n",
    "            \"treatment\": MILL_TREATMENT_NAME,\n",
    "            \"type\": \"reconstruction\",\n",
    "            \"ext\": \".csv\",\n",
    "        }\n",
    "    )\n",
    ")\n",
    "reconstructed_df\n"
   ]
  },
  {
   "cell_type": "code",
   "execution_count": 12,
   "id": "9dce6b39",
   "metadata": {
    "execution": {
     "iopub.execute_input": "2023-05-24T02:44:34.166957Z",
     "iopub.status.busy": "2023-05-24T02:44:34.166035Z",
     "iopub.status.idle": "2023-05-24T02:44:38.089587Z",
     "shell.execute_reply": "2023-05-24T02:44:38.090359Z"
    },
    "papermill": {
     "duration": 3.974183,
     "end_time": "2023-05-24T02:44:38.090613",
     "exception": false,
     "start_time": "2023-05-24T02:44:34.116430",
     "status": "completed"
    },
    "tags": []
   },
   "outputs": [
    {
     "name": "stdout",
     "output_type": "stream",
     "text": [
      "teeplots/./notebook=species-inference+replicate=2+treatment=bag+type=reconstruction+viz=draw-biopython-tree+ext=.pdf\n"
     ]
    },
    {
     "name": "stdout",
     "output_type": "stream",
     "text": [
      "teeplots/./notebook=species-inference+replicate=2+treatment=bag+type=reconstruction+viz=draw-biopython-tree+ext=.png\n"
     ]
    },
    {
     "data": {
      "image/png": "[encoded data removed]",
      "text/plain": [
       "<Figure size 468x288 with 1 Axes>"
      ]
     },
     "metadata": {
      "needs_background": "light"
     },
     "output_type": "display_data"
    }
   ],
   "source": [
    "reconstructed_tree = apc.alife_dataframe_to_biopython_tree(\n",
    "    reconstructed_df, setup_branch_lengths=True\n",
    ")\n",
    "BioPhylo.write(\n",
    "    reconstructed_tree,\n",
    "    kn.pack(\n",
    "        {\n",
    "            \"a\": \"phylogeny\",\n",
    "            \"notebook\": \"species-inference\",\n",
    "            \"replicate\": str(MILL_REPLICATE),\n",
    "            \"treatment\": MILL_TREATMENT_NAME,\n",
    "            \"type\": \"reconstruction\",\n",
    "            \"ext\": \".nwk\",\n",
    "        }\n",
    "    ),\n",
    "    'newick',\n",
    ")\n",
    "tp.tee(\n",
    "    pylib.tree.draw_biopython_tree,\n",
    "    reconstructed_tree,\n",
    "    teeplot_outattrs={\n",
    "        \"notebook\": \"species-inference\",\n",
    "        \"replicate\": str(MILL_REPLICATE),\n",
    "        \"treatment\": MILL_TREATMENT_NAME,\n",
    "        \"type\": \"reconstruction\",\n",
    "    },\n",
    ")\n"
   ]
  },
  {
   "cell_type": "code",
   "execution_count": 13,
   "id": "485e38a8",
   "metadata": {
    "execution": {
     "iopub.execute_input": "2023-05-24T02:44:38.209103Z",
     "iopub.status.busy": "2023-05-24T02:44:38.207572Z",
     "iopub.status.idle": "2023-05-24T02:44:40.623019Z",
     "shell.execute_reply": "2023-05-24T02:44:40.623796Z"
    },
    "papermill": {
     "duration": 2.473271,
     "end_time": "2023-05-24T02:44:40.624025",
     "exception": false,
     "start_time": "2023-05-24T02:44:38.150754",
     "status": "completed"
    },
    "tags": []
   },
   "outputs": [
    {
     "name": "stdout",
     "output_type": "stream",
     "text": [
      "teeplots/./drop_overlapping_labels=true+notebook=species-inference+replicate=2+treatment=bag+type=reconstruction+viz=draw-biopython-tree+ext=.pdf\n"
     ]
    },
    {
     "name": "stdout",
     "output_type": "stream",
     "text": [
      "teeplots/./drop_overlapping_labels=true+notebook=species-inference+replicate=2+treatment=bag+type=reconstruction+viz=draw-biopython-tree+ext=.png\n"
     ]
    },
    {
     "data": {
      "image/png": "[encoded data removed]",
      "text/plain": [
       "<Figure size 650x400 with 1 Axes>"
      ]
     },
     "metadata": {},
     "output_type": "display_data"
    }
   ],
   "source": [
    "reconstructed_tree = apc.alife_dataframe_to_biopython_tree(\n",
    "    reconstructed_df, setup_branch_lengths=True\n",
    ")\n",
    "tp.tee(\n",
    "    pylib.tree.draw_biopython_tree,\n",
    "    reconstructed_tree,\n",
    "    drop_overlapping_labels=True,\n",
    "    teeplot_outattrs={\n",
    "        \"drop_overlapping_labels\": \"true\",\n",
    "        \"notebook\": \"species-inference\",\n",
    "        \"replicate\": str(MILL_REPLICATE),\n",
    "        \"treatment\": MILL_TREATMENT_NAME,\n",
    "        \"type\": \"reconstruction\",\n",
    "    },\n",
    ")\n"
   ]
  },
  {
   "cell_type": "code",
   "execution_count": 14,
   "id": "37e8a527",
   "metadata": {
    "execution": {
     "iopub.execute_input": "2023-05-24T02:44:40.747889Z",
     "iopub.status.busy": "2023-05-24T02:44:40.744349Z",
     "iopub.status.idle": "2023-05-24T02:44:42.502953Z",
     "shell.execute_reply": "2023-05-24T02:44:42.503780Z"
    },
    "papermill": {
     "duration": 1.815075,
     "end_time": "2023-05-24T02:44:42.504007",
     "exception": false,
     "start_time": "2023-05-24T02:44:40.688932",
     "status": "completed"
    },
    "tags": []
   },
   "outputs": [
    {
     "name": "stdout",
     "output_type": "stream",
     "text": [
      "teeplots/./max_leaves=20+notebook=species-inference+replicate=2+treatment=bag+type=reconstruction+viz=draw-biopython-tree+ext=.pdf\n"
     ]
    },
    {
     "name": "stdout",
     "output_type": "stream",
     "text": [
      "teeplots/./max_leaves=20+notebook=species-inference+replicate=2+treatment=bag+type=reconstruction+viz=draw-biopython-tree+ext=.png\n"
     ]
    },
    {
     "data": {
      "image/png": "[encoded data removed]",
      "text/plain": [
       "<Figure size 650x400 with 1 Axes>"
      ]
     },
     "metadata": {},
     "output_type": "display_data"
    }
   ],
   "source": [
    "reconstructed_tree = apc.alife_dataframe_to_biopython_tree(\n",
    "    reconstructed_df, setup_branch_lengths=True\n",
    ")\n",
    "tp.tee(\n",
    "    pylib.tree.draw_biopython_tree,\n",
    "    reconstructed_tree,\n",
    "    max_leaves=20,\n",
    "    teeplot_outattrs={\n",
    "        \"max_leaves\": \"20\",\n",
    "        \"notebook\": \"species-inference\",\n",
    "        \"replicate\": str(MILL_REPLICATE),\n",
    "        \"treatment\": MILL_TREATMENT_NAME,\n",
    "        \"type\": \"reconstruction\",\n",
    "    },\n",
    ")\n"
   ]
  },
  {
   "cell_type": "markdown",
   "id": "a9d8d7b4",
   "metadata": {
    "papermill": {
     "duration": 0.052977,
     "end_time": "2023-05-24T02:44:42.612171",
     "exception": false,
     "start_time": "2023-05-24T02:44:42.559194",
     "status": "completed"
    },
    "tags": []
   },
   "source": [
    "# Actual Pedigree\n"
   ]
  },
  {
   "cell_type": "code",
   "execution_count": 15,
   "id": "3403b4f7",
   "metadata": {
    "execution": {
     "iopub.execute_input": "2023-05-24T02:44:42.731341Z",
     "iopub.status.busy": "2023-05-24T02:44:42.726053Z",
     "iopub.status.idle": "2023-05-24T02:44:55.438312Z",
     "shell.execute_reply": "2023-05-24T02:44:55.437568Z"
    },
    "papermill": {
     "duration": 12.773415,
     "end_time": "2023-05-24T02:44:55.438618",
     "exception": false,
     "start_time": "2023-05-24T02:44:42.665203",
     "status": "completed"
    },
    "tags": []
   },
   "outputs": [
    {
     "data": {
      "text/plain": [
       "1"
      ]
     },
     "execution_count": 15,
     "metadata": {},
     "output_type": "execute_result"
    }
   ],
   "source": [
    "distilled_tree = pylib.deap.history_to_tree_upgma(history, extant_nodes)\n",
    "BioPhylo.write(\n",
    "    distilled_tree,\n",
    "    kn.pack(\n",
    "        {\n",
    "            \"a\": \"phylogeny\",\n",
    "            \"notebook\": \"species-inference\",\n",
    "            \"replicate\": str(MILL_REPLICATE),\n",
    "            \"treatment\": MILL_TREATMENT_NAME,\n",
    "            \"type\": \"distilled-pedigree\",\n",
    "            \"ext\": \".nwk\",\n",
    "        }\n",
    "    ),\n",
    "    'newick',\n",
    ")\n"
   ]
  },
  {
   "cell_type": "code",
   "execution_count": 16,
   "id": "cd7ffbff",
   "metadata": {
    "execution": {
     "iopub.execute_input": "2023-05-24T02:44:55.565642Z",
     "iopub.status.busy": "2023-05-24T02:44:55.560167Z",
     "iopub.status.idle": "2023-05-24T02:44:59.478264Z",
     "shell.execute_reply": "2023-05-24T02:44:59.479735Z"
    },
    "papermill": {
     "duration": 3.984256,
     "end_time": "2023-05-24T02:44:59.479968",
     "exception": false,
     "start_time": "2023-05-24T02:44:55.495712",
     "status": "completed"
    },
    "tags": []
   },
   "outputs": [
    {
     "name": "stdout",
     "output_type": "stream",
     "text": [
      "teeplots/./notebook=species-inference+replicate=2+treatment=bag+type=distilled-reference+viz=draw-biopython-tree+ext=.pdf\n"
     ]
    },
    {
     "name": "stdout",
     "output_type": "stream",
     "text": [
      "teeplots/./notebook=species-inference+replicate=2+treatment=bag+type=distilled-reference+viz=draw-biopython-tree+ext=.png\n"
     ]
    },
    {
     "data": {
      "image/png": "[encoded data removed]",
      "text/plain": [
       "<Figure size 650x400 with 1 Axes>"
      ]
     },
     "metadata": {},
     "output_type": "display_data"
    }
   ],
   "source": [
    "tp.tee(\n",
    "    pylib.tree.draw_biopython_tree,\n",
    "    distilled_tree,\n",
    "    teeplot_outattrs={\n",
    "        \"notebook\": \"species-inference\",\n",
    "        \"replicate\": str(MILL_REPLICATE),\n",
    "        \"treatment\": MILL_TREATMENT_NAME,\n",
    "        \"type\": \"distilled-reference\",\n",
    "    },\n",
    ")\n"
   ]
  },
  {
   "cell_type": "code",
   "execution_count": 17,
   "id": "a74984f3",
   "metadata": {
    "execution": {
     "iopub.execute_input": "2023-05-24T02:44:59.616690Z",
     "iopub.status.busy": "2023-05-24T02:44:59.615735Z",
     "iopub.status.idle": "2023-05-24T02:45:01.368009Z",
     "shell.execute_reply": "2023-05-24T02:45:01.368778Z"
    },
    "papermill": {
     "duration": 1.825348,
     "end_time": "2023-05-24T02:45:01.369004",
     "exception": false,
     "start_time": "2023-05-24T02:44:59.543656",
     "status": "completed"
    },
    "tags": []
   },
   "outputs": [
    {
     "name": "stdout",
     "output_type": "stream",
     "text": [
      "teeplots/./max_leaves=20+notebook=species-inference+replicate=2+treatment=bag+type=distilled-reference+viz=draw-biopython-tree+ext=.pdf\n"
     ]
    },
    {
     "name": "stdout",
     "output_type": "stream",
     "text": [
      "teeplots/./max_leaves=20+notebook=species-inference+replicate=2+treatment=bag+type=distilled-reference+viz=draw-biopython-tree+ext=.png\n"
     ]
    },
    {
     "data": {
      "image/png": "[encoded data removed]",
      "text/plain": [
       "<Figure size 650x400 with 1 Axes>"
      ]
     },
     "metadata": {},
     "output_type": "display_data"
    }
   ],
   "source": [
    "tp.tee(\n",
    "    pylib.tree.draw_biopython_tree,\n",
    "    distilled_tree,\n",
    "    max_leaves=20,\n",
    "    teeplot_outattrs={\n",
    "        \"max_leaves\": \"20\",\n",
    "        \"notebook\": \"species-inference\",\n",
    "        \"replicate\": str(MILL_REPLICATE),\n",
    "        \"treatment\": MILL_TREATMENT_NAME,\n",
    "        \"type\": \"distilled-reference\",\n",
    "    },\n",
    ")\n"
   ]
  },
  {
   "cell_type": "code",
   "execution_count": 18,
   "id": "68b58237",
   "metadata": {
    "execution": {
     "iopub.execute_input": "2023-05-24T02:45:01.507130Z",
     "iopub.status.busy": "2023-05-24T02:45:01.506206Z",
     "iopub.status.idle": "2023-05-24T02:45:04.329629Z",
     "shell.execute_reply": "2023-05-24T02:45:04.330388Z"
    },
    "papermill": {
     "duration": 2.895298,
     "end_time": "2023-05-24T02:45:04.330631",
     "exception": false,
     "start_time": "2023-05-24T02:45:01.435333",
     "status": "completed"
    },
    "tags": []
   },
   "outputs": [
    {
     "name": "stdout",
     "output_type": "stream",
     "text": [
      "teeplots/./drop_overlapping_labels=true+notebook=species-inference+replicate=2+treatment=bag+type=distilled-reference+viz=draw-biopython-tree+ext=.pdf\n"
     ]
    },
    {
     "name": "stdout",
     "output_type": "stream",
     "text": [
      "teeplots/./drop_overlapping_labels=true+notebook=species-inference+replicate=2+treatment=bag+type=distilled-reference+viz=draw-biopython-tree+ext=.png\n"
     ]
    },
    {
     "data": {
      "image/png": "[encoded data removed]",
      "text/plain": [
       "<Figure size 650x400 with 1 Axes>"
      ]
     },
     "metadata": {},
     "output_type": "display_data"
    }
   ],
   "source": [
    "tp.tee(\n",
    "    pylib.tree.draw_biopython_tree,\n",
    "    distilled_tree,\n",
    "    drop_overlapping_labels=True,\n",
    "    teeplot_outattrs={\n",
    "        \"drop_overlapping_labels\": \"true\",\n",
    "        \"notebook\": \"species-inference\",\n",
    "        \"replicate\": str(MILL_REPLICATE),\n",
    "        \"treatment\": MILL_TREATMENT_NAME,\n",
    "        \"type\": \"distilled-reference\",\n",
    "    },\n",
    ")\n"
   ]
  },
  {
   "cell_type": "code",
   "execution_count": 19,
   "id": "a675fe17",
   "metadata": {
    "execution": {
     "iopub.execute_input": "2023-05-24T02:45:04.490294Z",
     "iopub.status.busy": "2023-05-24T02:45:04.489346Z",
     "iopub.status.idle": "2023-05-24T02:45:18.467889Z",
     "shell.execute_reply": "2023-05-24T02:45:18.468932Z"
    },
    "papermill": {
     "duration": 14.059086,
     "end_time": "2023-05-24T02:45:18.469177",
     "exception": false,
     "start_time": "2023-05-24T02:45:04.410091",
     "status": "completed"
    },
    "tags": []
   },
   "outputs": [
    {
     "data": {
      "text/plain": [
       "0.592328672799954"
      ]
     },
     "execution_count": 19,
     "metadata": {},
     "output_type": "execute_result"
    }
   ],
   "source": [
    "distilled_tree = pylib.deap.history_to_tree_upgma(\n",
    "    history, extant_nodes, correct_origin_times=False\n",
    ")\n",
    "BioPhylo.write(\n",
    "    distilled_tree,\n",
    "    kn.pack(\n",
    "        {\n",
    "            \"a\": \"phylogeny\",\n",
    "            \"notebook\": \"species-inference\",\n",
    "            \"replicate\": str(MILL_REPLICATE),\n",
    "            \"treatment\": MILL_TREATMENT_NAME,\n",
    "            \"type\": \"distilled-pedigree-uncorrected\",\n",
    "            \"ext\": \".nwk\",\n",
    "        }\n",
    "    ),\n",
    "    'newick',\n",
    ")\n",
    "\n",
    "quartet_dist = pylib.tree.polymorphic_quartet_distance(\n",
    "    reconstructed_tree, distilled_tree\n",
    ")\n",
    "quartet_dist\n"
   ]
  },
  {
   "cell_type": "code",
   "execution_count": 20,
   "id": "bcfb7e3f",
   "metadata": {
    "execution": {
     "iopub.execute_input": "2023-05-24T02:45:18.633959Z",
     "iopub.status.busy": "2023-05-24T02:45:18.632879Z",
     "iopub.status.idle": "2023-05-24T02:45:18.643294Z",
     "shell.execute_reply": "2023-05-24T02:45:18.644096Z"
    },
    "papermill": {
     "duration": 0.091203,
     "end_time": "2023-05-24T02:45:18.644339",
     "exception": false,
     "start_time": "2023-05-24T02:45:18.553136",
     "status": "completed"
    },
    "tags": []
   },
   "outputs": [
    {
     "data": {
      "text/html": [
       "<div>\n",
       "<style scoped>\n",
       "    .dataframe tbody tr th:only-of-type {\n",
       "        vertical-align: middle;\n",
       "    }\n",
       "\n",
       "    .dataframe tbody tr th {\n",
       "        vertical-align: top;\n",
       "    }\n",
       "\n",
       "    .dataframe thead th {\n",
       "        text-align: right;\n",
       "    }\n",
       "</style>\n",
       "<table border=\"1\" class=\"dataframe\">\n",
       "  <thead>\n",
       "    <tr style=\"text-align: right;\">\n",
       "      <th></th>\n",
       "      <th>replicate</th>\n",
       "      <th>treatment</th>\n",
       "      <th>quartet distance</th>\n",
       "    </tr>\n",
       "  </thead>\n",
       "  <tbody>\n",
       "    <tr>\n",
       "      <th>0</th>\n",
       "      <td>2</td>\n",
       "      <td>bag</td>\n",
       "      <td>0.592329</td>\n",
       "    </tr>\n",
       "  </tbody>\n",
       "</table>\n",
       "</div>"
      ],
      "text/plain": [
       "   replicate treatment  quartet distance\n",
       "0          2       bag          0.592329"
      ]
     },
     "execution_count": 20,
     "metadata": {},
     "output_type": "execute_result"
    }
   ],
   "source": [
    "records = [\n",
    "    {\n",
    "        \"replicate\": MILL_REPLICATE,\n",
    "        \"treatment\": MILL_TREATMENT_NAME,\n",
    "        \"quartet distance\": quartet_dist,\n",
    "    }\n",
    "]\n",
    "outdf = pd.DataFrame.from_records(records)\n",
    "outdf.to_csv(\n",
    "    kn.pack(\n",
    "        {\n",
    "            \"a\": \"reconstruction-accuracy\",\n",
    "            \"notebook\": \"species-inference\",\n",
    "            \"replicate\": MILL_REPLICATE,\n",
    "            \"treatment\": MILL_TREATMENT_NAME,\n",
    "            \"ext\": \".csv\",\n",
    "        }\n",
    "    )\n",
    ")\n",
    "outdf\n"
   ]
  }
 ],
 "metadata": {
  "kernelspec": {
   "display_name": "Python 3",
   "language": "python",
   "name": "python3"
  },
  "language_info": {
   "codemirror_mode": {
    "name": "ipython",
    "version": 3
   },
   "file_extension": ".py",
   "mimetype": "text/x-python",
   "name": "python",
   "nbconvert_exporter": "python",
   "pygments_lexer": "ipython3",
   "version": "3.10.6"
  },
  "papermill": {
   "default_parameters": {},
   "duration": 692.04802,
   "end_time": "2023-05-24T02:45:21.443809",
   "environment_variables": {},
   "exception": null,
   "input_path": "species-inference.ipynb",
   "output_path": "species-inference-parameterization-2.ipynb",
   "parameters": {
    "MILL_REPLICATE": 2,
    "MILL_TREATMENT_NAME": "bag"
   },
   "start_time": "2023-05-24T02:33:49.395789",
   "version": "2.4.0"
  }
 },
 "nbformat": 4,
 "nbformat_minor": 5
}