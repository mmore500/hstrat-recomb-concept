{
 "cells": [
  {
   "cell_type": "code",
   "execution_count": 1,
   "id": "b09c1529",
   "metadata": {
    "execution": {
     "iopub.execute_input": "2023-05-23T19:25:08.192487Z",
     "iopub.status.busy": "2023-05-23T19:25:08.192182Z",
     "iopub.status.idle": "2023-05-23T19:25:09.443489Z",
     "shell.execute_reply": "2023-05-23T19:25:09.442677Z"
    },
    "papermill": {
     "duration": 1.26553,
     "end_time": "2023-05-23T19:25:09.445703",
     "exception": false,
     "start_time": "2023-05-23T19:25:08.180173",
     "status": "completed"
    },
    "tags": []
   },
   "outputs": [],
   "source": [
    "import endomill\n",
    "import yaml\n"
   ]
  },
  {
   "cell_type": "code",
   "execution_count": 2,
   "id": "a28ba65f",
   "metadata": {
    "execution": {
     "iopub.execute_input": "2023-05-23T19:25:09.464358Z",
     "iopub.status.busy": "2023-05-23T19:25:09.463782Z",
     "iopub.status.idle": "2023-05-23T19:25:09.512310Z",
     "shell.execute_reply": "2023-05-23T19:25:09.511608Z"
    },
    "papermill": {
     "duration": 0.060573,
     "end_time": "2023-05-23T19:25:09.514276",
     "exception": false,
     "start_time": "2023-05-23T19:25:09.453703",
     "status": "completed"
    },
    "tags": []
   },
   "outputs": [],
   "source": [
    "parameter_packs = (\n",
    "    [\n",
    "        {\n",
    "            \"MILL_TREATMENT_NAME\": \"bottleneck\",\n",
    "            \"MILL_NPOP_SEQ\": \"[100] * 67 + [10] * 66 + [100] * 67\",\n",
    "            \"MILL_REPLICATE\": replicate,\n",
    "        }\n",
    "        for replicate in range(10)\n",
    "    ]\n",
    "    + [\n",
    "        {\n",
    "            \"MILL_TREATMENT_NAME\": \"control\",\n",
    "            \"MILL_REPLICATE\": replicate,\n",
    "        }\n",
    "        for replicate in range(10)\n",
    "    ]\n",
    "    + [\n",
    "        {\n",
    "            \"MILL_TREATMENT_NAME\": \"selection-pressure\",\n",
    "            \"MILL_NTOURN_SEQ\": \"[8] * 67 + [1] * 66 + [8] * 67\",\n",
    "            \"MILL_REPLICATE\": replicate,\n",
    "        }\n",
    "        for replicate in range(10)\n",
    "    ]\n",
    "    + [\n",
    "        {\n",
    "            \"MILL_TREATMENT_NAME\": \"range-expansion\",\n",
    "            \"MILL_REPLICATE\": replicate,\n",
    "            \"MILL_NPOP_SEQ\": \"[10] * 67 + [*range(10, 142, 2)] + [142] * 67\",\n",
    "        }\n",
    "        for replicate in range(10)\n",
    "    ]\n",
    ")\n",
    "\n",
    "for i, pp in enumerate(parameter_packs):\n",
    "    with open(f\"Ne-inference-parameterization-{i}.yaml\", \"w\") as file:\n",
    "        yaml.safe_dump(pp, file)\n",
    "# endomill.instantiate_over(parameter_packs=parameter_packs)\n"
   ]
  },
  {
   "cell_type": "markdown",
   "id": "0bc4a59f",
   "metadata": {
    "papermill": {
     "duration": 0.008923,
     "end_time": "2023-05-23T19:25:09.530571",
     "exception": false,
     "start_time": "2023-05-23T19:25:09.521648",
     "status": "completed"
    },
    "tags": []
   },
   "source": [
    "# Papermill Parameters\n"
   ]
  },
  {
   "cell_type": "code",
   "execution_count": 3,
   "id": "a019d1b6",
   "metadata": {
    "execution": {
     "iopub.execute_input": "2023-05-23T19:25:09.550689Z",
     "iopub.status.busy": "2023-05-23T19:25:09.550342Z",
     "iopub.status.idle": "2023-05-23T19:25:09.554449Z",
     "shell.execute_reply": "2023-05-23T19:25:09.553678Z"
    },
    "papermill": {
     "duration": 0.019944,
     "end_time": "2023-05-23T19:25:09.559809",
     "exception": false,
     "start_time": "2023-05-23T19:25:09.539865",
     "status": "completed"
    },
    "tags": [
     "parameters"
    ]
   },
   "outputs": [],
   "source": [
    "MILL_NPOP_SEQ: str = \"[100] * 200\"\n",
    "MILL_NTOURN_SEQ: str = \"[2] * 200\"\n",
    "MILL_TREATMENT_NAME: str  # = \"control\"\n",
    "MILL_REPLICATE: int  # = 0\n"
   ]
  },
  {
   "cell_type": "code",
   "execution_count": 4,
   "id": "eb3f3826",
   "metadata": {
    "execution": {
     "iopub.execute_input": "2023-05-23T19:25:09.579186Z",
     "iopub.status.busy": "2023-05-23T19:25:09.578853Z",
     "iopub.status.idle": "2023-05-23T19:25:09.587249Z",
     "shell.execute_reply": "2023-05-23T19:25:09.586310Z"
    },
    "papermill": {
     "duration": 0.019262,
     "end_time": "2023-05-23T19:25:09.589310",
     "exception": false,
     "start_time": "2023-05-23T19:25:09.570048",
     "status": "completed"
    },
    "tags": [
     "injected-parameters"
    ]
   },
   "outputs": [],
   "source": [
    "# Parameters\n",
    "MILL_NTOURN_SEQ = \"[8] * 67 + [1] * 66 + [8] * 67\"\n",
    "MILL_REPLICATE = 7\n",
    "MILL_TREATMENT_NAME = \"selection-pressure\"\n"
   ]
  },
  {
   "cell_type": "code",
   "execution_count": 5,
   "id": "1767baef",
   "metadata": {
    "execution": {
     "iopub.execute_input": "2023-05-23T19:25:09.606764Z",
     "iopub.status.busy": "2023-05-23T19:25:09.606434Z",
     "iopub.status.idle": "2023-05-23T19:25:09.610544Z",
     "shell.execute_reply": "2023-05-23T19:25:09.609712Z"
    },
    "papermill": {
     "duration": 0.015382,
     "end_time": "2023-05-23T19:25:09.612963",
     "exception": false,
     "start_time": "2023-05-23T19:25:09.597581",
     "status": "completed"
    },
    "tags": []
   },
   "outputs": [],
   "source": [
    "MILL_NPOP_SEQ = eval(MILL_NPOP_SEQ)\n",
    "MILL_NTOURN_SEQ = eval(MILL_NTOURN_SEQ)\n"
   ]
  },
  {
   "cell_type": "markdown",
   "id": "b6c5b205",
   "metadata": {
    "papermill": {
     "duration": 0.008283,
     "end_time": "2023-05-23T19:25:09.630266",
     "exception": false,
     "start_time": "2023-05-23T19:25:09.621983",
     "status": "completed"
    },
    "tags": []
   },
   "source": [
    "# Global Setup\n"
   ]
  },
  {
   "cell_type": "code",
   "execution_count": 6,
   "id": "c2835f26",
   "metadata": {
    "execution": {
     "iopub.execute_input": "2023-05-23T19:25:09.647558Z",
     "iopub.status.busy": "2023-05-23T19:25:09.647244Z",
     "iopub.status.idle": "2023-05-23T19:25:11.593039Z",
     "shell.execute_reply": "2023-05-23T19:25:11.592004Z"
    },
    "papermill": {
     "duration": 1.956747,
     "end_time": "2023-05-23T19:25:11.595135",
     "exception": false,
     "start_time": "2023-05-23T19:25:09.638388",
     "status": "completed"
    },
    "tags": []
   },
   "outputs": [],
   "source": [
    "import copy\n",
    "import math\n",
    "import itertools as it\n",
    "import typing\n",
    "import random\n",
    "\n",
    "import alifedata_phyloinformatics_convert as apc\n",
    "from deap import algorithms as deap_algorithms\n",
    "from deap import base as deap_base\n",
    "from deap import creator as deap_creator\n",
    "from deap import tools as deap_tools\n",
    "\n",
    "from hstrat import hstrat\n",
    "from iterpop import iterpop as ip\n",
    "from keyname import keyname as kn\n",
    "from matplotlib import pyplot as plt\n",
    "from nbmetalog import nbmetalog as nbm\n",
    "import numpy as np\n",
    "import pandas as pd\n",
    "from scipy import stats as scipy_stats\n",
    "import seaborn as sns\n",
    "import sympy\n",
    "from teeplot import teeplot as tp\n",
    "from tqdm import tqdm\n",
    "\n",
    "import pylib\n"
   ]
  },
  {
   "cell_type": "code",
   "execution_count": 7,
   "id": "026dcd3f",
   "metadata": {
    "execution": {
     "iopub.execute_input": "2023-05-23T19:25:11.614774Z",
     "iopub.status.busy": "2023-05-23T19:25:11.613928Z",
     "iopub.status.idle": "2023-05-23T19:25:11.619821Z",
     "shell.execute_reply": "2023-05-23T19:25:11.619101Z"
    },
    "papermill": {
     "duration": 0.018449,
     "end_time": "2023-05-23T19:25:11.621762",
     "exception": false,
     "start_time": "2023-05-23T19:25:11.603313",
     "status": "completed"
    },
    "tags": []
   },
   "outputs": [],
   "source": [
    "random.seed(MILL_REPLICATE)\n"
   ]
  },
  {
   "cell_type": "code",
   "execution_count": 8,
   "id": "b1bb3baa",
   "metadata": {
    "execution": {
     "iopub.execute_input": "2023-05-23T19:25:11.639844Z",
     "iopub.status.busy": "2023-05-23T19:25:11.639074Z",
     "iopub.status.idle": "2023-05-23T19:25:12.624655Z",
     "shell.execute_reply": "2023-05-23T19:25:12.623914Z"
    },
    "papermill": {
     "duration": 0.99969,
     "end_time": "2023-05-23T19:25:12.629378",
     "exception": false,
     "start_time": "2023-05-23T19:25:11.629688",
     "status": "completed"
    },
    "tags": []
   },
   "outputs": [
    {
     "name": "stdout",
     "output_type": "stream",
     "text": [
      "context: local\n",
      "hostname: thinkpad\n",
      "interpreter: 3.10.6 (main, Mar 10 2023, 10:55:28) [GCC 11.3.0]\n",
      "nbcellexec: null\n",
      "nbname: None\n",
      "nbpath: None\n",
      "revision: null\n",
      "session: 2197c173-9b41-4cf1-a3a4-fe936e245fdf\n",
      "timestamp: 2023-05-23T12:25:12Z00:00\n",
      "\n",
      "\n"
     ]
    },
    {
     "name": "stdout",
     "output_type": "stream",
     "text": [
      "IPython==8.13.2\n",
      "keyname==0.5.2\n",
      "yaml==6.0\n",
      "alifedata_phyloinformatics_convert==0.13.0\n",
      "deap==1.3\n",
      "endomill==0.1.3\n",
      "hstrat==1.6.1\n",
      "iterpop==0.4.1\n",
      "matplotlib==3.7.1\n",
      "nbmetalog==0.2.6\n",
      "numpy==1.24.3\n",
      "pandas==2.0.1\n",
      "scipy==1.10.1\n",
      "seaborn==0.12.2\n",
      "sympy==1.12\n",
      "teeplot==0.5.0\n",
      "re==2.2.1\n",
      "comm==0.1.3\n",
      "logging==0.5.1.2\n",
      "psutil==5.9.5\n",
      "zmq==25.0.2\n",
      "json==2.0.9\n",
      "ipykernel==6.23.1\n"
     ]
    }
   ],
   "source": [
    "nbm.print_metadata()\n"
   ]
  },
  {
   "cell_type": "markdown",
   "id": "903897bd",
   "metadata": {
    "papermill": {
     "duration": 0.01229,
     "end_time": "2023-05-23T19:25:12.652815",
     "exception": false,
     "start_time": "2023-05-23T19:25:12.640525",
     "status": "completed"
    },
    "tags": []
   },
   "source": [
    "# Parameters\n"
   ]
  },
  {
   "cell_type": "code",
   "execution_count": 9,
   "id": "e89467ee",
   "metadata": {
    "execution": {
     "iopub.execute_input": "2023-05-23T19:25:12.678364Z",
     "iopub.status.busy": "2023-05-23T19:25:12.677503Z",
     "iopub.status.idle": "2023-05-23T19:25:12.685040Z",
     "shell.execute_reply": "2023-05-23T19:25:12.683882Z"
    },
    "papermill": {
     "duration": 0.024846,
     "end_time": "2023-05-23T19:25:12.687614",
     "exception": false,
     "start_time": "2023-05-23T19:25:12.662768",
     "status": "completed"
    },
    "tags": []
   },
   "outputs": [],
   "source": [
    "# HSTRAT_RESOLUTION = None\n",
    "HSTRAT_DIFFERENTIA_WIDTH = 64\n",
    "NGEN = ip.pophomogeneous([len(MILL_NPOP_SEQ), len(MILL_NTOURN_SEQ)])\n"
   ]
  },
  {
   "cell_type": "markdown",
   "id": "ccdff5fa",
   "metadata": {
    "papermill": {
     "duration": 0.011853,
     "end_time": "2023-05-23T19:25:12.709772",
     "exception": false,
     "start_time": "2023-05-23T19:25:12.697919",
     "status": "completed"
    },
    "tags": []
   },
   "source": [
    "# Setup\n"
   ]
  },
  {
   "cell_type": "code",
   "execution_count": 10,
   "id": "d08cb87c",
   "metadata": {
    "execution": {
     "iopub.execute_input": "2023-05-23T19:25:12.733470Z",
     "iopub.status.busy": "2023-05-23T19:25:12.732469Z",
     "iopub.status.idle": "2023-05-23T19:25:12.745013Z",
     "shell.execute_reply": "2023-05-23T19:25:12.743991Z"
    },
    "papermill": {
     "duration": 0.029735,
     "end_time": "2023-05-23T19:25:12.750006",
     "exception": false,
     "start_time": "2023-05-23T19:25:12.720271",
     "status": "completed"
    },
    "tags": []
   },
   "outputs": [],
   "source": [
    "deap_creator.create(\"FitnessMax\", deap_base.Fitness, weights=(1.0,))\n",
    "deap_creator.create(\"Individual\", list, fitness=deap_creator.FitnessMax)\n",
    "\n",
    "toolbox = deap_base.Toolbox()\n",
    "\n",
    "toolbox.register(\"attr_bool\", random.randint, 0, 1)\n",
    "toolbox.register(\n",
    "    \"individual\",\n",
    "    deap_tools.initRepeat,\n",
    "    deap_creator.Individual,\n",
    "    toolbox.attr_bool,\n",
    "    n=100,\n",
    ")\n",
    "toolbox.register(\"population\", deap_tools.initRepeat, list, toolbox.individual)\n",
    "\n",
    "\n",
    "def evalOneMax(individual):\n",
    "    return (sum(individual),)\n",
    "\n",
    "\n",
    "toolbox.register(\"evaluate\", evalOneMax)\n",
    "toolbox.register(\"mate\", deap_tools.cxTwoPoint)\n",
    "toolbox.register(\"mutate\", deap_tools.mutFlipBit, indpb=0.05)\n",
    "\n",
    "# Decorate the variation operators\n",
    "history = deap_tools.History()\n",
    "toolbox.decorate(\"mate\", history.decorator)\n",
    "\n",
    "toolbox.decorate(\"mate\", pylib.deap.hstrat_mate_decorator)\n"
   ]
  },
  {
   "cell_type": "markdown",
   "id": "21ea4ee7",
   "metadata": {
    "papermill": {
     "duration": 0.009281,
     "end_time": "2023-05-23T19:25:12.769404",
     "exception": false,
     "start_time": "2023-05-23T19:25:12.760123",
     "status": "completed"
    },
    "tags": []
   },
   "source": [
    "# Evolve\n"
   ]
  },
  {
   "cell_type": "code",
   "execution_count": 11,
   "id": "615a0447",
   "metadata": {
    "execution": {
     "iopub.execute_input": "2023-05-23T19:25:12.791127Z",
     "iopub.status.busy": "2023-05-23T19:25:12.790532Z",
     "iopub.status.idle": "2023-05-23T19:32:58.819101Z",
     "shell.execute_reply": "2023-05-23T19:32:58.817943Z"
    },
    "papermill": {
     "duration": 466.043117,
     "end_time": "2023-05-23T19:32:58.821181",
     "exception": false,
     "start_time": "2023-05-23T19:25:12.778064",
     "status": "completed"
    },
    "tags": []
   },
   "outputs": [
    {
     "name": "stderr",
     "output_type": "stream",
     "text": [
      "\r",
      "0it [00:00, ?it/s]"
     ]
    },
    {
     "name": "stderr",
     "output_type": "stream",
     "text": [
      "\r",
      "1it [00:00,  4.90it/s]"
     ]
    },
    {
     "name": "stderr",
     "output_type": "stream",
     "text": [
      "\r",
      "2it [00:00,  2.85it/s]"
     ]
    },
    {
     "name": "stderr",
     "output_type": "stream",
     "text": [
      "\r",
      "3it [00:00,  3.05it/s]"
     ]
    },
    {
     "name": "stderr",
     "output_type": "stream",
     "text": [
      "\r",
      "4it [00:01,  2.86it/s]"
     ]
    },
    {
     "name": "stderr",
     "output_type": "stream",
     "text": [
      "\r",
      "5it [00:02,  2.07it/s]"
     ]
    },
    {
     "name": "stderr",
     "output_type": "stream",
     "text": [
      "\r",
      "6it [00:02,  1.76it/s]"
     ]
    },
    {
     "name": "stderr",
     "output_type": "stream",
     "text": [
      "\r",
      "7it [00:03,  1.79it/s]"
     ]
    },
    {
     "name": "stderr",
     "output_type": "stream",
     "text": [
      "\r",
      "8it [00:04,  1.61it/s]"
     ]
    },
    {
     "name": "stderr",
     "output_type": "stream",
     "text": [
      "\r",
      "9it [00:04,  1.86it/s]"
     ]
    },
    {
     "name": "stderr",
     "output_type": "stream",
     "text": [
      "\r",
      "10it [00:05,  1.82it/s]"
     ]
    },
    {
     "name": "stderr",
     "output_type": "stream",
     "text": [
      "\r",
      "11it [00:05,  1.61it/s]"
     ]
    },
    {
     "name": "stderr",
     "output_type": "stream",
     "text": [
      "\r",
      "12it [00:06,  1.58it/s]"
     ]
    },
    {
     "name": "stderr",
     "output_type": "stream",
     "text": [
      "\r",
      "13it [00:07,  1.57it/s]"
     ]
    },
    {
     "name": "stderr",
     "output_type": "stream",
     "text": [
      "\r",
      "14it [00:07,  1.42it/s]"
     ]
    },
    {
     "name": "stderr",
     "output_type": "stream",
     "text": [
      "\r",
      "15it [00:08,  1.45it/s]"
     ]
    },
    {
     "name": "stderr",
     "output_type": "stream",
     "text": [
      "\r",
      "16it [00:09,  1.50it/s]"
     ]
    },
    {
     "name": "stderr",
     "output_type": "stream",
     "text": [
      "\r",
      "17it [00:10,  1.32it/s]"
     ]
    },
    {
     "name": "stderr",
     "output_type": "stream",
     "text": [
      "\r",
      "18it [00:10,  1.31it/s]"
     ]
    },
    {
     "name": "stderr",
     "output_type": "stream",
     "text": [
      "\r",
      "19it [00:11,  1.32it/s]"
     ]
    },
    {
     "name": "stderr",
     "output_type": "stream",
     "text": [
      "\r",
      "20it [00:12,  1.27it/s]"
     ]
    },
    {
     "name": "stderr",
     "output_type": "stream",
     "text": [
      "\r",
      "21it [00:13,  1.11it/s]"
     ]
    },
    {
     "name": "stderr",
     "output_type": "stream",
     "text": [
      "\r",
      "22it [00:14,  1.18it/s]"
     ]
    },
    {
     "name": "stderr",
     "output_type": "stream",
     "text": [
      "\r",
      "23it [00:15,  1.21it/s]"
     ]
    },
    {
     "name": "stderr",
     "output_type": "stream",
     "text": [
      "\r",
      "24it [00:16,  1.17it/s]"
     ]
    },
    {
     "name": "stderr",
     "output_type": "stream",
     "text": [
      "\r",
      "25it [00:17,  1.14it/s]"
     ]
    },
    {
     "name": "stderr",
     "output_type": "stream",
     "text": [
      "\r",
      "26it [00:18,  1.09it/s]"
     ]
    },
    {
     "name": "stderr",
     "output_type": "stream",
     "text": [
      "\r",
      "27it [00:19,  1.07it/s]"
     ]
    },
    {
     "name": "stderr",
     "output_type": "stream",
     "text": [
      "\r",
      "28it [00:20,  1.02it/s]"
     ]
    },
    {
     "name": "stderr",
     "output_type": "stream",
     "text": [
      "\r",
      "29it [00:20,  1.12it/s]"
     ]
    },
    {
     "name": "stderr",
     "output_type": "stream",
     "text": [
      "\r",
      "30it [00:21,  1.13it/s]"
     ]
    },
    {
     "name": "stderr",
     "output_type": "stream",
     "text": [
      "\r",
      "31it [00:22,  1.05it/s]"
     ]
    },
    {
     "name": "stderr",
     "output_type": "stream",
     "text": [
      "\r",
      "32it [00:23,  1.12it/s]"
     ]
    },
    {
     "name": "stderr",
     "output_type": "stream",
     "text": [
      "\r",
      "33it [00:24,  1.10it/s]"
     ]
    },
    {
     "name": "stderr",
     "output_type": "stream",
     "text": [
      "\r",
      "34it [00:25,  1.09it/s]"
     ]
    },
    {
     "name": "stderr",
     "output_type": "stream",
     "text": [
      "\r",
      "35it [00:26,  1.01s/it]"
     ]
    },
    {
     "name": "stderr",
     "output_type": "stream",
     "text": [
      "\r",
      "36it [00:27,  1.01s/it]"
     ]
    },
    {
     "name": "stderr",
     "output_type": "stream",
     "text": [
      "\r",
      "37it [00:28,  1.07it/s]"
     ]
    },
    {
     "name": "stderr",
     "output_type": "stream",
     "text": [
      "\r",
      "38it [00:29,  1.04it/s]"
     ]
    },
    {
     "name": "stderr",
     "output_type": "stream",
     "text": [
      "\r",
      "39it [00:30,  1.08s/it]"
     ]
    },
    {
     "name": "stderr",
     "output_type": "stream",
     "text": [
      "\r",
      "40it [00:32,  1.12s/it]"
     ]
    },
    {
     "name": "stderr",
     "output_type": "stream",
     "text": [
      "\r",
      "41it [00:33,  1.13s/it]"
     ]
    },
    {
     "name": "stderr",
     "output_type": "stream",
     "text": [
      "\r",
      "42it [00:34,  1.25s/it]"
     ]
    },
    {
     "name": "stderr",
     "output_type": "stream",
     "text": [
      "\r",
      "43it [00:35,  1.20s/it]"
     ]
    },
    {
     "name": "stderr",
     "output_type": "stream",
     "text": [
      "\r",
      "44it [00:37,  1.20s/it]"
     ]
    },
    {
     "name": "stderr",
     "output_type": "stream",
     "text": [
      "\r",
      "45it [00:38,  1.20s/it]"
     ]
    },
    {
     "name": "stderr",
     "output_type": "stream",
     "text": [
      "\r",
      "46it [00:39,  1.32s/it]"
     ]
    },
    {
     "name": "stderr",
     "output_type": "stream",
     "text": [
      "\r",
      "47it [00:41,  1.30s/it]"
     ]
    },
    {
     "name": "stderr",
     "output_type": "stream",
     "text": [
      "\r",
      "48it [00:42,  1.29s/it]"
     ]
    },
    {
     "name": "stderr",
     "output_type": "stream",
     "text": [
      "\r",
      "49it [00:43,  1.23s/it]"
     ]
    },
    {
     "name": "stderr",
     "output_type": "stream",
     "text": [
      "\r",
      "50it [00:45,  1.37s/it]"
     ]
    },
    {
     "name": "stderr",
     "output_type": "stream",
     "text": [
      "\r",
      "51it [00:46,  1.36s/it]"
     ]
    },
    {
     "name": "stderr",
     "output_type": "stream",
     "text": [
      "\r",
      "52it [00:47,  1.36s/it]"
     ]
    },
    {
     "name": "stderr",
     "output_type": "stream",
     "text": [
      "\r",
      "53it [00:49,  1.36s/it]"
     ]
    },
    {
     "name": "stderr",
     "output_type": "stream",
     "text": [
      "\r",
      "54it [00:50,  1.36s/it]"
     ]
    },
    {
     "name": "stderr",
     "output_type": "stream",
     "text": [
      "\r",
      "55it [00:52,  1.51s/it]"
     ]
    },
    {
     "name": "stderr",
     "output_type": "stream",
     "text": [
      "\r",
      "56it [00:53,  1.49s/it]"
     ]
    },
    {
     "name": "stderr",
     "output_type": "stream",
     "text": [
      "\r",
      "57it [00:55,  1.47s/it]"
     ]
    },
    {
     "name": "stderr",
     "output_type": "stream",
     "text": [
      "\r",
      "58it [00:56,  1.46s/it]"
     ]
    },
    {
     "name": "stderr",
     "output_type": "stream",
     "text": [
      "\r",
      "59it [00:58,  1.61s/it]"
     ]
    },
    {
     "name": "stderr",
     "output_type": "stream",
     "text": [
      "\r",
      "60it [01:00,  1.58s/it]"
     ]
    },
    {
     "name": "stderr",
     "output_type": "stream",
     "text": [
      "\r",
      "61it [01:01,  1.56s/it]"
     ]
    },
    {
     "name": "stderr",
     "output_type": "stream",
     "text": [
      "\r",
      "62it [01:03,  1.55s/it]"
     ]
    },
    {
     "name": "stderr",
     "output_type": "stream",
     "text": [
      "\r",
      "63it [01:04,  1.55s/it]"
     ]
    },
    {
     "name": "stderr",
     "output_type": "stream",
     "text": [
      "\r",
      "64it [01:06,  1.72s/it]"
     ]
    },
    {
     "name": "stderr",
     "output_type": "stream",
     "text": [
      "\r",
      "65it [01:08,  1.68s/it]"
     ]
    },
    {
     "name": "stderr",
     "output_type": "stream",
     "text": [
      "\r",
      "66it [01:10,  1.66s/it]"
     ]
    },
    {
     "name": "stderr",
     "output_type": "stream",
     "text": [
      "\r",
      "67it [01:11,  1.66s/it]"
     ]
    },
    {
     "name": "stderr",
     "output_type": "stream",
     "text": [
      "\r",
      "68it [01:13,  1.59s/it]"
     ]
    },
    {
     "name": "stderr",
     "output_type": "stream",
     "text": [
      "\r",
      "69it [01:14,  1.59s/it]"
     ]
    },
    {
     "name": "stderr",
     "output_type": "stream",
     "text": [
      "\r",
      "70it [01:16,  1.49s/it]"
     ]
    },
    {
     "name": "stderr",
     "output_type": "stream",
     "text": [
      "\r",
      "71it [01:17,  1.38s/it]"
     ]
    },
    {
     "name": "stderr",
     "output_type": "stream",
     "text": [
      "\r",
      "72it [01:18,  1.40s/it]"
     ]
    },
    {
     "name": "stderr",
     "output_type": "stream",
     "text": [
      "\r",
      "73it [01:20,  1.67s/it]"
     ]
    },
    {
     "name": "stderr",
     "output_type": "stream",
     "text": [
      "\r",
      "74it [01:22,  1.67s/it]"
     ]
    },
    {
     "name": "stderr",
     "output_type": "stream",
     "text": [
      "\r",
      "75it [01:24,  1.68s/it]"
     ]
    },
    {
     "name": "stderr",
     "output_type": "stream",
     "text": [
      "\r",
      "76it [01:26,  1.72s/it]"
     ]
    },
    {
     "name": "stderr",
     "output_type": "stream",
     "text": [
      "\r",
      "77it [01:27,  1.76s/it]"
     ]
    },
    {
     "name": "stderr",
     "output_type": "stream",
     "text": [
      "\r",
      "78it [01:30,  2.00s/it]"
     ]
    },
    {
     "name": "stderr",
     "output_type": "stream",
     "text": [
      "\r",
      "79it [01:32,  1.94s/it]"
     ]
    },
    {
     "name": "stderr",
     "output_type": "stream",
     "text": [
      "\r",
      "80it [01:34,  1.93s/it]"
     ]
    },
    {
     "name": "stderr",
     "output_type": "stream",
     "text": [
      "\r",
      "81it [01:36,  1.94s/it]"
     ]
    },
    {
     "name": "stderr",
     "output_type": "stream",
     "text": [
      "\r",
      "82it [01:38,  1.95s/it]"
     ]
    },
    {
     "name": "stderr",
     "output_type": "stream",
     "text": [
      "\r",
      "83it [01:40,  2.18s/it]"
     ]
    },
    {
     "name": "stderr",
     "output_type": "stream",
     "text": [
      "\r",
      "84it [01:42,  2.10s/it]"
     ]
    },
    {
     "name": "stderr",
     "output_type": "stream",
     "text": [
      "\r",
      "85it [01:44,  2.07s/it]"
     ]
    },
    {
     "name": "stderr",
     "output_type": "stream",
     "text": [
      "\r",
      "86it [01:46,  2.06s/it]"
     ]
    },
    {
     "name": "stderr",
     "output_type": "stream",
     "text": [
      "\r",
      "87it [01:48,  2.04s/it]"
     ]
    },
    {
     "name": "stderr",
     "output_type": "stream",
     "text": [
      "\r",
      "88it [01:51,  2.30s/it]"
     ]
    },
    {
     "name": "stderr",
     "output_type": "stream",
     "text": [
      "\r",
      "89it [01:53,  2.23s/it]"
     ]
    },
    {
     "name": "stderr",
     "output_type": "stream",
     "text": [
      "\r",
      "90it [01:55,  2.18s/it]"
     ]
    },
    {
     "name": "stderr",
     "output_type": "stream",
     "text": [
      "\r",
      "91it [01:57,  1.91s/it]"
     ]
    },
    {
     "name": "stderr",
     "output_type": "stream",
     "text": [
      "\r",
      "92it [01:58,  1.77s/it]"
     ]
    },
    {
     "name": "stderr",
     "output_type": "stream",
     "text": [
      "\r",
      "93it [02:00,  1.92s/it]"
     ]
    },
    {
     "name": "stderr",
     "output_type": "stream",
     "text": [
      "\r",
      "94it [02:02,  1.90s/it]"
     ]
    },
    {
     "name": "stderr",
     "output_type": "stream",
     "text": [
      "\r",
      "95it [02:03,  1.68s/it]"
     ]
    },
    {
     "name": "stderr",
     "output_type": "stream",
     "text": [
      "\r",
      "96it [02:06,  1.86s/it]"
     ]
    },
    {
     "name": "stderr",
     "output_type": "stream",
     "text": [
      "\r",
      "97it [02:08,  1.99s/it]"
     ]
    },
    {
     "name": "stderr",
     "output_type": "stream",
     "text": [
      "\r",
      "98it [02:10,  2.07s/it]"
     ]
    },
    {
     "name": "stderr",
     "output_type": "stream",
     "text": [
      "\r",
      "99it [02:13,  2.41s/it]"
     ]
    },
    {
     "name": "stderr",
     "output_type": "stream",
     "text": [
      "\r",
      "100it [02:16,  2.39s/it]"
     ]
    },
    {
     "name": "stderr",
     "output_type": "stream",
     "text": [
      "\r",
      "101it [02:17,  2.08s/it]"
     ]
    },
    {
     "name": "stderr",
     "output_type": "stream",
     "text": [
      "\r",
      "102it [02:19,  1.90s/it]"
     ]
    },
    {
     "name": "stderr",
     "output_type": "stream",
     "text": [
      "\r",
      "103it [02:20,  1.90s/it]"
     ]
    },
    {
     "name": "stderr",
     "output_type": "stream",
     "text": [
      "\r",
      "104it [02:23,  2.01s/it]"
     ]
    },
    {
     "name": "stderr",
     "output_type": "stream",
     "text": [
      "\r",
      "105it [02:26,  2.42s/it]"
     ]
    },
    {
     "name": "stderr",
     "output_type": "stream",
     "text": [
      "\r",
      "106it [02:29,  2.44s/it]"
     ]
    },
    {
     "name": "stderr",
     "output_type": "stream",
     "text": [
      "\r",
      "107it [02:31,  2.45s/it]"
     ]
    },
    {
     "name": "stderr",
     "output_type": "stream",
     "text": [
      "\r",
      "108it [02:34,  2.47s/it]"
     ]
    },
    {
     "name": "stderr",
     "output_type": "stream",
     "text": [
      "\r",
      "109it [02:36,  2.49s/it]"
     ]
    },
    {
     "name": "stderr",
     "output_type": "stream",
     "text": [
      "\r",
      "110it [02:40,  2.81s/it]"
     ]
    },
    {
     "name": "stderr",
     "output_type": "stream",
     "text": [
      "\r",
      "111it [02:42,  2.73s/it]"
     ]
    },
    {
     "name": "stderr",
     "output_type": "stream",
     "text": [
      "\r",
      "112it [02:45,  2.68s/it]"
     ]
    },
    {
     "name": "stderr",
     "output_type": "stream",
     "text": [
      "\r",
      "113it [02:47,  2.66s/it]"
     ]
    },
    {
     "name": "stderr",
     "output_type": "stream",
     "text": [
      "\r",
      "114it [02:50,  2.64s/it]"
     ]
    },
    {
     "name": "stderr",
     "output_type": "stream",
     "text": [
      "\r",
      "115it [02:54,  2.91s/it]"
     ]
    },
    {
     "name": "stderr",
     "output_type": "stream",
     "text": [
      "\r",
      "116it [02:56,  2.84s/it]"
     ]
    },
    {
     "name": "stderr",
     "output_type": "stream",
     "text": [
      "\r",
      "117it [02:59,  2.78s/it]"
     ]
    },
    {
     "name": "stderr",
     "output_type": "stream",
     "text": [
      "\r",
      "118it [03:01,  2.75s/it]"
     ]
    },
    {
     "name": "stderr",
     "output_type": "stream",
     "text": [
      "\r",
      "119it [03:04,  2.73s/it]"
     ]
    },
    {
     "name": "stderr",
     "output_type": "stream",
     "text": [
      "\r",
      "120it [03:07,  2.61s/it]"
     ]
    },
    {
     "name": "stderr",
     "output_type": "stream",
     "text": [
      "\r",
      "121it [03:09,  2.65s/it]"
     ]
    },
    {
     "name": "stderr",
     "output_type": "stream",
     "text": [
      "\r",
      "122it [03:13,  3.03s/it]"
     ]
    },
    {
     "name": "stderr",
     "output_type": "stream",
     "text": [
      "\r",
      "123it [03:15,  2.59s/it]"
     ]
    },
    {
     "name": "stderr",
     "output_type": "stream",
     "text": [
      "\r",
      "124it [03:17,  2.39s/it]"
     ]
    },
    {
     "name": "stderr",
     "output_type": "stream",
     "text": [
      "\r",
      "125it [03:18,  2.12s/it]"
     ]
    },
    {
     "name": "stderr",
     "output_type": "stream",
     "text": [
      "\r",
      "126it [03:20,  1.93s/it]"
     ]
    },
    {
     "name": "stderr",
     "output_type": "stream",
     "text": [
      "\r",
      "127it [03:22,  2.15s/it]"
     ]
    },
    {
     "name": "stderr",
     "output_type": "stream",
     "text": [
      "\r",
      "128it [03:26,  2.73s/it]"
     ]
    },
    {
     "name": "stderr",
     "output_type": "stream",
     "text": [
      "\r",
      "129it [03:29,  2.78s/it]"
     ]
    },
    {
     "name": "stderr",
     "output_type": "stream",
     "text": [
      "\r",
      "130it [03:32,  2.83s/it]"
     ]
    },
    {
     "name": "stderr",
     "output_type": "stream",
     "text": [
      "\r",
      "131it [03:35,  2.86s/it]"
     ]
    },
    {
     "name": "stderr",
     "output_type": "stream",
     "text": [
      "\r",
      "132it [03:38,  2.88s/it]"
     ]
    },
    {
     "name": "stderr",
     "output_type": "stream",
     "text": [
      "\r",
      "133it [03:41,  2.91s/it]"
     ]
    },
    {
     "name": "stderr",
     "output_type": "stream",
     "text": [
      "\r",
      "134it [03:45,  3.33s/it]"
     ]
    },
    {
     "name": "stderr",
     "output_type": "stream",
     "text": [
      "\r",
      "135it [03:48,  3.24s/it]"
     ]
    },
    {
     "name": "stderr",
     "output_type": "stream",
     "text": [
      "\r",
      "136it [03:51,  3.19s/it]"
     ]
    },
    {
     "name": "stderr",
     "output_type": "stream",
     "text": [
      "\r",
      "137it [03:54,  3.09s/it]"
     ]
    },
    {
     "name": "stderr",
     "output_type": "stream",
     "text": [
      "\r",
      "138it [03:57,  2.97s/it]"
     ]
    },
    {
     "name": "stderr",
     "output_type": "stream",
     "text": [
      "\r",
      "139it [03:59,  2.56s/it]"
     ]
    },
    {
     "name": "stderr",
     "output_type": "stream",
     "text": [
      "\r",
      "140it [04:00,  2.32s/it]"
     ]
    },
    {
     "name": "stderr",
     "output_type": "stream",
     "text": [
      "\r",
      "141it [04:05,  2.96s/it]"
     ]
    },
    {
     "name": "stderr",
     "output_type": "stream",
     "text": [
      "\r",
      "142it [04:08,  3.03s/it]"
     ]
    },
    {
     "name": "stderr",
     "output_type": "stream",
     "text": [
      "\r",
      "143it [04:11,  3.06s/it]"
     ]
    },
    {
     "name": "stderr",
     "output_type": "stream",
     "text": [
      "\r",
      "144it [04:14,  3.10s/it]"
     ]
    },
    {
     "name": "stderr",
     "output_type": "stream",
     "text": [
      "\r",
      "145it [04:18,  3.13s/it]"
     ]
    },
    {
     "name": "stderr",
     "output_type": "stream",
     "text": [
      "\r",
      "146it [04:20,  2.78s/it]"
     ]
    },
    {
     "name": "stderr",
     "output_type": "stream",
     "text": [
      "\r",
      "147it [04:22,  2.62s/it]"
     ]
    },
    {
     "name": "stderr",
     "output_type": "stream",
     "text": [
      "\r",
      "148it [04:26,  3.10s/it]"
     ]
    },
    {
     "name": "stderr",
     "output_type": "stream",
     "text": [
      "\r",
      "149it [04:29,  3.17s/it]"
     ]
    },
    {
     "name": "stderr",
     "output_type": "stream",
     "text": [
      "\r",
      "150it [04:33,  3.18s/it]"
     ]
    },
    {
     "name": "stderr",
     "output_type": "stream",
     "text": [
      "\r",
      "151it [04:36,  3.12s/it]"
     ]
    },
    {
     "name": "stderr",
     "output_type": "stream",
     "text": [
      "\r",
      "152it [04:38,  2.87s/it]"
     ]
    },
    {
     "name": "stderr",
     "output_type": "stream",
     "text": [
      "\r",
      "153it [04:41,  2.94s/it]"
     ]
    },
    {
     "name": "stderr",
     "output_type": "stream",
     "text": [
      "\r",
      "154it [04:43,  2.78s/it]"
     ]
    },
    {
     "name": "stderr",
     "output_type": "stream",
     "text": [
      "\r",
      "155it [04:47,  3.18s/it]"
     ]
    },
    {
     "name": "stderr",
     "output_type": "stream",
     "text": [
      "\r",
      "156it [04:51,  3.19s/it]"
     ]
    },
    {
     "name": "stderr",
     "output_type": "stream",
     "text": [
      "\r",
      "157it [04:53,  2.96s/it]"
     ]
    },
    {
     "name": "stderr",
     "output_type": "stream",
     "text": [
      "\r",
      "158it [04:57,  3.12s/it]"
     ]
    },
    {
     "name": "stderr",
     "output_type": "stream",
     "text": [
      "\r",
      "159it [05:00,  3.23s/it]"
     ]
    },
    {
     "name": "stderr",
     "output_type": "stream",
     "text": [
      "\r",
      "160it [05:03,  3.25s/it]"
     ]
    },
    {
     "name": "stderr",
     "output_type": "stream",
     "text": [
      "\r",
      "161it [05:07,  3.28s/it]"
     ]
    },
    {
     "name": "stderr",
     "output_type": "stream",
     "text": [
      "\r",
      "162it [05:12,  3.95s/it]"
     ]
    },
    {
     "name": "stderr",
     "output_type": "stream",
     "text": [
      "\r",
      "163it [05:16,  3.86s/it]"
     ]
    },
    {
     "name": "stderr",
     "output_type": "stream",
     "text": [
      "\r",
      "164it [05:19,  3.66s/it]"
     ]
    },
    {
     "name": "stderr",
     "output_type": "stream",
     "text": [
      "\r",
      "165it [05:22,  3.49s/it]"
     ]
    },
    {
     "name": "stderr",
     "output_type": "stream",
     "text": [
      "\r",
      "166it [05:26,  3.47s/it]"
     ]
    },
    {
     "name": "stderr",
     "output_type": "stream",
     "text": [
      "\r",
      "167it [05:29,  3.52s/it]"
     ]
    },
    {
     "name": "stderr",
     "output_type": "stream",
     "text": [
      "\r",
      "168it [05:33,  3.50s/it]"
     ]
    },
    {
     "name": "stderr",
     "output_type": "stream",
     "text": [
      "\r",
      "169it [05:36,  3.54s/it]"
     ]
    },
    {
     "name": "stderr",
     "output_type": "stream",
     "text": [
      "\r",
      "170it [05:42,  4.12s/it]"
     ]
    },
    {
     "name": "stderr",
     "output_type": "stream",
     "text": [
      "\r",
      "171it [05:46,  4.01s/it]"
     ]
    },
    {
     "name": "stderr",
     "output_type": "stream",
     "text": [
      "\r",
      "172it [05:49,  3.96s/it]"
     ]
    },
    {
     "name": "stderr",
     "output_type": "stream",
     "text": [
      "\r",
      "173it [05:53,  3.92s/it]"
     ]
    },
    {
     "name": "stderr",
     "output_type": "stream",
     "text": [
      "\r",
      "174it [05:57,  3.89s/it]"
     ]
    },
    {
     "name": "stderr",
     "output_type": "stream",
     "text": [
      "\r",
      "175it [06:01,  3.87s/it]"
     ]
    },
    {
     "name": "stderr",
     "output_type": "stream",
     "text": [
      "\r",
      "176it [06:05,  3.87s/it]"
     ]
    },
    {
     "name": "stderr",
     "output_type": "stream",
     "text": [
      "\r",
      "177it [06:09,  3.86s/it]"
     ]
    },
    {
     "name": "stderr",
     "output_type": "stream",
     "text": [
      "\r",
      "178it [06:13,  4.15s/it]"
     ]
    },
    {
     "name": "stderr",
     "output_type": "stream",
     "text": [
      "\r",
      "179it [06:17,  4.09s/it]"
     ]
    },
    {
     "name": "stderr",
     "output_type": "stream",
     "text": [
      "\r",
      "180it [06:21,  3.96s/it]"
     ]
    },
    {
     "name": "stderr",
     "output_type": "stream",
     "text": [
      "\r",
      "181it [06:25,  3.97s/it]"
     ]
    },
    {
     "name": "stderr",
     "output_type": "stream",
     "text": [
      "\r",
      "182it [06:29,  3.98s/it]"
     ]
    },
    {
     "name": "stderr",
     "output_type": "stream",
     "text": [
      "\r",
      "183it [06:32,  3.70s/it]"
     ]
    },
    {
     "name": "stderr",
     "output_type": "stream",
     "text": [
      "\r",
      "184it [06:35,  3.40s/it]"
     ]
    },
    {
     "name": "stderr",
     "output_type": "stream",
     "text": [
      "\r",
      "185it [06:38,  3.33s/it]"
     ]
    },
    {
     "name": "stderr",
     "output_type": "stream",
     "text": [
      "\r",
      "186it [06:44,  4.11s/it]"
     ]
    },
    {
     "name": "stderr",
     "output_type": "stream",
     "text": [
      "\r",
      "187it [06:48,  4.12s/it]"
     ]
    },
    {
     "name": "stderr",
     "output_type": "stream",
     "text": [
      "\r",
      "188it [06:52,  4.12s/it]"
     ]
    },
    {
     "name": "stderr",
     "output_type": "stream",
     "text": [
      "\r",
      "189it [06:56,  4.13s/it]"
     ]
    },
    {
     "name": "stderr",
     "output_type": "stream",
     "text": [
      "\r",
      "190it [07:00,  4.14s/it]"
     ]
    },
    {
     "name": "stderr",
     "output_type": "stream",
     "text": [
      "\r",
      "191it [07:05,  4.14s/it]"
     ]
    },
    {
     "name": "stderr",
     "output_type": "stream",
     "text": [
      "\r",
      "192it [07:08,  3.93s/it]"
     ]
    },
    {
     "name": "stderr",
     "output_type": "stream",
     "text": [
      "\r",
      "193it [07:12,  3.99s/it]"
     ]
    },
    {
     "name": "stderr",
     "output_type": "stream",
     "text": [
      "\r",
      "194it [07:19,  4.74s/it]"
     ]
    },
    {
     "name": "stderr",
     "output_type": "stream",
     "text": [
      "\r",
      "195it [07:23,  4.60s/it]"
     ]
    },
    {
     "name": "stderr",
     "output_type": "stream",
     "text": [
      "\r",
      "196it [07:27,  4.49s/it]"
     ]
    },
    {
     "name": "stderr",
     "output_type": "stream",
     "text": [
      "\r",
      "197it [07:31,  4.42s/it]"
     ]
    },
    {
     "name": "stderr",
     "output_type": "stream",
     "text": [
      "\r",
      "198it [07:36,  4.38s/it]"
     ]
    },
    {
     "name": "stderr",
     "output_type": "stream",
     "text": [
      "\r",
      "199it [07:40,  4.37s/it]"
     ]
    },
    {
     "name": "stderr",
     "output_type": "stream",
     "text": [
      "\r",
      "200it [07:44,  4.32s/it]"
     ]
    },
    {
     "name": "stderr",
     "output_type": "stream",
     "text": [
      "\r",
      "200it [07:44,  2.32s/it]"
     ]
    },
    {
     "name": "stderr",
     "output_type": "stream",
     "text": [
      "\n"
     ]
    }
   ],
   "source": [
    "# Create the population and populate the history\n",
    "population = toolbox.population(n=MILL_NPOP_SEQ[0])\n",
    "\n",
    "species_ancestor = hstrat.HereditaryStratigraphicColumn(\n",
    "    stratum_retention_policy=hstrat.perfect_resolution_algo.Policy(),\n",
    "    stratum_differentia_bit_width=HSTRAT_DIFFERENTIA_WIDTH,\n",
    ")\n",
    "gene_ancestor = hstrat.HereditaryStratigraphicColumn(\n",
    "    stratum_retention_policy=hstrat.perfect_resolution_algo.Policy(),\n",
    "    stratum_differentia_bit_width=HSTRAT_DIFFERENTIA_WIDTH,\n",
    "    initial_stratum_annotation=0,\n",
    ")\n",
    "for member in population:\n",
    "    member.species_annotation = species_ancestor.CloneDescendant()\n",
    "    member.gene_annotation = gene_ancestor.CloneDescendant(0)\n",
    "\n",
    "history.update(population)\n",
    "\n",
    "# Do the evolution, the decorators will take care of updating the\n",
    "# history\n",
    "for _gen, (NPOP, NTOURN) in tqdm(\n",
    "    enumerate(\n",
    "        zip(\n",
    "            MILL_NPOP_SEQ,\n",
    "            MILL_NTOURN_SEQ,\n",
    "        )\n",
    "    )\n",
    "):\n",
    "    toolbox.register(\"select\", deap_tools.selTournament, tournsize=NTOURN)\n",
    "    offspring = deap_algorithms.varAnd(\n",
    "        population, toolbox, cxpb=1.0, mutpb=1.0,\n",
    "    )\n",
    "    fits = toolbox.map(toolbox.evaluate, offspring)\n",
    "    for fit, ind in zip(fits, offspring):\n",
    "        ind.fitness.values = fit\n",
    "    population = toolbox.select(offspring, k=NPOP)\n",
    "    population = [copy.deepcopy(ind) for ind in population]\n",
    "\n",
    "# ensure all extant organisms registered with phylogeny tracker\n",
    "for x in population:\n",
    "    history.update([x])\n"
   ]
  },
  {
   "cell_type": "markdown",
   "id": "e7c302a9",
   "metadata": {
    "papermill": {
     "duration": 0.047025,
     "end_time": "2023-05-23T19:32:58.902080",
     "exception": false,
     "start_time": "2023-05-23T19:32:58.855055",
     "status": "completed"
    },
    "tags": []
   },
   "source": [
    "# Reconstruction\n"
   ]
  },
  {
   "cell_type": "code",
   "execution_count": 12,
   "id": "dcaf3a36",
   "metadata": {
    "execution": {
     "iopub.execute_input": "2023-05-23T19:32:59.041168Z",
     "iopub.status.busy": "2023-05-23T19:32:59.040697Z",
     "iopub.status.idle": "2023-05-23T19:32:59.308640Z",
     "shell.execute_reply": "2023-05-23T19:32:59.307532Z"
    },
    "papermill": {
     "duration": 0.307708,
     "end_time": "2023-05-23T19:32:59.311488",
     "exception": false,
     "start_time": "2023-05-23T19:32:59.003780",
     "status": "completed"
    },
    "tags": []
   },
   "outputs": [
    {
     "data": {
      "text/html": [
       "<div>\n",
       "<style scoped>\n",
       "    .dataframe tbody tr th:only-of-type {\n",
       "        vertical-align: middle;\n",
       "    }\n",
       "\n",
       "    .dataframe tbody tr th {\n",
       "        vertical-align: top;\n",
       "    }\n",
       "\n",
       "    .dataframe thead th {\n",
       "        text-align: right;\n",
       "    }\n",
       "</style>\n",
       "<table border=\"1\" class=\"dataframe\">\n",
       "  <thead>\n",
       "    <tr style=\"text-align: right;\">\n",
       "      <th></th>\n",
       "      <th>id</th>\n",
       "      <th>ancestor_list</th>\n",
       "      <th>origin_time</th>\n",
       "      <th>taxon_label</th>\n",
       "      <th>ancestor_id</th>\n",
       "      <th>name</th>\n",
       "    </tr>\n",
       "  </thead>\n",
       "  <tbody>\n",
       "    <tr>\n",
       "      <th>0</th>\n",
       "      <td>0</td>\n",
       "      <td>[none]</td>\n",
       "      <td>0.0</td>\n",
       "      <td>Root</td>\n",
       "      <td>0</td>\n",
       "      <td>Root</td>\n",
       "    </tr>\n",
       "    <tr>\n",
       "      <th>197</th>\n",
       "      <td>197</td>\n",
       "      <td>[0]</td>\n",
       "      <td>196.0</td>\n",
       "      <td>Inner+r=196+d=MR6iHj22MPd+uid=Cv2-nSfr0OBVAfxv...</td>\n",
       "      <td>0</td>\n",
       "      <td>Inner+r=196+d=MR6iHj22MPd+uid=Cv2-nSfr0OBVAfxv...</td>\n",
       "    </tr>\n",
       "    <tr>\n",
       "      <th>199</th>\n",
       "      <td>199</td>\n",
       "      <td>[197]</td>\n",
       "      <td>197.0</td>\n",
       "      <td>Inner+r=197+d=MR-RwoUROTc+uid=BeYnnb4J7dWqUxn0...</td>\n",
       "      <td>197</td>\n",
       "      <td>Inner+r=197+d=MR-RwoUROTc+uid=BeYnnb4J7dWqUxn0...</td>\n",
       "    </tr>\n",
       "    <tr>\n",
       "      <th>204</th>\n",
       "      <td>204</td>\n",
       "      <td>[197]</td>\n",
       "      <td>198.0</td>\n",
       "      <td>Inner+r=198+d=PgHb4ilEqOl+uid=CcfUmKj3bch1ZCdA...</td>\n",
       "      <td>197</td>\n",
       "      <td>Inner+r=198+d=PgHb4ilEqOl+uid=CcfUmKj3bch1ZCdA...</td>\n",
       "    </tr>\n",
       "    <tr>\n",
       "      <th>205</th>\n",
       "      <td>205</td>\n",
       "      <td>[199]</td>\n",
       "      <td>198.0</td>\n",
       "      <td>Inner+r=198+d=OTRjNgIGcrI+uid=DK3_kYxBpm2YL6TX...</td>\n",
       "      <td>199</td>\n",
       "      <td>Inner+r=198+d=OTRjNgIGcrI+uid=DK3_kYxBpm2YL6TX...</td>\n",
       "    </tr>\n",
       "    <tr>\n",
       "      <th>...</th>\n",
       "      <td>...</td>\n",
       "      <td>...</td>\n",
       "      <td>...</td>\n",
       "      <td>...</td>\n",
       "      <td>...</td>\n",
       "      <td>...</td>\n",
       "    </tr>\n",
       "    <tr>\n",
       "      <th>444</th>\n",
       "      <td>444</td>\n",
       "      <td>[246]</td>\n",
       "      <td>201.0</td>\n",
       "      <td>20155</td>\n",
       "      <td>246</td>\n",
       "      <td>20155</td>\n",
       "    </tr>\n",
       "    <tr>\n",
       "      <th>445</th>\n",
       "      <td>445</td>\n",
       "      <td>[246]</td>\n",
       "      <td>201.0</td>\n",
       "      <td>20139</td>\n",
       "      <td>246</td>\n",
       "      <td>20139</td>\n",
       "    </tr>\n",
       "    <tr>\n",
       "      <th>446</th>\n",
       "      <td>446</td>\n",
       "      <td>[247]</td>\n",
       "      <td>201.0</td>\n",
       "      <td>20194</td>\n",
       "      <td>247</td>\n",
       "      <td>20194</td>\n",
       "    </tr>\n",
       "    <tr>\n",
       "      <th>447</th>\n",
       "      <td>447</td>\n",
       "      <td>[247]</td>\n",
       "      <td>201.0</td>\n",
       "      <td>20142</td>\n",
       "      <td>247</td>\n",
       "      <td>20142</td>\n",
       "    </tr>\n",
       "    <tr>\n",
       "      <th>448</th>\n",
       "      <td>448</td>\n",
       "      <td>[197]</td>\n",
       "      <td>201.0</td>\n",
       "      <td>20159</td>\n",
       "      <td>197</td>\n",
       "      <td>20159</td>\n",
       "    </tr>\n",
       "  </tbody>\n",
       "</table>\n",
       "<p>133 rows × 6 columns</p>\n",
       "</div>"
      ],
      "text/plain": [
       "      id ancestor_list  origin_time   \n",
       "0      0        [none]          0.0  \\\n",
       "197  197           [0]        196.0   \n",
       "199  199         [197]        197.0   \n",
       "204  204         [197]        198.0   \n",
       "205  205         [199]        198.0   \n",
       "..   ...           ...          ...   \n",
       "444  444         [246]        201.0   \n",
       "445  445         [246]        201.0   \n",
       "446  446         [247]        201.0   \n",
       "447  447         [247]        201.0   \n",
       "448  448         [197]        201.0   \n",
       "\n",
       "                                           taxon_label  ancestor_id   \n",
       "0                                                 Root            0  \\\n",
       "197  Inner+r=196+d=MR6iHj22MPd+uid=Cv2-nSfr0OBVAfxv...            0   \n",
       "199  Inner+r=197+d=MR-RwoUROTc+uid=BeYnnb4J7dWqUxn0...          197   \n",
       "204  Inner+r=198+d=PgHb4ilEqOl+uid=CcfUmKj3bch1ZCdA...          197   \n",
       "205  Inner+r=198+d=OTRjNgIGcrI+uid=DK3_kYxBpm2YL6TX...          199   \n",
       "..                                                 ...          ...   \n",
       "444                                              20155          246   \n",
       "445                                              20139          246   \n",
       "446                                              20194          247   \n",
       "447                                              20142          247   \n",
       "448                                              20159          197   \n",
       "\n",
       "                                                  name  \n",
       "0                                                 Root  \n",
       "197  Inner+r=196+d=MR6iHj22MPd+uid=Cv2-nSfr0OBVAfxv...  \n",
       "199  Inner+r=197+d=MR-RwoUROTc+uid=BeYnnb4J7dWqUxn0...  \n",
       "204  Inner+r=198+d=PgHb4ilEqOl+uid=CcfUmKj3bch1ZCdA...  \n",
       "205  Inner+r=198+d=OTRjNgIGcrI+uid=DK3_kYxBpm2YL6TX...  \n",
       "..                                                 ...  \n",
       "444                                              20155  \n",
       "445                                              20139  \n",
       "446                                              20194  \n",
       "447                                              20142  \n",
       "448                                              20159  \n",
       "\n",
       "[133 rows x 6 columns]"
      ]
     },
     "execution_count": 12,
     "metadata": {},
     "output_type": "execute_result"
    }
   ],
   "source": [
    "extant_nodes = [individual.history_index for individual in population]\n",
    "reconstructed_df = hstrat.build_tree(\n",
    "    [individual.species_annotation for individual in population],\n",
    "    version_pin=hstrat.__version__,\n",
    "    force_common_ancestry=True,\n",
    "    taxon_labels=map(str, extant_nodes),\n",
    ")\n",
    "reconstructed_df[\"name\"] = reconstructed_df[\"taxon_label\"]\n",
    "reconstructed_df\n"
   ]
  },
  {
   "cell_type": "code",
   "execution_count": 13,
   "id": "2cd00a61",
   "metadata": {
    "execution": {
     "iopub.execute_input": "2023-05-23T19:32:59.383691Z",
     "iopub.status.busy": "2023-05-23T19:32:59.382854Z",
     "iopub.status.idle": "2023-05-23T19:33:03.051540Z",
     "shell.execute_reply": "2023-05-23T19:33:03.050318Z"
    },
    "papermill": {
     "duration": 3.707732,
     "end_time": "2023-05-23T19:33:03.054521",
     "exception": false,
     "start_time": "2023-05-23T19:32:59.346789",
     "status": "completed"
    },
    "tags": []
   },
   "outputs": [
    {
     "name": "stdout",
     "output_type": "stream",
     "text": [
      "teeplots/./notebook=ne-inference+replicate=7+treatment=selection-pressure+type=reconstruction+viz=draw-biopython-tree+ext=.pdf\n"
     ]
    },
    {
     "name": "stdout",
     "output_type": "stream",
     "text": [
      "teeplots/./notebook=ne-inference+replicate=7+treatment=selection-pressure+type=reconstruction+viz=draw-biopython-tree+ext=.png\n"
     ]
    },
    {
     "data": {
      "image/png": "[encoded data removed]",
      "text/plain": [
       "<Figure size 650x400 with 1 Axes>"
      ]
     },
     "metadata": {},
     "output_type": "display_data"
    }
   ],
   "source": [
    "reconstructed_tree = apc.alife_dataframe_to_biopython_tree(\n",
    "    reconstructed_df, setup_branch_lengths=True\n",
    ")\n",
    "plt.rcdefaults()\n",
    "plt.close('all')\n",
    "plt.clf()\n",
    "tp.tee(\n",
    "    pylib.tree.draw_biopython_tree,\n",
    "    reconstructed_tree,\n",
    "    teeplot_outattrs={\n",
    "        \"notebook\": \"ne-inference\",\n",
    "        \"replicate\": str(MILL_REPLICATE),\n",
    "        \"treatment\": MILL_TREATMENT_NAME,\n",
    "        \"type\": \"reconstruction\",\n",
    "    },\n",
    ")\n"
   ]
  },
  {
   "cell_type": "code",
   "execution_count": 14,
   "id": "5629c1e0",
   "metadata": {
    "execution": {
     "iopub.execute_input": "2023-05-23T19:33:03.133978Z",
     "iopub.status.busy": "2023-05-23T19:33:03.132401Z",
     "iopub.status.idle": "2023-05-23T19:33:05.295375Z",
     "shell.execute_reply": "2023-05-23T19:33:05.294307Z"
    },
    "papermill": {
     "duration": 2.205188,
     "end_time": "2023-05-23T19:33:05.298051",
     "exception": false,
     "start_time": "2023-05-23T19:33:03.092863",
     "status": "completed"
    },
    "tags": []
   },
   "outputs": [
    {
     "name": "stdout",
     "output_type": "stream",
     "text": [
      "teeplots/./drop_overlapping_labels=true+notebook=ne-inference+replicate=7+treatment=selection-pressure+type=reconstruction+viz=draw-biopython-tree+ext=.pdf\n"
     ]
    },
    {
     "name": "stdout",
     "output_type": "stream",
     "text": [
      "teeplots/./drop_overlapping_labels=true+notebook=ne-inference+replicate=7+treatment=selection-pressure+type=reconstruction+viz=draw-biopython-tree+ext=.png\n"
     ]
    },
    {
     "data": {
      "image/png": "[encoded data removed]",
      "text/plain": [
       "<Figure size 650x400 with 1 Axes>"
      ]
     },
     "metadata": {},
     "output_type": "display_data"
    }
   ],
   "source": [
    "reconstructed_tree = apc.alife_dataframe_to_biopython_tree(\n",
    "    reconstructed_df, setup_branch_lengths=True\n",
    ")\n",
    "plt.rcdefaults()\n",
    "plt.close('all')\n",
    "plt.clf()\n",
    "tp.tee(\n",
    "    pylib.tree.draw_biopython_tree,\n",
    "    reconstructed_tree,\n",
    "    drop_overlapping_labels=True,\n",
    "    teeplot_outattrs={\n",
    "        \"drop_overlapping_labels\": \"true\",\n",
    "        \"notebook\": \"ne-inference\",\n",
    "        \"replicate\": str(MILL_REPLICATE),\n",
    "        \"treatment\": MILL_TREATMENT_NAME,\n",
    "        \"type\": \"reconstruction\",\n",
    "    },\n",
    ")\n"
   ]
  },
  {
   "cell_type": "code",
   "execution_count": 15,
   "id": "9652a1e0",
   "metadata": {
    "execution": {
     "iopub.execute_input": "2023-05-23T19:33:05.381275Z",
     "iopub.status.busy": "2023-05-23T19:33:05.380824Z",
     "iopub.status.idle": "2023-05-23T19:33:07.236538Z",
     "shell.execute_reply": "2023-05-23T19:33:07.235297Z"
    },
    "papermill": {
     "duration": 1.901004,
     "end_time": "2023-05-23T19:33:07.239431",
     "exception": false,
     "start_time": "2023-05-23T19:33:05.338427",
     "status": "completed"
    },
    "tags": []
   },
   "outputs": [
    {
     "name": "stdout",
     "output_type": "stream",
     "text": [
      "teeplots/./max_leaves=20+notebook=ne-inference+replicate=7+treatment=selection-pressure+type=reconstruction+viz=draw-biopython-tree+ext=.pdf\n"
     ]
    },
    {
     "name": "stdout",
     "output_type": "stream",
     "text": [
      "teeplots/./max_leaves=20+notebook=ne-inference+replicate=7+treatment=selection-pressure+type=reconstruction+viz=draw-biopython-tree+ext=.png\n"
     ]
    },
    {
     "data": {
      "image/png": "[encoded data removed]",
      "text/plain": [
       "<Figure size 650x400 with 1 Axes>"
      ]
     },
     "metadata": {},
     "output_type": "display_data"
    }
   ],
   "source": [
    "reconstructed_tree = apc.alife_dataframe_to_biopython_tree(\n",
    "    reconstructed_df, setup_branch_lengths=True\n",
    ")\n",
    "plt.rcdefaults()\n",
    "plt.close('all')\n",
    "plt.clf()\n",
    "tp.tee(\n",
    "    pylib.tree.draw_biopython_tree,\n",
    "    reconstructed_tree,\n",
    "    max_leaves=20,\n",
    "    teeplot_outattrs={\n",
    "        \"max_leaves\": \"20\",\n",
    "        \"notebook\": \"ne-inference\",\n",
    "        \"replicate\": str(MILL_REPLICATE),\n",
    "        \"treatment\": MILL_TREATMENT_NAME,\n",
    "        \"type\": \"reconstruction\",\n",
    "    },\n",
    ")\n"
   ]
  },
  {
   "cell_type": "markdown",
   "id": "7d73c017",
   "metadata": {
    "papermill": {
     "duration": 0.040045,
     "end_time": "2023-05-23T19:33:07.319961",
     "exception": false,
     "start_time": "2023-05-23T19:33:07.279916",
     "status": "completed"
    },
    "tags": []
   },
   "source": [
    "# Actual Pedigree\n"
   ]
  },
  {
   "cell_type": "code",
   "execution_count": 16,
   "id": "377185ee",
   "metadata": {
    "execution": {
     "iopub.execute_input": "2023-05-23T19:33:07.404273Z",
     "iopub.status.busy": "2023-05-23T19:33:07.403109Z",
     "iopub.status.idle": "2023-05-23T19:33:17.790938Z",
     "shell.execute_reply": "2023-05-23T19:33:17.790128Z"
    },
    "papermill": {
     "duration": 10.433439,
     "end_time": "2023-05-23T19:33:17.793594",
     "exception": false,
     "start_time": "2023-05-23T19:33:07.360155",
     "status": "completed"
    },
    "tags": []
   },
   "outputs": [],
   "source": [
    "distilled_tree = pylib.deap.history_to_tree_upgma(history, extant_nodes)\n"
   ]
  },
  {
   "cell_type": "code",
   "execution_count": 17,
   "id": "f5c4d0b4",
   "metadata": {
    "execution": {
     "iopub.execute_input": "2023-05-23T19:33:17.879160Z",
     "iopub.status.busy": "2023-05-23T19:33:17.878139Z",
     "iopub.status.idle": "2023-05-23T19:33:23.995730Z",
     "shell.execute_reply": "2023-05-23T19:33:23.994337Z"
    },
    "papermill": {
     "duration": 6.167979,
     "end_time": "2023-05-23T19:33:23.999276",
     "exception": false,
     "start_time": "2023-05-23T19:33:17.831297",
     "status": "completed"
    },
    "tags": []
   },
   "outputs": [
    {
     "name": "stdout",
     "output_type": "stream",
     "text": [
      "teeplots/./notebook=ne-inference+replicate=7+treatment=selection-pressure+type=distilled-reference+viz=draw-biopython-tree+ext=.pdf\n"
     ]
    },
    {
     "name": "stdout",
     "output_type": "stream",
     "text": [
      "teeplots/./notebook=ne-inference+replicate=7+treatment=selection-pressure+type=distilled-reference+viz=draw-biopython-tree+ext=.png\n"
     ]
    },
    {
     "data": {
      "image/png": "[encoded data removed]",
      "text/plain": [
       "<Figure size 650x400 with 1 Axes>"
      ]
     },
     "metadata": {},
     "output_type": "display_data"
    }
   ],
   "source": [
    "plt.rcdefaults()\n",
    "plt.close('all')\n",
    "plt.clf()\n",
    "tp.tee(\n",
    "    pylib.tree.draw_biopython_tree,\n",
    "    distilled_tree,\n",
    "    teeplot_outattrs={\n",
    "        \"notebook\": \"ne-inference\",\n",
    "        \"replicate\": str(MILL_REPLICATE),\n",
    "        \"treatment\": MILL_TREATMENT_NAME,\n",
    "        \"type\": \"distilled-reference\",\n",
    "    },\n",
    ")\n"
   ]
  },
  {
   "cell_type": "code",
   "execution_count": 18,
   "id": "2e3bf107",
   "metadata": {
    "execution": {
     "iopub.execute_input": "2023-05-23T19:33:24.143939Z",
     "iopub.status.busy": "2023-05-23T19:33:24.143435Z",
     "iopub.status.idle": "2023-05-23T19:33:27.426095Z",
     "shell.execute_reply": "2023-05-23T19:33:27.424946Z"
    },
    "papermill": {
     "duration": 3.381631,
     "end_time": "2023-05-23T19:33:27.428909",
     "exception": false,
     "start_time": "2023-05-23T19:33:24.047278",
     "status": "completed"
    },
    "tags": []
   },
   "outputs": [
    {
     "name": "stdout",
     "output_type": "stream",
     "text": [
      "teeplots/./drop_overlapping_labels=true+notebook=ne-inference+replicate=7+treatment=selection-pressure+type=distilled-reference+viz=draw-biopython-tree+ext=.pdf\n"
     ]
    },
    {
     "name": "stdout",
     "output_type": "stream",
     "text": [
      "teeplots/./drop_overlapping_labels=true+notebook=ne-inference+replicate=7+treatment=selection-pressure+type=distilled-reference+viz=draw-biopython-tree+ext=.png\n"
     ]
    },
    {
     "data": {
      "image/png": "[encoded data removed]",
      "text/plain": [
       "<Figure size 650x400 with 1 Axes>"
      ]
     },
     "metadata": {},
     "output_type": "display_data"
    }
   ],
   "source": [
    "tp.tee(\n",
    "    pylib.tree.draw_biopython_tree,\n",
    "    distilled_tree,\n",
    "    drop_overlapping_labels=True,\n",
    "    teeplot_outattrs={\n",
    "        \"drop_overlapping_labels\": \"true\",\n",
    "        \"notebook\": \"ne-inference\",\n",
    "        \"replicate\": str(MILL_REPLICATE),\n",
    "        \"treatment\": MILL_TREATMENT_NAME,\n",
    "        \"type\": \"distilled-reference\",\n",
    "    },\n",
    ")\n"
   ]
  },
  {
   "cell_type": "code",
   "execution_count": 19,
   "id": "61ca75f9",
   "metadata": {
    "execution": {
     "iopub.execute_input": "2023-05-23T19:33:27.522327Z",
     "iopub.status.busy": "2023-05-23T19:33:27.521573Z",
     "iopub.status.idle": "2023-05-23T19:33:29.036810Z",
     "shell.execute_reply": "2023-05-23T19:33:29.035718Z"
    },
    "papermill": {
     "duration": 1.564675,
     "end_time": "2023-05-23T19:33:29.038798",
     "exception": false,
     "start_time": "2023-05-23T19:33:27.474123",
     "status": "completed"
    },
    "tags": []
   },
   "outputs": [
    {
     "name": "stdout",
     "output_type": "stream",
     "text": [
      "teeplots/./max_leaves=20+notebook=ne-inference+replicate=7+treatment=selection-pressure+type=distilled-reference+viz=draw-biopython-tree+ext=.pdf\n"
     ]
    },
    {
     "name": "stdout",
     "output_type": "stream",
     "text": [
      "teeplots/./max_leaves=20+notebook=ne-inference+replicate=7+treatment=selection-pressure+type=distilled-reference+viz=draw-biopython-tree+ext=.png\n"
     ]
    },
    {
     "data": {
      "image/png": "[encoded data removed]",
      "text/plain": [
       "<Figure size 650x400 with 1 Axes>"
      ]
     },
     "metadata": {},
     "output_type": "display_data"
    }
   ],
   "source": [
    "tp.tee(\n",
    "    pylib.tree.draw_biopython_tree,\n",
    "    distilled_tree,\n",
    "    max_leaves=20,\n",
    "    teeplot_outattrs={\n",
    "        \"max_leaves\": \"20\",\n",
    "        \"notebook\": \"ne-inference\",\n",
    "        \"replicate\": str(MILL_REPLICATE),\n",
    "        \"treatment\": MILL_TREATMENT_NAME,\n",
    "        \"type\": \"distilled-reference\",\n",
    "    },\n",
    ")\n"
   ]
  },
  {
   "cell_type": "code",
   "execution_count": 20,
   "id": "6e9e33dc",
   "metadata": {
    "execution": {
     "iopub.execute_input": "2023-05-23T19:33:29.092159Z",
     "iopub.status.busy": "2023-05-23T19:33:29.091732Z",
     "iopub.status.idle": "2023-05-23T19:33:40.820087Z",
     "shell.execute_reply": "2023-05-23T19:33:40.819131Z"
    },
    "papermill": {
     "duration": 11.758912,
     "end_time": "2023-05-23T19:33:40.822720",
     "exception": false,
     "start_time": "2023-05-23T19:33:29.063808",
     "status": "completed"
    },
    "tags": []
   },
   "outputs": [
    {
     "data": {
      "text/plain": [
       "0.4519103086407946"
      ]
     },
     "execution_count": 20,
     "metadata": {},
     "output_type": "execute_result"
    }
   ],
   "source": [
    "distilled_tree = pylib.deap.history_to_tree_upgma(\n",
    "    history, extant_nodes, correct_origin_times=False\n",
    ")\n",
    "pylib.tree.polymorphic_quartet_distance(reconstructed_tree, distilled_tree)\n"
   ]
  },
  {
   "cell_type": "markdown",
   "id": "e38441bd",
   "metadata": {
    "papermill": {
     "duration": 0.044695,
     "end_time": "2023-05-23T19:33:40.912036",
     "exception": false,
     "start_time": "2023-05-23T19:33:40.867341",
     "status": "completed"
    },
    "tags": []
   },
   "source": [
    "# Differentia Magnitude\n"
   ]
  },
  {
   "cell_type": "code",
   "execution_count": 21,
   "id": "75a86c7d",
   "metadata": {
    "execution": {
     "iopub.execute_input": "2023-05-23T19:33:41.006592Z",
     "iopub.status.busy": "2023-05-23T19:33:41.004297Z",
     "iopub.status.idle": "2023-05-23T19:33:41.011816Z",
     "shell.execute_reply": "2023-05-23T19:33:41.010647Z"
    },
    "papermill": {
     "duration": 0.057925,
     "end_time": "2023-05-23T19:33:41.014579",
     "exception": false,
     "start_time": "2023-05-23T19:33:40.956654",
     "status": "completed"
    },
    "tags": []
   },
   "outputs": [],
   "source": [
    "rd_data = dict(population[0].species_annotation.IterRankDifferentiaZip())\n"
   ]
  },
  {
   "cell_type": "code",
   "execution_count": 22,
   "id": "be42f598",
   "metadata": {
    "execution": {
     "iopub.execute_input": "2023-05-23T19:33:41.110497Z",
     "iopub.status.busy": "2023-05-23T19:33:41.109012Z",
     "iopub.status.idle": "2023-05-23T19:33:42.627540Z",
     "shell.execute_reply": "2023-05-23T19:33:42.626326Z"
    },
    "papermill": {
     "duration": 1.569681,
     "end_time": "2023-05-23T19:33:42.630440",
     "exception": false,
     "start_time": "2023-05-23T19:33:41.060759",
     "status": "completed"
    },
    "tags": []
   },
   "outputs": [
    {
     "name": "stdout",
     "output_type": "stream",
     "text": [
      "teeplots/./notebook=ne-inference+replicate=7+treatment=selection-pressure+viz=scatterplot-differentia-magnitude+ext=.pdf\n"
     ]
    },
    {
     "name": "stdout",
     "output_type": "stream",
     "text": [
      "teeplots/./notebook=ne-inference+replicate=7+treatment=selection-pressure+viz=scatterplot-differentia-magnitude+ext=.png\n"
     ]
    },
    {
     "data": {
      "image/png": "[encoded data removed]",
      "text/plain": [
       "<Figure size 640x480 with 1 Axes>"
      ]
     },
     "metadata": {},
     "output_type": "display_data"
    }
   ],
   "source": [
    "def scatterplot_differentia_magnitude():\n",
    "#     plt.plot(*[*zip(*enumerate(MILL_NPOP_SEQ))])\n",
    "\n",
    "    sns.scatterplot(\n",
    "        x=rd_data.keys(),\n",
    "        y=rd_data.values(),\n",
    "        c=\"k\",\n",
    "    )\n",
    "\n",
    "    for i, (a, b) in enumerate(it.pairwise(MILL_NPOP_SEQ)):\n",
    "        if abs(a - b) > 2:\n",
    "            plt.axvline(i + 1, c=\"white\", lw=6)\n",
    "\n",
    "            plt.axvline(i + 1, ls=\":\", c=\"red\")\n",
    "    for i, (a, b) in enumerate(it.pairwise(MILL_NTOURN_SEQ)):\n",
    "        if a != b:\n",
    "            plt.axvline(i + 1, c=\"white\", lw=6)\n",
    "            plt.axvline(i + 1, ls=\":\", c=\"red\")\n",
    "\n",
    "    plt.ylabel(\"fixed differentia magnitude\")\n",
    "    plt.xlabel(\"generation\")\n",
    "\n",
    "plt.rcdefaults()\n",
    "plt.close('all')\n",
    "plt.clf()\n",
    "tp.tee(\n",
    "    scatterplot_differentia_magnitude,\n",
    "    teeplot_outattrs={\n",
    "        \"notebook\": \"ne-inference\",\n",
    "        \"replicate\": str(MILL_REPLICATE),\n",
    "        \"treatment\": MILL_TREATMENT_NAME,\n",
    "    },\n",
    ")\n"
   ]
  },
  {
   "cell_type": "code",
   "execution_count": 23,
   "id": "757cead1",
   "metadata": {
    "execution": {
     "iopub.execute_input": "2023-05-23T19:33:42.731566Z",
     "iopub.status.busy": "2023-05-23T19:33:42.731075Z",
     "iopub.status.idle": "2023-05-23T19:33:44.355581Z",
     "shell.execute_reply": "2023-05-23T19:33:44.354417Z"
    },
    "papermill": {
     "duration": 1.676749,
     "end_time": "2023-05-23T19:33:44.358483",
     "exception": false,
     "start_time": "2023-05-23T19:33:42.681734",
     "status": "completed"
    },
    "tags": []
   },
   "outputs": [
    {
     "name": "stdout",
     "output_type": "stream",
     "text": [
      "teeplots/./notebook=ne-inference+replicate=7+treatment=selection-pressure+viz=scatterplot-popsize-estimates+ext=.pdf\n"
     ]
    },
    {
     "name": "stdout",
     "output_type": "stream",
     "text": [
      "teeplots/./notebook=ne-inference+replicate=7+treatment=selection-pressure+viz=scatterplot-popsize-estimates+ext=.png\n"
     ]
    },
    {
     "data": {
      "image/png": "[encoded data removed]",
      "text/plain": [
       "<Figure size 640x480 with 1 Axes>"
      ]
     },
     "metadata": {},
     "output_type": "display_data"
    }
   ],
   "source": [
    "def scatterplot_popsize_estimates():\n",
    "    plt.plot(*[*zip(*enumerate(MILL_NPOP_SEQ))])\n",
    "\n",
    "    sns.scatterplot(\n",
    "        x=rd_data.keys(),\n",
    "       y=[\n",
    "            -1 / np.log(x / 2**HSTRAT_DIFFERENTIA_WIDTH)\n",
    "            for x in rd_data.values()\n",
    "        ],\n",
    "        c=\"k\",\n",
    "    )\n",
    "\n",
    "    for i, (a, b) in enumerate(it.pairwise(MILL_NPOP_SEQ)):\n",
    "        if abs(a - b) > 2:\n",
    "            plt.axvline(i + 1, c=\"white\", lw=6)\n",
    "\n",
    "            plt.axvline(i + 1, ls=\":\", c=\"red\")\n",
    "    for i, (a, b) in enumerate(it.pairwise(MILL_NTOURN_SEQ)):\n",
    "        if a != b:\n",
    "            plt.axvline(i + 1, c=\"white\", lw=6)\n",
    "            plt.axvline(i + 1, ls=\":\", c=\"red\")\n",
    "\n",
    "    plt.ylabel(\"estimated population size\")\n",
    "    plt.xlabel(\"generation\")\n",
    "\n",
    "plt.rcdefaults()\n",
    "plt.close('all')\n",
    "plt.clf()\n",
    "tp.tee(\n",
    "    scatterplot_popsize_estimates,\n",
    "    teeplot_outattrs={\n",
    "        \"notebook\": \"ne-inference\",\n",
    "        \"replicate\": str(MILL_REPLICATE),\n",
    "        \"treatment\": MILL_TREATMENT_NAME,\n",
    "    },\n",
    ")\n"
   ]
  },
  {
   "cell_type": "code",
   "execution_count": 24,
   "id": "e5f58066",
   "metadata": {
    "execution": {
     "iopub.execute_input": "2023-05-23T19:33:44.460470Z",
     "iopub.status.busy": "2023-05-23T19:33:44.459970Z",
     "iopub.status.idle": "2023-05-23T19:33:44.469829Z",
     "shell.execute_reply": "2023-05-23T19:33:44.468551Z"
    },
    "papermill": {
     "duration": 0.067185,
     "end_time": "2023-05-23T19:33:44.472894",
     "exception": false,
     "start_time": "2023-05-23T19:33:44.405709",
     "status": "completed"
    },
    "tags": []
   },
   "outputs": [],
   "source": [
    "# TODO pool strata to create a running estimate with 95% confidence interval bands\n",
    "import pandas as pd\n",
    "\n",
    "df = pd.DataFrame(\n",
    "    {\n",
    "        \"rank\": rd_data.keys(),\n",
    "        \"differentia\": rd_data.values(),\n",
    "    }\n",
    ")\n",
    "\n",
    "df[\"normalized differentia\"] = (\n",
    "    df[\"differentia\"] / 2**HSTRAT_DIFFERENTIA_WIDTH\n",
    ")\n"
   ]
  },
  {
   "cell_type": "code",
   "execution_count": 25,
   "id": "58a73540",
   "metadata": {
    "execution": {
     "iopub.execute_input": "2023-05-23T19:33:44.571964Z",
     "iopub.status.busy": "2023-05-23T19:33:44.571495Z",
     "iopub.status.idle": "2023-05-23T19:33:44.583944Z",
     "shell.execute_reply": "2023-05-23T19:33:44.582722Z"
    },
    "papermill": {
     "duration": 0.064863,
     "end_time": "2023-05-23T19:33:44.587380",
     "exception": false,
     "start_time": "2023-05-23T19:33:44.522517",
     "status": "completed"
    },
    "tags": []
   },
   "outputs": [],
   "source": [
    "# https://github.com/mmore500/hereditary-stratigraph-concept/blob/3ebe7a7f3f03c03592564a64b0024632888d8f1d/binder/popsize/maximum_likelihood_popsize_estimator_confidence_interval.ipynb\n",
    "def solve_mle_popsize_ci_lb(\n",
    "    observations: typing.List[float],\n",
    "    *,\n",
    "    confidence: float = 0.95,\n",
    ") -> float:\n",
    "\n",
    "    k = len(observations)\n",
    "    hat_x = math.prod(observations)\n",
    "\n",
    "    # use mle estimate as starting guess\n",
    "    hat_n_mle = -k / math.log(hat_x)\n",
    "\n",
    "    n_lb = sympy.Symbol(\n",
    "        \"n_\\mathrm{lb}\",\n",
    "        positive=True,\n",
    "        real=True,\n",
    "    )\n",
    "\n",
    "    return float(\n",
    "        sympy.nsolve(\n",
    "            2 * sympy.uppergamma(k, -n_lb * sympy.log(hat_x))\n",
    "            - (confidence + 1) * sympy.gamma(k),\n",
    "            hat_n_mle,\n",
    "            verify=False,\n",
    "        )\n",
    "    )\n",
    "\n",
    "\n",
    "def solve_mle_popsize_ci_ub(\n",
    "    observations: typing.List[float],\n",
    "    *,\n",
    "    confidence: float = 0.95,\n",
    ") -> float:\n",
    "\n",
    "    k = len(observations)\n",
    "    hat_x = math.prod(observations)\n",
    "\n",
    "    # use mle estimate as starting guess\n",
    "    hat_n_mle = -k / math.log(hat_x)\n",
    "\n",
    "    n_lb = sympy.Symbol(\n",
    "        \"n_\\mathrm{ub}\",\n",
    "        positive=True,\n",
    "        real=True,\n",
    "    )\n",
    "\n",
    "    return float(\n",
    "        sympy.nsolve(\n",
    "            2 * sympy.uppergamma(k, -n_lb * sympy.log(hat_x))\n",
    "            - (1 - confidence) * sympy.gamma(k),\n",
    "            hat_n_mle,\n",
    "            verify=False,\n",
    "        )\n",
    "    )\n"
   ]
  },
  {
   "cell_type": "code",
   "execution_count": 26,
   "id": "e4c66e58",
   "metadata": {
    "execution": {
     "iopub.execute_input": "2023-05-23T19:33:44.685676Z",
     "iopub.status.busy": "2023-05-23T19:33:44.685242Z",
     "iopub.status.idle": "2023-05-23T19:34:04.523919Z",
     "shell.execute_reply": "2023-05-23T19:34:04.522670Z"
    },
    "papermill": {
     "duration": 19.891144,
     "end_time": "2023-05-23T19:34:04.526987",
     "exception": false,
     "start_time": "2023-05-23T19:33:44.635843",
     "status": "completed"
    },
    "tags": []
   },
   "outputs": [],
   "source": [
    "# Calculate the pooled running estimate\n",
    "k = 10\n",
    "\n",
    "df[\"running_ub\"] = (\n",
    "    df[\"normalized differentia\"]\n",
    "    .rolling(window=k)\n",
    "    .apply(solve_mle_popsize_ci_ub)\n",
    ")\n",
    "df[\"running_lb\"] = (\n",
    "    df[\"normalized differentia\"]\n",
    "    .rolling(window=k)\n",
    "    .apply(solve_mle_popsize_ci_lb)\n",
    ")\n",
    "df[\"population size\"] = (\n",
    "    df[\"normalized differentia\"]\n",
    "    .rolling(window=k)\n",
    "    .apply(lambda x: -k / np.sum(np.log(x)))\n",
    ")\n",
    "\n",
    "k = 1\n",
    "df[\"population size from singleton\"] = (\n",
    "    df[\"normalized differentia\"]\n",
    "    .rolling(window=k)\n",
    "    .apply(lambda x: -k / np.sum(np.log(x)))\n",
    ")\n"
   ]
  },
  {
   "cell_type": "code",
   "execution_count": 27,
   "id": "7285b225",
   "metadata": {
    "execution": {
     "iopub.execute_input": "2023-05-23T19:34:04.636315Z",
     "iopub.status.busy": "2023-05-23T19:34:04.635826Z",
     "iopub.status.idle": "2023-05-23T19:34:06.124503Z",
     "shell.execute_reply": "2023-05-23T19:34:06.123314Z"
    },
    "papermill": {
     "duration": 1.549033,
     "end_time": "2023-05-23T19:34:06.126755",
     "exception": false,
     "start_time": "2023-05-23T19:34:04.577722",
     "status": "completed"
    },
    "tags": []
   },
   "outputs": [
    {
     "name": "stdout",
     "output_type": "stream",
     "text": [
      "teeplots/./notebook=ne-inference+replicate=7+treatment=selection-pressure+viz=plot-running-estimation+x=rank+y=population-size+ext=.pdf\n"
     ]
    },
    {
     "name": "stdout",
     "output_type": "stream",
     "text": [
      "teeplots/./notebook=ne-inference+replicate=7+treatment=selection-pressure+viz=plot-running-estimation+x=rank+y=population-size+ext=.png\n"
     ]
    },
    {
     "data": {
      "image/png": "[encoded data removed]",
      "text/plain": [
       "<Figure size 640x480 with 1 Axes>"
      ]
     },
     "metadata": {},
     "output_type": "display_data"
    }
   ],
   "source": [
    "def plot_running_estimation(x, y, data):\n",
    "    plt.plot(*[*zip(*enumerate(MILL_NPOP_SEQ))])\n",
    "\n",
    "    sns.lineplot(\n",
    "        data=data,\n",
    "        x=x,\n",
    "        y=y,\n",
    "        c=\"k\",\n",
    "    )\n",
    "\n",
    "    for i, (a, b) in enumerate(it.pairwise(MILL_NPOP_SEQ)):\n",
    "        if abs(a - b) > 2:\n",
    "            plt.axvline(i + 1, c=\"white\", lw=6)\n",
    "            plt.axvline(i + 1, ls=\":\", c=\"red\")\n",
    "\n",
    "    for i, (a, b) in enumerate(it.pairwise(MILL_NTOURN_SEQ)):\n",
    "        if a != b:\n",
    "            plt.axvline(i + 1, c=\"white\", lw=6)\n",
    "            plt.axvline(i + 1, ls=\":\", c=\"red\")\n",
    "\n",
    "    plt.fill_between(\n",
    "        df[\"rank\"], df[\"running_ub\"], df[\"running_lb\"], fc=\"lightblue\"\n",
    "    )\n",
    "    plt.xlabel(\"generation\")\n",
    "\n",
    "\n",
    "plt.rcdefaults()\n",
    "plt.close('all')\n",
    "plt.clf()\n",
    "tp.tee(\n",
    "    plot_running_estimation,\n",
    "    x=\"rank\",\n",
    "    y=\"population size\",\n",
    "    data=df,\n",
    "    teeplot_outattrs={\n",
    "        \"notebook\": \"ne-inference\",\n",
    "        \"replicate\": str(MILL_REPLICATE),\n",
    "        \"treatment\": MILL_TREATMENT_NAME,\n",
    "    },\n",
    ")\n"
   ]
  },
  {
   "cell_type": "code",
   "execution_count": 28,
   "id": "5cd6b4dd",
   "metadata": {
    "execution": {
     "iopub.execute_input": "2023-05-23T19:34:06.188787Z",
     "iopub.status.busy": "2023-05-23T19:34:06.188266Z",
     "iopub.status.idle": "2023-05-23T19:34:06.287558Z",
     "shell.execute_reply": "2023-05-23T19:34:06.286394Z"
    },
    "papermill": {
     "duration": 0.134499,
     "end_time": "2023-05-23T19:34:06.289614",
     "exception": false,
     "start_time": "2023-05-23T19:34:06.155115",
     "status": "completed"
    },
    "tags": []
   },
   "outputs": [
    {
     "data": {
      "text/html": [
       "<div>\n",
       "<style scoped>\n",
       "    .dataframe tbody tr th:only-of-type {\n",
       "        vertical-align: middle;\n",
       "    }\n",
       "\n",
       "    .dataframe tbody tr th {\n",
       "        vertical-align: top;\n",
       "    }\n",
       "\n",
       "    .dataframe thead th {\n",
       "        text-align: right;\n",
       "    }\n",
       "</style>\n",
       "<table border=\"1\" class=\"dataframe\">\n",
       "  <thead>\n",
       "    <tr style=\"text-align: right;\">\n",
       "      <th></th>\n",
       "      <th>notebook</th>\n",
       "      <th>replicate</th>\n",
       "      <th>treatment</th>\n",
       "      <th>first rank</th>\n",
       "      <th>population size estimate at first rank</th>\n",
       "      <th>population size upper bound at first rank</th>\n",
       "      <th>population size lower bound at first rank</th>\n",
       "      <th>second rank</th>\n",
       "      <th>population size estimate at second rank</th>\n",
       "      <th>population size upper bound at second rank</th>\n",
       "      <th>population size lower bound at second rank</th>\n",
       "      <th>nonoverlapping CI</th>\n",
       "      <th>Mann-Whitney p</th>\n",
       "      <th>Mann-Whitney significant at alpha = 0.05</th>\n",
       "      <th>Mann-Whitney significant at alpha = 0.01</th>\n",
       "    </tr>\n",
       "  </thead>\n",
       "  <tbody>\n",
       "    <tr>\n",
       "      <th>0</th>\n",
       "      <td>ne-inference</td>\n",
       "      <td>7</td>\n",
       "      <td>selection-pressure</td>\n",
       "      <td>33</td>\n",
       "      <td>15.765177</td>\n",
       "      <td>26.934496</td>\n",
       "      <td>7.560015</td>\n",
       "      <td>100</td>\n",
       "      <td>39.801457</td>\n",
       "      <td>68.000007</td>\n",
       "      <td>19.086346</td>\n",
       "      <td>False</td>\n",
       "      <td>0.002076</td>\n",
       "      <td>True</td>\n",
       "      <td>True</td>\n",
       "    </tr>\n",
       "    <tr>\n",
       "      <th>1</th>\n",
       "      <td>ne-inference</td>\n",
       "      <td>7</td>\n",
       "      <td>selection-pressure</td>\n",
       "      <td>33</td>\n",
       "      <td>15.765177</td>\n",
       "      <td>26.934496</td>\n",
       "      <td>7.560015</td>\n",
       "      <td>166</td>\n",
       "      <td>15.160376</td>\n",
       "      <td>25.901204</td>\n",
       "      <td>7.269990</td>\n",
       "      <td>False</td>\n",
       "      <td>0.876417</td>\n",
       "      <td>False</td>\n",
       "      <td>False</td>\n",
       "    </tr>\n",
       "    <tr>\n",
       "      <th>2</th>\n",
       "      <td>ne-inference</td>\n",
       "      <td>7</td>\n",
       "      <td>selection-pressure</td>\n",
       "      <td>100</td>\n",
       "      <td>39.801457</td>\n",
       "      <td>68.000007</td>\n",
       "      <td>19.086346</td>\n",
       "      <td>33</td>\n",
       "      <td>15.765177</td>\n",
       "      <td>26.934496</td>\n",
       "      <td>7.560015</td>\n",
       "      <td>False</td>\n",
       "      <td>0.002076</td>\n",
       "      <td>True</td>\n",
       "      <td>True</td>\n",
       "    </tr>\n",
       "    <tr>\n",
       "      <th>3</th>\n",
       "      <td>ne-inference</td>\n",
       "      <td>7</td>\n",
       "      <td>selection-pressure</td>\n",
       "      <td>100</td>\n",
       "      <td>39.801457</td>\n",
       "      <td>68.000007</td>\n",
       "      <td>19.086346</td>\n",
       "      <td>166</td>\n",
       "      <td>15.160376</td>\n",
       "      <td>25.901204</td>\n",
       "      <td>7.269990</td>\n",
       "      <td>False</td>\n",
       "      <td>0.000925</td>\n",
       "      <td>True</td>\n",
       "      <td>True</td>\n",
       "    </tr>\n",
       "    <tr>\n",
       "      <th>4</th>\n",
       "      <td>ne-inference</td>\n",
       "      <td>7</td>\n",
       "      <td>selection-pressure</td>\n",
       "      <td>166</td>\n",
       "      <td>15.160376</td>\n",
       "      <td>25.901204</td>\n",
       "      <td>7.269990</td>\n",
       "      <td>33</td>\n",
       "      <td>15.765177</td>\n",
       "      <td>26.934496</td>\n",
       "      <td>7.560015</td>\n",
       "      <td>False</td>\n",
       "      <td>0.876417</td>\n",
       "      <td>False</td>\n",
       "      <td>False</td>\n",
       "    </tr>\n",
       "    <tr>\n",
       "      <th>5</th>\n",
       "      <td>ne-inference</td>\n",
       "      <td>7</td>\n",
       "      <td>selection-pressure</td>\n",
       "      <td>166</td>\n",
       "      <td>15.160376</td>\n",
       "      <td>25.901204</td>\n",
       "      <td>7.269990</td>\n",
       "      <td>100</td>\n",
       "      <td>39.801457</td>\n",
       "      <td>68.000007</td>\n",
       "      <td>19.086346</td>\n",
       "      <td>False</td>\n",
       "      <td>0.000925</td>\n",
       "      <td>True</td>\n",
       "      <td>True</td>\n",
       "    </tr>\n",
       "  </tbody>\n",
       "</table>\n",
       "</div>"
      ],
      "text/plain": [
       "       notebook  replicate           treatment  first rank   \n",
       "0  ne-inference          7  selection-pressure          33  \\\n",
       "1  ne-inference          7  selection-pressure          33   \n",
       "2  ne-inference          7  selection-pressure         100   \n",
       "3  ne-inference          7  selection-pressure         100   \n",
       "4  ne-inference          7  selection-pressure         166   \n",
       "5  ne-inference          7  selection-pressure         166   \n",
       "\n",
       "   population size estimate at first rank   \n",
       "0                               15.765177  \\\n",
       "1                               15.765177   \n",
       "2                               39.801457   \n",
       "3                               39.801457   \n",
       "4                               15.160376   \n",
       "5                               15.160376   \n",
       "\n",
       "   population size upper bound at first rank   \n",
       "0                                  26.934496  \\\n",
       "1                                  26.934496   \n",
       "2                                  68.000007   \n",
       "3                                  68.000007   \n",
       "4                                  25.901204   \n",
       "5                                  25.901204   \n",
       "\n",
       "   population size lower bound at first rank  second rank   \n",
       "0                                   7.560015          100  \\\n",
       "1                                   7.560015          166   \n",
       "2                                  19.086346           33   \n",
       "3                                  19.086346          166   \n",
       "4                                   7.269990           33   \n",
       "5                                   7.269990          100   \n",
       "\n",
       "   population size estimate at second rank   \n",
       "0                                39.801457  \\\n",
       "1                                15.160376   \n",
       "2                                15.765177   \n",
       "3                                15.160376   \n",
       "4                                15.765177   \n",
       "5                                39.801457   \n",
       "\n",
       "   population size upper bound at second rank   \n",
       "0                                   68.000007  \\\n",
       "1                                   25.901204   \n",
       "2                                   26.934496   \n",
       "3                                   25.901204   \n",
       "4                                   26.934496   \n",
       "5                                   68.000007   \n",
       "\n",
       "   population size lower bound at second rank  nonoverlapping CI   \n",
       "0                                   19.086346              False  \\\n",
       "1                                    7.269990              False   \n",
       "2                                    7.560015              False   \n",
       "3                                    7.269990              False   \n",
       "4                                    7.560015              False   \n",
       "5                                   19.086346              False   \n",
       "\n",
       "   Mann-Whitney p  Mann-Whitney significant at alpha = 0.05   \n",
       "0        0.002076                                      True  \\\n",
       "1        0.876417                                     False   \n",
       "2        0.002076                                      True   \n",
       "3        0.000925                                      True   \n",
       "4        0.876417                                     False   \n",
       "5        0.000925                                      True   \n",
       "\n",
       "   Mann-Whitney significant at alpha = 0.01  \n",
       "0                                      True  \n",
       "1                                     False  \n",
       "2                                      True  \n",
       "3                                      True  \n",
       "4                                     False  \n",
       "5                                      True  "
      ]
     },
     "execution_count": 28,
     "metadata": {},
     "output_type": "execute_result"
    }
   ],
   "source": [
    "records = [\n",
    "    {\n",
    "        \"notebook\": \"ne-inference\",\n",
    "        \"replicate\": MILL_REPLICATE,\n",
    "        \"treatment\": MILL_TREATMENT_NAME,\n",
    "        \"first rank\": first_rank,\n",
    "        \"population size estimate at first rank\": df[\n",
    "            df[\"rank\"] == first_rank\n",
    "        ].iloc[0][\"population size\"],\n",
    "        \"population size upper bound at first rank\": df[\n",
    "            df[\"rank\"] == first_rank\n",
    "        ].iloc[0][\"running_ub\"],\n",
    "        \"population size lower bound at first rank\": df[\n",
    "            df[\"rank\"] == first_rank\n",
    "        ].iloc[0][\"running_lb\"],\n",
    "        \"second rank\": second_rank,\n",
    "        \"population size estimate at second rank\": df[\n",
    "            df[\"rank\"] == second_rank\n",
    "        ].iloc[0][\"population size\"],\n",
    "        \"population size upper bound at second rank\": df[\n",
    "            df[\"rank\"] == second_rank\n",
    "        ].iloc[0][\"running_ub\"],\n",
    "        \"population size lower bound at second rank\": df[\n",
    "            df[\"rank\"] == second_rank\n",
    "        ].iloc[0][\"running_lb\"],\n",
    "        \"nonoverlapping CI\": min(\n",
    "            df[df[\"rank\"] == first_rank].iloc[0][\"running_ub\"],\n",
    "            df[df[\"rank\"] == second_rank].iloc[0][\"running_ub\"],\n",
    "        )\n",
    "        < max(\n",
    "            df[df[\"rank\"] == first_rank].iloc[0][\"running_lb\"],\n",
    "            df[df[\"rank\"] == second_rank].iloc[0][\"running_lb\"],\n",
    "        ),\n",
    "        \"Mann-Whitney p\": scipy_stats.mannwhitneyu(\n",
    "            df.loc[\n",
    "                (df[\"rank\"] - first_rank).abs() < 15,\n",
    "                \"population size from singleton\",\n",
    "            ],\n",
    "            df.loc[\n",
    "                (df[\"rank\"] - second_rank).abs() < 15,\n",
    "                \"population size from singleton\",\n",
    "            ],\n",
    "        )[1],\n",
    "    }\n",
    "    for first_rank, second_rank in it.permutations([33, 100, 166], 2)\n",
    "]\n",
    "outdf = pd.DataFrame.from_records(records)\n",
    "outdf[\"Mann-Whitney significant at alpha = 0.05\"] = (\n",
    "    outdf[\"Mann-Whitney p\"] < 0.05\n",
    ")\n",
    "outdf[\"Mann-Whitney significant at alpha = 0.01\"] = (\n",
    "    outdf[\"Mann-Whitney p\"] < 0.01\n",
    ")\n",
    "outdf.to_csv(\n",
    "    kn.pack(\n",
    "        {\n",
    "            \"a\": \"snapshot-comparisons-stats\",\n",
    "            \"notebook\": \"ne-inference\",\n",
    "            \"replicate\": MILL_REPLICATE,\n",
    "            \"treatment\": MILL_TREATMENT_NAME,\n",
    "            \"ext\": \".csv\",\n",
    "        }\n",
    "    )\n",
    ")\n",
    "outdf\n"
   ]
  }
 ],
 "metadata": {
  "kernelspec": {
   "display_name": "Python 3",
   "language": "python",
   "name": "python3"
  },
  "language_info": {
   "codemirror_mode": {
    "name": "ipython",
    "version": 3
   },
   "file_extension": ".py",
   "mimetype": "text/x-python",
   "name": "python",
   "nbconvert_exporter": "python",
   "pygments_lexer": "ipython3",
   "version": "3.10.6"
  },
  "papermill": {
   "default_parameters": {},
   "duration": 542.397972,
   "end_time": "2023-05-23T19:34:09.041270",
   "environment_variables": {},
   "exception": null,
   "input_path": "Ne-inference.ipynb",
   "output_path": "Ne-inference-parameterization-27.ipynb",
   "parameters": {
    "MILL_NTOURN_SEQ": "[8] * 67 + [1] * 66 + [8] * 67",
    "MILL_REPLICATE": 7,
    "MILL_TREATMENT_NAME": "selection-pressure"
   },
   "start_time": "2023-05-23T19:25:06.643298",
   "version": "2.4.0"
  }
 },
 "nbformat": 4,
 "nbformat_minor": 5
}