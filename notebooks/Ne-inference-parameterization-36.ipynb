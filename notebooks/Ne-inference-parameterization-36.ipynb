{
 "cells": [
  {
   "cell_type": "code",
   "execution_count": 1,
   "id": "3b1ff59c",
   "metadata": {
    "execution": {
     "iopub.execute_input": "2023-05-23T20:03:20.522863Z",
     "iopub.status.busy": "2023-05-23T20:03:20.522281Z",
     "iopub.status.idle": "2023-05-23T20:03:22.300898Z",
     "shell.execute_reply": "2023-05-23T20:03:22.298701Z"
    },
    "papermill": {
     "duration": 1.805936,
     "end_time": "2023-05-23T20:03:22.304885",
     "exception": false,
     "start_time": "2023-05-23T20:03:20.498949",
     "status": "completed"
    },
    "tags": []
   },
   "outputs": [],
   "source": [
    "import endomill\n",
    "import yaml\n"
   ]
  },
  {
   "cell_type": "code",
   "execution_count": 2,
   "id": "b238858b",
   "metadata": {
    "execution": {
     "iopub.execute_input": "2023-05-23T20:03:22.338554Z",
     "iopub.status.busy": "2023-05-23T20:03:22.337690Z",
     "iopub.status.idle": "2023-05-23T20:03:22.404625Z",
     "shell.execute_reply": "2023-05-23T20:03:22.403135Z"
    },
    "papermill": {
     "duration": 0.088326,
     "end_time": "2023-05-23T20:03:22.408978",
     "exception": false,
     "start_time": "2023-05-23T20:03:22.320652",
     "status": "completed"
    },
    "tags": []
   },
   "outputs": [],
   "source": [
    "parameter_packs = (\n",
    "    [\n",
    "        {\n",
    "            \"MILL_TREATMENT_NAME\": \"bottleneck\",\n",
    "            \"MILL_NPOP_SEQ\": \"[100] * 67 + [10] * 66 + [100] * 67\",\n",
    "            \"MILL_REPLICATE\": replicate,\n",
    "        }\n",
    "        for replicate in range(10)\n",
    "    ]\n",
    "    + [\n",
    "        {\n",
    "            \"MILL_TREATMENT_NAME\": \"control\",\n",
    "            \"MILL_REPLICATE\": replicate,\n",
    "        }\n",
    "        for replicate in range(10)\n",
    "    ]\n",
    "    + [\n",
    "        {\n",
    "            \"MILL_TREATMENT_NAME\": \"selection-pressure\",\n",
    "            \"MILL_NTOURN_SEQ\": \"[8] * 67 + [1] * 66 + [8] * 67\",\n",
    "            \"MILL_REPLICATE\": replicate,\n",
    "        }\n",
    "        for replicate in range(10)\n",
    "    ]\n",
    "    + [\n",
    "        {\n",
    "            \"MILL_TREATMENT_NAME\": \"range-expansion\",\n",
    "            \"MILL_REPLICATE\": replicate,\n",
    "            \"MILL_NPOP_SEQ\": \"[10] * 67 + [*range(10, 142, 2)] + [142] * 67\",\n",
    "        }\n",
    "        for replicate in range(10)\n",
    "    ]\n",
    ")\n",
    "\n",
    "for i, pp in enumerate(parameter_packs):\n",
    "    with open(f\"Ne-inference-parameterization-{i}.yaml\", \"w\") as file:\n",
    "        yaml.safe_dump(pp, file)\n",
    "# endomill.instantiate_over(parameter_packs=parameter_packs)\n"
   ]
  },
  {
   "cell_type": "markdown",
   "id": "172a5927",
   "metadata": {
    "papermill": {
     "duration": 0.015746,
     "end_time": "2023-05-23T20:03:22.441594",
     "exception": false,
     "start_time": "2023-05-23T20:03:22.425848",
     "status": "completed"
    },
    "tags": []
   },
   "source": [
    "# Papermill Parameters\n"
   ]
  },
  {
   "cell_type": "code",
   "execution_count": 3,
   "id": "267849b6",
   "metadata": {
    "execution": {
     "iopub.execute_input": "2023-05-23T20:03:22.479371Z",
     "iopub.status.busy": "2023-05-23T20:03:22.477228Z",
     "iopub.status.idle": "2023-05-23T20:03:22.487692Z",
     "shell.execute_reply": "2023-05-23T20:03:22.486162Z"
    },
    "papermill": {
     "duration": 0.034398,
     "end_time": "2023-05-23T20:03:22.491822",
     "exception": false,
     "start_time": "2023-05-23T20:03:22.457424",
     "status": "completed"
    },
    "tags": [
     "parameters"
    ]
   },
   "outputs": [],
   "source": [
    "MILL_NPOP_SEQ: str = \"[100] * 200\"\n",
    "MILL_NTOURN_SEQ: str = \"[2] * 200\"\n",
    "MILL_TREATMENT_NAME: str  # = \"control\"\n",
    "MILL_REPLICATE: int  # = 0\n"
   ]
  },
  {
   "cell_type": "code",
   "execution_count": 4,
   "id": "1c769988",
   "metadata": {
    "execution": {
     "iopub.execute_input": "2023-05-23T20:03:22.528793Z",
     "iopub.status.busy": "2023-05-23T20:03:22.527809Z",
     "iopub.status.idle": "2023-05-23T20:03:22.538655Z",
     "shell.execute_reply": "2023-05-23T20:03:22.537137Z"
    },
    "papermill": {
     "duration": 0.035279,
     "end_time": "2023-05-23T20:03:22.542847",
     "exception": false,
     "start_time": "2023-05-23T20:03:22.507568",
     "status": "completed"
    },
    "tags": [
     "injected-parameters"
    ]
   },
   "outputs": [],
   "source": [
    "# Parameters\n",
    "MILL_NPOP_SEQ = \"[10] * 67 + [*range(10, 142, 2)] + [142] * 67\"\n",
    "MILL_REPLICATE = 6\n",
    "MILL_TREATMENT_NAME = \"range-expansion\"\n"
   ]
  },
  {
   "cell_type": "code",
   "execution_count": 5,
   "id": "19fff865",
   "metadata": {
    "execution": {
     "iopub.execute_input": "2023-05-23T20:03:22.578901Z",
     "iopub.status.busy": "2023-05-23T20:03:22.577567Z",
     "iopub.status.idle": "2023-05-23T20:03:22.587132Z",
     "shell.execute_reply": "2023-05-23T20:03:22.585613Z"
    },
    "papermill": {
     "duration": 0.031471,
     "end_time": "2023-05-23T20:03:22.590865",
     "exception": false,
     "start_time": "2023-05-23T20:03:22.559394",
     "status": "completed"
    },
    "tags": []
   },
   "outputs": [],
   "source": [
    "MILL_NPOP_SEQ = eval(MILL_NPOP_SEQ)\n",
    "MILL_NTOURN_SEQ = eval(MILL_NTOURN_SEQ)\n"
   ]
  },
  {
   "cell_type": "markdown",
   "id": "e4876953",
   "metadata": {
    "papermill": {
     "duration": 0.015929,
     "end_time": "2023-05-23T20:03:22.622743",
     "exception": false,
     "start_time": "2023-05-23T20:03:22.606814",
     "status": "completed"
    },
    "tags": []
   },
   "source": [
    "# Global Setup\n"
   ]
  },
  {
   "cell_type": "code",
   "execution_count": 6,
   "id": "1a1a8d08",
   "metadata": {
    "execution": {
     "iopub.execute_input": "2023-05-23T20:03:22.657743Z",
     "iopub.status.busy": "2023-05-23T20:03:22.656773Z",
     "iopub.status.idle": "2023-05-23T20:03:26.291978Z",
     "shell.execute_reply": "2023-05-23T20:03:26.290511Z"
    },
    "papermill": {
     "duration": 3.656929,
     "end_time": "2023-05-23T20:03:26.295737",
     "exception": false,
     "start_time": "2023-05-23T20:03:22.638808",
     "status": "completed"
    },
    "tags": []
   },
   "outputs": [],
   "source": [
    "import copy\n",
    "import math\n",
    "import itertools as it\n",
    "import typing\n",
    "import random\n",
    "\n",
    "import alifedata_phyloinformatics_convert as apc\n",
    "from deap import algorithms as deap_algorithms\n",
    "from deap import base as deap_base\n",
    "from deap import creator as deap_creator\n",
    "from deap import tools as deap_tools\n",
    "\n",
    "from hstrat import hstrat\n",
    "from iterpop import iterpop as ip\n",
    "from keyname import keyname as kn\n",
    "from matplotlib import pyplot as plt\n",
    "from nbmetalog import nbmetalog as nbm\n",
    "import numpy as np\n",
    "import pandas as pd\n",
    "from scipy import stats as scipy_stats\n",
    "import seaborn as sns\n",
    "import sympy\n",
    "from teeplot import teeplot as tp\n",
    "from tqdm import tqdm\n",
    "\n",
    "import pylib\n"
   ]
  },
  {
   "cell_type": "code",
   "execution_count": 7,
   "id": "1f312b31",
   "metadata": {
    "execution": {
     "iopub.execute_input": "2023-05-23T20:03:26.329462Z",
     "iopub.status.busy": "2023-05-23T20:03:26.328064Z",
     "iopub.status.idle": "2023-05-23T20:03:26.334848Z",
     "shell.execute_reply": "2023-05-23T20:03:26.333479Z"
    },
    "papermill": {
     "duration": 0.027535,
     "end_time": "2023-05-23T20:03:26.338578",
     "exception": false,
     "start_time": "2023-05-23T20:03:26.311043",
     "status": "completed"
    },
    "tags": []
   },
   "outputs": [],
   "source": [
    "random.seed(MILL_REPLICATE)\n"
   ]
  },
  {
   "cell_type": "code",
   "execution_count": 8,
   "id": "935c2b56",
   "metadata": {
    "execution": {
     "iopub.execute_input": "2023-05-23T20:03:26.371767Z",
     "iopub.status.busy": "2023-05-23T20:03:26.370802Z",
     "iopub.status.idle": "2023-05-23T20:03:28.122548Z",
     "shell.execute_reply": "2023-05-23T20:03:28.121109Z"
    },
    "papermill": {
     "duration": 1.772367,
     "end_time": "2023-05-23T20:03:28.126347",
     "exception": false,
     "start_time": "2023-05-23T20:03:26.353980",
     "status": "completed"
    },
    "tags": []
   },
   "outputs": [
    {
     "name": "stdout",
     "output_type": "stream",
     "text": [
      "context: local\n",
      "hostname: thinkpad\n",
      "interpreter: 3.10.6 (main, Mar 10 2023, 10:55:28) [GCC 11.3.0]\n",
      "nbcellexec: null\n",
      "nbname: None\n",
      "nbpath: None\n",
      "revision: null\n",
      "session: 143f0650-afe2-4f73-bd2d-ce7bceb19424\n",
      "timestamp: 2023-05-23T13:03:27Z00:00\n",
      "\n",
      "\n"
     ]
    },
    {
     "name": "stdout",
     "output_type": "stream",
     "text": [
      "IPython==8.13.2\n",
      "keyname==0.5.2\n",
      "yaml==6.0\n",
      "alifedata_phyloinformatics_convert==0.13.0\n",
      "deap==1.3\n",
      "endomill==0.1.3\n",
      "hstrat==1.6.1\n",
      "iterpop==0.4.1\n",
      "matplotlib==3.7.1\n",
      "nbmetalog==0.2.6\n",
      "numpy==1.24.3\n",
      "pandas==2.0.1\n",
      "scipy==1.10.1\n",
      "seaborn==0.12.2\n",
      "sympy==1.12\n",
      "teeplot==0.5.0\n",
      "re==2.2.1\n",
      "comm==0.1.3\n",
      "logging==0.5.1.2\n",
      "psutil==5.9.5\n",
      "zmq==25.0.2\n",
      "json==2.0.9\n",
      "ipykernel==6.23.1\n"
     ]
    }
   ],
   "source": [
    "nbm.print_metadata()\n"
   ]
  },
  {
   "cell_type": "markdown",
   "id": "e8bcdb0e",
   "metadata": {
    "papermill": {
     "duration": 0.025738,
     "end_time": "2023-05-23T20:03:28.168719",
     "exception": false,
     "start_time": "2023-05-23T20:03:28.142981",
     "status": "completed"
    },
    "tags": []
   },
   "source": [
    "# Parameters\n"
   ]
  },
  {
   "cell_type": "code",
   "execution_count": 9,
   "id": "61ce9452",
   "metadata": {
    "execution": {
     "iopub.execute_input": "2023-05-23T20:03:28.204340Z",
     "iopub.status.busy": "2023-05-23T20:03:28.203765Z",
     "iopub.status.idle": "2023-05-23T20:03:28.210858Z",
     "shell.execute_reply": "2023-05-23T20:03:28.209458Z"
    },
    "papermill": {
     "duration": 0.02832,
     "end_time": "2023-05-23T20:03:28.214165",
     "exception": false,
     "start_time": "2023-05-23T20:03:28.185845",
     "status": "completed"
    },
    "tags": []
   },
   "outputs": [],
   "source": [
    "# HSTRAT_RESOLUTION = None\n",
    "HSTRAT_DIFFERENTIA_WIDTH = 64\n",
    "NGEN = ip.pophomogeneous([len(MILL_NPOP_SEQ), len(MILL_NTOURN_SEQ)])\n"
   ]
  },
  {
   "cell_type": "markdown",
   "id": "93f5b358",
   "metadata": {
    "papermill": {
     "duration": 0.015832,
     "end_time": "2023-05-23T20:03:28.246236",
     "exception": false,
     "start_time": "2023-05-23T20:03:28.230404",
     "status": "completed"
    },
    "tags": []
   },
   "source": [
    "# Setup\n"
   ]
  },
  {
   "cell_type": "code",
   "execution_count": 10,
   "id": "eb414c10",
   "metadata": {
    "execution": {
     "iopub.execute_input": "2023-05-23T20:03:28.282082Z",
     "iopub.status.busy": "2023-05-23T20:03:28.281100Z",
     "iopub.status.idle": "2023-05-23T20:03:28.295344Z",
     "shell.execute_reply": "2023-05-23T20:03:28.293906Z"
    },
    "papermill": {
     "duration": 0.036021,
     "end_time": "2023-05-23T20:03:28.299289",
     "exception": false,
     "start_time": "2023-05-23T20:03:28.263268",
     "status": "completed"
    },
    "tags": []
   },
   "outputs": [],
   "source": [
    "deap_creator.create(\"FitnessMax\", deap_base.Fitness, weights=(1.0,))\n",
    "deap_creator.create(\"Individual\", list, fitness=deap_creator.FitnessMax)\n",
    "\n",
    "toolbox = deap_base.Toolbox()\n",
    "\n",
    "toolbox.register(\"attr_bool\", random.randint, 0, 1)\n",
    "toolbox.register(\n",
    "    \"individual\",\n",
    "    deap_tools.initRepeat,\n",
    "    deap_creator.Individual,\n",
    "    toolbox.attr_bool,\n",
    "    n=100,\n",
    ")\n",
    "toolbox.register(\"population\", deap_tools.initRepeat, list, toolbox.individual)\n",
    "\n",
    "\n",
    "def evalOneMax(individual):\n",
    "    return (sum(individual),)\n",
    "\n",
    "\n",
    "toolbox.register(\"evaluate\", evalOneMax)\n",
    "toolbox.register(\"mate\", deap_tools.cxTwoPoint)\n",
    "toolbox.register(\"mutate\", deap_tools.mutFlipBit, indpb=0.05)\n",
    "\n",
    "# Decorate the variation operators\n",
    "history = deap_tools.History()\n",
    "toolbox.decorate(\"mate\", history.decorator)\n",
    "\n",
    "toolbox.decorate(\"mate\", pylib.deap.hstrat_mate_decorator)\n"
   ]
  },
  {
   "cell_type": "markdown",
   "id": "a847603a",
   "metadata": {
    "papermill": {
     "duration": 0.016171,
     "end_time": "2023-05-23T20:03:28.332222",
     "exception": false,
     "start_time": "2023-05-23T20:03:28.316051",
     "status": "completed"
    },
    "tags": []
   },
   "source": [
    "# Evolve\n"
   ]
  },
  {
   "cell_type": "code",
   "execution_count": 11,
   "id": "b77fcf0a",
   "metadata": {
    "execution": {
     "iopub.execute_input": "2023-05-23T20:03:28.369492Z",
     "iopub.status.busy": "2023-05-23T20:03:28.368509Z",
     "iopub.status.idle": "2023-05-23T20:13:57.462966Z",
     "shell.execute_reply": "2023-05-23T20:13:57.461564Z"
    },
    "papermill": {
     "duration": 629.117499,
     "end_time": "2023-05-23T20:13:57.466530",
     "exception": false,
     "start_time": "2023-05-23T20:03:28.349031",
     "status": "completed"
    },
    "tags": []
   },
   "outputs": [
    {
     "name": "stderr",
     "output_type": "stream",
     "text": [
      "\r",
      "0it [00:00, ?it/s]"
     ]
    },
    {
     "name": "stderr",
     "output_type": "stream",
     "text": [
      "\r",
      "3it [00:00, 21.16it/s]"
     ]
    },
    {
     "name": "stderr",
     "output_type": "stream",
     "text": [
      "\r",
      "6it [00:00, 19.25it/s]"
     ]
    },
    {
     "name": "stderr",
     "output_type": "stream",
     "text": [
      "\r",
      "8it [00:00, 18.20it/s]"
     ]
    },
    {
     "name": "stderr",
     "output_type": "stream",
     "text": [
      "\r",
      "10it [00:00, 17.07it/s]"
     ]
    },
    {
     "name": "stderr",
     "output_type": "stream",
     "text": [
      "\r",
      "12it [00:00, 16.01it/s]"
     ]
    },
    {
     "name": "stderr",
     "output_type": "stream",
     "text": [
      "\r",
      "14it [00:00, 15.02it/s]"
     ]
    },
    {
     "name": "stderr",
     "output_type": "stream",
     "text": [
      "\r",
      "16it [00:00, 15.18it/s]"
     ]
    },
    {
     "name": "stderr",
     "output_type": "stream",
     "text": [
      "\r",
      "18it [00:01, 16.38it/s]"
     ]
    },
    {
     "name": "stderr",
     "output_type": "stream",
     "text": [
      "\r",
      "21it [00:01, 17.83it/s]"
     ]
    },
    {
     "name": "stderr",
     "output_type": "stream",
     "text": [
      "\r",
      "23it [00:01, 13.56it/s]"
     ]
    },
    {
     "name": "stderr",
     "output_type": "stream",
     "text": [
      "\r",
      "25it [00:01, 14.42it/s]"
     ]
    },
    {
     "name": "stderr",
     "output_type": "stream",
     "text": [
      "\r",
      "27it [00:01, 15.18it/s]"
     ]
    },
    {
     "name": "stderr",
     "output_type": "stream",
     "text": [
      "\r",
      "29it [00:01, 15.39it/s]"
     ]
    },
    {
     "name": "stderr",
     "output_type": "stream",
     "text": [
      "\r",
      "31it [00:01, 15.60it/s]"
     ]
    },
    {
     "name": "stderr",
     "output_type": "stream",
     "text": [
      "\r",
      "33it [00:02, 15.33it/s]"
     ]
    },
    {
     "name": "stderr",
     "output_type": "stream",
     "text": [
      "\r",
      "35it [00:02, 15.21it/s]"
     ]
    },
    {
     "name": "stderr",
     "output_type": "stream",
     "text": [
      "\r",
      "37it [00:02, 15.02it/s]"
     ]
    },
    {
     "name": "stderr",
     "output_type": "stream",
     "text": [
      "\r",
      "39it [00:02, 14.39it/s]"
     ]
    },
    {
     "name": "stderr",
     "output_type": "stream",
     "text": [
      "\r",
      "41it [00:02, 13.83it/s]"
     ]
    },
    {
     "name": "stderr",
     "output_type": "stream",
     "text": [
      "\r",
      "43it [00:02, 10.34it/s]"
     ]
    },
    {
     "name": "stderr",
     "output_type": "stream",
     "text": [
      "\r",
      "45it [00:03, 10.77it/s]"
     ]
    },
    {
     "name": "stderr",
     "output_type": "stream",
     "text": [
      "\r",
      "47it [00:03, 11.16it/s]"
     ]
    },
    {
     "name": "stderr",
     "output_type": "stream",
     "text": [
      "\r",
      "49it [00:03, 11.36it/s]"
     ]
    },
    {
     "name": "stderr",
     "output_type": "stream",
     "text": [
      "\r",
      "51it [00:03,  9.99it/s]"
     ]
    },
    {
     "name": "stderr",
     "output_type": "stream",
     "text": [
      "\r",
      "53it [00:04,  8.29it/s]"
     ]
    },
    {
     "name": "stderr",
     "output_type": "stream",
     "text": [
      "\r",
      "54it [00:04,  7.72it/s]"
     ]
    },
    {
     "name": "stderr",
     "output_type": "stream",
     "text": [
      "\r",
      "55it [00:04,  7.20it/s]"
     ]
    },
    {
     "name": "stderr",
     "output_type": "stream",
     "text": [
      "\r",
      "56it [00:04,  6.78it/s]"
     ]
    },
    {
     "name": "stderr",
     "output_type": "stream",
     "text": [
      "\r",
      "57it [00:04,  6.41it/s]"
     ]
    },
    {
     "name": "stderr",
     "output_type": "stream",
     "text": [
      "\r",
      "58it [00:04,  6.09it/s]"
     ]
    },
    {
     "name": "stderr",
     "output_type": "stream",
     "text": [
      "\r",
      "59it [00:05,  4.52it/s]"
     ]
    },
    {
     "name": "stderr",
     "output_type": "stream",
     "text": [
      "\r",
      "60it [00:05,  4.70it/s]"
     ]
    },
    {
     "name": "stderr",
     "output_type": "stream",
     "text": [
      "\r",
      "61it [00:05,  4.84it/s]"
     ]
    },
    {
     "name": "stderr",
     "output_type": "stream",
     "text": [
      "\r",
      "62it [00:05,  4.92it/s]"
     ]
    },
    {
     "name": "stderr",
     "output_type": "stream",
     "text": [
      "\r",
      "63it [00:06,  4.95it/s]"
     ]
    },
    {
     "name": "stderr",
     "output_type": "stream",
     "text": [
      "\r",
      "64it [00:06,  4.90it/s]"
     ]
    },
    {
     "name": "stderr",
     "output_type": "stream",
     "text": [
      "\r",
      "65it [00:06,  4.92it/s]"
     ]
    },
    {
     "name": "stderr",
     "output_type": "stream",
     "text": [
      "\r",
      "66it [00:06,  4.95it/s]"
     ]
    },
    {
     "name": "stderr",
     "output_type": "stream",
     "text": [
      "\r",
      "67it [00:06,  4.81it/s]"
     ]
    },
    {
     "name": "stderr",
     "output_type": "stream",
     "text": [
      "\r",
      "68it [00:07,  4.79it/s]"
     ]
    },
    {
     "name": "stderr",
     "output_type": "stream",
     "text": [
      "\r",
      "69it [00:07,  4.53it/s]"
     ]
    },
    {
     "name": "stderr",
     "output_type": "stream",
     "text": [
      "\r",
      "70it [00:07,  4.22it/s]"
     ]
    },
    {
     "name": "stderr",
     "output_type": "stream",
     "text": [
      "\r",
      "71it [00:07,  3.86it/s]"
     ]
    },
    {
     "name": "stderr",
     "output_type": "stream",
     "text": [
      "\r",
      "72it [00:08,  2.80it/s]"
     ]
    },
    {
     "name": "stderr",
     "output_type": "stream",
     "text": [
      "\r",
      "73it [00:08,  2.66it/s]"
     ]
    },
    {
     "name": "stderr",
     "output_type": "stream",
     "text": [
      "\r",
      "74it [00:09,  2.48it/s]"
     ]
    },
    {
     "name": "stderr",
     "output_type": "stream",
     "text": [
      "\r",
      "75it [00:09,  2.26it/s]"
     ]
    },
    {
     "name": "stderr",
     "output_type": "stream",
     "text": [
      "\r",
      "76it [00:10,  2.12it/s]"
     ]
    },
    {
     "name": "stderr",
     "output_type": "stream",
     "text": [
      "\r",
      "77it [00:11,  2.04it/s]"
     ]
    },
    {
     "name": "stderr",
     "output_type": "stream",
     "text": [
      "\r",
      "78it [00:11,  1.98it/s]"
     ]
    },
    {
     "name": "stderr",
     "output_type": "stream",
     "text": [
      "\r",
      "79it [00:12,  2.11it/s]"
     ]
    },
    {
     "name": "stderr",
     "output_type": "stream",
     "text": [
      "\r",
      "80it [00:12,  2.04it/s]"
     ]
    },
    {
     "name": "stderr",
     "output_type": "stream",
     "text": [
      "\r",
      "81it [00:12,  2.15it/s]"
     ]
    },
    {
     "name": "stderr",
     "output_type": "stream",
     "text": [
      "\r",
      "82it [00:13,  2.28it/s]"
     ]
    },
    {
     "name": "stderr",
     "output_type": "stream",
     "text": [
      "\r",
      "83it [00:13,  2.11it/s]"
     ]
    },
    {
     "name": "stderr",
     "output_type": "stream",
     "text": [
      "\r",
      "84it [00:14,  1.88it/s]"
     ]
    },
    {
     "name": "stderr",
     "output_type": "stream",
     "text": [
      "\r",
      "85it [00:15,  1.61it/s]"
     ]
    },
    {
     "name": "stderr",
     "output_type": "stream",
     "text": [
      "\r",
      "86it [00:16,  1.37it/s]"
     ]
    },
    {
     "name": "stderr",
     "output_type": "stream",
     "text": [
      "\r",
      "87it [00:16,  1.44it/s]"
     ]
    },
    {
     "name": "stderr",
     "output_type": "stream",
     "text": [
      "\r",
      "88it [00:17,  1.27it/s]"
     ]
    },
    {
     "name": "stderr",
     "output_type": "stream",
     "text": [
      "\r",
      "89it [00:18,  1.22it/s]"
     ]
    },
    {
     "name": "stderr",
     "output_type": "stream",
     "text": [
      "\r",
      "90it [00:20,  1.06it/s]"
     ]
    },
    {
     "name": "stderr",
     "output_type": "stream",
     "text": [
      "\r",
      "91it [00:21,  1.00it/s]"
     ]
    },
    {
     "name": "stderr",
     "output_type": "stream",
     "text": [
      "\r",
      "92it [00:22,  1.08s/it]"
     ]
    },
    {
     "name": "stderr",
     "output_type": "stream",
     "text": [
      "\r",
      "93it [00:23,  1.19s/it]"
     ]
    },
    {
     "name": "stderr",
     "output_type": "stream",
     "text": [
      "\r",
      "94it [00:25,  1.21s/it]"
     ]
    },
    {
     "name": "stderr",
     "output_type": "stream",
     "text": [
      "\r",
      "95it [00:26,  1.15s/it]"
     ]
    },
    {
     "name": "stderr",
     "output_type": "stream",
     "text": [
      "\r",
      "96it [00:27,  1.25s/it]"
     ]
    },
    {
     "name": "stderr",
     "output_type": "stream",
     "text": [
      "\r",
      "97it [00:29,  1.31s/it]"
     ]
    },
    {
     "name": "stderr",
     "output_type": "stream",
     "text": [
      "\r",
      "98it [00:30,  1.40s/it]"
     ]
    },
    {
     "name": "stderr",
     "output_type": "stream",
     "text": [
      "\r",
      "99it [00:32,  1.55s/it]"
     ]
    },
    {
     "name": "stderr",
     "output_type": "stream",
     "text": [
      "\r",
      "100it [00:34,  1.51s/it]"
     ]
    },
    {
     "name": "stderr",
     "output_type": "stream",
     "text": [
      "\r",
      "101it [00:36,  1.69s/it]"
     ]
    },
    {
     "name": "stderr",
     "output_type": "stream",
     "text": [
      "\r",
      "102it [00:38,  1.74s/it]"
     ]
    },
    {
     "name": "stderr",
     "output_type": "stream",
     "text": [
      "\r",
      "103it [00:39,  1.78s/it]"
     ]
    },
    {
     "name": "stderr",
     "output_type": "stream",
     "text": [
      "\r",
      "104it [00:42,  1.91s/it]"
     ]
    },
    {
     "name": "stderr",
     "output_type": "stream",
     "text": [
      "\r",
      "105it [00:44,  1.91s/it]"
     ]
    },
    {
     "name": "stderr",
     "output_type": "stream",
     "text": [
      "\r",
      "106it [00:46,  2.10s/it]"
     ]
    },
    {
     "name": "stderr",
     "output_type": "stream",
     "text": [
      "\r",
      "107it [00:48,  2.10s/it]"
     ]
    },
    {
     "name": "stderr",
     "output_type": "stream",
     "text": [
      "\r",
      "108it [00:50,  2.07s/it]"
     ]
    },
    {
     "name": "stderr",
     "output_type": "stream",
     "text": [
      "\r",
      "109it [00:53,  2.21s/it]"
     ]
    },
    {
     "name": "stderr",
     "output_type": "stream",
     "text": [
      "\r",
      "110it [00:55,  2.24s/it]"
     ]
    },
    {
     "name": "stderr",
     "output_type": "stream",
     "text": [
      "\r",
      "111it [00:57,  2.29s/it]"
     ]
    },
    {
     "name": "stderr",
     "output_type": "stream",
     "text": [
      "\r",
      "112it [01:01,  2.77s/it]"
     ]
    },
    {
     "name": "stderr",
     "output_type": "stream",
     "text": [
      "\r",
      "113it [01:05,  3.02s/it]"
     ]
    },
    {
     "name": "stderr",
     "output_type": "stream",
     "text": [
      "\r",
      "114it [01:09,  3.37s/it]"
     ]
    },
    {
     "name": "stderr",
     "output_type": "stream",
     "text": [
      "\r",
      "115it [01:13,  3.50s/it]"
     ]
    },
    {
     "name": "stderr",
     "output_type": "stream",
     "text": [
      "\r",
      "116it [01:17,  3.79s/it]"
     ]
    },
    {
     "name": "stderr",
     "output_type": "stream",
     "text": [
      "\r",
      "117it [01:22,  3.93s/it]"
     ]
    },
    {
     "name": "stderr",
     "output_type": "stream",
     "text": [
      "\r",
      "118it [01:26,  3.97s/it]"
     ]
    },
    {
     "name": "stderr",
     "output_type": "stream",
     "text": [
      "\r",
      "119it [01:31,  4.26s/it]"
     ]
    },
    {
     "name": "stderr",
     "output_type": "stream",
     "text": [
      "\r",
      "120it [01:35,  4.25s/it]"
     ]
    },
    {
     "name": "stderr",
     "output_type": "stream",
     "text": [
      "\r",
      "121it [01:39,  4.24s/it]"
     ]
    },
    {
     "name": "stderr",
     "output_type": "stream",
     "text": [
      "\r",
      "122it [01:44,  4.57s/it]"
     ]
    },
    {
     "name": "stderr",
     "output_type": "stream",
     "text": [
      "\r",
      "123it [01:49,  4.53s/it]"
     ]
    },
    {
     "name": "stderr",
     "output_type": "stream",
     "text": [
      "\r",
      "124it [01:55,  4.86s/it]"
     ]
    },
    {
     "name": "stderr",
     "output_type": "stream",
     "text": [
      "\r",
      "125it [01:59,  4.85s/it]"
     ]
    },
    {
     "name": "stderr",
     "output_type": "stream",
     "text": [
      "\r",
      "126it [02:04,  4.91s/it]"
     ]
    },
    {
     "name": "stderr",
     "output_type": "stream",
     "text": [
      "\r",
      "127it [02:10,  5.20s/it]"
     ]
    },
    {
     "name": "stderr",
     "output_type": "stream",
     "text": [
      "\r",
      "128it [02:15,  5.15s/it]"
     ]
    },
    {
     "name": "stderr",
     "output_type": "stream",
     "text": [
      "\r",
      "129it [02:20,  5.16s/it]"
     ]
    },
    {
     "name": "stderr",
     "output_type": "stream",
     "text": [
      "\r",
      "130it [02:26,  5.33s/it]"
     ]
    },
    {
     "name": "stderr",
     "output_type": "stream",
     "text": [
      "\r",
      "131it [02:31,  5.28s/it]"
     ]
    },
    {
     "name": "stderr",
     "output_type": "stream",
     "text": [
      "\r",
      "132it [02:37,  5.53s/it]"
     ]
    },
    {
     "name": "stderr",
     "output_type": "stream",
     "text": [
      "\r",
      "133it [02:43,  5.41s/it]"
     ]
    },
    {
     "name": "stderr",
     "output_type": "stream",
     "text": [
      "\r",
      "134it [02:47,  5.16s/it]"
     ]
    },
    {
     "name": "stderr",
     "output_type": "stream",
     "text": [
      "\r",
      "135it [02:53,  5.24s/it]"
     ]
    },
    {
     "name": "stderr",
     "output_type": "stream",
     "text": [
      "\r",
      "136it [02:57,  4.89s/it]"
     ]
    },
    {
     "name": "stderr",
     "output_type": "stream",
     "text": [
      "\r",
      "137it [03:02,  5.03s/it]"
     ]
    },
    {
     "name": "stderr",
     "output_type": "stream",
     "text": [
      "\r",
      "138it [03:09,  5.74s/it]"
     ]
    },
    {
     "name": "stderr",
     "output_type": "stream",
     "text": [
      "\r",
      "139it [03:16,  6.03s/it]"
     ]
    },
    {
     "name": "stderr",
     "output_type": "stream",
     "text": [
      "\r",
      "140it [03:23,  6.20s/it]"
     ]
    },
    {
     "name": "stderr",
     "output_type": "stream",
     "text": [
      "\r",
      "141it [03:30,  6.62s/it]"
     ]
    },
    {
     "name": "stderr",
     "output_type": "stream",
     "text": [
      "\r",
      "142it [03:36,  6.45s/it]"
     ]
    },
    {
     "name": "stderr",
     "output_type": "stream",
     "text": [
      "\r",
      "143it [03:43,  6.64s/it]"
     ]
    },
    {
     "name": "stderr",
     "output_type": "stream",
     "text": [
      "\r",
      "144it [03:52,  7.20s/it]"
     ]
    },
    {
     "name": "stderr",
     "output_type": "stream",
     "text": [
      "\r",
      "145it [03:59,  7.21s/it]"
     ]
    },
    {
     "name": "stderr",
     "output_type": "stream",
     "text": [
      "\r",
      "146it [04:06,  7.15s/it]"
     ]
    },
    {
     "name": "stderr",
     "output_type": "stream",
     "text": [
      "\r",
      "147it [04:14,  7.22s/it]"
     ]
    },
    {
     "name": "stderr",
     "output_type": "stream",
     "text": [
      "\r",
      "148it [04:21,  7.28s/it]"
     ]
    },
    {
     "name": "stderr",
     "output_type": "stream",
     "text": [
      "\r",
      "149it [04:27,  6.95s/it]"
     ]
    },
    {
     "name": "stderr",
     "output_type": "stream",
     "text": [
      "\r",
      "150it [04:33,  6.72s/it]"
     ]
    },
    {
     "name": "stderr",
     "output_type": "stream",
     "text": [
      "\r",
      "151it [04:41,  7.00s/it]"
     ]
    },
    {
     "name": "stderr",
     "output_type": "stream",
     "text": [
      "\r",
      "152it [04:47,  6.73s/it]"
     ]
    },
    {
     "name": "stderr",
     "output_type": "stream",
     "text": [
      "\r",
      "153it [04:53,  6.59s/it]"
     ]
    },
    {
     "name": "stderr",
     "output_type": "stream",
     "text": [
      "\r",
      "154it [05:00,  6.49s/it]"
     ]
    },
    {
     "name": "stderr",
     "output_type": "stream",
     "text": [
      "\r",
      "155it [05:07,  6.84s/it]"
     ]
    },
    {
     "name": "stderr",
     "output_type": "stream",
     "text": [
      "\r",
      "156it [05:13,  6.57s/it]"
     ]
    },
    {
     "name": "stderr",
     "output_type": "stream",
     "text": [
      "\r",
      "157it [05:20,  6.50s/it]"
     ]
    },
    {
     "name": "stderr",
     "output_type": "stream",
     "text": [
      "\r",
      "158it [05:26,  6.57s/it]"
     ]
    },
    {
     "name": "stderr",
     "output_type": "stream",
     "text": [
      "\r",
      "159it [05:35,  7.29s/it]"
     ]
    },
    {
     "name": "stderr",
     "output_type": "stream",
     "text": [
      "\r",
      "160it [05:42,  7.11s/it]"
     ]
    },
    {
     "name": "stderr",
     "output_type": "stream",
     "text": [
      "\r",
      "161it [05:49,  7.02s/it]"
     ]
    },
    {
     "name": "stderr",
     "output_type": "stream",
     "text": [
      "\r",
      "162it [05:55,  6.91s/it]"
     ]
    },
    {
     "name": "stderr",
     "output_type": "stream",
     "text": [
      "\r",
      "163it [06:03,  7.24s/it]"
     ]
    },
    {
     "name": "stderr",
     "output_type": "stream",
     "text": [
      "\r",
      "164it [06:10,  7.01s/it]"
     ]
    },
    {
     "name": "stderr",
     "output_type": "stream",
     "text": [
      "\r",
      "165it [06:17,  6.93s/it]"
     ]
    },
    {
     "name": "stderr",
     "output_type": "stream",
     "text": [
      "\r",
      "166it [06:23,  6.88s/it]"
     ]
    },
    {
     "name": "stderr",
     "output_type": "stream",
     "text": [
      "\r",
      "167it [06:33,  7.59s/it]"
     ]
    },
    {
     "name": "stderr",
     "output_type": "stream",
     "text": [
      "\r",
      "168it [06:40,  7.37s/it]"
     ]
    },
    {
     "name": "stderr",
     "output_type": "stream",
     "text": [
      "\r",
      "169it [06:46,  7.20s/it]"
     ]
    },
    {
     "name": "stderr",
     "output_type": "stream",
     "text": [
      "\r",
      "170it [06:53,  7.03s/it]"
     ]
    },
    {
     "name": "stderr",
     "output_type": "stream",
     "text": [
      "\r",
      "171it [06:59,  6.58s/it]"
     ]
    },
    {
     "name": "stderr",
     "output_type": "stream",
     "text": [
      "\r",
      "172it [07:04,  6.13s/it]"
     ]
    },
    {
     "name": "stderr",
     "output_type": "stream",
     "text": [
      "\r",
      "173it [07:09,  5.82s/it]"
     ]
    },
    {
     "name": "stderr",
     "output_type": "stream",
     "text": [
      "\r",
      "174it [07:12,  5.13s/it]"
     ]
    },
    {
     "name": "stderr",
     "output_type": "stream",
     "text": [
      "\r",
      "175it [07:17,  5.05s/it]"
     ]
    },
    {
     "name": "stderr",
     "output_type": "stream",
     "text": [
      "\r",
      "176it [07:22,  5.09s/it]"
     ]
    },
    {
     "name": "stderr",
     "output_type": "stream",
     "text": [
      "\r",
      "177it [07:29,  5.51s/it]"
     ]
    },
    {
     "name": "stderr",
     "output_type": "stream",
     "text": [
      "\r",
      "178it [07:33,  5.00s/it]"
     ]
    },
    {
     "name": "stderr",
     "output_type": "stream",
     "text": [
      "\r",
      "179it [07:37,  4.77s/it]"
     ]
    },
    {
     "name": "stderr",
     "output_type": "stream",
     "text": [
      "\r",
      "180it [07:43,  5.14s/it]"
     ]
    },
    {
     "name": "stderr",
     "output_type": "stream",
     "text": [
      "\r",
      "181it [07:50,  5.73s/it]"
     ]
    },
    {
     "name": "stderr",
     "output_type": "stream",
     "text": [
      "\r",
      "182it [08:00,  7.01s/it]"
     ]
    },
    {
     "name": "stderr",
     "output_type": "stream",
     "text": [
      "\r",
      "183it [08:07,  6.95s/it]"
     ]
    },
    {
     "name": "stderr",
     "output_type": "stream",
     "text": [
      "\r",
      "184it [08:15,  7.40s/it]"
     ]
    },
    {
     "name": "stderr",
     "output_type": "stream",
     "text": [
      "\r",
      "185it [08:23,  7.66s/it]"
     ]
    },
    {
     "name": "stderr",
     "output_type": "stream",
     "text": [
      "\r",
      "186it [08:32,  7.85s/it]"
     ]
    },
    {
     "name": "stderr",
     "output_type": "stream",
     "text": [
      "\r",
      "187it [08:43,  8.86s/it]"
     ]
    },
    {
     "name": "stderr",
     "output_type": "stream",
     "text": [
      "\r",
      "188it [08:51,  8.53s/it]"
     ]
    },
    {
     "name": "stderr",
     "output_type": "stream",
     "text": [
      "\r",
      "189it [08:58,  8.30s/it]"
     ]
    },
    {
     "name": "stderr",
     "output_type": "stream",
     "text": [
      "\r",
      "190it [09:07,  8.28s/it]"
     ]
    },
    {
     "name": "stderr",
     "output_type": "stream",
     "text": [
      "\r",
      "191it [09:15,  8.21s/it]"
     ]
    },
    {
     "name": "stderr",
     "output_type": "stream",
     "text": [
      "\r",
      "192it [09:23,  8.12s/it]"
     ]
    },
    {
     "name": "stderr",
     "output_type": "stream",
     "text": [
      "\r",
      "193it [09:33,  8.84s/it]"
     ]
    },
    {
     "name": "stderr",
     "output_type": "stream",
     "text": [
      "\r",
      "194it [09:42,  8.78s/it]"
     ]
    },
    {
     "name": "stderr",
     "output_type": "stream",
     "text": [
      "\r",
      "195it [09:50,  8.59s/it]"
     ]
    },
    {
     "name": "stderr",
     "output_type": "stream",
     "text": [
      "\r",
      "196it [09:57,  8.22s/it]"
     ]
    },
    {
     "name": "stderr",
     "output_type": "stream",
     "text": [
      "\r",
      "197it [10:03,  7.58s/it]"
     ]
    },
    {
     "name": "stderr",
     "output_type": "stream",
     "text": [
      "\r",
      "198it [10:14,  8.53s/it]"
     ]
    },
    {
     "name": "stderr",
     "output_type": "stream",
     "text": [
      "\r",
      "199it [10:21,  8.01s/it]"
     ]
    },
    {
     "name": "stderr",
     "output_type": "stream",
     "text": [
      "\r",
      "200it [10:26,  7.22s/it]"
     ]
    },
    {
     "name": "stderr",
     "output_type": "stream",
     "text": [
      "\r",
      "200it [10:26,  3.13s/it]"
     ]
    },
    {
     "name": "stderr",
     "output_type": "stream",
     "text": [
      "\n"
     ]
    }
   ],
   "source": [
    "# Create the population and populate the history\n",
    "population = toolbox.population(n=MILL_NPOP_SEQ[0])\n",
    "\n",
    "species_ancestor = hstrat.HereditaryStratigraphicColumn(\n",
    "    stratum_retention_policy=hstrat.perfect_resolution_algo.Policy(),\n",
    "    stratum_differentia_bit_width=HSTRAT_DIFFERENTIA_WIDTH,\n",
    ")\n",
    "gene_ancestor = hstrat.HereditaryStratigraphicColumn(\n",
    "    stratum_retention_policy=hstrat.perfect_resolution_algo.Policy(),\n",
    "    stratum_differentia_bit_width=HSTRAT_DIFFERENTIA_WIDTH,\n",
    "    initial_stratum_annotation=0,\n",
    ")\n",
    "for member in population:\n",
    "    member.species_annotation = species_ancestor.CloneDescendant()\n",
    "    member.gene_annotation = gene_ancestor.CloneDescendant(0)\n",
    "\n",
    "history.update(population)\n",
    "\n",
    "# Do the evolution, the decorators will take care of updating the\n",
    "# history\n",
    "for _gen, (NPOP, NTOURN) in tqdm(\n",
    "    enumerate(\n",
    "        zip(\n",
    "            MILL_NPOP_SEQ,\n",
    "            MILL_NTOURN_SEQ,\n",
    "        )\n",
    "    )\n",
    "):\n",
    "    toolbox.register(\"select\", deap_tools.selTournament, tournsize=NTOURN)\n",
    "    offspring = deap_algorithms.varAnd(\n",
    "        population, toolbox, cxpb=1.0, mutpb=1.0,\n",
    "    )\n",
    "    fits = toolbox.map(toolbox.evaluate, offspring)\n",
    "    for fit, ind in zip(fits, offspring):\n",
    "        ind.fitness.values = fit\n",
    "    population = toolbox.select(offspring, k=NPOP)\n",
    "    population = [copy.deepcopy(ind) for ind in population]\n",
    "\n",
    "# ensure all extant organisms registered with phylogeny tracker\n",
    "for x in population:\n",
    "    history.update([x])\n"
   ]
  },
  {
   "cell_type": "markdown",
   "id": "866b086c",
   "metadata": {
    "papermill": {
     "duration": 0.039746,
     "end_time": "2023-05-23T20:13:57.640683",
     "exception": false,
     "start_time": "2023-05-23T20:13:57.600937",
     "status": "completed"
    },
    "tags": []
   },
   "source": [
    "# Reconstruction\n"
   ]
  },
  {
   "cell_type": "code",
   "execution_count": 12,
   "id": "6da6574b",
   "metadata": {
    "execution": {
     "iopub.execute_input": "2023-05-23T20:13:57.722673Z",
     "iopub.status.busy": "2023-05-23T20:13:57.722074Z",
     "iopub.status.idle": "2023-05-23T20:13:58.165072Z",
     "shell.execute_reply": "2023-05-23T20:13:58.163640Z"
    },
    "papermill": {
     "duration": 0.489018,
     "end_time": "2023-05-23T20:13:58.169686",
     "exception": false,
     "start_time": "2023-05-23T20:13:57.680668",
     "status": "completed"
    },
    "tags": []
   },
   "outputs": [
    {
     "data": {
      "text/html": [
       "<div>\n",
       "<style scoped>\n",
       "    .dataframe tbody tr th:only-of-type {\n",
       "        vertical-align: middle;\n",
       "    }\n",
       "\n",
       "    .dataframe tbody tr th {\n",
       "        vertical-align: top;\n",
       "    }\n",
       "\n",
       "    .dataframe thead th {\n",
       "        text-align: right;\n",
       "    }\n",
       "</style>\n",
       "<table border=\"1\" class=\"dataframe\">\n",
       "  <thead>\n",
       "    <tr style=\"text-align: right;\">\n",
       "      <th></th>\n",
       "      <th>id</th>\n",
       "      <th>ancestor_list</th>\n",
       "      <th>origin_time</th>\n",
       "      <th>taxon_label</th>\n",
       "      <th>ancestor_id</th>\n",
       "      <th>name</th>\n",
       "    </tr>\n",
       "  </thead>\n",
       "  <tbody>\n",
       "    <tr>\n",
       "      <th>0</th>\n",
       "      <td>0</td>\n",
       "      <td>[none]</td>\n",
       "      <td>0.0</td>\n",
       "      <td>Root</td>\n",
       "      <td>0</td>\n",
       "      <td>Root</td>\n",
       "    </tr>\n",
       "    <tr>\n",
       "      <th>190</th>\n",
       "      <td>190</td>\n",
       "      <td>[0]</td>\n",
       "      <td>189.0</td>\n",
       "      <td>Inner+r=189+d=PVG3oJTPe9J+uid=D7tB0UQlU6MyN0de...</td>\n",
       "      <td>0</td>\n",
       "      <td>Inner+r=189+d=PVG3oJTPe9J+uid=D7tB0UQlU6MyN0de...</td>\n",
       "    </tr>\n",
       "    <tr>\n",
       "      <th>195</th>\n",
       "      <td>195</td>\n",
       "      <td>[190]</td>\n",
       "      <td>192.0</td>\n",
       "      <td>Inner+r=192+d=PUSAsaBZqkL+uid=tdcJdAeoGOXxqR6c...</td>\n",
       "      <td>190</td>\n",
       "      <td>Inner+r=192+d=PUSAsaBZqkL+uid=tdcJdAeoGOXxqR6c...</td>\n",
       "    </tr>\n",
       "    <tr>\n",
       "      <th>196</th>\n",
       "      <td>196</td>\n",
       "      <td>[190]</td>\n",
       "      <td>192.0</td>\n",
       "      <td>Inner+r=192+d=PUSAsaBZqkL+uid=Bw0H66tztgYuTUrY...</td>\n",
       "      <td>190</td>\n",
       "      <td>Inner+r=192+d=PUSAsaBZqkL+uid=Bw0H66tztgYuTUrY...</td>\n",
       "    </tr>\n",
       "    <tr>\n",
       "      <th>200</th>\n",
       "      <td>200</td>\n",
       "      <td>[196]</td>\n",
       "      <td>193.0</td>\n",
       "      <td>Inner+r=193+d=PfNdoa-aAOn+uid=UAvkc7OnY7eO7pDb...</td>\n",
       "      <td>196</td>\n",
       "      <td>Inner+r=193+d=PfNdoa-aAOn+uid=UAvkc7OnY7eO7pDb...</td>\n",
       "    </tr>\n",
       "    <tr>\n",
       "      <th>...</th>\n",
       "      <td>...</td>\n",
       "      <td>...</td>\n",
       "      <td>...</td>\n",
       "      <td>...</td>\n",
       "      <td>...</td>\n",
       "      <td>...</td>\n",
       "    </tr>\n",
       "    <tr>\n",
       "      <th>707</th>\n",
       "      <td>707</td>\n",
       "      <td>[425]</td>\n",
       "      <td>201.0</td>\n",
       "      <td>15135</td>\n",
       "      <td>425</td>\n",
       "      <td>15135</td>\n",
       "    </tr>\n",
       "    <tr>\n",
       "      <th>708</th>\n",
       "      <td>708</td>\n",
       "      <td>[425]</td>\n",
       "      <td>201.0</td>\n",
       "      <td>15066</td>\n",
       "      <td>425</td>\n",
       "      <td>15066</td>\n",
       "    </tr>\n",
       "    <tr>\n",
       "      <th>709</th>\n",
       "      <td>709</td>\n",
       "      <td>[425]</td>\n",
       "      <td>201.0</td>\n",
       "      <td>15075</td>\n",
       "      <td>425</td>\n",
       "      <td>15075</td>\n",
       "    </tr>\n",
       "    <tr>\n",
       "      <th>710</th>\n",
       "      <td>710</td>\n",
       "      <td>[213]</td>\n",
       "      <td>201.0</td>\n",
       "      <td>15086</td>\n",
       "      <td>213</td>\n",
       "      <td>15086</td>\n",
       "    </tr>\n",
       "    <tr>\n",
       "      <th>711</th>\n",
       "      <td>711</td>\n",
       "      <td>[200]</td>\n",
       "      <td>201.0</td>\n",
       "      <td>15105</td>\n",
       "      <td>200</td>\n",
       "      <td>15105</td>\n",
       "    </tr>\n",
       "  </tbody>\n",
       "</table>\n",
       "<p>221 rows × 6 columns</p>\n",
       "</div>"
      ],
      "text/plain": [
       "      id ancestor_list  origin_time   \n",
       "0      0        [none]          0.0  \\\n",
       "190  190           [0]        189.0   \n",
       "195  195         [190]        192.0   \n",
       "196  196         [190]        192.0   \n",
       "200  200         [196]        193.0   \n",
       "..   ...           ...          ...   \n",
       "707  707         [425]        201.0   \n",
       "708  708         [425]        201.0   \n",
       "709  709         [425]        201.0   \n",
       "710  710         [213]        201.0   \n",
       "711  711         [200]        201.0   \n",
       "\n",
       "                                           taxon_label  ancestor_id   \n",
       "0                                                 Root            0  \\\n",
       "190  Inner+r=189+d=PVG3oJTPe9J+uid=D7tB0UQlU6MyN0de...            0   \n",
       "195  Inner+r=192+d=PUSAsaBZqkL+uid=tdcJdAeoGOXxqR6c...          190   \n",
       "196  Inner+r=192+d=PUSAsaBZqkL+uid=Bw0H66tztgYuTUrY...          190   \n",
       "200  Inner+r=193+d=PfNdoa-aAOn+uid=UAvkc7OnY7eO7pDb...          196   \n",
       "..                                                 ...          ...   \n",
       "707                                              15135          425   \n",
       "708                                              15066          425   \n",
       "709                                              15075          425   \n",
       "710                                              15086          213   \n",
       "711                                              15105          200   \n",
       "\n",
       "                                                  name  \n",
       "0                                                 Root  \n",
       "190  Inner+r=189+d=PVG3oJTPe9J+uid=D7tB0UQlU6MyN0de...  \n",
       "195  Inner+r=192+d=PUSAsaBZqkL+uid=tdcJdAeoGOXxqR6c...  \n",
       "196  Inner+r=192+d=PUSAsaBZqkL+uid=Bw0H66tztgYuTUrY...  \n",
       "200  Inner+r=193+d=PfNdoa-aAOn+uid=UAvkc7OnY7eO7pDb...  \n",
       "..                                                 ...  \n",
       "707                                              15135  \n",
       "708                                              15066  \n",
       "709                                              15075  \n",
       "710                                              15086  \n",
       "711                                              15105  \n",
       "\n",
       "[221 rows x 6 columns]"
      ]
     },
     "execution_count": 12,
     "metadata": {},
     "output_type": "execute_result"
    }
   ],
   "source": [
    "extant_nodes = [individual.history_index for individual in population]\n",
    "reconstructed_df = hstrat.build_tree(\n",
    "    [individual.species_annotation for individual in population],\n",
    "    version_pin=hstrat.__version__,\n",
    "    force_common_ancestry=True,\n",
    "    taxon_labels=map(str, extant_nodes),\n",
    ")\n",
    "reconstructed_df[\"name\"] = reconstructed_df[\"taxon_label\"]\n",
    "reconstructed_df\n"
   ]
  },
  {
   "cell_type": "code",
   "execution_count": 13,
   "id": "71bc9a7a",
   "metadata": {
    "execution": {
     "iopub.execute_input": "2023-05-23T20:13:58.315964Z",
     "iopub.status.busy": "2023-05-23T20:13:58.315354Z",
     "iopub.status.idle": "2023-05-23T20:14:05.929965Z",
     "shell.execute_reply": "2023-05-23T20:14:05.928384Z"
    },
    "papermill": {
     "duration": 7.685028,
     "end_time": "2023-05-23T20:14:05.935002",
     "exception": false,
     "start_time": "2023-05-23T20:13:58.249974",
     "status": "completed"
    },
    "tags": []
   },
   "outputs": [
    {
     "name": "stdout",
     "output_type": "stream",
     "text": [
      "teeplots/./notebook=ne-inference+replicate=6+treatment=range-expansion+type=reconstruction+viz=draw-biopython-tree+ext=.pdf\n"
     ]
    },
    {
     "name": "stdout",
     "output_type": "stream",
     "text": [
      "teeplots/./notebook=ne-inference+replicate=6+treatment=range-expansion+type=reconstruction+viz=draw-biopython-tree+ext=.png\n"
     ]
    },
    {
     "data": {
      "image/png": "[encoded data removed]",
      "text/plain": [
       "<Figure size 650x400 with 1 Axes>"
      ]
     },
     "metadata": {},
     "output_type": "display_data"
    }
   ],
   "source": [
    "reconstructed_tree = apc.alife_dataframe_to_biopython_tree(\n",
    "    reconstructed_df, setup_branch_lengths=True\n",
    ")\n",
    "plt.rcdefaults()\n",
    "plt.close('all')\n",
    "plt.clf()\n",
    "tp.tee(\n",
    "    pylib.tree.draw_biopython_tree,\n",
    "    reconstructed_tree,\n",
    "    teeplot_outattrs={\n",
    "        \"notebook\": \"ne-inference\",\n",
    "        \"replicate\": str(MILL_REPLICATE),\n",
    "        \"treatment\": MILL_TREATMENT_NAME,\n",
    "        \"type\": \"reconstruction\",\n",
    "    },\n",
    ")\n"
   ]
  },
  {
   "cell_type": "code",
   "execution_count": 14,
   "id": "95ce7e52",
   "metadata": {
    "execution": {
     "iopub.execute_input": "2023-05-23T20:14:06.022869Z",
     "iopub.status.busy": "2023-05-23T20:14:06.021748Z",
     "iopub.status.idle": "2023-05-23T20:14:10.614905Z",
     "shell.execute_reply": "2023-05-23T20:14:10.613685Z"
    },
    "papermill": {
     "duration": 4.641119,
     "end_time": "2023-05-23T20:14:10.618207",
     "exception": false,
     "start_time": "2023-05-23T20:14:05.977088",
     "status": "completed"
    },
    "tags": []
   },
   "outputs": [
    {
     "name": "stdout",
     "output_type": "stream",
     "text": [
      "teeplots/./drop_overlapping_labels=true+notebook=ne-inference+replicate=6+treatment=range-expansion+type=reconstruction+viz=draw-biopython-tree+ext=.pdf\n"
     ]
    },
    {
     "name": "stdout",
     "output_type": "stream",
     "text": [
      "teeplots/./drop_overlapping_labels=true+notebook=ne-inference+replicate=6+treatment=range-expansion+type=reconstruction+viz=draw-biopython-tree+ext=.png\n"
     ]
    },
    {
     "data": {
      "image/png": "[encoded data removed]",
      "text/plain": [
       "<Figure size 650x400 with 1 Axes>"
      ]
     },
     "metadata": {},
     "output_type": "display_data"
    }
   ],
   "source": [
    "reconstructed_tree = apc.alife_dataframe_to_biopython_tree(\n",
    "    reconstructed_df, setup_branch_lengths=True\n",
    ")\n",
    "plt.rcdefaults()\n",
    "plt.close('all')\n",
    "plt.clf()\n",
    "tp.tee(\n",
    "    pylib.tree.draw_biopython_tree,\n",
    "    reconstructed_tree,\n",
    "    drop_overlapping_labels=True,\n",
    "    teeplot_outattrs={\n",
    "        \"drop_overlapping_labels\": \"true\",\n",
    "        \"notebook\": \"ne-inference\",\n",
    "        \"replicate\": str(MILL_REPLICATE),\n",
    "        \"treatment\": MILL_TREATMENT_NAME,\n",
    "        \"type\": \"reconstruction\",\n",
    "    },\n",
    ")\n"
   ]
  },
  {
   "cell_type": "code",
   "execution_count": 15,
   "id": "763554b3",
   "metadata": {
    "execution": {
     "iopub.execute_input": "2023-05-23T20:14:10.707863Z",
     "iopub.status.busy": "2023-05-23T20:14:10.707289Z",
     "iopub.status.idle": "2023-05-23T20:14:13.419107Z",
     "shell.execute_reply": "2023-05-23T20:14:13.417780Z"
    },
    "papermill": {
     "duration": 2.760862,
     "end_time": "2023-05-23T20:14:13.422617",
     "exception": false,
     "start_time": "2023-05-23T20:14:10.661755",
     "status": "completed"
    },
    "tags": []
   },
   "outputs": [
    {
     "name": "stdout",
     "output_type": "stream",
     "text": [
      "teeplots/./max_leaves=20+notebook=ne-inference+replicate=6+treatment=range-expansion+type=reconstruction+viz=draw-biopython-tree+ext=.pdf\n"
     ]
    },
    {
     "name": "stdout",
     "output_type": "stream",
     "text": [
      "teeplots/./max_leaves=20+notebook=ne-inference+replicate=6+treatment=range-expansion+type=reconstruction+viz=draw-biopython-tree+ext=.png\n"
     ]
    },
    {
     "data": {
      "image/png": "[encoded data removed]",
      "text/plain": [
       "<Figure size 650x400 with 1 Axes>"
      ]
     },
     "metadata": {},
     "output_type": "display_data"
    }
   ],
   "source": [
    "reconstructed_tree = apc.alife_dataframe_to_biopython_tree(\n",
    "    reconstructed_df, setup_branch_lengths=True\n",
    ")\n",
    "plt.rcdefaults()\n",
    "plt.close('all')\n",
    "plt.clf()\n",
    "tp.tee(\n",
    "    pylib.tree.draw_biopython_tree,\n",
    "    reconstructed_tree,\n",
    "    max_leaves=20,\n",
    "    teeplot_outattrs={\n",
    "        \"max_leaves\": \"20\",\n",
    "        \"notebook\": \"ne-inference\",\n",
    "        \"replicate\": str(MILL_REPLICATE),\n",
    "        \"treatment\": MILL_TREATMENT_NAME,\n",
    "        \"type\": \"reconstruction\",\n",
    "    },\n",
    ")\n"
   ]
  },
  {
   "cell_type": "markdown",
   "id": "7d5564fb",
   "metadata": {
    "papermill": {
     "duration": 0.045667,
     "end_time": "2023-05-23T20:14:13.514360",
     "exception": false,
     "start_time": "2023-05-23T20:14:13.468693",
     "status": "completed"
    },
    "tags": []
   },
   "source": [
    "# Actual Pedigree\n"
   ]
  },
  {
   "cell_type": "code",
   "execution_count": 16,
   "id": "ea6b4dcf",
   "metadata": {
    "execution": {
     "iopub.execute_input": "2023-05-23T20:14:13.608738Z",
     "iopub.status.busy": "2023-05-23T20:14:13.607338Z",
     "iopub.status.idle": "2023-05-23T20:14:37.383639Z",
     "shell.execute_reply": "2023-05-23T20:14:37.382236Z"
    },
    "papermill": {
     "duration": 23.827278,
     "end_time": "2023-05-23T20:14:37.387290",
     "exception": false,
     "start_time": "2023-05-23T20:14:13.560012",
     "status": "completed"
    },
    "tags": []
   },
   "outputs": [],
   "source": [
    "distilled_tree = pylib.deap.history_to_tree_upgma(history, extant_nodes)\n"
   ]
  },
  {
   "cell_type": "code",
   "execution_count": 17,
   "id": "e9cca58c",
   "metadata": {
    "execution": {
     "iopub.execute_input": "2023-05-23T20:14:37.439902Z",
     "iopub.status.busy": "2023-05-23T20:14:37.439494Z",
     "iopub.status.idle": "2023-05-23T20:14:44.234046Z",
     "shell.execute_reply": "2023-05-23T20:14:44.232670Z"
    },
    "papermill": {
     "duration": 6.825155,
     "end_time": "2023-05-23T20:14:44.238156",
     "exception": false,
     "start_time": "2023-05-23T20:14:37.413001",
     "status": "completed"
    },
    "tags": []
   },
   "outputs": [
    {
     "name": "stdout",
     "output_type": "stream",
     "text": [
      "teeplots/./notebook=ne-inference+replicate=6+treatment=range-expansion+type=distilled-reference+viz=draw-biopython-tree+ext=.pdf\n"
     ]
    },
    {
     "name": "stdout",
     "output_type": "stream",
     "text": [
      "teeplots/./notebook=ne-inference+replicate=6+treatment=range-expansion+type=distilled-reference+viz=draw-biopython-tree+ext=.png\n"
     ]
    },
    {
     "data": {
      "image/png": "[encoded data removed]",
      "text/plain": [
       "<Figure size 650x400 with 1 Axes>"
      ]
     },
     "metadata": {},
     "output_type": "display_data"
    }
   ],
   "source": [
    "plt.rcdefaults()\n",
    "plt.close('all')\n",
    "plt.clf()\n",
    "tp.tee(\n",
    "    pylib.tree.draw_biopython_tree,\n",
    "    distilled_tree,\n",
    "    teeplot_outattrs={\n",
    "        \"notebook\": \"ne-inference\",\n",
    "        \"replicate\": str(MILL_REPLICATE),\n",
    "        \"treatment\": MILL_TREATMENT_NAME,\n",
    "        \"type\": \"distilled-reference\",\n",
    "    },\n",
    ")\n"
   ]
  },
  {
   "cell_type": "code",
   "execution_count": 18,
   "id": "d0e5160b",
   "metadata": {
    "execution": {
     "iopub.execute_input": "2023-05-23T20:14:44.342013Z",
     "iopub.status.busy": "2023-05-23T20:14:44.341427Z",
     "iopub.status.idle": "2023-05-23T20:14:48.743546Z",
     "shell.execute_reply": "2023-05-23T20:14:48.742098Z"
    },
    "papermill": {
     "duration": 4.457399,
     "end_time": "2023-05-23T20:14:48.746244",
     "exception": false,
     "start_time": "2023-05-23T20:14:44.288845",
     "status": "completed"
    },
    "tags": []
   },
   "outputs": [
    {
     "name": "stdout",
     "output_type": "stream",
     "text": [
      "teeplots/./drop_overlapping_labels=true+notebook=ne-inference+replicate=6+treatment=range-expansion+type=distilled-reference+viz=draw-biopython-tree+ext=.pdf\n"
     ]
    },
    {
     "name": "stdout",
     "output_type": "stream",
     "text": [
      "teeplots/./drop_overlapping_labels=true+notebook=ne-inference+replicate=6+treatment=range-expansion+type=distilled-reference+viz=draw-biopython-tree+ext=.png\n"
     ]
    },
    {
     "data": {
      "image/png": "[encoded data removed]",
      "text/plain": [
       "<Figure size 650x400 with 1 Axes>"
      ]
     },
     "metadata": {},
     "output_type": "display_data"
    }
   ],
   "source": [
    "tp.tee(\n",
    "    pylib.tree.draw_biopython_tree,\n",
    "    distilled_tree,\n",
    "    drop_overlapping_labels=True,\n",
    "    teeplot_outattrs={\n",
    "        \"drop_overlapping_labels\": \"true\",\n",
    "        \"notebook\": \"ne-inference\",\n",
    "        \"replicate\": str(MILL_REPLICATE),\n",
    "        \"treatment\": MILL_TREATMENT_NAME,\n",
    "        \"type\": \"distilled-reference\",\n",
    "    },\n",
    ")\n"
   ]
  },
  {
   "cell_type": "code",
   "execution_count": 19,
   "id": "a969978e",
   "metadata": {
    "execution": {
     "iopub.execute_input": "2023-05-23T20:14:48.804652Z",
     "iopub.status.busy": "2023-05-23T20:14:48.804234Z",
     "iopub.status.idle": "2023-05-23T20:14:51.305020Z",
     "shell.execute_reply": "2023-05-23T20:14:51.303585Z"
    },
    "papermill": {
     "duration": 2.533773,
     "end_time": "2023-05-23T20:14:51.308480",
     "exception": false,
     "start_time": "2023-05-23T20:14:48.774707",
     "status": "completed"
    },
    "tags": []
   },
   "outputs": [
    {
     "name": "stdout",
     "output_type": "stream",
     "text": [
      "teeplots/./max_leaves=20+notebook=ne-inference+replicate=6+treatment=range-expansion+type=distilled-reference+viz=draw-biopython-tree+ext=.pdf\n"
     ]
    },
    {
     "name": "stdout",
     "output_type": "stream",
     "text": [
      "teeplots/./max_leaves=20+notebook=ne-inference+replicate=6+treatment=range-expansion+type=distilled-reference+viz=draw-biopython-tree+ext=.png\n"
     ]
    },
    {
     "data": {
      "image/png": "[encoded data removed]",
      "text/plain": [
       "<Figure size 650x400 with 1 Axes>"
      ]
     },
     "metadata": {},
     "output_type": "display_data"
    }
   ],
   "source": [
    "tp.tee(\n",
    "    pylib.tree.draw_biopython_tree,\n",
    "    distilled_tree,\n",
    "    max_leaves=20,\n",
    "    teeplot_outattrs={\n",
    "        \"max_leaves\": \"20\",\n",
    "        \"notebook\": \"ne-inference\",\n",
    "        \"replicate\": str(MILL_REPLICATE),\n",
    "        \"treatment\": MILL_TREATMENT_NAME,\n",
    "        \"type\": \"distilled-reference\",\n",
    "    },\n",
    ")\n"
   ]
  },
  {
   "cell_type": "code",
   "execution_count": 20,
   "id": "b94b8da4",
   "metadata": {
    "execution": {
     "iopub.execute_input": "2023-05-23T20:14:51.414543Z",
     "iopub.status.busy": "2023-05-23T20:14:51.413714Z",
     "iopub.status.idle": "2023-05-23T20:15:14.602890Z",
     "shell.execute_reply": "2023-05-23T20:15:14.601505Z"
    },
    "papermill": {
     "duration": 23.246817,
     "end_time": "2023-05-23T20:15:14.606885",
     "exception": false,
     "start_time": "2023-05-23T20:14:51.360068",
     "status": "completed"
    },
    "tags": []
   },
   "outputs": [
    {
     "data": {
      "text/plain": [
       "0.6364673884420867"
      ]
     },
     "execution_count": 20,
     "metadata": {},
     "output_type": "execute_result"
    }
   ],
   "source": [
    "distilled_tree = pylib.deap.history_to_tree_upgma(\n",
    "    history, extant_nodes, correct_origin_times=False\n",
    ")\n",
    "pylib.tree.polymorphic_quartet_distance(reconstructed_tree, distilled_tree)\n"
   ]
  },
  {
   "cell_type": "markdown",
   "id": "d783a20c",
   "metadata": {
    "papermill": {
     "duration": 0.056862,
     "end_time": "2023-05-23T20:15:14.729621",
     "exception": false,
     "start_time": "2023-05-23T20:15:14.672759",
     "status": "completed"
    },
    "tags": []
   },
   "source": [
    "# Differentia Magnitude\n"
   ]
  },
  {
   "cell_type": "code",
   "execution_count": 21,
   "id": "ec91456a",
   "metadata": {
    "execution": {
     "iopub.execute_input": "2023-05-23T20:15:14.797158Z",
     "iopub.status.busy": "2023-05-23T20:15:14.795854Z",
     "iopub.status.idle": "2023-05-23T20:15:14.803248Z",
     "shell.execute_reply": "2023-05-23T20:15:14.801851Z"
    },
    "papermill": {
     "duration": 0.044755,
     "end_time": "2023-05-23T20:15:14.806536",
     "exception": false,
     "start_time": "2023-05-23T20:15:14.761781",
     "status": "completed"
    },
    "tags": []
   },
   "outputs": [],
   "source": [
    "rd_data = dict(population[0].species_annotation.IterRankDifferentiaZip())\n"
   ]
  },
  {
   "cell_type": "code",
   "execution_count": 22,
   "id": "4827acf8",
   "metadata": {
    "execution": {
     "iopub.execute_input": "2023-05-23T20:15:14.908409Z",
     "iopub.status.busy": "2023-05-23T20:15:14.907486Z",
     "iopub.status.idle": "2023-05-23T20:15:16.730941Z",
     "shell.execute_reply": "2023-05-23T20:15:16.729472Z"
    },
    "papermill": {
     "duration": 1.879262,
     "end_time": "2023-05-23T20:15:16.735217",
     "exception": false,
     "start_time": "2023-05-23T20:15:14.855955",
     "status": "completed"
    },
    "tags": []
   },
   "outputs": [
    {
     "name": "stdout",
     "output_type": "stream",
     "text": [
      "teeplots/./notebook=ne-inference+replicate=6+treatment=range-expansion+viz=scatterplot-differentia-magnitude+ext=.pdf\n"
     ]
    },
    {
     "name": "stdout",
     "output_type": "stream",
     "text": [
      "teeplots/./notebook=ne-inference+replicate=6+treatment=range-expansion+viz=scatterplot-differentia-magnitude+ext=.png\n"
     ]
    },
    {
     "data": {
      "image/png": "[encoded data removed]",
      "text/plain": [
       "<Figure size 640x480 with 1 Axes>"
      ]
     },
     "metadata": {},
     "output_type": "display_data"
    }
   ],
   "source": [
    "def scatterplot_differentia_magnitude():\n",
    "#     plt.plot(*[*zip(*enumerate(MILL_NPOP_SEQ))])\n",
    "\n",
    "    sns.scatterplot(\n",
    "        x=rd_data.keys(),\n",
    "        y=rd_data.values(),\n",
    "        c=\"k\",\n",
    "    )\n",
    "\n",
    "    for i, (a, b) in enumerate(it.pairwise(MILL_NPOP_SEQ)):\n",
    "        if abs(a - b) > 2:\n",
    "            plt.axvline(i + 1, c=\"white\", lw=6)\n",
    "\n",
    "            plt.axvline(i + 1, ls=\":\", c=\"red\")\n",
    "    for i, (a, b) in enumerate(it.pairwise(MILL_NTOURN_SEQ)):\n",
    "        if a != b:\n",
    "            plt.axvline(i + 1, c=\"white\", lw=6)\n",
    "            plt.axvline(i + 1, ls=\":\", c=\"red\")\n",
    "\n",
    "    plt.ylabel(\"fixed differentia magnitude\")\n",
    "    plt.xlabel(\"generation\")\n",
    "\n",
    "plt.rcdefaults()\n",
    "plt.close('all')\n",
    "plt.clf()\n",
    "tp.tee(\n",
    "    scatterplot_differentia_magnitude,\n",
    "    teeplot_outattrs={\n",
    "        \"notebook\": \"ne-inference\",\n",
    "        \"replicate\": str(MILL_REPLICATE),\n",
    "        \"treatment\": MILL_TREATMENT_NAME,\n",
    "    },\n",
    ")\n"
   ]
  },
  {
   "cell_type": "code",
   "execution_count": 23,
   "id": "ce526f32",
   "metadata": {
    "execution": {
     "iopub.execute_input": "2023-05-23T20:15:16.847228Z",
     "iopub.status.busy": "2023-05-23T20:15:16.845937Z",
     "iopub.status.idle": "2023-05-23T20:15:18.729680Z",
     "shell.execute_reply": "2023-05-23T20:15:18.728281Z"
    },
    "papermill": {
     "duration": 1.943257,
     "end_time": "2023-05-23T20:15:18.733080",
     "exception": false,
     "start_time": "2023-05-23T20:15:16.789823",
     "status": "completed"
    },
    "tags": []
   },
   "outputs": [
    {
     "name": "stdout",
     "output_type": "stream",
     "text": [
      "teeplots/./notebook=ne-inference+replicate=6+treatment=range-expansion+viz=scatterplot-popsize-estimates+ext=.pdf\n"
     ]
    },
    {
     "name": "stdout",
     "output_type": "stream",
     "text": [
      "teeplots/./notebook=ne-inference+replicate=6+treatment=range-expansion+viz=scatterplot-popsize-estimates+ext=.png\n"
     ]
    },
    {
     "data": {
      "image/png": "[encoded data removed]",
      "text/plain": [
       "<Figure size 640x480 with 1 Axes>"
      ]
     },
     "metadata": {},
     "output_type": "display_data"
    }
   ],
   "source": [
    "def scatterplot_popsize_estimates():\n",
    "    plt.plot(*[*zip(*enumerate(MILL_NPOP_SEQ))])\n",
    "\n",
    "    sns.scatterplot(\n",
    "        x=rd_data.keys(),\n",
    "       y=[\n",
    "            -1 / np.log(x / 2**HSTRAT_DIFFERENTIA_WIDTH)\n",
    "            for x in rd_data.values()\n",
    "        ],\n",
    "        c=\"k\",\n",
    "    )\n",
    "\n",
    "    for i, (a, b) in enumerate(it.pairwise(MILL_NPOP_SEQ)):\n",
    "        if abs(a - b) > 2:\n",
    "            plt.axvline(i + 1, c=\"white\", lw=6)\n",
    "\n",
    "            plt.axvline(i + 1, ls=\":\", c=\"red\")\n",
    "    for i, (a, b) in enumerate(it.pairwise(MILL_NTOURN_SEQ)):\n",
    "        if a != b:\n",
    "            plt.axvline(i + 1, c=\"white\", lw=6)\n",
    "            plt.axvline(i + 1, ls=\":\", c=\"red\")\n",
    "\n",
    "    plt.ylabel(\"estimated population size\")\n",
    "    plt.xlabel(\"generation\")\n",
    "\n",
    "plt.rcdefaults()\n",
    "plt.close('all')\n",
    "plt.clf()\n",
    "tp.tee(\n",
    "    scatterplot_popsize_estimates,\n",
    "    teeplot_outattrs={\n",
    "        \"notebook\": \"ne-inference\",\n",
    "        \"replicate\": str(MILL_REPLICATE),\n",
    "        \"treatment\": MILL_TREATMENT_NAME,\n",
    "    },\n",
    ")\n"
   ]
  },
  {
   "cell_type": "code",
   "execution_count": 24,
   "id": "3ea2146c",
   "metadata": {
    "execution": {
     "iopub.execute_input": "2023-05-23T20:15:18.854577Z",
     "iopub.status.busy": "2023-05-23T20:15:18.853995Z",
     "iopub.status.idle": "2023-05-23T20:15:18.864758Z",
     "shell.execute_reply": "2023-05-23T20:15:18.863216Z"
    },
    "papermill": {
     "duration": 0.078299,
     "end_time": "2023-05-23T20:15:18.868863",
     "exception": false,
     "start_time": "2023-05-23T20:15:18.790564",
     "status": "completed"
    },
    "tags": []
   },
   "outputs": [],
   "source": [
    "# TODO pool strata to create a running estimate with 95% confidence interval bands\n",
    "import pandas as pd\n",
    "\n",
    "df = pd.DataFrame(\n",
    "    {\n",
    "        \"rank\": rd_data.keys(),\n",
    "        \"differentia\": rd_data.values(),\n",
    "    }\n",
    ")\n",
    "\n",
    "df[\"normalized differentia\"] = (\n",
    "    df[\"differentia\"] / 2**HSTRAT_DIFFERENTIA_WIDTH\n",
    ")\n"
   ]
  },
  {
   "cell_type": "code",
   "execution_count": 25,
   "id": "7f934e55",
   "metadata": {
    "execution": {
     "iopub.execute_input": "2023-05-23T20:15:18.990551Z",
     "iopub.status.busy": "2023-05-23T20:15:18.989957Z",
     "iopub.status.idle": "2023-05-23T20:15:19.006638Z",
     "shell.execute_reply": "2023-05-23T20:15:19.005187Z"
    },
    "papermill": {
     "duration": 0.083059,
     "end_time": "2023-05-23T20:15:19.010014",
     "exception": false,
     "start_time": "2023-05-23T20:15:18.926955",
     "status": "completed"
    },
    "tags": []
   },
   "outputs": [],
   "source": [
    "# https://github.com/mmore500/hereditary-stratigraph-concept/blob/3ebe7a7f3f03c03592564a64b0024632888d8f1d/binder/popsize/maximum_likelihood_popsize_estimator_confidence_interval.ipynb\n",
    "def solve_mle_popsize_ci_lb(\n",
    "    observations: typing.List[float],\n",
    "    *,\n",
    "    confidence: float = 0.95,\n",
    ") -> float:\n",
    "\n",
    "    k = len(observations)\n",
    "    hat_x = math.prod(observations)\n",
    "\n",
    "    # use mle estimate as starting guess\n",
    "    hat_n_mle = -k / math.log(hat_x)\n",
    "\n",
    "    n_lb = sympy.Symbol(\n",
    "        \"n_\\mathrm{lb}\",\n",
    "        positive=True,\n",
    "        real=True,\n",
    "    )\n",
    "\n",
    "    return float(\n",
    "        sympy.nsolve(\n",
    "            2 * sympy.uppergamma(k, -n_lb * sympy.log(hat_x))\n",
    "            - (confidence + 1) * sympy.gamma(k),\n",
    "            hat_n_mle,\n",
    "            verify=False,\n",
    "        )\n",
    "    )\n",
    "\n",
    "\n",
    "def solve_mle_popsize_ci_ub(\n",
    "    observations: typing.List[float],\n",
    "    *,\n",
    "    confidence: float = 0.95,\n",
    ") -> float:\n",
    "\n",
    "    k = len(observations)\n",
    "    hat_x = math.prod(observations)\n",
    "\n",
    "    # use mle estimate as starting guess\n",
    "    hat_n_mle = -k / math.log(hat_x)\n",
    "\n",
    "    n_lb = sympy.Symbol(\n",
    "        \"n_\\mathrm{ub}\",\n",
    "        positive=True,\n",
    "        real=True,\n",
    "    )\n",
    "\n",
    "    return float(\n",
    "        sympy.nsolve(\n",
    "            2 * sympy.uppergamma(k, -n_lb * sympy.log(hat_x))\n",
    "            - (1 - confidence) * sympy.gamma(k),\n",
    "            hat_n_mle,\n",
    "            verify=False,\n",
    "        )\n",
    "    )\n"
   ]
  },
  {
   "cell_type": "code",
   "execution_count": 26,
   "id": "ac091e0d",
   "metadata": {
    "execution": {
     "iopub.execute_input": "2023-05-23T20:15:19.129860Z",
     "iopub.status.busy": "2023-05-23T20:15:19.128847Z",
     "iopub.status.idle": "2023-05-23T20:15:44.867130Z",
     "shell.execute_reply": "2023-05-23T20:15:44.865623Z"
    },
    "papermill": {
     "duration": 25.803215,
     "end_time": "2023-05-23T20:15:44.871399",
     "exception": false,
     "start_time": "2023-05-23T20:15:19.068184",
     "status": "completed"
    },
    "tags": []
   },
   "outputs": [],
   "source": [
    "# Calculate the pooled running estimate\n",
    "k = 10\n",
    "\n",
    "df[\"running_ub\"] = (\n",
    "    df[\"normalized differentia\"]\n",
    "    .rolling(window=k)\n",
    "    .apply(solve_mle_popsize_ci_ub)\n",
    ")\n",
    "df[\"running_lb\"] = (\n",
    "    df[\"normalized differentia\"]\n",
    "    .rolling(window=k)\n",
    "    .apply(solve_mle_popsize_ci_lb)\n",
    ")\n",
    "df[\"population size\"] = (\n",
    "    df[\"normalized differentia\"]\n",
    "    .rolling(window=k)\n",
    "    .apply(lambda x: -k / np.sum(np.log(x)))\n",
    ")\n",
    "\n",
    "k = 1\n",
    "df[\"population size from singleton\"] = (\n",
    "    df[\"normalized differentia\"]\n",
    "    .rolling(window=k)\n",
    "    .apply(lambda x: -k / np.sum(np.log(x)))\n",
    ")\n"
   ]
  },
  {
   "cell_type": "code",
   "execution_count": 27,
   "id": "25dfe122",
   "metadata": {
    "execution": {
     "iopub.execute_input": "2023-05-23T20:15:45.029212Z",
     "iopub.status.busy": "2023-05-23T20:15:45.028294Z",
     "iopub.status.idle": "2023-05-23T20:15:46.828817Z",
     "shell.execute_reply": "2023-05-23T20:15:46.827353Z"
    },
    "papermill": {
     "duration": 1.863247,
     "end_time": "2023-05-23T20:15:46.832511",
     "exception": false,
     "start_time": "2023-05-23T20:15:44.969264",
     "status": "completed"
    },
    "tags": []
   },
   "outputs": [
    {
     "name": "stdout",
     "output_type": "stream",
     "text": [
      "teeplots/./notebook=ne-inference+replicate=6+treatment=range-expansion+viz=plot-running-estimation+x=rank+y=population-size+ext=.pdf\n"
     ]
    },
    {
     "name": "stdout",
     "output_type": "stream",
     "text": [
      "teeplots/./notebook=ne-inference+replicate=6+treatment=range-expansion+viz=plot-running-estimation+x=rank+y=population-size+ext=.png\n"
     ]
    },
    {
     "data": {
      "image/png": "[encoded data removed]",
      "text/plain": [
       "<Figure size 640x480 with 1 Axes>"
      ]
     },
     "metadata": {},
     "output_type": "display_data"
    }
   ],
   "source": [
    "def plot_running_estimation(x, y, data):\n",
    "    plt.plot(*[*zip(*enumerate(MILL_NPOP_SEQ))])\n",
    "\n",
    "    sns.lineplot(\n",
    "        data=data,\n",
    "        x=x,\n",
    "        y=y,\n",
    "        c=\"k\",\n",
    "    )\n",
    "\n",
    "    for i, (a, b) in enumerate(it.pairwise(MILL_NPOP_SEQ)):\n",
    "        if abs(a - b) > 2:\n",
    "            plt.axvline(i + 1, c=\"white\", lw=6)\n",
    "            plt.axvline(i + 1, ls=\":\", c=\"red\")\n",
    "\n",
    "    for i, (a, b) in enumerate(it.pairwise(MILL_NTOURN_SEQ)):\n",
    "        if a != b:\n",
    "            plt.axvline(i + 1, c=\"white\", lw=6)\n",
    "            plt.axvline(i + 1, ls=\":\", c=\"red\")\n",
    "\n",
    "    plt.fill_between(\n",
    "        df[\"rank\"], df[\"running_ub\"], df[\"running_lb\"], fc=\"lightblue\"\n",
    "    )\n",
    "    plt.xlabel(\"generation\")\n",
    "\n",
    "\n",
    "plt.rcdefaults()\n",
    "plt.close('all')\n",
    "plt.clf()\n",
    "tp.tee(\n",
    "    plot_running_estimation,\n",
    "    x=\"rank\",\n",
    "    y=\"population size\",\n",
    "    data=df,\n",
    "    teeplot_outattrs={\n",
    "        \"notebook\": \"ne-inference\",\n",
    "        \"replicate\": str(MILL_REPLICATE),\n",
    "        \"treatment\": MILL_TREATMENT_NAME,\n",
    "    },\n",
    ")\n"
   ]
  },
  {
   "cell_type": "code",
   "execution_count": 28,
   "id": "63b288eb",
   "metadata": {
    "execution": {
     "iopub.execute_input": "2023-05-23T20:15:46.954399Z",
     "iopub.status.busy": "2023-05-23T20:15:46.953840Z",
     "iopub.status.idle": "2023-05-23T20:15:47.132355Z",
     "shell.execute_reply": "2023-05-23T20:15:47.130949Z"
    },
    "papermill": {
     "duration": 0.243706,
     "end_time": "2023-05-23T20:15:47.136171",
     "exception": false,
     "start_time": "2023-05-23T20:15:46.892465",
     "status": "completed"
    },
    "tags": []
   },
   "outputs": [
    {
     "data": {
      "text/html": [
       "<div>\n",
       "<style scoped>\n",
       "    .dataframe tbody tr th:only-of-type {\n",
       "        vertical-align: middle;\n",
       "    }\n",
       "\n",
       "    .dataframe tbody tr th {\n",
       "        vertical-align: top;\n",
       "    }\n",
       "\n",
       "    .dataframe thead th {\n",
       "        text-align: right;\n",
       "    }\n",
       "</style>\n",
       "<table border=\"1\" class=\"dataframe\">\n",
       "  <thead>\n",
       "    <tr style=\"text-align: right;\">\n",
       "      <th></th>\n",
       "      <th>notebook</th>\n",
       "      <th>replicate</th>\n",
       "      <th>treatment</th>\n",
       "      <th>first rank</th>\n",
       "      <th>population size estimate at first rank</th>\n",
       "      <th>population size upper bound at first rank</th>\n",
       "      <th>population size lower bound at first rank</th>\n",
       "      <th>second rank</th>\n",
       "      <th>population size estimate at second rank</th>\n",
       "      <th>population size upper bound at second rank</th>\n",
       "      <th>population size lower bound at second rank</th>\n",
       "      <th>nonoverlapping CI</th>\n",
       "      <th>Mann-Whitney p</th>\n",
       "      <th>Mann-Whitney significant at alpha = 0.05</th>\n",
       "      <th>Mann-Whitney significant at alpha = 0.01</th>\n",
       "    </tr>\n",
       "  </thead>\n",
       "  <tbody>\n",
       "    <tr>\n",
       "      <th>0</th>\n",
       "      <td>ne-inference</td>\n",
       "      <td>6</td>\n",
       "      <td>range-expansion</td>\n",
       "      <td>33</td>\n",
       "      <td>4.364858</td>\n",
       "      <td>7.457274</td>\n",
       "      <td>2.093119</td>\n",
       "      <td>100</td>\n",
       "      <td>19.697542</td>\n",
       "      <td>33.652863</td>\n",
       "      <td>9.445737</td>\n",
       "      <td>True</td>\n",
       "      <td>3.983954e-07</td>\n",
       "      <td>True</td>\n",
       "      <td>True</td>\n",
       "    </tr>\n",
       "    <tr>\n",
       "      <th>1</th>\n",
       "      <td>ne-inference</td>\n",
       "      <td>6</td>\n",
       "      <td>range-expansion</td>\n",
       "      <td>33</td>\n",
       "      <td>4.364858</td>\n",
       "      <td>7.457274</td>\n",
       "      <td>2.093119</td>\n",
       "      <td>166</td>\n",
       "      <td>52.311492</td>\n",
       "      <td>89.373155</td>\n",
       "      <td>25.085394</td>\n",
       "      <td>True</td>\n",
       "      <td>7.247674e-09</td>\n",
       "      <td>True</td>\n",
       "      <td>True</td>\n",
       "    </tr>\n",
       "    <tr>\n",
       "      <th>2</th>\n",
       "      <td>ne-inference</td>\n",
       "      <td>6</td>\n",
       "      <td>range-expansion</td>\n",
       "      <td>100</td>\n",
       "      <td>19.697542</td>\n",
       "      <td>33.652863</td>\n",
       "      <td>9.445737</td>\n",
       "      <td>33</td>\n",
       "      <td>4.364858</td>\n",
       "      <td>7.457274</td>\n",
       "      <td>2.093119</td>\n",
       "      <td>True</td>\n",
       "      <td>3.983954e-07</td>\n",
       "      <td>True</td>\n",
       "      <td>True</td>\n",
       "    </tr>\n",
       "    <tr>\n",
       "      <th>3</th>\n",
       "      <td>ne-inference</td>\n",
       "      <td>6</td>\n",
       "      <td>range-expansion</td>\n",
       "      <td>100</td>\n",
       "      <td>19.697542</td>\n",
       "      <td>33.652863</td>\n",
       "      <td>9.445737</td>\n",
       "      <td>166</td>\n",
       "      <td>52.311492</td>\n",
       "      <td>89.373155</td>\n",
       "      <td>25.085394</td>\n",
       "      <td>False</td>\n",
       "      <td>1.967877e-01</td>\n",
       "      <td>False</td>\n",
       "      <td>False</td>\n",
       "    </tr>\n",
       "    <tr>\n",
       "      <th>4</th>\n",
       "      <td>ne-inference</td>\n",
       "      <td>6</td>\n",
       "      <td>range-expansion</td>\n",
       "      <td>166</td>\n",
       "      <td>52.311492</td>\n",
       "      <td>89.373155</td>\n",
       "      <td>25.085394</td>\n",
       "      <td>33</td>\n",
       "      <td>4.364858</td>\n",
       "      <td>7.457274</td>\n",
       "      <td>2.093119</td>\n",
       "      <td>True</td>\n",
       "      <td>7.247674e-09</td>\n",
       "      <td>True</td>\n",
       "      <td>True</td>\n",
       "    </tr>\n",
       "    <tr>\n",
       "      <th>5</th>\n",
       "      <td>ne-inference</td>\n",
       "      <td>6</td>\n",
       "      <td>range-expansion</td>\n",
       "      <td>166</td>\n",
       "      <td>52.311492</td>\n",
       "      <td>89.373155</td>\n",
       "      <td>25.085394</td>\n",
       "      <td>100</td>\n",
       "      <td>19.697542</td>\n",
       "      <td>33.652863</td>\n",
       "      <td>9.445737</td>\n",
       "      <td>False</td>\n",
       "      <td>1.967877e-01</td>\n",
       "      <td>False</td>\n",
       "      <td>False</td>\n",
       "    </tr>\n",
       "  </tbody>\n",
       "</table>\n",
       "</div>"
      ],
      "text/plain": [
       "       notebook  replicate        treatment  first rank   \n",
       "0  ne-inference          6  range-expansion          33  \\\n",
       "1  ne-inference          6  range-expansion          33   \n",
       "2  ne-inference          6  range-expansion         100   \n",
       "3  ne-inference          6  range-expansion         100   \n",
       "4  ne-inference          6  range-expansion         166   \n",
       "5  ne-inference          6  range-expansion         166   \n",
       "\n",
       "   population size estimate at first rank   \n",
       "0                                4.364858  \\\n",
       "1                                4.364858   \n",
       "2                               19.697542   \n",
       "3                               19.697542   \n",
       "4                               52.311492   \n",
       "5                               52.311492   \n",
       "\n",
       "   population size upper bound at first rank   \n",
       "0                                   7.457274  \\\n",
       "1                                   7.457274   \n",
       "2                                  33.652863   \n",
       "3                                  33.652863   \n",
       "4                                  89.373155   \n",
       "5                                  89.373155   \n",
       "\n",
       "   population size lower bound at first rank  second rank   \n",
       "0                                   2.093119          100  \\\n",
       "1                                   2.093119          166   \n",
       "2                                   9.445737           33   \n",
       "3                                   9.445737          166   \n",
       "4                                  25.085394           33   \n",
       "5                                  25.085394          100   \n",
       "\n",
       "   population size estimate at second rank   \n",
       "0                                19.697542  \\\n",
       "1                                52.311492   \n",
       "2                                 4.364858   \n",
       "3                                52.311492   \n",
       "4                                 4.364858   \n",
       "5                                19.697542   \n",
       "\n",
       "   population size upper bound at second rank   \n",
       "0                                   33.652863  \\\n",
       "1                                   89.373155   \n",
       "2                                    7.457274   \n",
       "3                                   89.373155   \n",
       "4                                    7.457274   \n",
       "5                                   33.652863   \n",
       "\n",
       "   population size lower bound at second rank  nonoverlapping CI   \n",
       "0                                    9.445737               True  \\\n",
       "1                                   25.085394               True   \n",
       "2                                    2.093119               True   \n",
       "3                                   25.085394              False   \n",
       "4                                    2.093119               True   \n",
       "5                                    9.445737              False   \n",
       "\n",
       "   Mann-Whitney p  Mann-Whitney significant at alpha = 0.05   \n",
       "0    3.983954e-07                                      True  \\\n",
       "1    7.247674e-09                                      True   \n",
       "2    3.983954e-07                                      True   \n",
       "3    1.967877e-01                                     False   \n",
       "4    7.247674e-09                                      True   \n",
       "5    1.967877e-01                                     False   \n",
       "\n",
       "   Mann-Whitney significant at alpha = 0.01  \n",
       "0                                      True  \n",
       "1                                      True  \n",
       "2                                      True  \n",
       "3                                     False  \n",
       "4                                      True  \n",
       "5                                     False  "
      ]
     },
     "execution_count": 28,
     "metadata": {},
     "output_type": "execute_result"
    }
   ],
   "source": [
    "records = [\n",
    "    {\n",
    "        \"notebook\": \"ne-inference\",\n",
    "        \"replicate\": MILL_REPLICATE,\n",
    "        \"treatment\": MILL_TREATMENT_NAME,\n",
    "        \"first rank\": first_rank,\n",
    "        \"population size estimate at first rank\": df[\n",
    "            df[\"rank\"] == first_rank\n",
    "        ].iloc[0][\"population size\"],\n",
    "        \"population size upper bound at first rank\": df[\n",
    "            df[\"rank\"] == first_rank\n",
    "        ].iloc[0][\"running_ub\"],\n",
    "        \"population size lower bound at first rank\": df[\n",
    "            df[\"rank\"] == first_rank\n",
    "        ].iloc[0][\"running_lb\"],\n",
    "        \"second rank\": second_rank,\n",
    "        \"population size estimate at second rank\": df[\n",
    "            df[\"rank\"] == second_rank\n",
    "        ].iloc[0][\"population size\"],\n",
    "        \"population size upper bound at second rank\": df[\n",
    "            df[\"rank\"] == second_rank\n",
    "        ].iloc[0][\"running_ub\"],\n",
    "        \"population size lower bound at second rank\": df[\n",
    "            df[\"rank\"] == second_rank\n",
    "        ].iloc[0][\"running_lb\"],\n",
    "        \"nonoverlapping CI\": min(\n",
    "            df[df[\"rank\"] == first_rank].iloc[0][\"running_ub\"],\n",
    "            df[df[\"rank\"] == second_rank].iloc[0][\"running_ub\"],\n",
    "        )\n",
    "        < max(\n",
    "            df[df[\"rank\"] == first_rank].iloc[0][\"running_lb\"],\n",
    "            df[df[\"rank\"] == second_rank].iloc[0][\"running_lb\"],\n",
    "        ),\n",
    "        \"Mann-Whitney p\": scipy_stats.mannwhitneyu(\n",
    "            df.loc[\n",
    "                (df[\"rank\"] - first_rank).abs() < 15,\n",
    "                \"population size from singleton\",\n",
    "            ],\n",
    "            df.loc[\n",
    "                (df[\"rank\"] - second_rank).abs() < 15,\n",
    "                \"population size from singleton\",\n",
    "            ],\n",
    "        )[1],\n",
    "    }\n",
    "    for first_rank, second_rank in it.permutations([33, 100, 166], 2)\n",
    "]\n",
    "outdf = pd.DataFrame.from_records(records)\n",
    "outdf[\"Mann-Whitney significant at alpha = 0.05\"] = (\n",
    "    outdf[\"Mann-Whitney p\"] < 0.05\n",
    ")\n",
    "outdf[\"Mann-Whitney significant at alpha = 0.01\"] = (\n",
    "    outdf[\"Mann-Whitney p\"] < 0.01\n",
    ")\n",
    "outdf.to_csv(\n",
    "    kn.pack(\n",
    "        {\n",
    "            \"a\": \"snapshot-comparisons-stats\",\n",
    "            \"notebook\": \"ne-inference\",\n",
    "            \"replicate\": MILL_REPLICATE,\n",
    "            \"treatment\": MILL_TREATMENT_NAME,\n",
    "            \"ext\": \".csv\",\n",
    "        }\n",
    "    )\n",
    ")\n",
    "outdf\n"
   ]
  }
 ],
 "metadata": {
  "kernelspec": {
   "display_name": "Python 3",
   "language": "python",
   "name": "python3"
  },
  "language_info": {
   "codemirror_mode": {
    "name": "ipython",
    "version": 3
   },
   "file_extension": ".py",
   "mimetype": "text/x-python",
   "name": "python",
   "nbconvert_exporter": "python",
   "pygments_lexer": "ipython3",
   "version": "3.10.6"
  },
  "papermill": {
   "default_parameters": {},
   "duration": 752.190311,
   "end_time": "2023-05-23T20:15:49.928768",
   "environment_variables": {},
   "exception": null,
   "input_path": "Ne-inference.ipynb",
   "output_path": "Ne-inference-parameterization-36.ipynb",
   "parameters": {
    "MILL_NPOP_SEQ": "[10] * 67 + [*range(10, 142, 2)] + [142] * 67",
    "MILL_REPLICATE": 6,
    "MILL_TREATMENT_NAME": "range-expansion"
   },
   "start_time": "2023-05-23T20:03:17.738457",
   "version": "2.4.0"
  }
 },
 "nbformat": 4,
 "nbformat_minor": 5
}