{
 "cells": [
  {
   "cell_type": "code",
   "execution_count": 1,
   "id": "2c9f75a7",
   "metadata": {
    "execution": {
     "iopub.execute_input": "2023-05-24T07:19:16.575183Z",
     "iopub.status.busy": "2023-05-24T07:19:16.574511Z",
     "iopub.status.idle": "2023-05-24T07:19:18.227495Z",
     "shell.execute_reply": "2023-05-24T07:19:18.226592Z"
    },
    "papermill": {
     "duration": 1.677182,
     "end_time": "2023-05-24T07:19:18.227659",
     "exception": false,
     "start_time": "2023-05-24T07:19:16.550477",
     "status": "completed"
    },
    "tags": []
   },
   "outputs": [],
   "source": [
    "import endomill\n",
    "import yaml\n"
   ]
  },
  {
   "cell_type": "code",
   "execution_count": 2,
   "id": "3e805d13",
   "metadata": {
    "execution": {
     "iopub.execute_input": "2023-05-24T07:19:18.304016Z",
     "iopub.status.busy": "2023-05-24T07:19:18.298198Z",
     "iopub.status.idle": "2023-05-24T07:19:18.344729Z",
     "shell.execute_reply": "2023-05-24T07:19:18.343363Z"
    },
    "papermill": {
     "duration": 0.086034,
     "end_time": "2023-05-24T07:19:18.345054",
     "exception": false,
     "start_time": "2023-05-24T07:19:18.259020",
     "status": "completed"
    },
    "tags": []
   },
   "outputs": [],
   "source": [
    "parameter_packs = [\n",
    "    {\n",
    "        \"MILL_FITNESS_ADVANTAGE\": fitness_advantage,\n",
    "        \"MILL_REPLICATE\": replicate,\n",
    "    }\n",
    "    for replicate in range(10)\n",
    "    for fitness_advantage in [0.0, 0.1, 1.0]\n",
    "]\n",
    "\n",
    "for i, pp in enumerate(parameter_packs):\n",
    "    with open(\n",
    "        f\"gene-selection-inference-parameterization-{i}.yaml\", \"w\"\n",
    "    ) as file:\n",
    "        yaml.safe_dump(pp, file)\n",
    "# endomill.instantiate_over(parameter_packs=parameter_packs)\n"
   ]
  },
  {
   "cell_type": "markdown",
   "id": "3aed6bd4",
   "metadata": {
    "papermill": {
     "duration": 0.018286,
     "end_time": "2023-05-24T07:19:18.410715",
     "exception": false,
     "start_time": "2023-05-24T07:19:18.392429",
     "status": "completed"
    },
    "tags": []
   },
   "source": [
    "# Papermill Parameters\n"
   ]
  },
  {
   "cell_type": "code",
   "execution_count": 3,
   "id": "cf72ee4d",
   "metadata": {
    "execution": {
     "iopub.execute_input": "2023-05-24T07:19:18.488626Z",
     "iopub.status.busy": "2023-05-24T07:19:18.487118Z",
     "iopub.status.idle": "2023-05-24T07:19:18.495297Z",
     "shell.execute_reply": "2023-05-24T07:19:18.494687Z"
    },
    "papermill": {
     "duration": 0.056556,
     "end_time": "2023-05-24T07:19:18.495456",
     "exception": false,
     "start_time": "2023-05-24T07:19:18.438900",
     "status": "completed"
    },
    "tags": [
     "parameters"
    ]
   },
   "outputs": [],
   "source": [
    "MILL_FITNESS_ADVANTAGE: float\n",
    "MILL_REPLICATE: int\n"
   ]
  },
  {
   "cell_type": "code",
   "execution_count": 4,
   "id": "d0921ead",
   "metadata": {
    "execution": {
     "iopub.execute_input": "2023-05-24T07:19:18.550012Z",
     "iopub.status.busy": "2023-05-24T07:19:18.549319Z",
     "iopub.status.idle": "2023-05-24T07:19:18.554188Z",
     "shell.execute_reply": "2023-05-24T07:19:18.553491Z"
    },
    "papermill": {
     "duration": 0.02388,
     "end_time": "2023-05-24T07:19:18.554337",
     "exception": false,
     "start_time": "2023-05-24T07:19:18.530457",
     "status": "completed"
    },
    "tags": [
     "injected-parameters"
    ]
   },
   "outputs": [],
   "source": [
    "# Parameters\n",
    "MILL_FITNESS_ADVANTAGE = 0.0\n",
    "MILL_REPLICATE = 4\n"
   ]
  },
  {
   "cell_type": "code",
   "execution_count": 5,
   "id": "d38e4fcb",
   "metadata": {
    "execution": {
     "iopub.execute_input": "2023-05-24T07:19:18.635264Z",
     "iopub.status.busy": "2023-05-24T07:19:18.627313Z",
     "iopub.status.idle": "2023-05-24T07:19:25.198689Z",
     "shell.execute_reply": "2023-05-24T07:19:25.199793Z"
    },
    "papermill": {
     "duration": 6.618182,
     "end_time": "2023-05-24T07:19:25.200046",
     "exception": false,
     "start_time": "2023-05-24T07:19:18.581864",
     "status": "completed"
    },
    "tags": []
   },
   "outputs": [],
   "source": [
    "import copy\n",
    "import random\n",
    "\n",
    "import alifedata_phyloinformatics_convert as apc\n",
    "from deap import algorithms as deap_algorithms\n",
    "from deap import base as deap_base\n",
    "from deap import creator as deap_creator\n",
    "from deap import tools as deap_tools\n",
    "from hstrat import hstrat\n",
    "from keyname import keyname as kn\n",
    "from matplotlib import pyplot as plt\n",
    "import numpy as np\n",
    "import pandas as pd\n",
    "import seaborn as sns\n",
    "from teeplot import teeplot as tp\n",
    "from tqdm import tqdm\n",
    "\n",
    "import pylib\n"
   ]
  },
  {
   "cell_type": "code",
   "execution_count": 6,
   "id": "102ef1d0",
   "metadata": {
    "execution": {
     "iopub.execute_input": "2023-05-24T07:19:25.321197Z",
     "iopub.status.busy": "2023-05-24T07:19:25.320160Z",
     "iopub.status.idle": "2023-05-24T07:19:25.327619Z",
     "shell.execute_reply": "2023-05-24T07:19:25.326759Z"
    },
    "papermill": {
     "duration": 0.06693,
     "end_time": "2023-05-24T07:19:25.327829",
     "exception": false,
     "start_time": "2023-05-24T07:19:25.260899",
     "status": "completed"
    },
    "tags": []
   },
   "outputs": [],
   "source": [
    "random.seed(MILL_REPLICATE)\n"
   ]
  },
  {
   "cell_type": "markdown",
   "id": "d0af8475",
   "metadata": {
    "papermill": {
     "duration": 0.024728,
     "end_time": "2023-05-24T07:19:25.376250",
     "exception": false,
     "start_time": "2023-05-24T07:19:25.351522",
     "status": "completed"
    },
    "tags": []
   },
   "source": [
    "# Parameters\n"
   ]
  },
  {
   "cell_type": "code",
   "execution_count": 7,
   "id": "ff5ed257",
   "metadata": {
    "execution": {
     "iopub.execute_input": "2023-05-24T07:19:25.430417Z",
     "iopub.status.busy": "2023-05-24T07:19:25.429460Z",
     "iopub.status.idle": "2023-05-24T07:19:25.438656Z",
     "shell.execute_reply": "2023-05-24T07:19:25.439416Z"
    },
    "papermill": {
     "duration": 0.03978,
     "end_time": "2023-05-24T07:19:25.439666",
     "exception": false,
     "start_time": "2023-05-24T07:19:25.399886",
     "status": "completed"
    },
    "tags": []
   },
   "outputs": [],
   "source": [
    "HSTRAT_RESOLUTION = 1000\n",
    "HSTRAT_DIFFERENTIA_WIDTH = 64\n",
    "\n",
    "TOURNAMENT_SIZE = 2\n",
    "\n",
    "NGEN = 200\n",
    "\n",
    "POPULATION_SIZE = 400\n"
   ]
  },
  {
   "cell_type": "markdown",
   "id": "272cfbce",
   "metadata": {
    "papermill": {
     "duration": 0.051178,
     "end_time": "2023-05-24T07:19:25.534393",
     "exception": false,
     "start_time": "2023-05-24T07:19:25.483215",
     "status": "completed"
    },
    "tags": []
   },
   "source": [
    "# Setup\n"
   ]
  },
  {
   "cell_type": "code",
   "execution_count": 8,
   "id": "b4f06225",
   "metadata": {
    "execution": {
     "iopub.execute_input": "2023-05-24T07:19:25.652072Z",
     "iopub.status.busy": "2023-05-24T07:19:25.650745Z",
     "iopub.status.idle": "2023-05-24T07:19:25.668900Z",
     "shell.execute_reply": "2023-05-24T07:19:25.667812Z"
    },
    "papermill": {
     "duration": 0.080471,
     "end_time": "2023-05-24T07:19:25.669129",
     "exception": false,
     "start_time": "2023-05-24T07:19:25.588658",
     "status": "completed"
    },
    "tags": []
   },
   "outputs": [],
   "source": [
    "deap_creator.create(\"FitnessMax\", deap_base.Fitness, weights=(1.0,))\n",
    "deap_creator.create(\"Individual\", list, fitness=deap_creator.FitnessMax)\n",
    "\n",
    "toolbox = deap_base.Toolbox()\n",
    "\n",
    "toolbox.register(\n",
    "    \"individual\",\n",
    "    lambda *args, **kwargs: deap_creator.Individual([0.0]),\n",
    "    deap_creator.Individual,\n",
    "    n=1,\n",
    ")\n",
    "toolbox.register(\"population\", deap_tools.initRepeat, list, toolbox.individual)\n",
    "\n",
    "\n",
    "def evalOneMax(individual):\n",
    "    return (individual[0] + random.random(),)\n",
    "\n",
    "\n",
    "toolbox.register(\"evaluate\", evalOneMax)\n",
    "# hack to ensure gene annotation remains associated with gene\n",
    "toolbox.register(\"mate\", lambda x, y: random.choice([(x, y), (y, x)]))\n",
    "toolbox.register(\"mutate\", lambda x: tuple(x))\n",
    "toolbox.register(\"select\", deap_tools.selTournament, tournsize=TOURNAMENT_SIZE)\n",
    "\n",
    "# Decorate the variation operators\n",
    "toolbox.decorate(\"mate\", pylib.deap.hstrat_mate_decorator)\n"
   ]
  },
  {
   "cell_type": "markdown",
   "id": "27267882",
   "metadata": {
    "papermill": {
     "duration": 0.037596,
     "end_time": "2023-05-24T07:19:25.766139",
     "exception": false,
     "start_time": "2023-05-24T07:19:25.728543",
     "status": "completed"
    },
    "tags": []
   },
   "source": [
    "# Evolve\n"
   ]
  },
  {
   "cell_type": "code",
   "execution_count": 9,
   "id": "359f0c3e",
   "metadata": {
    "execution": {
     "iopub.execute_input": "2023-05-24T07:19:25.831671Z",
     "iopub.status.busy": "2023-05-24T07:19:25.830627Z",
     "iopub.status.idle": "2023-05-24T07:36:48.267188Z",
     "shell.execute_reply": "2023-05-24T07:36:48.266173Z"
    },
    "papermill": {
     "duration": 1042.475382,
     "end_time": "2023-05-24T07:36:48.267406",
     "exception": false,
     "start_time": "2023-05-24T07:19:25.792024",
     "status": "completed"
    },
    "tags": []
   },
   "outputs": [
    {
     "name": "stderr",
     "output_type": "stream",
     "text": [
      "\r",
      "  0%|                                                                                                                                                                 | 0/200 [00:00<?, ?it/s]"
     ]
    },
    {
     "name": "stderr",
     "output_type": "stream",
     "text": [
      "\r",
      "  0%|▊                                                                                                                                                        | 1/200 [00:01<04:00,  1.21s/it]"
     ]
    },
    {
     "name": "stderr",
     "output_type": "stream",
     "text": [
      "\r",
      "  1%|█▌                                                                                                                                                       | 2/200 [00:02<04:51,  1.47s/it]"
     ]
    },
    {
     "name": "stderr",
     "output_type": "stream",
     "text": [
      "\r",
      "  2%|██▎                                                                                                                                                      | 3/200 [00:04<04:41,  1.43s/it]"
     ]
    },
    {
     "name": "stderr",
     "output_type": "stream",
     "text": [
      "\r",
      "  2%|███                                                                                                                                                      | 4/200 [00:06<05:22,  1.64s/it]"
     ]
    },
    {
     "name": "stderr",
     "output_type": "stream",
     "text": [
      "\r",
      "  2%|███▊                                                                                                                                                     | 5/200 [00:07<05:15,  1.62s/it]"
     ]
    },
    {
     "name": "stderr",
     "output_type": "stream",
     "text": [
      "\r",
      "  3%|████▌                                                                                                                                                    | 6/200 [00:09<05:09,  1.60s/it]"
     ]
    },
    {
     "name": "stderr",
     "output_type": "stream",
     "text": [
      "\r",
      "  4%|█████▎                                                                                                                                                   | 7/200 [00:10<04:56,  1.54s/it]"
     ]
    },
    {
     "name": "stderr",
     "output_type": "stream",
     "text": [
      "\r",
      "  4%|██████                                                                                                                                                   | 8/200 [00:12<05:07,  1.60s/it]"
     ]
    },
    {
     "name": "stderr",
     "output_type": "stream",
     "text": [
      "\r",
      "  4%|██████▉                                                                                                                                                  | 9/200 [00:14<05:23,  1.69s/it]"
     ]
    },
    {
     "name": "stderr",
     "output_type": "stream",
     "text": [
      "\r",
      "  5%|███████▌                                                                                                                                                | 10/200 [00:16<05:46,  1.83s/it]"
     ]
    },
    {
     "name": "stderr",
     "output_type": "stream",
     "text": [
      "\r",
      "  6%|████████▎                                                                                                                                               | 11/200 [00:18<05:53,  1.87s/it]"
     ]
    },
    {
     "name": "stderr",
     "output_type": "stream",
     "text": [
      "\r",
      "  6%|█████████                                                                                                                                               | 12/200 [00:20<05:48,  1.85s/it]"
     ]
    },
    {
     "name": "stderr",
     "output_type": "stream",
     "text": [
      "\r",
      "  6%|█████████▉                                                                                                                                              | 13/200 [00:22<05:40,  1.82s/it]"
     ]
    },
    {
     "name": "stderr",
     "output_type": "stream",
     "text": [
      "\r",
      "  7%|██████████▋                                                                                                                                             | 14/200 [00:23<05:40,  1.83s/it]"
     ]
    },
    {
     "name": "stderr",
     "output_type": "stream",
     "text": [
      "\r",
      "  8%|███████████▍                                                                                                                                            | 15/200 [00:25<05:49,  1.89s/it]"
     ]
    },
    {
     "name": "stderr",
     "output_type": "stream",
     "text": [
      "\r",
      "  8%|████████████▏                                                                                                                                           | 16/200 [00:27<05:36,  1.83s/it]"
     ]
    },
    {
     "name": "stderr",
     "output_type": "stream",
     "text": [
      "\r",
      "  8%|████████████▉                                                                                                                                           | 17/200 [00:30<06:24,  2.10s/it]"
     ]
    },
    {
     "name": "stderr",
     "output_type": "stream",
     "text": [
      "\r",
      "  9%|█████████████▋                                                                                                                                          | 18/200 [00:32<06:27,  2.13s/it]"
     ]
    },
    {
     "name": "stderr",
     "output_type": "stream",
     "text": [
      "\r",
      " 10%|██████████████▍                                                                                                                                         | 19/200 [00:35<07:09,  2.37s/it]"
     ]
    },
    {
     "name": "stderr",
     "output_type": "stream",
     "text": [
      "\r",
      " 10%|███████████████▏                                                                                                                                        | 20/200 [00:37<06:28,  2.16s/it]"
     ]
    },
    {
     "name": "stderr",
     "output_type": "stream",
     "text": [
      "\r",
      " 10%|███████████████▉                                                                                                                                        | 21/200 [00:39<06:41,  2.25s/it]"
     ]
    },
    {
     "name": "stderr",
     "output_type": "stream",
     "text": [
      "\r",
      " 11%|████████████████▋                                                                                                                                       | 22/200 [00:41<06:46,  2.29s/it]"
     ]
    },
    {
     "name": "stderr",
     "output_type": "stream",
     "text": [
      "\r",
      " 12%|█████████████████▍                                                                                                                                      | 23/200 [00:44<06:53,  2.33s/it]"
     ]
    },
    {
     "name": "stderr",
     "output_type": "stream",
     "text": [
      "\r",
      " 12%|██████████████████▏                                                                                                                                     | 24/200 [00:47<07:07,  2.43s/it]"
     ]
    },
    {
     "name": "stderr",
     "output_type": "stream",
     "text": [
      "\r",
      " 12%|███████████████████                                                                                                                                     | 25/200 [00:49<07:18,  2.50s/it]"
     ]
    },
    {
     "name": "stderr",
     "output_type": "stream",
     "text": [
      "\r",
      " 13%|███████████████████▊                                                                                                                                    | 26/200 [00:51<06:38,  2.29s/it]"
     ]
    },
    {
     "name": "stderr",
     "output_type": "stream",
     "text": [
      "\r",
      " 14%|████████████████████▌                                                                                                                                   | 27/200 [00:53<06:41,  2.32s/it]"
     ]
    },
    {
     "name": "stderr",
     "output_type": "stream",
     "text": [
      "\r",
      " 14%|█████████████████████▎                                                                                                                                  | 28/200 [00:56<06:47,  2.37s/it]"
     ]
    },
    {
     "name": "stderr",
     "output_type": "stream",
     "text": [
      "\r",
      " 14%|██████████████████████                                                                                                                                  | 29/200 [00:58<06:53,  2.42s/it]"
     ]
    },
    {
     "name": "stderr",
     "output_type": "stream",
     "text": [
      "\r",
      " 15%|██████████████████████▊                                                                                                                                 | 30/200 [01:01<06:54,  2.44s/it]"
     ]
    },
    {
     "name": "stderr",
     "output_type": "stream",
     "text": [
      "\r",
      " 16%|███████████████████████▌                                                                                                                                | 31/200 [01:03<06:52,  2.44s/it]"
     ]
    },
    {
     "name": "stderr",
     "output_type": "stream",
     "text": [
      "\r",
      " 16%|████████████████████████▎                                                                                                                               | 32/200 [01:06<06:49,  2.44s/it]"
     ]
    },
    {
     "name": "stderr",
     "output_type": "stream",
     "text": [
      "\r",
      " 16%|█████████████████████████                                                                                                                               | 33/200 [01:08<06:22,  2.29s/it]"
     ]
    },
    {
     "name": "stderr",
     "output_type": "stream",
     "text": [
      "\r",
      " 17%|█████████████████████████▊                                                                                                                              | 34/200 [01:10<06:42,  2.42s/it]"
     ]
    },
    {
     "name": "stderr",
     "output_type": "stream",
     "text": [
      "\r",
      " 18%|██████████████████████████▌                                                                                                                             | 35/200 [01:14<07:13,  2.63s/it]"
     ]
    },
    {
     "name": "stderr",
     "output_type": "stream",
     "text": [
      "\r",
      " 18%|███████████████████████████▎                                                                                                                            | 36/200 [01:17<07:27,  2.73s/it]"
     ]
    },
    {
     "name": "stderr",
     "output_type": "stream",
     "text": [
      "\r",
      " 18%|████████████████████████████                                                                                                                            | 37/200 [01:20<07:58,  2.94s/it]"
     ]
    },
    {
     "name": "stderr",
     "output_type": "stream",
     "text": [
      "\r",
      " 19%|████████████████████████████▉                                                                                                                           | 38/200 [01:23<07:57,  2.95s/it]"
     ]
    },
    {
     "name": "stderr",
     "output_type": "stream",
     "text": [
      "\r",
      " 20%|█████████████████████████████▋                                                                                                                          | 39/200 [01:26<07:47,  2.90s/it]"
     ]
    },
    {
     "name": "stderr",
     "output_type": "stream",
     "text": [
      "\r",
      " 20%|██████████████████████████████▍                                                                                                                         | 40/200 [01:28<07:25,  2.79s/it]"
     ]
    },
    {
     "name": "stderr",
     "output_type": "stream",
     "text": [
      "\r",
      " 20%|███████████████████████████████▏                                                                                                                        | 41/200 [01:31<07:18,  2.76s/it]"
     ]
    },
    {
     "name": "stderr",
     "output_type": "stream",
     "text": [
      "\r",
      " 21%|███████████████████████████████▉                                                                                                                        | 42/200 [01:34<07:19,  2.78s/it]"
     ]
    },
    {
     "name": "stderr",
     "output_type": "stream",
     "text": [
      "\r",
      " 22%|████████████████████████████████▋                                                                                                                       | 43/200 [01:36<07:11,  2.75s/it]"
     ]
    },
    {
     "name": "stderr",
     "output_type": "stream",
     "text": [
      "\r",
      " 22%|█████████████████████████████████▍                                                                                                                      | 44/200 [01:40<07:33,  2.90s/it]"
     ]
    },
    {
     "name": "stderr",
     "output_type": "stream",
     "text": [
      "\r",
      " 22%|██████████████████████████████████▏                                                                                                                     | 45/200 [01:43<07:45,  3.00s/it]"
     ]
    },
    {
     "name": "stderr",
     "output_type": "stream",
     "text": [
      "\r",
      " 23%|██████████████████████████████████▉                                                                                                                     | 46/200 [01:46<07:48,  3.04s/it]"
     ]
    },
    {
     "name": "stderr",
     "output_type": "stream",
     "text": [
      "\r",
      " 24%|███████████████████████████████████▋                                                                                                                    | 47/200 [01:50<08:02,  3.15s/it]"
     ]
    },
    {
     "name": "stderr",
     "output_type": "stream",
     "text": [
      "\r",
      " 24%|████████████████████████████████████▍                                                                                                                   | 48/200 [01:52<07:45,  3.06s/it]"
     ]
    },
    {
     "name": "stderr",
     "output_type": "stream",
     "text": [
      "\r",
      " 24%|█████████████████████████████████████▏                                                                                                                  | 49/200 [01:55<07:44,  3.08s/it]"
     ]
    },
    {
     "name": "stderr",
     "output_type": "stream",
     "text": [
      "\r",
      " 25%|██████████████████████████████████████                                                                                                                  | 50/200 [01:59<07:45,  3.10s/it]"
     ]
    },
    {
     "name": "stderr",
     "output_type": "stream",
     "text": [
      "\r",
      " 26%|██████████████████████████████████████▊                                                                                                                 | 51/200 [02:02<07:53,  3.18s/it]"
     ]
    },
    {
     "name": "stderr",
     "output_type": "stream",
     "text": [
      "\r",
      " 26%|███████████████████████████████████████▌                                                                                                                | 52/200 [02:05<07:29,  3.04s/it]"
     ]
    },
    {
     "name": "stderr",
     "output_type": "stream",
     "text": [
      "\r",
      " 26%|████████████████████████████████████████▎                                                                                                               | 53/200 [02:08<07:38,  3.12s/it]"
     ]
    },
    {
     "name": "stderr",
     "output_type": "stream",
     "text": [
      "\r",
      " 27%|█████████████████████████████████████████                                                                                                               | 54/200 [02:11<07:33,  3.10s/it]"
     ]
    },
    {
     "name": "stderr",
     "output_type": "stream",
     "text": [
      "\r",
      " 28%|█████████████████████████████████████████▊                                                                                                              | 55/200 [02:14<07:26,  3.08s/it]"
     ]
    },
    {
     "name": "stderr",
     "output_type": "stream",
     "text": [
      "\r",
      " 28%|██████████████████████████████████████████▌                                                                                                             | 56/200 [02:17<07:21,  3.07s/it]"
     ]
    },
    {
     "name": "stderr",
     "output_type": "stream",
     "text": [
      "\r",
      " 28%|███████████████████████████████████████████▎                                                                                                            | 57/200 [02:21<07:32,  3.16s/it]"
     ]
    },
    {
     "name": "stderr",
     "output_type": "stream",
     "text": [
      "\r",
      " 29%|████████████████████████████████████████████                                                                                                            | 58/200 [02:24<07:27,  3.15s/it]"
     ]
    },
    {
     "name": "stderr",
     "output_type": "stream",
     "text": [
      "\r",
      " 30%|████████████████████████████████████████████▊                                                                                                           | 59/200 [02:27<07:26,  3.17s/it]"
     ]
    },
    {
     "name": "stderr",
     "output_type": "stream",
     "text": [
      "\r",
      " 30%|█████████████████████████████████████████████▌                                                                                                          | 60/200 [02:30<07:32,  3.23s/it]"
     ]
    },
    {
     "name": "stderr",
     "output_type": "stream",
     "text": [
      "\r",
      " 30%|██████████████████████████████████████████████▎                                                                                                         | 61/200 [02:33<07:25,  3.20s/it]"
     ]
    },
    {
     "name": "stderr",
     "output_type": "stream",
     "text": [
      "\r",
      " 31%|███████████████████████████████████████████████                                                                                                         | 62/200 [02:37<07:35,  3.30s/it]"
     ]
    },
    {
     "name": "stderr",
     "output_type": "stream",
     "text": [
      "\r",
      " 32%|███████████████████████████████████████████████▉                                                                                                        | 63/200 [02:41<07:57,  3.49s/it]"
     ]
    },
    {
     "name": "stderr",
     "output_type": "stream",
     "text": [
      "\r",
      " 32%|████████████████████████████████████████████████▋                                                                                                       | 64/200 [02:44<07:41,  3.40s/it]"
     ]
    },
    {
     "name": "stderr",
     "output_type": "stream",
     "text": [
      "\r",
      " 32%|█████████████████████████████████████████████████▍                                                                                                      | 65/200 [02:49<08:23,  3.73s/it]"
     ]
    },
    {
     "name": "stderr",
     "output_type": "stream",
     "text": [
      "\r",
      " 33%|██████████████████████████████████████████████████▏                                                                                                     | 66/200 [02:53<08:43,  3.91s/it]"
     ]
    },
    {
     "name": "stderr",
     "output_type": "stream",
     "text": [
      "\r",
      " 34%|██████████████████████████████████████████████████▉                                                                                                     | 67/200 [02:56<08:28,  3.83s/it]"
     ]
    },
    {
     "name": "stderr",
     "output_type": "stream",
     "text": [
      "\r",
      " 34%|███████████████████████████████████████████████████▋                                                                                                    | 68/200 [03:00<08:26,  3.84s/it]"
     ]
    },
    {
     "name": "stderr",
     "output_type": "stream",
     "text": [
      "\r",
      " 34%|████████████████████████████████████████████████████▍                                                                                                   | 69/200 [03:04<08:25,  3.86s/it]"
     ]
    },
    {
     "name": "stderr",
     "output_type": "stream",
     "text": [
      "\r",
      " 35%|█████████████████████████████████████████████████████▏                                                                                                  | 70/200 [03:08<08:31,  3.94s/it]"
     ]
    },
    {
     "name": "stderr",
     "output_type": "stream",
     "text": [
      "\r",
      " 36%|█████████████████████████████████████████████████████▉                                                                                                  | 71/200 [03:13<08:37,  4.01s/it]"
     ]
    },
    {
     "name": "stderr",
     "output_type": "stream",
     "text": [
      "\r",
      " 36%|██████████████████████████████████████████████████████▋                                                                                                 | 72/200 [03:17<08:47,  4.12s/it]"
     ]
    },
    {
     "name": "stderr",
     "output_type": "stream",
     "text": [
      "\r",
      " 36%|███████████████████████████████████████████████████████▍                                                                                                | 73/200 [03:21<08:46,  4.14s/it]"
     ]
    },
    {
     "name": "stderr",
     "output_type": "stream",
     "text": [
      "\r",
      " 37%|████████████████████████████████████████████████████████▏                                                                                               | 74/200 [03:26<09:05,  4.33s/it]"
     ]
    },
    {
     "name": "stderr",
     "output_type": "stream",
     "text": [
      "\r",
      " 38%|█████████████████████████████████████████████████████████                                                                                               | 75/200 [03:31<09:17,  4.46s/it]"
     ]
    },
    {
     "name": "stderr",
     "output_type": "stream",
     "text": [
      "\r",
      " 38%|█████████████████████████████████████████████████████████▊                                                                                              | 76/200 [03:35<09:14,  4.47s/it]"
     ]
    },
    {
     "name": "stderr",
     "output_type": "stream",
     "text": [
      "\r",
      " 38%|██████████████████████████████████████████████████████████▌                                                                                             | 77/200 [03:39<09:04,  4.43s/it]"
     ]
    },
    {
     "name": "stderr",
     "output_type": "stream",
     "text": [
      "\r",
      " 39%|███████████████████████████████████████████████████████████▎                                                                                            | 78/200 [03:44<08:57,  4.40s/it]"
     ]
    },
    {
     "name": "stderr",
     "output_type": "stream",
     "text": [
      "\r",
      " 40%|████████████████████████████████████████████████████████████                                                                                            | 79/200 [03:48<08:58,  4.45s/it]"
     ]
    },
    {
     "name": "stderr",
     "output_type": "stream",
     "text": [
      "\r",
      " 40%|████████████████████████████████████████████████████████████▊                                                                                           | 80/200 [03:53<08:57,  4.48s/it]"
     ]
    },
    {
     "name": "stderr",
     "output_type": "stream",
     "text": [
      "\r",
      " 40%|█████████████████████████████████████████████████████████████▌                                                                                          | 81/200 [03:57<08:47,  4.44s/it]"
     ]
    },
    {
     "name": "stderr",
     "output_type": "stream",
     "text": [
      "\r",
      " 41%|██████████████████████████████████████████████████████████████▎                                                                                         | 82/200 [04:02<08:58,  4.56s/it]"
     ]
    },
    {
     "name": "stderr",
     "output_type": "stream",
     "text": [
      "\r",
      " 42%|███████████████████████████████████████████████████████████████                                                                                         | 83/200 [04:07<09:06,  4.67s/it]"
     ]
    },
    {
     "name": "stderr",
     "output_type": "stream",
     "text": [
      "\r",
      " 42%|███████████████████████████████████████████████████████████████▊                                                                                        | 84/200 [04:12<09:00,  4.66s/it]"
     ]
    },
    {
     "name": "stderr",
     "output_type": "stream",
     "text": [
      "\r",
      " 42%|████████████████████████████████████████████████████████████████▌                                                                                       | 85/200 [04:16<09:00,  4.70s/it]"
     ]
    },
    {
     "name": "stderr",
     "output_type": "stream",
     "text": [
      "\r",
      " 43%|█████████████████████████████████████████████████████████████████▎                                                                                      | 86/200 [04:21<09:06,  4.79s/it]"
     ]
    },
    {
     "name": "stderr",
     "output_type": "stream",
     "text": [
      "\r",
      " 44%|██████████████████████████████████████████████████████████████████                                                                                      | 87/200 [04:27<09:16,  4.92s/it]"
     ]
    },
    {
     "name": "stderr",
     "output_type": "stream",
     "text": [
      "\r",
      " 44%|██████████████████████████████████████████████████████████████████▉                                                                                     | 88/200 [04:31<09:01,  4.84s/it]"
     ]
    },
    {
     "name": "stderr",
     "output_type": "stream",
     "text": [
      "\r",
      " 44%|███████████████████████████████████████████████████████████████████▋                                                                                    | 89/200 [04:36<09:06,  4.92s/it]"
     ]
    },
    {
     "name": "stderr",
     "output_type": "stream",
     "text": [
      "\r",
      " 45%|████████████████████████████████████████████████████████████████████▍                                                                                   | 90/200 [04:42<09:05,  4.96s/it]"
     ]
    },
    {
     "name": "stderr",
     "output_type": "stream",
     "text": [
      "\r",
      " 46%|█████████████████████████████████████████████████████████████████████▏                                                                                  | 91/200 [04:46<08:41,  4.79s/it]"
     ]
    },
    {
     "name": "stderr",
     "output_type": "stream",
     "text": [
      "\r",
      " 46%|█████████████████████████████████████████████████████████████████████▉                                                                                  | 92/200 [04:51<08:53,  4.94s/it]"
     ]
    },
    {
     "name": "stderr",
     "output_type": "stream",
     "text": [
      "\r",
      " 46%|██████████████████████████████████████████████████████████████████████▋                                                                                 | 93/200 [04:56<08:38,  4.85s/it]"
     ]
    },
    {
     "name": "stderr",
     "output_type": "stream",
     "text": [
      "\r",
      " 47%|███████████████████████████████████████████████████████████████████████▍                                                                                | 94/200 [05:01<08:41,  4.92s/it]"
     ]
    },
    {
     "name": "stderr",
     "output_type": "stream",
     "text": [
      "\r",
      " 48%|████████████████████████████████████████████████████████████████████████▏                                                                               | 95/200 [05:06<08:26,  4.83s/it]"
     ]
    },
    {
     "name": "stderr",
     "output_type": "stream",
     "text": [
      "\r",
      " 48%|████████████████████████████████████████████████████████████████████████▉                                                                               | 96/200 [05:11<08:28,  4.89s/it]"
     ]
    },
    {
     "name": "stderr",
     "output_type": "stream",
     "text": [
      "\r",
      " 48%|█████████████████████████████████████████████████████████████████████████▋                                                                              | 97/200 [05:15<08:17,  4.83s/it]"
     ]
    },
    {
     "name": "stderr",
     "output_type": "stream",
     "text": [
      "\r",
      " 49%|██████████████████████████████████████████████████████████████████████████▍                                                                             | 98/200 [05:21<08:55,  5.25s/it]"
     ]
    },
    {
     "name": "stderr",
     "output_type": "stream",
     "text": [
      "\r",
      " 50%|███████████████████████████████████████████████████████████████████████████▏                                                                            | 99/200 [05:27<08:51,  5.26s/it]"
     ]
    },
    {
     "name": "stderr",
     "output_type": "stream",
     "text": [
      "\r",
      " 50%|███████████████████████████████████████████████████████████████████████████▌                                                                           | 100/200 [05:31<08:21,  5.02s/it]"
     ]
    },
    {
     "name": "stderr",
     "output_type": "stream",
     "text": [
      "\r",
      " 50%|████████████████████████████████████████████████████████████████████████████▎                                                                          | 101/200 [05:36<08:12,  4.97s/it]"
     ]
    },
    {
     "name": "stderr",
     "output_type": "stream",
     "text": [
      "\r",
      " 51%|█████████████████████████████████████████████████████████████████████████████                                                                          | 102/200 [05:41<08:10,  5.00s/it]"
     ]
    },
    {
     "name": "stderr",
     "output_type": "stream",
     "text": [
      "\r",
      " 52%|█████████████████████████████████████████████████████████████████████████████▊                                                                         | 103/200 [05:46<08:10,  5.06s/it]"
     ]
    },
    {
     "name": "stderr",
     "output_type": "stream",
     "text": [
      "\r",
      " 52%|██████████████████████████████████████████████████████████████████████████████▌                                                                        | 104/200 [05:52<08:17,  5.19s/it]"
     ]
    },
    {
     "name": "stderr",
     "output_type": "stream",
     "text": [
      "\r",
      " 52%|███████████████████████████████████████████████████████████████████████████████▎                                                                       | 105/200 [05:57<08:18,  5.25s/it]"
     ]
    },
    {
     "name": "stderr",
     "output_type": "stream",
     "text": [
      "\r",
      " 53%|████████████████████████████████████████████████████████████████████████████████                                                                       | 106/200 [06:02<08:05,  5.16s/it]"
     ]
    },
    {
     "name": "stderr",
     "output_type": "stream",
     "text": [
      "\r",
      " 54%|████████████████████████████████████████████████████████████████████████████████▊                                                                      | 107/200 [06:08<08:12,  5.29s/it]"
     ]
    },
    {
     "name": "stderr",
     "output_type": "stream",
     "text": [
      "\r",
      " 54%|█████████████████████████████████████████████████████████████████████████████████▌                                                                     | 108/200 [06:13<08:03,  5.25s/it]"
     ]
    },
    {
     "name": "stderr",
     "output_type": "stream",
     "text": [
      "\r",
      " 55%|██████████████████████████████████████████████████████████████████████████████████▎                                                                    | 109/200 [06:20<08:50,  5.83s/it]"
     ]
    },
    {
     "name": "stderr",
     "output_type": "stream",
     "text": [
      "\r",
      " 55%|███████████████████████████████████████████████████████████████████████████████████                                                                    | 110/200 [06:25<08:26,  5.63s/it]"
     ]
    },
    {
     "name": "stderr",
     "output_type": "stream",
     "text": [
      "\r",
      " 56%|███████████████████████████████████████████████████████████████████████████████████▊                                                                   | 111/200 [06:30<08:07,  5.48s/it]"
     ]
    },
    {
     "name": "stderr",
     "output_type": "stream",
     "text": [
      "\r",
      " 56%|████████████████████████████████████████████████████████████████████████████████████▌                                                                  | 112/200 [06:35<07:42,  5.26s/it]"
     ]
    },
    {
     "name": "stderr",
     "output_type": "stream",
     "text": [
      "\r",
      " 56%|█████████████████████████████████████████████████████████████████████████████████████▎                                                                 | 113/200 [06:40<07:39,  5.28s/it]"
     ]
    },
    {
     "name": "stderr",
     "output_type": "stream",
     "text": [
      "\r",
      " 57%|██████████████████████████████████████████████████████████████████████████████████████                                                                 | 114/200 [06:46<07:35,  5.29s/it]"
     ]
    },
    {
     "name": "stderr",
     "output_type": "stream",
     "text": [
      "\r",
      " 57%|██████████████████████████████████████████████████████████████████████████████████████▊                                                                | 115/200 [06:51<07:37,  5.38s/it]"
     ]
    },
    {
     "name": "stderr",
     "output_type": "stream",
     "text": [
      "\r",
      " 58%|███████████████████████████████████████████████████████████████████████████████████████▌                                                               | 116/200 [06:57<07:48,  5.58s/it]"
     ]
    },
    {
     "name": "stderr",
     "output_type": "stream",
     "text": [
      "\r",
      " 58%|████████████████████████████████████████████████████████████████████████████████████████▎                                                              | 117/200 [07:03<07:49,  5.66s/it]"
     ]
    },
    {
     "name": "stderr",
     "output_type": "stream",
     "text": [
      "\r",
      " 59%|█████████████████████████████████████████████████████████████████████████████████████████                                                              | 118/200 [07:10<08:15,  6.04s/it]"
     ]
    },
    {
     "name": "stderr",
     "output_type": "stream",
     "text": [
      "\r",
      " 60%|█████████████████████████████████████████████████████████████████████████████████████████▊                                                             | 119/200 [07:16<07:53,  5.84s/it]"
     ]
    },
    {
     "name": "stderr",
     "output_type": "stream",
     "text": [
      "\r",
      " 60%|██████████████████████████████████████████████████████████████████████████████████████████▌                                                            | 120/200 [07:21<07:48,  5.85s/it]"
     ]
    },
    {
     "name": "stderr",
     "output_type": "stream",
     "text": [
      "\r",
      " 60%|███████████████████████████████████████████████████████████████████████████████████████████▎                                                           | 121/200 [07:28<07:47,  5.92s/it]"
     ]
    },
    {
     "name": "stderr",
     "output_type": "stream",
     "text": [
      "\r",
      " 61%|████████████████████████████████████████████████████████████████████████████████████████████                                                           | 122/200 [07:33<07:35,  5.84s/it]"
     ]
    },
    {
     "name": "stderr",
     "output_type": "stream",
     "text": [
      "\r",
      " 62%|████████████████████████████████████████████████████████████████████████████████████████████▊                                                          | 123/200 [07:39<07:38,  5.96s/it]"
     ]
    },
    {
     "name": "stderr",
     "output_type": "stream",
     "text": [
      "\r",
      " 62%|█████████████████████████████████████████████████████████████████████████████████████████████▌                                                         | 124/200 [07:45<07:12,  5.70s/it]"
     ]
    },
    {
     "name": "stderr",
     "output_type": "stream",
     "text": [
      "\r",
      " 62%|██████████████████████████████████████████████████████████████████████████████████████████████▍                                                        | 125/200 [07:51<07:32,  6.03s/it]"
     ]
    },
    {
     "name": "stderr",
     "output_type": "stream",
     "text": [
      "\r",
      " 63%|███████████████████████████████████████████████████████████████████████████████████████████████▏                                                       | 126/200 [07:58<07:31,  6.10s/it]"
     ]
    },
    {
     "name": "stderr",
     "output_type": "stream",
     "text": [
      "\r",
      " 64%|███████████████████████████████████████████████████████████████████████████████████████████████▉                                                       | 127/200 [08:05<07:50,  6.45s/it]"
     ]
    },
    {
     "name": "stderr",
     "output_type": "stream",
     "text": [
      "\r",
      " 64%|████████████████████████████████████████████████████████████████████████████████████████████████▋                                                      | 128/200 [08:10<07:26,  6.20s/it]"
     ]
    },
    {
     "name": "stderr",
     "output_type": "stream",
     "text": [
      "\r",
      " 64%|█████████████████████████████████████████████████████████████████████████████████████████████████▍                                                     | 129/200 [08:17<07:16,  6.15s/it]"
     ]
    },
    {
     "name": "stderr",
     "output_type": "stream",
     "text": [
      "\r",
      " 65%|██████████████████████████████████████████████████████████████████████████████████████████████████▏                                                    | 130/200 [08:23<07:11,  6.16s/it]"
     ]
    },
    {
     "name": "stderr",
     "output_type": "stream",
     "text": [
      "\r",
      " 66%|██████████████████████████████████████████████████████████████████████████████████████████████████▉                                                    | 131/200 [08:29<07:07,  6.19s/it]"
     ]
    },
    {
     "name": "stderr",
     "output_type": "stream",
     "text": [
      "\r",
      " 66%|███████████████████████████████████████████████████████████████████████████████████████████████████▋                                                   | 132/200 [08:36<07:22,  6.51s/it]"
     ]
    },
    {
     "name": "stderr",
     "output_type": "stream",
     "text": [
      "\r",
      " 66%|████████████████████████████████████████████████████████████████████████████████████████████████████▍                                                  | 133/200 [08:42<07:03,  6.32s/it]"
     ]
    },
    {
     "name": "stderr",
     "output_type": "stream",
     "text": [
      "\r",
      " 67%|█████████████████████████████████████████████████████████████████████████████████████████████████████▏                                                 | 134/200 [08:47<06:37,  6.03s/it]"
     ]
    },
    {
     "name": "stderr",
     "output_type": "stream",
     "text": [
      "\r",
      " 68%|█████████████████████████████████████████████████████████████████████████████████████████████████████▉                                                 | 135/200 [08:54<06:37,  6.11s/it]"
     ]
    },
    {
     "name": "stderr",
     "output_type": "stream",
     "text": [
      "\r",
      " 68%|██████████████████████████████████████████████████████████████████████████████████████████████████████▋                                                | 136/200 [08:59<06:20,  5.95s/it]"
     ]
    },
    {
     "name": "stderr",
     "output_type": "stream",
     "text": [
      "\r",
      " 68%|███████████████████████████████████████████████████████████████████████████████████████████████████████▍                                               | 137/200 [09:05<06:13,  5.93s/it]"
     ]
    },
    {
     "name": "stderr",
     "output_type": "stream",
     "text": [
      "\r",
      " 69%|████████████████████████████████████████████████████████████████████████████████████████████████████████▏                                              | 138/200 [09:12<06:29,  6.28s/it]"
     ]
    },
    {
     "name": "stderr",
     "output_type": "stream",
     "text": [
      "\r",
      " 70%|████████████████████████████████████████████████████████████████████████████████████████████████████████▉                                              | 139/200 [09:18<06:18,  6.20s/it]"
     ]
    },
    {
     "name": "stderr",
     "output_type": "stream",
     "text": [
      "\r",
      " 70%|█████████████████████████████████████████████████████████████████████████████████████████████████████████▋                                             | 140/200 [09:25<06:21,  6.35s/it]"
     ]
    },
    {
     "name": "stderr",
     "output_type": "stream",
     "text": [
      "\r",
      " 70%|██████████████████████████████████████████████████████████████████████████████████████████████████████████▍                                            | 141/200 [09:31<06:14,  6.35s/it]"
     ]
    },
    {
     "name": "stderr",
     "output_type": "stream",
     "text": [
      "\r",
      " 71%|███████████████████████████████████████████████████████████████████████████████████████████████████████████▏                                           | 142/200 [09:37<05:59,  6.20s/it]"
     ]
    },
    {
     "name": "stderr",
     "output_type": "stream",
     "text": [
      "\r",
      " 72%|███████████████████████████████████████████████████████████████████████████████████████████████████████████▉                                           | 143/200 [09:46<06:36,  6.96s/it]"
     ]
    },
    {
     "name": "stderr",
     "output_type": "stream",
     "text": [
      "\r",
      " 72%|████████████████████████████████████████████████████████████████████████████████████████████████████████████▋                                          | 144/200 [09:54<06:47,  7.28s/it]"
     ]
    },
    {
     "name": "stderr",
     "output_type": "stream",
     "text": [
      "\r",
      " 72%|█████████████████████████████████████████████████████████████████████████████████████████████████████████████▍                                         | 145/200 [10:02<06:49,  7.44s/it]"
     ]
    },
    {
     "name": "stderr",
     "output_type": "stream",
     "text": [
      "\r",
      " 73%|██████████████████████████████████████████████████████████████████████████████████████████████████████████████▏                                        | 146/200 [10:09<06:42,  7.46s/it]"
     ]
    },
    {
     "name": "stderr",
     "output_type": "stream",
     "text": [
      "\r",
      " 74%|██████████████████████████████████████████████████████████████████████████████████████████████████████████████▉                                        | 147/200 [10:18<06:55,  7.85s/it]"
     ]
    },
    {
     "name": "stderr",
     "output_type": "stream",
     "text": [
      "\r",
      " 74%|███████████████████████████████████████████████████████████████████████████████████████████████████████████████▋                                       | 148/200 [10:26<06:41,  7.73s/it]"
     ]
    },
    {
     "name": "stderr",
     "output_type": "stream",
     "text": [
      "\r",
      " 74%|████████████████████████████████████████████████████████████████████████████████████████████████████████████████▍                                      | 149/200 [10:33<06:30,  7.65s/it]"
     ]
    },
    {
     "name": "stderr",
     "output_type": "stream",
     "text": [
      "\r",
      " 75%|█████████████████████████████████████████████████████████████████████████████████████████████████████████████████▎                                     | 150/200 [10:40<06:18,  7.58s/it]"
     ]
    },
    {
     "name": "stderr",
     "output_type": "stream",
     "text": [
      "\r",
      " 76%|██████████████████████████████████████████████████████████████████████████████████████████████████████████████████                                     | 151/200 [10:47<06:00,  7.35s/it]"
     ]
    },
    {
     "name": "stderr",
     "output_type": "stream",
     "text": [
      "\r",
      " 76%|██████████████████████████████████████████████████████████████████████████████████████████████████████████████████▊                                    | 152/200 [10:55<06:03,  7.57s/it]"
     ]
    },
    {
     "name": "stderr",
     "output_type": "stream",
     "text": [
      "\r",
      " 76%|███████████████████████████████████████████████████████████████████████████████████████████████████████████████████▌                                   | 153/200 [11:02<05:50,  7.46s/it]"
     ]
    },
    {
     "name": "stderr",
     "output_type": "stream",
     "text": [
      "\r",
      " 77%|████████████████████████████████████████████████████████████████████████████████████████████████████████████████████▎                                  | 154/200 [11:10<05:41,  7.43s/it]"
     ]
    },
    {
     "name": "stderr",
     "output_type": "stream",
     "text": [
      "\r",
      " 78%|█████████████████████████████████████████████████████████████████████████████████████████████████████████████████████                                  | 155/200 [11:17<05:28,  7.29s/it]"
     ]
    },
    {
     "name": "stderr",
     "output_type": "stream",
     "text": [
      "\r",
      " 78%|█████████████████████████████████████████████████████████████████████████████████████████████████████████████████████▊                                 | 156/200 [11:25<05:33,  7.58s/it]"
     ]
    },
    {
     "name": "stderr",
     "output_type": "stream",
     "text": [
      "\r",
      " 78%|██████████████████████████████████████████████████████████████████████████████████████████████████████████████████████▌                                | 157/200 [11:33<05:30,  7.68s/it]"
     ]
    },
    {
     "name": "stderr",
     "output_type": "stream",
     "text": [
      "\r",
      " 79%|███████████████████████████████████████████████████████████████████████████████████████████████████████████████████████▎                               | 158/200 [11:40<05:13,  7.48s/it]"
     ]
    },
    {
     "name": "stderr",
     "output_type": "stream",
     "text": [
      "\r",
      " 80%|████████████████████████████████████████████████████████████████████████████████████████████████████████████████████████                               | 159/200 [11:46<04:54,  7.19s/it]"
     ]
    },
    {
     "name": "stderr",
     "output_type": "stream",
     "text": [
      "\r",
      " 80%|████████████████████████████████████████████████████████████████████████████████████████████████████████████████████████▊                              | 160/200 [11:54<04:53,  7.34s/it]"
     ]
    },
    {
     "name": "stderr",
     "output_type": "stream",
     "text": [
      "\r",
      " 80%|█████████████████████████████████████████████████████████████████████████████████████████████████████████████████████████▌                             | 161/200 [12:01<04:36,  7.08s/it]"
     ]
    },
    {
     "name": "stderr",
     "output_type": "stream",
     "text": [
      "\r",
      " 81%|██████████████████████████████████████████████████████████████████████████████████████████████████████████████████████████▎                            | 162/200 [12:10<04:54,  7.76s/it]"
     ]
    },
    {
     "name": "stderr",
     "output_type": "stream",
     "text": [
      "\r",
      " 82%|███████████████████████████████████████████████████████████████████████████████████████████████████████████████████████████                            | 163/200 [12:18<04:49,  7.83s/it]"
     ]
    },
    {
     "name": "stderr",
     "output_type": "stream",
     "text": [
      "\r",
      " 82%|███████████████████████████████████████████████████████████████████████████████████████████████████████████████████████████▊                           | 164/200 [12:25<04:37,  7.71s/it]"
     ]
    },
    {
     "name": "stderr",
     "output_type": "stream",
     "text": [
      "\r",
      " 82%|████████████████████████████████████████████████████████████████████████████████████████████████████████████████████████████▌                          | 165/200 [12:33<04:29,  7.69s/it]"
     ]
    },
    {
     "name": "stderr",
     "output_type": "stream",
     "text": [
      "\r",
      " 83%|█████████████████████████████████████████████████████████████████████████████████████████████████████████████████████████████▎                         | 166/200 [12:40<04:16,  7.54s/it]"
     ]
    },
    {
     "name": "stderr",
     "output_type": "stream",
     "text": [
      "\r",
      " 84%|██████████████████████████████████████████████████████████████████████████████████████████████████████████████████████████████                         | 167/200 [12:47<04:01,  7.31s/it]"
     ]
    },
    {
     "name": "stderr",
     "output_type": "stream",
     "text": [
      "\r",
      " 84%|██████████████████████████████████████████████████████████████████████████████████████████████████████████████████████████████▊                        | 168/200 [12:55<04:02,  7.56s/it]"
     ]
    },
    {
     "name": "stderr",
     "output_type": "stream",
     "text": [
      "\r",
      " 84%|███████████████████████████████████████████████████████████████████████████████████████████████████████████████████████████████▌                       | 169/200 [13:02<03:48,  7.38s/it]"
     ]
    },
    {
     "name": "stderr",
     "output_type": "stream",
     "text": [
      "\r",
      " 85%|████████████████████████████████████████████████████████████████████████████████████████████████████████████████████████████████▎                      | 170/200 [13:09<03:39,  7.32s/it]"
     ]
    },
    {
     "name": "stderr",
     "output_type": "stream",
     "text": [
      "\r",
      " 86%|█████████████████████████████████████████████████████████████████████████████████████████████████████████████████████████████████                      | 171/200 [13:17<03:34,  7.38s/it]"
     ]
    },
    {
     "name": "stderr",
     "output_type": "stream",
     "text": [
      "\r",
      " 86%|█████████████████████████████████████████████████████████████████████████████████████████████████████████████████████████████████▊                     | 172/200 [13:24<03:24,  7.31s/it]"
     ]
    },
    {
     "name": "stderr",
     "output_type": "stream",
     "text": [
      "\r",
      " 86%|██████████████████████████████████████████████████████████████████████████████████████████████████████████████████████████████████▌                    | 173/200 [13:31<03:16,  7.29s/it]"
     ]
    },
    {
     "name": "stderr",
     "output_type": "stream",
     "text": [
      "\r",
      " 87%|███████████████████████████████████████████████████████████████████████████████████████████████████████████████████████████████████▎                   | 174/200 [13:40<03:17,  7.61s/it]"
     ]
    },
    {
     "name": "stderr",
     "output_type": "stream",
     "text": [
      "\r",
      " 88%|████████████████████████████████████████████████████████████████████████████████████████████████████████████████████████████████████▏                  | 175/200 [13:47<03:07,  7.52s/it]"
     ]
    },
    {
     "name": "stderr",
     "output_type": "stream",
     "text": [
      "\r",
      " 88%|████████████████████████████████████████████████████████████████████████████████████████████████████████████████████████████████████▉                  | 176/200 [13:55<03:01,  7.58s/it]"
     ]
    },
    {
     "name": "stderr",
     "output_type": "stream",
     "text": [
      "\r",
      " 88%|█████████████████████████████████████████████████████████████████████████████████████████████████████████████████████████████████████▋                 | 177/200 [14:02<02:52,  7.49s/it]"
     ]
    },
    {
     "name": "stderr",
     "output_type": "stream",
     "text": [
      "\r",
      " 89%|██████████████████████████████████████████████████████████████████████████████████████████████████████████████████████████████████████▍                | 178/200 [14:09<02:43,  7.45s/it]"
     ]
    },
    {
     "name": "stderr",
     "output_type": "stream",
     "text": [
      "\r",
      " 90%|███████████████████████████████████████████████████████████████████████████████████████████████████████████████████████████████████████▏               | 179/200 [14:17<02:38,  7.57s/it]"
     ]
    },
    {
     "name": "stderr",
     "output_type": "stream",
     "text": [
      "\r",
      " 90%|███████████████████████████████████████████████████████████████████████████████████████████████████████████████████████████████████████▉               | 180/200 [14:25<02:30,  7.54s/it]"
     ]
    },
    {
     "name": "stderr",
     "output_type": "stream",
     "text": [
      "\r",
      " 90%|████████████████████████████████████████████████████████████████████████████████████████████████████████████████████████████████████████▋              | 181/200 [14:33<02:27,  7.74s/it]"
     ]
    },
    {
     "name": "stderr",
     "output_type": "stream",
     "text": [
      "\r",
      " 91%|█████████████████████████████████████████████████████████████████████████████████████████████████████████████████████████████████████████▍             | 182/200 [14:42<02:26,  8.13s/it]"
     ]
    },
    {
     "name": "stderr",
     "output_type": "stream",
     "text": [
      "\r",
      " 92%|██████████████████████████████████████████████████████████████████████████████████████████████████████████████████████████████████████████▏            | 183/200 [14:50<02:17,  8.09s/it]"
     ]
    },
    {
     "name": "stderr",
     "output_type": "stream",
     "text": [
      "\r",
      " 92%|██████████████████████████████████████████████████████████████████████████████████████████████████████████████████████████████████████████▉            | 184/200 [14:57<02:07,  7.97s/it]"
     ]
    },
    {
     "name": "stderr",
     "output_type": "stream",
     "text": [
      "\r",
      " 92%|███████████████████████████████████████████████████████████████████████████████████████████████████████████████████████████████████████████▋           | 185/200 [15:06<02:01,  8.08s/it]"
     ]
    },
    {
     "name": "stderr",
     "output_type": "stream",
     "text": [
      "\r",
      " 93%|████████████████████████████████████████████████████████████████████████████████████████████████████████████████████████████████████████████▍          | 186/200 [15:14<01:53,  8.11s/it]"
     ]
    },
    {
     "name": "stderr",
     "output_type": "stream",
     "text": [
      "\r",
      " 94%|█████████████████████████████████████████████████████████████████████████████████████████████████████████████████████████████████████████████▏         | 187/200 [15:24<01:51,  8.60s/it]"
     ]
    },
    {
     "name": "stderr",
     "output_type": "stream",
     "text": [
      "\r",
      " 94%|█████████████████████████████████████████████████████████████████████████████████████████████████████████████████████████████████████████████▉         | 188/200 [15:34<01:49,  9.10s/it]"
     ]
    },
    {
     "name": "stderr",
     "output_type": "stream",
     "text": [
      "\r",
      " 94%|██████████████████████████████████████████████████████████████████████████████████████████████████████████████████████████████████████████████▋        | 189/200 [15:42<01:35,  8.69s/it]"
     ]
    },
    {
     "name": "stderr",
     "output_type": "stream",
     "text": [
      "\r",
      " 95%|███████████████████████████████████████████████████████████████████████████████████████████████████████████████████████████████████████████████▍       | 190/200 [15:50<01:26,  8.66s/it]"
     ]
    },
    {
     "name": "stderr",
     "output_type": "stream",
     "text": [
      "\r",
      " 96%|████████████████████████████████████████████████████████████████████████████████████████████████████████████████████████████████████████████████▏      | 191/200 [15:59<01:16,  8.55s/it]"
     ]
    },
    {
     "name": "stderr",
     "output_type": "stream",
     "text": [
      "\r",
      " 96%|████████████████████████████████████████████████████████████████████████████████████████████████████████████████████████████████████████████████▉      | 192/200 [16:07<01:07,  8.44s/it]"
     ]
    },
    {
     "name": "stderr",
     "output_type": "stream",
     "text": [
      "\r",
      " 96%|█████████████████████████████████████████████████████████████████████████████████████████████████████████████████████████████████████████████████▋     | 193/200 [16:18<01:04,  9.19s/it]"
     ]
    },
    {
     "name": "stderr",
     "output_type": "stream",
     "text": [
      "\r",
      " 97%|██████████████████████████████████████████████████████████████████████████████████████████████████████████████████████████████████████████████████▍    | 194/200 [16:27<00:55,  9.23s/it]"
     ]
    },
    {
     "name": "stderr",
     "output_type": "stream",
     "text": [
      "\r",
      " 98%|███████████████████████████████████████████████████████████████████████████████████████████████████████████████████████████████████████████████████▏   | 195/200 [16:36<00:46,  9.22s/it]"
     ]
    },
    {
     "name": "stderr",
     "output_type": "stream",
     "text": [
      "\r",
      " 98%|███████████████████████████████████████████████████████████████████████████████████████████████████████████████████████████████████████████████████▉   | 196/200 [16:45<00:36,  9.01s/it]"
     ]
    },
    {
     "name": "stderr",
     "output_type": "stream",
     "text": [
      "\r",
      " 98%|████████████████████████████████████████████████████████████████████████████████████████████████████████████████████████████████████████████████████▋  | 197/200 [16:54<00:27,  9.10s/it]"
     ]
    },
    {
     "name": "stderr",
     "output_type": "stream",
     "text": [
      "\r",
      " 99%|█████████████████████████████████████████████████████████████████████████████████████████████████████████████████████████████████████████████████████▍ | 198/200 [17:04<00:18,  9.45s/it]"
     ]
    },
    {
     "name": "stderr",
     "output_type": "stream",
     "text": [
      "\r",
      "100%|██████████████████████████████████████████████████████████████████████████████████████████████████████████████████████████████████████████████████████▏| 199/200 [17:13<00:09,  9.08s/it]"
     ]
    },
    {
     "name": "stderr",
     "output_type": "stream",
     "text": [
      "\r",
      "100%|███████████████████████████████████████████████████████████████████████████████████████████████████████████████████████████████████████████████████████| 200/200 [17:22<00:00,  9.11s/it]"
     ]
    },
    {
     "name": "stderr",
     "output_type": "stream",
     "text": [
      "\r",
      "100%|███████████████████████████████████████████████████████████████████████████████████████████████████████████████████████████████████████████████████████| 200/200 [17:22<00:00,  5.21s/it]"
     ]
    },
    {
     "name": "stderr",
     "output_type": "stream",
     "text": [
      "\n"
     ]
    }
   ],
   "source": [
    "# Create the population and populate the history\n",
    "population = toolbox.population(n=POPULATION_SIZE)\n",
    "\n",
    "species_ancestor = hstrat.HereditaryStratigraphicColumn(\n",
    "    stratum_retention_policy=hstrat.nominal_resolution_algo.Policy(),\n",
    "    stratum_differentia_bit_width=HSTRAT_DIFFERENTIA_WIDTH,\n",
    ")\n",
    "for member in population:\n",
    "    member.species_annotation = species_ancestor.CloneDescendant()\n",
    "    member.gene_annotation = hstrat.HereditaryStratigraphicColumn(\n",
    "        stratum_retention_policy=hstrat.perfect_resolution_algo.Policy(),\n",
    "        stratum_differentia_bit_width=HSTRAT_DIFFERENTIA_WIDTH,\n",
    "        initial_stratum_annotation=0,\n",
    "    ).CloneDescendant(0)\n",
    "\n",
    "\n",
    "# Do the evolution, the decorators will take care of updating the\n",
    "# history\n",
    "prevalences = []\n",
    "for gen in tqdm(range(NGEN)):\n",
    "    prevalences.append(sum(1 for x in population if x[0]))\n",
    "\n",
    "    offspring = deap_algorithms.varAnd(\n",
    "        population, toolbox, cxpb=1.0, mutpb=0.0\n",
    "    )\n",
    "    fits = toolbox.map(toolbox.evaluate, offspring)\n",
    "    for fit, ind in zip(fits, offspring):\n",
    "        ind.fitness.values = fit\n",
    "    population = toolbox.select(offspring, k=len(population))\n",
    "    population = [copy.deepcopy(ind) for ind in population]\n",
    "\n",
    "    if gen >= NGEN // 4:\n",
    "        if not any(x[0] for x in population):\n",
    "            population[0][0] = MILL_FITNESS_ADVANTAGE + np.nextafter(0, 1)\n",
    "\n"
   ]
  },
  {
   "cell_type": "markdown",
   "id": "56db996e",
   "metadata": {
    "papermill": {
     "duration": 0.227974,
     "end_time": "2023-05-24T07:36:48.774124",
     "exception": false,
     "start_time": "2023-05-24T07:36:48.546150",
     "status": "completed"
    },
    "tags": []
   },
   "source": [
    "# Visualization\n"
   ]
  },
  {
   "cell_type": "code",
   "execution_count": 10,
   "id": "d066c9dd",
   "metadata": {
    "execution": {
     "iopub.execute_input": "2023-05-24T07:36:49.230986Z",
     "iopub.status.busy": "2023-05-24T07:36:49.229746Z",
     "iopub.status.idle": "2023-05-24T07:36:51.590239Z",
     "shell.execute_reply": "2023-05-24T07:36:51.589031Z"
    },
    "papermill": {
     "duration": 2.63588,
     "end_time": "2023-05-24T07:36:51.590425",
     "exception": false,
     "start_time": "2023-05-24T07:36:48.954545",
     "status": "completed"
    },
    "tags": []
   },
   "outputs": [
    {
     "name": "stdout",
     "output_type": "stream",
     "text": [
      "teeplots/./fitness-advantage=0.0+notebook=gene-selection-inference+replicate=4+viz=plot-sweep-and-annotations+ext=.pdf\n"
     ]
    },
    {
     "name": "stdout",
     "output_type": "stream",
     "text": [
      "teeplots/./fitness-advantage=0.0+notebook=gene-selection-inference+replicate=4+viz=plot-sweep-and-annotations+ext=.png\n"
     ]
    },
    {
     "data": {
      "image/png": "[encoded data removed]",
      "text/plain": [
       "<Figure size 432x288 with 2 Axes>"
      ]
     },
     "metadata": {
      "needs_background": "light"
     },
     "output_type": "display_data"
    }
   ],
   "source": [
    "annotations = [\n",
    "    s.GetAnnotation().bit_count()\n",
    "    for s in population[0].gene_annotation.IterRetainedStrata()\n",
    "]\n",
    "\n",
    "\n",
    "def plot_sweep_and_annotations():\n",
    "    # Create a figure and a single subplot\n",
    "    fig, ax1 = plt.subplots()\n",
    "\n",
    "    # Make the first plot on ax1\n",
    "    sns.lineplot(data=annotations, color=\"b\", ax=ax1)\n",
    "    ax1.set_ylabel(\"Stratum Annotation Bit Count\", color=\"b\")\n",
    "    ax1.tick_params(\"y\", colors=\"b\")\n",
    "\n",
    "    # Create a second axes that shares the same x-axis\n",
    "    ax2 = ax1.twinx()\n",
    "\n",
    "    # Make the second plot on ax2\n",
    "    sns.lineplot(data=prevalences, color=\"r\", ax=ax2)\n",
    "    ax2.set_ylabel(\"Gene Prevalence\", color=\"r\")\n",
    "    ax2.tick_params(\"y\", colors=\"r\")\n",
    "\n",
    "    ax1.set_xlabel(\"Generation\")\n",
    "\n",
    "    fig.tight_layout()  # otherwise the right y-label is slightly clipped\n",
    "\n",
    "\n",
    "tp.tee(\n",
    "    plot_sweep_and_annotations,\n",
    "    teeplot_outattrs={\n",
    "        \"notebook\": \"gene-selection-inference\",\n",
    "        \"replicate\": str(MILL_REPLICATE),\n",
    "        \"fitness-advantage\": str(MILL_FITNESS_ADVANTAGE),\n",
    "    },\n",
    ")\n"
   ]
  },
  {
   "cell_type": "code",
   "execution_count": 11,
   "id": "51762c5b",
   "metadata": {
    "execution": {
     "iopub.execute_input": "2023-05-24T07:36:51.953468Z",
     "iopub.status.busy": "2023-05-24T07:36:51.945107Z",
     "iopub.status.idle": "2023-05-24T07:36:51.974835Z",
     "shell.execute_reply": "2023-05-24T07:36:51.973836Z"
    },
    "papermill": {
     "duration": 0.210074,
     "end_time": "2023-05-24T07:36:51.975041",
     "exception": false,
     "start_time": "2023-05-24T07:36:51.764967",
     "status": "completed"
    },
    "tags": []
   },
   "outputs": [],
   "source": [
    "records = [\n",
    "    {\n",
    "        \"notebook\": \"gene-selection-inference\",\n",
    "        \"replicate\": MILL_REPLICATE,\n",
    "        \"fitness-advantage\": MILL_FITNESS_ADVANTAGE,\n",
    "        \"generation\": generation,\n",
    "        \"prevalence\": prevalence,\n",
    "        \"annotation\": annotation,\n",
    "    }\n",
    "    for generation, (prevalence, annotation) in enumerate(\n",
    "        zip(prevalences, annotations)\n",
    "    )\n",
    "]\n",
    "outdf = pd.DataFrame.from_records(records)\n",
    "outdf.to_csv(\n",
    "    kn.pack(\n",
    "        {\n",
    "            \"a\": \"prevalence-annotation-by-generation\",\n",
    "            \"notebook\": \"gene-selection-inference\",\n",
    "            \"replicate\": str(MILL_REPLICATE),\n",
    "            \"fitness-advantage\": str(MILL_FITNESS_ADVANTAGE),\n",
    "            \"ext\": \".csv\",\n",
    "        }\n",
    "    )\n",
    ")\n"
   ]
  }
 ],
 "metadata": {
  "kernelspec": {
   "display_name": "Python 3",
   "language": "python",
   "name": "python3"
  },
  "language_info": {
   "codemirror_mode": {
    "name": "ipython",
    "version": 3
   },
   "file_extension": ".py",
   "mimetype": "text/x-python",
   "name": "python",
   "nbconvert_exporter": "python",
   "pygments_lexer": "ipython3",
   "version": "3.10.6"
  },
  "papermill": {
   "default_parameters": {},
   "duration": 1059.705,
   "end_time": "2023-05-24T07:36:54.019203",
   "environment_variables": {},
   "exception": null,
   "input_path": "gene-selection-inference.ipynb",
   "output_path": "gene-selection-inference-parameterization-12.ipynb",
   "parameters": {
    "MILL_FITNESS_ADVANTAGE": 0.0,
    "MILL_REPLICATE": 4
   },
   "start_time": "2023-05-24T07:19:14.314203",
   "version": "2.4.0"
  }
 },
 "nbformat": 4,
 "nbformat_minor": 5
}