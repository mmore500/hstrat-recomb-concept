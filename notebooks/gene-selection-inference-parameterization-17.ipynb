{
 "cells": [
  {
   "cell_type": "code",
   "execution_count": 1,
   "id": "32db0c9c",
   "metadata": {
    "execution": {
     "iopub.execute_input": "2023-05-23T22:48:06.518607Z",
     "iopub.status.busy": "2023-05-23T22:48:06.511467Z",
     "iopub.status.idle": "2023-05-23T22:48:07.552358Z",
     "shell.execute_reply": "2023-05-23T22:48:07.551582Z"
    },
    "papermill": {
     "duration": 1.064674,
     "end_time": "2023-05-23T22:48:07.552540",
     "exception": false,
     "start_time": "2023-05-23T22:48:06.487866",
     "status": "completed"
    },
    "tags": []
   },
   "outputs": [],
   "source": [
    "import endomill\n",
    "import yaml\n"
   ]
  },
  {
   "cell_type": "code",
   "execution_count": 2,
   "id": "7dbb2eca",
   "metadata": {
    "execution": {
     "iopub.execute_input": "2023-05-23T22:48:07.601014Z",
     "iopub.status.busy": "2023-05-23T22:48:07.600126Z",
     "iopub.status.idle": "2023-05-23T22:48:07.623266Z",
     "shell.execute_reply": "2023-05-23T22:48:07.624028Z"
    },
    "papermill": {
     "duration": 0.052252,
     "end_time": "2023-05-23T22:48:07.624278",
     "exception": false,
     "start_time": "2023-05-23T22:48:07.572026",
     "status": "completed"
    },
    "tags": []
   },
   "outputs": [],
   "source": [
    "parameter_packs = [\n",
    "    {\n",
    "        \"MILL_FITNESS_ADVANTAGE\": fitness_advantage,\n",
    "        \"MILL_REPLICATE\": replicate,\n",
    "    }\n",
    "    for replicate in range(10)\n",
    "    for fitness_advantage in [0.0, 1.0, 1.0]\n",
    "]\n",
    "\n",
    "for i, pp in enumerate(parameter_packs):\n",
    "    with open(\n",
    "        f\"gene-selection-inference-parameterization-{i}.yaml\", \"w\"\n",
    "    ) as file:\n",
    "        yaml.safe_dump(pp, file)\n",
    "# endomill.instantiate_over(parameter_packs=parameter_packs)\n"
   ]
  },
  {
   "cell_type": "markdown",
   "id": "76938a72",
   "metadata": {
    "papermill": {
     "duration": 0.01813,
     "end_time": "2023-05-23T22:48:07.664076",
     "exception": false,
     "start_time": "2023-05-23T22:48:07.645946",
     "status": "completed"
    },
    "tags": []
   },
   "source": [
    "# Papermill Parameters\n"
   ]
  },
  {
   "cell_type": "code",
   "execution_count": 3,
   "id": "ff2864f3",
   "metadata": {
    "execution": {
     "iopub.execute_input": "2023-05-23T22:48:07.707294Z",
     "iopub.status.busy": "2023-05-23T22:48:07.706641Z",
     "iopub.status.idle": "2023-05-23T22:48:07.709221Z",
     "shell.execute_reply": "2023-05-23T22:48:07.708756Z"
    },
    "papermill": {
     "duration": 0.026046,
     "end_time": "2023-05-23T22:48:07.709347",
     "exception": false,
     "start_time": "2023-05-23T22:48:07.683301",
     "status": "completed"
    },
    "tags": [
     "parameters"
    ]
   },
   "outputs": [],
   "source": [
    "MILL_FITNESS_ADVANTAGE: float\n",
    "MILL_REPLICATE: int\n"
   ]
  },
  {
   "cell_type": "code",
   "execution_count": 4,
   "id": "edb001db",
   "metadata": {
    "execution": {
     "iopub.execute_input": "2023-05-23T22:48:07.739198Z",
     "iopub.status.busy": "2023-05-23T22:48:07.738432Z",
     "iopub.status.idle": "2023-05-23T22:48:07.740504Z",
     "shell.execute_reply": "2023-05-23T22:48:07.740934Z"
    },
    "papermill": {
     "duration": 0.018096,
     "end_time": "2023-05-23T22:48:07.741075",
     "exception": false,
     "start_time": "2023-05-23T22:48:07.722979",
     "status": "completed"
    },
    "tags": [
     "injected-parameters"
    ]
   },
   "outputs": [],
   "source": [
    "# Parameters\n",
    "MILL_FITNESS_ADVANTAGE = 1.0\n",
    "MILL_REPLICATE = 5\n"
   ]
  },
  {
   "cell_type": "code",
   "execution_count": 5,
   "id": "444deea5",
   "metadata": {
    "execution": {
     "iopub.execute_input": "2023-05-23T22:48:07.768274Z",
     "iopub.status.busy": "2023-05-23T22:48:07.765693Z",
     "iopub.status.idle": "2023-05-23T22:48:11.493097Z",
     "shell.execute_reply": "2023-05-23T22:48:11.492538Z"
    },
    "papermill": {
     "duration": 3.740997,
     "end_time": "2023-05-23T22:48:11.493219",
     "exception": false,
     "start_time": "2023-05-23T22:48:07.752222",
     "status": "completed"
    },
    "tags": []
   },
   "outputs": [],
   "source": [
    "import copy\n",
    "import random\n",
    "\n",
    "import alifedata_phyloinformatics_convert as apc\n",
    "from deap import algorithms as deap_algorithms\n",
    "from deap import base as deap_base\n",
    "from deap import creator as deap_creator\n",
    "from deap import tools as deap_tools\n",
    "from hstrat import hstrat\n",
    "from keyname import keyname as kn\n",
    "from matplotlib import pyplot as plt\n",
    "import pandas as pd\n",
    "import seaborn as sns\n",
    "from teeplot import teeplot as tp\n",
    "from tqdm import tqdm\n",
    "\n",
    "import pylib\n"
   ]
  },
  {
   "cell_type": "code",
   "execution_count": 6,
   "id": "28f75391",
   "metadata": {
    "execution": {
     "iopub.execute_input": "2023-05-23T22:48:11.521112Z",
     "iopub.status.busy": "2023-05-23T22:48:11.520537Z",
     "iopub.status.idle": "2023-05-23T22:48:11.523588Z",
     "shell.execute_reply": "2023-05-23T22:48:11.522834Z"
    },
    "papermill": {
     "duration": 0.018686,
     "end_time": "2023-05-23T22:48:11.523774",
     "exception": false,
     "start_time": "2023-05-23T22:48:11.505088",
     "status": "completed"
    },
    "tags": []
   },
   "outputs": [],
   "source": [
    "random.seed(MILL_REPLICATE)\n"
   ]
  },
  {
   "cell_type": "markdown",
   "id": "55024935",
   "metadata": {
    "papermill": {
     "duration": 0.03226,
     "end_time": "2023-05-23T22:48:11.577427",
     "exception": false,
     "start_time": "2023-05-23T22:48:11.545167",
     "status": "completed"
    },
    "tags": []
   },
   "source": [
    "# Parameters\n"
   ]
  },
  {
   "cell_type": "code",
   "execution_count": 7,
   "id": "49faa80e",
   "metadata": {
    "execution": {
     "iopub.execute_input": "2023-05-23T22:48:11.626075Z",
     "iopub.status.busy": "2023-05-23T22:48:11.625228Z",
     "iopub.status.idle": "2023-05-23T22:48:11.627998Z",
     "shell.execute_reply": "2023-05-23T22:48:11.627175Z"
    },
    "papermill": {
     "duration": 0.029449,
     "end_time": "2023-05-23T22:48:11.628169",
     "exception": false,
     "start_time": "2023-05-23T22:48:11.598720",
     "status": "completed"
    },
    "tags": []
   },
   "outputs": [],
   "source": [
    "HSTRAT_RESOLUTION = 1000\n",
    "HSTRAT_DIFFERENTIA_WIDTH = 64\n",
    "\n",
    "TOURNAMENT_SIZE = 2\n",
    "\n",
    "NGEN = 200\n",
    "\n",
    "POPULATION_SIZE = 400\n"
   ]
  },
  {
   "cell_type": "markdown",
   "id": "d33c4288",
   "metadata": {
    "papermill": {
     "duration": 0.021438,
     "end_time": "2023-05-23T22:48:11.671451",
     "exception": false,
     "start_time": "2023-05-23T22:48:11.650013",
     "status": "completed"
    },
    "tags": []
   },
   "source": [
    "# Setup\n"
   ]
  },
  {
   "cell_type": "code",
   "execution_count": 8,
   "id": "a49d969e",
   "metadata": {
    "execution": {
     "iopub.execute_input": "2023-05-23T22:48:11.746038Z",
     "iopub.status.busy": "2023-05-23T22:48:11.743612Z",
     "iopub.status.idle": "2023-05-23T22:48:11.748473Z",
     "shell.execute_reply": "2023-05-23T22:48:11.747984Z"
    },
    "papermill": {
     "duration": 0.03412,
     "end_time": "2023-05-23T22:48:11.748597",
     "exception": false,
     "start_time": "2023-05-23T22:48:11.714477",
     "status": "completed"
    },
    "tags": []
   },
   "outputs": [],
   "source": [
    "deap_creator.create(\"FitnessMax\", deap_base.Fitness, weights=(1.0,))\n",
    "deap_creator.create(\"Individual\", list, fitness=deap_creator.FitnessMax)\n",
    "\n",
    "toolbox = deap_base.Toolbox()\n",
    "\n",
    "toolbox.register(\n",
    "    \"individual\",\n",
    "    lambda *args, **kwargs: deap_creator.Individual([0.0]),\n",
    "    deap_creator.Individual,\n",
    "    n=1,\n",
    ")\n",
    "toolbox.register(\"population\", deap_tools.initRepeat, list, toolbox.individual)\n",
    "\n",
    "\n",
    "def evalOneMax(individual):\n",
    "    return (individual[0] + random.random(),)\n",
    "\n",
    "\n",
    "toolbox.register(\"evaluate\", evalOneMax)\n",
    "# hack to ensure gene annotation remains associated with gene\n",
    "toolbox.register(\"mate\", lambda x, y: random.choice([(x, y), (y, x)]))\n",
    "toolbox.register(\"mutate\", lambda x: tuple(x))\n",
    "toolbox.register(\"select\", deap_tools.selTournament, tournsize=TOURNAMENT_SIZE)\n",
    "\n",
    "# Decorate the variation operators\n",
    "toolbox.decorate(\"mate\", pylib.deap.hstrat_mate_decorator)\n"
   ]
  },
  {
   "cell_type": "markdown",
   "id": "b86ae009",
   "metadata": {
    "papermill": {
     "duration": 0.011716,
     "end_time": "2023-05-23T22:48:11.772045",
     "exception": false,
     "start_time": "2023-05-23T22:48:11.760329",
     "status": "completed"
    },
    "tags": []
   },
   "source": [
    "# Evolve\n"
   ]
  },
  {
   "cell_type": "code",
   "execution_count": 9,
   "id": "831e3196",
   "metadata": {
    "execution": {
     "iopub.execute_input": "2023-05-23T22:48:11.824411Z",
     "iopub.status.busy": "2023-05-23T22:48:11.804444Z",
     "iopub.status.idle": "2023-05-23T22:57:07.098389Z",
     "shell.execute_reply": "2023-05-23T22:57:07.097667Z"
    },
    "papermill": {
     "duration": 535.314997,
     "end_time": "2023-05-23T22:57:07.098578",
     "exception": false,
     "start_time": "2023-05-23T22:48:11.783581",
     "status": "completed"
    },
    "tags": []
   },
   "outputs": [
    {
     "name": "stderr",
     "output_type": "stream",
     "text": [
      "\r",
      "  0%|                                                                  | 0/200 [00:00<?, ?it/s]"
     ]
    },
    {
     "name": "stderr",
     "output_type": "stream",
     "text": [
      "\r",
      "  0%|▎                                                         | 1/200 [00:00<01:57,  1.69it/s]"
     ]
    },
    {
     "name": "stderr",
     "output_type": "stream",
     "text": [
      "\r",
      "  1%|▌                                                         | 2/200 [00:01<01:56,  1.70it/s]"
     ]
    },
    {
     "name": "stderr",
     "output_type": "stream",
     "text": [
      "\r",
      "  2%|▊                                                         | 3/200 [00:01<01:53,  1.73it/s]"
     ]
    },
    {
     "name": "stderr",
     "output_type": "stream",
     "text": [
      "\r",
      "  2%|█▏                                                        | 4/200 [00:02<02:05,  1.56it/s]"
     ]
    },
    {
     "name": "stderr",
     "output_type": "stream",
     "text": [
      "\r",
      "  2%|█▍                                                        | 5/200 [00:03<02:17,  1.42it/s]"
     ]
    },
    {
     "name": "stderr",
     "output_type": "stream",
     "text": [
      "\r",
      "  3%|█▋                                                        | 6/200 [00:04<02:26,  1.33it/s]"
     ]
    },
    {
     "name": "stderr",
     "output_type": "stream",
     "text": [
      "\r",
      "  4%|██                                                        | 7/200 [00:04<02:20,  1.38it/s]"
     ]
    },
    {
     "name": "stderr",
     "output_type": "stream",
     "text": [
      "\r",
      "  4%|██▎                                                       | 8/200 [00:05<02:26,  1.31it/s]"
     ]
    },
    {
     "name": "stderr",
     "output_type": "stream",
     "text": [
      "\r",
      "  4%|██▌                                                       | 9/200 [00:06<02:33,  1.25it/s]"
     ]
    },
    {
     "name": "stderr",
     "output_type": "stream",
     "text": [
      "\r",
      "  5%|██▊                                                      | 10/200 [00:07<02:36,  1.21it/s]"
     ]
    },
    {
     "name": "stderr",
     "output_type": "stream",
     "text": [
      "\r",
      "  6%|███▏                                                     | 11/200 [00:08<02:28,  1.28it/s]"
     ]
    },
    {
     "name": "stderr",
     "output_type": "stream",
     "text": [
      "\r",
      "  6%|███▍                                                     | 12/200 [00:08<02:32,  1.23it/s]"
     ]
    },
    {
     "name": "stderr",
     "output_type": "stream",
     "text": [
      "\r",
      "  6%|███▋                                                     | 13/200 [00:09<02:39,  1.17it/s]"
     ]
    },
    {
     "name": "stderr",
     "output_type": "stream",
     "text": [
      "\r",
      "  7%|███▉                                                     | 14/200 [00:10<02:41,  1.15it/s]"
     ]
    },
    {
     "name": "stderr",
     "output_type": "stream",
     "text": [
      "\r",
      "  8%|████▎                                                    | 15/200 [00:11<02:45,  1.12it/s]"
     ]
    },
    {
     "name": "stderr",
     "output_type": "stream",
     "text": [
      "\r",
      "  8%|████▌                                                    | 16/200 [00:12<02:47,  1.10it/s]"
     ]
    },
    {
     "name": "stderr",
     "output_type": "stream",
     "text": [
      "\r",
      "  8%|████▊                                                    | 17/200 [00:14<03:07,  1.02s/it]"
     ]
    },
    {
     "name": "stderr",
     "output_type": "stream",
     "text": [
      "\r",
      "  9%|█████▏                                                   | 18/200 [00:15<03:04,  1.01s/it]"
     ]
    },
    {
     "name": "stderr",
     "output_type": "stream",
     "text": [
      "\r",
      " 10%|█████▍                                                   | 19/200 [00:16<03:43,  1.23s/it]"
     ]
    },
    {
     "name": "stderr",
     "output_type": "stream",
     "text": [
      "\r",
      " 10%|█████▋                                                   | 20/200 [00:17<03:31,  1.18s/it]"
     ]
    },
    {
     "name": "stderr",
     "output_type": "stream",
     "text": [
      "\r",
      " 10%|█████▉                                                   | 21/200 [00:18<03:24,  1.14s/it]"
     ]
    },
    {
     "name": "stderr",
     "output_type": "stream",
     "text": [
      "\r",
      " 11%|██████▎                                                  | 22/200 [00:19<03:19,  1.12s/it]"
     ]
    },
    {
     "name": "stderr",
     "output_type": "stream",
     "text": [
      "\r",
      " 12%|██████▌                                                  | 23/200 [00:21<03:20,  1.13s/it]"
     ]
    },
    {
     "name": "stderr",
     "output_type": "stream",
     "text": [
      "\r",
      " 12%|██████▊                                                  | 24/200 [00:22<03:19,  1.13s/it]"
     ]
    },
    {
     "name": "stderr",
     "output_type": "stream",
     "text": [
      "\r",
      " 12%|███████▏                                                 | 25/200 [00:23<03:18,  1.14s/it]"
     ]
    },
    {
     "name": "stderr",
     "output_type": "stream",
     "text": [
      "\r",
      " 13%|███████▍                                                 | 26/200 [00:24<03:05,  1.07s/it]"
     ]
    },
    {
     "name": "stderr",
     "output_type": "stream",
     "text": [
      "\r",
      " 14%|███████▋                                                 | 27/200 [00:26<03:43,  1.29s/it]"
     ]
    },
    {
     "name": "stderr",
     "output_type": "stream",
     "text": [
      "\r",
      " 14%|███████▉                                                 | 28/200 [00:27<03:48,  1.33s/it]"
     ]
    },
    {
     "name": "stderr",
     "output_type": "stream",
     "text": [
      "\r",
      " 14%|████████▎                                                | 29/200 [00:28<03:39,  1.29s/it]"
     ]
    },
    {
     "name": "stderr",
     "output_type": "stream",
     "text": [
      "\r",
      " 15%|████████▌                                                | 30/200 [00:29<03:35,  1.27s/it]"
     ]
    },
    {
     "name": "stderr",
     "output_type": "stream",
     "text": [
      "\r",
      " 16%|████████▊                                                | 31/200 [00:31<03:30,  1.25s/it]"
     ]
    },
    {
     "name": "stderr",
     "output_type": "stream",
     "text": [
      "\r",
      " 16%|█████████                                                | 32/200 [00:32<03:26,  1.23s/it]"
     ]
    },
    {
     "name": "stderr",
     "output_type": "stream",
     "text": [
      "\r",
      " 16%|█████████▍                                               | 33/200 [00:33<03:13,  1.16s/it]"
     ]
    },
    {
     "name": "stderr",
     "output_type": "stream",
     "text": [
      "\r",
      " 17%|█████████▋                                               | 34/200 [00:34<03:20,  1.21s/it]"
     ]
    },
    {
     "name": "stderr",
     "output_type": "stream",
     "text": [
      "\r",
      " 18%|█████████▉                                               | 35/200 [00:35<03:23,  1.23s/it]"
     ]
    },
    {
     "name": "stderr",
     "output_type": "stream",
     "text": [
      "\r",
      " 18%|██████████▎                                              | 36/200 [00:37<03:25,  1.25s/it]"
     ]
    },
    {
     "name": "stderr",
     "output_type": "stream",
     "text": [
      "\r",
      " 18%|██████████▌                                              | 37/200 [00:38<03:26,  1.26s/it]"
     ]
    },
    {
     "name": "stderr",
     "output_type": "stream",
     "text": [
      "\r",
      " 19%|██████████▊                                              | 38/200 [00:39<03:24,  1.26s/it]"
     ]
    },
    {
     "name": "stderr",
     "output_type": "stream",
     "text": [
      "\r",
      " 20%|███████████                                              | 39/200 [00:41<03:22,  1.26s/it]"
     ]
    },
    {
     "name": "stderr",
     "output_type": "stream",
     "text": [
      "\r",
      " 20%|███████████▍                                             | 40/200 [00:42<03:22,  1.27s/it]"
     ]
    },
    {
     "name": "stderr",
     "output_type": "stream",
     "text": [
      "\r",
      " 20%|███████████▋                                             | 41/200 [00:43<03:26,  1.30s/it]"
     ]
    },
    {
     "name": "stderr",
     "output_type": "stream",
     "text": [
      "\r",
      " 21%|███████████▉                                             | 42/200 [00:45<03:27,  1.31s/it]"
     ]
    },
    {
     "name": "stderr",
     "output_type": "stream",
     "text": [
      "\r",
      " 22%|████████████▎                                            | 43/200 [00:46<03:27,  1.32s/it]"
     ]
    },
    {
     "name": "stderr",
     "output_type": "stream",
     "text": [
      "\r",
      " 22%|████████████▌                                            | 44/200 [00:47<03:25,  1.32s/it]"
     ]
    },
    {
     "name": "stderr",
     "output_type": "stream",
     "text": [
      "\r",
      " 22%|████████████▊                                            | 45/200 [00:49<03:28,  1.35s/it]"
     ]
    },
    {
     "name": "stderr",
     "output_type": "stream",
     "text": [
      "\r",
      " 23%|█████████████                                            | 46/200 [00:50<03:31,  1.37s/it]"
     ]
    },
    {
     "name": "stderr",
     "output_type": "stream",
     "text": [
      "\r",
      " 24%|█████████████▍                                           | 47/200 [00:51<03:31,  1.38s/it]"
     ]
    },
    {
     "name": "stderr",
     "output_type": "stream",
     "text": [
      "\r",
      " 24%|█████████████▋                                           | 48/200 [00:53<03:30,  1.38s/it]"
     ]
    },
    {
     "name": "stderr",
     "output_type": "stream",
     "text": [
      "\r",
      " 24%|█████████████▉                                           | 49/200 [00:54<03:31,  1.40s/it]"
     ]
    },
    {
     "name": "stderr",
     "output_type": "stream",
     "text": [
      "\r",
      " 25%|██████████████▎                                          | 50/200 [00:56<03:35,  1.44s/it]"
     ]
    },
    {
     "name": "stderr",
     "output_type": "stream",
     "text": [
      "\r",
      " 26%|██████████████▌                                          | 51/200 [00:57<03:36,  1.45s/it]"
     ]
    },
    {
     "name": "stderr",
     "output_type": "stream",
     "text": [
      "\r",
      " 26%|██████████████▊                                          | 52/200 [00:59<03:38,  1.47s/it]"
     ]
    },
    {
     "name": "stderr",
     "output_type": "stream",
     "text": [
      "\r",
      " 26%|███████████████                                          | 53/200 [01:02<04:32,  1.85s/it]"
     ]
    },
    {
     "name": "stderr",
     "output_type": "stream",
     "text": [
      "\r",
      " 27%|███████████████▍                                         | 54/200 [01:04<05:14,  2.15s/it]"
     ]
    },
    {
     "name": "stderr",
     "output_type": "stream",
     "text": [
      "\r",
      " 28%|███████████████▋                                         | 55/200 [01:07<05:41,  2.35s/it]"
     ]
    },
    {
     "name": "stderr",
     "output_type": "stream",
     "text": [
      "\r",
      " 28%|███████████████▉                                         | 56/200 [01:09<05:31,  2.30s/it]"
     ]
    },
    {
     "name": "stderr",
     "output_type": "stream",
     "text": [
      "\r",
      " 28%|████████████████▏                                        | 57/200 [01:12<05:22,  2.26s/it]"
     ]
    },
    {
     "name": "stderr",
     "output_type": "stream",
     "text": [
      "\r",
      " 29%|████████████████▌                                        | 58/200 [01:14<05:45,  2.43s/it]"
     ]
    },
    {
     "name": "stderr",
     "output_type": "stream",
     "text": [
      "\r",
      " 30%|████████████████▊                                        | 59/200 [01:17<05:44,  2.44s/it]"
     ]
    },
    {
     "name": "stderr",
     "output_type": "stream",
     "text": [
      "\r",
      " 30%|█████████████████                                        | 60/200 [01:18<05:04,  2.17s/it]"
     ]
    },
    {
     "name": "stderr",
     "output_type": "stream",
     "text": [
      "\r",
      " 30%|█████████████████▍                                       | 61/200 [01:20<04:40,  2.02s/it]"
     ]
    },
    {
     "name": "stderr",
     "output_type": "stream",
     "text": [
      "\r",
      " 31%|█████████████████▋                                       | 62/200 [01:22<04:21,  1.89s/it]"
     ]
    },
    {
     "name": "stderr",
     "output_type": "stream",
     "text": [
      "\r",
      " 32%|█████████████████▉                                       | 63/200 [01:23<04:08,  1.81s/it]"
     ]
    },
    {
     "name": "stderr",
     "output_type": "stream",
     "text": [
      "\r",
      " 32%|██████████████████▏                                      | 64/200 [01:26<04:56,  2.18s/it]"
     ]
    },
    {
     "name": "stderr",
     "output_type": "stream",
     "text": [
      "\r",
      " 32%|██████████████████▌                                      | 65/200 [01:29<05:25,  2.41s/it]"
     ]
    },
    {
     "name": "stderr",
     "output_type": "stream",
     "text": [
      "\r",
      " 33%|██████████████████▊                                      | 66/200 [01:31<05:14,  2.35s/it]"
     ]
    },
    {
     "name": "stderr",
     "output_type": "stream",
     "text": [
      "\r",
      " 34%|███████████████████                                      | 67/200 [01:33<04:46,  2.15s/it]"
     ]
    },
    {
     "name": "stderr",
     "output_type": "stream",
     "text": [
      "\r",
      " 34%|███████████████████▍                                     | 68/200 [01:35<04:37,  2.11s/it]"
     ]
    },
    {
     "name": "stderr",
     "output_type": "stream",
     "text": [
      "\r",
      " 34%|███████████████████▋                                     | 69/200 [01:37<04:20,  1.99s/it]"
     ]
    },
    {
     "name": "stderr",
     "output_type": "stream",
     "text": [
      "\r",
      " 35%|███████████████████▉                                     | 70/200 [01:39<04:10,  1.92s/it]"
     ]
    },
    {
     "name": "stderr",
     "output_type": "stream",
     "text": [
      "\r",
      " 36%|████████████████████▏                                    | 71/200 [01:41<04:09,  1.93s/it]"
     ]
    },
    {
     "name": "stderr",
     "output_type": "stream",
     "text": [
      "\r",
      " 36%|████████████████████▌                                    | 72/200 [01:44<05:01,  2.35s/it]"
     ]
    },
    {
     "name": "stderr",
     "output_type": "stream",
     "text": [
      "\r",
      " 36%|████████████████████▊                                    | 73/200 [01:46<04:45,  2.25s/it]"
     ]
    },
    {
     "name": "stderr",
     "output_type": "stream",
     "text": [
      "\r",
      " 37%|█████████████████████                                    | 74/200 [01:48<04:26,  2.11s/it]"
     ]
    },
    {
     "name": "stderr",
     "output_type": "stream",
     "text": [
      "\r",
      " 38%|█████████████████████▍                                   | 75/200 [01:50<04:12,  2.02s/it]"
     ]
    },
    {
     "name": "stderr",
     "output_type": "stream",
     "text": [
      "\r",
      " 38%|█████████████████████▋                                   | 76/200 [01:51<04:04,  1.97s/it]"
     ]
    },
    {
     "name": "stderr",
     "output_type": "stream",
     "text": [
      "\r",
      " 38%|█████████████████████▉                                   | 77/200 [01:53<03:57,  1.93s/it]"
     ]
    },
    {
     "name": "stderr",
     "output_type": "stream",
     "text": [
      "\r",
      " 39%|██████████████████████▏                                  | 78/200 [01:55<03:53,  1.91s/it]"
     ]
    },
    {
     "name": "stderr",
     "output_type": "stream",
     "text": [
      "\r",
      " 40%|██████████████████████▌                                  | 79/200 [01:58<04:12,  2.08s/it]"
     ]
    },
    {
     "name": "stderr",
     "output_type": "stream",
     "text": [
      "\r",
      " 40%|██████████████████████▊                                  | 80/200 [02:00<04:36,  2.31s/it]"
     ]
    },
    {
     "name": "stderr",
     "output_type": "stream",
     "text": [
      "\r",
      " 40%|███████████████████████                                  | 81/200 [02:02<04:19,  2.18s/it]"
     ]
    },
    {
     "name": "stderr",
     "output_type": "stream",
     "text": [
      "\r",
      " 41%|███████████████████████▎                                 | 82/200 [02:04<04:11,  2.13s/it]"
     ]
    },
    {
     "name": "stderr",
     "output_type": "stream",
     "text": [
      "\r",
      " 42%|███████████████████████▋                                 | 83/200 [02:07<04:16,  2.19s/it]"
     ]
    },
    {
     "name": "stderr",
     "output_type": "stream",
     "text": [
      "\r",
      " 42%|███████████████████████▉                                 | 84/200 [02:09<04:07,  2.13s/it]"
     ]
    },
    {
     "name": "stderr",
     "output_type": "stream",
     "text": [
      "\r",
      " 42%|████████████████████████▏                                | 85/200 [02:11<03:59,  2.08s/it]"
     ]
    },
    {
     "name": "stderr",
     "output_type": "stream",
     "text": [
      "\r",
      " 43%|████████████████████████▌                                | 86/200 [02:12<03:51,  2.03s/it]"
     ]
    },
    {
     "name": "stderr",
     "output_type": "stream",
     "text": [
      "\r",
      " 44%|████████████████████████▊                                | 87/200 [02:14<03:48,  2.02s/it]"
     ]
    },
    {
     "name": "stderr",
     "output_type": "stream",
     "text": [
      "\r",
      " 44%|█████████████████████████                                | 88/200 [02:17<03:50,  2.06s/it]"
     ]
    },
    {
     "name": "stderr",
     "output_type": "stream",
     "text": [
      "\r",
      " 44%|█████████████████████████▎                               | 89/200 [02:21<04:53,  2.64s/it]"
     ]
    },
    {
     "name": "stderr",
     "output_type": "stream",
     "text": [
      "\r",
      " 45%|█████████████████████████▋                               | 90/200 [02:24<05:16,  2.88s/it]"
     ]
    },
    {
     "name": "stderr",
     "output_type": "stream",
     "text": [
      "\r",
      " 46%|█████████████████████████▉                               | 91/200 [02:28<05:32,  3.05s/it]"
     ]
    },
    {
     "name": "stderr",
     "output_type": "stream",
     "text": [
      "\r",
      " 46%|██████████████████████████▏                              | 92/200 [02:31<05:27,  3.03s/it]"
     ]
    },
    {
     "name": "stderr",
     "output_type": "stream",
     "text": [
      "\r",
      " 46%|██████████████████████████▌                              | 93/200 [02:34<05:33,  3.11s/it]"
     ]
    },
    {
     "name": "stderr",
     "output_type": "stream",
     "text": [
      "\r",
      " 47%|██████████████████████████▊                              | 94/200 [02:37<05:29,  3.11s/it]"
     ]
    },
    {
     "name": "stderr",
     "output_type": "stream",
     "text": [
      "\r",
      " 48%|███████████████████████████                              | 95/200 [02:40<05:26,  3.11s/it]"
     ]
    },
    {
     "name": "stderr",
     "output_type": "stream",
     "text": [
      "\r",
      " 48%|███████████████████████████▎                             | 96/200 [02:43<05:23,  3.11s/it]"
     ]
    },
    {
     "name": "stderr",
     "output_type": "stream",
     "text": [
      "\r",
      " 48%|███████████████████████████▋                             | 97/200 [02:47<05:31,  3.22s/it]"
     ]
    },
    {
     "name": "stderr",
     "output_type": "stream",
     "text": [
      "\r",
      " 49%|███████████████████████████▉                             | 98/200 [02:50<05:28,  3.22s/it]"
     ]
    },
    {
     "name": "stderr",
     "output_type": "stream",
     "text": [
      "\r",
      " 50%|████████████████████████████▏                            | 99/200 [02:53<05:24,  3.22s/it]"
     ]
    },
    {
     "name": "stderr",
     "output_type": "stream",
     "text": [
      "\r",
      " 50%|████████████████████████████                            | 100/200 [02:56<05:21,  3.21s/it]"
     ]
    },
    {
     "name": "stderr",
     "output_type": "stream",
     "text": [
      "\r",
      " 50%|████████████████████████████▎                           | 101/200 [03:00<05:29,  3.32s/it]"
     ]
    },
    {
     "name": "stderr",
     "output_type": "stream",
     "text": [
      "\r",
      " 51%|████████████████████████████▌                           | 102/200 [03:03<05:24,  3.31s/it]"
     ]
    },
    {
     "name": "stderr",
     "output_type": "stream",
     "text": [
      "\r",
      " 52%|████████████████████████████▊                           | 103/200 [03:06<05:20,  3.31s/it]"
     ]
    },
    {
     "name": "stderr",
     "output_type": "stream",
     "text": [
      "\r",
      " 52%|█████████████████████████████                           | 104/200 [03:10<05:17,  3.30s/it]"
     ]
    },
    {
     "name": "stderr",
     "output_type": "stream",
     "text": [
      "\r",
      " 52%|█████████████████████████████▍                          | 105/200 [03:13<05:22,  3.40s/it]"
     ]
    },
    {
     "name": "stderr",
     "output_type": "stream",
     "text": [
      "\r",
      " 53%|█████████████████████████████▋                          | 106/200 [03:16<05:11,  3.32s/it]"
     ]
    },
    {
     "name": "stderr",
     "output_type": "stream",
     "text": [
      "\r",
      " 54%|█████████████████████████████▉                          | 107/200 [03:18<04:24,  2.85s/it]"
     ]
    },
    {
     "name": "stderr",
     "output_type": "stream",
     "text": [
      "\r",
      " 54%|██████████████████████████████▏                         | 108/200 [03:20<03:53,  2.54s/it]"
     ]
    },
    {
     "name": "stderr",
     "output_type": "stream",
     "text": [
      "\r",
      " 55%|██████████████████████████████▌                         | 109/200 [03:22<03:36,  2.38s/it]"
     ]
    },
    {
     "name": "stderr",
     "output_type": "stream",
     "text": [
      "\r",
      " 55%|██████████████████████████████▊                         | 110/200 [03:24<03:19,  2.21s/it]"
     ]
    },
    {
     "name": "stderr",
     "output_type": "stream",
     "text": [
      "\r",
      " 56%|███████████████████████████████                         | 111/200 [03:26<03:06,  2.10s/it]"
     ]
    },
    {
     "name": "stderr",
     "output_type": "stream",
     "text": [
      "\r",
      " 56%|███████████████████████████████▎                        | 112/200 [03:28<02:58,  2.03s/it]"
     ]
    },
    {
     "name": "stderr",
     "output_type": "stream",
     "text": [
      "\r",
      " 56%|███████████████████████████████▋                        | 113/200 [03:30<03:00,  2.07s/it]"
     ]
    },
    {
     "name": "stderr",
     "output_type": "stream",
     "text": [
      "\r",
      " 57%|███████████████████████████████▉                        | 114/200 [03:32<02:58,  2.08s/it]"
     ]
    },
    {
     "name": "stderr",
     "output_type": "stream",
     "text": [
      "\r",
      " 57%|████████████████████████████████▏                       | 115/200 [03:34<03:03,  2.16s/it]"
     ]
    },
    {
     "name": "stderr",
     "output_type": "stream",
     "text": [
      "\r",
      " 58%|████████████████████████████████▍                       | 116/200 [03:37<03:09,  2.26s/it]"
     ]
    },
    {
     "name": "stderr",
     "output_type": "stream",
     "text": [
      "\r",
      " 58%|████████████████████████████████▊                       | 117/200 [03:39<03:16,  2.37s/it]"
     ]
    },
    {
     "name": "stderr",
     "output_type": "stream",
     "text": [
      "\r",
      " 59%|█████████████████████████████████                       | 118/200 [03:42<03:17,  2.40s/it]"
     ]
    },
    {
     "name": "stderr",
     "output_type": "stream",
     "text": [
      "\r",
      " 60%|█████████████████████████████████▎                      | 119/200 [03:44<03:15,  2.42s/it]"
     ]
    },
    {
     "name": "stderr",
     "output_type": "stream",
     "text": [
      "\r",
      " 60%|█████████████████████████████████▌                      | 120/200 [03:47<03:23,  2.54s/it]"
     ]
    },
    {
     "name": "stderr",
     "output_type": "stream",
     "text": [
      "\r",
      " 60%|█████████████████████████████████▉                      | 121/200 [03:50<03:21,  2.55s/it]"
     ]
    },
    {
     "name": "stderr",
     "output_type": "stream",
     "text": [
      "\r",
      " 61%|██████████████████████████████████▏                     | 122/200 [03:52<03:16,  2.52s/it]"
     ]
    },
    {
     "name": "stderr",
     "output_type": "stream",
     "text": [
      "\r",
      " 62%|██████████████████████████████████▍                     | 123/200 [03:55<03:15,  2.54s/it]"
     ]
    },
    {
     "name": "stderr",
     "output_type": "stream",
     "text": [
      "\r",
      " 62%|██████████████████████████████████▋                     | 124/200 [03:58<03:20,  2.64s/it]"
     ]
    },
    {
     "name": "stderr",
     "output_type": "stream",
     "text": [
      "\r",
      " 62%|███████████████████████████████████                     | 125/200 [04:02<04:02,  3.24s/it]"
     ]
    },
    {
     "name": "stderr",
     "output_type": "stream",
     "text": [
      "\r",
      " 63%|███████████████████████████████████▎                    | 126/200 [04:07<04:34,  3.71s/it]"
     ]
    },
    {
     "name": "stderr",
     "output_type": "stream",
     "text": [
      "\r",
      " 64%|███████████████████████████████████▌                    | 127/200 [04:12<05:03,  4.16s/it]"
     ]
    },
    {
     "name": "stderr",
     "output_type": "stream",
     "text": [
      "\r",
      " 64%|███████████████████████████████████▊                    | 128/200 [04:16<04:51,  4.05s/it]"
     ]
    },
    {
     "name": "stderr",
     "output_type": "stream",
     "text": [
      "\r",
      " 64%|████████████████████████████████████                    | 129/200 [04:19<04:16,  3.61s/it]"
     ]
    },
    {
     "name": "stderr",
     "output_type": "stream",
     "text": [
      "\r",
      " 65%|████████████████████████████████████▍                   | 130/200 [04:22<03:58,  3.41s/it]"
     ]
    },
    {
     "name": "stderr",
     "output_type": "stream",
     "text": [
      "\r",
      " 66%|████████████████████████████████████▋                   | 131/200 [04:24<03:39,  3.18s/it]"
     ]
    },
    {
     "name": "stderr",
     "output_type": "stream",
     "text": [
      "\r",
      " 66%|████████████████████████████████████▉                   | 132/200 [04:27<03:30,  3.10s/it]"
     ]
    },
    {
     "name": "stderr",
     "output_type": "stream",
     "text": [
      "\r",
      " 66%|█████████████████████████████████████▏                  | 133/200 [04:30<03:19,  2.98s/it]"
     ]
    },
    {
     "name": "stderr",
     "output_type": "stream",
     "text": [
      "\r",
      " 67%|█████████████████████████████████████▌                  | 134/200 [04:32<03:10,  2.88s/it]"
     ]
    },
    {
     "name": "stderr",
     "output_type": "stream",
     "text": [
      "\r",
      " 68%|█████████████████████████████████████▊                  | 135/200 [04:37<03:30,  3.24s/it]"
     ]
    },
    {
     "name": "stderr",
     "output_type": "stream",
     "text": [
      "\r",
      " 68%|██████████████████████████████████████                  | 136/200 [04:39<03:16,  3.07s/it]"
     ]
    },
    {
     "name": "stderr",
     "output_type": "stream",
     "text": [
      "\r",
      " 68%|██████████████████████████████████████▎                 | 137/200 [04:42<03:06,  2.96s/it]"
     ]
    },
    {
     "name": "stderr",
     "output_type": "stream",
     "text": [
      "\r",
      " 69%|██████████████████████████████████████▋                 | 138/200 [04:45<03:03,  2.95s/it]"
     ]
    },
    {
     "name": "stderr",
     "output_type": "stream",
     "text": [
      "\r",
      " 70%|██████████████████████████████████████▉                 | 139/200 [04:48<02:56,  2.90s/it]"
     ]
    },
    {
     "name": "stderr",
     "output_type": "stream",
     "text": [
      "\r",
      " 70%|███████████████████████████████████████▏                | 140/200 [04:51<02:56,  2.94s/it]"
     ]
    },
    {
     "name": "stderr",
     "output_type": "stream",
     "text": [
      "\r",
      " 70%|███████████████████████████████████████▍                | 141/200 [04:53<02:52,  2.92s/it]"
     ]
    },
    {
     "name": "stderr",
     "output_type": "stream",
     "text": [
      "\r",
      " 71%|███████████████████████████████████████▊                | 142/200 [04:57<02:51,  2.95s/it]"
     ]
    },
    {
     "name": "stderr",
     "output_type": "stream",
     "text": [
      "\r",
      " 72%|████████████████████████████████████████                | 143/200 [04:59<02:45,  2.90s/it]"
     ]
    },
    {
     "name": "stderr",
     "output_type": "stream",
     "text": [
      "\r",
      " 72%|████████████████████████████████████████▎               | 144/200 [05:02<02:42,  2.90s/it]"
     ]
    },
    {
     "name": "stderr",
     "output_type": "stream",
     "text": [
      "\r",
      " 72%|████████████████████████████████████████▌               | 145/200 [05:08<03:23,  3.70s/it]"
     ]
    },
    {
     "name": "stderr",
     "output_type": "stream",
     "text": [
      "\r",
      " 73%|████████████████████████████████████████▉               | 146/200 [05:12<03:30,  3.90s/it]"
     ]
    },
    {
     "name": "stderr",
     "output_type": "stream",
     "text": [
      "\r",
      " 74%|█████████████████████████████████████████▏              | 147/200 [05:15<03:14,  3.66s/it]"
     ]
    },
    {
     "name": "stderr",
     "output_type": "stream",
     "text": [
      "\r",
      " 74%|█████████████████████████████████████████▍              | 148/200 [05:20<03:34,  4.12s/it]"
     ]
    },
    {
     "name": "stderr",
     "output_type": "stream",
     "text": [
      "\r",
      " 74%|█████████████████████████████████████████▋              | 149/200 [05:26<03:45,  4.42s/it]"
     ]
    },
    {
     "name": "stderr",
     "output_type": "stream",
     "text": [
      "\r",
      " 75%|██████████████████████████████████████████              | 150/200 [05:28<03:13,  3.86s/it]"
     ]
    },
    {
     "name": "stderr",
     "output_type": "stream",
     "text": [
      "\r",
      " 76%|██████████████████████████████████████████▎             | 151/200 [05:30<02:46,  3.41s/it]"
     ]
    },
    {
     "name": "stderr",
     "output_type": "stream",
     "text": [
      "\r",
      " 76%|██████████████████████████████████████████▌             | 152/200 [05:34<02:46,  3.46s/it]"
     ]
    },
    {
     "name": "stderr",
     "output_type": "stream",
     "text": [
      "\r",
      " 76%|██████████████████████████████████████████▊             | 153/200 [05:38<02:56,  3.75s/it]"
     ]
    },
    {
     "name": "stderr",
     "output_type": "stream",
     "text": [
      "\r",
      " 77%|███████████████████████████████████████████             | 154/200 [05:43<03:06,  4.05s/it]"
     ]
    },
    {
     "name": "stderr",
     "output_type": "stream",
     "text": [
      "\r",
      " 78%|███████████████████████████████████████████▍            | 155/200 [05:47<02:54,  3.87s/it]"
     ]
    },
    {
     "name": "stderr",
     "output_type": "stream",
     "text": [
      "\r",
      " 78%|███████████████████████████████████████████▋            | 156/200 [05:49<02:34,  3.51s/it]"
     ]
    },
    {
     "name": "stderr",
     "output_type": "stream",
     "text": [
      "\r",
      " 78%|███████████████████████████████████████████▉            | 157/200 [05:52<02:16,  3.18s/it]"
     ]
    },
    {
     "name": "stderr",
     "output_type": "stream",
     "text": [
      "\r",
      " 79%|████████████████████████████████████████████▏           | 158/200 [05:54<02:07,  3.05s/it]"
     ]
    },
    {
     "name": "stderr",
     "output_type": "stream",
     "text": [
      "\r",
      " 80%|████████████████████████████████████████████▌           | 159/200 [05:57<01:57,  2.87s/it]"
     ]
    },
    {
     "name": "stderr",
     "output_type": "stream",
     "text": [
      "\r",
      " 80%|████████████████████████████████████████████▊           | 160/200 [06:00<01:53,  2.84s/it]"
     ]
    },
    {
     "name": "stderr",
     "output_type": "stream",
     "text": [
      "\r",
      " 80%|█████████████████████████████████████████████           | 161/200 [06:03<01:50,  2.84s/it]"
     ]
    },
    {
     "name": "stderr",
     "output_type": "stream",
     "text": [
      "\r",
      " 81%|█████████████████████████████████████████████▎          | 162/200 [06:06<01:55,  3.05s/it]"
     ]
    },
    {
     "name": "stderr",
     "output_type": "stream",
     "text": [
      "\r",
      " 82%|█████████████████████████████████████████████▋          | 163/200 [06:09<01:52,  3.04s/it]"
     ]
    },
    {
     "name": "stderr",
     "output_type": "stream",
     "text": [
      "\r",
      " 82%|█████████████████████████████████████████████▉          | 164/200 [06:12<01:47,  2.98s/it]"
     ]
    },
    {
     "name": "stderr",
     "output_type": "stream",
     "text": [
      "\r",
      " 82%|██████████████████████████████████████████████▏         | 165/200 [06:16<01:51,  3.19s/it]"
     ]
    },
    {
     "name": "stderr",
     "output_type": "stream",
     "text": [
      "\r",
      " 83%|██████████████████████████████████████████████▍         | 166/200 [06:18<01:43,  3.05s/it]"
     ]
    },
    {
     "name": "stderr",
     "output_type": "stream",
     "text": [
      "\r",
      " 84%|██████████████████████████████████████████████▊         | 167/200 [06:21<01:35,  2.90s/it]"
     ]
    },
    {
     "name": "stderr",
     "output_type": "stream",
     "text": [
      "\r",
      " 84%|███████████████████████████████████████████████         | 168/200 [06:24<01:31,  2.84s/it]"
     ]
    },
    {
     "name": "stderr",
     "output_type": "stream",
     "text": [
      "\r",
      " 84%|███████████████████████████████████████████████▎        | 169/200 [06:26<01:28,  2.84s/it]"
     ]
    },
    {
     "name": "stderr",
     "output_type": "stream",
     "text": [
      "\r",
      " 85%|███████████████████████████████████████████████▌        | 170/200 [06:30<01:32,  3.07s/it]"
     ]
    },
    {
     "name": "stderr",
     "output_type": "stream",
     "text": [
      "\r",
      " 86%|███████████████████████████████████████████████▉        | 171/200 [06:33<01:30,  3.11s/it]"
     ]
    },
    {
     "name": "stderr",
     "output_type": "stream",
     "text": [
      "\r",
      " 86%|████████████████████████████████████████████████▏       | 172/200 [06:37<01:29,  3.21s/it]"
     ]
    },
    {
     "name": "stderr",
     "output_type": "stream",
     "text": [
      "\r",
      " 86%|████████████████████████████████████████████████▍       | 173/200 [06:40<01:29,  3.33s/it]"
     ]
    },
    {
     "name": "stderr",
     "output_type": "stream",
     "text": [
      "\r",
      " 87%|████████████████████████████████████████████████▋       | 174/200 [06:45<01:33,  3.61s/it]"
     ]
    },
    {
     "name": "stderr",
     "output_type": "stream",
     "text": [
      "\r",
      " 88%|█████████████████████████████████████████████████       | 175/200 [06:48<01:30,  3.62s/it]"
     ]
    },
    {
     "name": "stderr",
     "output_type": "stream",
     "text": [
      "\r",
      " 88%|█████████████████████████████████████████████████▎      | 176/200 [06:53<01:36,  4.03s/it]"
     ]
    },
    {
     "name": "stderr",
     "output_type": "stream",
     "text": [
      "\r",
      " 88%|█████████████████████████████████████████████████▌      | 177/200 [06:59<01:47,  4.67s/it]"
     ]
    },
    {
     "name": "stderr",
     "output_type": "stream",
     "text": [
      "\r",
      " 89%|█████████████████████████████████████████████████▊      | 178/200 [07:05<01:52,  5.11s/it]"
     ]
    },
    {
     "name": "stderr",
     "output_type": "stream",
     "text": [
      "\r",
      " 90%|██████████████████████████████████████████████████      | 179/200 [07:10<01:42,  4.87s/it]"
     ]
    },
    {
     "name": "stderr",
     "output_type": "stream",
     "text": [
      "\r",
      " 90%|██████████████████████████████████████████████████▍     | 180/200 [07:13<01:29,  4.49s/it]"
     ]
    },
    {
     "name": "stderr",
     "output_type": "stream",
     "text": [
      "\r",
      " 90%|██████████████████████████████████████████████████▋     | 181/200 [07:17<01:20,  4.21s/it]"
     ]
    },
    {
     "name": "stderr",
     "output_type": "stream",
     "text": [
      "\r",
      " 91%|██████████████████████████████████████████████████▉     | 182/200 [07:22<01:18,  4.35s/it]"
     ]
    },
    {
     "name": "stderr",
     "output_type": "stream",
     "text": [
      "\r",
      " 92%|███████████████████████████████████████████████████▏    | 183/200 [07:25<01:10,  4.16s/it]"
     ]
    },
    {
     "name": "stderr",
     "output_type": "stream",
     "text": [
      "\r",
      " 92%|███████████████████████████████████████████████████▌    | 184/200 [07:29<01:03,  3.99s/it]"
     ]
    },
    {
     "name": "stderr",
     "output_type": "stream",
     "text": [
      "\r",
      " 92%|███████████████████████████████████████████████████▊    | 185/200 [07:33<00:58,  3.93s/it]"
     ]
    },
    {
     "name": "stderr",
     "output_type": "stream",
     "text": [
      "\r",
      " 93%|████████████████████████████████████████████████████    | 186/200 [07:38<01:00,  4.33s/it]"
     ]
    },
    {
     "name": "stderr",
     "output_type": "stream",
     "text": [
      "\r",
      " 94%|████████████████████████████████████████████████████▎   | 187/200 [07:44<01:02,  4.80s/it]"
     ]
    },
    {
     "name": "stderr",
     "output_type": "stream",
     "text": [
      "\r",
      " 94%|████████████████████████████████████████████████████▋   | 188/200 [07:48<00:56,  4.74s/it]"
     ]
    },
    {
     "name": "stderr",
     "output_type": "stream",
     "text": [
      "\r",
      " 94%|████████████████████████████████████████████████████▉   | 189/200 [07:53<00:52,  4.76s/it]"
     ]
    },
    {
     "name": "stderr",
     "output_type": "stream",
     "text": [
      "\r",
      " 95%|█████████████████████████████████████████████████████▏  | 190/200 [08:00<00:54,  5.40s/it]"
     ]
    },
    {
     "name": "stderr",
     "output_type": "stream",
     "text": [
      "\r",
      " 96%|█████████████████████████████████████████████████████▍  | 191/200 [08:05<00:47,  5.24s/it]"
     ]
    },
    {
     "name": "stderr",
     "output_type": "stream",
     "text": [
      "\r",
      " 96%|█████████████████████████████████████████████████████▊  | 192/200 [08:11<00:43,  5.43s/it]"
     ]
    },
    {
     "name": "stderr",
     "output_type": "stream",
     "text": [
      "\r",
      " 96%|██████████████████████████████████████████████████████  | 193/200 [08:18<00:41,  5.89s/it]"
     ]
    },
    {
     "name": "stderr",
     "output_type": "stream",
     "text": [
      "\r",
      " 97%|██████████████████████████████████████████████████████▎ | 194/200 [08:24<00:35,  5.95s/it]"
     ]
    },
    {
     "name": "stderr",
     "output_type": "stream",
     "text": [
      "\r",
      " 98%|██████████████████████████████████████████████████████▌ | 195/200 [08:30<00:30,  6.00s/it]"
     ]
    },
    {
     "name": "stderr",
     "output_type": "stream",
     "text": [
      "\r",
      " 98%|██████████████████████████████████████████████████████▉ | 196/200 [08:35<00:22,  5.74s/it]"
     ]
    },
    {
     "name": "stderr",
     "output_type": "stream",
     "text": [
      "\r",
      " 98%|███████████████████████████████████████████████████████▏| 197/200 [08:41<00:17,  5.69s/it]"
     ]
    },
    {
     "name": "stderr",
     "output_type": "stream",
     "text": [
      "\r",
      " 99%|███████████████████████████████████████████████████████▍| 198/200 [08:44<00:09,  4.90s/it]"
     ]
    },
    {
     "name": "stderr",
     "output_type": "stream",
     "text": [
      "\r",
      "100%|███████████████████████████████████████████████████████▋| 199/200 [08:49<00:05,  5.02s/it]"
     ]
    },
    {
     "name": "stderr",
     "output_type": "stream",
     "text": [
      "\r",
      "100%|████████████████████████████████████████████████████████| 200/200 [08:55<00:00,  5.19s/it]"
     ]
    },
    {
     "name": "stderr",
     "output_type": "stream",
     "text": [
      "\r",
      "100%|████████████████████████████████████████████████████████| 200/200 [08:55<00:00,  2.68s/it]"
     ]
    },
    {
     "name": "stderr",
     "output_type": "stream",
     "text": [
      "\n"
     ]
    }
   ],
   "source": [
    "# Create the population and populate the history\n",
    "population = toolbox.population(n=POPULATION_SIZE)\n",
    "\n",
    "species_ancestor = hstrat.HereditaryStratigraphicColumn(\n",
    "    stratum_retention_policy=hstrat.nominal_resolution_algo.Policy(),\n",
    "    stratum_differentia_bit_width=HSTRAT_DIFFERENTIA_WIDTH,\n",
    ")\n",
    "for member in population:\n",
    "    member.species_annotation = species_ancestor.CloneDescendant()\n",
    "    member.gene_annotation = hstrat.HereditaryStratigraphicColumn(\n",
    "        stratum_retention_policy=hstrat.perfect_resolution_algo.Policy(),\n",
    "        stratum_differentia_bit_width=HSTRAT_DIFFERENTIA_WIDTH,\n",
    "        initial_stratum_annotation=0,\n",
    "    ).CloneDescendant(0)\n",
    "\n",
    "\n",
    "# Do the evolution, the decorators will take care of updating the\n",
    "# history\n",
    "prevalences = []\n",
    "for gen in tqdm(range(NGEN)):\n",
    "    prevalences.append(sum(1 for x in population if x[0] > 0))\n",
    "\n",
    "    offspring = deap_algorithms.varAnd(\n",
    "        population, toolbox, cxpb=1.0, mutpb=0.0\n",
    "    )\n",
    "    fits = toolbox.map(toolbox.evaluate, offspring)\n",
    "    for fit, ind in zip(fits, offspring):\n",
    "        ind.fitness.values = fit\n",
    "    population = toolbox.select(offspring, k=len(population))\n",
    "    population = [copy.deepcopy(ind) for ind in population]\n",
    "\n",
    "    if gen >= NGEN // 4:\n",
    "        if prevalences[-1] == 0:\n",
    "            population[0][0] = MILL_FITNESS_ADVANTAGE\n",
    "\n"
   ]
  },
  {
   "cell_type": "markdown",
   "id": "c7abccda",
   "metadata": {
    "papermill": {
     "duration": 0.106955,
     "end_time": "2023-05-23T22:57:07.346780",
     "exception": false,
     "start_time": "2023-05-23T22:57:07.239825",
     "status": "completed"
    },
    "tags": []
   },
   "source": [
    "# Visualization\n"
   ]
  },
  {
   "cell_type": "code",
   "execution_count": 10,
   "id": "e82d3e87",
   "metadata": {
    "execution": {
     "iopub.execute_input": "2023-05-23T22:57:07.537180Z",
     "iopub.status.busy": "2023-05-23T22:57:07.535421Z",
     "iopub.status.idle": "2023-05-23T22:57:09.309092Z",
     "shell.execute_reply": "2023-05-23T22:57:09.309800Z"
    },
    "papermill": {
     "duration": 1.877782,
     "end_time": "2023-05-23T22:57:09.310009",
     "exception": false,
     "start_time": "2023-05-23T22:57:07.432227",
     "status": "completed"
    },
    "tags": []
   },
   "outputs": [
    {
     "name": "stdout",
     "output_type": "stream",
     "text": [
      "teeplots/./fitness-advantage=1.0+notebook=gene-selection-inference+replicate=5+viz=plot-sweep-and-annotations+ext=.pdf\n"
     ]
    },
    {
     "name": "stdout",
     "output_type": "stream",
     "text": [
      "teeplots/./fitness-advantage=1.0+notebook=gene-selection-inference+replicate=5+viz=plot-sweep-and-annotations+ext=.png\n"
     ]
    },
    {
     "data": {
      "image/png": "[encoded data removed]",
      "text/plain": [
       "<Figure size 432x288 with 2 Axes>"
      ]
     },
     "metadata": {
      "needs_background": "light"
     },
     "output_type": "display_data"
    }
   ],
   "source": [
    "annotations = [\n",
    "    s.GetAnnotation().bit_count()\n",
    "    for s in population[0].gene_annotation.IterRetainedStrata()\n",
    "]\n",
    "\n",
    "\n",
    "def plot_sweep_and_annotations():\n",
    "    # Create a figure and a single subplot\n",
    "    fig, ax1 = plt.subplots()\n",
    "\n",
    "    # Make the first plot on ax1\n",
    "    sns.lineplot(data=annotations, color=\"b\", ax=ax1)\n",
    "    ax1.set_ylabel(\"Stratum Annotation Bit Count\", color=\"b\")\n",
    "    ax1.tick_params(\"y\", colors=\"b\")\n",
    "\n",
    "    # Create a second axes that shares the same x-axis\n",
    "    ax2 = ax1.twinx()\n",
    "\n",
    "    # Make the second plot on ax2\n",
    "    sns.lineplot(data=prevalences, color=\"r\", ax=ax2)\n",
    "    ax2.set_ylabel(\"Gene Prevalence\", color=\"r\")\n",
    "    ax2.tick_params(\"y\", colors=\"r\")\n",
    "\n",
    "    ax1.set_xlabel(\"Generation\")\n",
    "\n",
    "    fig.tight_layout()  # otherwise the right y-label is slightly clipped\n",
    "\n",
    "\n",
    "tp.tee(\n",
    "    plot_sweep_and_annotations,\n",
    "    teeplot_outattrs={\n",
    "        \"notebook\": \"gene-selection-inference\",\n",
    "        \"replicate\": str(MILL_REPLICATE),\n",
    "        \"fitness-advantage\": str(MILL_FITNESS_ADVANTAGE),\n",
    "    },\n",
    ")\n"
   ]
  },
  {
   "cell_type": "code",
   "execution_count": 11,
   "id": "58fc6ddf",
   "metadata": {
    "execution": {
     "iopub.execute_input": "2023-05-23T22:57:09.626407Z",
     "iopub.status.busy": "2023-05-23T22:57:09.625530Z",
     "iopub.status.idle": "2023-05-23T22:57:09.632911Z",
     "shell.execute_reply": "2023-05-23T22:57:09.632171Z"
    },
    "papermill": {
     "duration": 0.172756,
     "end_time": "2023-05-23T22:57:09.633087",
     "exception": false,
     "start_time": "2023-05-23T22:57:09.460331",
     "status": "completed"
    },
    "tags": []
   },
   "outputs": [],
   "source": [
    "records = [\n",
    "    {\n",
    "        \"notebook\": \"gene-selection-inference\",\n",
    "        \"replicate\": MILL_REPLICATE,\n",
    "        \"fitness-advantage\": MILL_FITNESS_ADVANTAGE,\n",
    "        \"generation\": generation,\n",
    "        \"prevalence\": prevalence,\n",
    "        \"annotation\": annotation,\n",
    "    }\n",
    "    for generation, (prevalence, annotation) in enumerate(\n",
    "        zip(prevalences, annotations)\n",
    "    )\n",
    "]\n",
    "outdf = pd.DataFrame.from_records(records)\n",
    "outdf.to_csv(\n",
    "    kn.pack(\n",
    "        {\n",
    "            \"a\": \"prevalence-annotation-by-generation\",\n",
    "            \"notebook\": \"gene-selection-inference\",\n",
    "            \"replicate\": str(MILL_REPLICATE),\n",
    "            \"fitness-advantage\": str(MILL_FITNESS_ADVANTAGE),\n",
    "            \"ext\": \".csv\",\n",
    "        }\n",
    "    )\n",
    ")\n"
   ]
  }
 ],
 "metadata": {
  "kernelspec": {
   "display_name": "Python 3",
   "language": "python",
   "name": "python3"
  },
  "language_info": {
   "codemirror_mode": {
    "name": "ipython",
    "version": 3
   },
   "file_extension": ".py",
   "mimetype": "text/x-python",
   "name": "python",
   "nbconvert_exporter": "python",
   "pygments_lexer": "ipython3",
   "version": "3.10.6"
  },
  "papermill": {
   "default_parameters": {},
   "duration": 546.823536,
   "end_time": "2023-05-23T22:57:11.015884",
   "environment_variables": {},
   "exception": null,
   "input_path": "gene-selection-inference.ipynb",
   "output_path": "gene-selection-inference-parameterization-17.ipynb",
   "parameters": {
    "MILL_FITNESS_ADVANTAGE": 1.0,
    "MILL_REPLICATE": 5
   },
   "start_time": "2023-05-23T22:48:04.192348",
   "version": "2.4.0"
  }
 },
 "nbformat": 4,
 "nbformat_minor": 5
}