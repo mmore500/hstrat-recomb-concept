{
 "cells": [
  {
   "cell_type": "code",
   "execution_count": 1,
   "id": "2b18d8d8",
   "metadata": {
    "execution": {
     "iopub.execute_input": "2023-05-24T02:47:48.771495Z",
     "iopub.status.busy": "2023-05-24T02:47:48.765617Z",
     "iopub.status.idle": "2023-05-24T02:47:50.795881Z",
     "shell.execute_reply": "2023-05-24T02:47:50.797210Z"
    },
    "papermill": {
     "duration": 2.094758,
     "end_time": "2023-05-24T02:47:50.797656",
     "exception": false,
     "start_time": "2023-05-24T02:47:48.702898",
     "status": "completed"
    },
    "tags": []
   },
   "outputs": [],
   "source": [
    "import endomill\n",
    "import yaml\n"
   ]
  },
  {
   "cell_type": "code",
   "execution_count": 2,
   "id": "a49d3459",
   "metadata": {
    "execution": {
     "iopub.execute_input": "2023-05-24T02:47:50.967069Z",
     "iopub.status.busy": "2023-05-24T02:47:50.965647Z",
     "iopub.status.idle": "2023-05-24T02:47:50.995073Z",
     "shell.execute_reply": "2023-05-24T02:47:50.996189Z"
    },
    "papermill": {
     "duration": 0.111479,
     "end_time": "2023-05-24T02:47:50.996508",
     "exception": false,
     "start_time": "2023-05-24T02:47:50.885029",
     "status": "completed"
    },
    "tags": []
   },
   "outputs": [],
   "source": [
    "parameter_packs = [\n",
    "    {\n",
    "        \"MILL_TREATMENT_NAME\": treatment,\n",
    "        \"MILL_REPLICATE\": replicate,\n",
    "    }\n",
    "    for treatment in [\"bag\", \"ring\", \"allopatry\"]\n",
    "    for replicate in range(10)\n",
    "]\n",
    "\n",
    "\n",
    "for i, pp in enumerate(parameter_packs):\n",
    "    with open(f\"species-inference-parameterization-{i}.yaml\", \"w\") as file:\n",
    "        yaml.safe_dump(pp, file)\n",
    "# endomill.instantiate_over(parameter_packs=parameter_packs)\n"
   ]
  },
  {
   "cell_type": "markdown",
   "id": "8c25aadd",
   "metadata": {
    "papermill": {
     "duration": 0.05399,
     "end_time": "2023-05-24T02:47:51.105098",
     "exception": false,
     "start_time": "2023-05-24T02:47:51.051108",
     "status": "completed"
    },
    "tags": []
   },
   "source": [
    "# Papermill Parameters\n"
   ]
  },
  {
   "cell_type": "code",
   "execution_count": 3,
   "id": "93cdfc3d",
   "metadata": {
    "execution": {
     "iopub.execute_input": "2023-05-24T02:47:51.222562Z",
     "iopub.status.busy": "2023-05-24T02:47:51.221196Z",
     "iopub.status.idle": "2023-05-24T02:47:51.225696Z",
     "shell.execute_reply": "2023-05-24T02:47:51.227004Z"
    },
    "papermill": {
     "duration": 0.066371,
     "end_time": "2023-05-24T02:47:51.227313",
     "exception": false,
     "start_time": "2023-05-24T02:47:51.160942",
     "status": "completed"
    },
    "tags": [
     "parameters"
    ]
   },
   "outputs": [],
   "source": [
    "MILL_TREATMENT_NAME: str\n",
    "MILL_REPLICATE: int\n"
   ]
  },
  {
   "cell_type": "code",
   "execution_count": 4,
   "id": "5101046e",
   "metadata": {
    "execution": {
     "iopub.execute_input": "2023-05-24T02:47:51.341775Z",
     "iopub.status.busy": "2023-05-24T02:47:51.340417Z",
     "iopub.status.idle": "2023-05-24T02:47:51.345880Z",
     "shell.execute_reply": "2023-05-24T02:47:51.347149Z"
    },
    "papermill": {
     "duration": 0.06548,
     "end_time": "2023-05-24T02:47:51.347459",
     "exception": false,
     "start_time": "2023-05-24T02:47:51.281979",
     "status": "completed"
    },
    "tags": [
     "injected-parameters"
    ]
   },
   "outputs": [],
   "source": [
    "# Parameters\n",
    "MILL_REPLICATE = 4\n",
    "MILL_TREATMENT_NAME = \"bag\"\n"
   ]
  },
  {
   "cell_type": "markdown",
   "id": "390a4c66",
   "metadata": {
    "papermill": {
     "duration": 0.052507,
     "end_time": "2023-05-24T02:47:51.454690",
     "exception": false,
     "start_time": "2023-05-24T02:47:51.402183",
     "status": "completed"
    },
    "tags": []
   },
   "source": [
    "# Global Setup\n"
   ]
  },
  {
   "cell_type": "code",
   "execution_count": 5,
   "id": "5ae656b8",
   "metadata": {
    "execution": {
     "iopub.execute_input": "2023-05-24T02:47:51.568787Z",
     "iopub.status.busy": "2023-05-24T02:47:51.567506Z",
     "iopub.status.idle": "2023-05-24T02:48:00.243848Z",
     "shell.execute_reply": "2023-05-24T02:48:00.243078Z"
    },
    "papermill": {
     "duration": 8.737973,
     "end_time": "2023-05-24T02:48:00.244037",
     "exception": false,
     "start_time": "2023-05-24T02:47:51.506064",
     "status": "completed"
    },
    "tags": []
   },
   "outputs": [],
   "source": [
    "import copy\n",
    "import math\n",
    "import itertools as it\n",
    "import typing\n",
    "import random\n",
    "\n",
    "import alifedata_phyloinformatics_convert as apc\n",
    "from Bio import Phylo as BioPhylo\n",
    "from deap import algorithms as deap_algorithms\n",
    "from deap import base as deap_base\n",
    "from deap import creator as deap_creator\n",
    "from deap import tools as deap_tools\n",
    "\n",
    "from hstrat import hstrat\n",
    "from iterpop import iterpop as ip\n",
    "from keyname import keyname as kn\n",
    "from matplotlib import pyplot as plt\n",
    "from nbmetalog import nbmetalog as nbm\n",
    "import numpy as np\n",
    "import pandas as pd\n",
    "from scipy import stats as scipy_stats\n",
    "import seaborn as sns\n",
    "import sympy\n",
    "from teeplot import teeplot as tp\n",
    "from tqdm import tqdm\n",
    "\n",
    "import pylib\n"
   ]
  },
  {
   "cell_type": "code",
   "execution_count": 6,
   "id": "930b1cee",
   "metadata": {
    "execution": {
     "iopub.execute_input": "2023-05-24T02:48:00.326340Z",
     "iopub.status.busy": "2023-05-24T02:48:00.325394Z",
     "iopub.status.idle": "2023-05-24T02:48:00.327586Z",
     "shell.execute_reply": "2023-05-24T02:48:00.328966Z"
    },
    "papermill": {
     "duration": 0.047023,
     "end_time": "2023-05-24T02:48:00.329188",
     "exception": false,
     "start_time": "2023-05-24T02:48:00.282165",
     "status": "completed"
    },
    "tags": []
   },
   "outputs": [],
   "source": [
    "random.seed(MILL_REPLICATE)\n"
   ]
  },
  {
   "cell_type": "code",
   "execution_count": 7,
   "id": "2252488a",
   "metadata": {
    "execution": {
     "iopub.execute_input": "2023-05-24T02:48:00.410266Z",
     "iopub.status.busy": "2023-05-24T02:48:00.409315Z",
     "iopub.status.idle": "2023-05-24T02:48:01.908006Z",
     "shell.execute_reply": "2023-05-24T02:48:01.906814Z"
    },
    "papermill": {
     "duration": 1.542144,
     "end_time": "2023-05-24T02:48:01.908199",
     "exception": false,
     "start_time": "2023-05-24T02:48:00.366055",
     "status": "completed"
    },
    "tags": []
   },
   "outputs": [
    {
     "name": "stdout",
     "output_type": "stream",
     "text": [
      "context: local\n",
      "hostname: thinkpad\n",
      "interpreter: 3.10.6 (main, Mar 10 2023, 10:55:28) [GCC 11.3.0]\n",
      "nbcellexec: null\n",
      "nbname: None\n",
      "nbpath: None\n",
      "revision: null\n",
      "session: 49cc63d3-fe00-4d58-b331-cc197ec9127b\n",
      "timestamp: 2023-05-23T19:48:01Z00:00\n",
      "\n",
      "\n"
     ]
    },
    {
     "name": "stdout",
     "output_type": "stream",
     "text": [
      "IPython==7.31.1\n",
      "keyname==0.5.2\n",
      "yaml==6.0\n",
      "Bio==1.79\n",
      "alifedata_phyloinformatics_convert==0.13.0\n",
      "deap==1.3\n",
      "endomill==0.1.3\n",
      "hstrat==1.6.1\n",
      "iterpop==0.4.1\n",
      "matplotlib==3.6.2\n",
      "nbmetalog==0.2.6\n",
      "numpy==1.23.5\n",
      "pandas==1.5.2\n",
      "scipy==1.10.1\n",
      "seaborn==0.12.1\n",
      "sympy==1.9\n",
      "teeplot==0.5.0\n",
      "re==2.2.1\n",
      "debugpy==1.6.6\n",
      "logging==0.5.1.2\n",
      "psutil==5.9.0\n",
      "zmq==22.3.0\n",
      "json==2.0.9\n",
      "ipykernel==6.7.0\n"
     ]
    }
   ],
   "source": [
    "nbm.print_metadata()\n"
   ]
  },
  {
   "cell_type": "markdown",
   "id": "0df24685",
   "metadata": {
    "papermill": {
     "duration": 0.039583,
     "end_time": "2023-05-24T02:48:01.987845",
     "exception": false,
     "start_time": "2023-05-24T02:48:01.948262",
     "status": "completed"
    },
    "tags": []
   },
   "source": [
    "# Parameters\n"
   ]
  },
  {
   "cell_type": "code",
   "execution_count": 8,
   "id": "e2979348",
   "metadata": {
    "execution": {
     "iopub.execute_input": "2023-05-24T02:48:02.072499Z",
     "iopub.status.busy": "2023-05-24T02:48:02.071508Z",
     "iopub.status.idle": "2023-05-24T02:48:02.074729Z",
     "shell.execute_reply": "2023-05-24T02:48:02.075600Z"
    },
    "papermill": {
     "duration": 0.047989,
     "end_time": "2023-05-24T02:48:02.075824",
     "exception": false,
     "start_time": "2023-05-24T02:48:02.027835",
     "status": "completed"
    },
    "tags": []
   },
   "outputs": [],
   "source": [
    "HSTRAT_DIFFERENTIA_WIDTH = 64\n",
    "NGEN = 200\n",
    "NPOP = 100\n",
    "NTOURN = 2\n"
   ]
  },
  {
   "cell_type": "markdown",
   "id": "0866b9a5",
   "metadata": {
    "papermill": {
     "duration": 0.040863,
     "end_time": "2023-05-24T02:48:02.165295",
     "exception": false,
     "start_time": "2023-05-24T02:48:02.124432",
     "status": "completed"
    },
    "tags": []
   },
   "source": [
    "# Setup\n"
   ]
  },
  {
   "cell_type": "code",
   "execution_count": 9,
   "id": "dbbcd20c",
   "metadata": {
    "execution": {
     "iopub.execute_input": "2023-05-24T02:48:02.258357Z",
     "iopub.status.busy": "2023-05-24T02:48:02.257370Z",
     "iopub.status.idle": "2023-05-24T02:48:02.266308Z",
     "shell.execute_reply": "2023-05-24T02:48:02.267480Z"
    },
    "papermill": {
     "duration": 0.061392,
     "end_time": "2023-05-24T02:48:02.267710",
     "exception": false,
     "start_time": "2023-05-24T02:48:02.206318",
     "status": "completed"
    },
    "tags": []
   },
   "outputs": [],
   "source": [
    "deap_creator.create(\"FitnessMax\", deap_base.Fitness, weights=(1.0,))\n",
    "deap_creator.create(\"Individual\", list, fitness=deap_creator.FitnessMax)\n",
    "\n",
    "toolbox = deap_base.Toolbox()\n",
    "\n",
    "toolbox.register(\"attr_bool\", random.randint, 0, 1)\n",
    "toolbox.register(\n",
    "    \"individual\",\n",
    "    deap_tools.initRepeat,\n",
    "    deap_creator.Individual,\n",
    "    toolbox.attr_bool,\n",
    "    n=100,\n",
    ")\n",
    "toolbox.register(\"population\", deap_tools.initRepeat, list, toolbox.individual)\n",
    "\n",
    "\n",
    "def evalOneMax(individual):\n",
    "    return (sum(individual),)\n",
    "\n",
    "\n",
    "toolbox.register(\"evaluate\", evalOneMax)\n",
    "toolbox.register(\"mate\", deap_tools.cxTwoPoint)\n",
    "toolbox.register(\"mutate\", deap_tools.mutFlipBit, indpb=0.05)\n",
    "toolbox.register(\"select\", deap_tools.selTournament, tournsize=NTOURN)\n",
    "\n",
    "# Decorate the variation operators\n",
    "history = deap_tools.History()\n",
    "toolbox.decorate(\"mate\", history.decorator)\n",
    "\n",
    "toolbox.decorate(\"mate\", pylib.deap.hstrat_mate_decorator)\n"
   ]
  },
  {
   "cell_type": "markdown",
   "id": "eb4d9385",
   "metadata": {
    "papermill": {
     "duration": 0.041214,
     "end_time": "2023-05-24T02:48:02.352484",
     "exception": false,
     "start_time": "2023-05-24T02:48:02.311270",
     "status": "completed"
    },
    "tags": []
   },
   "source": [
    "# Evolve\n"
   ]
  },
  {
   "cell_type": "code",
   "execution_count": 10,
   "id": "da1bf22b",
   "metadata": {
    "execution": {
     "iopub.execute_input": "2023-05-24T02:48:02.446309Z",
     "iopub.status.busy": "2023-05-24T02:48:02.445315Z",
     "iopub.status.idle": "2023-05-24T02:58:35.529519Z",
     "shell.execute_reply": "2023-05-24T02:58:35.530523Z"
    },
    "papermill": {
     "duration": 633.137059,
     "end_time": "2023-05-24T02:58:35.530805",
     "exception": false,
     "start_time": "2023-05-24T02:48:02.393746",
     "status": "completed"
    },
    "tags": []
   },
   "outputs": [],
   "source": [
    "# Create the population and populate the history\n",
    "population = toolbox.population(n=NPOP)\n",
    "\n",
    "species_ancestor = hstrat.HereditaryStratigraphicColumn(\n",
    "    stratum_retention_policy=hstrat.perfect_resolution_algo.Policy(),\n",
    "    stratum_differentia_bit_width=HSTRAT_DIFFERENTIA_WIDTH,\n",
    ")\n",
    "gene_ancestor = hstrat.HereditaryStratigraphicColumn(\n",
    "    stratum_retention_policy=hstrat.perfect_resolution_algo.Policy(),\n",
    "    stratum_differentia_bit_width=HSTRAT_DIFFERENTIA_WIDTH,\n",
    "    initial_stratum_annotation=0,\n",
    ")\n",
    "for member in population:\n",
    "    member.species_annotation = species_ancestor.CloneDescendant()\n",
    "    member.gene_annotation = gene_ancestor.CloneDescendant(0)\n",
    "\n",
    "history.update(population)\n",
    "\n",
    "# Do the evolution, the decorators will take care of updating the\n",
    "# history\n",
    "if MILL_TREATMENT_NAME == \"bag\":\n",
    "    for _gen in range(NGEN):\n",
    "        offspring = deap_algorithms.varAnd(\n",
    "            population,\n",
    "            toolbox,\n",
    "            cxpb=1.0,\n",
    "            mutpb=1.0,\n",
    "        )\n",
    "        fits = toolbox.map(toolbox.evaluate, offspring)\n",
    "        for fit, ind in zip(fits, offspring):\n",
    "            ind.fitness.values = fit\n",
    "        population = toolbox.select(offspring, k=NPOP)\n",
    "        population = [copy.deepcopy(ind) for ind in population]\n",
    "\n",
    "elif MILL_TREATMENT_NAME == \"ring\":\n",
    "    NUM_ISLANDS = 10\n",
    "    NUM_MIGRATIONS = 1\n",
    "    slice_size = len(population) // NUM_ISLANDS\n",
    "    for gen in tqdm(range(NGEN)):\n",
    "        for slice_ in pylib.util.iter_slices(len(population), slice_size):\n",
    "            subpopulation = population[slice_]\n",
    "            offspring = deap_algorithms.varAnd(\n",
    "                subpopulation, toolbox, cxpb=1.0, mutpb=1.0\n",
    "            )\n",
    "            fits = toolbox.map(toolbox.evaluate, offspring)\n",
    "            for fit, ind in zip(fits, offspring):\n",
    "                ind.fitness.values = fit\n",
    "            subpopulation = toolbox.select(offspring, k=len(subpopulation))\n",
    "            population[slice_] = [copy.deepcopy(ind) for ind in subpopulation]\n",
    "\n",
    "        for m in range(NUM_MIGRATIONS):\n",
    "            displacement = random.randrange(slice_size, 2 * slice_size)\n",
    "            a = random.randrange(len(population))\n",
    "            b = (a + displacement) % len(population)\n",
    "            population[a], population[b] = population[b], population[a]\n",
    "\n",
    "    from_subpopulations = []\n",
    "    for i in range(0, len(population), slice_size):\n",
    "        subpopulation = population[i : i + slice_size]\n",
    "        from_subpopulations.extend(subpopulation)\n",
    "    population = from_subpopulations\n",
    "\n",
    "elif MILL_TREATMENT_NAME == \"allopatry\":\n",
    "    # sympatry\n",
    "    for gen in tqdm(range(NGEN // 2)):\n",
    "        offspring = deap_algorithms.varAnd(\n",
    "            population, toolbox, cxpb=1.0, mutpb=1.0\n",
    "        )\n",
    "        fits = toolbox.map(toolbox.evaluate, offspring)\n",
    "\n",
    "        for fit, ind in zip(fits, offspring):\n",
    "            ind.fitness.values = fit\n",
    "        population = toolbox.select(offspring, k=len(population))\n",
    "        population = [copy.deepcopy(ind) for ind in population]\n",
    "\n",
    "    # two-island allopatry\n",
    "    slice_size = NPOP // 2\n",
    "    from_subpopulations = []\n",
    "    for i in range(0, len(population), slice_size):\n",
    "        subpopulation = population[i : i + slice_size]\n",
    "        for gen in tqdm(range(NGEN // 4)):\n",
    "            offspring = deap_algorithms.varAnd(\n",
    "                subpopulation, toolbox, cxpb=1.0, mutpb=1.0\n",
    "            )\n",
    "            fits = toolbox.map(toolbox.evaluate, offspring)\n",
    "            for fit, ind in zip(fits, offspring):\n",
    "                ind.fitness.values = fit\n",
    "            subpopulation = toolbox.select(offspring, k=len(subpopulation))\n",
    "            subpopulation = [copy.deepcopy(ind) for ind in subpopulation]\n",
    "\n",
    "        from_subpopulations.extend(subpopulation)\n",
    "    population = from_subpopulations\n",
    "\n",
    "    # three-island allopatry: left island\n",
    "    slice_size = NPOP // 2\n",
    "    from_subpopulations = []\n",
    "    for i in range(0, len(population) // 2, slice_size):\n",
    "        subpopulation = population[i : i + slice_size]\n",
    "        for gen in tqdm(range(NGEN // 4)):\n",
    "            offspring = deap_algorithms.varAnd(\n",
    "                subpopulation, toolbox, cxpb=1.0, mutpb=1.0\n",
    "            )\n",
    "            fits = toolbox.map(toolbox.evaluate, offspring)\n",
    "            for fit, ind in zip(fits, offspring):\n",
    "                ind.fitness.values = fit\n",
    "            subpopulation = toolbox.select(offspring, k=len(subpopulation))\n",
    "            subpopulation = [copy.deepcopy(ind) for ind in subpopulation]\n",
    "\n",
    "        from_subpopulations.extend(subpopulation)\n",
    "\n",
    "    # three-island allopatry: right five islands\n",
    "    slice_size = NPOP // 10\n",
    "    for i in range(len(population) // 2, len(population), slice_size):\n",
    "        subpopulation = population[i : i + slice_size]\n",
    "        for gen in tqdm(range(NGEN // 4)):\n",
    "            offspring = deap_algorithms.varAnd(\n",
    "                subpopulation, toolbox, cxpb=1.0, mutpb=1.0\n",
    "            )\n",
    "            fits = toolbox.map(toolbox.evaluate, offspring)\n",
    "            for fit, ind in zip(fits, offspring):\n",
    "                ind.fitness.values = fit\n",
    "            subpopulation = toolbox.select(offspring, k=len(subpopulation))\n",
    "            subpopulation = [copy.deepcopy(ind) for ind in subpopulation]\n",
    "\n",
    "        from_subpopulations.extend(subpopulation)\n",
    "\n",
    "    population = from_subpopulations\n",
    "\n",
    "else:\n",
    "    assert False, MILL_TREATMENT_NAME\n",
    "\n",
    "# ensure all extant organisms registered with phylogeny tracker\n",
    "for x in population:\n",
    "    history.update([x])\n"
   ]
  },
  {
   "cell_type": "markdown",
   "id": "4309cd56",
   "metadata": {
    "papermill": {
     "duration": 0.051807,
     "end_time": "2023-05-24T02:58:35.635640",
     "exception": false,
     "start_time": "2023-05-24T02:58:35.583833",
     "status": "completed"
    },
    "tags": []
   },
   "source": [
    "# Reconstruction\n"
   ]
  },
  {
   "cell_type": "code",
   "execution_count": 11,
   "id": "0d30679d",
   "metadata": {
    "execution": {
     "iopub.execute_input": "2023-05-24T02:58:35.762787Z",
     "iopub.status.busy": "2023-05-24T02:58:35.757383Z",
     "iopub.status.idle": "2023-05-24T02:58:37.829791Z",
     "shell.execute_reply": "2023-05-24T02:58:37.830711Z"
    },
    "papermill": {
     "duration": 2.142864,
     "end_time": "2023-05-24T02:58:37.830968",
     "exception": false,
     "start_time": "2023-05-24T02:58:35.688104",
     "status": "completed"
    },
    "tags": []
   },
   "outputs": [
    {
     "data": {
      "text/html": [
       "<div>\n",
       "<style scoped>\n",
       "    .dataframe tbody tr th:only-of-type {\n",
       "        vertical-align: middle;\n",
       "    }\n",
       "\n",
       "    .dataframe tbody tr th {\n",
       "        vertical-align: top;\n",
       "    }\n",
       "\n",
       "    .dataframe thead th {\n",
       "        text-align: right;\n",
       "    }\n",
       "</style>\n",
       "<table border=\"1\" class=\"dataframe\">\n",
       "  <thead>\n",
       "    <tr style=\"text-align: right;\">\n",
       "      <th></th>\n",
       "      <th>id</th>\n",
       "      <th>ancestor_list</th>\n",
       "      <th>origin_time</th>\n",
       "      <th>taxon_label</th>\n",
       "      <th>ancestor_id</th>\n",
       "      <th>name</th>\n",
       "    </tr>\n",
       "  </thead>\n",
       "  <tbody>\n",
       "    <tr>\n",
       "      <th>0</th>\n",
       "      <td>0</td>\n",
       "      <td>[none]</td>\n",
       "      <td>0.0</td>\n",
       "      <td>Root</td>\n",
       "      <td>0</td>\n",
       "      <td>Root</td>\n",
       "    </tr>\n",
       "    <tr>\n",
       "      <th>192</th>\n",
       "      <td>192</td>\n",
       "      <td>[0]</td>\n",
       "      <td>191.0</td>\n",
       "      <td>Inner+r=191+d=P8vMgo8uPIV+uid=W2OgOnMkw0ywTnBl...</td>\n",
       "      <td>0</td>\n",
       "      <td>Inner+r=191+d=P8vMgo8uPIV+uid=W2OgOnMkw0ywTnBl...</td>\n",
       "    </tr>\n",
       "    <tr>\n",
       "      <th>197</th>\n",
       "      <td>197</td>\n",
       "      <td>[192]</td>\n",
       "      <td>194.0</td>\n",
       "      <td>Inner+r=194+d=P2A589QfZKu+uid=DuG4zEcDWKJ-uhqd...</td>\n",
       "      <td>192</td>\n",
       "      <td>Inner+r=194+d=P2A589QfZKu+uid=DuG4zEcDWKJ-uhqd...</td>\n",
       "    </tr>\n",
       "    <tr>\n",
       "      <th>200</th>\n",
       "      <td>200</td>\n",
       "      <td>[197]</td>\n",
       "      <td>195.0</td>\n",
       "      <td>Inner+r=195+d=N1-6zkoE4to+uid=BeYnnb4J7dWqUxn0...</td>\n",
       "      <td>197</td>\n",
       "      <td>Inner+r=195+d=N1-6zkoE4to+uid=BeYnnb4J7dWqUxn0...</td>\n",
       "    </tr>\n",
       "    <tr>\n",
       "      <th>202</th>\n",
       "      <td>202</td>\n",
       "      <td>[197]</td>\n",
       "      <td>195.0</td>\n",
       "      <td>Inner+r=195+d=NVzJ-4NYL_5+uid=Da5yCyzwP9Idx6S-...</td>\n",
       "      <td>197</td>\n",
       "      <td>Inner+r=195+d=NVzJ-4NYL_5+uid=Da5yCyzwP9Idx6S-...</td>\n",
       "    </tr>\n",
       "    <tr>\n",
       "      <th>...</th>\n",
       "      <td>...</td>\n",
       "      <td>...</td>\n",
       "      <td>...</td>\n",
       "      <td>...</td>\n",
       "      <td>...</td>\n",
       "      <td>...</td>\n",
       "    </tr>\n",
       "    <tr>\n",
       "      <th>541</th>\n",
       "      <td>541</td>\n",
       "      <td>[212]</td>\n",
       "      <td>201.0</td>\n",
       "      <td>20200</td>\n",
       "      <td>212</td>\n",
       "      <td>20200</td>\n",
       "    </tr>\n",
       "    <tr>\n",
       "      <th>542</th>\n",
       "      <td>542</td>\n",
       "      <td>[345]</td>\n",
       "      <td>201.0</td>\n",
       "      <td>20172</td>\n",
       "      <td>345</td>\n",
       "      <td>20172</td>\n",
       "    </tr>\n",
       "    <tr>\n",
       "      <th>543</th>\n",
       "      <td>543</td>\n",
       "      <td>[345]</td>\n",
       "      <td>201.0</td>\n",
       "      <td>20106</td>\n",
       "      <td>345</td>\n",
       "      <td>20106</td>\n",
       "    </tr>\n",
       "    <tr>\n",
       "      <th>544</th>\n",
       "      <td>544</td>\n",
       "      <td>[345]</td>\n",
       "      <td>201.0</td>\n",
       "      <td>20141</td>\n",
       "      <td>345</td>\n",
       "      <td>20141</td>\n",
       "    </tr>\n",
       "    <tr>\n",
       "      <th>545</th>\n",
       "      <td>545</td>\n",
       "      <td>[345]</td>\n",
       "      <td>201.0</td>\n",
       "      <td>20156</td>\n",
       "      <td>345</td>\n",
       "      <td>20156</td>\n",
       "    </tr>\n",
       "  </tbody>\n",
       "</table>\n",
       "<p>149 rows × 6 columns</p>\n",
       "</div>"
      ],
      "text/plain": [
       "      id ancestor_list  origin_time  \\\n",
       "0      0        [none]          0.0   \n",
       "192  192           [0]        191.0   \n",
       "197  197         [192]        194.0   \n",
       "200  200         [197]        195.0   \n",
       "202  202         [197]        195.0   \n",
       "..   ...           ...          ...   \n",
       "541  541         [212]        201.0   \n",
       "542  542         [345]        201.0   \n",
       "543  543         [345]        201.0   \n",
       "544  544         [345]        201.0   \n",
       "545  545         [345]        201.0   \n",
       "\n",
       "                                           taxon_label  ancestor_id  \\\n",
       "0                                                 Root            0   \n",
       "192  Inner+r=191+d=P8vMgo8uPIV+uid=W2OgOnMkw0ywTnBl...            0   \n",
       "197  Inner+r=194+d=P2A589QfZKu+uid=DuG4zEcDWKJ-uhqd...          192   \n",
       "200  Inner+r=195+d=N1-6zkoE4to+uid=BeYnnb4J7dWqUxn0...          197   \n",
       "202  Inner+r=195+d=NVzJ-4NYL_5+uid=Da5yCyzwP9Idx6S-...          197   \n",
       "..                                                 ...          ...   \n",
       "541                                              20200          212   \n",
       "542                                              20172          345   \n",
       "543                                              20106          345   \n",
       "544                                              20141          345   \n",
       "545                                              20156          345   \n",
       "\n",
       "                                                  name  \n",
       "0                                                 Root  \n",
       "192  Inner+r=191+d=P8vMgo8uPIV+uid=W2OgOnMkw0ywTnBl...  \n",
       "197  Inner+r=194+d=P2A589QfZKu+uid=DuG4zEcDWKJ-uhqd...  \n",
       "200  Inner+r=195+d=N1-6zkoE4to+uid=BeYnnb4J7dWqUxn0...  \n",
       "202  Inner+r=195+d=NVzJ-4NYL_5+uid=Da5yCyzwP9Idx6S-...  \n",
       "..                                                 ...  \n",
       "541                                              20200  \n",
       "542                                              20172  \n",
       "543                                              20106  \n",
       "544                                              20141  \n",
       "545                                              20156  \n",
       "\n",
       "[149 rows x 6 columns]"
      ]
     },
     "execution_count": 11,
     "metadata": {},
     "output_type": "execute_result"
    }
   ],
   "source": [
    "extant_nodes = [individual.history_index for individual in population]\n",
    "reconstructed_df = hstrat.build_tree(\n",
    "    [individual.species_annotation for individual in population],\n",
    "    version_pin=hstrat.__version__,\n",
    "    force_common_ancestry=True,\n",
    "    taxon_labels=map(str, extant_nodes),\n",
    ")\n",
    "reconstructed_df[\"name\"] = reconstructed_df[\"taxon_label\"]\n",
    "reconstructed_df.to_csv(\n",
    "    kn.pack(\n",
    "        {\n",
    "            \"a\": \"phylogeny\",\n",
    "            \"notebook\": \"species-inference\",\n",
    "            \"replicate\": str(MILL_REPLICATE),\n",
    "            \"treatment\": MILL_TREATMENT_NAME,\n",
    "            \"type\": \"reconstruction\",\n",
    "            \"ext\": \".csv\",\n",
    "        }\n",
    "    )\n",
    ")\n",
    "reconstructed_df\n"
   ]
  },
  {
   "cell_type": "code",
   "execution_count": 12,
   "id": "b0c8c5a3",
   "metadata": {
    "execution": {
     "iopub.execute_input": "2023-05-24T02:58:37.956616Z",
     "iopub.status.busy": "2023-05-24T02:58:37.939001Z",
     "iopub.status.idle": "2023-05-24T02:58:41.942289Z",
     "shell.execute_reply": "2023-05-24T02:58:41.943293Z"
    },
    "papermill": {
     "duration": 4.063211,
     "end_time": "2023-05-24T02:58:41.943573",
     "exception": false,
     "start_time": "2023-05-24T02:58:37.880362",
     "status": "completed"
    },
    "tags": []
   },
   "outputs": [
    {
     "name": "stdout",
     "output_type": "stream",
     "text": [
      "teeplots/./notebook=species-inference+replicate=4+treatment=bag+type=reconstruction+viz=draw-biopython-tree+ext=.pdf\n"
     ]
    },
    {
     "name": "stdout",
     "output_type": "stream",
     "text": [
      "teeplots/./notebook=species-inference+replicate=4+treatment=bag+type=reconstruction+viz=draw-biopython-tree+ext=.png\n"
     ]
    },
    {
     "data": {
      "image/png": "[encoded data removed]",
      "text/plain": [
       "<Figure size 468x288 with 1 Axes>"
      ]
     },
     "metadata": {
      "needs_background": "light"
     },
     "output_type": "display_data"
    }
   ],
   "source": [
    "reconstructed_tree = apc.alife_dataframe_to_biopython_tree(\n",
    "    reconstructed_df, setup_branch_lengths=True\n",
    ")\n",
    "BioPhylo.write(\n",
    "    reconstructed_tree,\n",
    "    kn.pack(\n",
    "        {\n",
    "            \"a\": \"phylogeny\",\n",
    "            \"notebook\": \"species-inference\",\n",
    "            \"replicate\": str(MILL_REPLICATE),\n",
    "            \"treatment\": MILL_TREATMENT_NAME,\n",
    "            \"type\": \"reconstruction\",\n",
    "            \"ext\": \".nwk\",\n",
    "        }\n",
    "    ),\n",
    "    'newick',\n",
    ")\n",
    "tp.tee(\n",
    "    pylib.tree.draw_biopython_tree,\n",
    "    reconstructed_tree,\n",
    "    teeplot_outattrs={\n",
    "        \"notebook\": \"species-inference\",\n",
    "        \"replicate\": str(MILL_REPLICATE),\n",
    "        \"treatment\": MILL_TREATMENT_NAME,\n",
    "        \"type\": \"reconstruction\",\n",
    "    },\n",
    ")\n"
   ]
  },
  {
   "cell_type": "code",
   "execution_count": 13,
   "id": "28269ffd",
   "metadata": {
    "execution": {
     "iopub.execute_input": "2023-05-24T02:58:42.088046Z",
     "iopub.status.busy": "2023-05-24T02:58:42.077471Z",
     "iopub.status.idle": "2023-05-24T02:58:44.450035Z",
     "shell.execute_reply": "2023-05-24T02:58:44.451070Z"
    },
    "papermill": {
     "duration": 2.450806,
     "end_time": "2023-05-24T02:58:44.451363",
     "exception": false,
     "start_time": "2023-05-24T02:58:42.000557",
     "status": "completed"
    },
    "tags": []
   },
   "outputs": [
    {
     "name": "stdout",
     "output_type": "stream",
     "text": [
      "teeplots/./drop_overlapping_labels=true+notebook=species-inference+replicate=4+treatment=bag+type=reconstruction+viz=draw-biopython-tree+ext=.pdf\n"
     ]
    },
    {
     "name": "stdout",
     "output_type": "stream",
     "text": [
      "teeplots/./drop_overlapping_labels=true+notebook=species-inference+replicate=4+treatment=bag+type=reconstruction+viz=draw-biopython-tree+ext=.png\n"
     ]
    },
    {
     "data": {
      "image/png": "[encoded data removed]",
      "text/plain": [
       "<Figure size 650x400 with 1 Axes>"
      ]
     },
     "metadata": {},
     "output_type": "display_data"
    }
   ],
   "source": [
    "reconstructed_tree = apc.alife_dataframe_to_biopython_tree(\n",
    "    reconstructed_df, setup_branch_lengths=True\n",
    ")\n",
    "tp.tee(\n",
    "    pylib.tree.draw_biopython_tree,\n",
    "    reconstructed_tree,\n",
    "    drop_overlapping_labels=True,\n",
    "    teeplot_outattrs={\n",
    "        \"drop_overlapping_labels\": \"true\",\n",
    "        \"notebook\": \"species-inference\",\n",
    "        \"replicate\": str(MILL_REPLICATE),\n",
    "        \"treatment\": MILL_TREATMENT_NAME,\n",
    "        \"type\": \"reconstruction\",\n",
    "    },\n",
    ")\n"
   ]
  },
  {
   "cell_type": "code",
   "execution_count": 14,
   "id": "cdbc1413",
   "metadata": {
    "execution": {
     "iopub.execute_input": "2023-05-24T02:58:44.597962Z",
     "iopub.status.busy": "2023-05-24T02:58:44.587716Z",
     "iopub.status.idle": "2023-05-24T02:58:46.465863Z",
     "shell.execute_reply": "2023-05-24T02:58:46.466490Z"
    },
    "papermill": {
     "duration": 1.948896,
     "end_time": "2023-05-24T02:58:46.466683",
     "exception": false,
     "start_time": "2023-05-24T02:58:44.517787",
     "status": "completed"
    },
    "tags": []
   },
   "outputs": [
    {
     "name": "stdout",
     "output_type": "stream",
     "text": [
      "teeplots/./max_leaves=20+notebook=species-inference+replicate=4+treatment=bag+type=reconstruction+viz=draw-biopython-tree+ext=.pdf\n"
     ]
    },
    {
     "name": "stdout",
     "output_type": "stream",
     "text": [
      "teeplots/./max_leaves=20+notebook=species-inference+replicate=4+treatment=bag+type=reconstruction+viz=draw-biopython-tree+ext=.png\n"
     ]
    },
    {
     "data": {
      "image/png": "[encoded data removed]",
      "text/plain": [
       "<Figure size 650x400 with 1 Axes>"
      ]
     },
     "metadata": {},
     "output_type": "display_data"
    }
   ],
   "source": [
    "reconstructed_tree = apc.alife_dataframe_to_biopython_tree(\n",
    "    reconstructed_df, setup_branch_lengths=True\n",
    ")\n",
    "tp.tee(\n",
    "    pylib.tree.draw_biopython_tree,\n",
    "    reconstructed_tree,\n",
    "    max_leaves=20,\n",
    "    teeplot_outattrs={\n",
    "        \"max_leaves\": \"20\",\n",
    "        \"notebook\": \"species-inference\",\n",
    "        \"replicate\": str(MILL_REPLICATE),\n",
    "        \"treatment\": MILL_TREATMENT_NAME,\n",
    "        \"type\": \"reconstruction\",\n",
    "    },\n",
    ")\n"
   ]
  },
  {
   "cell_type": "markdown",
   "id": "a3b1d22f",
   "metadata": {
    "papermill": {
     "duration": 0.06925,
     "end_time": "2023-05-24T02:58:46.607176",
     "exception": false,
     "start_time": "2023-05-24T02:58:46.537926",
     "status": "completed"
    },
    "tags": []
   },
   "source": [
    "# Actual Pedigree\n"
   ]
  },
  {
   "cell_type": "code",
   "execution_count": 15,
   "id": "77d9408a",
   "metadata": {
    "execution": {
     "iopub.execute_input": "2023-05-24T02:58:46.766877Z",
     "iopub.status.busy": "2023-05-24T02:58:46.766082Z",
     "iopub.status.idle": "2023-05-24T02:58:58.555284Z",
     "shell.execute_reply": "2023-05-24T02:58:58.556036Z"
    },
    "papermill": {
     "duration": 11.87588,
     "end_time": "2023-05-24T02:58:58.556259",
     "exception": false,
     "start_time": "2023-05-24T02:58:46.680379",
     "status": "completed"
    },
    "tags": []
   },
   "outputs": [
    {
     "data": {
      "text/plain": [
       "1"
      ]
     },
     "execution_count": 15,
     "metadata": {},
     "output_type": "execute_result"
    }
   ],
   "source": [
    "distilled_tree = pylib.deap.history_to_tree_upgma(history, extant_nodes)\n",
    "BioPhylo.write(\n",
    "    distilled_tree,\n",
    "    kn.pack(\n",
    "        {\n",
    "            \"a\": \"phylogeny\",\n",
    "            \"notebook\": \"species-inference\",\n",
    "            \"replicate\": str(MILL_REPLICATE),\n",
    "            \"treatment\": MILL_TREATMENT_NAME,\n",
    "            \"type\": \"distilled-pedigree\",\n",
    "            \"ext\": \".nwk\",\n",
    "        }\n",
    "    ),\n",
    "    'newick',\n",
    ")\n"
   ]
  },
  {
   "cell_type": "code",
   "execution_count": 16,
   "id": "835c20b3",
   "metadata": {
    "execution": {
     "iopub.execute_input": "2023-05-24T02:58:58.671240Z",
     "iopub.status.busy": "2023-05-24T02:58:58.670370Z",
     "iopub.status.idle": "2023-05-24T02:59:02.058096Z",
     "shell.execute_reply": "2023-05-24T02:59:02.058572Z"
    },
    "papermill": {
     "duration": 3.448608,
     "end_time": "2023-05-24T02:59:02.058718",
     "exception": false,
     "start_time": "2023-05-24T02:58:58.610110",
     "status": "completed"
    },
    "tags": []
   },
   "outputs": [
    {
     "name": "stdout",
     "output_type": "stream",
     "text": [
      "teeplots/./notebook=species-inference+replicate=4+treatment=bag+type=distilled-reference+viz=draw-biopython-tree+ext=.pdf\n"
     ]
    },
    {
     "name": "stdout",
     "output_type": "stream",
     "text": [
      "teeplots/./notebook=species-inference+replicate=4+treatment=bag+type=distilled-reference+viz=draw-biopython-tree+ext=.png\n"
     ]
    },
    {
     "data": {
      "image/png": "[encoded data removed]",
      "text/plain": [
       "<Figure size 650x400 with 1 Axes>"
      ]
     },
     "metadata": {},
     "output_type": "display_data"
    }
   ],
   "source": [
    "tp.tee(\n",
    "    pylib.tree.draw_biopython_tree,\n",
    "    distilled_tree,\n",
    "    teeplot_outattrs={\n",
    "        \"notebook\": \"species-inference\",\n",
    "        \"replicate\": str(MILL_REPLICATE),\n",
    "        \"treatment\": MILL_TREATMENT_NAME,\n",
    "        \"type\": \"distilled-reference\",\n",
    "    },\n",
    ")\n"
   ]
  },
  {
   "cell_type": "code",
   "execution_count": 17,
   "id": "e21f714f",
   "metadata": {
    "execution": {
     "iopub.execute_input": "2023-05-24T02:59:02.138142Z",
     "iopub.status.busy": "2023-05-24T02:59:02.137295Z",
     "iopub.status.idle": "2023-05-24T02:59:03.385926Z",
     "shell.execute_reply": "2023-05-24T02:59:03.386629Z"
    },
    "papermill": {
     "duration": 1.296943,
     "end_time": "2023-05-24T02:59:03.386824",
     "exception": false,
     "start_time": "2023-05-24T02:59:02.089881",
     "status": "completed"
    },
    "tags": []
   },
   "outputs": [
    {
     "name": "stdout",
     "output_type": "stream",
     "text": [
      "teeplots/./max_leaves=20+notebook=species-inference+replicate=4+treatment=bag+type=distilled-reference+viz=draw-biopython-tree+ext=.pdf\n"
     ]
    },
    {
     "name": "stdout",
     "output_type": "stream",
     "text": [
      "teeplots/./max_leaves=20+notebook=species-inference+replicate=4+treatment=bag+type=distilled-reference+viz=draw-biopython-tree+ext=.png\n"
     ]
    },
    {
     "data": {
      "image/png": "[encoded data removed]",
      "text/plain": [
       "<Figure size 650x400 with 1 Axes>"
      ]
     },
     "metadata": {},
     "output_type": "display_data"
    }
   ],
   "source": [
    "tp.tee(\n",
    "    pylib.tree.draw_biopython_tree,\n",
    "    distilled_tree,\n",
    "    max_leaves=20,\n",
    "    teeplot_outattrs={\n",
    "        \"max_leaves\": \"20\",\n",
    "        \"notebook\": \"species-inference\",\n",
    "        \"replicate\": str(MILL_REPLICATE),\n",
    "        \"treatment\": MILL_TREATMENT_NAME,\n",
    "        \"type\": \"distilled-reference\",\n",
    "    },\n",
    ")\n"
   ]
  },
  {
   "cell_type": "code",
   "execution_count": 18,
   "id": "54dc71c9",
   "metadata": {
    "execution": {
     "iopub.execute_input": "2023-05-24T02:59:03.520672Z",
     "iopub.status.busy": "2023-05-24T02:59:03.519828Z",
     "iopub.status.idle": "2023-05-24T02:59:05.394304Z",
     "shell.execute_reply": "2023-05-24T02:59:05.393420Z"
    },
    "papermill": {
     "duration": 1.946844,
     "end_time": "2023-05-24T02:59:05.394505",
     "exception": false,
     "start_time": "2023-05-24T02:59:03.447661",
     "status": "completed"
    },
    "tags": []
   },
   "outputs": [
    {
     "name": "stdout",
     "output_type": "stream",
     "text": [
      "teeplots/./drop_overlapping_labels=true+notebook=species-inference+replicate=4+treatment=bag+type=distilled-reference+viz=draw-biopython-tree+ext=.pdf\n"
     ]
    },
    {
     "name": "stdout",
     "output_type": "stream",
     "text": [
      "teeplots/./drop_overlapping_labels=true+notebook=species-inference+replicate=4+treatment=bag+type=distilled-reference+viz=draw-biopython-tree+ext=.png\n"
     ]
    },
    {
     "data": {
      "image/png": "[encoded data removed]",
      "text/plain": [
       "<Figure size 650x400 with 1 Axes>"
      ]
     },
     "metadata": {},
     "output_type": "display_data"
    }
   ],
   "source": [
    "tp.tee(\n",
    "    pylib.tree.draw_biopython_tree,\n",
    "    distilled_tree,\n",
    "    drop_overlapping_labels=True,\n",
    "    teeplot_outattrs={\n",
    "        \"drop_overlapping_labels\": \"true\",\n",
    "        \"notebook\": \"species-inference\",\n",
    "        \"replicate\": str(MILL_REPLICATE),\n",
    "        \"treatment\": MILL_TREATMENT_NAME,\n",
    "        \"type\": \"distilled-reference\",\n",
    "    },\n",
    ")\n"
   ]
  },
  {
   "cell_type": "code",
   "execution_count": 19,
   "id": "e01157e3",
   "metadata": {
    "execution": {
     "iopub.execute_input": "2023-05-24T02:59:05.544901Z",
     "iopub.status.busy": "2023-05-24T02:59:05.534427Z",
     "iopub.status.idle": "2023-05-24T02:59:14.581832Z",
     "shell.execute_reply": "2023-05-24T02:59:14.582528Z"
    },
    "papermill": {
     "duration": 9.12092,
     "end_time": "2023-05-24T02:59:14.582734",
     "exception": false,
     "start_time": "2023-05-24T02:59:05.461814",
     "status": "completed"
    },
    "tags": []
   },
   "outputs": [
    {
     "data": {
      "text/plain": [
       "0.5457980605550561"
      ]
     },
     "execution_count": 19,
     "metadata": {},
     "output_type": "execute_result"
    }
   ],
   "source": [
    "distilled_tree = pylib.deap.history_to_tree_upgma(\n",
    "    history, extant_nodes, correct_origin_times=False\n",
    ")\n",
    "BioPhylo.write(\n",
    "    distilled_tree,\n",
    "    kn.pack(\n",
    "        {\n",
    "            \"a\": \"phylogeny\",\n",
    "            \"notebook\": \"species-inference\",\n",
    "            \"replicate\": str(MILL_REPLICATE),\n",
    "            \"treatment\": MILL_TREATMENT_NAME,\n",
    "            \"type\": \"distilled-pedigree-uncorrected\",\n",
    "            \"ext\": \".nwk\",\n",
    "        }\n",
    "    ),\n",
    "    'newick',\n",
    ")\n",
    "\n",
    "quartet_dist = pylib.tree.polymorphic_quartet_distance(\n",
    "    reconstructed_tree, distilled_tree\n",
    ")\n",
    "quartet_dist\n"
   ]
  },
  {
   "cell_type": "code",
   "execution_count": 20,
   "id": "af4d82cc",
   "metadata": {
    "execution": {
     "iopub.execute_input": "2023-05-24T02:59:14.695358Z",
     "iopub.status.busy": "2023-05-24T02:59:14.691596Z",
     "iopub.status.idle": "2023-05-24T02:59:14.699029Z",
     "shell.execute_reply": "2023-05-24T02:59:14.698316Z"
    },
    "papermill": {
     "duration": 0.053885,
     "end_time": "2023-05-24T02:59:14.699202",
     "exception": false,
     "start_time": "2023-05-24T02:59:14.645317",
     "status": "completed"
    },
    "tags": []
   },
   "outputs": [
    {
     "data": {
      "text/html": [
       "<div>\n",
       "<style scoped>\n",
       "    .dataframe tbody tr th:only-of-type {\n",
       "        vertical-align: middle;\n",
       "    }\n",
       "\n",
       "    .dataframe tbody tr th {\n",
       "        vertical-align: top;\n",
       "    }\n",
       "\n",
       "    .dataframe thead th {\n",
       "        text-align: right;\n",
       "    }\n",
       "</style>\n",
       "<table border=\"1\" class=\"dataframe\">\n",
       "  <thead>\n",
       "    <tr style=\"text-align: right;\">\n",
       "      <th></th>\n",
       "      <th>replicate</th>\n",
       "      <th>treatment</th>\n",
       "      <th>quartet distance</th>\n",
       "    </tr>\n",
       "  </thead>\n",
       "  <tbody>\n",
       "    <tr>\n",
       "      <th>0</th>\n",
       "      <td>4</td>\n",
       "      <td>bag</td>\n",
       "      <td>0.545798</td>\n",
       "    </tr>\n",
       "  </tbody>\n",
       "</table>\n",
       "</div>"
      ],
      "text/plain": [
       "   replicate treatment  quartet distance\n",
       "0          4       bag          0.545798"
      ]
     },
     "execution_count": 20,
     "metadata": {},
     "output_type": "execute_result"
    }
   ],
   "source": [
    "records = [\n",
    "    {\n",
    "        \"replicate\": MILL_REPLICATE,\n",
    "        \"treatment\": MILL_TREATMENT_NAME,\n",
    "        \"quartet distance\": quartet_dist,\n",
    "    }\n",
    "]\n",
    "outdf = pd.DataFrame.from_records(records)\n",
    "outdf.to_csv(\n",
    "    kn.pack(\n",
    "        {\n",
    "            \"a\": \"reconstruction-accuracy\",\n",
    "            \"notebook\": \"species-inference\",\n",
    "            \"replicate\": MILL_REPLICATE,\n",
    "            \"treatment\": MILL_TREATMENT_NAME,\n",
    "            \"ext\": \".csv\",\n",
    "        }\n",
    "    )\n",
    ")\n",
    "outdf\n"
   ]
  }
 ],
 "metadata": {
  "kernelspec": {
   "display_name": "Python 3",
   "language": "python",
   "name": "python3"
  },
  "language_info": {
   "codemirror_mode": {
    "name": "ipython",
    "version": 3
   },
   "file_extension": ".py",
   "mimetype": "text/x-python",
   "name": "python",
   "nbconvert_exporter": "python",
   "pygments_lexer": "ipython3",
   "version": "3.10.6"
  },
  "papermill": {
   "default_parameters": {},
   "duration": 691.662913,
   "end_time": "2023-05-24T02:59:17.386679",
   "environment_variables": {},
   "exception": null,
   "input_path": "species-inference.ipynb",
   "output_path": "species-inference-parameterization-4.ipynb",
   "parameters": {
    "MILL_REPLICATE": 4,
    "MILL_TREATMENT_NAME": "bag"
   },
   "start_time": "2023-05-24T02:47:45.723766",
   "version": "2.4.0"
  }
 },
 "nbformat": 4,
 "nbformat_minor": 5
}