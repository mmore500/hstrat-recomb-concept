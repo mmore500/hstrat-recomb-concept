{
 "cells": [
  {
   "cell_type": "code",
   "execution_count": 1,
   "id": "560fa936",
   "metadata": {
    "execution": {
     "iopub.execute_input": "2023-05-23T22:55:01.944613Z",
     "iopub.status.busy": "2023-05-23T22:55:01.931583Z",
     "iopub.status.idle": "2023-05-23T22:55:03.247866Z",
     "shell.execute_reply": "2023-05-23T22:55:03.247108Z"
    },
    "papermill": {
     "duration": 1.349398,
     "end_time": "2023-05-23T22:55:03.248028",
     "exception": false,
     "start_time": "2023-05-23T22:55:01.898630",
     "status": "completed"
    },
    "tags": []
   },
   "outputs": [],
   "source": [
    "import endomill\n",
    "import yaml\n"
   ]
  },
  {
   "cell_type": "code",
   "execution_count": 2,
   "id": "6b4bed47",
   "metadata": {
    "execution": {
     "iopub.execute_input": "2023-05-23T22:55:03.284999Z",
     "iopub.status.busy": "2023-05-23T22:55:03.284218Z",
     "iopub.status.idle": "2023-05-23T22:55:03.310945Z",
     "shell.execute_reply": "2023-05-23T22:55:03.323632Z"
    },
    "papermill": {
     "duration": 0.061406,
     "end_time": "2023-05-23T22:55:03.323862",
     "exception": false,
     "start_time": "2023-05-23T22:55:03.262456",
     "status": "completed"
    },
    "tags": []
   },
   "outputs": [],
   "source": [
    "parameter_packs = [\n",
    "    {\n",
    "        \"MILL_FITNESS_ADVANTAGE\": fitness_advantage,\n",
    "        \"MILL_REPLICATE\": replicate,\n",
    "    }\n",
    "    for replicate in range(10)\n",
    "    for fitness_advantage in [0.0, 1.0, 1.0]\n",
    "]\n",
    "\n",
    "for i, pp in enumerate(parameter_packs):\n",
    "    with open(\n",
    "        f\"gene-selection-inference-parameterization-{i}.yaml\", \"w\"\n",
    "    ) as file:\n",
    "        yaml.safe_dump(pp, file)\n",
    "# endomill.instantiate_over(parameter_packs=parameter_packs)\n"
   ]
  },
  {
   "cell_type": "markdown",
   "id": "b05cf18e",
   "metadata": {
    "papermill": {
     "duration": 0.013911,
     "end_time": "2023-05-23T22:55:03.351737",
     "exception": false,
     "start_time": "2023-05-23T22:55:03.337826",
     "status": "completed"
    },
    "tags": []
   },
   "source": [
    "# Papermill Parameters\n"
   ]
  },
  {
   "cell_type": "code",
   "execution_count": 3,
   "id": "9f950f00",
   "metadata": {
    "execution": {
     "iopub.execute_input": "2023-05-23T22:55:03.388720Z",
     "iopub.status.busy": "2023-05-23T22:55:03.387775Z",
     "iopub.status.idle": "2023-05-23T22:55:03.391387Z",
     "shell.execute_reply": "2023-05-23T22:55:03.390348Z"
    },
    "papermill": {
     "duration": 0.025698,
     "end_time": "2023-05-23T22:55:03.391601",
     "exception": false,
     "start_time": "2023-05-23T22:55:03.365903",
     "status": "completed"
    },
    "tags": [
     "parameters"
    ]
   },
   "outputs": [],
   "source": [
    "MILL_FITNESS_ADVANTAGE: float\n",
    "MILL_REPLICATE: int\n"
   ]
  },
  {
   "cell_type": "code",
   "execution_count": 4,
   "id": "25fc17cd",
   "metadata": {
    "execution": {
     "iopub.execute_input": "2023-05-23T22:55:03.464390Z",
     "iopub.status.busy": "2023-05-23T22:55:03.463301Z",
     "iopub.status.idle": "2023-05-23T22:55:03.466299Z",
     "shell.execute_reply": "2023-05-23T22:55:03.465694Z"
    },
    "papermill": {
     "duration": 0.034397,
     "end_time": "2023-05-23T22:55:03.466456",
     "exception": false,
     "start_time": "2023-05-23T22:55:03.432059",
     "status": "completed"
    },
    "tags": [
     "injected-parameters"
    ]
   },
   "outputs": [],
   "source": [
    "# Parameters\n",
    "MILL_FITNESS_ADVANTAGE = 0.0\n",
    "MILL_REPLICATE = 2\n"
   ]
  },
  {
   "cell_type": "code",
   "execution_count": 5,
   "id": "3b6aed51",
   "metadata": {
    "execution": {
     "iopub.execute_input": "2023-05-23T22:55:03.509676Z",
     "iopub.status.busy": "2023-05-23T22:55:03.508525Z",
     "iopub.status.idle": "2023-05-23T22:55:08.317035Z",
     "shell.execute_reply": "2023-05-23T22:55:08.316343Z"
    },
    "papermill": {
     "duration": 4.834113,
     "end_time": "2023-05-23T22:55:08.317185",
     "exception": false,
     "start_time": "2023-05-23T22:55:03.483072",
     "status": "completed"
    },
    "tags": []
   },
   "outputs": [],
   "source": [
    "import copy\n",
    "import random\n",
    "\n",
    "import alifedata_phyloinformatics_convert as apc\n",
    "from deap import algorithms as deap_algorithms\n",
    "from deap import base as deap_base\n",
    "from deap import creator as deap_creator\n",
    "from deap import tools as deap_tools\n",
    "from hstrat import hstrat\n",
    "from keyname import keyname as kn\n",
    "from matplotlib import pyplot as plt\n",
    "import pandas as pd\n",
    "import seaborn as sns\n",
    "from teeplot import teeplot as tp\n",
    "from tqdm import tqdm\n",
    "\n",
    "import pylib\n"
   ]
  },
  {
   "cell_type": "code",
   "execution_count": 6,
   "id": "9b91fe7f",
   "metadata": {
    "execution": {
     "iopub.execute_input": "2023-05-23T22:55:08.352423Z",
     "iopub.status.busy": "2023-05-23T22:55:08.351503Z",
     "iopub.status.idle": "2023-05-23T22:55:08.354653Z",
     "shell.execute_reply": "2023-05-23T22:55:08.353905Z"
    },
    "papermill": {
     "duration": 0.023335,
     "end_time": "2023-05-23T22:55:08.354842",
     "exception": false,
     "start_time": "2023-05-23T22:55:08.331507",
     "status": "completed"
    },
    "tags": []
   },
   "outputs": [],
   "source": [
    "random.seed(MILL_REPLICATE)\n"
   ]
  },
  {
   "cell_type": "markdown",
   "id": "666607af",
   "metadata": {
    "papermill": {
     "duration": 0.017422,
     "end_time": "2023-05-23T22:55:08.386862",
     "exception": false,
     "start_time": "2023-05-23T22:55:08.369440",
     "status": "completed"
    },
    "tags": []
   },
   "source": [
    "# Parameters\n"
   ]
  },
  {
   "cell_type": "code",
   "execution_count": 7,
   "id": "27dc0654",
   "metadata": {
    "execution": {
     "iopub.execute_input": "2023-05-23T22:55:08.427678Z",
     "iopub.status.busy": "2023-05-23T22:55:08.426932Z",
     "iopub.status.idle": "2023-05-23T22:55:08.430585Z",
     "shell.execute_reply": "2023-05-23T22:55:08.429667Z"
    },
    "papermill": {
     "duration": 0.029584,
     "end_time": "2023-05-23T22:55:08.430825",
     "exception": false,
     "start_time": "2023-05-23T22:55:08.401241",
     "status": "completed"
    },
    "tags": []
   },
   "outputs": [],
   "source": [
    "HSTRAT_RESOLUTION = 1000\n",
    "HSTRAT_DIFFERENTIA_WIDTH = 64\n",
    "\n",
    "TOURNAMENT_SIZE = 2\n",
    "\n",
    "NGEN = 200\n",
    "\n",
    "POPULATION_SIZE = 400\n"
   ]
  },
  {
   "cell_type": "markdown",
   "id": "5110a47e",
   "metadata": {
    "papermill": {
     "duration": 0.016042,
     "end_time": "2023-05-23T22:55:08.464212",
     "exception": false,
     "start_time": "2023-05-23T22:55:08.448170",
     "status": "completed"
    },
    "tags": []
   },
   "source": [
    "# Setup\n"
   ]
  },
  {
   "cell_type": "code",
   "execution_count": 8,
   "id": "6cd9c3e1",
   "metadata": {
    "execution": {
     "iopub.execute_input": "2023-05-23T22:55:08.512255Z",
     "iopub.status.busy": "2023-05-23T22:55:08.511477Z",
     "iopub.status.idle": "2023-05-23T22:55:08.514678Z",
     "shell.execute_reply": "2023-05-23T22:55:08.515578Z"
    },
    "papermill": {
     "duration": 0.0359,
     "end_time": "2023-05-23T22:55:08.515837",
     "exception": false,
     "start_time": "2023-05-23T22:55:08.479937",
     "status": "completed"
    },
    "tags": []
   },
   "outputs": [],
   "source": [
    "deap_creator.create(\"FitnessMax\", deap_base.Fitness, weights=(1.0,))\n",
    "deap_creator.create(\"Individual\", list, fitness=deap_creator.FitnessMax)\n",
    "\n",
    "toolbox = deap_base.Toolbox()\n",
    "\n",
    "toolbox.register(\n",
    "    \"individual\",\n",
    "    lambda *args, **kwargs: deap_creator.Individual([0.0]),\n",
    "    deap_creator.Individual,\n",
    "    n=1,\n",
    ")\n",
    "toolbox.register(\"population\", deap_tools.initRepeat, list, toolbox.individual)\n",
    "\n",
    "\n",
    "def evalOneMax(individual):\n",
    "    return (individual[0] + random.random(),)\n",
    "\n",
    "\n",
    "toolbox.register(\"evaluate\", evalOneMax)\n",
    "# hack to ensure gene annotation remains associated with gene\n",
    "toolbox.register(\"mate\", lambda x, y: random.choice([(x, y), (y, x)]))\n",
    "toolbox.register(\"mutate\", lambda x: tuple(x))\n",
    "toolbox.register(\"select\", deap_tools.selTournament, tournsize=TOURNAMENT_SIZE)\n",
    "\n",
    "# Decorate the variation operators\n",
    "toolbox.decorate(\"mate\", pylib.deap.hstrat_mate_decorator)\n"
   ]
  },
  {
   "cell_type": "markdown",
   "id": "cdfb77f4",
   "metadata": {
    "papermill": {
     "duration": 0.018235,
     "end_time": "2023-05-23T22:55:08.552069",
     "exception": false,
     "start_time": "2023-05-23T22:55:08.533834",
     "status": "completed"
    },
    "tags": []
   },
   "source": [
    "# Evolve\n"
   ]
  },
  {
   "cell_type": "code",
   "execution_count": 9,
   "id": "4ddebdbb",
   "metadata": {
    "execution": {
     "iopub.execute_input": "2023-05-23T22:55:08.611854Z",
     "iopub.status.busy": "2023-05-23T22:55:08.600148Z",
     "iopub.status.idle": "2023-05-23T23:03:21.189535Z",
     "shell.execute_reply": "2023-05-23T23:03:21.190240Z"
    },
    "papermill": {
     "duration": 492.620349,
     "end_time": "2023-05-23T23:03:21.190448",
     "exception": false,
     "start_time": "2023-05-23T22:55:08.570099",
     "status": "completed"
    },
    "tags": []
   },
   "outputs": [
    {
     "name": "stderr",
     "output_type": "stream",
     "text": [
      "\r",
      "  0%|                                                                  | 0/200 [00:00<?, ?it/s]"
     ]
    },
    {
     "name": "stderr",
     "output_type": "stream",
     "text": [
      "\r",
      "  0%|▎                                                         | 1/200 [00:01<04:01,  1.21s/it]"
     ]
    },
    {
     "name": "stderr",
     "output_type": "stream",
     "text": [
      "\r",
      "  1%|▌                                                         | 2/200 [00:02<04:08,  1.25s/it]"
     ]
    },
    {
     "name": "stderr",
     "output_type": "stream",
     "text": [
      "\r",
      "  2%|▊                                                         | 3/200 [00:03<03:51,  1.18s/it]"
     ]
    },
    {
     "name": "stderr",
     "output_type": "stream",
     "text": [
      "\r",
      "  2%|█▏                                                        | 4/200 [00:04<04:02,  1.24s/it]"
     ]
    },
    {
     "name": "stderr",
     "output_type": "stream",
     "text": [
      "\r",
      "  2%|█▍                                                        | 5/200 [00:06<04:11,  1.29s/it]"
     ]
    },
    {
     "name": "stderr",
     "output_type": "stream",
     "text": [
      "\r",
      "  3%|█▋                                                        | 6/200 [00:07<04:20,  1.34s/it]"
     ]
    },
    {
     "name": "stderr",
     "output_type": "stream",
     "text": [
      "\r",
      "  4%|██                                                        | 7/200 [00:08<04:10,  1.30s/it]"
     ]
    },
    {
     "name": "stderr",
     "output_type": "stream",
     "text": [
      "\r",
      "  4%|██▎                                                       | 8/200 [00:10<04:20,  1.36s/it]"
     ]
    },
    {
     "name": "stderr",
     "output_type": "stream",
     "text": [
      "\r",
      "  4%|██▌                                                       | 9/200 [00:11<04:04,  1.28s/it]"
     ]
    },
    {
     "name": "stderr",
     "output_type": "stream",
     "text": [
      "\r",
      "  5%|██▊                                                      | 10/200 [00:12<03:39,  1.16s/it]"
     ]
    },
    {
     "name": "stderr",
     "output_type": "stream",
     "text": [
      "\r",
      "  6%|███▏                                                     | 11/200 [00:13<03:12,  1.02s/it]"
     ]
    },
    {
     "name": "stderr",
     "output_type": "stream",
     "text": [
      "\r",
      "  6%|███▍                                                     | 12/200 [00:14<03:04,  1.02it/s]"
     ]
    },
    {
     "name": "stderr",
     "output_type": "stream",
     "text": [
      "\r",
      "  6%|███▋                                                     | 13/200 [00:14<03:02,  1.02it/s]"
     ]
    },
    {
     "name": "stderr",
     "output_type": "stream",
     "text": [
      "\r",
      "  7%|███▉                                                     | 14/200 [00:15<02:56,  1.05it/s]"
     ]
    },
    {
     "name": "stderr",
     "output_type": "stream",
     "text": [
      "\r",
      "  8%|████▎                                                    | 15/200 [00:16<02:57,  1.04it/s]"
     ]
    },
    {
     "name": "stderr",
     "output_type": "stream",
     "text": [
      "\r",
      "  8%|████▌                                                    | 16/200 [00:18<03:22,  1.10s/it]"
     ]
    },
    {
     "name": "stderr",
     "output_type": "stream",
     "text": [
      "\r",
      "  8%|████▊                                                    | 17/200 [00:19<03:43,  1.22s/it]"
     ]
    },
    {
     "name": "stderr",
     "output_type": "stream",
     "text": [
      "\r",
      "  9%|█████▏                                                   | 18/200 [00:20<03:36,  1.19s/it]"
     ]
    },
    {
     "name": "stderr",
     "output_type": "stream",
     "text": [
      "\r",
      " 10%|█████▍                                                   | 19/200 [00:21<03:30,  1.16s/it]"
     ]
    },
    {
     "name": "stderr",
     "output_type": "stream",
     "text": [
      "\r",
      " 10%|█████▋                                                   | 20/200 [00:22<03:13,  1.07s/it]"
     ]
    },
    {
     "name": "stderr",
     "output_type": "stream",
     "text": [
      "\r",
      " 10%|█████▉                                                   | 21/200 [00:24<03:23,  1.14s/it]"
     ]
    },
    {
     "name": "stderr",
     "output_type": "stream",
     "text": [
      "\r",
      " 11%|██████▎                                                  | 22/200 [00:25<03:21,  1.13s/it]"
     ]
    },
    {
     "name": "stderr",
     "output_type": "stream",
     "text": [
      "\r",
      " 12%|██████▌                                                  | 23/200 [00:26<03:42,  1.26s/it]"
     ]
    },
    {
     "name": "stderr",
     "output_type": "stream",
     "text": [
      "\r",
      " 12%|██████▊                                                  | 24/200 [00:28<04:14,  1.45s/it]"
     ]
    },
    {
     "name": "stderr",
     "output_type": "stream",
     "text": [
      "\r",
      " 12%|███████▏                                                 | 25/200 [00:29<03:59,  1.37s/it]"
     ]
    },
    {
     "name": "stderr",
     "output_type": "stream",
     "text": [
      "\r",
      " 13%|███████▍                                                 | 26/200 [00:31<04:06,  1.42s/it]"
     ]
    },
    {
     "name": "stderr",
     "output_type": "stream",
     "text": [
      "\r",
      " 14%|███████▋                                                 | 27/200 [00:32<03:56,  1.37s/it]"
     ]
    },
    {
     "name": "stderr",
     "output_type": "stream",
     "text": [
      "\r",
      " 14%|███████▉                                                 | 28/200 [00:33<03:44,  1.31s/it]"
     ]
    },
    {
     "name": "stderr",
     "output_type": "stream",
     "text": [
      "\r",
      " 14%|████████▎                                                | 29/200 [00:35<04:25,  1.55s/it]"
     ]
    },
    {
     "name": "stderr",
     "output_type": "stream",
     "text": [
      "\r",
      " 15%|████████▌                                                | 30/200 [00:37<04:29,  1.58s/it]"
     ]
    },
    {
     "name": "stderr",
     "output_type": "stream",
     "text": [
      "\r",
      " 16%|████████▊                                                | 31/200 [00:39<04:21,  1.55s/it]"
     ]
    },
    {
     "name": "stderr",
     "output_type": "stream",
     "text": [
      "\r",
      " 16%|█████████                                                | 32/200 [00:40<04:03,  1.45s/it]"
     ]
    },
    {
     "name": "stderr",
     "output_type": "stream",
     "text": [
      "\r",
      " 16%|█████████▍                                               | 33/200 [00:41<03:46,  1.35s/it]"
     ]
    },
    {
     "name": "stderr",
     "output_type": "stream",
     "text": [
      "\r",
      " 17%|█████████▋                                               | 34/200 [00:42<03:46,  1.36s/it]"
     ]
    },
    {
     "name": "stderr",
     "output_type": "stream",
     "text": [
      "\r",
      " 18%|█████████▉                                               | 35/200 [00:44<03:39,  1.33s/it]"
     ]
    },
    {
     "name": "stderr",
     "output_type": "stream",
     "text": [
      "\r",
      " 18%|██████████▎                                              | 36/200 [00:45<03:52,  1.42s/it]"
     ]
    },
    {
     "name": "stderr",
     "output_type": "stream",
     "text": [
      "\r",
      " 18%|██████████▌                                              | 37/200 [00:46<03:44,  1.38s/it]"
     ]
    },
    {
     "name": "stderr",
     "output_type": "stream",
     "text": [
      "\r",
      " 19%|██████████▊                                              | 38/200 [00:48<03:36,  1.34s/it]"
     ]
    },
    {
     "name": "stderr",
     "output_type": "stream",
     "text": [
      "\r",
      " 20%|███████████                                              | 39/200 [00:49<03:33,  1.32s/it]"
     ]
    },
    {
     "name": "stderr",
     "output_type": "stream",
     "text": [
      "\r",
      " 20%|███████████▍                                             | 40/200 [00:51<03:49,  1.43s/it]"
     ]
    },
    {
     "name": "stderr",
     "output_type": "stream",
     "text": [
      "\r",
      " 20%|███████████▋                                             | 41/200 [00:52<03:51,  1.45s/it]"
     ]
    },
    {
     "name": "stderr",
     "output_type": "stream",
     "text": [
      "\r",
      " 21%|███████████▉                                             | 42/200 [00:54<03:45,  1.42s/it]"
     ]
    },
    {
     "name": "stderr",
     "output_type": "stream",
     "text": [
      "\r",
      " 22%|████████████▎                                            | 43/200 [00:55<03:40,  1.40s/it]"
     ]
    },
    {
     "name": "stderr",
     "output_type": "stream",
     "text": [
      "\r",
      " 22%|████████████▌                                            | 44/200 [00:56<03:38,  1.40s/it]"
     ]
    },
    {
     "name": "stderr",
     "output_type": "stream",
     "text": [
      "\r",
      " 22%|████████████▊                                            | 45/200 [00:58<03:38,  1.41s/it]"
     ]
    },
    {
     "name": "stderr",
     "output_type": "stream",
     "text": [
      "\r",
      " 23%|█████████████                                            | 46/200 [00:59<03:37,  1.41s/it]"
     ]
    },
    {
     "name": "stderr",
     "output_type": "stream",
     "text": [
      "\r",
      " 24%|█████████████▍                                           | 47/200 [01:01<03:37,  1.42s/it]"
     ]
    },
    {
     "name": "stderr",
     "output_type": "stream",
     "text": [
      "\r",
      " 24%|█████████████▋                                           | 48/200 [01:02<03:37,  1.43s/it]"
     ]
    },
    {
     "name": "stderr",
     "output_type": "stream",
     "text": [
      "\r",
      " 24%|█████████████▉                                           | 49/200 [01:04<03:38,  1.45s/it]"
     ]
    },
    {
     "name": "stderr",
     "output_type": "stream",
     "text": [
      "\r",
      " 25%|██████████████▎                                          | 50/200 [01:05<03:35,  1.44s/it]"
     ]
    },
    {
     "name": "stderr",
     "output_type": "stream",
     "text": [
      "\r",
      " 26%|██████████████▌                                          | 51/200 [01:06<03:37,  1.46s/it]"
     ]
    },
    {
     "name": "stderr",
     "output_type": "stream",
     "text": [
      "\r",
      " 26%|██████████████▊                                          | 52/200 [01:08<03:38,  1.48s/it]"
     ]
    },
    {
     "name": "stderr",
     "output_type": "stream",
     "text": [
      "\r",
      " 26%|███████████████                                          | 53/200 [01:10<03:42,  1.51s/it]"
     ]
    },
    {
     "name": "stderr",
     "output_type": "stream",
     "text": [
      "\r",
      " 27%|███████████████▍                                         | 54/200 [01:11<03:41,  1.52s/it]"
     ]
    },
    {
     "name": "stderr",
     "output_type": "stream",
     "text": [
      "\r",
      " 28%|███████████████▋                                         | 55/200 [01:13<03:38,  1.50s/it]"
     ]
    },
    {
     "name": "stderr",
     "output_type": "stream",
     "text": [
      "\r",
      " 28%|███████████████▉                                         | 56/200 [01:15<04:08,  1.73s/it]"
     ]
    },
    {
     "name": "stderr",
     "output_type": "stream",
     "text": [
      "\r",
      " 28%|████████████████▏                                        | 57/200 [01:16<04:02,  1.70s/it]"
     ]
    },
    {
     "name": "stderr",
     "output_type": "stream",
     "text": [
      "\r",
      " 29%|████████████████▌                                        | 58/200 [01:18<03:55,  1.66s/it]"
     ]
    },
    {
     "name": "stderr",
     "output_type": "stream",
     "text": [
      "\r",
      " 30%|████████████████▊                                        | 59/200 [01:20<03:53,  1.66s/it]"
     ]
    },
    {
     "name": "stderr",
     "output_type": "stream",
     "text": [
      "\r",
      " 30%|█████████████████                                        | 60/200 [01:21<03:55,  1.68s/it]"
     ]
    },
    {
     "name": "stderr",
     "output_type": "stream",
     "text": [
      "\r",
      " 30%|█████████████████▍                                       | 61/200 [01:23<03:51,  1.67s/it]"
     ]
    },
    {
     "name": "stderr",
     "output_type": "stream",
     "text": [
      "\r",
      " 31%|█████████████████▋                                       | 62/200 [01:25<04:05,  1.78s/it]"
     ]
    },
    {
     "name": "stderr",
     "output_type": "stream",
     "text": [
      "\r",
      " 32%|█████████████████▉                                       | 63/200 [01:28<04:55,  2.15s/it]"
     ]
    },
    {
     "name": "stderr",
     "output_type": "stream",
     "text": [
      "\r",
      " 32%|██████████████████▏                                      | 64/200 [01:31<05:26,  2.40s/it]"
     ]
    },
    {
     "name": "stderr",
     "output_type": "stream",
     "text": [
      "\r",
      " 32%|██████████████████▌                                      | 65/200 [01:33<05:15,  2.34s/it]"
     ]
    },
    {
     "name": "stderr",
     "output_type": "stream",
     "text": [
      "\r",
      " 33%|██████████████████▊                                      | 66/200 [01:35<04:48,  2.16s/it]"
     ]
    },
    {
     "name": "stderr",
     "output_type": "stream",
     "text": [
      "\r",
      " 34%|███████████████████                                      | 67/200 [01:37<04:29,  2.03s/it]"
     ]
    },
    {
     "name": "stderr",
     "output_type": "stream",
     "text": [
      "\r",
      " 34%|███████████████████▍                                     | 68/200 [01:38<04:03,  1.84s/it]"
     ]
    },
    {
     "name": "stderr",
     "output_type": "stream",
     "text": [
      "\r",
      " 34%|███████████████████▋                                     | 69/200 [01:40<03:42,  1.70s/it]"
     ]
    },
    {
     "name": "stderr",
     "output_type": "stream",
     "text": [
      "\r",
      " 35%|███████████████████▉                                     | 70/200 [01:41<03:28,  1.60s/it]"
     ]
    },
    {
     "name": "stderr",
     "output_type": "stream",
     "text": [
      "\r",
      " 36%|████████████████████▏                                    | 71/200 [01:42<03:19,  1.55s/it]"
     ]
    },
    {
     "name": "stderr",
     "output_type": "stream",
     "text": [
      "\r",
      " 36%|████████████████████▌                                    | 72/200 [01:44<03:12,  1.51s/it]"
     ]
    },
    {
     "name": "stderr",
     "output_type": "stream",
     "text": [
      "\r",
      " 36%|████████████████████▊                                    | 73/200 [01:46<03:45,  1.77s/it]"
     ]
    },
    {
     "name": "stderr",
     "output_type": "stream",
     "text": [
      "\r",
      " 37%|█████████████████████                                    | 74/200 [01:48<03:48,  1.82s/it]"
     ]
    },
    {
     "name": "stderr",
     "output_type": "stream",
     "text": [
      "\r",
      " 38%|█████████████████████▍                                   | 75/200 [01:50<03:34,  1.71s/it]"
     ]
    },
    {
     "name": "stderr",
     "output_type": "stream",
     "text": [
      "\r",
      " 38%|█████████████████████▋                                   | 76/200 [01:51<03:23,  1.64s/it]"
     ]
    },
    {
     "name": "stderr",
     "output_type": "stream",
     "text": [
      "\r",
      " 38%|█████████████████████▉                                   | 77/200 [01:52<03:16,  1.60s/it]"
     ]
    },
    {
     "name": "stderr",
     "output_type": "stream",
     "text": [
      "\r",
      " 39%|██████████████████████▏                                  | 78/200 [01:54<03:11,  1.57s/it]"
     ]
    },
    {
     "name": "stderr",
     "output_type": "stream",
     "text": [
      "\r",
      " 40%|██████████████████████▌                                  | 79/200 [01:55<03:07,  1.55s/it]"
     ]
    },
    {
     "name": "stderr",
     "output_type": "stream",
     "text": [
      "\r",
      " 40%|██████████████████████▊                                  | 80/200 [01:57<03:05,  1.55s/it]"
     ]
    },
    {
     "name": "stderr",
     "output_type": "stream",
     "text": [
      "\r",
      " 40%|███████████████████████                                  | 81/200 [01:59<03:05,  1.56s/it]"
     ]
    },
    {
     "name": "stderr",
     "output_type": "stream",
     "text": [
      "\r",
      " 41%|███████████████████████▎                                 | 82/200 [02:01<03:18,  1.68s/it]"
     ]
    },
    {
     "name": "stderr",
     "output_type": "stream",
     "text": [
      "\r",
      " 42%|███████████████████████▋                                 | 83/200 [02:03<03:43,  1.91s/it]"
     ]
    },
    {
     "name": "stderr",
     "output_type": "stream",
     "text": [
      "\r",
      " 42%|███████████████████████▉                                 | 84/200 [02:05<03:57,  2.05s/it]"
     ]
    },
    {
     "name": "stderr",
     "output_type": "stream",
     "text": [
      "\r",
      " 42%|████████████████████████▏                                | 85/200 [02:07<03:42,  1.93s/it]"
     ]
    },
    {
     "name": "stderr",
     "output_type": "stream",
     "text": [
      "\r",
      " 43%|████████████████████████▌                                | 86/200 [02:09<03:30,  1.84s/it]"
     ]
    },
    {
     "name": "stderr",
     "output_type": "stream",
     "text": [
      "\r",
      " 44%|████████████████████████▊                                | 87/200 [02:10<03:20,  1.77s/it]"
     ]
    },
    {
     "name": "stderr",
     "output_type": "stream",
     "text": [
      "\r",
      " 44%|█████████████████████████                                | 88/200 [02:13<03:44,  2.00s/it]"
     ]
    },
    {
     "name": "stderr",
     "output_type": "stream",
     "text": [
      "\r",
      " 44%|█████████████████████████▎                               | 89/200 [02:16<04:06,  2.22s/it]"
     ]
    },
    {
     "name": "stderr",
     "output_type": "stream",
     "text": [
      "\r",
      " 45%|█████████████████████████▋                               | 90/200 [02:17<03:44,  2.04s/it]"
     ]
    },
    {
     "name": "stderr",
     "output_type": "stream",
     "text": [
      "\r",
      " 46%|█████████████████████████▉                               | 91/200 [02:19<03:29,  1.92s/it]"
     ]
    },
    {
     "name": "stderr",
     "output_type": "stream",
     "text": [
      "\r",
      " 46%|██████████████████████████▏                              | 92/200 [02:20<03:18,  1.83s/it]"
     ]
    },
    {
     "name": "stderr",
     "output_type": "stream",
     "text": [
      "\r",
      " 46%|██████████████████████████▌                              | 93/200 [02:23<03:32,  1.99s/it]"
     ]
    },
    {
     "name": "stderr",
     "output_type": "stream",
     "text": [
      "\r",
      " 47%|██████████████████████████▊                              | 94/200 [02:26<04:16,  2.42s/it]"
     ]
    },
    {
     "name": "stderr",
     "output_type": "stream",
     "text": [
      "\r",
      " 48%|███████████████████████████                              | 95/200 [02:29<04:23,  2.51s/it]"
     ]
    },
    {
     "name": "stderr",
     "output_type": "stream",
     "text": [
      "\r",
      " 48%|███████████████████████████▎                             | 96/200 [02:31<04:07,  2.38s/it]"
     ]
    },
    {
     "name": "stderr",
     "output_type": "stream",
     "text": [
      "\r",
      " 48%|███████████████████████████▋                             | 97/200 [02:33<04:05,  2.38s/it]"
     ]
    },
    {
     "name": "stderr",
     "output_type": "stream",
     "text": [
      "\r",
      " 49%|███████████████████████████▉                             | 98/200 [02:36<03:54,  2.30s/it]"
     ]
    },
    {
     "name": "stderr",
     "output_type": "stream",
     "text": [
      "\r",
      " 50%|████████████████████████████▏                            | 99/200 [02:38<03:49,  2.27s/it]"
     ]
    },
    {
     "name": "stderr",
     "output_type": "stream",
     "text": [
      "\r",
      " 50%|████████████████████████████                            | 100/200 [02:40<03:45,  2.25s/it]"
     ]
    },
    {
     "name": "stderr",
     "output_type": "stream",
     "text": [
      "\r",
      " 50%|████████████████████████████▎                           | 101/200 [02:43<03:53,  2.36s/it]"
     ]
    },
    {
     "name": "stderr",
     "output_type": "stream",
     "text": [
      "\r",
      " 51%|████████████████████████████▌                           | 102/200 [02:45<03:49,  2.34s/it]"
     ]
    },
    {
     "name": "stderr",
     "output_type": "stream",
     "text": [
      "\r",
      " 52%|████████████████████████████▊                           | 103/200 [02:48<04:03,  2.51s/it]"
     ]
    },
    {
     "name": "stderr",
     "output_type": "stream",
     "text": [
      "\r",
      " 52%|█████████████████████████████                           | 104/200 [02:50<03:52,  2.42s/it]"
     ]
    },
    {
     "name": "stderr",
     "output_type": "stream",
     "text": [
      "\r",
      " 52%|█████████████████████████████▍                          | 105/200 [02:53<03:54,  2.47s/it]"
     ]
    },
    {
     "name": "stderr",
     "output_type": "stream",
     "text": [
      "\r",
      " 53%|█████████████████████████████▋                          | 106/200 [02:57<04:38,  2.96s/it]"
     ]
    },
    {
     "name": "stderr",
     "output_type": "stream",
     "text": [
      "\r",
      " 54%|█████████████████████████████▉                          | 107/200 [03:01<05:10,  3.34s/it]"
     ]
    },
    {
     "name": "stderr",
     "output_type": "stream",
     "text": [
      "\r",
      " 54%|██████████████████████████████▏                         | 108/200 [03:04<04:57,  3.24s/it]"
     ]
    },
    {
     "name": "stderr",
     "output_type": "stream",
     "text": [
      "\r",
      " 55%|██████████████████████████████▌                         | 109/200 [03:06<04:36,  3.04s/it]"
     ]
    },
    {
     "name": "stderr",
     "output_type": "stream",
     "text": [
      "\r",
      " 55%|██████████████████████████████▊                         | 110/200 [03:09<04:14,  2.83s/it]"
     ]
    },
    {
     "name": "stderr",
     "output_type": "stream",
     "text": [
      "\r",
      " 56%|███████████████████████████████                         | 111/200 [03:13<04:51,  3.28s/it]"
     ]
    },
    {
     "name": "stderr",
     "output_type": "stream",
     "text": [
      "\r",
      " 56%|███████████████████████████████▎                        | 112/200 [03:18<05:18,  3.62s/it]"
     ]
    },
    {
     "name": "stderr",
     "output_type": "stream",
     "text": [
      "\r",
      " 56%|███████████████████████████████▋                        | 113/200 [03:21<04:59,  3.45s/it]"
     ]
    },
    {
     "name": "stderr",
     "output_type": "stream",
     "text": [
      "\r",
      " 57%|███████████████████████████████▉                        | 114/200 [03:23<04:28,  3.12s/it]"
     ]
    },
    {
     "name": "stderr",
     "output_type": "stream",
     "text": [
      "\r",
      " 57%|████████████████████████████████▏                       | 115/200 [03:27<04:58,  3.52s/it]"
     ]
    },
    {
     "name": "stderr",
     "output_type": "stream",
     "text": [
      "\r",
      " 58%|████████████████████████████████▍                       | 116/200 [03:30<04:27,  3.18s/it]"
     ]
    },
    {
     "name": "stderr",
     "output_type": "stream",
     "text": [
      "\r",
      " 58%|████████████████████████████████▊                       | 117/200 [03:32<04:11,  3.04s/it]"
     ]
    },
    {
     "name": "stderr",
     "output_type": "stream",
     "text": [
      "\r",
      " 59%|█████████████████████████████████                       | 118/200 [03:35<03:56,  2.89s/it]"
     ]
    },
    {
     "name": "stderr",
     "output_type": "stream",
     "text": [
      "\r",
      " 60%|█████████████████████████████████▎                      | 119/200 [03:38<03:44,  2.77s/it]"
     ]
    },
    {
     "name": "stderr",
     "output_type": "stream",
     "text": [
      "\r",
      " 60%|█████████████████████████████████▌                      | 120/200 [03:40<03:42,  2.78s/it]"
     ]
    },
    {
     "name": "stderr",
     "output_type": "stream",
     "text": [
      "\r",
      " 60%|█████████████████████████████████▉                      | 121/200 [03:43<03:34,  2.71s/it]"
     ]
    },
    {
     "name": "stderr",
     "output_type": "stream",
     "text": [
      "\r",
      " 61%|██████████████████████████████████▏                     | 122/200 [03:46<03:30,  2.70s/it]"
     ]
    },
    {
     "name": "stderr",
     "output_type": "stream",
     "text": [
      "\r",
      " 62%|██████████████████████████████████▍                     | 123/200 [03:48<03:25,  2.67s/it]"
     ]
    },
    {
     "name": "stderr",
     "output_type": "stream",
     "text": [
      "\r",
      " 62%|██████████████████████████████████▋                     | 124/200 [03:53<04:11,  3.31s/it]"
     ]
    },
    {
     "name": "stderr",
     "output_type": "stream",
     "text": [
      "\r",
      " 62%|███████████████████████████████████                     | 125/200 [03:58<04:41,  3.76s/it]"
     ]
    },
    {
     "name": "stderr",
     "output_type": "stream",
     "text": [
      "\r",
      " 63%|███████████████████████████████████▎                    | 126/200 [04:02<04:44,  3.85s/it]"
     ]
    },
    {
     "name": "stderr",
     "output_type": "stream",
     "text": [
      "\r",
      " 64%|███████████████████████████████████▌                    | 127/200 [04:05<04:20,  3.57s/it]"
     ]
    },
    {
     "name": "stderr",
     "output_type": "stream",
     "text": [
      "\r",
      " 64%|███████████████████████████████████▊                    | 128/200 [04:07<03:57,  3.29s/it]"
     ]
    },
    {
     "name": "stderr",
     "output_type": "stream",
     "text": [
      "\r",
      " 64%|████████████████████████████████████                    | 129/200 [04:10<03:39,  3.10s/it]"
     ]
    },
    {
     "name": "stderr",
     "output_type": "stream",
     "text": [
      "\r",
      " 65%|████████████████████████████████████▍                   | 130/200 [04:13<03:32,  3.04s/it]"
     ]
    },
    {
     "name": "stderr",
     "output_type": "stream",
     "text": [
      "\r",
      " 66%|████████████████████████████████████▋                   | 131/200 [04:16<03:23,  2.95s/it]"
     ]
    },
    {
     "name": "stderr",
     "output_type": "stream",
     "text": [
      "\r",
      " 66%|████████████████████████████████████▉                   | 132/200 [04:19<03:21,  2.97s/it]"
     ]
    },
    {
     "name": "stderr",
     "output_type": "stream",
     "text": [
      "\r",
      " 66%|█████████████████████████████████████▏                  | 133/200 [04:21<03:13,  2.89s/it]"
     ]
    },
    {
     "name": "stderr",
     "output_type": "stream",
     "text": [
      "\r",
      " 67%|█████████████████████████████████████▌                  | 134/200 [04:24<03:08,  2.85s/it]"
     ]
    },
    {
     "name": "stderr",
     "output_type": "stream",
     "text": [
      "\r",
      " 68%|█████████████████████████████████████▊                  | 135/200 [04:27<03:08,  2.90s/it]"
     ]
    },
    {
     "name": "stderr",
     "output_type": "stream",
     "text": [
      "\r",
      " 68%|██████████████████████████████████████                  | 136/200 [04:30<03:03,  2.87s/it]"
     ]
    },
    {
     "name": "stderr",
     "output_type": "stream",
     "text": [
      "\r",
      " 68%|██████████████████████████████████████▎                 | 137/200 [04:33<03:00,  2.86s/it]"
     ]
    },
    {
     "name": "stderr",
     "output_type": "stream",
     "text": [
      "\r",
      " 69%|██████████████████████████████████████▋                 | 138/200 [04:35<02:51,  2.76s/it]"
     ]
    },
    {
     "name": "stderr",
     "output_type": "stream",
     "text": [
      "\r",
      " 70%|██████████████████████████████████████▉                 | 139/200 [04:37<02:36,  2.57s/it]"
     ]
    },
    {
     "name": "stderr",
     "output_type": "stream",
     "text": [
      "\r",
      " 70%|███████████████████████████████████████▏                | 140/200 [04:40<02:31,  2.52s/it]"
     ]
    },
    {
     "name": "stderr",
     "output_type": "stream",
     "text": [
      "\r",
      " 70%|███████████████████████████████████████▍                | 141/200 [04:43<02:45,  2.80s/it]"
     ]
    },
    {
     "name": "stderr",
     "output_type": "stream",
     "text": [
      "\r",
      " 71%|███████████████████████████████████████▊                | 142/200 [04:48<03:08,  3.25s/it]"
     ]
    },
    {
     "name": "stderr",
     "output_type": "stream",
     "text": [
      "\r",
      " 72%|████████████████████████████████████████                | 143/200 [04:51<03:10,  3.34s/it]"
     ]
    },
    {
     "name": "stderr",
     "output_type": "stream",
     "text": [
      "\r",
      " 72%|████████████████████████████████████████▎               | 144/200 [04:53<02:49,  3.02s/it]"
     ]
    },
    {
     "name": "stderr",
     "output_type": "stream",
     "text": [
      "\r",
      " 72%|████████████████████████████████████████▌               | 145/200 [04:56<02:36,  2.84s/it]"
     ]
    },
    {
     "name": "stderr",
     "output_type": "stream",
     "text": [
      "\r",
      " 73%|████████████████████████████████████████▉               | 146/200 [04:58<02:23,  2.66s/it]"
     ]
    },
    {
     "name": "stderr",
     "output_type": "stream",
     "text": [
      "\r",
      " 74%|█████████████████████████████████████████▏              | 147/200 [05:01<02:18,  2.61s/it]"
     ]
    },
    {
     "name": "stderr",
     "output_type": "stream",
     "text": [
      "\r",
      " 74%|█████████████████████████████████████████▍              | 148/200 [05:03<02:10,  2.51s/it]"
     ]
    },
    {
     "name": "stderr",
     "output_type": "stream",
     "text": [
      "\r",
      " 74%|█████████████████████████████████████████▋              | 149/200 [05:07<02:26,  2.87s/it]"
     ]
    },
    {
     "name": "stderr",
     "output_type": "stream",
     "text": [
      "\r",
      " 75%|██████████████████████████████████████████              | 150/200 [05:09<02:19,  2.79s/it]"
     ]
    },
    {
     "name": "stderr",
     "output_type": "stream",
     "text": [
      "\r",
      " 76%|██████████████████████████████████████████▎             | 151/200 [05:12<02:21,  2.88s/it]"
     ]
    },
    {
     "name": "stderr",
     "output_type": "stream",
     "text": [
      "\r",
      " 76%|██████████████████████████████████████████▌             | 152/200 [05:16<02:25,  3.03s/it]"
     ]
    },
    {
     "name": "stderr",
     "output_type": "stream",
     "text": [
      "\r",
      " 76%|██████████████████████████████████████████▊             | 153/200 [05:18<02:12,  2.82s/it]"
     ]
    },
    {
     "name": "stderr",
     "output_type": "stream",
     "text": [
      "\r",
      " 77%|███████████████████████████████████████████             | 154/200 [05:21<02:06,  2.76s/it]"
     ]
    },
    {
     "name": "stderr",
     "output_type": "stream",
     "text": [
      "\r",
      " 78%|███████████████████████████████████████████▍            | 155/200 [05:23<01:58,  2.64s/it]"
     ]
    },
    {
     "name": "stderr",
     "output_type": "stream",
     "text": [
      "\r",
      " 78%|███████████████████████████████████████████▋            | 156/200 [05:26<01:55,  2.63s/it]"
     ]
    },
    {
     "name": "stderr",
     "output_type": "stream",
     "text": [
      "\r",
      " 78%|███████████████████████████████████████████▉            | 157/200 [05:28<01:50,  2.57s/it]"
     ]
    },
    {
     "name": "stderr",
     "output_type": "stream",
     "text": [
      "\r",
      " 79%|████████████████████████████████████████████▏           | 158/200 [05:31<01:49,  2.60s/it]"
     ]
    },
    {
     "name": "stderr",
     "output_type": "stream",
     "text": [
      "\r",
      " 80%|████████████████████████████████████████████▌           | 159/200 [05:33<01:45,  2.56s/it]"
     ]
    },
    {
     "name": "stderr",
     "output_type": "stream",
     "text": [
      "\r",
      " 80%|████████████████████████████████████████████▊           | 160/200 [05:36<01:43,  2.60s/it]"
     ]
    },
    {
     "name": "stderr",
     "output_type": "stream",
     "text": [
      "\r",
      " 80%|█████████████████████████████████████████████           | 161/200 [05:38<01:41,  2.61s/it]"
     ]
    },
    {
     "name": "stderr",
     "output_type": "stream",
     "text": [
      "\r",
      " 81%|█████████████████████████████████████████████▎          | 162/200 [05:42<01:47,  2.82s/it]"
     ]
    },
    {
     "name": "stderr",
     "output_type": "stream",
     "text": [
      "\r",
      " 82%|█████████████████████████████████████████████▋          | 163/200 [05:45<01:47,  2.89s/it]"
     ]
    },
    {
     "name": "stderr",
     "output_type": "stream",
     "text": [
      "\r",
      " 82%|█████████████████████████████████████████████▉          | 164/200 [05:48<01:49,  3.04s/it]"
     ]
    },
    {
     "name": "stderr",
     "output_type": "stream",
     "text": [
      "\r",
      " 82%|██████████████████████████████████████████████▏         | 165/200 [05:51<01:47,  3.07s/it]"
     ]
    },
    {
     "name": "stderr",
     "output_type": "stream",
     "text": [
      "\r",
      " 83%|██████████████████████████████████████████████▍         | 166/200 [05:55<01:47,  3.16s/it]"
     ]
    },
    {
     "name": "stderr",
     "output_type": "stream",
     "text": [
      "\r",
      " 84%|██████████████████████████████████████████████▊         | 167/200 [05:58<01:44,  3.17s/it]"
     ]
    },
    {
     "name": "stderr",
     "output_type": "stream",
     "text": [
      "\r",
      " 84%|███████████████████████████████████████████████         | 168/200 [06:01<01:44,  3.26s/it]"
     ]
    },
    {
     "name": "stderr",
     "output_type": "stream",
     "text": [
      "\r",
      " 84%|███████████████████████████████████████████████▎        | 169/200 [06:05<01:42,  3.31s/it]"
     ]
    },
    {
     "name": "stderr",
     "output_type": "stream",
     "text": [
      "\r",
      " 85%|███████████████████████████████████████████████▌        | 170/200 [06:11<02:07,  4.23s/it]"
     ]
    },
    {
     "name": "stderr",
     "output_type": "stream",
     "text": [
      "\r",
      " 86%|███████████████████████████████████████████████▉        | 171/200 [06:17<02:18,  4.77s/it]"
     ]
    },
    {
     "name": "stderr",
     "output_type": "stream",
     "text": [
      "\r",
      " 86%|████████████████████████████████████████████████▏       | 172/200 [06:24<02:26,  5.24s/it]"
     ]
    },
    {
     "name": "stderr",
     "output_type": "stream",
     "text": [
      "\r",
      " 86%|████████████████████████████████████████████████▍       | 173/200 [06:28<02:18,  5.14s/it]"
     ]
    },
    {
     "name": "stderr",
     "output_type": "stream",
     "text": [
      "\r",
      " 87%|████████████████████████████████████████████████▋       | 174/200 [06:32<02:01,  4.66s/it]"
     ]
    },
    {
     "name": "stderr",
     "output_type": "stream",
     "text": [
      "\r",
      " 88%|█████████████████████████████████████████████████       | 175/200 [06:36<01:47,  4.32s/it]"
     ]
    },
    {
     "name": "stderr",
     "output_type": "stream",
     "text": [
      "\r",
      " 88%|█████████████████████████████████████████████████▎      | 176/200 [06:39<01:36,  4.03s/it]"
     ]
    },
    {
     "name": "stderr",
     "output_type": "stream",
     "text": [
      "\r",
      " 88%|█████████████████████████████████████████████████▌      | 177/200 [06:43<01:35,  4.14s/it]"
     ]
    },
    {
     "name": "stderr",
     "output_type": "stream",
     "text": [
      "\r",
      " 89%|█████████████████████████████████████████████████▊      | 178/200 [06:49<01:44,  4.76s/it]"
     ]
    },
    {
     "name": "stderr",
     "output_type": "stream",
     "text": [
      "\r",
      " 90%|██████████████████████████████████████████████████      | 179/200 [06:56<01:51,  5.31s/it]"
     ]
    },
    {
     "name": "stderr",
     "output_type": "stream",
     "text": [
      "\r",
      " 90%|██████████████████████████████████████████████████▍     | 180/200 [07:01<01:42,  5.11s/it]"
     ]
    },
    {
     "name": "stderr",
     "output_type": "stream",
     "text": [
      "\r",
      " 90%|██████████████████████████████████████████████████▋     | 181/200 [07:04<01:26,  4.57s/it]"
     ]
    },
    {
     "name": "stderr",
     "output_type": "stream",
     "text": [
      "\r",
      " 91%|██████████████████████████████████████████████████▉     | 182/200 [07:08<01:16,  4.26s/it]"
     ]
    },
    {
     "name": "stderr",
     "output_type": "stream",
     "text": [
      "\r",
      " 92%|███████████████████████████████████████████████████▏    | 183/200 [07:11<01:09,  4.07s/it]"
     ]
    },
    {
     "name": "stderr",
     "output_type": "stream",
     "text": [
      "\r",
      " 92%|███████████████████████████████████████████████████▌    | 184/200 [07:15<01:02,  3.89s/it]"
     ]
    },
    {
     "name": "stderr",
     "output_type": "stream",
     "text": [
      "\r",
      " 92%|███████████████████████████████████████████████████▊    | 185/200 [07:18<00:57,  3.82s/it]"
     ]
    },
    {
     "name": "stderr",
     "output_type": "stream",
     "text": [
      "\r",
      " 93%|████████████████████████████████████████████████████    | 186/200 [07:25<01:04,  4.61s/it]"
     ]
    },
    {
     "name": "stderr",
     "output_type": "stream",
     "text": [
      "\r",
      " 94%|████████████████████████████████████████████████████▎   | 187/200 [07:29<00:57,  4.43s/it]"
     ]
    },
    {
     "name": "stderr",
     "output_type": "stream",
     "text": [
      "\r",
      " 94%|████████████████████████████████████████████████████▋   | 188/200 [07:34<00:56,  4.67s/it]"
     ]
    },
    {
     "name": "stderr",
     "output_type": "stream",
     "text": [
      "\r",
      " 94%|████████████████████████████████████████████████████▉   | 189/200 [07:37<00:47,  4.30s/it]"
     ]
    },
    {
     "name": "stderr",
     "output_type": "stream",
     "text": [
      "\r",
      " 95%|█████████████████████████████████████████████████████▏  | 190/200 [07:41<00:41,  4.16s/it]"
     ]
    },
    {
     "name": "stderr",
     "output_type": "stream",
     "text": [
      "\r",
      " 96%|█████████████████████████████████████████████████████▍  | 191/200 [07:45<00:35,  3.95s/it]"
     ]
    },
    {
     "name": "stderr",
     "output_type": "stream",
     "text": [
      "\r",
      " 96%|█████████████████████████████████████████████████████▊  | 192/200 [07:48<00:29,  3.68s/it]"
     ]
    },
    {
     "name": "stderr",
     "output_type": "stream",
     "text": [
      "\r",
      " 96%|██████████████████████████████████████████████████████  | 193/200 [07:51<00:24,  3.57s/it]"
     ]
    },
    {
     "name": "stderr",
     "output_type": "stream",
     "text": [
      "\r",
      " 97%|██████████████████████████████████████████████████████▎ | 194/200 [07:54<00:20,  3.49s/it]"
     ]
    },
    {
     "name": "stderr",
     "output_type": "stream",
     "text": [
      "\r",
      " 98%|██████████████████████████████████████████████████████▌ | 195/200 [07:57<00:16,  3.34s/it]"
     ]
    },
    {
     "name": "stderr",
     "output_type": "stream",
     "text": [
      "\r",
      " 98%|██████████████████████████████████████████████████████▉ | 196/200 [08:00<00:12,  3.19s/it]"
     ]
    },
    {
     "name": "stderr",
     "output_type": "stream",
     "text": [
      "\r",
      " 98%|███████████████████████████████████████████████████████▏| 197/200 [08:03<00:09,  3.14s/it]"
     ]
    },
    {
     "name": "stderr",
     "output_type": "stream",
     "text": [
      "\r",
      " 99%|███████████████████████████████████████████████████████▍| 198/200 [08:06<00:06,  3.10s/it]"
     ]
    },
    {
     "name": "stderr",
     "output_type": "stream",
     "text": [
      "\r",
      "100%|███████████████████████████████████████████████████████▋| 199/200 [08:09<00:03,  3.01s/it]"
     ]
    },
    {
     "name": "stderr",
     "output_type": "stream",
     "text": [
      "\r",
      "100%|████████████████████████████████████████████████████████| 200/200 [08:12<00:00,  2.99s/it]"
     ]
    },
    {
     "name": "stderr",
     "output_type": "stream",
     "text": [
      "\r",
      "100%|████████████████████████████████████████████████████████| 200/200 [08:12<00:00,  2.46s/it]"
     ]
    },
    {
     "name": "stderr",
     "output_type": "stream",
     "text": [
      "\n"
     ]
    }
   ],
   "source": [
    "# Create the population and populate the history\n",
    "population = toolbox.population(n=POPULATION_SIZE)\n",
    "\n",
    "species_ancestor = hstrat.HereditaryStratigraphicColumn(\n",
    "    stratum_retention_policy=hstrat.nominal_resolution_algo.Policy(),\n",
    "    stratum_differentia_bit_width=HSTRAT_DIFFERENTIA_WIDTH,\n",
    ")\n",
    "for member in population:\n",
    "    member.species_annotation = species_ancestor.CloneDescendant()\n",
    "    member.gene_annotation = hstrat.HereditaryStratigraphicColumn(\n",
    "        stratum_retention_policy=hstrat.perfect_resolution_algo.Policy(),\n",
    "        stratum_differentia_bit_width=HSTRAT_DIFFERENTIA_WIDTH,\n",
    "        initial_stratum_annotation=0,\n",
    "    ).CloneDescendant(0)\n",
    "\n",
    "\n",
    "# Do the evolution, the decorators will take care of updating the\n",
    "# history\n",
    "prevalences = []\n",
    "for gen in tqdm(range(NGEN)):\n",
    "    prevalences.append(sum(1 for x in population if x[0] > 0))\n",
    "\n",
    "    offspring = deap_algorithms.varAnd(\n",
    "        population, toolbox, cxpb=1.0, mutpb=0.0\n",
    "    )\n",
    "    fits = toolbox.map(toolbox.evaluate, offspring)\n",
    "    for fit, ind in zip(fits, offspring):\n",
    "        ind.fitness.values = fit\n",
    "    population = toolbox.select(offspring, k=len(population))\n",
    "    population = [copy.deepcopy(ind) for ind in population]\n",
    "\n",
    "    if gen >= NGEN // 4:\n",
    "        if prevalences[-1] == 0:\n",
    "            population[0][0] = MILL_FITNESS_ADVANTAGE\n",
    "\n"
   ]
  },
  {
   "cell_type": "markdown",
   "id": "ea1e0f97",
   "metadata": {
    "papermill": {
     "duration": 0.084394,
     "end_time": "2023-05-23T23:03:21.358658",
     "exception": false,
     "start_time": "2023-05-23T23:03:21.274264",
     "status": "completed"
    },
    "tags": []
   },
   "source": [
    "# Visualization\n"
   ]
  },
  {
   "cell_type": "code",
   "execution_count": 10,
   "id": "89ec407e",
   "metadata": {
    "execution": {
     "iopub.execute_input": "2023-05-23T23:03:21.535704Z",
     "iopub.status.busy": "2023-05-23T23:03:21.533359Z",
     "iopub.status.idle": "2023-05-23T23:03:22.762198Z",
     "shell.execute_reply": "2023-05-23T23:03:22.762892Z"
    },
    "papermill": {
     "duration": 1.323555,
     "end_time": "2023-05-23T23:03:22.763093",
     "exception": false,
     "start_time": "2023-05-23T23:03:21.439538",
     "status": "completed"
    },
    "tags": []
   },
   "outputs": [
    {
     "name": "stdout",
     "output_type": "stream",
     "text": [
      "teeplots/./fitness-advantage=0.0+notebook=gene-selection-inference+replicate=2+viz=plot-sweep-and-annotations+ext=.pdf\n"
     ]
    },
    {
     "name": "stdout",
     "output_type": "stream",
     "text": [
      "teeplots/./fitness-advantage=0.0+notebook=gene-selection-inference+replicate=2+viz=plot-sweep-and-annotations+ext=.png\n"
     ]
    },
    {
     "data": {
      "image/png": "[encoded data removed]",
      "text/plain": [
       "<Figure size 432x288 with 2 Axes>"
      ]
     },
     "metadata": {
      "needs_background": "light"
     },
     "output_type": "display_data"
    }
   ],
   "source": [
    "annotations = [\n",
    "    s.GetAnnotation().bit_count()\n",
    "    for s in population[0].gene_annotation.IterRetainedStrata()\n",
    "]\n",
    "\n",
    "\n",
    "def plot_sweep_and_annotations():\n",
    "    # Create a figure and a single subplot\n",
    "    fig, ax1 = plt.subplots()\n",
    "\n",
    "    # Make the first plot on ax1\n",
    "    sns.lineplot(data=annotations, color=\"b\", ax=ax1)\n",
    "    ax1.set_ylabel(\"Stratum Annotation Bit Count\", color=\"b\")\n",
    "    ax1.tick_params(\"y\", colors=\"b\")\n",
    "\n",
    "    # Create a second axes that shares the same x-axis\n",
    "    ax2 = ax1.twinx()\n",
    "\n",
    "    # Make the second plot on ax2\n",
    "    sns.lineplot(data=prevalences, color=\"r\", ax=ax2)\n",
    "    ax2.set_ylabel(\"Gene Prevalence\", color=\"r\")\n",
    "    ax2.tick_params(\"y\", colors=\"r\")\n",
    "\n",
    "    ax1.set_xlabel(\"Generation\")\n",
    "\n",
    "    fig.tight_layout()  # otherwise the right y-label is slightly clipped\n",
    "\n",
    "\n",
    "tp.tee(\n",
    "    plot_sweep_and_annotations,\n",
    "    teeplot_outattrs={\n",
    "        \"notebook\": \"gene-selection-inference\",\n",
    "        \"replicate\": str(MILL_REPLICATE),\n",
    "        \"fitness-advantage\": str(MILL_FITNESS_ADVANTAGE),\n",
    "    },\n",
    ")\n"
   ]
  },
  {
   "cell_type": "code",
   "execution_count": 11,
   "id": "0f18cf68",
   "metadata": {
    "execution": {
     "iopub.execute_input": "2023-05-23T23:03:22.969639Z",
     "iopub.status.busy": "2023-05-23T23:03:22.963739Z",
     "iopub.status.idle": "2023-05-23T23:03:22.977992Z",
     "shell.execute_reply": "2023-05-23T23:03:22.977443Z"
    },
    "papermill": {
     "duration": 0.113951,
     "end_time": "2023-05-23T23:03:22.978115",
     "exception": false,
     "start_time": "2023-05-23T23:03:22.864164",
     "status": "completed"
    },
    "tags": []
   },
   "outputs": [],
   "source": [
    "records = [\n",
    "    {\n",
    "        \"notebook\": \"gene-selection-inference\",\n",
    "        \"replicate\": MILL_REPLICATE,\n",
    "        \"fitness-advantage\": MILL_FITNESS_ADVANTAGE,\n",
    "        \"generation\": generation,\n",
    "        \"prevalence\": prevalence,\n",
    "        \"annotation\": annotation,\n",
    "    }\n",
    "    for generation, (prevalence, annotation) in enumerate(\n",
    "        zip(prevalences, annotations)\n",
    "    )\n",
    "]\n",
    "outdf = pd.DataFrame.from_records(records)\n",
    "outdf.to_csv(\n",
    "    kn.pack(\n",
    "        {\n",
    "            \"a\": \"prevalence-annotation-by-generation\",\n",
    "            \"notebook\": \"gene-selection-inference\",\n",
    "            \"replicate\": str(MILL_REPLICATE),\n",
    "            \"fitness-advantage\": str(MILL_FITNESS_ADVANTAGE),\n",
    "            \"ext\": \".csv\",\n",
    "        }\n",
    "    )\n",
    ")\n"
   ]
  }
 ],
 "metadata": {
  "kernelspec": {
   "display_name": "Python 3",
   "language": "python",
   "name": "python3"
  },
  "language_info": {
   "codemirror_mode": {
    "name": "ipython",
    "version": 3
   },
   "file_extension": ".py",
   "mimetype": "text/x-python",
   "name": "python",
   "nbconvert_exporter": "python",
   "pygments_lexer": "ipython3",
   "version": "3.10.6"
  },
  "papermill": {
   "default_parameters": {},
   "duration": 505.231102,
   "end_time": "2023-05-23T23:03:24.079407",
   "environment_variables": {},
   "exception": null,
   "input_path": "gene-selection-inference.ipynb",
   "output_path": "gene-selection-inference-parameterization-6.ipynb",
   "parameters": {
    "MILL_FITNESS_ADVANTAGE": 0.0,
    "MILL_REPLICATE": 2
   },
   "start_time": "2023-05-23T22:54:58.848305",
   "version": "2.4.0"
  }
 },
 "nbformat": 4,
 "nbformat_minor": 5
}