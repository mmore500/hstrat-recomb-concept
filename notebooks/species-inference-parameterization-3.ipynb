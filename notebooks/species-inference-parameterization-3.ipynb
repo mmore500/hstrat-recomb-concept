{
 "cells": [
  {
   "cell_type": "code",
   "execution_count": 1,
   "id": "31ba5233",
   "metadata": {
    "execution": {
     "iopub.execute_input": "2023-05-24T02:25:39.233345Z",
     "iopub.status.busy": "2023-05-24T02:25:39.226010Z",
     "iopub.status.idle": "2023-05-24T02:25:41.256669Z",
     "shell.execute_reply": "2023-05-24T02:25:41.258196Z"
    },
    "papermill": {
     "duration": 2.128248,
     "end_time": "2023-05-24T02:25:41.258651",
     "exception": false,
     "start_time": "2023-05-24T02:25:39.130403",
     "status": "completed"
    },
    "tags": []
   },
   "outputs": [],
   "source": [
    "import endomill\n",
    "import yaml\n"
   ]
  },
  {
   "cell_type": "code",
   "execution_count": 2,
   "id": "3e332dab",
   "metadata": {
    "execution": {
     "iopub.execute_input": "2023-05-24T02:25:41.408502Z",
     "iopub.status.busy": "2023-05-24T02:25:41.407093Z",
     "iopub.status.idle": "2023-05-24T02:25:41.440731Z",
     "shell.execute_reply": "2023-05-24T02:25:41.441877Z"
    },
    "papermill": {
     "duration": 0.128383,
     "end_time": "2023-05-24T02:25:41.442203",
     "exception": false,
     "start_time": "2023-05-24T02:25:41.313820",
     "status": "completed"
    },
    "tags": []
   },
   "outputs": [],
   "source": [
    "parameter_packs = [\n",
    "    {\n",
    "        \"MILL_TREATMENT_NAME\": treatment,\n",
    "        \"MILL_REPLICATE\": replicate,\n",
    "    }\n",
    "    for treatment in [\"bag\", \"ring\", \"allopatry\"]\n",
    "    for replicate in range(10)\n",
    "]\n",
    "\n",
    "\n",
    "for i, pp in enumerate(parameter_packs):\n",
    "    with open(f\"species-inference-parameterization-{i}.yaml\", \"w\") as file:\n",
    "        yaml.safe_dump(pp, file)\n",
    "# endomill.instantiate_over(parameter_packs=parameter_packs)\n"
   ]
  },
  {
   "cell_type": "markdown",
   "id": "4a315106",
   "metadata": {
    "papermill": {
     "duration": 0.054467,
     "end_time": "2023-05-24T02:25:41.551015",
     "exception": false,
     "start_time": "2023-05-24T02:25:41.496548",
     "status": "completed"
    },
    "tags": []
   },
   "source": [
    "# Papermill Parameters\n"
   ]
  },
  {
   "cell_type": "code",
   "execution_count": 3,
   "id": "28088c0a",
   "metadata": {
    "execution": {
     "iopub.execute_input": "2023-05-24T02:25:41.681341Z",
     "iopub.status.busy": "2023-05-24T02:25:41.679978Z",
     "iopub.status.idle": "2023-05-24T02:25:41.685690Z",
     "shell.execute_reply": "2023-05-24T02:25:41.686830Z"
    },
    "papermill": {
     "duration": 0.065765,
     "end_time": "2023-05-24T02:25:41.687197",
     "exception": false,
     "start_time": "2023-05-24T02:25:41.621432",
     "status": "completed"
    },
    "tags": [
     "parameters"
    ]
   },
   "outputs": [],
   "source": [
    "MILL_TREATMENT_NAME: str\n",
    "MILL_REPLICATE: int\n"
   ]
  },
  {
   "cell_type": "code",
   "execution_count": 4,
   "id": "f2a50db5",
   "metadata": {
    "execution": {
     "iopub.execute_input": "2023-05-24T02:25:41.807855Z",
     "iopub.status.busy": "2023-05-24T02:25:41.805882Z",
     "iopub.status.idle": "2023-05-24T02:25:41.812724Z",
     "shell.execute_reply": "2023-05-24T02:25:41.811343Z"
    },
    "papermill": {
     "duration": 0.069735,
     "end_time": "2023-05-24T02:25:41.813028",
     "exception": false,
     "start_time": "2023-05-24T02:25:41.743293",
     "status": "completed"
    },
    "tags": [
     "injected-parameters"
    ]
   },
   "outputs": [],
   "source": [
    "# Parameters\n",
    "MILL_REPLICATE = 3\n",
    "MILL_TREATMENT_NAME = \"bag\"\n"
   ]
  },
  {
   "cell_type": "markdown",
   "id": "7031849e",
   "metadata": {
    "papermill": {
     "duration": 0.066702,
     "end_time": "2023-05-24T02:25:41.951406",
     "exception": false,
     "start_time": "2023-05-24T02:25:41.884704",
     "status": "completed"
    },
    "tags": []
   },
   "source": [
    "# Global Setup\n"
   ]
  },
  {
   "cell_type": "code",
   "execution_count": 5,
   "id": "e2f7ba40",
   "metadata": {
    "execution": {
     "iopub.execute_input": "2023-05-24T02:25:42.079690Z",
     "iopub.status.busy": "2023-05-24T02:25:42.078080Z",
     "iopub.status.idle": "2023-05-24T02:25:50.898307Z",
     "shell.execute_reply": "2023-05-24T02:25:50.897239Z"
    },
    "papermill": {
     "duration": 8.890904,
     "end_time": "2023-05-24T02:25:50.898610",
     "exception": false,
     "start_time": "2023-05-24T02:25:42.007706",
     "status": "completed"
    },
    "tags": []
   },
   "outputs": [],
   "source": [
    "import copy\n",
    "import math\n",
    "import itertools as it\n",
    "import typing\n",
    "import random\n",
    "\n",
    "import alifedata_phyloinformatics_convert as apc\n",
    "from Bio import Phylo as BioPhylo\n",
    "from deap import algorithms as deap_algorithms\n",
    "from deap import base as deap_base\n",
    "from deap import creator as deap_creator\n",
    "from deap import tools as deap_tools\n",
    "\n",
    "from hstrat import hstrat\n",
    "from iterpop import iterpop as ip\n",
    "from keyname import keyname as kn\n",
    "from matplotlib import pyplot as plt\n",
    "from nbmetalog import nbmetalog as nbm\n",
    "import numpy as np\n",
    "import pandas as pd\n",
    "from scipy import stats as scipy_stats\n",
    "import seaborn as sns\n",
    "import sympy\n",
    "from teeplot import teeplot as tp\n",
    "from tqdm import tqdm\n",
    "\n",
    "import pylib\n"
   ]
  },
  {
   "cell_type": "code",
   "execution_count": 6,
   "id": "9d0c6bd4",
   "metadata": {
    "execution": {
     "iopub.execute_input": "2023-05-24T02:25:51.032089Z",
     "iopub.status.busy": "2023-05-24T02:25:51.029736Z",
     "iopub.status.idle": "2023-05-24T02:25:51.036494Z",
     "shell.execute_reply": "2023-05-24T02:25:51.038367Z"
    },
    "papermill": {
     "duration": 0.086054,
     "end_time": "2023-05-24T02:25:51.038857",
     "exception": false,
     "start_time": "2023-05-24T02:25:50.952803",
     "status": "completed"
    },
    "tags": []
   },
   "outputs": [],
   "source": [
    "random.seed(MILL_REPLICATE)\n"
   ]
  },
  {
   "cell_type": "code",
   "execution_count": 7,
   "id": "fa1d32e6",
   "metadata": {
    "execution": {
     "iopub.execute_input": "2023-05-24T02:25:51.177439Z",
     "iopub.status.busy": "2023-05-24T02:25:51.176048Z",
     "iopub.status.idle": "2023-05-24T02:25:52.959564Z",
     "shell.execute_reply": "2023-05-24T02:25:52.958287Z"
    },
    "papermill": {
     "duration": 1.863514,
     "end_time": "2023-05-24T02:25:52.959832",
     "exception": false,
     "start_time": "2023-05-24T02:25:51.096318",
     "status": "completed"
    },
    "tags": []
   },
   "outputs": [
    {
     "name": "stdout",
     "output_type": "stream",
     "text": [
      "context: local\n",
      "hostname: thinkpad\n",
      "interpreter: 3.10.6 (main, Mar 10 2023, 10:55:28) [GCC 11.3.0]\n",
      "nbcellexec: null\n",
      "nbname: None\n",
      "nbpath: None\n",
      "revision: null\n",
      "session: 0327dc0f-c477-4abd-b2ac-d84ff91024cb\n",
      "timestamp: 2023-05-23T19:25:51Z00:00\n",
      "\n",
      "\n"
     ]
    },
    {
     "name": "stdout",
     "output_type": "stream",
     "text": [
      "IPython==7.31.1\n",
      "keyname==0.5.2\n",
      "yaml==6.0\n",
      "Bio==1.79\n",
      "alifedata_phyloinformatics_convert==0.13.0\n",
      "deap==1.3\n",
      "endomill==0.1.3\n",
      "hstrat==1.6.1\n",
      "iterpop==0.4.1\n",
      "matplotlib==3.6.2\n",
      "nbmetalog==0.2.6\n",
      "numpy==1.23.5\n",
      "pandas==1.5.2\n",
      "scipy==1.10.1\n",
      "seaborn==0.12.1\n",
      "sympy==1.9\n",
      "teeplot==0.5.0\n",
      "re==2.2.1\n",
      "debugpy==1.6.6\n",
      "logging==0.5.1.2\n",
      "psutil==5.9.0\n",
      "zmq==22.3.0\n",
      "json==2.0.9\n",
      "ipykernel==6.7.0\n"
     ]
    }
   ],
   "source": [
    "nbm.print_metadata()\n"
   ]
  },
  {
   "cell_type": "markdown",
   "id": "6db8188e",
   "metadata": {
    "papermill": {
     "duration": 0.071195,
     "end_time": "2023-05-24T02:25:53.086541",
     "exception": false,
     "start_time": "2023-05-24T02:25:53.015346",
     "status": "completed"
    },
    "tags": []
   },
   "source": [
    "# Parameters\n"
   ]
  },
  {
   "cell_type": "code",
   "execution_count": 8,
   "id": "842934f9",
   "metadata": {
    "execution": {
     "iopub.execute_input": "2023-05-24T02:25:53.269014Z",
     "iopub.status.busy": "2023-05-24T02:25:53.267616Z",
     "iopub.status.idle": "2023-05-24T02:25:53.270495Z",
     "shell.execute_reply": "2023-05-24T02:25:53.271624Z"
    },
    "papermill": {
     "duration": 0.102531,
     "end_time": "2023-05-24T02:25:53.271947",
     "exception": false,
     "start_time": "2023-05-24T02:25:53.169416",
     "status": "completed"
    },
    "tags": []
   },
   "outputs": [],
   "source": [
    "HSTRAT_DIFFERENTIA_WIDTH = 64\n",
    "NGEN = 200\n",
    "NPOP = 100\n",
    "NTOURN = 2\n"
   ]
  },
  {
   "cell_type": "markdown",
   "id": "e7ec71f0",
   "metadata": {
    "papermill": {
     "duration": 0.076218,
     "end_time": "2023-05-24T02:25:53.406946",
     "exception": false,
     "start_time": "2023-05-24T02:25:53.330728",
     "status": "completed"
    },
    "tags": []
   },
   "source": [
    "# Setup\n"
   ]
  },
  {
   "cell_type": "code",
   "execution_count": 9,
   "id": "01475547",
   "metadata": {
    "execution": {
     "iopub.execute_input": "2023-05-24T02:25:53.575432Z",
     "iopub.status.busy": "2023-05-24T02:25:53.574011Z",
     "iopub.status.idle": "2023-05-24T02:25:53.583321Z",
     "shell.execute_reply": "2023-05-24T02:25:53.584598Z"
    },
    "papermill": {
     "duration": 0.101767,
     "end_time": "2023-05-24T02:25:53.584919",
     "exception": false,
     "start_time": "2023-05-24T02:25:53.483152",
     "status": "completed"
    },
    "tags": []
   },
   "outputs": [],
   "source": [
    "deap_creator.create(\"FitnessMax\", deap_base.Fitness, weights=(1.0,))\n",
    "deap_creator.create(\"Individual\", list, fitness=deap_creator.FitnessMax)\n",
    "\n",
    "toolbox = deap_base.Toolbox()\n",
    "\n",
    "toolbox.register(\"attr_bool\", random.randint, 0, 1)\n",
    "toolbox.register(\n",
    "    \"individual\",\n",
    "    deap_tools.initRepeat,\n",
    "    deap_creator.Individual,\n",
    "    toolbox.attr_bool,\n",
    "    n=100,\n",
    ")\n",
    "toolbox.register(\"population\", deap_tools.initRepeat, list, toolbox.individual)\n",
    "\n",
    "\n",
    "def evalOneMax(individual):\n",
    "    return (sum(individual),)\n",
    "\n",
    "\n",
    "toolbox.register(\"evaluate\", evalOneMax)\n",
    "toolbox.register(\"mate\", deap_tools.cxTwoPoint)\n",
    "toolbox.register(\"mutate\", deap_tools.mutFlipBit, indpb=0.05)\n",
    "toolbox.register(\"select\", deap_tools.selTournament, tournsize=NTOURN)\n",
    "\n",
    "# Decorate the variation operators\n",
    "history = deap_tools.History()\n",
    "toolbox.decorate(\"mate\", history.decorator)\n",
    "\n",
    "toolbox.decorate(\"mate\", pylib.deap.hstrat_mate_decorator)\n"
   ]
  },
  {
   "cell_type": "markdown",
   "id": "1ee82cdd",
   "metadata": {
    "papermill": {
     "duration": 0.050701,
     "end_time": "2023-05-24T02:25:53.694837",
     "exception": false,
     "start_time": "2023-05-24T02:25:53.644136",
     "status": "completed"
    },
    "tags": []
   },
   "source": [
    "# Evolve\n"
   ]
  },
  {
   "cell_type": "code",
   "execution_count": 10,
   "id": "26feb197",
   "metadata": {
    "execution": {
     "iopub.execute_input": "2023-05-24T02:25:53.836051Z",
     "iopub.status.busy": "2023-05-24T02:25:53.817494Z",
     "iopub.status.idle": "2023-05-24T02:35:35.399459Z",
     "shell.execute_reply": "2023-05-24T02:35:35.401025Z"
    },
    "papermill": {
     "duration": 581.648476,
     "end_time": "2023-05-24T02:35:35.402692",
     "exception": false,
     "start_time": "2023-05-24T02:25:53.754216",
     "status": "completed"
    },
    "tags": []
   },
   "outputs": [],
   "source": [
    "# Create the population and populate the history\n",
    "population = toolbox.population(n=NPOP)\n",
    "\n",
    "species_ancestor = hstrat.HereditaryStratigraphicColumn(\n",
    "    stratum_retention_policy=hstrat.perfect_resolution_algo.Policy(),\n",
    "    stratum_differentia_bit_width=HSTRAT_DIFFERENTIA_WIDTH,\n",
    ")\n",
    "gene_ancestor = hstrat.HereditaryStratigraphicColumn(\n",
    "    stratum_retention_policy=hstrat.perfect_resolution_algo.Policy(),\n",
    "    stratum_differentia_bit_width=HSTRAT_DIFFERENTIA_WIDTH,\n",
    "    initial_stratum_annotation=0,\n",
    ")\n",
    "for member in population:\n",
    "    member.species_annotation = species_ancestor.CloneDescendant()\n",
    "    member.gene_annotation = gene_ancestor.CloneDescendant(0)\n",
    "\n",
    "history.update(population)\n",
    "\n",
    "# Do the evolution, the decorators will take care of updating the\n",
    "# history\n",
    "if MILL_TREATMENT_NAME == \"bag\":\n",
    "    for _gen in range(NGEN):\n",
    "        offspring = deap_algorithms.varAnd(\n",
    "            population,\n",
    "            toolbox,\n",
    "            cxpb=1.0,\n",
    "            mutpb=1.0,\n",
    "        )\n",
    "        fits = toolbox.map(toolbox.evaluate, offspring)\n",
    "        for fit, ind in zip(fits, offspring):\n",
    "            ind.fitness.values = fit\n",
    "        population = toolbox.select(offspring, k=NPOP)\n",
    "        population = [copy.deepcopy(ind) for ind in population]\n",
    "\n",
    "elif MILL_TREATMENT_NAME == \"ring\":\n",
    "    NUM_ISLANDS = 10\n",
    "    NUM_MIGRATIONS = 1\n",
    "    slice_size = len(population) // NUM_ISLANDS\n",
    "    for gen in tqdm(range(NGEN)):\n",
    "        for slice_ in pylib.util.iter_slices(len(population), slice_size):\n",
    "            subpopulation = population[slice_]\n",
    "            offspring = deap_algorithms.varAnd(\n",
    "                subpopulation, toolbox, cxpb=1.0, mutpb=1.0\n",
    "            )\n",
    "            fits = toolbox.map(toolbox.evaluate, offspring)\n",
    "            for fit, ind in zip(fits, offspring):\n",
    "                ind.fitness.values = fit\n",
    "            subpopulation = toolbox.select(offspring, k=len(subpopulation))\n",
    "            population[slice_] = [copy.deepcopy(ind) for ind in subpopulation]\n",
    "\n",
    "        for m in range(NUM_MIGRATIONS):\n",
    "            displacement = random.randrange(slice_size, 2 * slice_size)\n",
    "            a = random.randrange(len(population))\n",
    "            b = (a + displacement) % len(population)\n",
    "            population[a], population[b] = population[b], population[a]\n",
    "\n",
    "    from_subpopulations = []\n",
    "    for i in range(0, len(population), slice_size):\n",
    "        subpopulation = population[i : i + slice_size]\n",
    "        from_subpopulations.extend(subpopulation)\n",
    "    population = from_subpopulations\n",
    "\n",
    "elif MILL_TREATMENT_NAME == \"allopatry\":\n",
    "    # sympatry\n",
    "    for gen in tqdm(range(NGEN // 2)):\n",
    "        offspring = deap_algorithms.varAnd(\n",
    "            population, toolbox, cxpb=1.0, mutpb=1.0\n",
    "        )\n",
    "        fits = toolbox.map(toolbox.evaluate, offspring)\n",
    "\n",
    "        for fit, ind in zip(fits, offspring):\n",
    "            ind.fitness.values = fit\n",
    "        population = toolbox.select(offspring, k=len(population))\n",
    "        population = [copy.deepcopy(ind) for ind in population]\n",
    "\n",
    "    # two-island allopatry\n",
    "    slice_size = NPOP // 2\n",
    "    from_subpopulations = []\n",
    "    for i in range(0, len(population), slice_size):\n",
    "        subpopulation = population[i : i + slice_size]\n",
    "        for gen in tqdm(range(NGEN // 4)):\n",
    "            offspring = deap_algorithms.varAnd(\n",
    "                subpopulation, toolbox, cxpb=1.0, mutpb=1.0\n",
    "            )\n",
    "            fits = toolbox.map(toolbox.evaluate, offspring)\n",
    "            for fit, ind in zip(fits, offspring):\n",
    "                ind.fitness.values = fit\n",
    "            subpopulation = toolbox.select(offspring, k=len(subpopulation))\n",
    "            subpopulation = [copy.deepcopy(ind) for ind in subpopulation]\n",
    "\n",
    "        from_subpopulations.extend(subpopulation)\n",
    "    population = from_subpopulations\n",
    "\n",
    "    # three-island allopatry: left island\n",
    "    slice_size = NPOP // 2\n",
    "    from_subpopulations = []\n",
    "    for i in range(0, len(population) // 2, slice_size):\n",
    "        subpopulation = population[i : i + slice_size]\n",
    "        for gen in tqdm(range(NGEN // 4)):\n",
    "            offspring = deap_algorithms.varAnd(\n",
    "                subpopulation, toolbox, cxpb=1.0, mutpb=1.0\n",
    "            )\n",
    "            fits = toolbox.map(toolbox.evaluate, offspring)\n",
    "            for fit, ind in zip(fits, offspring):\n",
    "                ind.fitness.values = fit\n",
    "            subpopulation = toolbox.select(offspring, k=len(subpopulation))\n",
    "            subpopulation = [copy.deepcopy(ind) for ind in subpopulation]\n",
    "\n",
    "        from_subpopulations.extend(subpopulation)\n",
    "\n",
    "    # three-island allopatry: right five islands\n",
    "    slice_size = NPOP // 10\n",
    "    for i in range(len(population) // 2, len(population), slice_size):\n",
    "        subpopulation = population[i : i + slice_size]\n",
    "        for gen in tqdm(range(NGEN // 4)):\n",
    "            offspring = deap_algorithms.varAnd(\n",
    "                subpopulation, toolbox, cxpb=1.0, mutpb=1.0\n",
    "            )\n",
    "            fits = toolbox.map(toolbox.evaluate, offspring)\n",
    "            for fit, ind in zip(fits, offspring):\n",
    "                ind.fitness.values = fit\n",
    "            subpopulation = toolbox.select(offspring, k=len(subpopulation))\n",
    "            subpopulation = [copy.deepcopy(ind) for ind in subpopulation]\n",
    "\n",
    "        from_subpopulations.extend(subpopulation)\n",
    "\n",
    "    population = from_subpopulations\n",
    "\n",
    "else:\n",
    "    assert False, MILL_TREATMENT_NAME\n",
    "\n",
    "# ensure all extant organisms registered with phylogeny tracker\n",
    "for x in population:\n",
    "    history.update([x])\n"
   ]
  },
  {
   "cell_type": "markdown",
   "id": "ab040798",
   "metadata": {
    "papermill": {
     "duration": 0.053806,
     "end_time": "2023-05-24T02:35:35.511749",
     "exception": false,
     "start_time": "2023-05-24T02:35:35.457943",
     "status": "completed"
    },
    "tags": []
   },
   "source": [
    "# Reconstruction\n"
   ]
  },
  {
   "cell_type": "code",
   "execution_count": 11,
   "id": "059bf2b2",
   "metadata": {
    "execution": {
     "iopub.execute_input": "2023-05-24T02:35:35.630917Z",
     "iopub.status.busy": "2023-05-24T02:35:35.627943Z",
     "iopub.status.idle": "2023-05-24T02:35:38.230095Z",
     "shell.execute_reply": "2023-05-24T02:35:38.231274Z"
    },
    "papermill": {
     "duration": 2.664966,
     "end_time": "2023-05-24T02:35:38.231611",
     "exception": false,
     "start_time": "2023-05-24T02:35:35.566645",
     "status": "completed"
    },
    "tags": []
   },
   "outputs": [
    {
     "data": {
      "text/html": [
       "<div>\n",
       "<style scoped>\n",
       "    .dataframe tbody tr th:only-of-type {\n",
       "        vertical-align: middle;\n",
       "    }\n",
       "\n",
       "    .dataframe tbody tr th {\n",
       "        vertical-align: top;\n",
       "    }\n",
       "\n",
       "    .dataframe thead th {\n",
       "        text-align: right;\n",
       "    }\n",
       "</style>\n",
       "<table border=\"1\" class=\"dataframe\">\n",
       "  <thead>\n",
       "    <tr style=\"text-align: right;\">\n",
       "      <th></th>\n",
       "      <th>id</th>\n",
       "      <th>ancestor_list</th>\n",
       "      <th>origin_time</th>\n",
       "      <th>taxon_label</th>\n",
       "      <th>ancestor_id</th>\n",
       "      <th>name</th>\n",
       "    </tr>\n",
       "  </thead>\n",
       "  <tbody>\n",
       "    <tr>\n",
       "      <th>0</th>\n",
       "      <td>0</td>\n",
       "      <td>[none]</td>\n",
       "      <td>0.0</td>\n",
       "      <td>Root</td>\n",
       "      <td>0</td>\n",
       "      <td>Root</td>\n",
       "    </tr>\n",
       "    <tr>\n",
       "      <th>188</th>\n",
       "      <td>188</td>\n",
       "      <td>[0]</td>\n",
       "      <td>187.0</td>\n",
       "      <td>Inner+r=187+d=PRgRSZZqryx+uid=CxE3miD_RPZQTXWY...</td>\n",
       "      <td>0</td>\n",
       "      <td>Inner+r=187+d=PRgRSZZqryx+uid=CxE3miD_RPZQTXWY...</td>\n",
       "    </tr>\n",
       "    <tr>\n",
       "      <th>196</th>\n",
       "      <td>196</td>\n",
       "      <td>[188]</td>\n",
       "      <td>191.0</td>\n",
       "      <td>Inner+r=191+d=P9gp0_0gU0R+uid=fLkkM2w8BJmuC7Vx...</td>\n",
       "      <td>188</td>\n",
       "      <td>Inner+r=191+d=P9gp0_0gU0R+uid=fLkkM2w8BJmuC7Vx...</td>\n",
       "    </tr>\n",
       "    <tr>\n",
       "      <th>200</th>\n",
       "      <td>200</td>\n",
       "      <td>[188]</td>\n",
       "      <td>193.0</td>\n",
       "      <td>Inner+r=193+d=PiRRjl0kRle+uid=Dknfa7gDr1BlE2v2...</td>\n",
       "      <td>188</td>\n",
       "      <td>Inner+r=193+d=PiRRjl0kRle+uid=Dknfa7gDr1BlE2v2...</td>\n",
       "    </tr>\n",
       "    <tr>\n",
       "      <th>201</th>\n",
       "      <td>201</td>\n",
       "      <td>[196]</td>\n",
       "      <td>193.0</td>\n",
       "      <td>Inner+r=193+d=PiRRjl0kRle+uid=DPgPdRSLdVQTRvMp...</td>\n",
       "      <td>196</td>\n",
       "      <td>Inner+r=193+d=PiRRjl0kRle+uid=DPgPdRSLdVQTRvMp...</td>\n",
       "    </tr>\n",
       "    <tr>\n",
       "      <th>...</th>\n",
       "      <td>...</td>\n",
       "      <td>...</td>\n",
       "      <td>...</td>\n",
       "      <td>...</td>\n",
       "      <td>...</td>\n",
       "      <td>...</td>\n",
       "    </tr>\n",
       "    <tr>\n",
       "      <th>561</th>\n",
       "      <td>561</td>\n",
       "      <td>[362]</td>\n",
       "      <td>201.0</td>\n",
       "      <td>20157</td>\n",
       "      <td>362</td>\n",
       "      <td>20157</td>\n",
       "    </tr>\n",
       "    <tr>\n",
       "      <th>562</th>\n",
       "      <td>562</td>\n",
       "      <td>[363]</td>\n",
       "      <td>201.0</td>\n",
       "      <td>20162</td>\n",
       "      <td>363</td>\n",
       "      <td>20162</td>\n",
       "    </tr>\n",
       "    <tr>\n",
       "      <th>563</th>\n",
       "      <td>563</td>\n",
       "      <td>[363]</td>\n",
       "      <td>201.0</td>\n",
       "      <td>20167</td>\n",
       "      <td>363</td>\n",
       "      <td>20167</td>\n",
       "    </tr>\n",
       "    <tr>\n",
       "      <th>564</th>\n",
       "      <td>564</td>\n",
       "      <td>[201]</td>\n",
       "      <td>201.0</td>\n",
       "      <td>20166</td>\n",
       "      <td>201</td>\n",
       "      <td>20166</td>\n",
       "    </tr>\n",
       "    <tr>\n",
       "      <th>565</th>\n",
       "      <td>565</td>\n",
       "      <td>[196]</td>\n",
       "      <td>201.0</td>\n",
       "      <td>20148</td>\n",
       "      <td>196</td>\n",
       "      <td>20148</td>\n",
       "    </tr>\n",
       "  </tbody>\n",
       "</table>\n",
       "<p>151 rows × 6 columns</p>\n",
       "</div>"
      ],
      "text/plain": [
       "      id ancestor_list  origin_time  \\\n",
       "0      0        [none]          0.0   \n",
       "188  188           [0]        187.0   \n",
       "196  196         [188]        191.0   \n",
       "200  200         [188]        193.0   \n",
       "201  201         [196]        193.0   \n",
       "..   ...           ...          ...   \n",
       "561  561         [362]        201.0   \n",
       "562  562         [363]        201.0   \n",
       "563  563         [363]        201.0   \n",
       "564  564         [201]        201.0   \n",
       "565  565         [196]        201.0   \n",
       "\n",
       "                                           taxon_label  ancestor_id  \\\n",
       "0                                                 Root            0   \n",
       "188  Inner+r=187+d=PRgRSZZqryx+uid=CxE3miD_RPZQTXWY...            0   \n",
       "196  Inner+r=191+d=P9gp0_0gU0R+uid=fLkkM2w8BJmuC7Vx...          188   \n",
       "200  Inner+r=193+d=PiRRjl0kRle+uid=Dknfa7gDr1BlE2v2...          188   \n",
       "201  Inner+r=193+d=PiRRjl0kRle+uid=DPgPdRSLdVQTRvMp...          196   \n",
       "..                                                 ...          ...   \n",
       "561                                              20157          362   \n",
       "562                                              20162          363   \n",
       "563                                              20167          363   \n",
       "564                                              20166          201   \n",
       "565                                              20148          196   \n",
       "\n",
       "                                                  name  \n",
       "0                                                 Root  \n",
       "188  Inner+r=187+d=PRgRSZZqryx+uid=CxE3miD_RPZQTXWY...  \n",
       "196  Inner+r=191+d=P9gp0_0gU0R+uid=fLkkM2w8BJmuC7Vx...  \n",
       "200  Inner+r=193+d=PiRRjl0kRle+uid=Dknfa7gDr1BlE2v2...  \n",
       "201  Inner+r=193+d=PiRRjl0kRle+uid=DPgPdRSLdVQTRvMp...  \n",
       "..                                                 ...  \n",
       "561                                              20157  \n",
       "562                                              20162  \n",
       "563                                              20167  \n",
       "564                                              20166  \n",
       "565                                              20148  \n",
       "\n",
       "[151 rows x 6 columns]"
      ]
     },
     "execution_count": 11,
     "metadata": {},
     "output_type": "execute_result"
    }
   ],
   "source": [
    "extant_nodes = [individual.history_index for individual in population]\n",
    "reconstructed_df = hstrat.build_tree(\n",
    "    [individual.species_annotation for individual in population],\n",
    "    version_pin=hstrat.__version__,\n",
    "    force_common_ancestry=True,\n",
    "    taxon_labels=map(str, extant_nodes),\n",
    ")\n",
    "reconstructed_df[\"name\"] = reconstructed_df[\"taxon_label\"]\n",
    "reconstructed_df.to_csv(\n",
    "    kn.pack(\n",
    "        {\n",
    "            \"a\": \"phylogeny\",\n",
    "            \"notebook\": \"species-inference\",\n",
    "            \"replicate\": str(MILL_REPLICATE),\n",
    "            \"treatment\": MILL_TREATMENT_NAME,\n",
    "            \"type\": \"reconstruction\",\n",
    "            \"ext\": \".csv\",\n",
    "        }\n",
    "    )\n",
    ")\n",
    "reconstructed_df\n"
   ]
  },
  {
   "cell_type": "code",
   "execution_count": 12,
   "id": "0d5415c0",
   "metadata": {
    "execution": {
     "iopub.execute_input": "2023-05-24T02:35:38.357119Z",
     "iopub.status.busy": "2023-05-24T02:35:38.355669Z",
     "iopub.status.idle": "2023-05-24T02:35:43.065566Z",
     "shell.execute_reply": "2023-05-24T02:35:43.066628Z"
    },
    "papermill": {
     "duration": 4.776124,
     "end_time": "2023-05-24T02:35:43.066929",
     "exception": false,
     "start_time": "2023-05-24T02:35:38.290805",
     "status": "completed"
    },
    "tags": []
   },
   "outputs": [
    {
     "name": "stdout",
     "output_type": "stream",
     "text": [
      "teeplots/./notebook=species-inference+replicate=3+treatment=bag+type=reconstruction+viz=draw-biopython-tree+ext=.pdf\n"
     ]
    },
    {
     "name": "stdout",
     "output_type": "stream",
     "text": [
      "teeplots/./notebook=species-inference+replicate=3+treatment=bag+type=reconstruction+viz=draw-biopython-tree+ext=.png\n"
     ]
    },
    {
     "data": {
      "image/png": "[encoded data removed]",
      "text/plain": [
       "<Figure size 468x288 with 1 Axes>"
      ]
     },
     "metadata": {
      "needs_background": "light"
     },
     "output_type": "display_data"
    }
   ],
   "source": [
    "reconstructed_tree = apc.alife_dataframe_to_biopython_tree(\n",
    "    reconstructed_df, setup_branch_lengths=True\n",
    ")\n",
    "BioPhylo.write(\n",
    "    reconstructed_tree,\n",
    "    kn.pack(\n",
    "        {\n",
    "            \"a\": \"phylogeny\",\n",
    "            \"notebook\": \"species-inference\",\n",
    "            \"replicate\": str(MILL_REPLICATE),\n",
    "            \"treatment\": MILL_TREATMENT_NAME,\n",
    "            \"type\": \"reconstruction\",\n",
    "            \"ext\": \".nwk\",\n",
    "        }\n",
    "    ),\n",
    "    'newick',\n",
    ")\n",
    "tp.tee(\n",
    "    pylib.tree.draw_biopython_tree,\n",
    "    reconstructed_tree,\n",
    "    teeplot_outattrs={\n",
    "        \"notebook\": \"species-inference\",\n",
    "        \"replicate\": str(MILL_REPLICATE),\n",
    "        \"treatment\": MILL_TREATMENT_NAME,\n",
    "        \"type\": \"reconstruction\",\n",
    "    },\n",
    ")\n"
   ]
  },
  {
   "cell_type": "code",
   "execution_count": 13,
   "id": "91af2693",
   "metadata": {
    "execution": {
     "iopub.execute_input": "2023-05-24T02:35:43.210691Z",
     "iopub.status.busy": "2023-05-24T02:35:43.205880Z",
     "iopub.status.idle": "2023-05-24T02:35:46.424925Z",
     "shell.execute_reply": "2023-05-24T02:35:46.425655Z"
    },
    "papermill": {
     "duration": 3.294965,
     "end_time": "2023-05-24T02:35:46.425879",
     "exception": false,
     "start_time": "2023-05-24T02:35:43.130914",
     "status": "completed"
    },
    "tags": []
   },
   "outputs": [
    {
     "name": "stdout",
     "output_type": "stream",
     "text": [
      "teeplots/./drop_overlapping_labels=true+notebook=species-inference+replicate=3+treatment=bag+type=reconstruction+viz=draw-biopython-tree+ext=.pdf\n"
     ]
    },
    {
     "name": "stdout",
     "output_type": "stream",
     "text": [
      "teeplots/./drop_overlapping_labels=true+notebook=species-inference+replicate=3+treatment=bag+type=reconstruction+viz=draw-biopython-tree+ext=.png\n"
     ]
    },
    {
     "data": {
      "image/png": "[encoded data removed]",
      "text/plain": [
       "<Figure size 650x400 with 1 Axes>"
      ]
     },
     "metadata": {},
     "output_type": "display_data"
    }
   ],
   "source": [
    "reconstructed_tree = apc.alife_dataframe_to_biopython_tree(\n",
    "    reconstructed_df, setup_branch_lengths=True\n",
    ")\n",
    "tp.tee(\n",
    "    pylib.tree.draw_biopython_tree,\n",
    "    reconstructed_tree,\n",
    "    drop_overlapping_labels=True,\n",
    "    teeplot_outattrs={\n",
    "        \"drop_overlapping_labels\": \"true\",\n",
    "        \"notebook\": \"species-inference\",\n",
    "        \"replicate\": str(MILL_REPLICATE),\n",
    "        \"treatment\": MILL_TREATMENT_NAME,\n",
    "        \"type\": \"reconstruction\",\n",
    "    },\n",
    ")\n"
   ]
  },
  {
   "cell_type": "code",
   "execution_count": 14,
   "id": "c1da692f",
   "metadata": {
    "execution": {
     "iopub.execute_input": "2023-05-24T02:35:46.592436Z",
     "iopub.status.busy": "2023-05-24T02:35:46.590976Z",
     "iopub.status.idle": "2023-05-24T02:35:48.566613Z",
     "shell.execute_reply": "2023-05-24T02:35:48.568744Z"
    },
    "papermill": {
     "duration": 2.096566,
     "end_time": "2023-05-24T02:35:48.569081",
     "exception": false,
     "start_time": "2023-05-24T02:35:46.472515",
     "status": "completed"
    },
    "tags": []
   },
   "outputs": [
    {
     "name": "stdout",
     "output_type": "stream",
     "text": [
      "teeplots/./max_leaves=20+notebook=species-inference+replicate=3+treatment=bag+type=reconstruction+viz=draw-biopython-tree+ext=.pdf\n"
     ]
    },
    {
     "name": "stdout",
     "output_type": "stream",
     "text": [
      "teeplots/./max_leaves=20+notebook=species-inference+replicate=3+treatment=bag+type=reconstruction+viz=draw-biopython-tree+ext=.png\n"
     ]
    },
    {
     "data": {
      "image/png": "[encoded data removed]",
      "text/plain": [
       "<Figure size 650x400 with 1 Axes>"
      ]
     },
     "metadata": {},
     "output_type": "display_data"
    }
   ],
   "source": [
    "reconstructed_tree = apc.alife_dataframe_to_biopython_tree(\n",
    "    reconstructed_df, setup_branch_lengths=True\n",
    ")\n",
    "tp.tee(\n",
    "    pylib.tree.draw_biopython_tree,\n",
    "    reconstructed_tree,\n",
    "    max_leaves=20,\n",
    "    teeplot_outattrs={\n",
    "        \"max_leaves\": \"20\",\n",
    "        \"notebook\": \"species-inference\",\n",
    "        \"replicate\": str(MILL_REPLICATE),\n",
    "        \"treatment\": MILL_TREATMENT_NAME,\n",
    "        \"type\": \"reconstruction\",\n",
    "    },\n",
    ")\n"
   ]
  },
  {
   "cell_type": "markdown",
   "id": "63a03961",
   "metadata": {
    "papermill": {
     "duration": 0.087432,
     "end_time": "2023-05-24T02:35:48.736166",
     "exception": false,
     "start_time": "2023-05-24T02:35:48.648734",
     "status": "completed"
    },
    "tags": []
   },
   "source": [
    "# Actual Pedigree\n"
   ]
  },
  {
   "cell_type": "code",
   "execution_count": 15,
   "id": "86da336d",
   "metadata": {
    "execution": {
     "iopub.execute_input": "2023-05-24T02:35:48.939555Z",
     "iopub.status.busy": "2023-05-24T02:35:48.938041Z",
     "iopub.status.idle": "2023-05-24T02:36:08.726376Z",
     "shell.execute_reply": "2023-05-24T02:36:08.727478Z"
    },
    "papermill": {
     "duration": 19.90469,
     "end_time": "2023-05-24T02:36:08.727807",
     "exception": false,
     "start_time": "2023-05-24T02:35:48.823117",
     "status": "completed"
    },
    "tags": []
   },
   "outputs": [
    {
     "data": {
      "text/plain": [
       "1"
      ]
     },
     "execution_count": 15,
     "metadata": {},
     "output_type": "execute_result"
    }
   ],
   "source": [
    "distilled_tree = pylib.deap.history_to_tree_upgma(history, extant_nodes)\n",
    "BioPhylo.write(\n",
    "    distilled_tree,\n",
    "    kn.pack(\n",
    "        {\n",
    "            \"a\": \"phylogeny\",\n",
    "            \"notebook\": \"species-inference\",\n",
    "            \"replicate\": str(MILL_REPLICATE),\n",
    "            \"treatment\": MILL_TREATMENT_NAME,\n",
    "            \"type\": \"distilled-pedigree\",\n",
    "            \"ext\": \".nwk\",\n",
    "        }\n",
    "    ),\n",
    "    'newick',\n",
    ")\n"
   ]
  },
  {
   "cell_type": "code",
   "execution_count": 16,
   "id": "f40ee25f",
   "metadata": {
    "execution": {
     "iopub.execute_input": "2023-05-24T02:36:08.905441Z",
     "iopub.status.busy": "2023-05-24T02:36:08.899942Z",
     "iopub.status.idle": "2023-05-24T02:36:14.338085Z",
     "shell.execute_reply": "2023-05-24T02:36:14.339154Z"
    },
    "papermill": {
     "duration": 5.528148,
     "end_time": "2023-05-24T02:36:14.339456",
     "exception": false,
     "start_time": "2023-05-24T02:36:08.811308",
     "status": "completed"
    },
    "tags": []
   },
   "outputs": [
    {
     "name": "stdout",
     "output_type": "stream",
     "text": [
      "teeplots/./notebook=species-inference+replicate=3+treatment=bag+type=distilled-reference+viz=draw-biopython-tree+ext=.pdf\n"
     ]
    },
    {
     "name": "stdout",
     "output_type": "stream",
     "text": [
      "teeplots/./notebook=species-inference+replicate=3+treatment=bag+type=distilled-reference+viz=draw-biopython-tree+ext=.png\n"
     ]
    },
    {
     "data": {
      "image/png": "[encoded data removed]",
      "text/plain": [
       "<Figure size 650x400 with 1 Axes>"
      ]
     },
     "metadata": {},
     "output_type": "display_data"
    }
   ],
   "source": [
    "tp.tee(\n",
    "    pylib.tree.draw_biopython_tree,\n",
    "    distilled_tree,\n",
    "    teeplot_outattrs={\n",
    "        \"notebook\": \"species-inference\",\n",
    "        \"replicate\": str(MILL_REPLICATE),\n",
    "        \"treatment\": MILL_TREATMENT_NAME,\n",
    "        \"type\": \"distilled-reference\",\n",
    "    },\n",
    ")\n"
   ]
  },
  {
   "cell_type": "code",
   "execution_count": 17,
   "id": "618f8b78",
   "metadata": {
    "execution": {
     "iopub.execute_input": "2023-05-24T02:36:14.520632Z",
     "iopub.status.busy": "2023-05-24T02:36:14.519204Z",
     "iopub.status.idle": "2023-05-24T02:36:17.205173Z",
     "shell.execute_reply": "2023-05-24T02:36:17.206302Z"
    },
    "papermill": {
     "duration": 2.781191,
     "end_time": "2023-05-24T02:36:17.206641",
     "exception": false,
     "start_time": "2023-05-24T02:36:14.425450",
     "status": "completed"
    },
    "tags": []
   },
   "outputs": [
    {
     "name": "stdout",
     "output_type": "stream",
     "text": [
      "teeplots/./max_leaves=20+notebook=species-inference+replicate=3+treatment=bag+type=distilled-reference+viz=draw-biopython-tree+ext=.pdf\n"
     ]
    },
    {
     "name": "stdout",
     "output_type": "stream",
     "text": [
      "teeplots/./max_leaves=20+notebook=species-inference+replicate=3+treatment=bag+type=distilled-reference+viz=draw-biopython-tree+ext=.png\n"
     ]
    },
    {
     "data": {
      "image/png": "[encoded data removed]",
      "text/plain": [
       "<Figure size 650x400 with 1 Axes>"
      ]
     },
     "metadata": {},
     "output_type": "display_data"
    }
   ],
   "source": [
    "tp.tee(\n",
    "    pylib.tree.draw_biopython_tree,\n",
    "    distilled_tree,\n",
    "    max_leaves=20,\n",
    "    teeplot_outattrs={\n",
    "        \"max_leaves\": \"20\",\n",
    "        \"notebook\": \"species-inference\",\n",
    "        \"replicate\": str(MILL_REPLICATE),\n",
    "        \"treatment\": MILL_TREATMENT_NAME,\n",
    "        \"type\": \"distilled-reference\",\n",
    "    },\n",
    ")\n"
   ]
  },
  {
   "cell_type": "code",
   "execution_count": 18,
   "id": "daecab67",
   "metadata": {
    "execution": {
     "iopub.execute_input": "2023-05-24T02:36:17.437552Z",
     "iopub.status.busy": "2023-05-24T02:36:17.426991Z",
     "iopub.status.idle": "2023-05-24T02:36:20.924694Z",
     "shell.execute_reply": "2023-05-24T02:36:20.925362Z"
    },
    "papermill": {
     "duration": 3.620227,
     "end_time": "2023-05-24T02:36:20.925570",
     "exception": false,
     "start_time": "2023-05-24T02:36:17.305343",
     "status": "completed"
    },
    "tags": []
   },
   "outputs": [
    {
     "name": "stdout",
     "output_type": "stream",
     "text": [
      "teeplots/./drop_overlapping_labels=true+notebook=species-inference+replicate=3+treatment=bag+type=distilled-reference+viz=draw-biopython-tree+ext=.pdf\n"
     ]
    },
    {
     "name": "stdout",
     "output_type": "stream",
     "text": [
      "teeplots/./drop_overlapping_labels=true+notebook=species-inference+replicate=3+treatment=bag+type=distilled-reference+viz=draw-biopython-tree+ext=.png\n"
     ]
    },
    {
     "data": {
      "image/png": "[encoded data removed]",
      "text/plain": [
       "<Figure size 650x400 with 1 Axes>"
      ]
     },
     "metadata": {},
     "output_type": "display_data"
    }
   ],
   "source": [
    "tp.tee(\n",
    "    pylib.tree.draw_biopython_tree,\n",
    "    distilled_tree,\n",
    "    drop_overlapping_labels=True,\n",
    "    teeplot_outattrs={\n",
    "        \"drop_overlapping_labels\": \"true\",\n",
    "        \"notebook\": \"species-inference\",\n",
    "        \"replicate\": str(MILL_REPLICATE),\n",
    "        \"treatment\": MILL_TREATMENT_NAME,\n",
    "        \"type\": \"distilled-reference\",\n",
    "    },\n",
    ")\n"
   ]
  },
  {
   "cell_type": "code",
   "execution_count": 19,
   "id": "9de54c08",
   "metadata": {
    "execution": {
     "iopub.execute_input": "2023-05-24T02:36:21.051904Z",
     "iopub.status.busy": "2023-05-24T02:36:21.047074Z",
     "iopub.status.idle": "2023-05-24T02:36:39.271042Z",
     "shell.execute_reply": "2023-05-24T02:36:39.269772Z"
    },
    "papermill": {
     "duration": 18.293218,
     "end_time": "2023-05-24T02:36:39.271328",
     "exception": false,
     "start_time": "2023-05-24T02:36:20.978110",
     "status": "completed"
    },
    "tags": []
   },
   "outputs": [
    {
     "data": {
      "text/plain": [
       "0.6143455170259294"
      ]
     },
     "execution_count": 19,
     "metadata": {},
     "output_type": "execute_result"
    }
   ],
   "source": [
    "distilled_tree = pylib.deap.history_to_tree_upgma(\n",
    "    history, extant_nodes, correct_origin_times=False\n",
    ")\n",
    "BioPhylo.write(\n",
    "    distilled_tree,\n",
    "    kn.pack(\n",
    "        {\n",
    "            \"a\": \"phylogeny\",\n",
    "            \"notebook\": \"species-inference\",\n",
    "            \"replicate\": str(MILL_REPLICATE),\n",
    "            \"treatment\": MILL_TREATMENT_NAME,\n",
    "            \"type\": \"distilled-pedigree-uncorrected\",\n",
    "            \"ext\": \".nwk\",\n",
    "        }\n",
    "    ),\n",
    "    'newick',\n",
    ")\n",
    "\n",
    "quartet_dist = pylib.tree.polymorphic_quartet_distance(\n",
    "    reconstructed_tree, distilled_tree\n",
    ")\n",
    "quartet_dist\n"
   ]
  },
  {
   "cell_type": "code",
   "execution_count": 20,
   "id": "bb8008af",
   "metadata": {
    "execution": {
     "iopub.execute_input": "2023-05-24T02:36:39.494998Z",
     "iopub.status.busy": "2023-05-24T02:36:39.493589Z",
     "iopub.status.idle": "2023-05-24T02:36:39.516492Z",
     "shell.execute_reply": "2023-05-24T02:36:39.518228Z"
    },
    "papermill": {
     "duration": 0.131845,
     "end_time": "2023-05-24T02:36:39.519088",
     "exception": false,
     "start_time": "2023-05-24T02:36:39.387243",
     "status": "completed"
    },
    "tags": []
   },
   "outputs": [
    {
     "data": {
      "text/html": [
       "<div>\n",
       "<style scoped>\n",
       "    .dataframe tbody tr th:only-of-type {\n",
       "        vertical-align: middle;\n",
       "    }\n",
       "\n",
       "    .dataframe tbody tr th {\n",
       "        vertical-align: top;\n",
       "    }\n",
       "\n",
       "    .dataframe thead th {\n",
       "        text-align: right;\n",
       "    }\n",
       "</style>\n",
       "<table border=\"1\" class=\"dataframe\">\n",
       "  <thead>\n",
       "    <tr style=\"text-align: right;\">\n",
       "      <th></th>\n",
       "      <th>replicate</th>\n",
       "      <th>treatment</th>\n",
       "      <th>quartet distance</th>\n",
       "    </tr>\n",
       "  </thead>\n",
       "  <tbody>\n",
       "    <tr>\n",
       "      <th>0</th>\n",
       "      <td>3</td>\n",
       "      <td>bag</td>\n",
       "      <td>0.614346</td>\n",
       "    </tr>\n",
       "  </tbody>\n",
       "</table>\n",
       "</div>"
      ],
      "text/plain": [
       "   replicate treatment  quartet distance\n",
       "0          3       bag          0.614346"
      ]
     },
     "execution_count": 20,
     "metadata": {},
     "output_type": "execute_result"
    }
   ],
   "source": [
    "records = [\n",
    "    {\n",
    "        \"replicate\": MILL_REPLICATE,\n",
    "        \"treatment\": MILL_TREATMENT_NAME,\n",
    "        \"quartet distance\": quartet_dist,\n",
    "    }\n",
    "]\n",
    "outdf = pd.DataFrame.from_records(records)\n",
    "outdf.to_csv(\n",
    "    kn.pack(\n",
    "        {\n",
    "            \"a\": \"reconstruction-accuracy\",\n",
    "            \"notebook\": \"species-inference\",\n",
    "            \"replicate\": MILL_REPLICATE,\n",
    "            \"treatment\": MILL_TREATMENT_NAME,\n",
    "            \"ext\": \".csv\",\n",
    "        }\n",
    "    )\n",
    ")\n",
    "outdf\n"
   ]
  }
 ],
 "metadata": {
  "kernelspec": {
   "display_name": "Python 3",
   "language": "python",
   "name": "python3"
  },
  "language_info": {
   "codemirror_mode": {
    "name": "ipython",
    "version": 3
   },
   "file_extension": ".py",
   "mimetype": "text/x-python",
   "name": "python",
   "nbconvert_exporter": "python",
   "pygments_lexer": "ipython3",
   "version": "3.10.6"
  },
  "papermill": {
   "default_parameters": {},
   "duration": 666.657285,
   "end_time": "2023-05-24T02:36:42.353722",
   "environment_variables": {},
   "exception": null,
   "input_path": "species-inference.ipynb",
   "output_path": "species-inference-parameterization-3.ipynb",
   "parameters": {
    "MILL_REPLICATE": 3,
    "MILL_TREATMENT_NAME": "bag"
   },
   "start_time": "2023-05-24T02:25:35.696437",
   "version": "2.4.0"
  }
 },
 "nbformat": 4,
 "nbformat_minor": 5
}