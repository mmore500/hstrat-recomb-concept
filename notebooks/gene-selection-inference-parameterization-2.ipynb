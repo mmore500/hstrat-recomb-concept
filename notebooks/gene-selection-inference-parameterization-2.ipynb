{
 "cells": [
  {
   "cell_type": "code",
   "execution_count": 1,
   "id": "6eedb47f",
   "metadata": {
    "execution": {
     "iopub.execute_input": "2023-05-23T22:39:06.082936Z",
     "iopub.status.busy": "2023-05-23T22:39:06.079491Z",
     "iopub.status.idle": "2023-05-23T22:39:07.380686Z",
     "shell.execute_reply": "2023-05-23T22:39:07.379439Z"
    },
    "papermill": {
     "duration": 1.341978,
     "end_time": "2023-05-23T22:39:07.380932",
     "exception": false,
     "start_time": "2023-05-23T22:39:06.038954",
     "status": "completed"
    },
    "tags": []
   },
   "outputs": [],
   "source": [
    "import endomill\n",
    "import yaml\n"
   ]
  },
  {
   "cell_type": "code",
   "execution_count": 2,
   "id": "b557ee1c",
   "metadata": {
    "execution": {
     "iopub.execute_input": "2023-05-23T22:39:07.443673Z",
     "iopub.status.busy": "2023-05-23T22:39:07.442441Z",
     "iopub.status.idle": "2023-05-23T22:39:07.475468Z",
     "shell.execute_reply": "2023-05-23T22:39:07.476308Z"
    },
    "papermill": {
     "duration": 0.068015,
     "end_time": "2023-05-23T22:39:07.476560",
     "exception": false,
     "start_time": "2023-05-23T22:39:07.408545",
     "status": "completed"
    },
    "tags": []
   },
   "outputs": [],
   "source": [
    "parameter_packs = [\n",
    "    {\n",
    "        \"MILL_FITNESS_ADVANTAGE\": fitness_advantage,\n",
    "        \"MILL_REPLICATE\": replicate,\n",
    "    }\n",
    "    for replicate in range(10)\n",
    "    for fitness_advantage in [0.0, 1.0, 1.0]\n",
    "]\n",
    "\n",
    "for i, pp in enumerate(parameter_packs):\n",
    "    with open(\n",
    "        f\"gene-selection-inference-parameterization-{i}.yaml\", \"w\"\n",
    "    ) as file:\n",
    "        yaml.safe_dump(pp, file)\n",
    "# endomill.instantiate_over(parameter_packs=parameter_packs)\n"
   ]
  },
  {
   "cell_type": "markdown",
   "id": "c4a55091",
   "metadata": {
    "papermill": {
     "duration": 0.027024,
     "end_time": "2023-05-23T22:39:07.530851",
     "exception": false,
     "start_time": "2023-05-23T22:39:07.503827",
     "status": "completed"
    },
    "tags": []
   },
   "source": [
    "# Papermill Parameters\n"
   ]
  },
  {
   "cell_type": "code",
   "execution_count": 3,
   "id": "00f1f55f",
   "metadata": {
    "execution": {
     "iopub.execute_input": "2023-05-23T22:39:07.592433Z",
     "iopub.status.busy": "2023-05-23T22:39:07.591321Z",
     "iopub.status.idle": "2023-05-23T22:39:07.595242Z",
     "shell.execute_reply": "2023-05-23T22:39:07.594129Z"
    },
    "papermill": {
     "duration": 0.036959,
     "end_time": "2023-05-23T22:39:07.595460",
     "exception": false,
     "start_time": "2023-05-23T22:39:07.558501",
     "status": "completed"
    },
    "tags": [
     "parameters"
    ]
   },
   "outputs": [],
   "source": [
    "MILL_FITNESS_ADVANTAGE: float\n",
    "MILL_REPLICATE: int\n"
   ]
  },
  {
   "cell_type": "code",
   "execution_count": 4,
   "id": "0aaf59ee",
   "metadata": {
    "execution": {
     "iopub.execute_input": "2023-05-23T22:39:07.657617Z",
     "iopub.status.busy": "2023-05-23T22:39:07.656505Z",
     "iopub.status.idle": "2023-05-23T22:39:07.659487Z",
     "shell.execute_reply": "2023-05-23T22:39:07.660387Z"
    },
    "papermill": {
     "duration": 0.036949,
     "end_time": "2023-05-23T22:39:07.660637",
     "exception": false,
     "start_time": "2023-05-23T22:39:07.623688",
     "status": "completed"
    },
    "tags": [
     "injected-parameters"
    ]
   },
   "outputs": [],
   "source": [
    "# Parameters\n",
    "MILL_FITNESS_ADVANTAGE = 1.0\n",
    "MILL_REPLICATE = 0\n"
   ]
  },
  {
   "cell_type": "code",
   "execution_count": 5,
   "id": "7572756a",
   "metadata": {
    "execution": {
     "iopub.execute_input": "2023-05-23T22:39:07.726671Z",
     "iopub.status.busy": "2023-05-23T22:39:07.724678Z",
     "iopub.status.idle": "2023-05-23T22:39:12.468063Z",
     "shell.execute_reply": "2023-05-23T22:39:12.467516Z"
    },
    "papermill": {
     "duration": 4.779496,
     "end_time": "2023-05-23T22:39:12.468180",
     "exception": false,
     "start_time": "2023-05-23T22:39:07.688684",
     "status": "completed"
    },
    "tags": []
   },
   "outputs": [],
   "source": [
    "import copy\n",
    "import random\n",
    "\n",
    "import alifedata_phyloinformatics_convert as apc\n",
    "from deap import algorithms as deap_algorithms\n",
    "from deap import base as deap_base\n",
    "from deap import creator as deap_creator\n",
    "from deap import tools as deap_tools\n",
    "from hstrat import hstrat\n",
    "from keyname import keyname as kn\n",
    "from matplotlib import pyplot as plt\n",
    "import pandas as pd\n",
    "import seaborn as sns\n",
    "from teeplot import teeplot as tp\n",
    "from tqdm import tqdm\n",
    "\n",
    "import pylib\n"
   ]
  },
  {
   "cell_type": "code",
   "execution_count": 6,
   "id": "4328dc9d",
   "metadata": {
    "execution": {
     "iopub.execute_input": "2023-05-23T22:39:12.495146Z",
     "iopub.status.busy": "2023-05-23T22:39:12.494600Z",
     "iopub.status.idle": "2023-05-23T22:39:12.497080Z",
     "shell.execute_reply": "2023-05-23T22:39:12.496545Z"
    },
    "papermill": {
     "duration": 0.018069,
     "end_time": "2023-05-23T22:39:12.497195",
     "exception": false,
     "start_time": "2023-05-23T22:39:12.479126",
     "status": "completed"
    },
    "tags": []
   },
   "outputs": [],
   "source": [
    "random.seed(MILL_REPLICATE)\n"
   ]
  },
  {
   "cell_type": "markdown",
   "id": "cc68c537",
   "metadata": {
    "papermill": {
     "duration": 0.0111,
     "end_time": "2023-05-23T22:39:12.519564",
     "exception": false,
     "start_time": "2023-05-23T22:39:12.508464",
     "status": "completed"
    },
    "tags": []
   },
   "source": [
    "# Parameters\n"
   ]
  },
  {
   "cell_type": "code",
   "execution_count": 7,
   "id": "5f5fd819",
   "metadata": {
    "execution": {
     "iopub.execute_input": "2023-05-23T22:39:12.549446Z",
     "iopub.status.busy": "2023-05-23T22:39:12.548857Z",
     "iopub.status.idle": "2023-05-23T22:39:12.550857Z",
     "shell.execute_reply": "2023-05-23T22:39:12.551325Z"
    },
    "papermill": {
     "duration": 0.020723,
     "end_time": "2023-05-23T22:39:12.551467",
     "exception": false,
     "start_time": "2023-05-23T22:39:12.530744",
     "status": "completed"
    },
    "tags": []
   },
   "outputs": [],
   "source": [
    "HSTRAT_RESOLUTION = 1000\n",
    "HSTRAT_DIFFERENTIA_WIDTH = 64\n",
    "\n",
    "TOURNAMENT_SIZE = 2\n",
    "\n",
    "NGEN = 200\n",
    "\n",
    "POPULATION_SIZE = 400\n"
   ]
  },
  {
   "cell_type": "markdown",
   "id": "dded0aab",
   "metadata": {
    "papermill": {
     "duration": 0.011972,
     "end_time": "2023-05-23T22:39:12.575446",
     "exception": false,
     "start_time": "2023-05-23T22:39:12.563474",
     "status": "completed"
    },
    "tags": []
   },
   "source": [
    "# Setup\n"
   ]
  },
  {
   "cell_type": "code",
   "execution_count": 8,
   "id": "66b6a214",
   "metadata": {
    "execution": {
     "iopub.execute_input": "2023-05-23T22:39:12.612944Z",
     "iopub.status.busy": "2023-05-23T22:39:12.612385Z",
     "iopub.status.idle": "2023-05-23T22:39:12.614945Z",
     "shell.execute_reply": "2023-05-23T22:39:12.614486Z"
    },
    "papermill": {
     "duration": 0.024132,
     "end_time": "2023-05-23T22:39:12.615062",
     "exception": false,
     "start_time": "2023-05-23T22:39:12.590930",
     "status": "completed"
    },
    "tags": []
   },
   "outputs": [],
   "source": [
    "deap_creator.create(\"FitnessMax\", deap_base.Fitness, weights=(1.0,))\n",
    "deap_creator.create(\"Individual\", list, fitness=deap_creator.FitnessMax)\n",
    "\n",
    "toolbox = deap_base.Toolbox()\n",
    "\n",
    "toolbox.register(\n",
    "    \"individual\",\n",
    "    lambda *args, **kwargs: deap_creator.Individual([0.0]),\n",
    "    deap_creator.Individual,\n",
    "    n=1,\n",
    ")\n",
    "toolbox.register(\"population\", deap_tools.initRepeat, list, toolbox.individual)\n",
    "\n",
    "\n",
    "def evalOneMax(individual):\n",
    "    return (individual[0] + random.random(),)\n",
    "\n",
    "\n",
    "toolbox.register(\"evaluate\", evalOneMax)\n",
    "# hack to ensure gene annotation remains associated with gene\n",
    "toolbox.register(\"mate\", lambda x, y: random.choice([(x, y), (y, x)]))\n",
    "toolbox.register(\"mutate\", lambda x: tuple(x))\n",
    "toolbox.register(\"select\", deap_tools.selTournament, tournsize=TOURNAMENT_SIZE)\n",
    "\n",
    "# Decorate the variation operators\n",
    "toolbox.decorate(\"mate\", pylib.deap.hstrat_mate_decorator)\n"
   ]
  },
  {
   "cell_type": "markdown",
   "id": "8cbfd94c",
   "metadata": {
    "papermill": {
     "duration": 0.011722,
     "end_time": "2023-05-23T22:39:12.638146",
     "exception": false,
     "start_time": "2023-05-23T22:39:12.626424",
     "status": "completed"
    },
    "tags": []
   },
   "source": [
    "# Evolve\n"
   ]
  },
  {
   "cell_type": "code",
   "execution_count": 9,
   "id": "21511eaf",
   "metadata": {
    "execution": {
     "iopub.execute_input": "2023-05-23T22:39:12.699146Z",
     "iopub.status.busy": "2023-05-23T22:39:12.680204Z",
     "iopub.status.idle": "2023-05-23T22:47:59.057121Z",
     "shell.execute_reply": "2023-05-23T22:47:59.056368Z"
    },
    "papermill": {
     "duration": 526.406468,
     "end_time": "2023-05-23T22:47:59.057301",
     "exception": false,
     "start_time": "2023-05-23T22:39:12.650833",
     "status": "completed"
    },
    "tags": []
   },
   "outputs": [
    {
     "name": "stderr",
     "output_type": "stream",
     "text": [
      "\r",
      "  0%|                                                                  | 0/200 [00:00<?, ?it/s]"
     ]
    },
    {
     "name": "stderr",
     "output_type": "stream",
     "text": [
      "\r",
      "  0%|▎                                                         | 1/200 [00:00<03:14,  1.03it/s]"
     ]
    },
    {
     "name": "stderr",
     "output_type": "stream",
     "text": [
      "\r",
      "  1%|▌                                                         | 2/200 [00:01<03:16,  1.01it/s]"
     ]
    },
    {
     "name": "stderr",
     "output_type": "stream",
     "text": [
      "\r",
      "  2%|▊                                                         | 3/200 [00:02<03:03,  1.07it/s]"
     ]
    },
    {
     "name": "stderr",
     "output_type": "stream",
     "text": [
      "\r",
      "  2%|█▏                                                        | 4/200 [00:03<03:13,  1.01it/s]"
     ]
    },
    {
     "name": "stderr",
     "output_type": "stream",
     "text": [
      "\r",
      "  2%|█▍                                                        | 5/200 [00:04<03:19,  1.02s/it]"
     ]
    },
    {
     "name": "stderr",
     "output_type": "stream",
     "text": [
      "\r",
      "  3%|█▋                                                        | 6/200 [00:06<03:26,  1.06s/it]"
     ]
    },
    {
     "name": "stderr",
     "output_type": "stream",
     "text": [
      "\r",
      "  4%|██                                                        | 7/200 [00:07<03:16,  1.02s/it]"
     ]
    },
    {
     "name": "stderr",
     "output_type": "stream",
     "text": [
      "\r",
      "  4%|██▎                                                       | 8/200 [00:08<03:24,  1.07s/it]"
     ]
    },
    {
     "name": "stderr",
     "output_type": "stream",
     "text": [
      "\r",
      "  4%|██▌                                                       | 9/200 [00:09<03:33,  1.12s/it]"
     ]
    },
    {
     "name": "stderr",
     "output_type": "stream",
     "text": [
      "\r",
      "  5%|██▊                                                      | 10/200 [00:10<03:38,  1.15s/it]"
     ]
    },
    {
     "name": "stderr",
     "output_type": "stream",
     "text": [
      "\r",
      "  6%|███▏                                                     | 11/200 [00:11<03:29,  1.11s/it]"
     ]
    },
    {
     "name": "stderr",
     "output_type": "stream",
     "text": [
      "\r",
      "  6%|███▍                                                     | 12/200 [00:12<03:37,  1.16s/it]"
     ]
    },
    {
     "name": "stderr",
     "output_type": "stream",
     "text": [
      "\r",
      "  6%|███▋                                                     | 13/200 [00:14<03:31,  1.13s/it]"
     ]
    },
    {
     "name": "stderr",
     "output_type": "stream",
     "text": [
      "\r",
      "  7%|███▉                                                     | 14/200 [00:14<03:07,  1.01s/it]"
     ]
    },
    {
     "name": "stderr",
     "output_type": "stream",
     "text": [
      "\r",
      "  8%|████▎                                                    | 15/200 [00:15<02:51,  1.08it/s]"
     ]
    },
    {
     "name": "stderr",
     "output_type": "stream",
     "text": [
      "\r",
      "  8%|████▌                                                    | 16/200 [00:16<02:39,  1.15it/s]"
     ]
    },
    {
     "name": "stderr",
     "output_type": "stream",
     "text": [
      "\r",
      "  8%|████▊                                                    | 17/200 [00:16<02:33,  1.19it/s]"
     ]
    },
    {
     "name": "stderr",
     "output_type": "stream",
     "text": [
      "\r",
      "  9%|█████▏                                                   | 18/200 [00:17<02:30,  1.21it/s]"
     ]
    },
    {
     "name": "stderr",
     "output_type": "stream",
     "text": [
      "\r",
      " 10%|█████▍                                                   | 19/200 [00:18<02:30,  1.20it/s]"
     ]
    },
    {
     "name": "stderr",
     "output_type": "stream",
     "text": [
      "\r",
      " 10%|█████▋                                                   | 20/200 [00:19<02:18,  1.30it/s]"
     ]
    },
    {
     "name": "stderr",
     "output_type": "stream",
     "text": [
      "\r",
      " 10%|█████▉                                                   | 21/200 [00:20<02:57,  1.01it/s]"
     ]
    },
    {
     "name": "stderr",
     "output_type": "stream",
     "text": [
      "\r",
      " 11%|██████▎                                                  | 22/200 [00:22<03:23,  1.14s/it]"
     ]
    },
    {
     "name": "stderr",
     "output_type": "stream",
     "text": [
      "\r",
      " 12%|██████▌                                                  | 23/200 [00:23<03:42,  1.26s/it]"
     ]
    },
    {
     "name": "stderr",
     "output_type": "stream",
     "text": [
      "\r",
      " 12%|██████▊                                                  | 24/200 [00:25<03:59,  1.36s/it]"
     ]
    },
    {
     "name": "stderr",
     "output_type": "stream",
     "text": [
      "\r",
      " 12%|███████▏                                                 | 25/200 [00:26<04:08,  1.42s/it]"
     ]
    },
    {
     "name": "stderr",
     "output_type": "stream",
     "text": [
      "\r",
      " 13%|███████▍                                                 | 26/200 [00:28<04:04,  1.41s/it]"
     ]
    },
    {
     "name": "stderr",
     "output_type": "stream",
     "text": [
      "\r",
      " 14%|███████▋                                                 | 27/200 [00:29<04:14,  1.47s/it]"
     ]
    },
    {
     "name": "stderr",
     "output_type": "stream",
     "text": [
      "\r",
      " 14%|███████▉                                                 | 28/200 [00:31<04:23,  1.53s/it]"
     ]
    },
    {
     "name": "stderr",
     "output_type": "stream",
     "text": [
      "\r",
      " 14%|████████▎                                                | 29/200 [00:33<04:29,  1.58s/it]"
     ]
    },
    {
     "name": "stderr",
     "output_type": "stream",
     "text": [
      "\r",
      " 15%|████████▌                                                | 30/200 [00:35<04:37,  1.63s/it]"
     ]
    },
    {
     "name": "stderr",
     "output_type": "stream",
     "text": [
      "\r",
      " 16%|████████▊                                                | 31/200 [00:36<04:38,  1.65s/it]"
     ]
    },
    {
     "name": "stderr",
     "output_type": "stream",
     "text": [
      "\r",
      " 16%|█████████                                                | 32/200 [00:38<04:41,  1.67s/it]"
     ]
    },
    {
     "name": "stderr",
     "output_type": "stream",
     "text": [
      "\r",
      " 16%|█████████▍                                               | 33/200 [00:39<04:05,  1.47s/it]"
     ]
    },
    {
     "name": "stderr",
     "output_type": "stream",
     "text": [
      "\r",
      " 17%|█████████▋                                               | 34/200 [00:40<03:39,  1.32s/it]"
     ]
    },
    {
     "name": "stderr",
     "output_type": "stream",
     "text": [
      "\r",
      " 18%|█████████▉                                               | 35/200 [00:41<03:22,  1.23s/it]"
     ]
    },
    {
     "name": "stderr",
     "output_type": "stream",
     "text": [
      "\r",
      " 18%|██████████▎                                              | 36/200 [00:42<03:10,  1.16s/it]"
     ]
    },
    {
     "name": "stderr",
     "output_type": "stream",
     "text": [
      "\r",
      " 18%|██████████▌                                              | 37/200 [00:43<03:04,  1.13s/it]"
     ]
    },
    {
     "name": "stderr",
     "output_type": "stream",
     "text": [
      "\r",
      " 19%|██████████▊                                              | 38/200 [00:44<02:58,  1.10s/it]"
     ]
    },
    {
     "name": "stderr",
     "output_type": "stream",
     "text": [
      "\r",
      " 20%|███████████                                              | 39/200 [00:45<03:00,  1.12s/it]"
     ]
    },
    {
     "name": "stderr",
     "output_type": "stream",
     "text": [
      "\r",
      " 20%|███████████▍                                             | 40/200 [00:47<03:11,  1.19s/it]"
     ]
    },
    {
     "name": "stderr",
     "output_type": "stream",
     "text": [
      "\r",
      " 20%|███████████▋                                             | 41/200 [00:48<03:16,  1.23s/it]"
     ]
    },
    {
     "name": "stderr",
     "output_type": "stream",
     "text": [
      "\r",
      " 21%|███████████▉                                             | 42/200 [00:49<03:21,  1.27s/it]"
     ]
    },
    {
     "name": "stderr",
     "output_type": "stream",
     "text": [
      "\r",
      " 22%|████████████▎                                            | 43/200 [00:52<04:05,  1.56s/it]"
     ]
    },
    {
     "name": "stderr",
     "output_type": "stream",
     "text": [
      "\r",
      " 22%|████████████▌                                            | 44/200 [00:54<04:45,  1.83s/it]"
     ]
    },
    {
     "name": "stderr",
     "output_type": "stream",
     "text": [
      "\r",
      " 22%|████████████▊                                            | 45/200 [00:56<04:46,  1.85s/it]"
     ]
    },
    {
     "name": "stderr",
     "output_type": "stream",
     "text": [
      "\r",
      " 23%|█████████████                                            | 46/200 [00:57<04:22,  1.70s/it]"
     ]
    },
    {
     "name": "stderr",
     "output_type": "stream",
     "text": [
      "\r",
      " 24%|█████████████▍                                           | 47/200 [00:59<04:07,  1.62s/it]"
     ]
    },
    {
     "name": "stderr",
     "output_type": "stream",
     "text": [
      "\r",
      " 24%|█████████████▋                                           | 48/200 [01:00<03:54,  1.54s/it]"
     ]
    },
    {
     "name": "stderr",
     "output_type": "stream",
     "text": [
      "\r",
      " 24%|█████████████▉                                           | 49/200 [01:01<03:49,  1.52s/it]"
     ]
    },
    {
     "name": "stderr",
     "output_type": "stream",
     "text": [
      "\r",
      " 25%|██████████████▎                                          | 50/200 [01:03<03:42,  1.48s/it]"
     ]
    },
    {
     "name": "stderr",
     "output_type": "stream",
     "text": [
      "\r",
      " 26%|██████████████▌                                          | 51/200 [01:04<03:43,  1.50s/it]"
     ]
    },
    {
     "name": "stderr",
     "output_type": "stream",
     "text": [
      "\r",
      " 26%|██████████████▊                                          | 52/200 [01:06<03:38,  1.48s/it]"
     ]
    },
    {
     "name": "stderr",
     "output_type": "stream",
     "text": [
      "\r",
      " 26%|███████████████                                          | 53/200 [01:07<03:40,  1.50s/it]"
     ]
    },
    {
     "name": "stderr",
     "output_type": "stream",
     "text": [
      "\r",
      " 27%|███████████████▍                                         | 54/200 [01:10<04:32,  1.87s/it]"
     ]
    },
    {
     "name": "stderr",
     "output_type": "stream",
     "text": [
      "\r",
      " 28%|███████████████▋                                         | 55/200 [01:12<04:43,  1.96s/it]"
     ]
    },
    {
     "name": "stderr",
     "output_type": "stream",
     "text": [
      "\r",
      " 28%|███████████████▉                                         | 56/200 [01:14<04:25,  1.84s/it]"
     ]
    },
    {
     "name": "stderr",
     "output_type": "stream",
     "text": [
      "\r",
      " 28%|████████████████▏                                        | 57/200 [01:16<04:18,  1.81s/it]"
     ]
    },
    {
     "name": "stderr",
     "output_type": "stream",
     "text": [
      "\r",
      " 29%|████████████████▌                                        | 58/200 [01:18<04:58,  2.10s/it]"
     ]
    },
    {
     "name": "stderr",
     "output_type": "stream",
     "text": [
      "\r",
      " 30%|████████████████▊                                        | 59/200 [01:20<04:52,  2.07s/it]"
     ]
    },
    {
     "name": "stderr",
     "output_type": "stream",
     "text": [
      "\r",
      " 30%|█████████████████                                        | 60/200 [01:22<04:29,  1.92s/it]"
     ]
    },
    {
     "name": "stderr",
     "output_type": "stream",
     "text": [
      "\r",
      " 30%|█████████████████▍                                       | 61/200 [01:24<04:50,  2.09s/it]"
     ]
    },
    {
     "name": "stderr",
     "output_type": "stream",
     "text": [
      "\r",
      " 31%|█████████████████▋                                       | 62/200 [01:27<05:25,  2.36s/it]"
     ]
    },
    {
     "name": "stderr",
     "output_type": "stream",
     "text": [
      "\r",
      " 32%|█████████████████▉                                       | 63/200 [01:30<05:51,  2.56s/it]"
     ]
    },
    {
     "name": "stderr",
     "output_type": "stream",
     "text": [
      "\r",
      " 32%|██████████████████▏                                      | 64/200 [01:33<06:05,  2.69s/it]"
     ]
    },
    {
     "name": "stderr",
     "output_type": "stream",
     "text": [
      "\r",
      " 32%|██████████████████▌                                      | 65/200 [01:36<06:04,  2.70s/it]"
     ]
    },
    {
     "name": "stderr",
     "output_type": "stream",
     "text": [
      "\r",
      " 33%|██████████████████▊                                      | 66/200 [01:39<05:52,  2.63s/it]"
     ]
    },
    {
     "name": "stderr",
     "output_type": "stream",
     "text": [
      "\r",
      " 34%|███████████████████                                      | 67/200 [01:42<06:10,  2.78s/it]"
     ]
    },
    {
     "name": "stderr",
     "output_type": "stream",
     "text": [
      "\r",
      " 34%|███████████████████▍                                     | 68/200 [01:45<06:06,  2.78s/it]"
     ]
    },
    {
     "name": "stderr",
     "output_type": "stream",
     "text": [
      "\r",
      " 34%|███████████████████▋                                     | 69/200 [01:46<05:19,  2.44s/it]"
     ]
    },
    {
     "name": "stderr",
     "output_type": "stream",
     "text": [
      "\r",
      " 35%|███████████████████▉                                     | 70/200 [01:48<04:50,  2.23s/it]"
     ]
    },
    {
     "name": "stderr",
     "output_type": "stream",
     "text": [
      "\r",
      " 36%|████████████████████▏                                    | 71/200 [01:50<04:29,  2.09s/it]"
     ]
    },
    {
     "name": "stderr",
     "output_type": "stream",
     "text": [
      "\r",
      " 36%|████████████████████▌                                    | 72/200 [01:52<04:16,  2.00s/it]"
     ]
    },
    {
     "name": "stderr",
     "output_type": "stream",
     "text": [
      "\r",
      " 36%|████████████████████▊                                    | 73/200 [01:54<04:26,  2.10s/it]"
     ]
    },
    {
     "name": "stderr",
     "output_type": "stream",
     "text": [
      "\r",
      " 37%|█████████████████████                                    | 74/200 [01:56<04:16,  2.04s/it]"
     ]
    },
    {
     "name": "stderr",
     "output_type": "stream",
     "text": [
      "\r",
      " 38%|█████████████████████▍                                   | 75/200 [01:58<04:07,  1.98s/it]"
     ]
    },
    {
     "name": "stderr",
     "output_type": "stream",
     "text": [
      "\r",
      " 38%|█████████████████████▋                                   | 76/200 [01:59<04:00,  1.94s/it]"
     ]
    },
    {
     "name": "stderr",
     "output_type": "stream",
     "text": [
      "\r",
      " 38%|█████████████████████▉                                   | 77/200 [02:01<03:58,  1.94s/it]"
     ]
    },
    {
     "name": "stderr",
     "output_type": "stream",
     "text": [
      "\r",
      " 39%|██████████████████████▏                                  | 78/200 [02:03<03:54,  1.93s/it]"
     ]
    },
    {
     "name": "stderr",
     "output_type": "stream",
     "text": [
      "\r",
      " 40%|██████████████████████▌                                  | 79/200 [02:05<03:53,  1.93s/it]"
     ]
    },
    {
     "name": "stderr",
     "output_type": "stream",
     "text": [
      "\r",
      " 40%|██████████████████████▊                                  | 80/200 [02:07<03:51,  1.93s/it]"
     ]
    },
    {
     "name": "stderr",
     "output_type": "stream",
     "text": [
      "\r",
      " 40%|███████████████████████                                  | 81/200 [02:09<03:48,  1.92s/it]"
     ]
    },
    {
     "name": "stderr",
     "output_type": "stream",
     "text": [
      "\r",
      " 41%|███████████████████████▎                                 | 82/200 [02:11<03:46,  1.92s/it]"
     ]
    },
    {
     "name": "stderr",
     "output_type": "stream",
     "text": [
      "\r",
      " 42%|███████████████████████▋                                 | 83/200 [02:13<03:52,  1.99s/it]"
     ]
    },
    {
     "name": "stderr",
     "output_type": "stream",
     "text": [
      "\r",
      " 42%|███████████████████████▉                                 | 84/200 [02:15<03:48,  1.97s/it]"
     ]
    },
    {
     "name": "stderr",
     "output_type": "stream",
     "text": [
      "\r",
      " 42%|████████████████████████▏                                | 85/200 [02:17<03:45,  1.96s/it]"
     ]
    },
    {
     "name": "stderr",
     "output_type": "stream",
     "text": [
      "\r",
      " 43%|████████████████████████▌                                | 86/200 [02:19<03:42,  1.95s/it]"
     ]
    },
    {
     "name": "stderr",
     "output_type": "stream",
     "text": [
      "\r",
      " 44%|████████████████████████▊                                | 87/200 [02:21<03:44,  1.98s/it]"
     ]
    },
    {
     "name": "stderr",
     "output_type": "stream",
     "text": [
      "\r",
      " 44%|█████████████████████████                                | 88/200 [02:23<03:37,  1.94s/it]"
     ]
    },
    {
     "name": "stderr",
     "output_type": "stream",
     "text": [
      "\r",
      " 44%|█████████████████████████▎                               | 89/200 [02:26<04:16,  2.31s/it]"
     ]
    },
    {
     "name": "stderr",
     "output_type": "stream",
     "text": [
      "\r",
      " 45%|█████████████████████████▋                               | 90/200 [02:29<04:35,  2.51s/it]"
     ]
    },
    {
     "name": "stderr",
     "output_type": "stream",
     "text": [
      "\r",
      " 46%|█████████████████████████▉                               | 91/200 [02:32<04:48,  2.64s/it]"
     ]
    },
    {
     "name": "stderr",
     "output_type": "stream",
     "text": [
      "\r",
      " 46%|██████████████████████████▏                              | 92/200 [02:35<04:58,  2.76s/it]"
     ]
    },
    {
     "name": "stderr",
     "output_type": "stream",
     "text": [
      "\r",
      " 46%|██████████████████████████▌                              | 93/200 [02:38<05:05,  2.85s/it]"
     ]
    },
    {
     "name": "stderr",
     "output_type": "stream",
     "text": [
      "\r",
      " 47%|██████████████████████████▊                              | 94/200 [02:41<05:10,  2.93s/it]"
     ]
    },
    {
     "name": "stderr",
     "output_type": "stream",
     "text": [
      "\r",
      " 48%|███████████████████████████                              | 95/200 [02:44<05:12,  2.98s/it]"
     ]
    },
    {
     "name": "stderr",
     "output_type": "stream",
     "text": [
      "\r",
      " 48%|███████████████████████████▎                             | 96/200 [02:48<05:22,  3.10s/it]"
     ]
    },
    {
     "name": "stderr",
     "output_type": "stream",
     "text": [
      "\r",
      " 48%|███████████████████████████▋                             | 97/200 [02:51<05:19,  3.10s/it]"
     ]
    },
    {
     "name": "stderr",
     "output_type": "stream",
     "text": [
      "\r",
      " 49%|███████████████████████████▉                             | 98/200 [02:54<05:17,  3.11s/it]"
     ]
    },
    {
     "name": "stderr",
     "output_type": "stream",
     "text": [
      "\r",
      " 50%|████████████████████████████▏                            | 99/200 [02:57<05:16,  3.13s/it]"
     ]
    },
    {
     "name": "stderr",
     "output_type": "stream",
     "text": [
      "\r",
      " 50%|████████████████████████████                            | 100/200 [03:00<05:11,  3.12s/it]"
     ]
    },
    {
     "name": "stderr",
     "output_type": "stream",
     "text": [
      "\r",
      " 50%|████████████████████████████▎                           | 101/200 [03:02<04:26,  2.69s/it]"
     ]
    },
    {
     "name": "stderr",
     "output_type": "stream",
     "text": [
      "\r",
      " 51%|████████████████████████████▌                           | 102/200 [03:03<03:54,  2.40s/it]"
     ]
    },
    {
     "name": "stderr",
     "output_type": "stream",
     "text": [
      "\r",
      " 52%|████████████████████████████▊                           | 103/200 [03:05<03:34,  2.21s/it]"
     ]
    },
    {
     "name": "stderr",
     "output_type": "stream",
     "text": [
      "\r",
      " 52%|█████████████████████████████                           | 104/200 [03:07<03:25,  2.14s/it]"
     ]
    },
    {
     "name": "stderr",
     "output_type": "stream",
     "text": [
      "\r",
      " 52%|█████████████████████████████▍                          | 105/200 [03:09<03:12,  2.03s/it]"
     ]
    },
    {
     "name": "stderr",
     "output_type": "stream",
     "text": [
      "\r",
      " 53%|█████████████████████████████▋                          | 106/200 [03:12<03:47,  2.42s/it]"
     ]
    },
    {
     "name": "stderr",
     "output_type": "stream",
     "text": [
      "\r",
      " 54%|█████████████████████████████▉                          | 107/200 [03:17<04:37,  2.98s/it]"
     ]
    },
    {
     "name": "stderr",
     "output_type": "stream",
     "text": [
      "\r",
      " 54%|██████████████████████████████▏                         | 108/200 [03:20<04:32,  2.96s/it]"
     ]
    },
    {
     "name": "stderr",
     "output_type": "stream",
     "text": [
      "\r",
      " 55%|██████████████████████████████▌                         | 109/200 [03:22<04:13,  2.78s/it]"
     ]
    },
    {
     "name": "stderr",
     "output_type": "stream",
     "text": [
      "\r",
      " 55%|██████████████████████████████▊                         | 110/200 [03:24<03:56,  2.62s/it]"
     ]
    },
    {
     "name": "stderr",
     "output_type": "stream",
     "text": [
      "\r",
      " 56%|███████████████████████████████                         | 111/200 [03:27<03:46,  2.54s/it]"
     ]
    },
    {
     "name": "stderr",
     "output_type": "stream",
     "text": [
      "\r",
      " 56%|███████████████████████████████▎                        | 112/200 [03:31<04:37,  3.16s/it]"
     ]
    },
    {
     "name": "stderr",
     "output_type": "stream",
     "text": [
      "\r",
      " 56%|███████████████████████████████▋                        | 113/200 [03:34<04:15,  2.94s/it]"
     ]
    },
    {
     "name": "stderr",
     "output_type": "stream",
     "text": [
      "\r",
      " 57%|███████████████████████████████▉                        | 114/200 [03:36<04:00,  2.79s/it]"
     ]
    },
    {
     "name": "stderr",
     "output_type": "stream",
     "text": [
      "\r",
      " 57%|████████████████████████████████▏                       | 115/200 [03:39<03:57,  2.79s/it]"
     ]
    },
    {
     "name": "stderr",
     "output_type": "stream",
     "text": [
      "\r",
      " 58%|████████████████████████████████▍                       | 116/200 [03:41<03:46,  2.70s/it]"
     ]
    },
    {
     "name": "stderr",
     "output_type": "stream",
     "text": [
      "\r",
      " 58%|████████████████████████████████▊                       | 117/200 [03:44<03:36,  2.61s/it]"
     ]
    },
    {
     "name": "stderr",
     "output_type": "stream",
     "text": [
      "\r",
      " 59%|█████████████████████████████████                       | 118/200 [03:46<03:31,  2.58s/it]"
     ]
    },
    {
     "name": "stderr",
     "output_type": "stream",
     "text": [
      "\r",
      " 60%|█████████████████████████████████▎                      | 119/200 [03:49<03:33,  2.64s/it]"
     ]
    },
    {
     "name": "stderr",
     "output_type": "stream",
     "text": [
      "\r",
      " 60%|█████████████████████████████████▌                      | 120/200 [03:51<03:26,  2.58s/it]"
     ]
    },
    {
     "name": "stderr",
     "output_type": "stream",
     "text": [
      "\r",
      " 60%|█████████████████████████████████▉                      | 121/200 [03:54<03:22,  2.56s/it]"
     ]
    },
    {
     "name": "stderr",
     "output_type": "stream",
     "text": [
      "\r",
      " 61%|██████████████████████████████████▏                     | 122/200 [03:56<03:19,  2.55s/it]"
     ]
    },
    {
     "name": "stderr",
     "output_type": "stream",
     "text": [
      "\r",
      " 62%|██████████████████████████████████▍                     | 123/200 [03:59<03:23,  2.64s/it]"
     ]
    },
    {
     "name": "stderr",
     "output_type": "stream",
     "text": [
      "\r",
      " 62%|██████████████████████████████████▋                     | 124/200 [04:02<03:17,  2.60s/it]"
     ]
    },
    {
     "name": "stderr",
     "output_type": "stream",
     "text": [
      "\r",
      " 62%|███████████████████████████████████                     | 125/200 [04:04<03:14,  2.59s/it]"
     ]
    },
    {
     "name": "stderr",
     "output_type": "stream",
     "text": [
      "\r",
      " 63%|███████████████████████████████████▎                    | 126/200 [04:07<03:16,  2.65s/it]"
     ]
    },
    {
     "name": "stderr",
     "output_type": "stream",
     "text": [
      "\r",
      " 64%|███████████████████████████████████▌                    | 127/200 [04:10<03:12,  2.64s/it]"
     ]
    },
    {
     "name": "stderr",
     "output_type": "stream",
     "text": [
      "\r",
      " 64%|███████████████████████████████████▊                    | 128/200 [04:12<03:08,  2.62s/it]"
     ]
    },
    {
     "name": "stderr",
     "output_type": "stream",
     "text": [
      "\r",
      " 64%|████████████████████████████████████                    | 129/200 [04:15<03:12,  2.71s/it]"
     ]
    },
    {
     "name": "stderr",
     "output_type": "stream",
     "text": [
      "\r",
      " 65%|████████████████████████████████████▍                   | 130/200 [04:18<03:09,  2.70s/it]"
     ]
    },
    {
     "name": "stderr",
     "output_type": "stream",
     "text": [
      "\r",
      " 66%|████████████████████████████████████▋                   | 131/200 [04:21<03:04,  2.68s/it]"
     ]
    },
    {
     "name": "stderr",
     "output_type": "stream",
     "text": [
      "\r",
      " 66%|████████████████████████████████████▉                   | 132/200 [04:23<03:06,  2.75s/it]"
     ]
    },
    {
     "name": "stderr",
     "output_type": "stream",
     "text": [
      "\r",
      " 66%|█████████████████████████████████████▏                  | 133/200 [04:26<03:04,  2.75s/it]"
     ]
    },
    {
     "name": "stderr",
     "output_type": "stream",
     "text": [
      "\r",
      " 67%|█████████████████████████████████████▌                  | 134/200 [04:29<03:10,  2.89s/it]"
     ]
    },
    {
     "name": "stderr",
     "output_type": "stream",
     "text": [
      "\r",
      " 68%|█████████████████████████████████████▊                  | 135/200 [04:32<03:05,  2.85s/it]"
     ]
    },
    {
     "name": "stderr",
     "output_type": "stream",
     "text": [
      "\r",
      " 68%|██████████████████████████████████████                  | 136/200 [04:35<02:59,  2.81s/it]"
     ]
    },
    {
     "name": "stderr",
     "output_type": "stream",
     "text": [
      "\r",
      " 68%|██████████████████████████████████████▎                 | 137/200 [04:38<03:01,  2.88s/it]"
     ]
    },
    {
     "name": "stderr",
     "output_type": "stream",
     "text": [
      "\r",
      " 69%|██████████████████████████████████████▋                 | 138/200 [04:41<02:56,  2.84s/it]"
     ]
    },
    {
     "name": "stderr",
     "output_type": "stream",
     "text": [
      "\r",
      " 70%|██████████████████████████████████████▉                 | 139/200 [04:44<02:57,  2.91s/it]"
     ]
    },
    {
     "name": "stderr",
     "output_type": "stream",
     "text": [
      "\r",
      " 70%|███████████████████████████████████████▏                | 140/200 [04:47<02:53,  2.89s/it]"
     ]
    },
    {
     "name": "stderr",
     "output_type": "stream",
     "text": [
      "\r",
      " 70%|███████████████████████████████████████▍                | 141/200 [04:50<02:53,  2.94s/it]"
     ]
    },
    {
     "name": "stderr",
     "output_type": "stream",
     "text": [
      "\r",
      " 71%|███████████████████████████████████████▊                | 142/200 [04:53<02:48,  2.91s/it]"
     ]
    },
    {
     "name": "stderr",
     "output_type": "stream",
     "text": [
      "\r",
      " 72%|████████████████████████████████████████                | 143/200 [04:55<02:43,  2.87s/it]"
     ]
    },
    {
     "name": "stderr",
     "output_type": "stream",
     "text": [
      "\r",
      " 72%|████████████████████████████████████████▎               | 144/200 [05:00<03:15,  3.49s/it]"
     ]
    },
    {
     "name": "stderr",
     "output_type": "stream",
     "text": [
      "\r",
      " 72%|████████████████████████████████████████▌               | 145/200 [05:04<03:19,  3.62s/it]"
     ]
    },
    {
     "name": "stderr",
     "output_type": "stream",
     "text": [
      "\r",
      " 73%|████████████████████████████████████████▉               | 146/200 [05:09<03:28,  3.87s/it]"
     ]
    },
    {
     "name": "stderr",
     "output_type": "stream",
     "text": [
      "\r",
      " 74%|█████████████████████████████████████████▏              | 147/200 [05:12<03:15,  3.68s/it]"
     ]
    },
    {
     "name": "stderr",
     "output_type": "stream",
     "text": [
      "\r",
      " 74%|█████████████████████████████████████████▍              | 148/200 [05:15<03:05,  3.56s/it]"
     ]
    },
    {
     "name": "stderr",
     "output_type": "stream",
     "text": [
      "\r",
      " 74%|█████████████████████████████████████████▋              | 149/200 [05:19<03:12,  3.78s/it]"
     ]
    },
    {
     "name": "stderr",
     "output_type": "stream",
     "text": [
      "\r",
      " 75%|██████████████████████████████████████████              | 150/200 [05:24<03:17,  3.94s/it]"
     ]
    },
    {
     "name": "stderr",
     "output_type": "stream",
     "text": [
      "\r",
      " 76%|██████████████████████████████████████████▎             | 151/200 [05:28<03:22,  4.13s/it]"
     ]
    },
    {
     "name": "stderr",
     "output_type": "stream",
     "text": [
      "\r",
      " 76%|██████████████████████████████████████████▌             | 152/200 [05:33<03:21,  4.20s/it]"
     ]
    },
    {
     "name": "stderr",
     "output_type": "stream",
     "text": [
      "\r",
      " 76%|██████████████████████████████████████████▊             | 153/200 [05:37<03:23,  4.33s/it]"
     ]
    },
    {
     "name": "stderr",
     "output_type": "stream",
     "text": [
      "\r",
      " 77%|███████████████████████████████████████████             | 154/200 [05:42<03:19,  4.35s/it]"
     ]
    },
    {
     "name": "stderr",
     "output_type": "stream",
     "text": [
      "\r",
      " 78%|███████████████████████████████████████████▍            | 155/200 [05:46<03:19,  4.44s/it]"
     ]
    },
    {
     "name": "stderr",
     "output_type": "stream",
     "text": [
      "\r",
      " 78%|███████████████████████████████████████████▋            | 156/200 [05:51<03:15,  4.44s/it]"
     ]
    },
    {
     "name": "stderr",
     "output_type": "stream",
     "text": [
      "\r",
      " 78%|███████████████████████████████████████████▉            | 157/200 [05:54<02:50,  3.97s/it]"
     ]
    },
    {
     "name": "stderr",
     "output_type": "stream",
     "text": [
      "\r",
      " 79%|████████████████████████████████████████████▏           | 158/200 [05:57<02:34,  3.69s/it]"
     ]
    },
    {
     "name": "stderr",
     "output_type": "stream",
     "text": [
      "\r",
      " 80%|████████████████████████████████████████████▌           | 159/200 [05:59<02:19,  3.39s/it]"
     ]
    },
    {
     "name": "stderr",
     "output_type": "stream",
     "text": [
      "\r",
      " 80%|████████████████████████████████████████████▊           | 160/200 [06:03<02:18,  3.47s/it]"
     ]
    },
    {
     "name": "stderr",
     "output_type": "stream",
     "text": [
      "\r",
      " 80%|█████████████████████████████████████████████           | 161/200 [06:08<02:34,  3.96s/it]"
     ]
    },
    {
     "name": "stderr",
     "output_type": "stream",
     "text": [
      "\r",
      " 81%|█████████████████████████████████████████████▎          | 162/200 [06:11<02:21,  3.71s/it]"
     ]
    },
    {
     "name": "stderr",
     "output_type": "stream",
     "text": [
      "\r",
      " 82%|█████████████████████████████████████████████▋          | 163/200 [06:15<02:13,  3.62s/it]"
     ]
    },
    {
     "name": "stderr",
     "output_type": "stream",
     "text": [
      "\r",
      " 82%|█████████████████████████████████████████████▉          | 164/200 [06:18<02:05,  3.48s/it]"
     ]
    },
    {
     "name": "stderr",
     "output_type": "stream",
     "text": [
      "\r",
      " 82%|██████████████████████████████████████████████▏         | 165/200 [06:21<02:00,  3.45s/it]"
     ]
    },
    {
     "name": "stderr",
     "output_type": "stream",
     "text": [
      "\r",
      " 83%|██████████████████████████████████████████████▍         | 166/200 [06:24<01:53,  3.35s/it]"
     ]
    },
    {
     "name": "stderr",
     "output_type": "stream",
     "text": [
      "\r",
      " 84%|██████████████████████████████████████████████▊         | 167/200 [06:28<01:51,  3.37s/it]"
     ]
    },
    {
     "name": "stderr",
     "output_type": "stream",
     "text": [
      "\r",
      " 84%|███████████████████████████████████████████████         | 168/200 [06:31<01:47,  3.35s/it]"
     ]
    },
    {
     "name": "stderr",
     "output_type": "stream",
     "text": [
      "\r",
      " 84%|███████████████████████████████████████████████▎        | 169/200 [06:35<01:46,  3.44s/it]"
     ]
    },
    {
     "name": "stderr",
     "output_type": "stream",
     "text": [
      "\r",
      " 85%|███████████████████████████████████████████████▌        | 170/200 [06:38<01:42,  3.41s/it]"
     ]
    },
    {
     "name": "stderr",
     "output_type": "stream",
     "text": [
      "\r",
      " 86%|███████████████████████████████████████████████▉        | 171/200 [06:43<01:50,  3.83s/it]"
     ]
    },
    {
     "name": "stderr",
     "output_type": "stream",
     "text": [
      "\r",
      " 86%|████████████████████████████████████████████████▏       | 172/200 [06:48<01:58,  4.25s/it]"
     ]
    },
    {
     "name": "stderr",
     "output_type": "stream",
     "text": [
      "\r",
      " 86%|████████████████████████████████████████████████▍       | 173/200 [06:52<01:48,  4.02s/it]"
     ]
    },
    {
     "name": "stderr",
     "output_type": "stream",
     "text": [
      "\r",
      " 87%|████████████████████████████████████████████████▋       | 174/200 [06:55<01:38,  3.78s/it]"
     ]
    },
    {
     "name": "stderr",
     "output_type": "stream",
     "text": [
      "\r",
      " 88%|█████████████████████████████████████████████████       | 175/200 [07:01<01:51,  4.46s/it]"
     ]
    },
    {
     "name": "stderr",
     "output_type": "stream",
     "text": [
      "\r",
      " 88%|█████████████████████████████████████████████████▎      | 176/200 [07:04<01:38,  4.10s/it]"
     ]
    },
    {
     "name": "stderr",
     "output_type": "stream",
     "text": [
      "\r",
      " 88%|█████████████████████████████████████████████████▌      | 177/200 [07:08<01:30,  3.95s/it]"
     ]
    },
    {
     "name": "stderr",
     "output_type": "stream",
     "text": [
      "\r",
      " 89%|█████████████████████████████████████████████████▊      | 178/200 [07:11<01:25,  3.87s/it]"
     ]
    },
    {
     "name": "stderr",
     "output_type": "stream",
     "text": [
      "\r",
      " 90%|██████████████████████████████████████████████████      | 179/200 [07:15<01:22,  3.93s/it]"
     ]
    },
    {
     "name": "stderr",
     "output_type": "stream",
     "text": [
      "\r",
      " 90%|██████████████████████████████████████████████████▍     | 180/200 [07:19<01:18,  3.91s/it]"
     ]
    },
    {
     "name": "stderr",
     "output_type": "stream",
     "text": [
      "\r",
      " 90%|██████████████████████████████████████████████████▋     | 181/200 [07:24<01:17,  4.07s/it]"
     ]
    },
    {
     "name": "stderr",
     "output_type": "stream",
     "text": [
      "\r",
      " 91%|██████████████████████████████████████████████████▉     | 182/200 [07:28<01:12,  4.01s/it]"
     ]
    },
    {
     "name": "stderr",
     "output_type": "stream",
     "text": [
      "\r",
      " 92%|███████████████████████████████████████████████████▏    | 183/200 [07:34<01:20,  4.76s/it]"
     ]
    },
    {
     "name": "stderr",
     "output_type": "stream",
     "text": [
      "\r",
      " 92%|███████████████████████████████████████████████████▌    | 184/200 [07:38<01:10,  4.44s/it]"
     ]
    },
    {
     "name": "stderr",
     "output_type": "stream",
     "text": [
      "\r",
      " 92%|███████████████████████████████████████████████████▊    | 185/200 [07:41<01:03,  4.21s/it]"
     ]
    },
    {
     "name": "stderr",
     "output_type": "stream",
     "text": [
      "\r",
      " 93%|████████████████████████████████████████████████████    | 186/200 [07:45<00:56,  4.04s/it]"
     ]
    },
    {
     "name": "stderr",
     "output_type": "stream",
     "text": [
      "\r",
      " 94%|████████████████████████████████████████████████████▎   | 187/200 [07:49<00:50,  3.91s/it]"
     ]
    },
    {
     "name": "stderr",
     "output_type": "stream",
     "text": [
      "\r",
      " 94%|████████████████████████████████████████████████████▋   | 188/200 [07:52<00:46,  3.84s/it]"
     ]
    },
    {
     "name": "stderr",
     "output_type": "stream",
     "text": [
      "\r",
      " 94%|████████████████████████████████████████████████████▉   | 189/200 [07:58<00:47,  4.29s/it]"
     ]
    },
    {
     "name": "stderr",
     "output_type": "stream",
     "text": [
      "\r",
      " 95%|█████████████████████████████████████████████████████▏  | 190/200 [08:03<00:44,  4.47s/it]"
     ]
    },
    {
     "name": "stderr",
     "output_type": "stream",
     "text": [
      "\r",
      " 96%|█████████████████████████████████████████████████████▍  | 191/200 [08:06<00:37,  4.20s/it]"
     ]
    },
    {
     "name": "stderr",
     "output_type": "stream",
     "text": [
      "\r",
      " 96%|█████████████████████████████████████████████████████▊  | 192/200 [08:09<00:31,  3.89s/it]"
     ]
    },
    {
     "name": "stderr",
     "output_type": "stream",
     "text": [
      "\r",
      " 96%|██████████████████████████████████████████████████████  | 193/200 [08:13<00:26,  3.77s/it]"
     ]
    },
    {
     "name": "stderr",
     "output_type": "stream",
     "text": [
      "\r",
      " 97%|██████████████████████████████████████████████████████▎ | 194/200 [08:17<00:22,  3.81s/it]"
     ]
    },
    {
     "name": "stderr",
     "output_type": "stream",
     "text": [
      "\r",
      " 98%|██████████████████████████████████████████████████████▌ | 195/200 [08:21<00:20,  4.01s/it]"
     ]
    },
    {
     "name": "stderr",
     "output_type": "stream",
     "text": [
      "\r",
      " 98%|██████████████████████████████████████████████████████▉ | 196/200 [08:24<00:14,  3.66s/it]"
     ]
    },
    {
     "name": "stderr",
     "output_type": "stream",
     "text": [
      "\r",
      " 98%|███████████████████████████████████████████████████████▏| 197/200 [08:30<00:12,  4.24s/it]"
     ]
    },
    {
     "name": "stderr",
     "output_type": "stream",
     "text": [
      "\r",
      " 99%|███████████████████████████████████████████████████████▍| 198/200 [08:35<00:09,  4.51s/it]"
     ]
    },
    {
     "name": "stderr",
     "output_type": "stream",
     "text": [
      "\r",
      "100%|███████████████████████████████████████████████████████▋| 199/200 [08:40<00:04,  4.74s/it]"
     ]
    },
    {
     "name": "stderr",
     "output_type": "stream",
     "text": [
      "\r",
      "100%|████████████████████████████████████████████████████████| 200/200 [08:46<00:00,  5.04s/it]"
     ]
    },
    {
     "name": "stderr",
     "output_type": "stream",
     "text": [
      "\r",
      "100%|████████████████████████████████████████████████████████| 200/200 [08:46<00:00,  2.63s/it]"
     ]
    },
    {
     "name": "stderr",
     "output_type": "stream",
     "text": [
      "\n"
     ]
    }
   ],
   "source": [
    "# Create the population and populate the history\n",
    "population = toolbox.population(n=POPULATION_SIZE)\n",
    "\n",
    "species_ancestor = hstrat.HereditaryStratigraphicColumn(\n",
    "    stratum_retention_policy=hstrat.nominal_resolution_algo.Policy(),\n",
    "    stratum_differentia_bit_width=HSTRAT_DIFFERENTIA_WIDTH,\n",
    ")\n",
    "for member in population:\n",
    "    member.species_annotation = species_ancestor.CloneDescendant()\n",
    "    member.gene_annotation = hstrat.HereditaryStratigraphicColumn(\n",
    "        stratum_retention_policy=hstrat.perfect_resolution_algo.Policy(),\n",
    "        stratum_differentia_bit_width=HSTRAT_DIFFERENTIA_WIDTH,\n",
    "        initial_stratum_annotation=0,\n",
    "    ).CloneDescendant(0)\n",
    "\n",
    "\n",
    "# Do the evolution, the decorators will take care of updating the\n",
    "# history\n",
    "prevalences = []\n",
    "for gen in tqdm(range(NGEN)):\n",
    "    prevalences.append(sum(1 for x in population if x[0] > 0))\n",
    "\n",
    "    offspring = deap_algorithms.varAnd(\n",
    "        population, toolbox, cxpb=1.0, mutpb=0.0\n",
    "    )\n",
    "    fits = toolbox.map(toolbox.evaluate, offspring)\n",
    "    for fit, ind in zip(fits, offspring):\n",
    "        ind.fitness.values = fit\n",
    "    population = toolbox.select(offspring, k=len(population))\n",
    "    population = [copy.deepcopy(ind) for ind in population]\n",
    "\n",
    "    if gen >= NGEN // 4:\n",
    "        if prevalences[-1] == 0:\n",
    "            population[0][0] = MILL_FITNESS_ADVANTAGE\n",
    "\n"
   ]
  },
  {
   "cell_type": "markdown",
   "id": "7e11a002",
   "metadata": {
    "papermill": {
     "duration": 0.146825,
     "end_time": "2023-05-23T22:47:59.354031",
     "exception": false,
     "start_time": "2023-05-23T22:47:59.207206",
     "status": "completed"
    },
    "tags": []
   },
   "source": [
    "# Visualization\n"
   ]
  },
  {
   "cell_type": "code",
   "execution_count": 10,
   "id": "a3240cae",
   "metadata": {
    "execution": {
     "iopub.execute_input": "2023-05-23T22:47:59.660663Z",
     "iopub.status.busy": "2023-05-23T22:47:59.659792Z",
     "iopub.status.idle": "2023-05-23T22:48:00.941432Z",
     "shell.execute_reply": "2023-05-23T22:48:00.941881Z"
    },
    "papermill": {
     "duration": 1.438742,
     "end_time": "2023-05-23T22:48:00.942023",
     "exception": false,
     "start_time": "2023-05-23T22:47:59.503281",
     "status": "completed"
    },
    "tags": []
   },
   "outputs": [
    {
     "name": "stdout",
     "output_type": "stream",
     "text": [
      "teeplots/./fitness-advantage=1.0+notebook=gene-selection-inference+replicate=0+viz=plot-sweep-and-annotations+ext=.pdf\n"
     ]
    },
    {
     "name": "stdout",
     "output_type": "stream",
     "text": [
      "teeplots/./fitness-advantage=1.0+notebook=gene-selection-inference+replicate=0+viz=plot-sweep-and-annotations+ext=.png\n"
     ]
    },
    {
     "data": {
      "image/png": "[encoded data removed]",
      "text/plain": [
       "<Figure size 432x288 with 2 Axes>"
      ]
     },
     "metadata": {
      "needs_background": "light"
     },
     "output_type": "display_data"
    }
   ],
   "source": [
    "annotations = [\n",
    "    s.GetAnnotation().bit_count()\n",
    "    for s in population[0].gene_annotation.IterRetainedStrata()\n",
    "]\n",
    "\n",
    "\n",
    "def plot_sweep_and_annotations():\n",
    "    # Create a figure and a single subplot\n",
    "    fig, ax1 = plt.subplots()\n",
    "\n",
    "    # Make the first plot on ax1\n",
    "    sns.lineplot(data=annotations, color=\"b\", ax=ax1)\n",
    "    ax1.set_ylabel(\"Stratum Annotation Bit Count\", color=\"b\")\n",
    "    ax1.tick_params(\"y\", colors=\"b\")\n",
    "\n",
    "    # Create a second axes that shares the same x-axis\n",
    "    ax2 = ax1.twinx()\n",
    "\n",
    "    # Make the second plot on ax2\n",
    "    sns.lineplot(data=prevalences, color=\"r\", ax=ax2)\n",
    "    ax2.set_ylabel(\"Gene Prevalence\", color=\"r\")\n",
    "    ax2.tick_params(\"y\", colors=\"r\")\n",
    "\n",
    "    ax1.set_xlabel(\"Generation\")\n",
    "\n",
    "    fig.tight_layout()  # otherwise the right y-label is slightly clipped\n",
    "\n",
    "\n",
    "tp.tee(\n",
    "    plot_sweep_and_annotations,\n",
    "    teeplot_outattrs={\n",
    "        \"notebook\": \"gene-selection-inference\",\n",
    "        \"replicate\": str(MILL_REPLICATE),\n",
    "        \"fitness-advantage\": str(MILL_FITNESS_ADVANTAGE),\n",
    "    },\n",
    ")\n"
   ]
  },
  {
   "cell_type": "code",
   "execution_count": 11,
   "id": "14d9580e",
   "metadata": {
    "execution": {
     "iopub.execute_input": "2023-05-23T22:48:01.103251Z",
     "iopub.status.busy": "2023-05-23T22:48:01.102410Z",
     "iopub.status.idle": "2023-05-23T22:48:01.107869Z",
     "shell.execute_reply": "2023-05-23T22:48:01.107324Z"
    },
    "papermill": {
     "duration": 0.088914,
     "end_time": "2023-05-23T22:48:01.107987",
     "exception": false,
     "start_time": "2023-05-23T22:48:01.019073",
     "status": "completed"
    },
    "tags": []
   },
   "outputs": [],
   "source": [
    "records = [\n",
    "    {\n",
    "        \"notebook\": \"gene-selection-inference\",\n",
    "        \"replicate\": MILL_REPLICATE,\n",
    "        \"fitness-advantage\": MILL_FITNESS_ADVANTAGE,\n",
    "        \"generation\": generation,\n",
    "        \"prevalence\": prevalence,\n",
    "        \"annotation\": annotation,\n",
    "    }\n",
    "    for generation, (prevalence, annotation) in enumerate(\n",
    "        zip(prevalences, annotations)\n",
    "    )\n",
    "]\n",
    "outdf = pd.DataFrame.from_records(records)\n",
    "outdf.to_csv(\n",
    "    kn.pack(\n",
    "        {\n",
    "            \"a\": \"prevalence-annotation-by-generation\",\n",
    "            \"notebook\": \"gene-selection-inference\",\n",
    "            \"replicate\": str(MILL_REPLICATE),\n",
    "            \"fitness-advantage\": str(MILL_FITNESS_ADVANTAGE),\n",
    "            \"ext\": \".csv\",\n",
    "        }\n",
    "    )\n",
    ")\n"
   ]
  }
 ],
 "metadata": {
  "kernelspec": {
   "display_name": "Python 3",
   "language": "python",
   "name": "python3"
  },
  "language_info": {
   "codemirror_mode": {
    "name": "ipython",
    "version": 3
   },
   "file_extension": ".py",
   "mimetype": "text/x-python",
   "name": "python",
   "nbconvert_exporter": "python",
   "pygments_lexer": "ipython3",
   "version": "3.10.6"
  },
  "papermill": {
   "default_parameters": {},
   "duration": 538.107852,
   "end_time": "2023-05-23T22:48:02.211838",
   "environment_variables": {},
   "exception": null,
   "input_path": "gene-selection-inference.ipynb",
   "output_path": "gene-selection-inference-parameterization-2.ipynb",
   "parameters": {
    "MILL_FITNESS_ADVANTAGE": 1.0,
    "MILL_REPLICATE": 0
   },
   "start_time": "2023-05-23T22:39:04.103986",
   "version": "2.4.0"
  }
 },
 "nbformat": 4,
 "nbformat_minor": 5
}