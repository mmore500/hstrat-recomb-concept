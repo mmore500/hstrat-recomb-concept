{
 "cells": [
  {
   "cell_type": "code",
   "execution_count": 1,
   "id": "0a68eef5",
   "metadata": {
    "execution": {
     "iopub.execute_input": "2023-05-24T02:46:44.983268Z",
     "iopub.status.busy": "2023-05-24T02:46:44.981797Z",
     "iopub.status.idle": "2023-05-24T02:46:47.290137Z",
     "shell.execute_reply": "2023-05-24T02:46:47.291314Z"
    },
    "papermill": {
     "duration": 2.380703,
     "end_time": "2023-05-24T02:46:47.291757",
     "exception": false,
     "start_time": "2023-05-24T02:46:44.911054",
     "status": "completed"
    },
    "tags": []
   },
   "outputs": [],
   "source": [
    "import endomill\n",
    "import yaml\n"
   ]
  },
  {
   "cell_type": "code",
   "execution_count": 2,
   "id": "b7a80b79",
   "metadata": {
    "execution": {
     "iopub.execute_input": "2023-05-24T02:46:47.400002Z",
     "iopub.status.busy": "2023-05-24T02:46:47.398663Z",
     "iopub.status.idle": "2023-05-24T02:46:47.430330Z",
     "shell.execute_reply": "2023-05-24T02:46:47.431388Z"
    },
    "papermill": {
     "duration": 0.085322,
     "end_time": "2023-05-24T02:46:47.431683",
     "exception": false,
     "start_time": "2023-05-24T02:46:47.346361",
     "status": "completed"
    },
    "tags": []
   },
   "outputs": [],
   "source": [
    "parameter_packs = [\n",
    "    {\n",
    "        \"MILL_TREATMENT_NAME\": treatment,\n",
    "        \"MILL_REPLICATE\": replicate,\n",
    "    }\n",
    "    for treatment in [\"bag\", \"ring\", \"allopatry\"]\n",
    "    for replicate in range(10)\n",
    "]\n",
    "\n",
    "\n",
    "for i, pp in enumerate(parameter_packs):\n",
    "    with open(f\"species-inference-parameterization-{i}.yaml\", \"w\") as file:\n",
    "        yaml.safe_dump(pp, file)\n",
    "# endomill.instantiate_over(parameter_packs=parameter_packs)\n"
   ]
  },
  {
   "cell_type": "markdown",
   "id": "65eb24d6",
   "metadata": {
    "papermill": {
     "duration": 0.052074,
     "end_time": "2023-05-24T02:46:47.534433",
     "exception": false,
     "start_time": "2023-05-24T02:46:47.482359",
     "status": "completed"
    },
    "tags": []
   },
   "source": [
    "# Papermill Parameters\n"
   ]
  },
  {
   "cell_type": "code",
   "execution_count": 3,
   "id": "bba14974",
   "metadata": {
    "execution": {
     "iopub.execute_input": "2023-05-24T02:46:47.646279Z",
     "iopub.status.busy": "2023-05-24T02:46:47.641401Z",
     "iopub.status.idle": "2023-05-24T02:46:47.650670Z",
     "shell.execute_reply": "2023-05-24T02:46:47.655862Z"
    },
    "papermill": {
     "duration": 0.069101,
     "end_time": "2023-05-24T02:46:47.656146",
     "exception": false,
     "start_time": "2023-05-24T02:46:47.587045",
     "status": "completed"
    },
    "tags": [
     "parameters"
    ]
   },
   "outputs": [],
   "source": [
    "MILL_TREATMENT_NAME: str\n",
    "MILL_REPLICATE: int\n"
   ]
  },
  {
   "cell_type": "code",
   "execution_count": 4,
   "id": "a54666dc",
   "metadata": {
    "execution": {
     "iopub.execute_input": "2023-05-24T02:46:47.769651Z",
     "iopub.status.busy": "2023-05-24T02:46:47.768362Z",
     "iopub.status.idle": "2023-05-24T02:46:47.771484Z",
     "shell.execute_reply": "2023-05-24T02:46:47.772132Z"
    },
    "papermill": {
     "duration": 0.037927,
     "end_time": "2023-05-24T02:46:47.772350",
     "exception": false,
     "start_time": "2023-05-24T02:46:47.734423",
     "status": "completed"
    },
    "tags": [
     "injected-parameters"
    ]
   },
   "outputs": [],
   "source": [
    "# Parameters\n",
    "MILL_REPLICATE = 8\n",
    "MILL_TREATMENT_NAME = \"bag\"\n"
   ]
  },
  {
   "cell_type": "markdown",
   "id": "d3ea58b6",
   "metadata": {
    "papermill": {
     "duration": 0.029583,
     "end_time": "2023-05-24T02:46:47.830620",
     "exception": false,
     "start_time": "2023-05-24T02:46:47.801037",
     "status": "completed"
    },
    "tags": []
   },
   "source": [
    "# Global Setup\n"
   ]
  },
  {
   "cell_type": "code",
   "execution_count": 5,
   "id": "cd90c517",
   "metadata": {
    "execution": {
     "iopub.execute_input": "2023-05-24T02:46:47.898605Z",
     "iopub.status.busy": "2023-05-24T02:46:47.893034Z",
     "iopub.status.idle": "2023-05-24T02:46:56.830101Z",
     "shell.execute_reply": "2023-05-24T02:46:56.829051Z"
    },
    "papermill": {
     "duration": 8.969977,
     "end_time": "2023-05-24T02:46:56.830370",
     "exception": false,
     "start_time": "2023-05-24T02:46:47.860393",
     "status": "completed"
    },
    "tags": []
   },
   "outputs": [],
   "source": [
    "import copy\n",
    "import math\n",
    "import itertools as it\n",
    "import typing\n",
    "import random\n",
    "\n",
    "import alifedata_phyloinformatics_convert as apc\n",
    "from Bio import Phylo as BioPhylo\n",
    "from deap import algorithms as deap_algorithms\n",
    "from deap import base as deap_base\n",
    "from deap import creator as deap_creator\n",
    "from deap import tools as deap_tools\n",
    "\n",
    "from hstrat import hstrat\n",
    "from iterpop import iterpop as ip\n",
    "from keyname import keyname as kn\n",
    "from matplotlib import pyplot as plt\n",
    "from nbmetalog import nbmetalog as nbm\n",
    "import numpy as np\n",
    "import pandas as pd\n",
    "from scipy import stats as scipy_stats\n",
    "import seaborn as sns\n",
    "import sympy\n",
    "from teeplot import teeplot as tp\n",
    "from tqdm import tqdm\n",
    "\n",
    "import pylib\n"
   ]
  },
  {
   "cell_type": "code",
   "execution_count": 6,
   "id": "054b2d77",
   "metadata": {
    "execution": {
     "iopub.execute_input": "2023-05-24T02:46:56.954279Z",
     "iopub.status.busy": "2023-05-24T02:46:56.952000Z",
     "iopub.status.idle": "2023-05-24T02:46:56.963764Z",
     "shell.execute_reply": "2023-05-24T02:46:56.953113Z"
    },
    "papermill": {
     "duration": 0.077909,
     "end_time": "2023-05-24T02:46:56.964036",
     "exception": false,
     "start_time": "2023-05-24T02:46:56.886127",
     "status": "completed"
    },
    "tags": []
   },
   "outputs": [],
   "source": [
    "random.seed(MILL_REPLICATE)\n"
   ]
  },
  {
   "cell_type": "code",
   "execution_count": 7,
   "id": "796b6c93",
   "metadata": {
    "execution": {
     "iopub.execute_input": "2023-05-24T02:46:57.141282Z",
     "iopub.status.busy": "2023-05-24T02:46:57.139971Z",
     "iopub.status.idle": "2023-05-24T02:46:59.216362Z",
     "shell.execute_reply": "2023-05-24T02:46:59.214790Z"
    },
    "papermill": {
     "duration": 2.149306,
     "end_time": "2023-05-24T02:46:59.216615",
     "exception": false,
     "start_time": "2023-05-24T02:46:57.067309",
     "status": "completed"
    },
    "tags": []
   },
   "outputs": [
    {
     "name": "stdout",
     "output_type": "stream",
     "text": [
      "context: local\n",
      "hostname: thinkpad\n",
      "interpreter: 3.10.6 (main, Mar 10 2023, 10:55:28) [GCC 11.3.0]\n",
      "nbcellexec: null\n",
      "nbname: None\n",
      "nbpath: None\n",
      "revision: null\n",
      "session: 21df32ae-5876-4dbf-8e9c-05c303922a45\n",
      "timestamp: 2023-05-23T19:46:58Z00:00\n",
      "\n",
      "\n"
     ]
    },
    {
     "name": "stdout",
     "output_type": "stream",
     "text": [
      "IPython==7.31.1\n",
      "keyname==0.5.2\n",
      "yaml==6.0\n",
      "Bio==1.79\n",
      "alifedata_phyloinformatics_convert==0.13.0\n",
      "deap==1.3\n",
      "endomill==0.1.3\n",
      "hstrat==1.6.1\n",
      "iterpop==0.4.1\n",
      "matplotlib==3.6.2\n",
      "nbmetalog==0.2.6\n",
      "numpy==1.23.5\n",
      "pandas==1.5.2\n",
      "scipy==1.10.1\n",
      "seaborn==0.12.1\n",
      "sympy==1.9\n",
      "teeplot==0.5.0\n",
      "re==2.2.1\n",
      "debugpy==1.6.6\n",
      "logging==0.5.1.2\n",
      "psutil==5.9.0\n",
      "zmq==22.3.0\n",
      "json==2.0.9\n",
      "ipykernel==6.7.0\n"
     ]
    }
   ],
   "source": [
    "nbm.print_metadata()\n"
   ]
  },
  {
   "cell_type": "markdown",
   "id": "7a6e1cc7",
   "metadata": {
    "papermill": {
     "duration": 0.050731,
     "end_time": "2023-05-24T02:46:59.319113",
     "exception": false,
     "start_time": "2023-05-24T02:46:59.268382",
     "status": "completed"
    },
    "tags": []
   },
   "source": [
    "# Parameters\n"
   ]
  },
  {
   "cell_type": "code",
   "execution_count": 8,
   "id": "df063f88",
   "metadata": {
    "execution": {
     "iopub.execute_input": "2023-05-24T02:46:59.466897Z",
     "iopub.status.busy": "2023-05-24T02:46:59.463393Z",
     "iopub.status.idle": "2023-05-24T02:46:59.469403Z",
     "shell.execute_reply": "2023-05-24T02:46:59.470553Z"
    },
    "papermill": {
     "duration": 0.085695,
     "end_time": "2023-05-24T02:46:59.470833",
     "exception": false,
     "start_time": "2023-05-24T02:46:59.385138",
     "status": "completed"
    },
    "tags": []
   },
   "outputs": [],
   "source": [
    "HSTRAT_DIFFERENTIA_WIDTH = 64\n",
    "NGEN = 200\n",
    "NPOP = 100\n",
    "NTOURN = 2\n"
   ]
  },
  {
   "cell_type": "markdown",
   "id": "f8fed6cb",
   "metadata": {
    "papermill": {
     "duration": 0.052116,
     "end_time": "2023-05-24T02:46:59.573594",
     "exception": false,
     "start_time": "2023-05-24T02:46:59.521478",
     "status": "completed"
    },
    "tags": []
   },
   "source": [
    "# Setup\n"
   ]
  },
  {
   "cell_type": "code",
   "execution_count": 9,
   "id": "a651c974",
   "metadata": {
    "execution": {
     "iopub.execute_input": "2023-05-24T02:46:59.703135Z",
     "iopub.status.busy": "2023-05-24T02:46:59.693037Z",
     "iopub.status.idle": "2023-05-24T02:46:59.707814Z",
     "shell.execute_reply": "2023-05-24T02:46:59.709263Z"
    },
    "papermill": {
     "duration": 0.081171,
     "end_time": "2023-05-24T02:46:59.709563",
     "exception": false,
     "start_time": "2023-05-24T02:46:59.628392",
     "status": "completed"
    },
    "tags": []
   },
   "outputs": [],
   "source": [
    "deap_creator.create(\"FitnessMax\", deap_base.Fitness, weights=(1.0,))\n",
    "deap_creator.create(\"Individual\", list, fitness=deap_creator.FitnessMax)\n",
    "\n",
    "toolbox = deap_base.Toolbox()\n",
    "\n",
    "toolbox.register(\"attr_bool\", random.randint, 0, 1)\n",
    "toolbox.register(\n",
    "    \"individual\",\n",
    "    deap_tools.initRepeat,\n",
    "    deap_creator.Individual,\n",
    "    toolbox.attr_bool,\n",
    "    n=100,\n",
    ")\n",
    "toolbox.register(\"population\", deap_tools.initRepeat, list, toolbox.individual)\n",
    "\n",
    "\n",
    "def evalOneMax(individual):\n",
    "    return (sum(individual),)\n",
    "\n",
    "\n",
    "toolbox.register(\"evaluate\", evalOneMax)\n",
    "toolbox.register(\"mate\", deap_tools.cxTwoPoint)\n",
    "toolbox.register(\"mutate\", deap_tools.mutFlipBit, indpb=0.05)\n",
    "toolbox.register(\"select\", deap_tools.selTournament, tournsize=NTOURN)\n",
    "\n",
    "# Decorate the variation operators\n",
    "history = deap_tools.History()\n",
    "toolbox.decorate(\"mate\", history.decorator)\n",
    "\n",
    "toolbox.decorate(\"mate\", pylib.deap.hstrat_mate_decorator)\n"
   ]
  },
  {
   "cell_type": "markdown",
   "id": "7be3a7ef",
   "metadata": {
    "papermill": {
     "duration": 0.056185,
     "end_time": "2023-05-24T02:46:59.822412",
     "exception": false,
     "start_time": "2023-05-24T02:46:59.766227",
     "status": "completed"
    },
    "tags": []
   },
   "source": [
    "# Evolve\n"
   ]
  },
  {
   "cell_type": "code",
   "execution_count": 10,
   "id": "793e91b9",
   "metadata": {
    "execution": {
     "iopub.execute_input": "2023-05-24T02:46:59.950805Z",
     "iopub.status.busy": "2023-05-24T02:46:59.945363Z",
     "iopub.status.idle": "2023-05-24T02:56:53.160006Z",
     "shell.execute_reply": "2023-05-24T02:56:53.158489Z"
    },
    "papermill": {
     "duration": 593.283094,
     "end_time": "2023-05-24T02:56:53.160263",
     "exception": false,
     "start_time": "2023-05-24T02:46:59.877169",
     "status": "completed"
    },
    "tags": []
   },
   "outputs": [],
   "source": [
    "# Create the population and populate the history\n",
    "population = toolbox.population(n=NPOP)\n",
    "\n",
    "species_ancestor = hstrat.HereditaryStratigraphicColumn(\n",
    "    stratum_retention_policy=hstrat.perfect_resolution_algo.Policy(),\n",
    "    stratum_differentia_bit_width=HSTRAT_DIFFERENTIA_WIDTH,\n",
    ")\n",
    "gene_ancestor = hstrat.HereditaryStratigraphicColumn(\n",
    "    stratum_retention_policy=hstrat.perfect_resolution_algo.Policy(),\n",
    "    stratum_differentia_bit_width=HSTRAT_DIFFERENTIA_WIDTH,\n",
    "    initial_stratum_annotation=0,\n",
    ")\n",
    "for member in population:\n",
    "    member.species_annotation = species_ancestor.CloneDescendant()\n",
    "    member.gene_annotation = gene_ancestor.CloneDescendant(0)\n",
    "\n",
    "history.update(population)\n",
    "\n",
    "# Do the evolution, the decorators will take care of updating the\n",
    "# history\n",
    "if MILL_TREATMENT_NAME == \"bag\":\n",
    "    for _gen in range(NGEN):\n",
    "        offspring = deap_algorithms.varAnd(\n",
    "            population,\n",
    "            toolbox,\n",
    "            cxpb=1.0,\n",
    "            mutpb=1.0,\n",
    "        )\n",
    "        fits = toolbox.map(toolbox.evaluate, offspring)\n",
    "        for fit, ind in zip(fits, offspring):\n",
    "            ind.fitness.values = fit\n",
    "        population = toolbox.select(offspring, k=NPOP)\n",
    "        population = [copy.deepcopy(ind) for ind in population]\n",
    "\n",
    "elif MILL_TREATMENT_NAME == \"ring\":\n",
    "    NUM_ISLANDS = 10\n",
    "    NUM_MIGRATIONS = 1\n",
    "    slice_size = len(population) // NUM_ISLANDS\n",
    "    for gen in tqdm(range(NGEN)):\n",
    "        for slice_ in pylib.util.iter_slices(len(population), slice_size):\n",
    "            subpopulation = population[slice_]\n",
    "            offspring = deap_algorithms.varAnd(\n",
    "                subpopulation, toolbox, cxpb=1.0, mutpb=1.0\n",
    "            )\n",
    "            fits = toolbox.map(toolbox.evaluate, offspring)\n",
    "            for fit, ind in zip(fits, offspring):\n",
    "                ind.fitness.values = fit\n",
    "            subpopulation = toolbox.select(offspring, k=len(subpopulation))\n",
    "            population[slice_] = [copy.deepcopy(ind) for ind in subpopulation]\n",
    "\n",
    "        for m in range(NUM_MIGRATIONS):\n",
    "            displacement = random.randrange(slice_size, 2 * slice_size)\n",
    "            a = random.randrange(len(population))\n",
    "            b = (a + displacement) % len(population)\n",
    "            population[a], population[b] = population[b], population[a]\n",
    "\n",
    "    from_subpopulations = []\n",
    "    for i in range(0, len(population), slice_size):\n",
    "        subpopulation = population[i : i + slice_size]\n",
    "        from_subpopulations.extend(subpopulation)\n",
    "    population = from_subpopulations\n",
    "\n",
    "elif MILL_TREATMENT_NAME == \"allopatry\":\n",
    "    # sympatry\n",
    "    for gen in tqdm(range(NGEN // 2)):\n",
    "        offspring = deap_algorithms.varAnd(\n",
    "            population, toolbox, cxpb=1.0, mutpb=1.0\n",
    "        )\n",
    "        fits = toolbox.map(toolbox.evaluate, offspring)\n",
    "\n",
    "        for fit, ind in zip(fits, offspring):\n",
    "            ind.fitness.values = fit\n",
    "        population = toolbox.select(offspring, k=len(population))\n",
    "        population = [copy.deepcopy(ind) for ind in population]\n",
    "\n",
    "    # two-island allopatry\n",
    "    slice_size = NPOP // 2\n",
    "    from_subpopulations = []\n",
    "    for i in range(0, len(population), slice_size):\n",
    "        subpopulation = population[i : i + slice_size]\n",
    "        for gen in tqdm(range(NGEN // 4)):\n",
    "            offspring = deap_algorithms.varAnd(\n",
    "                subpopulation, toolbox, cxpb=1.0, mutpb=1.0\n",
    "            )\n",
    "            fits = toolbox.map(toolbox.evaluate, offspring)\n",
    "            for fit, ind in zip(fits, offspring):\n",
    "                ind.fitness.values = fit\n",
    "            subpopulation = toolbox.select(offspring, k=len(subpopulation))\n",
    "            subpopulation = [copy.deepcopy(ind) for ind in subpopulation]\n",
    "\n",
    "        from_subpopulations.extend(subpopulation)\n",
    "    population = from_subpopulations\n",
    "\n",
    "    # three-island allopatry: left island\n",
    "    slice_size = NPOP // 2\n",
    "    from_subpopulations = []\n",
    "    for i in range(0, len(population) // 2, slice_size):\n",
    "        subpopulation = population[i : i + slice_size]\n",
    "        for gen in tqdm(range(NGEN // 4)):\n",
    "            offspring = deap_algorithms.varAnd(\n",
    "                subpopulation, toolbox, cxpb=1.0, mutpb=1.0\n",
    "            )\n",
    "            fits = toolbox.map(toolbox.evaluate, offspring)\n",
    "            for fit, ind in zip(fits, offspring):\n",
    "                ind.fitness.values = fit\n",
    "            subpopulation = toolbox.select(offspring, k=len(subpopulation))\n",
    "            subpopulation = [copy.deepcopy(ind) for ind in subpopulation]\n",
    "\n",
    "        from_subpopulations.extend(subpopulation)\n",
    "\n",
    "    # three-island allopatry: right five islands\n",
    "    slice_size = NPOP // 10\n",
    "    for i in range(len(population) // 2, len(population), slice_size):\n",
    "        subpopulation = population[i : i + slice_size]\n",
    "        for gen in tqdm(range(NGEN // 4)):\n",
    "            offspring = deap_algorithms.varAnd(\n",
    "                subpopulation, toolbox, cxpb=1.0, mutpb=1.0\n",
    "            )\n",
    "            fits = toolbox.map(toolbox.evaluate, offspring)\n",
    "            for fit, ind in zip(fits, offspring):\n",
    "                ind.fitness.values = fit\n",
    "            subpopulation = toolbox.select(offspring, k=len(subpopulation))\n",
    "            subpopulation = [copy.deepcopy(ind) for ind in subpopulation]\n",
    "\n",
    "        from_subpopulations.extend(subpopulation)\n",
    "\n",
    "    population = from_subpopulations\n",
    "\n",
    "else:\n",
    "    assert False, MILL_TREATMENT_NAME\n",
    "\n",
    "# ensure all extant organisms registered with phylogeny tracker\n",
    "for x in population:\n",
    "    history.update([x])\n"
   ]
  },
  {
   "cell_type": "markdown",
   "id": "7b21bebe",
   "metadata": {
    "papermill": {
     "duration": 0.056069,
     "end_time": "2023-05-24T02:56:53.276169",
     "exception": false,
     "start_time": "2023-05-24T02:56:53.220100",
     "status": "completed"
    },
    "tags": []
   },
   "source": [
    "# Reconstruction\n"
   ]
  },
  {
   "cell_type": "code",
   "execution_count": 11,
   "id": "253c99bc",
   "metadata": {
    "execution": {
     "iopub.execute_input": "2023-05-24T02:56:53.431867Z",
     "iopub.status.busy": "2023-05-24T02:56:53.416274Z",
     "iopub.status.idle": "2023-05-24T02:56:56.488520Z",
     "shell.execute_reply": "2023-05-24T02:56:56.489166Z"
    },
    "papermill": {
     "duration": 3.155546,
     "end_time": "2023-05-24T02:56:56.489364",
     "exception": false,
     "start_time": "2023-05-24T02:56:53.333818",
     "status": "completed"
    },
    "tags": []
   },
   "outputs": [
    {
     "data": {
      "text/html": [
       "<div>\n",
       "<style scoped>\n",
       "    .dataframe tbody tr th:only-of-type {\n",
       "        vertical-align: middle;\n",
       "    }\n",
       "\n",
       "    .dataframe tbody tr th {\n",
       "        vertical-align: top;\n",
       "    }\n",
       "\n",
       "    .dataframe thead th {\n",
       "        text-align: right;\n",
       "    }\n",
       "</style>\n",
       "<table border=\"1\" class=\"dataframe\">\n",
       "  <thead>\n",
       "    <tr style=\"text-align: right;\">\n",
       "      <th></th>\n",
       "      <th>id</th>\n",
       "      <th>ancestor_list</th>\n",
       "      <th>origin_time</th>\n",
       "      <th>taxon_label</th>\n",
       "      <th>ancestor_id</th>\n",
       "      <th>name</th>\n",
       "    </tr>\n",
       "  </thead>\n",
       "  <tbody>\n",
       "    <tr>\n",
       "      <th>0</th>\n",
       "      <td>0</td>\n",
       "      <td>[none]</td>\n",
       "      <td>0.0</td>\n",
       "      <td>Root</td>\n",
       "      <td>0</td>\n",
       "      <td>Root</td>\n",
       "    </tr>\n",
       "    <tr>\n",
       "      <th>191</th>\n",
       "      <td>191</td>\n",
       "      <td>[0]</td>\n",
       "      <td>190.0</td>\n",
       "      <td>Inner+r=190+d=P8FCBrRYIUq+uid=CQZwTDZdYLbkbj25...</td>\n",
       "      <td>0</td>\n",
       "      <td>Inner+r=190+d=P8FCBrRYIUq+uid=CQZwTDZdYLbkbj25...</td>\n",
       "    </tr>\n",
       "    <tr>\n",
       "      <th>196</th>\n",
       "      <td>196</td>\n",
       "      <td>[191]</td>\n",
       "      <td>193.0</td>\n",
       "      <td>Inner+r=193+d=P8N9Tjo_CKE+uid=Dknfa7gDr1BlE2v2...</td>\n",
       "      <td>191</td>\n",
       "      <td>Inner+r=193+d=P8N9Tjo_CKE+uid=Dknfa7gDr1BlE2v2...</td>\n",
       "    </tr>\n",
       "    <tr>\n",
       "      <th>198</th>\n",
       "      <td>198</td>\n",
       "      <td>[196]</td>\n",
       "      <td>194.0</td>\n",
       "      <td>Inner+r=194+d=P7JgdcZw8EF+uid=DuG4zEcDWKJ-uhqd...</td>\n",
       "      <td>196</td>\n",
       "      <td>Inner+r=194+d=P7JgdcZw8EF+uid=DuG4zEcDWKJ-uhqd...</td>\n",
       "    </tr>\n",
       "    <tr>\n",
       "      <th>199</th>\n",
       "      <td>199</td>\n",
       "      <td>[196]</td>\n",
       "      <td>194.0</td>\n",
       "      <td>Inner+r=194+d=O52oBHf1iVi+uid=BgkAdykjxOXYOSTw...</td>\n",
       "      <td>196</td>\n",
       "      <td>Inner+r=194+d=O52oBHf1iVi+uid=BgkAdykjxOXYOSTw...</td>\n",
       "    </tr>\n",
       "    <tr>\n",
       "      <th>...</th>\n",
       "      <td>...</td>\n",
       "      <td>...</td>\n",
       "      <td>...</td>\n",
       "      <td>...</td>\n",
       "      <td>...</td>\n",
       "      <td>...</td>\n",
       "    </tr>\n",
       "    <tr>\n",
       "      <th>554</th>\n",
       "      <td>554</td>\n",
       "      <td>[356]</td>\n",
       "      <td>201.0</td>\n",
       "      <td>20171</td>\n",
       "      <td>356</td>\n",
       "      <td>20171</td>\n",
       "    </tr>\n",
       "    <tr>\n",
       "      <th>555</th>\n",
       "      <td>555</td>\n",
       "      <td>[356]</td>\n",
       "      <td>201.0</td>\n",
       "      <td>20128</td>\n",
       "      <td>356</td>\n",
       "      <td>20128</td>\n",
       "    </tr>\n",
       "    <tr>\n",
       "      <th>556</th>\n",
       "      <td>556</td>\n",
       "      <td>[224]</td>\n",
       "      <td>201.0</td>\n",
       "      <td>20154</td>\n",
       "      <td>224</td>\n",
       "      <td>20154</td>\n",
       "    </tr>\n",
       "    <tr>\n",
       "      <th>557</th>\n",
       "      <td>557</td>\n",
       "      <td>[358]</td>\n",
       "      <td>201.0</td>\n",
       "      <td>20138</td>\n",
       "      <td>358</td>\n",
       "      <td>20138</td>\n",
       "    </tr>\n",
       "    <tr>\n",
       "      <th>558</th>\n",
       "      <td>558</td>\n",
       "      <td>[358]</td>\n",
       "      <td>201.0</td>\n",
       "      <td>20127</td>\n",
       "      <td>358</td>\n",
       "      <td>20127</td>\n",
       "    </tr>\n",
       "  </tbody>\n",
       "</table>\n",
       "<p>155 rows × 6 columns</p>\n",
       "</div>"
      ],
      "text/plain": [
       "      id ancestor_list  origin_time  \\\n",
       "0      0        [none]          0.0   \n",
       "191  191           [0]        190.0   \n",
       "196  196         [191]        193.0   \n",
       "198  198         [196]        194.0   \n",
       "199  199         [196]        194.0   \n",
       "..   ...           ...          ...   \n",
       "554  554         [356]        201.0   \n",
       "555  555         [356]        201.0   \n",
       "556  556         [224]        201.0   \n",
       "557  557         [358]        201.0   \n",
       "558  558         [358]        201.0   \n",
       "\n",
       "                                           taxon_label  ancestor_id  \\\n",
       "0                                                 Root            0   \n",
       "191  Inner+r=190+d=P8FCBrRYIUq+uid=CQZwTDZdYLbkbj25...            0   \n",
       "196  Inner+r=193+d=P8N9Tjo_CKE+uid=Dknfa7gDr1BlE2v2...          191   \n",
       "198  Inner+r=194+d=P7JgdcZw8EF+uid=DuG4zEcDWKJ-uhqd...          196   \n",
       "199  Inner+r=194+d=O52oBHf1iVi+uid=BgkAdykjxOXYOSTw...          196   \n",
       "..                                                 ...          ...   \n",
       "554                                              20171          356   \n",
       "555                                              20128          356   \n",
       "556                                              20154          224   \n",
       "557                                              20138          358   \n",
       "558                                              20127          358   \n",
       "\n",
       "                                                  name  \n",
       "0                                                 Root  \n",
       "191  Inner+r=190+d=P8FCBrRYIUq+uid=CQZwTDZdYLbkbj25...  \n",
       "196  Inner+r=193+d=P8N9Tjo_CKE+uid=Dknfa7gDr1BlE2v2...  \n",
       "198  Inner+r=194+d=P7JgdcZw8EF+uid=DuG4zEcDWKJ-uhqd...  \n",
       "199  Inner+r=194+d=O52oBHf1iVi+uid=BgkAdykjxOXYOSTw...  \n",
       "..                                                 ...  \n",
       "554                                              20171  \n",
       "555                                              20128  \n",
       "556                                              20154  \n",
       "557                                              20138  \n",
       "558                                              20127  \n",
       "\n",
       "[155 rows x 6 columns]"
      ]
     },
     "execution_count": 11,
     "metadata": {},
     "output_type": "execute_result"
    }
   ],
   "source": [
    "extant_nodes = [individual.history_index for individual in population]\n",
    "reconstructed_df = hstrat.build_tree(\n",
    "    [individual.species_annotation for individual in population],\n",
    "    version_pin=hstrat.__version__,\n",
    "    force_common_ancestry=True,\n",
    "    taxon_labels=map(str, extant_nodes),\n",
    ")\n",
    "reconstructed_df[\"name\"] = reconstructed_df[\"taxon_label\"]\n",
    "reconstructed_df.to_csv(\n",
    "    kn.pack(\n",
    "        {\n",
    "            \"a\": \"phylogeny\",\n",
    "            \"notebook\": \"species-inference\",\n",
    "            \"replicate\": str(MILL_REPLICATE),\n",
    "            \"treatment\": MILL_TREATMENT_NAME,\n",
    "            \"type\": \"reconstruction\",\n",
    "            \"ext\": \".csv\",\n",
    "        }\n",
    "    )\n",
    ")\n",
    "reconstructed_df\n"
   ]
  },
  {
   "cell_type": "code",
   "execution_count": 12,
   "id": "a1f56a95",
   "metadata": {
    "execution": {
     "iopub.execute_input": "2023-05-24T02:56:56.574020Z",
     "iopub.status.busy": "2023-05-24T02:56:56.572729Z",
     "iopub.status.idle": "2023-05-24T02:57:02.103487Z",
     "shell.execute_reply": "2023-05-24T02:57:02.104519Z"
    },
    "papermill": {
     "duration": 5.584701,
     "end_time": "2023-05-24T02:57:02.104820",
     "exception": false,
     "start_time": "2023-05-24T02:56:56.520119",
     "status": "completed"
    },
    "tags": []
   },
   "outputs": [
    {
     "name": "stdout",
     "output_type": "stream",
     "text": [
      "teeplots/./notebook=species-inference+replicate=8+treatment=bag+type=reconstruction+viz=draw-biopython-tree+ext=.pdf\n"
     ]
    },
    {
     "name": "stdout",
     "output_type": "stream",
     "text": [
      "teeplots/./notebook=species-inference+replicate=8+treatment=bag+type=reconstruction+viz=draw-biopython-tree+ext=.png\n"
     ]
    },
    {
     "data": {
      "image/png": "[encoded data removed]",
      "text/plain": [
       "<Figure size 468x288 with 1 Axes>"
      ]
     },
     "metadata": {
      "needs_background": "light"
     },
     "output_type": "display_data"
    }
   ],
   "source": [
    "reconstructed_tree = apc.alife_dataframe_to_biopython_tree(\n",
    "    reconstructed_df, setup_branch_lengths=True\n",
    ")\n",
    "BioPhylo.write(\n",
    "    reconstructed_tree,\n",
    "    kn.pack(\n",
    "        {\n",
    "            \"a\": \"phylogeny\",\n",
    "            \"notebook\": \"species-inference\",\n",
    "            \"replicate\": str(MILL_REPLICATE),\n",
    "            \"treatment\": MILL_TREATMENT_NAME,\n",
    "            \"type\": \"reconstruction\",\n",
    "            \"ext\": \".nwk\",\n",
    "        }\n",
    "    ),\n",
    "    'newick',\n",
    ")\n",
    "tp.tee(\n",
    "    pylib.tree.draw_biopython_tree,\n",
    "    reconstructed_tree,\n",
    "    teeplot_outattrs={\n",
    "        \"notebook\": \"species-inference\",\n",
    "        \"replicate\": str(MILL_REPLICATE),\n",
    "        \"treatment\": MILL_TREATMENT_NAME,\n",
    "        \"type\": \"reconstruction\",\n",
    "    },\n",
    ")\n"
   ]
  },
  {
   "cell_type": "code",
   "execution_count": 13,
   "id": "5610e992",
   "metadata": {
    "execution": {
     "iopub.execute_input": "2023-05-24T02:57:02.344136Z",
     "iopub.status.busy": "2023-05-24T02:57:02.342829Z",
     "iopub.status.idle": "2023-05-24T02:57:05.523316Z",
     "shell.execute_reply": "2023-05-24T02:57:05.524311Z"
    },
    "papermill": {
     "duration": 3.309337,
     "end_time": "2023-05-24T02:57:05.524608",
     "exception": false,
     "start_time": "2023-05-24T02:57:02.215271",
     "status": "completed"
    },
    "tags": []
   },
   "outputs": [
    {
     "name": "stdout",
     "output_type": "stream",
     "text": [
      "teeplots/./drop_overlapping_labels=true+notebook=species-inference+replicate=8+treatment=bag+type=reconstruction+viz=draw-biopython-tree+ext=.pdf\n"
     ]
    },
    {
     "name": "stdout",
     "output_type": "stream",
     "text": [
      "teeplots/./drop_overlapping_labels=true+notebook=species-inference+replicate=8+treatment=bag+type=reconstruction+viz=draw-biopython-tree+ext=.png\n"
     ]
    },
    {
     "data": {
      "image/png": "[encoded data removed]",
      "text/plain": [
       "<Figure size 650x400 with 1 Axes>"
      ]
     },
     "metadata": {},
     "output_type": "display_data"
    }
   ],
   "source": [
    "reconstructed_tree = apc.alife_dataframe_to_biopython_tree(\n",
    "    reconstructed_df, setup_branch_lengths=True\n",
    ")\n",
    "tp.tee(\n",
    "    pylib.tree.draw_biopython_tree,\n",
    "    reconstructed_tree,\n",
    "    drop_overlapping_labels=True,\n",
    "    teeplot_outattrs={\n",
    "        \"drop_overlapping_labels\": \"true\",\n",
    "        \"notebook\": \"species-inference\",\n",
    "        \"replicate\": str(MILL_REPLICATE),\n",
    "        \"treatment\": MILL_TREATMENT_NAME,\n",
    "        \"type\": \"reconstruction\",\n",
    "    },\n",
    ")\n"
   ]
  },
  {
   "cell_type": "code",
   "execution_count": 14,
   "id": "cac607f9",
   "metadata": {
    "execution": {
     "iopub.execute_input": "2023-05-24T02:57:05.750176Z",
     "iopub.status.busy": "2023-05-24T02:57:05.748782Z",
     "iopub.status.idle": "2023-05-24T02:57:08.316254Z",
     "shell.execute_reply": "2023-05-24T02:57:08.317330Z"
    },
    "papermill": {
     "duration": 2.653383,
     "end_time": "2023-05-24T02:57:08.317630",
     "exception": false,
     "start_time": "2023-05-24T02:57:05.664247",
     "status": "completed"
    },
    "tags": []
   },
   "outputs": [
    {
     "name": "stdout",
     "output_type": "stream",
     "text": [
      "teeplots/./max_leaves=20+notebook=species-inference+replicate=8+treatment=bag+type=reconstruction+viz=draw-biopython-tree+ext=.pdf\n"
     ]
    },
    {
     "name": "stdout",
     "output_type": "stream",
     "text": [
      "teeplots/./max_leaves=20+notebook=species-inference+replicate=8+treatment=bag+type=reconstruction+viz=draw-biopython-tree+ext=.png\n"
     ]
    },
    {
     "data": {
      "image/png": "[encoded data removed]",
      "text/plain": [
       "<Figure size 650x400 with 1 Axes>"
      ]
     },
     "metadata": {},
     "output_type": "display_data"
    }
   ],
   "source": [
    "reconstructed_tree = apc.alife_dataframe_to_biopython_tree(\n",
    "    reconstructed_df, setup_branch_lengths=True\n",
    ")\n",
    "tp.tee(\n",
    "    pylib.tree.draw_biopython_tree,\n",
    "    reconstructed_tree,\n",
    "    max_leaves=20,\n",
    "    teeplot_outattrs={\n",
    "        \"max_leaves\": \"20\",\n",
    "        \"notebook\": \"species-inference\",\n",
    "        \"replicate\": str(MILL_REPLICATE),\n",
    "        \"treatment\": MILL_TREATMENT_NAME,\n",
    "        \"type\": \"reconstruction\",\n",
    "    },\n",
    ")\n"
   ]
  },
  {
   "cell_type": "markdown",
   "id": "555c5f9e",
   "metadata": {
    "papermill": {
     "duration": 0.080632,
     "end_time": "2023-05-24T02:57:08.479281",
     "exception": false,
     "start_time": "2023-05-24T02:57:08.398649",
     "status": "completed"
    },
    "tags": []
   },
   "source": [
    "# Actual Pedigree\n"
   ]
  },
  {
   "cell_type": "code",
   "execution_count": 15,
   "id": "50052a5f",
   "metadata": {
    "execution": {
     "iopub.execute_input": "2023-05-24T02:57:08.651443Z",
     "iopub.status.busy": "2023-05-24T02:57:08.646030Z",
     "iopub.status.idle": "2023-05-24T02:57:25.960137Z",
     "shell.execute_reply": "2023-05-24T02:57:25.959046Z"
    },
    "papermill": {
     "duration": 17.404856,
     "end_time": "2023-05-24T02:57:25.960410",
     "exception": false,
     "start_time": "2023-05-24T02:57:08.555554",
     "status": "completed"
    },
    "tags": []
   },
   "outputs": [
    {
     "data": {
      "text/plain": [
       "1"
      ]
     },
     "execution_count": 15,
     "metadata": {},
     "output_type": "execute_result"
    }
   ],
   "source": [
    "distilled_tree = pylib.deap.history_to_tree_upgma(history, extant_nodes)\n",
    "BioPhylo.write(\n",
    "    distilled_tree,\n",
    "    kn.pack(\n",
    "        {\n",
    "            \"a\": \"phylogeny\",\n",
    "            \"notebook\": \"species-inference\",\n",
    "            \"replicate\": str(MILL_REPLICATE),\n",
    "            \"treatment\": MILL_TREATMENT_NAME,\n",
    "            \"type\": \"distilled-pedigree\",\n",
    "            \"ext\": \".nwk\",\n",
    "        }\n",
    "    ),\n",
    "    'newick',\n",
    ")\n"
   ]
  },
  {
   "cell_type": "code",
   "execution_count": 16,
   "id": "970ebfeb",
   "metadata": {
    "execution": {
     "iopub.execute_input": "2023-05-24T02:57:26.131044Z",
     "iopub.status.busy": "2023-05-24T02:57:26.129688Z",
     "iopub.status.idle": "2023-05-24T02:57:31.941450Z",
     "shell.execute_reply": "2023-05-24T02:57:31.942117Z"
    },
    "papermill": {
     "duration": 5.90305,
     "end_time": "2023-05-24T02:57:31.942355",
     "exception": false,
     "start_time": "2023-05-24T02:57:26.039305",
     "status": "completed"
    },
    "tags": []
   },
   "outputs": [
    {
     "name": "stdout",
     "output_type": "stream",
     "text": [
      "teeplots/./notebook=species-inference+replicate=8+treatment=bag+type=distilled-reference+viz=draw-biopython-tree+ext=.pdf\n"
     ]
    },
    {
     "name": "stdout",
     "output_type": "stream",
     "text": [
      "teeplots/./notebook=species-inference+replicate=8+treatment=bag+type=distilled-reference+viz=draw-biopython-tree+ext=.png\n"
     ]
    },
    {
     "data": {
      "image/png": "[encoded data removed]",
      "text/plain": [
       "<Figure size 650x400 with 1 Axes>"
      ]
     },
     "metadata": {},
     "output_type": "display_data"
    }
   ],
   "source": [
    "tp.tee(\n",
    "    pylib.tree.draw_biopython_tree,\n",
    "    distilled_tree,\n",
    "    teeplot_outattrs={\n",
    "        \"notebook\": \"species-inference\",\n",
    "        \"replicate\": str(MILL_REPLICATE),\n",
    "        \"treatment\": MILL_TREATMENT_NAME,\n",
    "        \"type\": \"distilled-reference\",\n",
    "    },\n",
    ")\n"
   ]
  },
  {
   "cell_type": "code",
   "execution_count": 17,
   "id": "0f3fc42b",
   "metadata": {
    "execution": {
     "iopub.execute_input": "2023-05-24T02:57:32.047996Z",
     "iopub.status.busy": "2023-05-24T02:57:32.042889Z",
     "iopub.status.idle": "2023-05-24T02:57:33.994493Z",
     "shell.execute_reply": "2023-05-24T02:57:33.995695Z"
    },
    "papermill": {
     "duration": 2.007701,
     "end_time": "2023-05-24T02:57:33.995982",
     "exception": false,
     "start_time": "2023-05-24T02:57:31.988281",
     "status": "completed"
    },
    "tags": []
   },
   "outputs": [
    {
     "name": "stdout",
     "output_type": "stream",
     "text": [
      "teeplots/./max_leaves=20+notebook=species-inference+replicate=8+treatment=bag+type=distilled-reference+viz=draw-biopython-tree+ext=.pdf\n"
     ]
    },
    {
     "name": "stdout",
     "output_type": "stream",
     "text": [
      "teeplots/./max_leaves=20+notebook=species-inference+replicate=8+treatment=bag+type=distilled-reference+viz=draw-biopython-tree+ext=.png\n"
     ]
    },
    {
     "data": {
      "image/png": "[encoded data removed]",
      "text/plain": [
       "<Figure size 650x400 with 1 Axes>"
      ]
     },
     "metadata": {},
     "output_type": "display_data"
    }
   ],
   "source": [
    "tp.tee(\n",
    "    pylib.tree.draw_biopython_tree,\n",
    "    distilled_tree,\n",
    "    max_leaves=20,\n",
    "    teeplot_outattrs={\n",
    "        \"max_leaves\": \"20\",\n",
    "        \"notebook\": \"species-inference\",\n",
    "        \"replicate\": str(MILL_REPLICATE),\n",
    "        \"treatment\": MILL_TREATMENT_NAME,\n",
    "        \"type\": \"distilled-reference\",\n",
    "    },\n",
    ")\n"
   ]
  },
  {
   "cell_type": "code",
   "execution_count": 18,
   "id": "577f4ed1",
   "metadata": {
    "execution": {
     "iopub.execute_input": "2023-05-24T02:57:34.200770Z",
     "iopub.status.busy": "2023-05-24T02:57:34.199486Z",
     "iopub.status.idle": "2023-05-24T02:57:38.236211Z",
     "shell.execute_reply": "2023-05-24T02:57:38.235127Z"
    },
    "papermill": {
     "duration": 4.145771,
     "end_time": "2023-05-24T02:57:38.236481",
     "exception": false,
     "start_time": "2023-05-24T02:57:34.090710",
     "status": "completed"
    },
    "tags": []
   },
   "outputs": [
    {
     "name": "stdout",
     "output_type": "stream",
     "text": [
      "teeplots/./drop_overlapping_labels=true+notebook=species-inference+replicate=8+treatment=bag+type=distilled-reference+viz=draw-biopython-tree+ext=.pdf\n"
     ]
    },
    {
     "name": "stdout",
     "output_type": "stream",
     "text": [
      "teeplots/./drop_overlapping_labels=true+notebook=species-inference+replicate=8+treatment=bag+type=distilled-reference+viz=draw-biopython-tree+ext=.png\n"
     ]
    },
    {
     "data": {
      "image/png": "[encoded data removed]",
      "text/plain": [
       "<Figure size 650x400 with 1 Axes>"
      ]
     },
     "metadata": {},
     "output_type": "display_data"
    }
   ],
   "source": [
    "tp.tee(\n",
    "    pylib.tree.draw_biopython_tree,\n",
    "    distilled_tree,\n",
    "    drop_overlapping_labels=True,\n",
    "    teeplot_outattrs={\n",
    "        \"drop_overlapping_labels\": \"true\",\n",
    "        \"notebook\": \"species-inference\",\n",
    "        \"replicate\": str(MILL_REPLICATE),\n",
    "        \"treatment\": MILL_TREATMENT_NAME,\n",
    "        \"type\": \"distilled-reference\",\n",
    "    },\n",
    ")\n"
   ]
  },
  {
   "cell_type": "code",
   "execution_count": 19,
   "id": "3baa3982",
   "metadata": {
    "execution": {
     "iopub.execute_input": "2023-05-24T02:57:38.464671Z",
     "iopub.status.busy": "2023-05-24T02:57:38.454148Z",
     "iopub.status.idle": "2023-05-24T02:57:54.508726Z",
     "shell.execute_reply": "2023-05-24T02:57:54.510814Z"
    },
    "papermill": {
     "duration": 16.170812,
     "end_time": "2023-05-24T02:57:54.511135",
     "exception": false,
     "start_time": "2023-05-24T02:57:38.340323",
     "status": "completed"
    },
    "tags": []
   },
   "outputs": [
    {
     "data": {
      "text/plain": [
       "0.6133402189366843"
      ]
     },
     "execution_count": 19,
     "metadata": {},
     "output_type": "execute_result"
    }
   ],
   "source": [
    "distilled_tree = pylib.deap.history_to_tree_upgma(\n",
    "    history, extant_nodes, correct_origin_times=False\n",
    ")\n",
    "BioPhylo.write(\n",
    "    distilled_tree,\n",
    "    kn.pack(\n",
    "        {\n",
    "            \"a\": \"phylogeny\",\n",
    "            \"notebook\": \"species-inference\",\n",
    "            \"replicate\": str(MILL_REPLICATE),\n",
    "            \"treatment\": MILL_TREATMENT_NAME,\n",
    "            \"type\": \"distilled-pedigree-uncorrected\",\n",
    "            \"ext\": \".nwk\",\n",
    "        }\n",
    "    ),\n",
    "    'newick',\n",
    ")\n",
    "\n",
    "quartet_dist = pylib.tree.polymorphic_quartet_distance(\n",
    "    reconstructed_tree, distilled_tree\n",
    ")\n",
    "quartet_dist\n"
   ]
  },
  {
   "cell_type": "code",
   "execution_count": 20,
   "id": "08bb07c8",
   "metadata": {
    "execution": {
     "iopub.execute_input": "2023-05-24T02:57:54.726724Z",
     "iopub.status.busy": "2023-05-24T02:57:54.725379Z",
     "iopub.status.idle": "2023-05-24T02:57:54.737582Z",
     "shell.execute_reply": "2023-05-24T02:57:54.738223Z"
    },
    "papermill": {
     "duration": 0.123542,
     "end_time": "2023-05-24T02:57:54.738425",
     "exception": false,
     "start_time": "2023-05-24T02:57:54.614883",
     "status": "completed"
    },
    "tags": []
   },
   "outputs": [
    {
     "data": {
      "text/html": [
       "<div>\n",
       "<style scoped>\n",
       "    .dataframe tbody tr th:only-of-type {\n",
       "        vertical-align: middle;\n",
       "    }\n",
       "\n",
       "    .dataframe tbody tr th {\n",
       "        vertical-align: top;\n",
       "    }\n",
       "\n",
       "    .dataframe thead th {\n",
       "        text-align: right;\n",
       "    }\n",
       "</style>\n",
       "<table border=\"1\" class=\"dataframe\">\n",
       "  <thead>\n",
       "    <tr style=\"text-align: right;\">\n",
       "      <th></th>\n",
       "      <th>replicate</th>\n",
       "      <th>treatment</th>\n",
       "      <th>quartet distance</th>\n",
       "    </tr>\n",
       "  </thead>\n",
       "  <tbody>\n",
       "    <tr>\n",
       "      <th>0</th>\n",
       "      <td>8</td>\n",
       "      <td>bag</td>\n",
       "      <td>0.61334</td>\n",
       "    </tr>\n",
       "  </tbody>\n",
       "</table>\n",
       "</div>"
      ],
      "text/plain": [
       "   replicate treatment  quartet distance\n",
       "0          8       bag           0.61334"
      ]
     },
     "execution_count": 20,
     "metadata": {},
     "output_type": "execute_result"
    }
   ],
   "source": [
    "records = [\n",
    "    {\n",
    "        \"replicate\": MILL_REPLICATE,\n",
    "        \"treatment\": MILL_TREATMENT_NAME,\n",
    "        \"quartet distance\": quartet_dist,\n",
    "    }\n",
    "]\n",
    "outdf = pd.DataFrame.from_records(records)\n",
    "outdf.to_csv(\n",
    "    kn.pack(\n",
    "        {\n",
    "            \"a\": \"reconstruction-accuracy\",\n",
    "            \"notebook\": \"species-inference\",\n",
    "            \"replicate\": MILL_REPLICATE,\n",
    "            \"treatment\": MILL_TREATMENT_NAME,\n",
    "            \"ext\": \".csv\",\n",
    "        }\n",
    "    )\n",
    ")\n",
    "outdf\n"
   ]
  }
 ],
 "metadata": {
  "kernelspec": {
   "display_name": "Python 3",
   "language": "python",
   "name": "python3"
  },
  "language_info": {
   "codemirror_mode": {
    "name": "ipython",
    "version": 3
   },
   "file_extension": ".py",
   "mimetype": "text/x-python",
   "name": "python",
   "nbconvert_exporter": "python",
   "pygments_lexer": "ipython3",
   "version": "3.10.6"
  },
  "papermill": {
   "default_parameters": {},
   "duration": 675.562279,
   "end_time": "2023-05-24T02:57:57.518747",
   "environment_variables": {},
   "exception": null,
   "input_path": "species-inference.ipynb",
   "output_path": "species-inference-parameterization-8.ipynb",
   "parameters": {
    "MILL_REPLICATE": 8,
    "MILL_TREATMENT_NAME": "bag"
   },
   "start_time": "2023-05-24T02:46:41.956468",
   "version": "2.4.0"
  }
 },
 "nbformat": 4,
 "nbformat_minor": 5
}