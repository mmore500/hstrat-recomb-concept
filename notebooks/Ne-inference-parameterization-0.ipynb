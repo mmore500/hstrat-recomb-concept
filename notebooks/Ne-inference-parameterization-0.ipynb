{
 "cells": [
  {
   "cell_type": "code",
   "execution_count": 1,
   "id": "aafb80d6",
   "metadata": {
    "execution": {
     "iopub.execute_input": "2023-05-23T19:42:41.396377Z",
     "iopub.status.busy": "2023-05-23T19:42:41.395819Z",
     "iopub.status.idle": "2023-05-23T19:42:43.254083Z",
     "shell.execute_reply": "2023-05-23T19:42:43.252976Z"
    },
    "papermill": {
     "duration": 1.88102,
     "end_time": "2023-05-23T19:42:43.257302",
     "exception": false,
     "start_time": "2023-05-23T19:42:41.376282",
     "status": "completed"
    },
    "tags": []
   },
   "outputs": [],
   "source": [
    "import endomill\n",
    "import yaml\n"
   ]
  },
  {
   "cell_type": "code",
   "execution_count": 2,
   "id": "656c8b8a",
   "metadata": {
    "execution": {
     "iopub.execute_input": "2023-05-23T19:42:43.281306Z",
     "iopub.status.busy": "2023-05-23T19:42:43.280206Z",
     "iopub.status.idle": "2023-05-23T19:42:43.350915Z",
     "shell.execute_reply": "2023-05-23T19:42:43.349563Z"
    },
    "papermill": {
     "duration": 0.087355,
     "end_time": "2023-05-23T19:42:43.354622",
     "exception": false,
     "start_time": "2023-05-23T19:42:43.267267",
     "status": "completed"
    },
    "tags": []
   },
   "outputs": [],
   "source": [
    "parameter_packs = (\n",
    "    [\n",
    "        {\n",
    "            \"MILL_TREATMENT_NAME\": \"bottleneck\",\n",
    "            \"MILL_NPOP_SEQ\": \"[100] * 67 + [10] * 66 + [100] * 67\",\n",
    "            \"MILL_REPLICATE\": replicate,\n",
    "        }\n",
    "        for replicate in range(10)\n",
    "    ]\n",
    "    + [\n",
    "        {\n",
    "            \"MILL_TREATMENT_NAME\": \"control\",\n",
    "            \"MILL_REPLICATE\": replicate,\n",
    "        }\n",
    "        for replicate in range(10)\n",
    "    ]\n",
    "    + [\n",
    "        {\n",
    "            \"MILL_TREATMENT_NAME\": \"selection-pressure\",\n",
    "            \"MILL_NTOURN_SEQ\": \"[8] * 67 + [1] * 66 + [8] * 67\",\n",
    "            \"MILL_REPLICATE\": replicate,\n",
    "        }\n",
    "        for replicate in range(10)\n",
    "    ]\n",
    "    + [\n",
    "        {\n",
    "            \"MILL_TREATMENT_NAME\": \"range-expansion\",\n",
    "            \"MILL_REPLICATE\": replicate,\n",
    "            \"MILL_NPOP_SEQ\": \"[10] * 67 + [*range(10, 142, 2)] + [142] * 67\",\n",
    "        }\n",
    "        for replicate in range(10)\n",
    "    ]\n",
    ")\n",
    "\n",
    "for i, pp in enumerate(parameter_packs):\n",
    "    with open(f\"Ne-inference-parameterization-{i}.yaml\", \"w\") as file:\n",
    "        yaml.safe_dump(pp, file)\n",
    "# endomill.instantiate_over(parameter_packs=parameter_packs)\n"
   ]
  },
  {
   "cell_type": "markdown",
   "id": "39ddc126",
   "metadata": {
    "papermill": {
     "duration": 0.01444,
     "end_time": "2023-05-23T19:42:43.383703",
     "exception": false,
     "start_time": "2023-05-23T19:42:43.369263",
     "status": "completed"
    },
    "tags": []
   },
   "source": [
    "# Papermill Parameters\n"
   ]
  },
  {
   "cell_type": "code",
   "execution_count": 3,
   "id": "c6b543c9",
   "metadata": {
    "execution": {
     "iopub.execute_input": "2023-05-23T19:42:43.419729Z",
     "iopub.status.busy": "2023-05-23T19:42:43.419159Z",
     "iopub.status.idle": "2023-05-23T19:42:43.429470Z",
     "shell.execute_reply": "2023-05-23T19:42:43.427901Z"
    },
    "papermill": {
     "duration": 0.036534,
     "end_time": "2023-05-23T19:42:43.435109",
     "exception": false,
     "start_time": "2023-05-23T19:42:43.398575",
     "status": "completed"
    },
    "tags": [
     "parameters"
    ]
   },
   "outputs": [],
   "source": [
    "MILL_NPOP_SEQ: str = \"[100] * 200\"\n",
    "MILL_NTOURN_SEQ: str = \"[2] * 200\"\n",
    "MILL_TREATMENT_NAME: str  # = \"control\"\n",
    "MILL_REPLICATE: int  # = 0\n"
   ]
  },
  {
   "cell_type": "code",
   "execution_count": 4,
   "id": "59b7b556",
   "metadata": {
    "execution": {
     "iopub.execute_input": "2023-05-23T19:42:43.469002Z",
     "iopub.status.busy": "2023-05-23T19:42:43.468241Z",
     "iopub.status.idle": "2023-05-23T19:42:43.477687Z",
     "shell.execute_reply": "2023-05-23T19:42:43.474635Z"
    },
    "papermill": {
     "duration": 0.031195,
     "end_time": "2023-05-23T19:42:43.482240",
     "exception": false,
     "start_time": "2023-05-23T19:42:43.451045",
     "status": "completed"
    },
    "tags": [
     "injected-parameters"
    ]
   },
   "outputs": [],
   "source": [
    "# Parameters\n",
    "MILL_NPOP_SEQ = \"[100] * 67 + [10] * 66 + [100] * 67\"\n",
    "MILL_REPLICATE = 0\n",
    "MILL_TREATMENT_NAME = \"bottleneck\"\n"
   ]
  },
  {
   "cell_type": "code",
   "execution_count": 5,
   "id": "f6fcbd49",
   "metadata": {
    "execution": {
     "iopub.execute_input": "2023-05-23T19:42:43.527526Z",
     "iopub.status.busy": "2023-05-23T19:42:43.526584Z",
     "iopub.status.idle": "2023-05-23T19:42:43.537704Z",
     "shell.execute_reply": "2023-05-23T19:42:43.535531Z"
    },
    "papermill": {
     "duration": 0.039479,
     "end_time": "2023-05-23T19:42:43.542823",
     "exception": false,
     "start_time": "2023-05-23T19:42:43.503344",
     "status": "completed"
    },
    "tags": []
   },
   "outputs": [],
   "source": [
    "MILL_NPOP_SEQ = eval(MILL_NPOP_SEQ)\n",
    "MILL_NTOURN_SEQ = eval(MILL_NTOURN_SEQ)\n"
   ]
  },
  {
   "cell_type": "markdown",
   "id": "013c8172",
   "metadata": {
    "papermill": {
     "duration": 0.019069,
     "end_time": "2023-05-23T19:42:43.580293",
     "exception": false,
     "start_time": "2023-05-23T19:42:43.561224",
     "status": "completed"
    },
    "tags": []
   },
   "source": [
    "# Global Setup\n"
   ]
  },
  {
   "cell_type": "code",
   "execution_count": 6,
   "id": "b2f8788e",
   "metadata": {
    "execution": {
     "iopub.execute_input": "2023-05-23T19:42:43.621629Z",
     "iopub.status.busy": "2023-05-23T19:42:43.621086Z",
     "iopub.status.idle": "2023-05-23T19:42:47.253770Z",
     "shell.execute_reply": "2023-05-23T19:42:47.251921Z"
    },
    "papermill": {
     "duration": 3.658489,
     "end_time": "2023-05-23T19:42:47.258064",
     "exception": false,
     "start_time": "2023-05-23T19:42:43.599575",
     "status": "completed"
    },
    "tags": []
   },
   "outputs": [],
   "source": [
    "import copy\n",
    "import math\n",
    "import itertools as it\n",
    "import typing\n",
    "import random\n",
    "\n",
    "import alifedata_phyloinformatics_convert as apc\n",
    "from deap import algorithms as deap_algorithms\n",
    "from deap import base as deap_base\n",
    "from deap import creator as deap_creator\n",
    "from deap import tools as deap_tools\n",
    "\n",
    "from hstrat import hstrat\n",
    "from iterpop import iterpop as ip\n",
    "from keyname import keyname as kn\n",
    "from matplotlib import pyplot as plt\n",
    "from nbmetalog import nbmetalog as nbm\n",
    "import numpy as np\n",
    "import pandas as pd\n",
    "from scipy import stats as scipy_stats\n",
    "import seaborn as sns\n",
    "import sympy\n",
    "from teeplot import teeplot as tp\n",
    "from tqdm import tqdm\n",
    "\n",
    "import pylib\n"
   ]
  },
  {
   "cell_type": "code",
   "execution_count": 7,
   "id": "4c18c785",
   "metadata": {
    "execution": {
     "iopub.execute_input": "2023-05-23T19:42:47.317000Z",
     "iopub.status.busy": "2023-05-23T19:42:47.315672Z",
     "iopub.status.idle": "2023-05-23T19:42:47.338055Z",
     "shell.execute_reply": "2023-05-23T19:42:47.336526Z"
    },
    "papermill": {
     "duration": 0.073792,
     "end_time": "2023-05-23T19:42:47.359265",
     "exception": false,
     "start_time": "2023-05-23T19:42:47.285473",
     "status": "completed"
    },
    "tags": []
   },
   "outputs": [],
   "source": [
    "random.seed(MILL_REPLICATE)\n"
   ]
  },
  {
   "cell_type": "code",
   "execution_count": 8,
   "id": "b8fbb33e",
   "metadata": {
    "execution": {
     "iopub.execute_input": "2023-05-23T19:42:47.395285Z",
     "iopub.status.busy": "2023-05-23T19:42:47.394732Z",
     "iopub.status.idle": "2023-05-23T19:42:49.303770Z",
     "shell.execute_reply": "2023-05-23T19:42:49.301997Z"
    },
    "papermill": {
     "duration": 1.931931,
     "end_time": "2023-05-23T19:42:49.308436",
     "exception": false,
     "start_time": "2023-05-23T19:42:47.376505",
     "status": "completed"
    },
    "tags": []
   },
   "outputs": [
    {
     "name": "stdout",
     "output_type": "stream",
     "text": [
      "context: local\n",
      "hostname: thinkpad\n",
      "interpreter: 3.10.6 (main, Mar 10 2023, 10:55:28) [GCC 11.3.0]\n",
      "nbcellexec: null\n",
      "nbname: None\n",
      "nbpath: None\n",
      "revision: null\n",
      "session: 7262ab75-0349-48c5-8d65-a38fca6b5e24\n",
      "timestamp: 2023-05-23T12:42:48Z00:00\n",
      "\n",
      "\n"
     ]
    },
    {
     "name": "stdout",
     "output_type": "stream",
     "text": [
      "IPython==8.13.2\n",
      "keyname==0.5.2\n",
      "yaml==6.0\n",
      "alifedata_phyloinformatics_convert==0.13.0\n",
      "deap==1.3\n",
      "endomill==0.1.3\n",
      "hstrat==1.6.1\n",
      "iterpop==0.4.1\n",
      "matplotlib==3.7.1\n",
      "nbmetalog==0.2.6\n",
      "numpy==1.24.3\n",
      "pandas==2.0.1\n",
      "scipy==1.10.1\n",
      "seaborn==0.12.2\n",
      "sympy==1.12\n",
      "teeplot==0.5.0\n",
      "re==2.2.1\n",
      "comm==0.1.3\n",
      "logging==0.5.1.2\n",
      "psutil==5.9.5\n",
      "zmq==25.0.2\n",
      "json==2.0.9\n",
      "ipykernel==6.23.1\n"
     ]
    }
   ],
   "source": [
    "nbm.print_metadata()\n"
   ]
  },
  {
   "cell_type": "markdown",
   "id": "f3be37d4",
   "metadata": {
    "papermill": {
     "duration": 0.023246,
     "end_time": "2023-05-23T19:42:49.349456",
     "exception": false,
     "start_time": "2023-05-23T19:42:49.326210",
     "status": "completed"
    },
    "tags": []
   },
   "source": [
    "# Parameters\n"
   ]
  },
  {
   "cell_type": "code",
   "execution_count": 9,
   "id": "073baaa2",
   "metadata": {
    "execution": {
     "iopub.execute_input": "2023-05-23T19:42:49.413882Z",
     "iopub.status.busy": "2023-05-23T19:42:49.413271Z",
     "iopub.status.idle": "2023-05-23T19:42:49.426578Z",
     "shell.execute_reply": "2023-05-23T19:42:49.423803Z"
    },
    "papermill": {
     "duration": 0.05002,
     "end_time": "2023-05-23T19:42:49.431425",
     "exception": false,
     "start_time": "2023-05-23T19:42:49.381405",
     "status": "completed"
    },
    "tags": []
   },
   "outputs": [],
   "source": [
    "# HSTRAT_RESOLUTION = None\n",
    "HSTRAT_DIFFERENTIA_WIDTH = 64\n",
    "NGEN = ip.pophomogeneous([len(MILL_NPOP_SEQ), len(MILL_NTOURN_SEQ)])\n"
   ]
  },
  {
   "cell_type": "markdown",
   "id": "6d9d043e",
   "metadata": {
    "papermill": {
     "duration": 0.018117,
     "end_time": "2023-05-23T19:42:49.469227",
     "exception": false,
     "start_time": "2023-05-23T19:42:49.451110",
     "status": "completed"
    },
    "tags": []
   },
   "source": [
    "# Setup\n"
   ]
  },
  {
   "cell_type": "code",
   "execution_count": 10,
   "id": "acb2d475",
   "metadata": {
    "execution": {
     "iopub.execute_input": "2023-05-23T19:42:49.510349Z",
     "iopub.status.busy": "2023-05-23T19:42:49.509701Z",
     "iopub.status.idle": "2023-05-23T19:42:49.530277Z",
     "shell.execute_reply": "2023-05-23T19:42:49.528820Z"
    },
    "papermill": {
     "duration": 0.046483,
     "end_time": "2023-05-23T19:42:49.534413",
     "exception": false,
     "start_time": "2023-05-23T19:42:49.487930",
     "status": "completed"
    },
    "tags": []
   },
   "outputs": [],
   "source": [
    "deap_creator.create(\"FitnessMax\", deap_base.Fitness, weights=(1.0,))\n",
    "deap_creator.create(\"Individual\", list, fitness=deap_creator.FitnessMax)\n",
    "\n",
    "toolbox = deap_base.Toolbox()\n",
    "\n",
    "toolbox.register(\"attr_bool\", random.randint, 0, 1)\n",
    "toolbox.register(\n",
    "    \"individual\",\n",
    "    deap_tools.initRepeat,\n",
    "    deap_creator.Individual,\n",
    "    toolbox.attr_bool,\n",
    "    n=100,\n",
    ")\n",
    "toolbox.register(\"population\", deap_tools.initRepeat, list, toolbox.individual)\n",
    "\n",
    "\n",
    "def evalOneMax(individual):\n",
    "    return (sum(individual),)\n",
    "\n",
    "\n",
    "toolbox.register(\"evaluate\", evalOneMax)\n",
    "toolbox.register(\"mate\", deap_tools.cxTwoPoint)\n",
    "toolbox.register(\"mutate\", deap_tools.mutFlipBit, indpb=0.05)\n",
    "\n",
    "# Decorate the variation operators\n",
    "history = deap_tools.History()\n",
    "toolbox.decorate(\"mate\", history.decorator)\n",
    "\n",
    "toolbox.decorate(\"mate\", pylib.deap.hstrat_mate_decorator)\n"
   ]
  },
  {
   "cell_type": "markdown",
   "id": "377485e2",
   "metadata": {
    "papermill": {
     "duration": 0.018894,
     "end_time": "2023-05-23T19:42:49.571423",
     "exception": false,
     "start_time": "2023-05-23T19:42:49.552529",
     "status": "completed"
    },
    "tags": []
   },
   "source": [
    "# Evolve\n"
   ]
  },
  {
   "cell_type": "code",
   "execution_count": 11,
   "id": "6306421e",
   "metadata": {
    "execution": {
     "iopub.execute_input": "2023-05-23T19:42:49.606556Z",
     "iopub.status.busy": "2023-05-23T19:42:49.605914Z",
     "iopub.status.idle": "2023-05-23T19:49:46.781030Z",
     "shell.execute_reply": "2023-05-23T19:49:46.779942Z"
    },
    "papermill": {
     "duration": 417.196185,
     "end_time": "2023-05-23T19:49:46.783833",
     "exception": false,
     "start_time": "2023-05-23T19:42:49.587648",
     "status": "completed"
    },
    "tags": []
   },
   "outputs": [
    {
     "name": "stderr",
     "output_type": "stream",
     "text": [
      "\r",
      "0it [00:00, ?it/s]"
     ]
    },
    {
     "name": "stderr",
     "output_type": "stream",
     "text": [
      "\r",
      "1it [00:00,  2.21it/s]"
     ]
    },
    {
     "name": "stderr",
     "output_type": "stream",
     "text": [
      "\r",
      "2it [00:01,  1.75it/s]"
     ]
    },
    {
     "name": "stderr",
     "output_type": "stream",
     "text": [
      "\r",
      "3it [00:01,  1.86it/s]"
     ]
    },
    {
     "name": "stderr",
     "output_type": "stream",
     "text": [
      "\r",
      "4it [00:02,  1.88it/s]"
     ]
    },
    {
     "name": "stderr",
     "output_type": "stream",
     "text": [
      "\r",
      "5it [00:02,  1.66it/s]"
     ]
    },
    {
     "name": "stderr",
     "output_type": "stream",
     "text": [
      "\r",
      "6it [00:03,  1.67it/s]"
     ]
    },
    {
     "name": "stderr",
     "output_type": "stream",
     "text": [
      "\r",
      "7it [00:04,  1.67it/s]"
     ]
    },
    {
     "name": "stderr",
     "output_type": "stream",
     "text": [
      "\r",
      "8it [00:04,  1.49it/s]"
     ]
    },
    {
     "name": "stderr",
     "output_type": "stream",
     "text": [
      "\r",
      "9it [00:05,  1.50it/s]"
     ]
    },
    {
     "name": "stderr",
     "output_type": "stream",
     "text": [
      "\r",
      "10it [00:06,  1.51it/s]"
     ]
    },
    {
     "name": "stderr",
     "output_type": "stream",
     "text": [
      "\r",
      "11it [00:07,  1.34it/s]"
     ]
    },
    {
     "name": "stderr",
     "output_type": "stream",
     "text": [
      "\r",
      "12it [00:07,  1.42it/s]"
     ]
    },
    {
     "name": "stderr",
     "output_type": "stream",
     "text": [
      "\r",
      "13it [00:08,  1.39it/s]"
     ]
    },
    {
     "name": "stderr",
     "output_type": "stream",
     "text": [
      "\r",
      "14it [00:09,  1.24it/s]"
     ]
    },
    {
     "name": "stderr",
     "output_type": "stream",
     "text": [
      "\r",
      "15it [00:10,  1.36it/s]"
     ]
    },
    {
     "name": "stderr",
     "output_type": "stream",
     "text": [
      "\r",
      "16it [00:10,  1.36it/s]"
     ]
    },
    {
     "name": "stderr",
     "output_type": "stream",
     "text": [
      "\r",
      "17it [00:11,  1.34it/s]"
     ]
    },
    {
     "name": "stderr",
     "output_type": "stream",
     "text": [
      "\r",
      "18it [00:12,  1.29it/s]"
     ]
    },
    {
     "name": "stderr",
     "output_type": "stream",
     "text": [
      "\r",
      "19it [00:13,  1.23it/s]"
     ]
    },
    {
     "name": "stderr",
     "output_type": "stream",
     "text": [
      "\r",
      "20it [00:13,  1.32it/s]"
     ]
    },
    {
     "name": "stderr",
     "output_type": "stream",
     "text": [
      "\r",
      "21it [00:14,  1.29it/s]"
     ]
    },
    {
     "name": "stderr",
     "output_type": "stream",
     "text": [
      "\r",
      "22it [00:15,  1.33it/s]"
     ]
    },
    {
     "name": "stderr",
     "output_type": "stream",
     "text": [
      "\r",
      "23it [00:16,  1.21it/s]"
     ]
    },
    {
     "name": "stderr",
     "output_type": "stream",
     "text": [
      "\r",
      "24it [00:17,  1.00it/s]"
     ]
    },
    {
     "name": "stderr",
     "output_type": "stream",
     "text": [
      "\r",
      "25it [00:18,  1.01s/it]"
     ]
    },
    {
     "name": "stderr",
     "output_type": "stream",
     "text": [
      "\r",
      "26it [00:19,  1.02s/it]"
     ]
    },
    {
     "name": "stderr",
     "output_type": "stream",
     "text": [
      "\r",
      "27it [00:20,  1.03s/it]"
     ]
    },
    {
     "name": "stderr",
     "output_type": "stream",
     "text": [
      "\r",
      "28it [00:22,  1.07s/it]"
     ]
    },
    {
     "name": "stderr",
     "output_type": "stream",
     "text": [
      "\r",
      "29it [00:22,  1.03it/s]"
     ]
    },
    {
     "name": "stderr",
     "output_type": "stream",
     "text": [
      "\r",
      "30it [00:23,  1.16it/s]"
     ]
    },
    {
     "name": "stderr",
     "output_type": "stream",
     "text": [
      "\r",
      "31it [00:24,  1.09it/s]"
     ]
    },
    {
     "name": "stderr",
     "output_type": "stream",
     "text": [
      "\r",
      "32it [00:25,  1.06s/it]"
     ]
    },
    {
     "name": "stderr",
     "output_type": "stream",
     "text": [
      "\r",
      "33it [00:27,  1.09s/it]"
     ]
    },
    {
     "name": "stderr",
     "output_type": "stream",
     "text": [
      "\r",
      "34it [00:28,  1.06s/it]"
     ]
    },
    {
     "name": "stderr",
     "output_type": "stream",
     "text": [
      "\r",
      "35it [00:30,  1.32s/it]"
     ]
    },
    {
     "name": "stderr",
     "output_type": "stream",
     "text": [
      "\r",
      "36it [00:31,  1.32s/it]"
     ]
    },
    {
     "name": "stderr",
     "output_type": "stream",
     "text": [
      "\r",
      "37it [00:32,  1.35s/it]"
     ]
    },
    {
     "name": "stderr",
     "output_type": "stream",
     "text": [
      "\r",
      "38it [00:34,  1.43s/it]"
     ]
    },
    {
     "name": "stderr",
     "output_type": "stream",
     "text": [
      "\r",
      "39it [00:36,  1.58s/it]"
     ]
    },
    {
     "name": "stderr",
     "output_type": "stream",
     "text": [
      "\r",
      "40it [00:37,  1.60s/it]"
     ]
    },
    {
     "name": "stderr",
     "output_type": "stream",
     "text": [
      "\r",
      "41it [00:39,  1.60s/it]"
     ]
    },
    {
     "name": "stderr",
     "output_type": "stream",
     "text": [
      "\r",
      "42it [00:41,  1.71s/it]"
     ]
    },
    {
     "name": "stderr",
     "output_type": "stream",
     "text": [
      "\r",
      "43it [00:43,  1.65s/it]"
     ]
    },
    {
     "name": "stderr",
     "output_type": "stream",
     "text": [
      "\r",
      "44it [00:44,  1.62s/it]"
     ]
    },
    {
     "name": "stderr",
     "output_type": "stream",
     "text": [
      "\r",
      "45it [00:46,  1.72s/it]"
     ]
    },
    {
     "name": "stderr",
     "output_type": "stream",
     "text": [
      "\r",
      "46it [00:48,  1.86s/it]"
     ]
    },
    {
     "name": "stderr",
     "output_type": "stream",
     "text": [
      "\r",
      "47it [00:50,  1.81s/it]"
     ]
    },
    {
     "name": "stderr",
     "output_type": "stream",
     "text": [
      "\r",
      "48it [00:52,  1.76s/it]"
     ]
    },
    {
     "name": "stderr",
     "output_type": "stream",
     "text": [
      "\r",
      "49it [00:53,  1.77s/it]"
     ]
    },
    {
     "name": "stderr",
     "output_type": "stream",
     "text": [
      "\r",
      "50it [00:55,  1.87s/it]"
     ]
    },
    {
     "name": "stderr",
     "output_type": "stream",
     "text": [
      "\r",
      "51it [00:57,  1.81s/it]"
     ]
    },
    {
     "name": "stderr",
     "output_type": "stream",
     "text": [
      "\r",
      "52it [00:59,  1.78s/it]"
     ]
    },
    {
     "name": "stderr",
     "output_type": "stream",
     "text": [
      "\r",
      "53it [01:01,  1.77s/it]"
     ]
    },
    {
     "name": "stderr",
     "output_type": "stream",
     "text": [
      "\r",
      "54it [01:02,  1.77s/it]"
     ]
    },
    {
     "name": "stderr",
     "output_type": "stream",
     "text": [
      "\r",
      "55it [01:05,  1.95s/it]"
     ]
    },
    {
     "name": "stderr",
     "output_type": "stream",
     "text": [
      "\r",
      "56it [01:07,  1.92s/it]"
     ]
    },
    {
     "name": "stderr",
     "output_type": "stream",
     "text": [
      "\r",
      "57it [01:08,  1.88s/it]"
     ]
    },
    {
     "name": "stderr",
     "output_type": "stream",
     "text": [
      "\r",
      "58it [01:10,  1.90s/it]"
     ]
    },
    {
     "name": "stderr",
     "output_type": "stream",
     "text": [
      "\r",
      "59it [01:13,  2.09s/it]"
     ]
    },
    {
     "name": "stderr",
     "output_type": "stream",
     "text": [
      "\r",
      "60it [01:15,  2.06s/it]"
     ]
    },
    {
     "name": "stderr",
     "output_type": "stream",
     "text": [
      "\r",
      "61it [01:17,  2.06s/it]"
     ]
    },
    {
     "name": "stderr",
     "output_type": "stream",
     "text": [
      "\r",
      "62it [01:19,  2.04s/it]"
     ]
    },
    {
     "name": "stderr",
     "output_type": "stream",
     "text": [
      "\r",
      "63it [01:21,  2.21s/it]"
     ]
    },
    {
     "name": "stderr",
     "output_type": "stream",
     "text": [
      "\r",
      "64it [01:23,  2.15s/it]"
     ]
    },
    {
     "name": "stderr",
     "output_type": "stream",
     "text": [
      "\r",
      "65it [01:26,  2.15s/it]"
     ]
    },
    {
     "name": "stderr",
     "output_type": "stream",
     "text": [
      "\r",
      "66it [01:28,  2.07s/it]"
     ]
    },
    {
     "name": "stderr",
     "output_type": "stream",
     "text": [
      "\r",
      "67it [01:30,  2.05s/it]"
     ]
    },
    {
     "name": "stderr",
     "output_type": "stream",
     "text": [
      "\r",
      "68it [01:32,  2.06s/it]"
     ]
    },
    {
     "name": "stderr",
     "output_type": "stream",
     "text": [
      "\r",
      "69it [01:32,  1.51s/it]"
     ]
    },
    {
     "name": "stderr",
     "output_type": "stream",
     "text": [
      "\r",
      "70it [01:32,  1.12s/it]"
     ]
    },
    {
     "name": "stderr",
     "output_type": "stream",
     "text": [
      "\r",
      "71it [01:32,  1.18it/s]"
     ]
    },
    {
     "name": "stderr",
     "output_type": "stream",
     "text": [
      "\r",
      "72it [01:32,  1.52it/s]"
     ]
    },
    {
     "name": "stderr",
     "output_type": "stream",
     "text": [
      "\r",
      "73it [01:33,  1.90it/s]"
     ]
    },
    {
     "name": "stderr",
     "output_type": "stream",
     "text": [
      "\r",
      "74it [01:33,  2.29it/s]"
     ]
    },
    {
     "name": "stderr",
     "output_type": "stream",
     "text": [
      "\r",
      "75it [01:33,  2.65it/s]"
     ]
    },
    {
     "name": "stderr",
     "output_type": "stream",
     "text": [
      "\r",
      "76it [01:33,  3.00it/s]"
     ]
    },
    {
     "name": "stderr",
     "output_type": "stream",
     "text": [
      "\r",
      "77it [01:34,  3.32it/s]"
     ]
    },
    {
     "name": "stderr",
     "output_type": "stream",
     "text": [
      "\r",
      "78it [01:34,  3.51it/s]"
     ]
    },
    {
     "name": "stderr",
     "output_type": "stream",
     "text": [
      "\r",
      "79it [01:34,  3.67it/s]"
     ]
    },
    {
     "name": "stderr",
     "output_type": "stream",
     "text": [
      "\r",
      "80it [01:34,  3.83it/s]"
     ]
    },
    {
     "name": "stderr",
     "output_type": "stream",
     "text": [
      "\r",
      "81it [01:35,  3.89it/s]"
     ]
    },
    {
     "name": "stderr",
     "output_type": "stream",
     "text": [
      "\r",
      "82it [01:35,  3.95it/s]"
     ]
    },
    {
     "name": "stderr",
     "output_type": "stream",
     "text": [
      "\r",
      "83it [01:35,  3.99it/s]"
     ]
    },
    {
     "name": "stderr",
     "output_type": "stream",
     "text": [
      "\r",
      "84it [01:35,  3.97it/s]"
     ]
    },
    {
     "name": "stderr",
     "output_type": "stream",
     "text": [
      "\r",
      "85it [01:36,  4.01it/s]"
     ]
    },
    {
     "name": "stderr",
     "output_type": "stream",
     "text": [
      "\r",
      "86it [01:36,  3.99it/s]"
     ]
    },
    {
     "name": "stderr",
     "output_type": "stream",
     "text": [
      "\r",
      "87it [01:36,  3.98it/s]"
     ]
    },
    {
     "name": "stderr",
     "output_type": "stream",
     "text": [
      "\r",
      "88it [01:36,  3.99it/s]"
     ]
    },
    {
     "name": "stderr",
     "output_type": "stream",
     "text": [
      "\r",
      "89it [01:37,  3.93it/s]"
     ]
    },
    {
     "name": "stderr",
     "output_type": "stream",
     "text": [
      "\r",
      "90it [01:37,  3.89it/s]"
     ]
    },
    {
     "name": "stderr",
     "output_type": "stream",
     "text": [
      "\r",
      "91it [01:37,  3.87it/s]"
     ]
    },
    {
     "name": "stderr",
     "output_type": "stream",
     "text": [
      "\r",
      "92it [01:37,  3.80it/s]"
     ]
    },
    {
     "name": "stderr",
     "output_type": "stream",
     "text": [
      "\r",
      "93it [01:38,  3.81it/s]"
     ]
    },
    {
     "name": "stderr",
     "output_type": "stream",
     "text": [
      "\r",
      "94it [01:38,  3.70it/s]"
     ]
    },
    {
     "name": "stderr",
     "output_type": "stream",
     "text": [
      "\r",
      "95it [01:38,  3.73it/s]"
     ]
    },
    {
     "name": "stderr",
     "output_type": "stream",
     "text": [
      "\r",
      "96it [01:38,  3.67it/s]"
     ]
    },
    {
     "name": "stderr",
     "output_type": "stream",
     "text": [
      "\r",
      "97it [01:39,  3.63it/s]"
     ]
    },
    {
     "name": "stderr",
     "output_type": "stream",
     "text": [
      "\r",
      "98it [01:39,  3.71it/s]"
     ]
    },
    {
     "name": "stderr",
     "output_type": "stream",
     "text": [
      "\r",
      "99it [01:39,  3.88it/s]"
     ]
    },
    {
     "name": "stderr",
     "output_type": "stream",
     "text": [
      "\r",
      "100it [01:39,  4.03it/s]"
     ]
    },
    {
     "name": "stderr",
     "output_type": "stream",
     "text": [
      "\r",
      "101it [01:40,  4.16it/s]"
     ]
    },
    {
     "name": "stderr",
     "output_type": "stream",
     "text": [
      "\r",
      "102it [01:40,  4.29it/s]"
     ]
    },
    {
     "name": "stderr",
     "output_type": "stream",
     "text": [
      "\r",
      "103it [01:40,  4.32it/s]"
     ]
    },
    {
     "name": "stderr",
     "output_type": "stream",
     "text": [
      "\r",
      "104it [01:40,  4.38it/s]"
     ]
    },
    {
     "name": "stderr",
     "output_type": "stream",
     "text": [
      "\r",
      "105it [01:41,  2.48it/s]"
     ]
    },
    {
     "name": "stderr",
     "output_type": "stream",
     "text": [
      "\r",
      "106it [01:41,  2.83it/s]"
     ]
    },
    {
     "name": "stderr",
     "output_type": "stream",
     "text": [
      "\r",
      "107it [01:42,  3.12it/s]"
     ]
    },
    {
     "name": "stderr",
     "output_type": "stream",
     "text": [
      "\r",
      "108it [01:42,  3.35it/s]"
     ]
    },
    {
     "name": "stderr",
     "output_type": "stream",
     "text": [
      "\r",
      "109it [01:42,  3.50it/s]"
     ]
    },
    {
     "name": "stderr",
     "output_type": "stream",
     "text": [
      "\r",
      "110it [01:42,  3.63it/s]"
     ]
    },
    {
     "name": "stderr",
     "output_type": "stream",
     "text": [
      "\r",
      "111it [01:43,  3.74it/s]"
     ]
    },
    {
     "name": "stderr",
     "output_type": "stream",
     "text": [
      "\r",
      "112it [01:43,  3.76it/s]"
     ]
    },
    {
     "name": "stderr",
     "output_type": "stream",
     "text": [
      "\r",
      "113it [01:43,  3.80it/s]"
     ]
    },
    {
     "name": "stderr",
     "output_type": "stream",
     "text": [
      "\r",
      "114it [01:43,  3.80it/s]"
     ]
    },
    {
     "name": "stderr",
     "output_type": "stream",
     "text": [
      "\r",
      "115it [01:44,  3.79it/s]"
     ]
    },
    {
     "name": "stderr",
     "output_type": "stream",
     "text": [
      "\r",
      "116it [01:44,  3.64it/s]"
     ]
    },
    {
     "name": "stderr",
     "output_type": "stream",
     "text": [
      "\r",
      "117it [01:44,  3.68it/s]"
     ]
    },
    {
     "name": "stderr",
     "output_type": "stream",
     "text": [
      "\r",
      "118it [01:45,  3.71it/s]"
     ]
    },
    {
     "name": "stderr",
     "output_type": "stream",
     "text": [
      "\r",
      "119it [01:45,  3.62it/s]"
     ]
    },
    {
     "name": "stderr",
     "output_type": "stream",
     "text": [
      "\r",
      "120it [01:45,  3.57it/s]"
     ]
    },
    {
     "name": "stderr",
     "output_type": "stream",
     "text": [
      "\r",
      "121it [01:45,  3.61it/s]"
     ]
    },
    {
     "name": "stderr",
     "output_type": "stream",
     "text": [
      "\r",
      "122it [01:46,  3.63it/s]"
     ]
    },
    {
     "name": "stderr",
     "output_type": "stream",
     "text": [
      "\r",
      "123it [01:46,  3.64it/s]"
     ]
    },
    {
     "name": "stderr",
     "output_type": "stream",
     "text": [
      "\r",
      "124it [01:46,  3.64it/s]"
     ]
    },
    {
     "name": "stderr",
     "output_type": "stream",
     "text": [
      "\r",
      "125it [01:46,  3.62it/s]"
     ]
    },
    {
     "name": "stderr",
     "output_type": "stream",
     "text": [
      "\r",
      "126it [01:47,  3.64it/s]"
     ]
    },
    {
     "name": "stderr",
     "output_type": "stream",
     "text": [
      "\r",
      "127it [01:47,  3.61it/s]"
     ]
    },
    {
     "name": "stderr",
     "output_type": "stream",
     "text": [
      "\r",
      "128it [01:47,  3.59it/s]"
     ]
    },
    {
     "name": "stderr",
     "output_type": "stream",
     "text": [
      "\r",
      "129it [01:48,  3.50it/s]"
     ]
    },
    {
     "name": "stderr",
     "output_type": "stream",
     "text": [
      "\r",
      "130it [01:48,  3.49it/s]"
     ]
    },
    {
     "name": "stderr",
     "output_type": "stream",
     "text": [
      "\r",
      "131it [01:48,  3.49it/s]"
     ]
    },
    {
     "name": "stderr",
     "output_type": "stream",
     "text": [
      "\r",
      "132it [01:49,  3.46it/s]"
     ]
    },
    {
     "name": "stderr",
     "output_type": "stream",
     "text": [
      "\r",
      "133it [01:49,  3.43it/s]"
     ]
    },
    {
     "name": "stderr",
     "output_type": "stream",
     "text": [
      "\r",
      "134it [01:51,  1.35it/s]"
     ]
    },
    {
     "name": "stderr",
     "output_type": "stream",
     "text": [
      "\r",
      "135it [01:54,  1.40s/it]"
     ]
    },
    {
     "name": "stderr",
     "output_type": "stream",
     "text": [
      "\r",
      "136it [01:57,  1.88s/it]"
     ]
    },
    {
     "name": "stderr",
     "output_type": "stream",
     "text": [
      "\r",
      "137it [02:00,  2.22s/it]"
     ]
    },
    {
     "name": "stderr",
     "output_type": "stream",
     "text": [
      "\r",
      "138it [02:03,  2.68s/it]"
     ]
    },
    {
     "name": "stderr",
     "output_type": "stream",
     "text": [
      "\r",
      "139it [02:06,  2.79s/it]"
     ]
    },
    {
     "name": "stderr",
     "output_type": "stream",
     "text": [
      "\r",
      "140it [02:10,  2.97s/it]"
     ]
    },
    {
     "name": "stderr",
     "output_type": "stream",
     "text": [
      "\r",
      "141it [02:14,  3.28s/it]"
     ]
    },
    {
     "name": "stderr",
     "output_type": "stream",
     "text": [
      "\r",
      "142it [02:17,  3.26s/it]"
     ]
    },
    {
     "name": "stderr",
     "output_type": "stream",
     "text": [
      "\r",
      "143it [02:20,  3.30s/it]"
     ]
    },
    {
     "name": "stderr",
     "output_type": "stream",
     "text": [
      "\r",
      "144it [02:25,  3.56s/it]"
     ]
    },
    {
     "name": "stderr",
     "output_type": "stream",
     "text": [
      "\r",
      "145it [02:28,  3.61s/it]"
     ]
    },
    {
     "name": "stderr",
     "output_type": "stream",
     "text": [
      "\r",
      "146it [02:33,  3.83s/it]"
     ]
    },
    {
     "name": "stderr",
     "output_type": "stream",
     "text": [
      "\r",
      "147it [02:37,  4.01s/it]"
     ]
    },
    {
     "name": "stderr",
     "output_type": "stream",
     "text": [
      "\r",
      "148it [02:43,  4.46s/it]"
     ]
    },
    {
     "name": "stderr",
     "output_type": "stream",
     "text": [
      "\r",
      "149it [02:47,  4.49s/it]"
     ]
    },
    {
     "name": "stderr",
     "output_type": "stream",
     "text": [
      "\r",
      "150it [02:51,  4.47s/it]"
     ]
    },
    {
     "name": "stderr",
     "output_type": "stream",
     "text": [
      "\r",
      "151it [02:56,  4.42s/it]"
     ]
    },
    {
     "name": "stderr",
     "output_type": "stream",
     "text": [
      "\r",
      "152it [03:01,  4.68s/it]"
     ]
    },
    {
     "name": "stderr",
     "output_type": "stream",
     "text": [
      "\r",
      "153it [03:05,  4.58s/it]"
     ]
    },
    {
     "name": "stderr",
     "output_type": "stream",
     "text": [
      "\r",
      "154it [03:10,  4.52s/it]"
     ]
    },
    {
     "name": "stderr",
     "output_type": "stream",
     "text": [
      "\r",
      "155it [03:14,  4.53s/it]"
     ]
    },
    {
     "name": "stderr",
     "output_type": "stream",
     "text": [
      "\r",
      "156it [03:20,  4.88s/it]"
     ]
    },
    {
     "name": "stderr",
     "output_type": "stream",
     "text": [
      "\r",
      "157it [03:25,  4.79s/it]"
     ]
    },
    {
     "name": "stderr",
     "output_type": "stream",
     "text": [
      "\r",
      "158it [03:29,  4.74s/it]"
     ]
    },
    {
     "name": "stderr",
     "output_type": "stream",
     "text": [
      "\r",
      "159it [03:34,  4.68s/it]"
     ]
    },
    {
     "name": "stderr",
     "output_type": "stream",
     "text": [
      "\r",
      "160it [03:38,  4.67s/it]"
     ]
    },
    {
     "name": "stderr",
     "output_type": "stream",
     "text": [
      "\r",
      "161it [03:45,  5.11s/it]"
     ]
    },
    {
     "name": "stderr",
     "output_type": "stream",
     "text": [
      "\r",
      "162it [03:49,  4.97s/it]"
     ]
    },
    {
     "name": "stderr",
     "output_type": "stream",
     "text": [
      "\r",
      "163it [03:54,  4.86s/it]"
     ]
    },
    {
     "name": "stderr",
     "output_type": "stream",
     "text": [
      "\r",
      "164it [03:59,  4.84s/it]"
     ]
    },
    {
     "name": "stderr",
     "output_type": "stream",
     "text": [
      "\r",
      "165it [04:05,  5.16s/it]"
     ]
    },
    {
     "name": "stderr",
     "output_type": "stream",
     "text": [
      "\r",
      "166it [04:09,  5.01s/it]"
     ]
    },
    {
     "name": "stderr",
     "output_type": "stream",
     "text": [
      "\r",
      "167it [04:14,  4.91s/it]"
     ]
    },
    {
     "name": "stderr",
     "output_type": "stream",
     "text": [
      "\r",
      "168it [04:19,  4.84s/it]"
     ]
    },
    {
     "name": "stderr",
     "output_type": "stream",
     "text": [
      "\r",
      "169it [04:23,  4.81s/it]"
     ]
    },
    {
     "name": "stderr",
     "output_type": "stream",
     "text": [
      "\r",
      "170it [04:29,  5.20s/it]"
     ]
    },
    {
     "name": "stderr",
     "output_type": "stream",
     "text": [
      "\r",
      "171it [04:34,  5.08s/it]"
     ]
    },
    {
     "name": "stderr",
     "output_type": "stream",
     "text": [
      "\r",
      "172it [04:39,  4.99s/it]"
     ]
    },
    {
     "name": "stderr",
     "output_type": "stream",
     "text": [
      "\r",
      "173it [04:44,  4.92s/it]"
     ]
    },
    {
     "name": "stderr",
     "output_type": "stream",
     "text": [
      "\r",
      "174it [04:49,  4.91s/it]"
     ]
    },
    {
     "name": "stderr",
     "output_type": "stream",
     "text": [
      "\r",
      "175it [04:55,  5.38s/it]"
     ]
    },
    {
     "name": "stderr",
     "output_type": "stream",
     "text": [
      "\r",
      "176it [05:00,  5.25s/it]"
     ]
    },
    {
     "name": "stderr",
     "output_type": "stream",
     "text": [
      "\r",
      "177it [05:04,  4.94s/it]"
     ]
    },
    {
     "name": "stderr",
     "output_type": "stream",
     "text": [
      "\r",
      "178it [05:08,  4.49s/it]"
     ]
    },
    {
     "name": "stderr",
     "output_type": "stream",
     "text": [
      "\r",
      "179it [05:11,  4.09s/it]"
     ]
    },
    {
     "name": "stderr",
     "output_type": "stream",
     "text": [
      "\r",
      "180it [05:16,  4.39s/it]"
     ]
    },
    {
     "name": "stderr",
     "output_type": "stream",
     "text": [
      "\r",
      "181it [05:20,  4.24s/it]"
     ]
    },
    {
     "name": "stderr",
     "output_type": "stream",
     "text": [
      "\r",
      "182it [05:24,  4.14s/it]"
     ]
    },
    {
     "name": "stderr",
     "output_type": "stream",
     "text": [
      "\r",
      "183it [05:28,  4.06s/it]"
     ]
    },
    {
     "name": "stderr",
     "output_type": "stream",
     "text": [
      "\r",
      "184it [05:32,  4.01s/it]"
     ]
    },
    {
     "name": "stderr",
     "output_type": "stream",
     "text": [
      "\r",
      "185it [05:35,  3.99s/it]"
     ]
    },
    {
     "name": "stderr",
     "output_type": "stream",
     "text": [
      "\r",
      "186it [05:41,  4.43s/it]"
     ]
    },
    {
     "name": "stderr",
     "output_type": "stream",
     "text": [
      "\r",
      "187it [05:46,  4.64s/it]"
     ]
    },
    {
     "name": "stderr",
     "output_type": "stream",
     "text": [
      "\r",
      "188it [05:51,  4.79s/it]"
     ]
    },
    {
     "name": "stderr",
     "output_type": "stream",
     "text": [
      "\r",
      "189it [05:56,  4.90s/it]"
     ]
    },
    {
     "name": "stderr",
     "output_type": "stream",
     "text": [
      "\r",
      "190it [06:02,  4.98s/it]"
     ]
    },
    {
     "name": "stderr",
     "output_type": "stream",
     "text": [
      "\r",
      "191it [06:07,  5.04s/it]"
     ]
    },
    {
     "name": "stderr",
     "output_type": "stream",
     "text": [
      "\r",
      "192it [06:14,  5.66s/it]"
     ]
    },
    {
     "name": "stderr",
     "output_type": "stream",
     "text": [
      "\r",
      "193it [06:19,  5.54s/it]"
     ]
    },
    {
     "name": "stderr",
     "output_type": "stream",
     "text": [
      "\r",
      "194it [06:24,  5.47s/it]"
     ]
    },
    {
     "name": "stderr",
     "output_type": "stream",
     "text": [
      "\r",
      "195it [06:30,  5.41s/it]"
     ]
    },
    {
     "name": "stderr",
     "output_type": "stream",
     "text": [
      "\r",
      "196it [06:35,  5.31s/it]"
     ]
    },
    {
     "name": "stderr",
     "output_type": "stream",
     "text": [
      "\r",
      "197it [06:40,  5.23s/it]"
     ]
    },
    {
     "name": "stderr",
     "output_type": "stream",
     "text": [
      "\r",
      "198it [06:46,  5.41s/it]"
     ]
    },
    {
     "name": "stderr",
     "output_type": "stream",
     "text": [
      "\r",
      "199it [06:50,  5.09s/it]"
     ]
    },
    {
     "name": "stderr",
     "output_type": "stream",
     "text": [
      "\r",
      "200it [06:55,  5.16s/it]"
     ]
    },
    {
     "name": "stderr",
     "output_type": "stream",
     "text": [
      "\r",
      "200it [06:55,  2.08s/it]"
     ]
    },
    {
     "name": "stderr",
     "output_type": "stream",
     "text": [
      "\n"
     ]
    }
   ],
   "source": [
    "# Create the population and populate the history\n",
    "population = toolbox.population(n=MILL_NPOP_SEQ[0])\n",
    "\n",
    "species_ancestor = hstrat.HereditaryStratigraphicColumn(\n",
    "    stratum_retention_policy=hstrat.perfect_resolution_algo.Policy(),\n",
    "    stratum_differentia_bit_width=HSTRAT_DIFFERENTIA_WIDTH,\n",
    ")\n",
    "gene_ancestor = hstrat.HereditaryStratigraphicColumn(\n",
    "    stratum_retention_policy=hstrat.perfect_resolution_algo.Policy(),\n",
    "    stratum_differentia_bit_width=HSTRAT_DIFFERENTIA_WIDTH,\n",
    "    initial_stratum_annotation=0,\n",
    ")\n",
    "for member in population:\n",
    "    member.species_annotation = species_ancestor.CloneDescendant()\n",
    "    member.gene_annotation = gene_ancestor.CloneDescendant(0)\n",
    "\n",
    "history.update(population)\n",
    "\n",
    "# Do the evolution, the decorators will take care of updating the\n",
    "# history\n",
    "for _gen, (NPOP, NTOURN) in tqdm(\n",
    "    enumerate(\n",
    "        zip(\n",
    "            MILL_NPOP_SEQ,\n",
    "            MILL_NTOURN_SEQ,\n",
    "        )\n",
    "    )\n",
    "):\n",
    "    toolbox.register(\"select\", deap_tools.selTournament, tournsize=NTOURN)\n",
    "    offspring = deap_algorithms.varAnd(\n",
    "        population, toolbox, cxpb=1.0, mutpb=1.0,\n",
    "    )\n",
    "    fits = toolbox.map(toolbox.evaluate, offspring)\n",
    "    for fit, ind in zip(fits, offspring):\n",
    "        ind.fitness.values = fit\n",
    "    population = toolbox.select(offspring, k=NPOP)\n",
    "    population = [copy.deepcopy(ind) for ind in population]\n",
    "\n",
    "# ensure all extant organisms registered with phylogeny tracker\n",
    "for x in population:\n",
    "    history.update([x])\n"
   ]
  },
  {
   "cell_type": "markdown",
   "id": "bae5fabf",
   "metadata": {
    "papermill": {
     "duration": 0.024314,
     "end_time": "2023-05-23T19:49:46.830850",
     "exception": false,
     "start_time": "2023-05-23T19:49:46.806536",
     "status": "completed"
    },
    "tags": []
   },
   "source": [
    "# Reconstruction\n"
   ]
  },
  {
   "cell_type": "code",
   "execution_count": 12,
   "id": "72be4772",
   "metadata": {
    "execution": {
     "iopub.execute_input": "2023-05-23T19:49:46.939863Z",
     "iopub.status.busy": "2023-05-23T19:49:46.936557Z",
     "iopub.status.idle": "2023-05-23T19:49:47.172472Z",
     "shell.execute_reply": "2023-05-23T19:49:47.171030Z"
    },
    "papermill": {
     "duration": 0.321205,
     "end_time": "2023-05-23T19:49:47.175129",
     "exception": false,
     "start_time": "2023-05-23T19:49:46.853924",
     "status": "completed"
    },
    "tags": []
   },
   "outputs": [
    {
     "data": {
      "text/html": [
       "<div>\n",
       "<style scoped>\n",
       "    .dataframe tbody tr th:only-of-type {\n",
       "        vertical-align: middle;\n",
       "    }\n",
       "\n",
       "    .dataframe tbody tr th {\n",
       "        vertical-align: top;\n",
       "    }\n",
       "\n",
       "    .dataframe thead th {\n",
       "        text-align: right;\n",
       "    }\n",
       "</style>\n",
       "<table border=\"1\" class=\"dataframe\">\n",
       "  <thead>\n",
       "    <tr style=\"text-align: right;\">\n",
       "      <th></th>\n",
       "      <th>id</th>\n",
       "      <th>ancestor_list</th>\n",
       "      <th>origin_time</th>\n",
       "      <th>taxon_label</th>\n",
       "      <th>ancestor_id</th>\n",
       "      <th>name</th>\n",
       "    </tr>\n",
       "  </thead>\n",
       "  <tbody>\n",
       "    <tr>\n",
       "      <th>0</th>\n",
       "      <td>0</td>\n",
       "      <td>[none]</td>\n",
       "      <td>0.0</td>\n",
       "      <td>Root</td>\n",
       "      <td>0</td>\n",
       "      <td>Root</td>\n",
       "    </tr>\n",
       "    <tr>\n",
       "      <th>192</th>\n",
       "      <td>192</td>\n",
       "      <td>[0]</td>\n",
       "      <td>191.0</td>\n",
       "      <td>Inner+r=191+d=PnWs2cBdA5b+uid=W2OgOnMkw0ywTnBl...</td>\n",
       "      <td>0</td>\n",
       "      <td>Inner+r=191+d=PnWs2cBdA5b+uid=W2OgOnMkw0ywTnBl...</td>\n",
       "    </tr>\n",
       "    <tr>\n",
       "      <th>193</th>\n",
       "      <td>193</td>\n",
       "      <td>[192]</td>\n",
       "      <td>192.0</td>\n",
       "      <td>Inner+r=192+d=PFNTAVszV7m+uid=tdcJdAeoGOXxqR6c...</td>\n",
       "      <td>192</td>\n",
       "      <td>Inner+r=192+d=PFNTAVszV7m+uid=tdcJdAeoGOXxqR6c...</td>\n",
       "    </tr>\n",
       "    <tr>\n",
       "      <th>195</th>\n",
       "      <td>195</td>\n",
       "      <td>[193]</td>\n",
       "      <td>193.0</td>\n",
       "      <td>Inner+r=193+d=P1FM4wmvbz5+uid=Dknfa7gDr1BlE2v2...</td>\n",
       "      <td>193</td>\n",
       "      <td>Inner+r=193+d=P1FM4wmvbz5+uid=Dknfa7gDr1BlE2v2...</td>\n",
       "    </tr>\n",
       "    <tr>\n",
       "      <th>196</th>\n",
       "      <td>196</td>\n",
       "      <td>[193]</td>\n",
       "      <td>193.0</td>\n",
       "      <td>Inner+r=193+d=PW3nlkxpU6C+uid=BtP61MQCcFRifhJa...</td>\n",
       "      <td>193</td>\n",
       "      <td>Inner+r=193+d=PW3nlkxpU6C+uid=BtP61MQCcFRifhJa...</td>\n",
       "    </tr>\n",
       "    <tr>\n",
       "      <th>...</th>\n",
       "      <td>...</td>\n",
       "      <td>...</td>\n",
       "      <td>...</td>\n",
       "      <td>...</td>\n",
       "      <td>...</td>\n",
       "      <td>...</td>\n",
       "    </tr>\n",
       "    <tr>\n",
       "      <th>591</th>\n",
       "      <td>591</td>\n",
       "      <td>[394]</td>\n",
       "      <td>201.0</td>\n",
       "      <td>14182</td>\n",
       "      <td>394</td>\n",
       "      <td>14182</td>\n",
       "    </tr>\n",
       "    <tr>\n",
       "      <th>592</th>\n",
       "      <td>592</td>\n",
       "      <td>[394]</td>\n",
       "      <td>201.0</td>\n",
       "      <td>14178</td>\n",
       "      <td>394</td>\n",
       "      <td>14178</td>\n",
       "    </tr>\n",
       "    <tr>\n",
       "      <th>593</th>\n",
       "      <td>593</td>\n",
       "      <td>[395]</td>\n",
       "      <td>201.0</td>\n",
       "      <td>14217</td>\n",
       "      <td>395</td>\n",
       "      <td>14217</td>\n",
       "    </tr>\n",
       "    <tr>\n",
       "      <th>594</th>\n",
       "      <td>594</td>\n",
       "      <td>[395]</td>\n",
       "      <td>201.0</td>\n",
       "      <td>14221</td>\n",
       "      <td>395</td>\n",
       "      <td>14221</td>\n",
       "    </tr>\n",
       "    <tr>\n",
       "      <th>595</th>\n",
       "      <td>595</td>\n",
       "      <td>[395]</td>\n",
       "      <td>201.0</td>\n",
       "      <td>14219</td>\n",
       "      <td>395</td>\n",
       "      <td>14219</td>\n",
       "    </tr>\n",
       "  </tbody>\n",
       "</table>\n",
       "<p>156 rows × 6 columns</p>\n",
       "</div>"
      ],
      "text/plain": [
       "      id ancestor_list  origin_time   \n",
       "0      0        [none]          0.0  \\\n",
       "192  192           [0]        191.0   \n",
       "193  193         [192]        192.0   \n",
       "195  195         [193]        193.0   \n",
       "196  196         [193]        193.0   \n",
       "..   ...           ...          ...   \n",
       "591  591         [394]        201.0   \n",
       "592  592         [394]        201.0   \n",
       "593  593         [395]        201.0   \n",
       "594  594         [395]        201.0   \n",
       "595  595         [395]        201.0   \n",
       "\n",
       "                                           taxon_label  ancestor_id   \n",
       "0                                                 Root            0  \\\n",
       "192  Inner+r=191+d=PnWs2cBdA5b+uid=W2OgOnMkw0ywTnBl...            0   \n",
       "193  Inner+r=192+d=PFNTAVszV7m+uid=tdcJdAeoGOXxqR6c...          192   \n",
       "195  Inner+r=193+d=P1FM4wmvbz5+uid=Dknfa7gDr1BlE2v2...          193   \n",
       "196  Inner+r=193+d=PW3nlkxpU6C+uid=BtP61MQCcFRifhJa...          193   \n",
       "..                                                 ...          ...   \n",
       "591                                              14182          394   \n",
       "592                                              14178          394   \n",
       "593                                              14217          395   \n",
       "594                                              14221          395   \n",
       "595                                              14219          395   \n",
       "\n",
       "                                                  name  \n",
       "0                                                 Root  \n",
       "192  Inner+r=191+d=PnWs2cBdA5b+uid=W2OgOnMkw0ywTnBl...  \n",
       "193  Inner+r=192+d=PFNTAVszV7m+uid=tdcJdAeoGOXxqR6c...  \n",
       "195  Inner+r=193+d=P1FM4wmvbz5+uid=Dknfa7gDr1BlE2v2...  \n",
       "196  Inner+r=193+d=PW3nlkxpU6C+uid=BtP61MQCcFRifhJa...  \n",
       "..                                                 ...  \n",
       "591                                              14182  \n",
       "592                                              14178  \n",
       "593                                              14217  \n",
       "594                                              14221  \n",
       "595                                              14219  \n",
       "\n",
       "[156 rows x 6 columns]"
      ]
     },
     "execution_count": 12,
     "metadata": {},
     "output_type": "execute_result"
    }
   ],
   "source": [
    "extant_nodes = [individual.history_index for individual in population]\n",
    "reconstructed_df = hstrat.build_tree(\n",
    "    [individual.species_annotation for individual in population],\n",
    "    version_pin=hstrat.__version__,\n",
    "    force_common_ancestry=True,\n",
    "    taxon_labels=map(str, extant_nodes),\n",
    ")\n",
    "reconstructed_df[\"name\"] = reconstructed_df[\"taxon_label\"]\n",
    "reconstructed_df\n"
   ]
  },
  {
   "cell_type": "code",
   "execution_count": 13,
   "id": "d134e394",
   "metadata": {
    "execution": {
     "iopub.execute_input": "2023-05-23T19:49:47.229112Z",
     "iopub.status.busy": "2023-05-23T19:49:47.228550Z",
     "iopub.status.idle": "2023-05-23T19:49:52.066691Z",
     "shell.execute_reply": "2023-05-23T19:49:52.065262Z"
    },
    "papermill": {
     "duration": 4.874232,
     "end_time": "2023-05-23T19:49:52.073315",
     "exception": false,
     "start_time": "2023-05-23T19:49:47.199083",
     "status": "completed"
    },
    "tags": []
   },
   "outputs": [
    {
     "name": "stdout",
     "output_type": "stream",
     "text": [
      "teeplots/./notebook=ne-inference+replicate=0+treatment=bottleneck+type=reconstruction+viz=draw-biopython-tree+ext=.pdf\n"
     ]
    },
    {
     "name": "stdout",
     "output_type": "stream",
     "text": [
      "teeplots/./notebook=ne-inference+replicate=0+treatment=bottleneck+type=reconstruction+viz=draw-biopython-tree+ext=.png\n"
     ]
    },
    {
     "data": {
      "image/png": "[encoded data removed]",
      "text/plain": [
       "<Figure size 650x400 with 1 Axes>"
      ]
     },
     "metadata": {},
     "output_type": "display_data"
    }
   ],
   "source": [
    "reconstructed_tree = apc.alife_dataframe_to_biopython_tree(\n",
    "    reconstructed_df, setup_branch_lengths=True\n",
    ")\n",
    "plt.rcdefaults()\n",
    "plt.close('all')\n",
    "plt.clf()\n",
    "tp.tee(\n",
    "    pylib.tree.draw_biopython_tree,\n",
    "    reconstructed_tree,\n",
    "    teeplot_outattrs={\n",
    "        \"notebook\": \"ne-inference\",\n",
    "        \"replicate\": str(MILL_REPLICATE),\n",
    "        \"treatment\": MILL_TREATMENT_NAME,\n",
    "        \"type\": \"reconstruction\",\n",
    "    },\n",
    ")\n"
   ]
  },
  {
   "cell_type": "code",
   "execution_count": 14,
   "id": "e3b38c92",
   "metadata": {
    "execution": {
     "iopub.execute_input": "2023-05-23T19:49:52.220192Z",
     "iopub.status.busy": "2023-05-23T19:49:52.217865Z",
     "iopub.status.idle": "2023-05-23T19:49:55.630820Z",
     "shell.execute_reply": "2023-05-23T19:49:55.629301Z"
    },
    "papermill": {
     "duration": 3.497037,
     "end_time": "2023-05-23T19:49:55.634909",
     "exception": false,
     "start_time": "2023-05-23T19:49:52.137872",
     "status": "completed"
    },
    "tags": []
   },
   "outputs": [
    {
     "name": "stdout",
     "output_type": "stream",
     "text": [
      "teeplots/./drop_overlapping_labels=true+notebook=ne-inference+replicate=0+treatment=bottleneck+type=reconstruction+viz=draw-biopython-tree+ext=.pdf\n"
     ]
    },
    {
     "name": "stdout",
     "output_type": "stream",
     "text": [
      "teeplots/./drop_overlapping_labels=true+notebook=ne-inference+replicate=0+treatment=bottleneck+type=reconstruction+viz=draw-biopython-tree+ext=.png\n"
     ]
    },
    {
     "data": {
      "image/png": "[encoded data removed]",
      "text/plain": [
       "<Figure size 650x400 with 1 Axes>"
      ]
     },
     "metadata": {},
     "output_type": "display_data"
    }
   ],
   "source": [
    "reconstructed_tree = apc.alife_dataframe_to_biopython_tree(\n",
    "    reconstructed_df, setup_branch_lengths=True\n",
    ")\n",
    "plt.rcdefaults()\n",
    "plt.close('all')\n",
    "plt.clf()\n",
    "tp.tee(\n",
    "    pylib.tree.draw_biopython_tree,\n",
    "    reconstructed_tree,\n",
    "    drop_overlapping_labels=True,\n",
    "    teeplot_outattrs={\n",
    "        \"drop_overlapping_labels\": \"true\",\n",
    "        \"notebook\": \"ne-inference\",\n",
    "        \"replicate\": str(MILL_REPLICATE),\n",
    "        \"treatment\": MILL_TREATMENT_NAME,\n",
    "        \"type\": \"reconstruction\",\n",
    "    },\n",
    ")\n"
   ]
  },
  {
   "cell_type": "code",
   "execution_count": 15,
   "id": "faf46d60",
   "metadata": {
    "execution": {
     "iopub.execute_input": "2023-05-23T19:49:55.728381Z",
     "iopub.status.busy": "2023-05-23T19:49:55.727827Z",
     "iopub.status.idle": "2023-05-23T19:49:57.973653Z",
     "shell.execute_reply": "2023-05-23T19:49:57.971990Z"
    },
    "papermill": {
     "duration": 2.296738,
     "end_time": "2023-05-23T19:49:57.978525",
     "exception": false,
     "start_time": "2023-05-23T19:49:55.681787",
     "status": "completed"
    },
    "tags": []
   },
   "outputs": [
    {
     "name": "stdout",
     "output_type": "stream",
     "text": [
      "teeplots/./max_leaves=20+notebook=ne-inference+replicate=0+treatment=bottleneck+type=reconstruction+viz=draw-biopython-tree+ext=.pdf\n"
     ]
    },
    {
     "name": "stdout",
     "output_type": "stream",
     "text": [
      "teeplots/./max_leaves=20+notebook=ne-inference+replicate=0+treatment=bottleneck+type=reconstruction+viz=draw-biopython-tree+ext=.png\n"
     ]
    },
    {
     "data": {
      "image/png": "[encoded data removed]",
      "text/plain": [
       "<Figure size 650x400 with 1 Axes>"
      ]
     },
     "metadata": {},
     "output_type": "display_data"
    }
   ],
   "source": [
    "reconstructed_tree = apc.alife_dataframe_to_biopython_tree(\n",
    "    reconstructed_df, setup_branch_lengths=True\n",
    ")\n",
    "plt.rcdefaults()\n",
    "plt.close('all')\n",
    "plt.clf()\n",
    "tp.tee(\n",
    "    pylib.tree.draw_biopython_tree,\n",
    "    reconstructed_tree,\n",
    "    max_leaves=20,\n",
    "    teeplot_outattrs={\n",
    "        \"max_leaves\": \"20\",\n",
    "        \"notebook\": \"ne-inference\",\n",
    "        \"replicate\": str(MILL_REPLICATE),\n",
    "        \"treatment\": MILL_TREATMENT_NAME,\n",
    "        \"type\": \"reconstruction\",\n",
    "    },\n",
    ")\n"
   ]
  },
  {
   "cell_type": "markdown",
   "id": "7f54f2ae",
   "metadata": {
    "papermill": {
     "duration": 0.049761,
     "end_time": "2023-05-23T19:49:58.078284",
     "exception": false,
     "start_time": "2023-05-23T19:49:58.028523",
     "status": "completed"
    },
    "tags": []
   },
   "source": [
    "# Actual Pedigree\n"
   ]
  },
  {
   "cell_type": "code",
   "execution_count": 16,
   "id": "aa10e628",
   "metadata": {
    "execution": {
     "iopub.execute_input": "2023-05-23T19:49:58.181097Z",
     "iopub.status.busy": "2023-05-23T19:49:58.179709Z",
     "iopub.status.idle": "2023-05-23T19:50:11.282172Z",
     "shell.execute_reply": "2023-05-23T19:50:11.280457Z"
    },
    "papermill": {
     "duration": 13.159067,
     "end_time": "2023-05-23T19:50:11.286880",
     "exception": false,
     "start_time": "2023-05-23T19:49:58.127813",
     "status": "completed"
    },
    "tags": []
   },
   "outputs": [],
   "source": [
    "distilled_tree = pylib.deap.history_to_tree_upgma(history, extant_nodes)\n"
   ]
  },
  {
   "cell_type": "code",
   "execution_count": 17,
   "id": "7198768f",
   "metadata": {
    "execution": {
     "iopub.execute_input": "2023-05-23T19:50:11.484612Z",
     "iopub.status.busy": "2023-05-23T19:50:11.483904Z",
     "iopub.status.idle": "2023-05-23T19:50:18.088803Z",
     "shell.execute_reply": "2023-05-23T19:50:18.087212Z"
    },
    "papermill": {
     "duration": 6.695646,
     "end_time": "2023-05-23T19:50:18.093764",
     "exception": false,
     "start_time": "2023-05-23T19:50:11.398118",
     "status": "completed"
    },
    "tags": []
   },
   "outputs": [
    {
     "name": "stdout",
     "output_type": "stream",
     "text": [
      "teeplots/./notebook=ne-inference+replicate=0+treatment=bottleneck+type=distilled-reference+viz=draw-biopython-tree+ext=.pdf\n"
     ]
    },
    {
     "name": "stdout",
     "output_type": "stream",
     "text": [
      "teeplots/./notebook=ne-inference+replicate=0+treatment=bottleneck+type=distilled-reference+viz=draw-biopython-tree+ext=.png\n"
     ]
    },
    {
     "data": {
      "image/png": "[encoded data removed]",
      "text/plain": [
       "<Figure size 650x400 with 1 Axes>"
      ]
     },
     "metadata": {},
     "output_type": "display_data"
    }
   ],
   "source": [
    "plt.rcdefaults()\n",
    "plt.close('all')\n",
    "plt.clf()\n",
    "tp.tee(\n",
    "    pylib.tree.draw_biopython_tree,\n",
    "    distilled_tree,\n",
    "    teeplot_outattrs={\n",
    "        \"notebook\": \"ne-inference\",\n",
    "        \"replicate\": str(MILL_REPLICATE),\n",
    "        \"treatment\": MILL_TREATMENT_NAME,\n",
    "        \"type\": \"distilled-reference\",\n",
    "    },\n",
    ")\n"
   ]
  },
  {
   "cell_type": "code",
   "execution_count": 18,
   "id": "6e61c9a1",
   "metadata": {
    "execution": {
     "iopub.execute_input": "2023-05-23T19:50:18.257321Z",
     "iopub.status.busy": "2023-05-23T19:50:18.256714Z",
     "iopub.status.idle": "2023-05-23T19:50:22.839389Z",
     "shell.execute_reply": "2023-05-23T19:50:22.837540Z"
    },
    "papermill": {
     "duration": 4.69106,
     "end_time": "2023-05-23T19:50:22.843036",
     "exception": false,
     "start_time": "2023-05-23T19:50:18.151976",
     "status": "completed"
    },
    "tags": []
   },
   "outputs": [
    {
     "name": "stdout",
     "output_type": "stream",
     "text": [
      "teeplots/./drop_overlapping_labels=true+notebook=ne-inference+replicate=0+treatment=bottleneck+type=distilled-reference+viz=draw-biopython-tree+ext=.pdf\n"
     ]
    },
    {
     "name": "stdout",
     "output_type": "stream",
     "text": [
      "teeplots/./drop_overlapping_labels=true+notebook=ne-inference+replicate=0+treatment=bottleneck+type=distilled-reference+viz=draw-biopython-tree+ext=.png\n"
     ]
    },
    {
     "data": {
      "image/png": "[encoded data removed]",
      "text/plain": [
       "<Figure size 650x400 with 1 Axes>"
      ]
     },
     "metadata": {},
     "output_type": "display_data"
    }
   ],
   "source": [
    "tp.tee(\n",
    "    pylib.tree.draw_biopython_tree,\n",
    "    distilled_tree,\n",
    "    drop_overlapping_labels=True,\n",
    "    teeplot_outattrs={\n",
    "        \"drop_overlapping_labels\": \"true\",\n",
    "        \"notebook\": \"ne-inference\",\n",
    "        \"replicate\": str(MILL_REPLICATE),\n",
    "        \"treatment\": MILL_TREATMENT_NAME,\n",
    "        \"type\": \"distilled-reference\",\n",
    "    },\n",
    ")\n"
   ]
  },
  {
   "cell_type": "code",
   "execution_count": 19,
   "id": "c1586e83",
   "metadata": {
    "execution": {
     "iopub.execute_input": "2023-05-23T19:50:22.961484Z",
     "iopub.status.busy": "2023-05-23T19:50:22.960882Z",
     "iopub.status.idle": "2023-05-23T19:50:25.871060Z",
     "shell.execute_reply": "2023-05-23T19:50:25.869696Z"
    },
    "papermill": {
     "duration": 2.973642,
     "end_time": "2023-05-23T19:50:25.874610",
     "exception": false,
     "start_time": "2023-05-23T19:50:22.900968",
     "status": "completed"
    },
    "tags": []
   },
   "outputs": [
    {
     "name": "stdout",
     "output_type": "stream",
     "text": [
      "teeplots/./max_leaves=20+notebook=ne-inference+replicate=0+treatment=bottleneck+type=distilled-reference+viz=draw-biopython-tree+ext=.pdf\n"
     ]
    },
    {
     "name": "stdout",
     "output_type": "stream",
     "text": [
      "teeplots/./max_leaves=20+notebook=ne-inference+replicate=0+treatment=bottleneck+type=distilled-reference+viz=draw-biopython-tree+ext=.png\n"
     ]
    },
    {
     "data": {
      "image/png": "[encoded data removed]",
      "text/plain": [
       "<Figure size 650x400 with 1 Axes>"
      ]
     },
     "metadata": {},
     "output_type": "display_data"
    }
   ],
   "source": [
    "tp.tee(\n",
    "    pylib.tree.draw_biopython_tree,\n",
    "    distilled_tree,\n",
    "    max_leaves=20,\n",
    "    teeplot_outattrs={\n",
    "        \"max_leaves\": \"20\",\n",
    "        \"notebook\": \"ne-inference\",\n",
    "        \"replicate\": str(MILL_REPLICATE),\n",
    "        \"treatment\": MILL_TREATMENT_NAME,\n",
    "        \"type\": \"distilled-reference\",\n",
    "    },\n",
    ")\n"
   ]
  },
  {
   "cell_type": "code",
   "execution_count": 20,
   "id": "278c70b8",
   "metadata": {
    "execution": {
     "iopub.execute_input": "2023-05-23T19:50:25.986116Z",
     "iopub.status.busy": "2023-05-23T19:50:25.983083Z",
     "iopub.status.idle": "2023-05-23T19:50:40.212954Z",
     "shell.execute_reply": "2023-05-23T19:50:40.211500Z"
    },
    "papermill": {
     "duration": 14.290849,
     "end_time": "2023-05-23T19:50:40.219421",
     "exception": false,
     "start_time": "2023-05-23T19:50:25.928572",
     "status": "completed"
    },
    "tags": []
   },
   "outputs": [
    {
     "data": {
      "text/plain": [
       "0.589884028588005"
      ]
     },
     "execution_count": 20,
     "metadata": {},
     "output_type": "execute_result"
    }
   ],
   "source": [
    "distilled_tree = pylib.deap.history_to_tree_upgma(\n",
    "    history, extant_nodes, correct_origin_times=False\n",
    ")\n",
    "pylib.tree.polymorphic_quartet_distance(reconstructed_tree, distilled_tree)\n"
   ]
  },
  {
   "cell_type": "markdown",
   "id": "615ec2fe",
   "metadata": {
    "papermill": {
     "duration": 0.069729,
     "end_time": "2023-05-23T19:50:40.354213",
     "exception": false,
     "start_time": "2023-05-23T19:50:40.284484",
     "status": "completed"
    },
    "tags": []
   },
   "source": [
    "# Differentia Magnitude\n"
   ]
  },
  {
   "cell_type": "code",
   "execution_count": 21,
   "id": "74cb639a",
   "metadata": {
    "execution": {
     "iopub.execute_input": "2023-05-23T19:50:40.496457Z",
     "iopub.status.busy": "2023-05-23T19:50:40.495859Z",
     "iopub.status.idle": "2023-05-23T19:50:40.507277Z",
     "shell.execute_reply": "2023-05-23T19:50:40.505770Z"
    },
    "papermill": {
     "duration": 0.086726,
     "end_time": "2023-05-23T19:50:40.511329",
     "exception": false,
     "start_time": "2023-05-23T19:50:40.424603",
     "status": "completed"
    },
    "tags": []
   },
   "outputs": [],
   "source": [
    "rd_data = dict(population[0].species_annotation.IterRankDifferentiaZip())\n"
   ]
  },
  {
   "cell_type": "code",
   "execution_count": 22,
   "id": "7d4ec0ba",
   "metadata": {
    "execution": {
     "iopub.execute_input": "2023-05-23T19:50:40.635658Z",
     "iopub.status.busy": "2023-05-23T19:50:40.635068Z",
     "iopub.status.idle": "2023-05-23T19:50:43.188294Z",
     "shell.execute_reply": "2023-05-23T19:50:43.186759Z"
    },
    "papermill": {
     "duration": 2.619894,
     "end_time": "2023-05-23T19:50:43.192633",
     "exception": false,
     "start_time": "2023-05-23T19:50:40.572739",
     "status": "completed"
    },
    "tags": []
   },
   "outputs": [
    {
     "name": "stdout",
     "output_type": "stream",
     "text": [
      "teeplots/./notebook=ne-inference+replicate=0+treatment=bottleneck+viz=scatterplot-differentia-magnitude+ext=.pdf\n"
     ]
    },
    {
     "name": "stdout",
     "output_type": "stream",
     "text": [
      "teeplots/./notebook=ne-inference+replicate=0+treatment=bottleneck+viz=scatterplot-differentia-magnitude+ext=.png\n"
     ]
    },
    {
     "data": {
      "image/png": "[encoded data removed]",
      "text/plain": [
       "<Figure size 640x480 with 1 Axes>"
      ]
     },
     "metadata": {},
     "output_type": "display_data"
    }
   ],
   "source": [
    "def scatterplot_differentia_magnitude():\n",
    "#     plt.plot(*[*zip(*enumerate(MILL_NPOP_SEQ))])\n",
    "\n",
    "    sns.scatterplot(\n",
    "        x=rd_data.keys(),\n",
    "        y=rd_data.values(),\n",
    "        c=\"k\",\n",
    "    )\n",
    "\n",
    "    for i, (a, b) in enumerate(it.pairwise(MILL_NPOP_SEQ)):\n",
    "        if abs(a - b) > 2:\n",
    "            plt.axvline(i + 1, c=\"white\", lw=6)\n",
    "\n",
    "            plt.axvline(i + 1, ls=\":\", c=\"red\")\n",
    "    for i, (a, b) in enumerate(it.pairwise(MILL_NTOURN_SEQ)):\n",
    "        if a != b:\n",
    "            plt.axvline(i + 1, c=\"white\", lw=6)\n",
    "            plt.axvline(i + 1, ls=\":\", c=\"red\")\n",
    "\n",
    "    plt.ylabel(\"fixed differentia magnitude\")\n",
    "    plt.xlabel(\"generation\")\n",
    "\n",
    "plt.rcdefaults()\n",
    "plt.close('all')\n",
    "plt.clf()\n",
    "tp.tee(\n",
    "    scatterplot_differentia_magnitude,\n",
    "    teeplot_outattrs={\n",
    "        \"notebook\": \"ne-inference\",\n",
    "        \"replicate\": str(MILL_REPLICATE),\n",
    "        \"treatment\": MILL_TREATMENT_NAME,\n",
    "    },\n",
    ")\n"
   ]
  },
  {
   "cell_type": "code",
   "execution_count": 23,
   "id": "7aef2ee9",
   "metadata": {
    "execution": {
     "iopub.execute_input": "2023-05-23T19:50:43.341812Z",
     "iopub.status.busy": "2023-05-23T19:50:43.340285Z",
     "iopub.status.idle": "2023-05-23T19:50:45.704054Z",
     "shell.execute_reply": "2023-05-23T19:50:45.702411Z"
    },
    "papermill": {
     "duration": 2.452814,
     "end_time": "2023-05-23T19:50:45.709251",
     "exception": false,
     "start_time": "2023-05-23T19:50:43.256437",
     "status": "completed"
    },
    "tags": []
   },
   "outputs": [
    {
     "name": "stdout",
     "output_type": "stream",
     "text": [
      "teeplots/./notebook=ne-inference+replicate=0+treatment=bottleneck+viz=scatterplot-popsize-estimates+ext=.pdf\n"
     ]
    },
    {
     "name": "stdout",
     "output_type": "stream",
     "text": [
      "teeplots/./notebook=ne-inference+replicate=0+treatment=bottleneck+viz=scatterplot-popsize-estimates+ext=.png\n"
     ]
    },
    {
     "data": {
      "image/png": "[encoded data removed]",
      "text/plain": [
       "<Figure size 640x480 with 1 Axes>"
      ]
     },
     "metadata": {},
     "output_type": "display_data"
    }
   ],
   "source": [
    "def scatterplot_popsize_estimates():\n",
    "    plt.plot(*[*zip(*enumerate(MILL_NPOP_SEQ))])\n",
    "\n",
    "    sns.scatterplot(\n",
    "        x=rd_data.keys(),\n",
    "       y=[\n",
    "            -1 / np.log(x / 2**HSTRAT_DIFFERENTIA_WIDTH)\n",
    "            for x in rd_data.values()\n",
    "        ],\n",
    "        c=\"k\",\n",
    "    )\n",
    "\n",
    "    for i, (a, b) in enumerate(it.pairwise(MILL_NPOP_SEQ)):\n",
    "        if abs(a - b) > 2:\n",
    "            plt.axvline(i + 1, c=\"white\", lw=6)\n",
    "\n",
    "            plt.axvline(i + 1, ls=\":\", c=\"red\")\n",
    "    for i, (a, b) in enumerate(it.pairwise(MILL_NTOURN_SEQ)):\n",
    "        if a != b:\n",
    "            plt.axvline(i + 1, c=\"white\", lw=6)\n",
    "            plt.axvline(i + 1, ls=\":\", c=\"red\")\n",
    "\n",
    "    plt.ylabel(\"estimated population size\")\n",
    "    plt.xlabel(\"generation\")\n",
    "\n",
    "plt.rcdefaults()\n",
    "plt.close('all')\n",
    "plt.clf()\n",
    "tp.tee(\n",
    "    scatterplot_popsize_estimates,\n",
    "    teeplot_outattrs={\n",
    "        \"notebook\": \"ne-inference\",\n",
    "        \"replicate\": str(MILL_REPLICATE),\n",
    "        \"treatment\": MILL_TREATMENT_NAME,\n",
    "    },\n",
    ")\n"
   ]
  },
  {
   "cell_type": "code",
   "execution_count": 24,
   "id": "888b1e40",
   "metadata": {
    "execution": {
     "iopub.execute_input": "2023-05-23T19:50:45.837092Z",
     "iopub.status.busy": "2023-05-23T19:50:45.836493Z",
     "iopub.status.idle": "2023-05-23T19:50:45.852135Z",
     "shell.execute_reply": "2023-05-23T19:50:45.850653Z"
    },
    "papermill": {
     "duration": 0.082881,
     "end_time": "2023-05-23T19:50:45.856328",
     "exception": false,
     "start_time": "2023-05-23T19:50:45.773447",
     "status": "completed"
    },
    "tags": []
   },
   "outputs": [],
   "source": [
    "# TODO pool strata to create a running estimate with 95% confidence interval bands\n",
    "import pandas as pd\n",
    "\n",
    "df = pd.DataFrame(\n",
    "    {\n",
    "        \"rank\": rd_data.keys(),\n",
    "        \"differentia\": rd_data.values(),\n",
    "    }\n",
    ")\n",
    "\n",
    "df[\"normalized differentia\"] = (\n",
    "    df[\"differentia\"] / 2**HSTRAT_DIFFERENTIA_WIDTH\n",
    ")\n"
   ]
  },
  {
   "cell_type": "code",
   "execution_count": 25,
   "id": "b554a798",
   "metadata": {
    "execution": {
     "iopub.execute_input": "2023-05-23T19:50:45.984542Z",
     "iopub.status.busy": "2023-05-23T19:50:45.983959Z",
     "iopub.status.idle": "2023-05-23T19:50:46.004142Z",
     "shell.execute_reply": "2023-05-23T19:50:46.002657Z"
    },
    "papermill": {
     "duration": 0.088329,
     "end_time": "2023-05-23T19:50:46.007881",
     "exception": false,
     "start_time": "2023-05-23T19:50:45.919552",
     "status": "completed"
    },
    "tags": []
   },
   "outputs": [],
   "source": [
    "# https://github.com/mmore500/hereditary-stratigraph-concept/blob/3ebe7a7f3f03c03592564a64b0024632888d8f1d/binder/popsize/maximum_likelihood_popsize_estimator_confidence_interval.ipynb\n",
    "def solve_mle_popsize_ci_lb(\n",
    "    observations: typing.List[float],\n",
    "    *,\n",
    "    confidence: float = 0.95,\n",
    ") -> float:\n",
    "\n",
    "    k = len(observations)\n",
    "    hat_x = math.prod(observations)\n",
    "\n",
    "    # use mle estimate as starting guess\n",
    "    hat_n_mle = -k / math.log(hat_x)\n",
    "\n",
    "    n_lb = sympy.Symbol(\n",
    "        \"n_\\mathrm{lb}\",\n",
    "        positive=True,\n",
    "        real=True,\n",
    "    )\n",
    "\n",
    "    return float(\n",
    "        sympy.nsolve(\n",
    "            2 * sympy.uppergamma(k, -n_lb * sympy.log(hat_x))\n",
    "            - (confidence + 1) * sympy.gamma(k),\n",
    "            hat_n_mle,\n",
    "            verify=False,\n",
    "        )\n",
    "    )\n",
    "\n",
    "\n",
    "def solve_mle_popsize_ci_ub(\n",
    "    observations: typing.List[float],\n",
    "    *,\n",
    "    confidence: float = 0.95,\n",
    ") -> float:\n",
    "\n",
    "    k = len(observations)\n",
    "    hat_x = math.prod(observations)\n",
    "\n",
    "    # use mle estimate as starting guess\n",
    "    hat_n_mle = -k / math.log(hat_x)\n",
    "\n",
    "    n_lb = sympy.Symbol(\n",
    "        \"n_\\mathrm{ub}\",\n",
    "        positive=True,\n",
    "        real=True,\n",
    "    )\n",
    "\n",
    "    return float(\n",
    "        sympy.nsolve(\n",
    "            2 * sympy.uppergamma(k, -n_lb * sympy.log(hat_x))\n",
    "            - (1 - confidence) * sympy.gamma(k),\n",
    "            hat_n_mle,\n",
    "            verify=False,\n",
    "        )\n",
    "    )\n"
   ]
  },
  {
   "cell_type": "code",
   "execution_count": 26,
   "id": "1f25e26b",
   "metadata": {
    "execution": {
     "iopub.execute_input": "2023-05-23T19:50:46.132803Z",
     "iopub.status.busy": "2023-05-23T19:50:46.132218Z",
     "iopub.status.idle": "2023-05-23T19:51:18.649195Z",
     "shell.execute_reply": "2023-05-23T19:51:18.647586Z"
    },
    "papermill": {
     "duration": 32.583132,
     "end_time": "2023-05-23T19:51:18.653538",
     "exception": false,
     "start_time": "2023-05-23T19:50:46.070406",
     "status": "completed"
    },
    "tags": []
   },
   "outputs": [],
   "source": [
    "# Calculate the pooled running estimate\n",
    "k = 10\n",
    "\n",
    "df[\"running_ub\"] = (\n",
    "    df[\"normalized differentia\"]\n",
    "    .rolling(window=k)\n",
    "    .apply(solve_mle_popsize_ci_ub)\n",
    ")\n",
    "df[\"running_lb\"] = (\n",
    "    df[\"normalized differentia\"]\n",
    "    .rolling(window=k)\n",
    "    .apply(solve_mle_popsize_ci_lb)\n",
    ")\n",
    "df[\"population size\"] = (\n",
    "    df[\"normalized differentia\"]\n",
    "    .rolling(window=k)\n",
    "    .apply(lambda x: -k / np.sum(np.log(x)))\n",
    ")\n",
    "\n",
    "k = 1\n",
    "df[\"population size from singleton\"] = (\n",
    "    df[\"normalized differentia\"]\n",
    "    .rolling(window=k)\n",
    "    .apply(lambda x: -k / np.sum(np.log(x)))\n",
    ")\n"
   ]
  },
  {
   "cell_type": "code",
   "execution_count": 27,
   "id": "e66ba7c7",
   "metadata": {
    "execution": {
     "iopub.execute_input": "2023-05-23T19:51:18.871612Z",
     "iopub.status.busy": "2023-05-23T19:51:18.870976Z",
     "iopub.status.idle": "2023-05-23T19:51:21.133769Z",
     "shell.execute_reply": "2023-05-23T19:51:21.132175Z"
    },
    "papermill": {
     "duration": 2.335806,
     "end_time": "2023-05-23T19:51:21.138343",
     "exception": false,
     "start_time": "2023-05-23T19:51:18.802537",
     "status": "completed"
    },
    "tags": []
   },
   "outputs": [
    {
     "name": "stdout",
     "output_type": "stream",
     "text": [
      "teeplots/./notebook=ne-inference+replicate=0+treatment=bottleneck+viz=plot-running-estimation+x=rank+y=population-size+ext=.pdf\n"
     ]
    },
    {
     "name": "stdout",
     "output_type": "stream",
     "text": [
      "teeplots/./notebook=ne-inference+replicate=0+treatment=bottleneck+viz=plot-running-estimation+x=rank+y=population-size+ext=.png\n"
     ]
    },
    {
     "data": {
      "image/png": "[encoded data removed]",
      "text/plain": [
       "<Figure size 640x480 with 1 Axes>"
      ]
     },
     "metadata": {},
     "output_type": "display_data"
    }
   ],
   "source": [
    "def plot_running_estimation(x, y, data):\n",
    "    plt.plot(*[*zip(*enumerate(MILL_NPOP_SEQ))])\n",
    "\n",
    "    sns.lineplot(\n",
    "        data=data,\n",
    "        x=x,\n",
    "        y=y,\n",
    "        c=\"k\",\n",
    "    )\n",
    "\n",
    "    for i, (a, b) in enumerate(it.pairwise(MILL_NPOP_SEQ)):\n",
    "        if abs(a - b) > 2:\n",
    "            plt.axvline(i + 1, c=\"white\", lw=6)\n",
    "            plt.axvline(i + 1, ls=\":\", c=\"red\")\n",
    "\n",
    "    for i, (a, b) in enumerate(it.pairwise(MILL_NTOURN_SEQ)):\n",
    "        if a != b:\n",
    "            plt.axvline(i + 1, c=\"white\", lw=6)\n",
    "            plt.axvline(i + 1, ls=\":\", c=\"red\")\n",
    "\n",
    "    plt.fill_between(\n",
    "        df[\"rank\"], df[\"running_ub\"], df[\"running_lb\"], fc=\"lightblue\"\n",
    "    )\n",
    "    plt.xlabel(\"generation\")\n",
    "\n",
    "\n",
    "plt.rcdefaults()\n",
    "plt.close('all')\n",
    "plt.clf()\n",
    "tp.tee(\n",
    "    plot_running_estimation,\n",
    "    x=\"rank\",\n",
    "    y=\"population size\",\n",
    "    data=df,\n",
    "    teeplot_outattrs={\n",
    "        \"notebook\": \"ne-inference\",\n",
    "        \"replicate\": str(MILL_REPLICATE),\n",
    "        \"treatment\": MILL_TREATMENT_NAME,\n",
    "    },\n",
    ")\n"
   ]
  },
  {
   "cell_type": "code",
   "execution_count": 28,
   "id": "22c35b82",
   "metadata": {
    "execution": {
     "iopub.execute_input": "2023-05-23T19:51:21.276793Z",
     "iopub.status.busy": "2023-05-23T19:51:21.276189Z",
     "iopub.status.idle": "2023-05-23T19:51:21.469225Z",
     "shell.execute_reply": "2023-05-23T19:51:21.467699Z"
    },
    "papermill": {
     "duration": 0.267597,
     "end_time": "2023-05-23T19:51:21.473623",
     "exception": false,
     "start_time": "2023-05-23T19:51:21.206026",
     "status": "completed"
    },
    "tags": []
   },
   "outputs": [
    {
     "data": {
      "text/html": [
       "<div>\n",
       "<style scoped>\n",
       "    .dataframe tbody tr th:only-of-type {\n",
       "        vertical-align: middle;\n",
       "    }\n",
       "\n",
       "    .dataframe tbody tr th {\n",
       "        vertical-align: top;\n",
       "    }\n",
       "\n",
       "    .dataframe thead th {\n",
       "        text-align: right;\n",
       "    }\n",
       "</style>\n",
       "<table border=\"1\" class=\"dataframe\">\n",
       "  <thead>\n",
       "    <tr style=\"text-align: right;\">\n",
       "      <th></th>\n",
       "      <th>notebook</th>\n",
       "      <th>replicate</th>\n",
       "      <th>treatment</th>\n",
       "      <th>first rank</th>\n",
       "      <th>population size estimate at first rank</th>\n",
       "      <th>population size upper bound at first rank</th>\n",
       "      <th>population size lower bound at first rank</th>\n",
       "      <th>second rank</th>\n",
       "      <th>population size estimate at second rank</th>\n",
       "      <th>population size upper bound at second rank</th>\n",
       "      <th>population size lower bound at second rank</th>\n",
       "      <th>nonoverlapping CI</th>\n",
       "      <th>Mann-Whitney p</th>\n",
       "      <th>Mann-Whitney significant at alpha = 0.05</th>\n",
       "      <th>Mann-Whitney significant at alpha = 0.01</th>\n",
       "    </tr>\n",
       "  </thead>\n",
       "  <tbody>\n",
       "    <tr>\n",
       "      <th>0</th>\n",
       "      <td>ne-inference</td>\n",
       "      <td>0</td>\n",
       "      <td>bottleneck</td>\n",
       "      <td>33</td>\n",
       "      <td>80.577725</td>\n",
       "      <td>137.665460</td>\n",
       "      <td>38.640151</td>\n",
       "      <td>100</td>\n",
       "      <td>5.190786</td>\n",
       "      <td>8.868357</td>\n",
       "      <td>2.489184</td>\n",
       "      <td>True</td>\n",
       "      <td>2.452456e-06</td>\n",
       "      <td>True</td>\n",
       "      <td>True</td>\n",
       "    </tr>\n",
       "    <tr>\n",
       "      <th>1</th>\n",
       "      <td>ne-inference</td>\n",
       "      <td>0</td>\n",
       "      <td>bottleneck</td>\n",
       "      <td>33</td>\n",
       "      <td>80.577725</td>\n",
       "      <td>137.665460</td>\n",
       "      <td>38.640151</td>\n",
       "      <td>166</td>\n",
       "      <td>45.280659</td>\n",
       "      <td>77.361117</td>\n",
       "      <td>21.713836</td>\n",
       "      <td>False</td>\n",
       "      <td>5.969830e-01</td>\n",
       "      <td>False</td>\n",
       "      <td>False</td>\n",
       "    </tr>\n",
       "    <tr>\n",
       "      <th>2</th>\n",
       "      <td>ne-inference</td>\n",
       "      <td>0</td>\n",
       "      <td>bottleneck</td>\n",
       "      <td>100</td>\n",
       "      <td>5.190786</td>\n",
       "      <td>8.868357</td>\n",
       "      <td>2.489184</td>\n",
       "      <td>33</td>\n",
       "      <td>80.577725</td>\n",
       "      <td>137.665460</td>\n",
       "      <td>38.640151</td>\n",
       "      <td>True</td>\n",
       "      <td>2.452456e-06</td>\n",
       "      <td>True</td>\n",
       "      <td>True</td>\n",
       "    </tr>\n",
       "    <tr>\n",
       "      <th>3</th>\n",
       "      <td>ne-inference</td>\n",
       "      <td>0</td>\n",
       "      <td>bottleneck</td>\n",
       "      <td>100</td>\n",
       "      <td>5.190786</td>\n",
       "      <td>8.868357</td>\n",
       "      <td>2.489184</td>\n",
       "      <td>166</td>\n",
       "      <td>45.280659</td>\n",
       "      <td>77.361117</td>\n",
       "      <td>21.713836</td>\n",
       "      <td>True</td>\n",
       "      <td>8.233020e-07</td>\n",
       "      <td>True</td>\n",
       "      <td>True</td>\n",
       "    </tr>\n",
       "    <tr>\n",
       "      <th>4</th>\n",
       "      <td>ne-inference</td>\n",
       "      <td>0</td>\n",
       "      <td>bottleneck</td>\n",
       "      <td>166</td>\n",
       "      <td>45.280659</td>\n",
       "      <td>77.361117</td>\n",
       "      <td>21.713836</td>\n",
       "      <td>33</td>\n",
       "      <td>80.577725</td>\n",
       "      <td>137.665460</td>\n",
       "      <td>38.640151</td>\n",
       "      <td>False</td>\n",
       "      <td>5.969830e-01</td>\n",
       "      <td>False</td>\n",
       "      <td>False</td>\n",
       "    </tr>\n",
       "    <tr>\n",
       "      <th>5</th>\n",
       "      <td>ne-inference</td>\n",
       "      <td>0</td>\n",
       "      <td>bottleneck</td>\n",
       "      <td>166</td>\n",
       "      <td>45.280659</td>\n",
       "      <td>77.361117</td>\n",
       "      <td>21.713836</td>\n",
       "      <td>100</td>\n",
       "      <td>5.190786</td>\n",
       "      <td>8.868357</td>\n",
       "      <td>2.489184</td>\n",
       "      <td>True</td>\n",
       "      <td>8.233020e-07</td>\n",
       "      <td>True</td>\n",
       "      <td>True</td>\n",
       "    </tr>\n",
       "  </tbody>\n",
       "</table>\n",
       "</div>"
      ],
      "text/plain": [
       "       notebook  replicate   treatment  first rank   \n",
       "0  ne-inference          0  bottleneck          33  \\\n",
       "1  ne-inference          0  bottleneck          33   \n",
       "2  ne-inference          0  bottleneck         100   \n",
       "3  ne-inference          0  bottleneck         100   \n",
       "4  ne-inference          0  bottleneck         166   \n",
       "5  ne-inference          0  bottleneck         166   \n",
       "\n",
       "   population size estimate at first rank   \n",
       "0                               80.577725  \\\n",
       "1                               80.577725   \n",
       "2                                5.190786   \n",
       "3                                5.190786   \n",
       "4                               45.280659   \n",
       "5                               45.280659   \n",
       "\n",
       "   population size upper bound at first rank   \n",
       "0                                 137.665460  \\\n",
       "1                                 137.665460   \n",
       "2                                   8.868357   \n",
       "3                                   8.868357   \n",
       "4                                  77.361117   \n",
       "5                                  77.361117   \n",
       "\n",
       "   population size lower bound at first rank  second rank   \n",
       "0                                  38.640151          100  \\\n",
       "1                                  38.640151          166   \n",
       "2                                   2.489184           33   \n",
       "3                                   2.489184          166   \n",
       "4                                  21.713836           33   \n",
       "5                                  21.713836          100   \n",
       "\n",
       "   population size estimate at second rank   \n",
       "0                                 5.190786  \\\n",
       "1                                45.280659   \n",
       "2                                80.577725   \n",
       "3                                45.280659   \n",
       "4                                80.577725   \n",
       "5                                 5.190786   \n",
       "\n",
       "   population size upper bound at second rank   \n",
       "0                                    8.868357  \\\n",
       "1                                   77.361117   \n",
       "2                                  137.665460   \n",
       "3                                   77.361117   \n",
       "4                                  137.665460   \n",
       "5                                    8.868357   \n",
       "\n",
       "   population size lower bound at second rank  nonoverlapping CI   \n",
       "0                                    2.489184               True  \\\n",
       "1                                   21.713836              False   \n",
       "2                                   38.640151               True   \n",
       "3                                   21.713836               True   \n",
       "4                                   38.640151              False   \n",
       "5                                    2.489184               True   \n",
       "\n",
       "   Mann-Whitney p  Mann-Whitney significant at alpha = 0.05   \n",
       "0    2.452456e-06                                      True  \\\n",
       "1    5.969830e-01                                     False   \n",
       "2    2.452456e-06                                      True   \n",
       "3    8.233020e-07                                      True   \n",
       "4    5.969830e-01                                     False   \n",
       "5    8.233020e-07                                      True   \n",
       "\n",
       "   Mann-Whitney significant at alpha = 0.01  \n",
       "0                                      True  \n",
       "1                                     False  \n",
       "2                                      True  \n",
       "3                                      True  \n",
       "4                                     False  \n",
       "5                                      True  "
      ]
     },
     "execution_count": 28,
     "metadata": {},
     "output_type": "execute_result"
    }
   ],
   "source": [
    "records = [\n",
    "    {\n",
    "        \"notebook\": \"ne-inference\",\n",
    "        \"replicate\": MILL_REPLICATE,\n",
    "        \"treatment\": MILL_TREATMENT_NAME,\n",
    "        \"first rank\": first_rank,\n",
    "        \"population size estimate at first rank\": df[\n",
    "            df[\"rank\"] == first_rank\n",
    "        ].iloc[0][\"population size\"],\n",
    "        \"population size upper bound at first rank\": df[\n",
    "            df[\"rank\"] == first_rank\n",
    "        ].iloc[0][\"running_ub\"],\n",
    "        \"population size lower bound at first rank\": df[\n",
    "            df[\"rank\"] == first_rank\n",
    "        ].iloc[0][\"running_lb\"],\n",
    "        \"second rank\": second_rank,\n",
    "        \"population size estimate at second rank\": df[\n",
    "            df[\"rank\"] == second_rank\n",
    "        ].iloc[0][\"population size\"],\n",
    "        \"population size upper bound at second rank\": df[\n",
    "            df[\"rank\"] == second_rank\n",
    "        ].iloc[0][\"running_ub\"],\n",
    "        \"population size lower bound at second rank\": df[\n",
    "            df[\"rank\"] == second_rank\n",
    "        ].iloc[0][\"running_lb\"],\n",
    "        \"nonoverlapping CI\": min(\n",
    "            df[df[\"rank\"] == first_rank].iloc[0][\"running_ub\"],\n",
    "            df[df[\"rank\"] == second_rank].iloc[0][\"running_ub\"],\n",
    "        )\n",
    "        < max(\n",
    "            df[df[\"rank\"] == first_rank].iloc[0][\"running_lb\"],\n",
    "            df[df[\"rank\"] == second_rank].iloc[0][\"running_lb\"],\n",
    "        ),\n",
    "        \"Mann-Whitney p\": scipy_stats.mannwhitneyu(\n",
    "            df.loc[\n",
    "                (df[\"rank\"] - first_rank).abs() < 15,\n",
    "                \"population size from singleton\",\n",
    "            ],\n",
    "            df.loc[\n",
    "                (df[\"rank\"] - second_rank).abs() < 15,\n",
    "                \"population size from singleton\",\n",
    "            ],\n",
    "        )[1],\n",
    "    }\n",
    "    for first_rank, second_rank in it.permutations([33, 100, 166], 2)\n",
    "]\n",
    "outdf = pd.DataFrame.from_records(records)\n",
    "outdf[\"Mann-Whitney significant at alpha = 0.05\"] = (\n",
    "    outdf[\"Mann-Whitney p\"] < 0.05\n",
    ")\n",
    "outdf[\"Mann-Whitney significant at alpha = 0.01\"] = (\n",
    "    outdf[\"Mann-Whitney p\"] < 0.01\n",
    ")\n",
    "outdf.to_csv(\n",
    "    kn.pack(\n",
    "        {\n",
    "            \"a\": \"snapshot-comparisons-stats\",\n",
    "            \"notebook\": \"ne-inference\",\n",
    "            \"replicate\": MILL_REPLICATE,\n",
    "            \"treatment\": MILL_TREATMENT_NAME,\n",
    "            \"ext\": \".csv\",\n",
    "        }\n",
    "    )\n",
    ")\n",
    "outdf\n"
   ]
  }
 ],
 "metadata": {
  "kernelspec": {
   "display_name": "Python 3",
   "language": "python",
   "name": "python3"
  },
  "language_info": {
   "codemirror_mode": {
    "name": "ipython",
    "version": 3
   },
   "file_extension": ".py",
   "mimetype": "text/x-python",
   "name": "python",
   "nbconvert_exporter": "python",
   "pygments_lexer": "ipython3",
   "version": "3.10.6"
  },
  "papermill": {
   "default_parameters": {},
   "duration": 525.839595,
   "end_time": "2023-05-23T19:51:24.277663",
   "environment_variables": {},
   "exception": null,
   "input_path": "Ne-inference.ipynb",
   "output_path": "Ne-inference-parameterization-0.ipynb",
   "parameters": {
    "MILL_NPOP_SEQ": "[100] * 67 + [10] * 66 + [100] * 67",
    "MILL_REPLICATE": 0,
    "MILL_TREATMENT_NAME": "bottleneck"
   },
   "start_time": "2023-05-23T19:42:38.438068",
   "version": "2.4.0"
  }
 },
 "nbformat": 4,
 "nbformat_minor": 5
}