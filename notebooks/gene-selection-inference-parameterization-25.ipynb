{
 "cells": [
  {
   "cell_type": "code",
   "execution_count": 1,
   "id": "f84561eb",
   "metadata": {
    "execution": {
     "iopub.execute_input": "2023-05-23T23:23:18.683746Z",
     "iopub.status.busy": "2023-05-23T23:23:18.676348Z",
     "iopub.status.idle": "2023-05-23T23:23:21.064603Z",
     "shell.execute_reply": "2023-05-23T23:23:21.066428Z"
    },
    "papermill": {
     "duration": 2.458405,
     "end_time": "2023-05-23T23:23:21.085096",
     "exception": false,
     "start_time": "2023-05-23T23:23:18.626691",
     "status": "completed"
    },
    "tags": []
   },
   "outputs": [],
   "source": [
    "import endomill\n",
    "import yaml\n"
   ]
  },
  {
   "cell_type": "code",
   "execution_count": 2,
   "id": "4bca88b7",
   "metadata": {
    "execution": {
     "iopub.execute_input": "2023-05-23T23:23:21.231526Z",
     "iopub.status.busy": "2023-05-23T23:23:21.230660Z",
     "iopub.status.idle": "2023-05-23T23:23:21.316940Z",
     "shell.execute_reply": "2023-05-23T23:23:21.317838Z"
    },
    "papermill": {
     "duration": 0.172663,
     "end_time": "2023-05-23T23:23:21.318120",
     "exception": false,
     "start_time": "2023-05-23T23:23:21.145457",
     "status": "completed"
    },
    "tags": []
   },
   "outputs": [],
   "source": [
    "parameter_packs = [\n",
    "    {\n",
    "        \"MILL_FITNESS_ADVANTAGE\": fitness_advantage,\n",
    "        \"MILL_REPLICATE\": replicate,\n",
    "    }\n",
    "    for replicate in range(10)\n",
    "    for fitness_advantage in [0.0, 0.1, 1.0]\n",
    "]\n",
    "\n",
    "for i, pp in enumerate(parameter_packs):\n",
    "    with open(\n",
    "        f\"gene-selection-inference-parameterization-{i}.yaml\", \"w\"\n",
    "    ) as file:\n",
    "        yaml.safe_dump(pp, file)\n",
    "# endomill.instantiate_over(parameter_packs=parameter_packs)\n"
   ]
  },
  {
   "cell_type": "markdown",
   "id": "e28f00ac",
   "metadata": {
    "papermill": {
     "duration": 0.048521,
     "end_time": "2023-05-23T23:23:21.427414",
     "exception": false,
     "start_time": "2023-05-23T23:23:21.378893",
     "status": "completed"
    },
    "tags": []
   },
   "source": [
    "# Papermill Parameters\n"
   ]
  },
  {
   "cell_type": "code",
   "execution_count": 3,
   "id": "3aefb161",
   "metadata": {
    "execution": {
     "iopub.execute_input": "2023-05-23T23:23:21.510802Z",
     "iopub.status.busy": "2023-05-23T23:23:21.509875Z",
     "iopub.status.idle": "2023-05-23T23:23:21.527893Z",
     "shell.execute_reply": "2023-05-23T23:23:21.527113Z"
    },
    "papermill": {
     "duration": 0.058318,
     "end_time": "2023-05-23T23:23:21.528122",
     "exception": false,
     "start_time": "2023-05-23T23:23:21.469804",
     "status": "completed"
    },
    "tags": [
     "parameters"
    ]
   },
   "outputs": [],
   "source": [
    "MILL_FITNESS_ADVANTAGE: float\n",
    "MILL_REPLICATE: int\n"
   ]
  },
  {
   "cell_type": "code",
   "execution_count": 4,
   "id": "b5d4392b",
   "metadata": {
    "execution": {
     "iopub.execute_input": "2023-05-23T23:23:21.700642Z",
     "iopub.status.busy": "2023-05-23T23:23:21.698909Z",
     "iopub.status.idle": "2023-05-23T23:23:21.713714Z",
     "shell.execute_reply": "2023-05-23T23:23:21.699677Z"
    },
    "papermill": {
     "duration": 0.115365,
     "end_time": "2023-05-23T23:23:21.713934",
     "exception": false,
     "start_time": "2023-05-23T23:23:21.598569",
     "status": "completed"
    },
    "tags": [
     "injected-parameters"
    ]
   },
   "outputs": [],
   "source": [
    "# Parameters\n",
    "MILL_FITNESS_ADVANTAGE = 0.1\n",
    "MILL_REPLICATE = 8\n"
   ]
  },
  {
   "cell_type": "code",
   "execution_count": 5,
   "id": "4207b7df",
   "metadata": {
    "execution": {
     "iopub.execute_input": "2023-05-23T23:23:21.794914Z",
     "iopub.status.busy": "2023-05-23T23:23:21.794111Z",
     "iopub.status.idle": "2023-05-23T23:23:30.995121Z",
     "shell.execute_reply": "2023-05-23T23:23:30.994177Z"
    },
    "papermill": {
     "duration": 9.241705,
     "end_time": "2023-05-23T23:23:30.995360",
     "exception": false,
     "start_time": "2023-05-23T23:23:21.753655",
     "status": "completed"
    },
    "tags": []
   },
   "outputs": [],
   "source": [
    "import copy\n",
    "import random\n",
    "\n",
    "import alifedata_phyloinformatics_convert as apc\n",
    "from deap import algorithms as deap_algorithms\n",
    "from deap import base as deap_base\n",
    "from deap import creator as deap_creator\n",
    "from deap import tools as deap_tools\n",
    "from hstrat import hstrat\n",
    "from keyname import keyname as kn\n",
    "from matplotlib import pyplot as plt\n",
    "import pandas as pd\n",
    "import seaborn as sns\n",
    "from teeplot import teeplot as tp\n",
    "from tqdm import tqdm\n",
    "\n",
    "import pylib\n"
   ]
  },
  {
   "cell_type": "code",
   "execution_count": 6,
   "id": "c6da1ab6",
   "metadata": {
    "execution": {
     "iopub.execute_input": "2023-05-23T23:23:31.168470Z",
     "iopub.status.busy": "2023-05-23T23:23:31.157848Z",
     "iopub.status.idle": "2023-05-23T23:23:31.174789Z",
     "shell.execute_reply": "2023-05-23T23:23:31.173543Z"
    },
    "papermill": {
     "duration": 0.111784,
     "end_time": "2023-05-23T23:23:31.175093",
     "exception": false,
     "start_time": "2023-05-23T23:23:31.063309",
     "status": "completed"
    },
    "tags": []
   },
   "outputs": [],
   "source": [
    "random.seed(MILL_REPLICATE)\n"
   ]
  },
  {
   "cell_type": "markdown",
   "id": "2ee2370f",
   "metadata": {
    "papermill": {
     "duration": 0.078596,
     "end_time": "2023-05-23T23:23:31.340831",
     "exception": false,
     "start_time": "2023-05-23T23:23:31.262235",
     "status": "completed"
    },
    "tags": []
   },
   "source": [
    "# Parameters\n"
   ]
  },
  {
   "cell_type": "code",
   "execution_count": 7,
   "id": "23665884",
   "metadata": {
    "execution": {
     "iopub.execute_input": "2023-05-23T23:23:31.494456Z",
     "iopub.status.busy": "2023-05-23T23:23:31.493276Z",
     "iopub.status.idle": "2023-05-23T23:23:31.504568Z",
     "shell.execute_reply": "2023-05-23T23:23:31.502809Z"
    },
    "papermill": {
     "duration": 0.082155,
     "end_time": "2023-05-23T23:23:31.504885",
     "exception": false,
     "start_time": "2023-05-23T23:23:31.422730",
     "status": "completed"
    },
    "tags": []
   },
   "outputs": [],
   "source": [
    "HSTRAT_RESOLUTION = 1000\n",
    "HSTRAT_DIFFERENTIA_WIDTH = 64\n",
    "\n",
    "TOURNAMENT_SIZE = 2\n",
    "\n",
    "NGEN = 200\n",
    "\n",
    "POPULATION_SIZE = 400\n"
   ]
  },
  {
   "cell_type": "markdown",
   "id": "bfebc185",
   "metadata": {
    "papermill": {
     "duration": 0.059828,
     "end_time": "2023-05-23T23:23:31.631939",
     "exception": false,
     "start_time": "2023-05-23T23:23:31.572111",
     "status": "completed"
    },
    "tags": []
   },
   "source": [
    "# Setup\n"
   ]
  },
  {
   "cell_type": "code",
   "execution_count": 8,
   "id": "8b2d555f",
   "metadata": {
    "execution": {
     "iopub.execute_input": "2023-05-23T23:23:31.750252Z",
     "iopub.status.busy": "2023-05-23T23:23:31.749101Z",
     "iopub.status.idle": "2023-05-23T23:23:31.772619Z",
     "shell.execute_reply": "2023-05-23T23:23:31.771496Z"
    },
    "papermill": {
     "duration": 0.096305,
     "end_time": "2023-05-23T23:23:31.772865",
     "exception": false,
     "start_time": "2023-05-23T23:23:31.676560",
     "status": "completed"
    },
    "tags": []
   },
   "outputs": [],
   "source": [
    "deap_creator.create(\"FitnessMax\", deap_base.Fitness, weights=(1.0,))\n",
    "deap_creator.create(\"Individual\", list, fitness=deap_creator.FitnessMax)\n",
    "\n",
    "toolbox = deap_base.Toolbox()\n",
    "\n",
    "toolbox.register(\n",
    "    \"individual\",\n",
    "    lambda *args, **kwargs: deap_creator.Individual([0.0]),\n",
    "    deap_creator.Individual,\n",
    "    n=1,\n",
    ")\n",
    "toolbox.register(\"population\", deap_tools.initRepeat, list, toolbox.individual)\n",
    "\n",
    "\n",
    "def evalOneMax(individual):\n",
    "    return (individual[0] + random.random(),)\n",
    "\n",
    "\n",
    "toolbox.register(\"evaluate\", evalOneMax)\n",
    "# hack to ensure gene annotation remains associated with gene\n",
    "toolbox.register(\"mate\", lambda x, y: random.choice([(x, y), (y, x)]))\n",
    "toolbox.register(\"mutate\", lambda x: tuple(x))\n",
    "toolbox.register(\"select\", deap_tools.selTournament, tournsize=TOURNAMENT_SIZE)\n",
    "\n",
    "# Decorate the variation operators\n",
    "toolbox.decorate(\"mate\", pylib.deap.hstrat_mate_decorator)\n"
   ]
  },
  {
   "cell_type": "markdown",
   "id": "af613eb5",
   "metadata": {
    "papermill": {
     "duration": 0.035851,
     "end_time": "2023-05-23T23:23:31.877771",
     "exception": false,
     "start_time": "2023-05-23T23:23:31.841920",
     "status": "completed"
    },
    "tags": []
   },
   "source": [
    "# Evolve\n"
   ]
  },
  {
   "cell_type": "code",
   "execution_count": 9,
   "id": "e8f96219",
   "metadata": {
    "execution": {
     "iopub.execute_input": "2023-05-23T23:23:31.955401Z",
     "iopub.status.busy": "2023-05-23T23:23:31.954228Z",
     "iopub.status.idle": "2023-05-23T23:41:55.664388Z",
     "shell.execute_reply": "2023-05-23T23:41:55.663897Z"
    },
    "papermill": {
     "duration": 1103.755152,
     "end_time": "2023-05-23T23:41:55.664518",
     "exception": false,
     "start_time": "2023-05-23T23:23:31.909366",
     "status": "completed"
    },
    "tags": []
   },
   "outputs": [
    {
     "name": "stderr",
     "output_type": "stream",
     "text": [
      "\r",
      "  0%|                                                                                                                                                                 | 0/200 [00:00<?, ?it/s]"
     ]
    },
    {
     "name": "stderr",
     "output_type": "stream",
     "text": [
      "\r",
      "  0%|▊                                                                                                                                                        | 1/200 [00:02<06:56,  2.09s/it]"
     ]
    },
    {
     "name": "stderr",
     "output_type": "stream",
     "text": [
      "\r",
      "  1%|█▌                                                                                                                                                       | 2/200 [00:04<07:01,  2.13s/it]"
     ]
    },
    {
     "name": "stderr",
     "output_type": "stream",
     "text": [
      "\r",
      "  2%|██▎                                                                                                                                                      | 3/200 [00:06<06:35,  2.01s/it]"
     ]
    },
    {
     "name": "stderr",
     "output_type": "stream",
     "text": [
      "\r",
      "  2%|███                                                                                                                                                      | 4/200 [00:08<06:29,  1.99s/it]"
     ]
    },
    {
     "name": "stderr",
     "output_type": "stream",
     "text": [
      "\r",
      "  2%|███▊                                                                                                                                                     | 5/200 [00:09<06:11,  1.90s/it]"
     ]
    },
    {
     "name": "stderr",
     "output_type": "stream",
     "text": [
      "\r",
      "  3%|████▌                                                                                                                                                    | 6/200 [00:11<06:26,  1.99s/it]"
     ]
    },
    {
     "name": "stderr",
     "output_type": "stream",
     "text": [
      "\r",
      "  4%|█████▎                                                                                                                                                   | 7/200 [00:13<06:02,  1.88s/it]"
     ]
    },
    {
     "name": "stderr",
     "output_type": "stream",
     "text": [
      "\r",
      "  4%|██████                                                                                                                                                   | 8/200 [00:15<06:13,  1.95s/it]"
     ]
    },
    {
     "name": "stderr",
     "output_type": "stream",
     "text": [
      "\r",
      "  4%|██████▉                                                                                                                                                  | 9/200 [00:17<06:25,  2.02s/it]"
     ]
    },
    {
     "name": "stderr",
     "output_type": "stream",
     "text": [
      "\r",
      "  5%|███████▌                                                                                                                                                | 10/200 [00:19<06:20,  2.00s/it]"
     ]
    },
    {
     "name": "stderr",
     "output_type": "stream",
     "text": [
      "\r",
      "  6%|████████▎                                                                                                                                               | 11/200 [00:21<05:58,  1.90s/it]"
     ]
    },
    {
     "name": "stderr",
     "output_type": "stream",
     "text": [
      "\r",
      "  6%|█████████                                                                                                                                               | 12/200 [00:23<06:13,  1.99s/it]"
     ]
    },
    {
     "name": "stderr",
     "output_type": "stream",
     "text": [
      "\r",
      "  6%|█████████▉                                                                                                                                              | 13/200 [00:25<06:16,  2.01s/it]"
     ]
    },
    {
     "name": "stderr",
     "output_type": "stream",
     "text": [
      "\r",
      "  7%|██████████▋                                                                                                                                             | 14/200 [00:27<06:06,  1.97s/it]"
     ]
    },
    {
     "name": "stderr",
     "output_type": "stream",
     "text": [
      "\r",
      "  8%|███████████▍                                                                                                                                            | 15/200 [00:29<06:14,  2.02s/it]"
     ]
    },
    {
     "name": "stderr",
     "output_type": "stream",
     "text": [
      "\r",
      "  8%|████████████▏                                                                                                                                           | 16/200 [00:32<06:27,  2.11s/it]"
     ]
    },
    {
     "name": "stderr",
     "output_type": "stream",
     "text": [
      "\r",
      "  8%|████████████▉                                                                                                                                           | 17/200 [00:34<06:19,  2.07s/it]"
     ]
    },
    {
     "name": "stderr",
     "output_type": "stream",
     "text": [
      "\r",
      "  9%|█████████████▋                                                                                                                                          | 18/200 [00:36<06:41,  2.20s/it]"
     ]
    },
    {
     "name": "stderr",
     "output_type": "stream",
     "text": [
      "\r",
      " 10%|██████████████▍                                                                                                                                         | 19/200 [00:39<06:52,  2.28s/it]"
     ]
    },
    {
     "name": "stderr",
     "output_type": "stream",
     "text": [
      "\r",
      " 10%|███████████████▏                                                                                                                                        | 20/200 [00:41<06:55,  2.31s/it]"
     ]
    },
    {
     "name": "stderr",
     "output_type": "stream",
     "text": [
      "\r",
      " 10%|███████████████▉                                                                                                                                        | 21/200 [00:43<07:06,  2.38s/it]"
     ]
    },
    {
     "name": "stderr",
     "output_type": "stream",
     "text": [
      "\r",
      " 11%|████████████████▋                                                                                                                                       | 22/200 [00:47<07:53,  2.66s/it]"
     ]
    },
    {
     "name": "stderr",
     "output_type": "stream",
     "text": [
      "\r",
      " 12%|█████████████████▍                                                                                                                                      | 23/200 [00:50<08:20,  2.83s/it]"
     ]
    },
    {
     "name": "stderr",
     "output_type": "stream",
     "text": [
      "\r",
      " 12%|██████████████████▏                                                                                                                                     | 24/200 [00:53<08:27,  2.88s/it]"
     ]
    },
    {
     "name": "stderr",
     "output_type": "stream",
     "text": [
      "\r",
      " 12%|███████████████████                                                                                                                                     | 25/200 [00:56<08:30,  2.92s/it]"
     ]
    },
    {
     "name": "stderr",
     "output_type": "stream",
     "text": [
      "\r",
      " 13%|███████████████████▊                                                                                                                                    | 26/200 [01:00<09:08,  3.15s/it]"
     ]
    },
    {
     "name": "stderr",
     "output_type": "stream",
     "text": [
      "\r",
      " 14%|████████████████████▌                                                                                                                                   | 27/200 [01:04<09:45,  3.39s/it]"
     ]
    },
    {
     "name": "stderr",
     "output_type": "stream",
     "text": [
      "\r",
      " 14%|█████████████████████▎                                                                                                                                  | 28/200 [01:07<09:27,  3.30s/it]"
     ]
    },
    {
     "name": "stderr",
     "output_type": "stream",
     "text": [
      "\r",
      " 14%|██████████████████████                                                                                                                                  | 29/200 [01:09<08:51,  3.11s/it]"
     ]
    },
    {
     "name": "stderr",
     "output_type": "stream",
     "text": [
      "\r",
      " 15%|██████████████████████▊                                                                                                                                 | 30/200 [01:13<09:14,  3.26s/it]"
     ]
    },
    {
     "name": "stderr",
     "output_type": "stream",
     "text": [
      "\r",
      " 16%|███████████████████████▌                                                                                                                                | 31/200 [01:17<09:28,  3.37s/it]"
     ]
    },
    {
     "name": "stderr",
     "output_type": "stream",
     "text": [
      "\r",
      " 16%|████████████████████████▎                                                                                                                               | 32/200 [01:20<09:27,  3.38s/it]"
     ]
    },
    {
     "name": "stderr",
     "output_type": "stream",
     "text": [
      "\r",
      " 16%|█████████████████████████                                                                                                                               | 33/200 [01:23<08:52,  3.19s/it]"
     ]
    },
    {
     "name": "stderr",
     "output_type": "stream",
     "text": [
      "\r",
      " 17%|█████████████████████████▊                                                                                                                              | 34/200 [01:26<08:30,  3.08s/it]"
     ]
    },
    {
     "name": "stderr",
     "output_type": "stream",
     "text": [
      "\r",
      " 18%|██████████████████████████▌                                                                                                                             | 35/200 [01:29<08:25,  3.06s/it]"
     ]
    },
    {
     "name": "stderr",
     "output_type": "stream",
     "text": [
      "\r",
      " 18%|███████████████████████████▎                                                                                                                            | 36/200 [01:32<08:18,  3.04s/it]"
     ]
    },
    {
     "name": "stderr",
     "output_type": "stream",
     "text": [
      "\r",
      " 18%|████████████████████████████                                                                                                                            | 37/200 [01:35<08:12,  3.02s/it]"
     ]
    },
    {
     "name": "stderr",
     "output_type": "stream",
     "text": [
      "\r",
      " 19%|████████████████████████████▉                                                                                                                           | 38/200 [01:38<08:12,  3.04s/it]"
     ]
    },
    {
     "name": "stderr",
     "output_type": "stream",
     "text": [
      "\r",
      " 20%|█████████████████████████████▋                                                                                                                          | 39/200 [01:41<08:03,  3.00s/it]"
     ]
    },
    {
     "name": "stderr",
     "output_type": "stream",
     "text": [
      "\r",
      " 20%|██████████████████████████████▍                                                                                                                         | 40/200 [01:44<08:11,  3.07s/it]"
     ]
    },
    {
     "name": "stderr",
     "output_type": "stream",
     "text": [
      "\r",
      " 20%|███████████████████████████████▏                                                                                                                        | 41/200 [01:47<08:18,  3.13s/it]"
     ]
    },
    {
     "name": "stderr",
     "output_type": "stream",
     "text": [
      "\r",
      " 21%|███████████████████████████████▉                                                                                                                        | 42/200 [01:50<08:23,  3.18s/it]"
     ]
    },
    {
     "name": "stderr",
     "output_type": "stream",
     "text": [
      "\r",
      " 22%|████████████████████████████████▋                                                                                                                       | 43/200 [01:54<08:46,  3.36s/it]"
     ]
    },
    {
     "name": "stderr",
     "output_type": "stream",
     "text": [
      "\r",
      " 22%|█████████████████████████████████▍                                                                                                                      | 44/200 [01:59<09:35,  3.69s/it]"
     ]
    },
    {
     "name": "stderr",
     "output_type": "stream",
     "text": [
      "\r",
      " 22%|██████████████████████████████████▏                                                                                                                     | 45/200 [02:03<10:24,  4.03s/it]"
     ]
    },
    {
     "name": "stderr",
     "output_type": "stream",
     "text": [
      "\r",
      " 23%|██████████████████████████████████▉                                                                                                                     | 46/200 [02:08<11:02,  4.30s/it]"
     ]
    },
    {
     "name": "stderr",
     "output_type": "stream",
     "text": [
      "\r",
      " 24%|███████████████████████████████████▋                                                                                                                    | 47/200 [02:12<10:41,  4.19s/it]"
     ]
    },
    {
     "name": "stderr",
     "output_type": "stream",
     "text": [
      "\r",
      " 24%|████████████████████████████████████▍                                                                                                                   | 48/200 [02:16<10:18,  4.07s/it]"
     ]
    },
    {
     "name": "stderr",
     "output_type": "stream",
     "text": [
      "\r",
      " 24%|█████████████████████████████████████▏                                                                                                                  | 49/200 [02:19<09:26,  3.75s/it]"
     ]
    },
    {
     "name": "stderr",
     "output_type": "stream",
     "text": [
      "\r",
      " 25%|██████████████████████████████████████                                                                                                                  | 50/200 [02:23<09:21,  3.74s/it]"
     ]
    },
    {
     "name": "stderr",
     "output_type": "stream",
     "text": [
      "\r",
      " 26%|██████████████████████████████████████▊                                                                                                                 | 51/200 [02:26<09:01,  3.63s/it]"
     ]
    },
    {
     "name": "stderr",
     "output_type": "stream",
     "text": [
      "\r",
      " 26%|███████████████████████████████████████▌                                                                                                                | 52/200 [02:30<09:01,  3.66s/it]"
     ]
    },
    {
     "name": "stderr",
     "output_type": "stream",
     "text": [
      "\r",
      " 26%|████████████████████████████████████████▎                                                                                                               | 53/200 [02:34<08:54,  3.64s/it]"
     ]
    },
    {
     "name": "stderr",
     "output_type": "stream",
     "text": [
      "\r",
      " 27%|█████████████████████████████████████████                                                                                                               | 54/200 [02:37<08:35,  3.53s/it]"
     ]
    },
    {
     "name": "stderr",
     "output_type": "stream",
     "text": [
      "\r",
      " 28%|█████████████████████████████████████████▊                                                                                                              | 55/200 [02:42<09:42,  4.02s/it]"
     ]
    },
    {
     "name": "stderr",
     "output_type": "stream",
     "text": [
      "\r",
      " 28%|██████████████████████████████████████████▌                                                                                                             | 56/200 [02:45<09:14,  3.85s/it]"
     ]
    },
    {
     "name": "stderr",
     "output_type": "stream",
     "text": [
      "\r",
      " 28%|███████████████████████████████████████████▎                                                                                                            | 57/200 [02:50<09:45,  4.09s/it]"
     ]
    },
    {
     "name": "stderr",
     "output_type": "stream",
     "text": [
      "\r",
      " 29%|████████████████████████████████████████████                                                                                                            | 58/200 [02:54<09:37,  4.07s/it]"
     ]
    },
    {
     "name": "stderr",
     "output_type": "stream",
     "text": [
      "\r",
      " 30%|████████████████████████████████████████████▊                                                                                                           | 59/200 [02:59<09:54,  4.21s/it]"
     ]
    },
    {
     "name": "stderr",
     "output_type": "stream",
     "text": [
      "\r",
      " 30%|█████████████████████████████████████████████▌                                                                                                          | 60/200 [03:03<09:40,  4.14s/it]"
     ]
    },
    {
     "name": "stderr",
     "output_type": "stream",
     "text": [
      "\r",
      " 30%|██████████████████████████████████████████████▎                                                                                                         | 61/200 [03:07<10:01,  4.33s/it]"
     ]
    },
    {
     "name": "stderr",
     "output_type": "stream",
     "text": [
      "\r",
      " 31%|███████████████████████████████████████████████                                                                                                         | 62/200 [03:12<10:10,  4.43s/it]"
     ]
    },
    {
     "name": "stderr",
     "output_type": "stream",
     "text": [
      "\r",
      " 32%|███████████████████████████████████████████████▉                                                                                                        | 63/200 [03:17<10:15,  4.49s/it]"
     ]
    },
    {
     "name": "stderr",
     "output_type": "stream",
     "text": [
      "\r",
      " 32%|████████████████████████████████████████████████▋                                                                                                       | 64/200 [03:21<10:02,  4.43s/it]"
     ]
    },
    {
     "name": "stderr",
     "output_type": "stream",
     "text": [
      "\r",
      " 32%|█████████████████████████████████████████████████▍                                                                                                      | 65/200 [03:25<09:53,  4.40s/it]"
     ]
    },
    {
     "name": "stderr",
     "output_type": "stream",
     "text": [
      "\r",
      " 33%|██████████████████████████████████████████████████▏                                                                                                     | 66/200 [03:29<09:39,  4.32s/it]"
     ]
    },
    {
     "name": "stderr",
     "output_type": "stream",
     "text": [
      "\r",
      " 34%|██████████████████████████████████████████████████▉                                                                                                     | 67/200 [03:34<09:47,  4.41s/it]"
     ]
    },
    {
     "name": "stderr",
     "output_type": "stream",
     "text": [
      "\r",
      " 34%|███████████████████████████████████████████████████▋                                                                                                    | 68/200 [03:39<10:00,  4.55s/it]"
     ]
    },
    {
     "name": "stderr",
     "output_type": "stream",
     "text": [
      "\r",
      " 34%|████████████████████████████████████████████████████▍                                                                                                   | 69/200 [03:44<09:57,  4.56s/it]"
     ]
    },
    {
     "name": "stderr",
     "output_type": "stream",
     "text": [
      "\r",
      " 35%|█████████████████████████████████████████████████████▏                                                                                                  | 70/200 [03:48<09:50,  4.54s/it]"
     ]
    },
    {
     "name": "stderr",
     "output_type": "stream",
     "text": [
      "\r",
      " 36%|█████████████████████████████████████████████████████▉                                                                                                  | 71/200 [03:54<10:24,  4.84s/it]"
     ]
    },
    {
     "name": "stderr",
     "output_type": "stream",
     "text": [
      "\r",
      " 36%|██████████████████████████████████████████████████████▋                                                                                                 | 72/200 [03:59<10:42,  5.02s/it]"
     ]
    },
    {
     "name": "stderr",
     "output_type": "stream",
     "text": [
      "\r",
      " 36%|███████████████████████████████████████████████████████▍                                                                                                | 73/200 [04:05<11:09,  5.27s/it]"
     ]
    },
    {
     "name": "stderr",
     "output_type": "stream",
     "text": [
      "\r",
      " 37%|████████████████████████████████████████████████████████▏                                                                                               | 74/200 [04:10<11:04,  5.27s/it]"
     ]
    },
    {
     "name": "stderr",
     "output_type": "stream",
     "text": [
      "\r",
      " 38%|█████████████████████████████████████████████████████████                                                                                               | 75/200 [04:16<11:07,  5.34s/it]"
     ]
    },
    {
     "name": "stderr",
     "output_type": "stream",
     "text": [
      "\r",
      " 38%|█████████████████████████████████████████████████████████▊                                                                                              | 76/200 [04:20<10:30,  5.09s/it]"
     ]
    },
    {
     "name": "stderr",
     "output_type": "stream",
     "text": [
      "\r",
      " 38%|██████████████████████████████████████████████████████████▌                                                                                             | 77/200 [04:26<10:40,  5.21s/it]"
     ]
    },
    {
     "name": "stderr",
     "output_type": "stream",
     "text": [
      "\r",
      " 39%|███████████████████████████████████████████████████████████▎                                                                                            | 78/200 [04:30<09:47,  4.82s/it]"
     ]
    },
    {
     "name": "stderr",
     "output_type": "stream",
     "text": [
      "\r",
      " 40%|████████████████████████████████████████████████████████████                                                                                            | 79/200 [04:34<09:38,  4.78s/it]"
     ]
    },
    {
     "name": "stderr",
     "output_type": "stream",
     "text": [
      "\r",
      " 40%|████████████████████████████████████████████████████████████▊                                                                                           | 80/200 [04:39<09:24,  4.70s/it]"
     ]
    },
    {
     "name": "stderr",
     "output_type": "stream",
     "text": [
      "\r",
      " 40%|█████████████████████████████████████████████████████████████▌                                                                                          | 81/200 [04:44<09:25,  4.75s/it]"
     ]
    },
    {
     "name": "stderr",
     "output_type": "stream",
     "text": [
      "\r",
      " 41%|██████████████████████████████████████████████████████████████▎                                                                                         | 82/200 [04:49<09:42,  4.94s/it]"
     ]
    },
    {
     "name": "stderr",
     "output_type": "stream",
     "text": [
      "\r",
      " 42%|███████████████████████████████████████████████████████████████                                                                                         | 83/200 [04:54<09:38,  4.95s/it]"
     ]
    },
    {
     "name": "stderr",
     "output_type": "stream",
     "text": [
      "\r",
      " 42%|███████████████████████████████████████████████████████████████▊                                                                                        | 84/200 [04:59<09:29,  4.91s/it]"
     ]
    },
    {
     "name": "stderr",
     "output_type": "stream",
     "text": [
      "\r",
      " 42%|████████████████████████████████████████████████████████████████▌                                                                                       | 85/200 [05:04<09:23,  4.90s/it]"
     ]
    },
    {
     "name": "stderr",
     "output_type": "stream",
     "text": [
      "\r",
      " 43%|█████████████████████████████████████████████████████████████████▎                                                                                      | 86/200 [05:08<08:57,  4.71s/it]"
     ]
    },
    {
     "name": "stderr",
     "output_type": "stream",
     "text": [
      "\r",
      " 44%|██████████████████████████████████████████████████████████████████                                                                                      | 87/200 [05:13<08:55,  4.74s/it]"
     ]
    },
    {
     "name": "stderr",
     "output_type": "stream",
     "text": [
      "\r",
      " 44%|██████████████████████████████████████████████████████████████████▉                                                                                     | 88/200 [05:18<09:01,  4.84s/it]"
     ]
    },
    {
     "name": "stderr",
     "output_type": "stream",
     "text": [
      "\r",
      " 44%|███████████████████████████████████████████████████████████████████▋                                                                                    | 89/200 [05:23<09:03,  4.89s/it]"
     ]
    },
    {
     "name": "stderr",
     "output_type": "stream",
     "text": [
      "\r",
      " 45%|████████████████████████████████████████████████████████████████████▍                                                                                   | 90/200 [05:29<09:31,  5.20s/it]"
     ]
    },
    {
     "name": "stderr",
     "output_type": "stream",
     "text": [
      "\r",
      " 46%|█████████████████████████████████████████████████████████████████████▏                                                                                  | 91/200 [05:33<09:10,  5.05s/it]"
     ]
    },
    {
     "name": "stderr",
     "output_type": "stream",
     "text": [
      "\r",
      " 46%|█████████████████████████████████████████████████████████████████████▉                                                                                  | 92/200 [05:39<09:08,  5.08s/it]"
     ]
    },
    {
     "name": "stderr",
     "output_type": "stream",
     "text": [
      "\r",
      " 46%|██████████████████████████████████████████████████████████████████████▋                                                                                 | 93/200 [05:44<09:18,  5.22s/it]"
     ]
    },
    {
     "name": "stderr",
     "output_type": "stream",
     "text": [
      "\r",
      " 47%|███████████████████████████████████████████████████████████████████████▍                                                                                | 94/200 [05:50<09:23,  5.32s/it]"
     ]
    },
    {
     "name": "stderr",
     "output_type": "stream",
     "text": [
      "\r",
      " 48%|████████████████████████████████████████████████████████████████████████▏                                                                               | 95/200 [05:55<09:09,  5.23s/it]"
     ]
    },
    {
     "name": "stderr",
     "output_type": "stream",
     "text": [
      "\r",
      " 48%|████████████████████████████████████████████████████████████████████████▉                                                                               | 96/200 [06:00<09:00,  5.19s/it]"
     ]
    },
    {
     "name": "stderr",
     "output_type": "stream",
     "text": [
      "\r",
      " 48%|█████████████████████████████████████████████████████████████████████████▋                                                                              | 97/200 [06:05<08:47,  5.12s/it]"
     ]
    },
    {
     "name": "stderr",
     "output_type": "stream",
     "text": [
      "\r",
      " 49%|██████████████████████████████████████████████████████████████████████████▍                                                                             | 98/200 [06:10<08:33,  5.04s/it]"
     ]
    },
    {
     "name": "stderr",
     "output_type": "stream",
     "text": [
      "\r",
      " 50%|███████████████████████████████████████████████████████████████████████████▏                                                                            | 99/200 [06:15<08:28,  5.03s/it]"
     ]
    },
    {
     "name": "stderr",
     "output_type": "stream",
     "text": [
      "\r",
      " 50%|███████████████████████████████████████████████████████████████████████████▌                                                                           | 100/200 [06:20<08:45,  5.25s/it]"
     ]
    },
    {
     "name": "stderr",
     "output_type": "stream",
     "text": [
      "\r",
      " 50%|████████████████████████████████████████████████████████████████████████████▎                                                                          | 101/200 [06:26<09:05,  5.51s/it]"
     ]
    },
    {
     "name": "stderr",
     "output_type": "stream",
     "text": [
      "\r",
      " 51%|█████████████████████████████████████████████████████████████████████████████                                                                          | 102/200 [06:32<09:03,  5.54s/it]"
     ]
    },
    {
     "name": "stderr",
     "output_type": "stream",
     "text": [
      "\r",
      " 52%|█████████████████████████████████████████████████████████████████████████████▊                                                                         | 103/200 [06:37<08:52,  5.49s/it]"
     ]
    },
    {
     "name": "stderr",
     "output_type": "stream",
     "text": [
      "\r",
      " 52%|██████████████████████████████████████████████████████████████████████████████▌                                                                        | 104/200 [06:43<08:58,  5.61s/it]"
     ]
    },
    {
     "name": "stderr",
     "output_type": "stream",
     "text": [
      "\r",
      " 52%|███████████████████████████████████████████████████████████████████████████████▎                                                                       | 105/200 [06:50<09:34,  6.05s/it]"
     ]
    },
    {
     "name": "stderr",
     "output_type": "stream",
     "text": [
      "\r",
      " 53%|████████████████████████████████████████████████████████████████████████████████                                                                       | 106/200 [06:55<08:56,  5.71s/it]"
     ]
    },
    {
     "name": "stderr",
     "output_type": "stream",
     "text": [
      "\r",
      " 54%|████████████████████████████████████████████████████████████████████████████████▊                                                                      | 107/200 [07:00<08:16,  5.33s/it]"
     ]
    },
    {
     "name": "stderr",
     "output_type": "stream",
     "text": [
      "\r",
      " 54%|█████████████████████████████████████████████████████████████████████████████████▌                                                                     | 108/200 [07:05<08:16,  5.40s/it]"
     ]
    },
    {
     "name": "stderr",
     "output_type": "stream",
     "text": [
      "\r",
      " 55%|██████████████████████████████████████████████████████████████████████████████████▎                                                                    | 109/200 [07:12<08:37,  5.69s/it]"
     ]
    },
    {
     "name": "stderr",
     "output_type": "stream",
     "text": [
      "\r",
      " 55%|███████████████████████████████████████████████████████████████████████████████████                                                                    | 110/200 [07:17<08:13,  5.48s/it]"
     ]
    },
    {
     "name": "stderr",
     "output_type": "stream",
     "text": [
      "\r",
      " 56%|███████████████████████████████████████████████████████████████████████████████████▊                                                                   | 111/200 [07:23<08:20,  5.62s/it]"
     ]
    },
    {
     "name": "stderr",
     "output_type": "stream",
     "text": [
      "\r",
      " 56%|████████████████████████████████████████████████████████████████████████████████████▌                                                                  | 112/200 [07:29<08:32,  5.83s/it]"
     ]
    },
    {
     "name": "stderr",
     "output_type": "stream",
     "text": [
      "\r",
      " 56%|█████████████████████████████████████████████████████████████████████████████████████▎                                                                 | 113/200 [07:36<08:50,  6.10s/it]"
     ]
    },
    {
     "name": "stderr",
     "output_type": "stream",
     "text": [
      "\r",
      " 57%|██████████████████████████████████████████████████████████████████████████████████████                                                                 | 114/200 [07:41<08:14,  5.74s/it]"
     ]
    },
    {
     "name": "stderr",
     "output_type": "stream",
     "text": [
      "\r",
      " 57%|██████████████████████████████████████████████████████████████████████████████████████▊                                                                | 115/200 [07:46<07:50,  5.54s/it]"
     ]
    },
    {
     "name": "stderr",
     "output_type": "stream",
     "text": [
      "\r",
      " 58%|███████████████████████████████████████████████████████████████████████████████████████▌                                                               | 116/200 [07:51<07:40,  5.48s/it]"
     ]
    },
    {
     "name": "stderr",
     "output_type": "stream",
     "text": [
      "\r",
      " 58%|████████████████████████████████████████████████████████████████████████████████████████▎                                                              | 117/200 [07:58<08:00,  5.79s/it]"
     ]
    },
    {
     "name": "stderr",
     "output_type": "stream",
     "text": [
      "\r",
      " 59%|█████████████████████████████████████████████████████████████████████████████████████████                                                              | 118/200 [08:03<07:52,  5.76s/it]"
     ]
    },
    {
     "name": "stderr",
     "output_type": "stream",
     "text": [
      "\r",
      " 60%|█████████████████████████████████████████████████████████████████████████████████████████▊                                                             | 119/200 [08:09<07:56,  5.88s/it]"
     ]
    },
    {
     "name": "stderr",
     "output_type": "stream",
     "text": [
      "\r",
      " 60%|██████████████████████████████████████████████████████████████████████████████████████████▌                                                            | 120/200 [08:16<08:06,  6.08s/it]"
     ]
    },
    {
     "name": "stderr",
     "output_type": "stream",
     "text": [
      "\r",
      " 60%|███████████████████████████████████████████████████████████████████████████████████████████▎                                                           | 121/200 [08:21<07:47,  5.92s/it]"
     ]
    },
    {
     "name": "stderr",
     "output_type": "stream",
     "text": [
      "\r",
      " 61%|████████████████████████████████████████████████████████████████████████████████████████████                                                           | 122/200 [08:28<07:56,  6.11s/it]"
     ]
    },
    {
     "name": "stderr",
     "output_type": "stream",
     "text": [
      "\r",
      " 62%|████████████████████████████████████████████████████████████████████████████████████████████▊                                                          | 123/200 [08:34<07:50,  6.10s/it]"
     ]
    },
    {
     "name": "stderr",
     "output_type": "stream",
     "text": [
      "\r",
      " 62%|█████████████████████████████████████████████████████████████████████████████████████████████▌                                                         | 124/200 [08:40<07:48,  6.17s/it]"
     ]
    },
    {
     "name": "stderr",
     "output_type": "stream",
     "text": [
      "\r",
      " 62%|██████████████████████████████████████████████████████████████████████████████████████████████▍                                                        | 125/200 [08:47<07:48,  6.25s/it]"
     ]
    },
    {
     "name": "stderr",
     "output_type": "stream",
     "text": [
      "\r",
      " 63%|███████████████████████████████████████████████████████████████████████████████████████████████▏                                                       | 126/200 [08:54<07:51,  6.37s/it]"
     ]
    },
    {
     "name": "stderr",
     "output_type": "stream",
     "text": [
      "\r",
      " 64%|███████████████████████████████████████████████████████████████████████████████████████████████▉                                                       | 127/200 [09:01<08:05,  6.65s/it]"
     ]
    },
    {
     "name": "stderr",
     "output_type": "stream",
     "text": [
      "\r",
      " 64%|████████████████████████████████████████████████████████████████████████████████████████████████▋                                                      | 128/200 [09:09<08:35,  7.15s/it]"
     ]
    },
    {
     "name": "stderr",
     "output_type": "stream",
     "text": [
      "\r",
      " 64%|█████████████████████████████████████████████████████████████████████████████████████████████████▍                                                     | 129/200 [09:16<08:13,  6.94s/it]"
     ]
    },
    {
     "name": "stderr",
     "output_type": "stream",
     "text": [
      "\r",
      " 65%|██████████████████████████████████████████████████████████████████████████████████████████████████▏                                                    | 130/200 [09:22<07:50,  6.72s/it]"
     ]
    },
    {
     "name": "stderr",
     "output_type": "stream",
     "text": [
      "\r",
      " 66%|██████████████████████████████████████████████████████████████████████████████████████████████████▉                                                    | 131/200 [09:28<07:30,  6.53s/it]"
     ]
    },
    {
     "name": "stderr",
     "output_type": "stream",
     "text": [
      "\r",
      " 66%|███████████████████████████████████████████████████████████████████████████████████████████████████▋                                                   | 132/200 [09:35<07:40,  6.77s/it]"
     ]
    },
    {
     "name": "stderr",
     "output_type": "stream",
     "text": [
      "\r",
      " 66%|████████████████████████████████████████████████████████████████████████████████████████████████████▍                                                  | 133/200 [09:42<07:31,  6.74s/it]"
     ]
    },
    {
     "name": "stderr",
     "output_type": "stream",
     "text": [
      "\r",
      " 67%|█████████████████████████████████████████████████████████████████████████████████████████████████████▏                                                 | 134/200 [09:47<07:00,  6.37s/it]"
     ]
    },
    {
     "name": "stderr",
     "output_type": "stream",
     "text": [
      "\r",
      " 68%|█████████████████████████████████████████████████████████████████████████████████████████████████████▉                                                 | 135/200 [09:54<07:06,  6.55s/it]"
     ]
    },
    {
     "name": "stderr",
     "output_type": "stream",
     "text": [
      "\r",
      " 68%|██████████████████████████████████████████████████████████████████████████████████████████████████████▋                                                | 136/200 [10:02<07:20,  6.88s/it]"
     ]
    },
    {
     "name": "stderr",
     "output_type": "stream",
     "text": [
      "\r",
      " 68%|███████████████████████████████████████████████████████████████████████████████████████████████████████▍                                               | 137/200 [10:09<07:06,  6.78s/it]"
     ]
    },
    {
     "name": "stderr",
     "output_type": "stream",
     "text": [
      "\r",
      " 69%|████████████████████████████████████████████████████████████████████████████████████████████████████████▏                                              | 138/200 [10:15<07:00,  6.79s/it]"
     ]
    },
    {
     "name": "stderr",
     "output_type": "stream",
     "text": [
      "\r",
      " 70%|████████████████████████████████████████████████████████████████████████████████████████████████████████▉                                              | 139/200 [10:22<06:47,  6.68s/it]"
     ]
    },
    {
     "name": "stderr",
     "output_type": "stream",
     "text": [
      "\r",
      " 70%|█████████████████████████████████████████████████████████████████████████████████████████████████████████▋                                             | 140/200 [10:30<06:59,  6.99s/it]"
     ]
    },
    {
     "name": "stderr",
     "output_type": "stream",
     "text": [
      "\r",
      " 70%|██████████████████████████████████████████████████████████████████████████████████████████████████████████▍                                            | 141/200 [10:36<06:46,  6.89s/it]"
     ]
    },
    {
     "name": "stderr",
     "output_type": "stream",
     "text": [
      "\r",
      " 71%|███████████████████████████████████████████████████████████████████████████████████████████████████████████▏                                           | 142/200 [10:45<07:06,  7.35s/it]"
     ]
    },
    {
     "name": "stderr",
     "output_type": "stream",
     "text": [
      "\r",
      " 72%|███████████████████████████████████████████████████████████████████████████████████████████████████████████▉                                           | 143/200 [10:52<07:07,  7.51s/it]"
     ]
    },
    {
     "name": "stderr",
     "output_type": "stream",
     "text": [
      "\r",
      " 72%|████████████████████████████████████████████████████████████████████████████████████████████████████████████▋                                          | 144/200 [11:00<06:58,  7.48s/it]"
     ]
    },
    {
     "name": "stderr",
     "output_type": "stream",
     "text": [
      "\r",
      " 72%|█████████████████████████████████████████████████████████████████████████████████████████████████████████████▍                                         | 145/200 [11:09<07:12,  7.87s/it]"
     ]
    },
    {
     "name": "stderr",
     "output_type": "stream",
     "text": [
      "\r",
      " 73%|██████████████████████████████████████████████████████████████████████████████████████████████████████████████▏                                        | 146/200 [11:17<07:08,  7.94s/it]"
     ]
    },
    {
     "name": "stderr",
     "output_type": "stream",
     "text": [
      "\r",
      " 74%|██████████████████████████████████████████████████████████████████████████████████████████████████████████████▉                                        | 147/200 [11:24<06:56,  7.85s/it]"
     ]
    },
    {
     "name": "stderr",
     "output_type": "stream",
     "text": [
      "\r",
      " 74%|███████████████████████████████████████████████████████████████████████████████████████████████████████████████▋                                       | 148/200 [11:31<06:33,  7.58s/it]"
     ]
    },
    {
     "name": "stderr",
     "output_type": "stream",
     "text": [
      "\r",
      " 74%|████████████████████████████████████████████████████████████████████████████████████████████████████████████████▍                                      | 149/200 [11:38<06:15,  7.36s/it]"
     ]
    },
    {
     "name": "stderr",
     "output_type": "stream",
     "text": [
      "\r",
      " 75%|█████████████████████████████████████████████████████████████████████████████████████████████████████████████████▎                                     | 150/200 [11:46<06:10,  7.41s/it]"
     ]
    },
    {
     "name": "stderr",
     "output_type": "stream",
     "text": [
      "\r",
      " 76%|██████████████████████████████████████████████████████████████████████████████████████████████████████████████████                                     | 151/200 [11:53<05:57,  7.30s/it]"
     ]
    },
    {
     "name": "stderr",
     "output_type": "stream",
     "text": [
      "\r",
      " 76%|██████████████████████████████████████████████████████████████████████████████████████████████████████████████████▊                                    | 152/200 [12:01<06:01,  7.54s/it]"
     ]
    },
    {
     "name": "stderr",
     "output_type": "stream",
     "text": [
      "\r",
      " 76%|███████████████████████████████████████████████████████████████████████████████████████████████████████████████████▌                                   | 153/200 [12:08<05:47,  7.39s/it]"
     ]
    },
    {
     "name": "stderr",
     "output_type": "stream",
     "text": [
      "\r",
      " 77%|████████████████████████████████████████████████████████████████████████████████████████████████████████████████████▎                                  | 154/200 [12:15<05:39,  7.37s/it]"
     ]
    },
    {
     "name": "stderr",
     "output_type": "stream",
     "text": [
      "\r",
      " 78%|█████████████████████████████████████████████████████████████████████████████████████████████████████████████████████                                  | 155/200 [12:22<05:27,  7.29s/it]"
     ]
    },
    {
     "name": "stderr",
     "output_type": "stream",
     "text": [
      "\r",
      " 78%|█████████████████████████████████████████████████████████████████████████████████████████████████████████████████████▊                                 | 156/200 [12:30<05:27,  7.44s/it]"
     ]
    },
    {
     "name": "stderr",
     "output_type": "stream",
     "text": [
      "\r",
      " 78%|██████████████████████████████████████████████████████████████████████████████████████████████████████████████████████▌                                | 157/200 [12:37<05:11,  7.25s/it]"
     ]
    },
    {
     "name": "stderr",
     "output_type": "stream",
     "text": [
      "\r",
      " 79%|███████████████████████████████████████████████████████████████████████████████████████████████████████████████████████▎                               | 158/200 [12:44<04:57,  7.08s/it]"
     ]
    },
    {
     "name": "stderr",
     "output_type": "stream",
     "text": [
      "\r",
      " 80%|████████████████████████████████████████████████████████████████████████████████████████████████████████████████████████                               | 159/200 [12:50<04:39,  6.81s/it]"
     ]
    },
    {
     "name": "stderr",
     "output_type": "stream",
     "text": [
      "\r",
      " 80%|████████████████████████████████████████████████████████████████████████████████████████████████████████████████████████▊                              | 160/200 [12:57<04:37,  6.93s/it]"
     ]
    },
    {
     "name": "stderr",
     "output_type": "stream",
     "text": [
      "\r",
      " 80%|█████████████████████████████████████████████████████████████████████████████████████████████████████████████████████████▌                             | 161/200 [13:05<04:41,  7.23s/it]"
     ]
    },
    {
     "name": "stderr",
     "output_type": "stream",
     "text": [
      "\r",
      " 81%|██████████████████████████████████████████████████████████████████████████████████████████████████████████████████████████▎                            | 162/200 [13:13<04:47,  7.58s/it]"
     ]
    },
    {
     "name": "stderr",
     "output_type": "stream",
     "text": [
      "\r",
      " 82%|███████████████████████████████████████████████████████████████████████████████████████████████████████████████████████████                            | 163/200 [13:21<04:40,  7.58s/it]"
     ]
    },
    {
     "name": "stderr",
     "output_type": "stream",
     "text": [
      "\r",
      " 82%|███████████████████████████████████████████████████████████████████████████████████████████████████████████████████████████▊                           | 164/200 [13:29<04:38,  7.72s/it]"
     ]
    },
    {
     "name": "stderr",
     "output_type": "stream",
     "text": [
      "\r",
      " 82%|████████████████████████████████████████████████████████████████████████████████████████████████████████████████████████████▌                          | 165/200 [13:36<04:26,  7.62s/it]"
     ]
    },
    {
     "name": "stderr",
     "output_type": "stream",
     "text": [
      "\r",
      " 83%|█████████████████████████████████████████████████████████████████████████████████████████████████████████████████████████████▎                         | 166/200 [13:44<04:22,  7.73s/it]"
     ]
    },
    {
     "name": "stderr",
     "output_type": "stream",
     "text": [
      "\r",
      " 84%|██████████████████████████████████████████████████████████████████████████████████████████████████████████████████████████████                         | 167/200 [13:51<04:07,  7.51s/it]"
     ]
    },
    {
     "name": "stderr",
     "output_type": "stream",
     "text": [
      "\r",
      " 84%|██████████████████████████████████████████████████████████████████████████████████████████████████████████████████████████████▊                        | 168/200 [13:59<04:01,  7.55s/it]"
     ]
    },
    {
     "name": "stderr",
     "output_type": "stream",
     "text": [
      "\r",
      " 84%|███████████████████████████████████████████████████████████████████████████████████████████████████████████████████████████████▌                       | 169/200 [14:06<03:49,  7.41s/it]"
     ]
    },
    {
     "name": "stderr",
     "output_type": "stream",
     "text": [
      "\r",
      " 85%|████████████████████████████████████████████████████████████████████████████████████████████████████████████████████████████████▎                      | 170/200 [14:14<03:49,  7.66s/it]"
     ]
    },
    {
     "name": "stderr",
     "output_type": "stream",
     "text": [
      "\r",
      " 86%|█████████████████████████████████████████████████████████████████████████████████████████████████████████████████████████████████                      | 171/200 [14:22<03:39,  7.58s/it]"
     ]
    },
    {
     "name": "stderr",
     "output_type": "stream",
     "text": [
      "\r",
      " 86%|█████████████████████████████████████████████████████████████████████████████████████████████████████████████████████████████████▊                     | 172/200 [14:30<03:35,  7.69s/it]"
     ]
    },
    {
     "name": "stderr",
     "output_type": "stream",
     "text": [
      "\r",
      " 86%|██████████████████████████████████████████████████████████████████████████████████████████████████████████████████████████████████▌                    | 173/200 [14:37<03:24,  7.57s/it]"
     ]
    },
    {
     "name": "stderr",
     "output_type": "stream",
     "text": [
      "\r",
      " 87%|███████████████████████████████████████████████████████████████████████████████████████████████████████████████████████████████████▎                   | 174/200 [14:46<03:31,  8.13s/it]"
     ]
    },
    {
     "name": "stderr",
     "output_type": "stream",
     "text": [
      "\r",
      " 88%|████████████████████████████████████████████████████████████████████████████████████████████████████████████████████████████████████▏                  | 175/200 [14:54<03:22,  8.12s/it]"
     ]
    },
    {
     "name": "stderr",
     "output_type": "stream",
     "text": [
      "\r",
      " 88%|████████████████████████████████████████████████████████████████████████████████████████████████████████████████████████████████████▉                  | 176/200 [15:02<03:10,  7.93s/it]"
     ]
    },
    {
     "name": "stderr",
     "output_type": "stream",
     "text": [
      "\r",
      " 88%|█████████████████████████████████████████████████████████████████████████████████████████████████████████████████████████████████████▋                 | 177/200 [15:10<03:03,  7.97s/it]"
     ]
    },
    {
     "name": "stderr",
     "output_type": "stream",
     "text": [
      "\r",
      " 89%|██████████████████████████████████████████████████████████████████████████████████████████████████████████████████████████████████████▍                | 178/200 [15:17<02:48,  7.64s/it]"
     ]
    },
    {
     "name": "stderr",
     "output_type": "stream",
     "text": [
      "\r",
      " 90%|███████████████████████████████████████████████████████████████████████████████████████████████████████████████████████████████████████▏               | 179/200 [15:25<02:44,  7.83s/it]"
     ]
    },
    {
     "name": "stderr",
     "output_type": "stream",
     "text": [
      "\r",
      " 90%|███████████████████████████████████████████████████████████████████████████████████████████████████████████████████████████████████████▉               | 180/200 [15:34<02:42,  8.11s/it]"
     ]
    },
    {
     "name": "stderr",
     "output_type": "stream",
     "text": [
      "\r",
      " 90%|████████████████████████████████████████████████████████████████████████████████████████████████████████████████████████████████████████▋              | 181/200 [15:41<02:28,  7.80s/it]"
     ]
    },
    {
     "name": "stderr",
     "output_type": "stream",
     "text": [
      "\r",
      " 91%|█████████████████████████████████████████████████████████████████████████████████████████████████████████████████████████████████████████▍             | 182/200 [15:49<02:18,  7.72s/it]"
     ]
    },
    {
     "name": "stderr",
     "output_type": "stream",
     "text": [
      "\r",
      " 92%|██████████████████████████████████████████████████████████████████████████████████████████████████████████████████████████████████████████▏            | 183/200 [15:57<02:13,  7.84s/it]"
     ]
    },
    {
     "name": "stderr",
     "output_type": "stream",
     "text": [
      "\r",
      " 92%|██████████████████████████████████████████████████████████████████████████████████████████████████████████████████████████████████████████▉            | 184/200 [16:05<02:07,  7.94s/it]"
     ]
    },
    {
     "name": "stderr",
     "output_type": "stream",
     "text": [
      "\r",
      " 92%|███████████████████████████████████████████████████████████████████████████████████████████████████████████████████████████████████████████▋           | 185/200 [16:14<02:04,  8.29s/it]"
     ]
    },
    {
     "name": "stderr",
     "output_type": "stream",
     "text": [
      "\r",
      " 93%|████████████████████████████████████████████████████████████████████████████████████████████████████████████████████████████████████████████▍          | 186/200 [16:22<01:54,  8.19s/it]"
     ]
    },
    {
     "name": "stderr",
     "output_type": "stream",
     "text": [
      "\r",
      " 94%|█████████████████████████████████████████████████████████████████████████████████████████████████████████████████████████████████████████████▏         | 187/200 [16:30<01:45,  8.14s/it]"
     ]
    },
    {
     "name": "stderr",
     "output_type": "stream",
     "text": [
      "\r",
      " 94%|█████████████████████████████████████████████████████████████████████████████████████████████████████████████████████████████████████████████▉         | 188/200 [16:39<01:40,  8.34s/it]"
     ]
    },
    {
     "name": "stderr",
     "output_type": "stream",
     "text": [
      "\r",
      " 94%|██████████████████████████████████████████████████████████████████████████████████████████████████████████████████████████████████████████████▋        | 189/200 [16:47<01:31,  8.28s/it]"
     ]
    },
    {
     "name": "stderr",
     "output_type": "stream",
     "text": [
      "\r",
      " 95%|███████████████████████████████████████████████████████████████████████████████████████████████████████████████████████████████████████████████▍       | 190/200 [16:55<01:23,  8.31s/it]"
     ]
    },
    {
     "name": "stderr",
     "output_type": "stream",
     "text": [
      "\r",
      " 96%|████████████████████████████████████████████████████████████████████████████████████████████████████████████████████████████████████████████████▏      | 191/200 [17:04<01:16,  8.46s/it]"
     ]
    },
    {
     "name": "stderr",
     "output_type": "stream",
     "text": [
      "\r",
      " 96%|████████████████████████████████████████████████████████████████████████████████████████████████████████████████████████████████████████████████▉      | 192/200 [17:14<01:10,  8.86s/it]"
     ]
    },
    {
     "name": "stderr",
     "output_type": "stream",
     "text": [
      "\r",
      " 96%|█████████████████████████████████████████████████████████████████████████████████████████████████████████████████████████████████████████████████▋     | 193/200 [17:22<00:59,  8.56s/it]"
     ]
    },
    {
     "name": "stderr",
     "output_type": "stream",
     "text": [
      "\r",
      " 97%|██████████████████████████████████████████████████████████████████████████████████████████████████████████████████████████████████████████████████▍    | 194/200 [17:30<00:51,  8.63s/it]"
     ]
    },
    {
     "name": "stderr",
     "output_type": "stream",
     "text": [
      "\r",
      " 98%|███████████████████████████████████████████████████████████████████████████████████████████████████████████████████████████████████████████████████▏   | 195/200 [17:39<00:43,  8.71s/it]"
     ]
    },
    {
     "name": "stderr",
     "output_type": "stream",
     "text": [
      "\r",
      " 98%|███████████████████████████████████████████████████████████████████████████████████████████████████████████████████████████████████████████████████▉   | 196/200 [17:48<00:35,  8.76s/it]"
     ]
    },
    {
     "name": "stderr",
     "output_type": "stream",
     "text": [
      "\r",
      " 98%|████████████████████████████████████████████████████████████████████████████████████████████████████████████████████████████████████████████████████▋  | 197/200 [17:59<00:28,  9.38s/it]"
     ]
    },
    {
     "name": "stderr",
     "output_type": "stream",
     "text": [
      "\r",
      " 99%|█████████████████████████████████████████████████████████████████████████████████████████████████████████████████████████████████████████████████████▍ | 198/200 [18:09<00:18,  9.41s/it]"
     ]
    },
    {
     "name": "stderr",
     "output_type": "stream",
     "text": [
      "\r",
      "100%|██████████████████████████████████████████████████████████████████████████████████████████████████████████████████████████████████████████████████████▏| 199/200 [18:17<00:09,  9.13s/it]"
     ]
    },
    {
     "name": "stderr",
     "output_type": "stream",
     "text": [
      "\r",
      "100%|███████████████████████████████████████████████████████████████████████████████████████████████████████████████████████████████████████████████████████| 200/200 [18:23<00:00,  8.19s/it]"
     ]
    },
    {
     "name": "stderr",
     "output_type": "stream",
     "text": [
      "\r",
      "100%|███████████████████████████████████████████████████████████████████████████████████████████████████████████████████████████████████████████████████████| 200/200 [18:23<00:00,  5.52s/it]"
     ]
    },
    {
     "name": "stderr",
     "output_type": "stream",
     "text": [
      "\n"
     ]
    }
   ],
   "source": [
    "# Create the population and populate the history\n",
    "population = toolbox.population(n=POPULATION_SIZE)\n",
    "\n",
    "species_ancestor = hstrat.HereditaryStratigraphicColumn(\n",
    "    stratum_retention_policy=hstrat.nominal_resolution_algo.Policy(),\n",
    "    stratum_differentia_bit_width=HSTRAT_DIFFERENTIA_WIDTH,\n",
    ")\n",
    "for member in population:\n",
    "    member.species_annotation = species_ancestor.CloneDescendant()\n",
    "    member.gene_annotation = hstrat.HereditaryStratigraphicColumn(\n",
    "        stratum_retention_policy=hstrat.perfect_resolution_algo.Policy(),\n",
    "        stratum_differentia_bit_width=HSTRAT_DIFFERENTIA_WIDTH,\n",
    "        initial_stratum_annotation=0,\n",
    "    ).CloneDescendant(0)\n",
    "\n",
    "\n",
    "# Do the evolution, the decorators will take care of updating the\n",
    "# history\n",
    "prevalences = []\n",
    "for gen in tqdm(range(NGEN)):\n",
    "    prevalences.append(sum(1 for x in population if x[0] > 0))\n",
    "\n",
    "    offspring = deap_algorithms.varAnd(\n",
    "        population, toolbox, cxpb=1.0, mutpb=0.0\n",
    "    )\n",
    "    fits = toolbox.map(toolbox.evaluate, offspring)\n",
    "    for fit, ind in zip(fits, offspring):\n",
    "        ind.fitness.values = fit\n",
    "    population = toolbox.select(offspring, k=len(population))\n",
    "    population = [copy.deepcopy(ind) for ind in population]\n",
    "\n",
    "    if gen >= NGEN // 4:\n",
    "        if prevalences[-1] == 0:\n",
    "            population[0][0] = MILL_FITNESS_ADVANTAGE\n",
    "\n"
   ]
  },
  {
   "cell_type": "markdown",
   "id": "1029a91b",
   "metadata": {
    "papermill": {
     "duration": 0.096215,
     "end_time": "2023-05-23T23:41:55.850894",
     "exception": false,
     "start_time": "2023-05-23T23:41:55.754679",
     "status": "completed"
    },
    "tags": []
   },
   "source": [
    "# Visualization\n"
   ]
  },
  {
   "cell_type": "code",
   "execution_count": 10,
   "id": "f720fa2d",
   "metadata": {
    "execution": {
     "iopub.execute_input": "2023-05-23T23:41:56.043960Z",
     "iopub.status.busy": "2023-05-23T23:41:56.039196Z",
     "iopub.status.idle": "2023-05-23T23:41:57.547722Z",
     "shell.execute_reply": "2023-05-23T23:41:57.546077Z"
    },
    "papermill": {
     "duration": 1.604933,
     "end_time": "2023-05-23T23:41:57.547920",
     "exception": false,
     "start_time": "2023-05-23T23:41:55.942987",
     "status": "completed"
    },
    "tags": []
   },
   "outputs": [
    {
     "name": "stdout",
     "output_type": "stream",
     "text": [
      "teeplots/./fitness-advantage=0.1+notebook=gene-selection-inference+replicate=8+viz=plot-sweep-and-annotations+ext=.pdf\n"
     ]
    },
    {
     "name": "stdout",
     "output_type": "stream",
     "text": [
      "teeplots/./fitness-advantage=0.1+notebook=gene-selection-inference+replicate=8+viz=plot-sweep-and-annotations+ext=.png\n"
     ]
    },
    {
     "data": {
      "image/png": "[encoded data removed]",
      "text/plain": [
       "<Figure size 432x288 with 2 Axes>"
      ]
     },
     "metadata": {
      "needs_background": "light"
     },
     "output_type": "display_data"
    }
   ],
   "source": [
    "annotations = [\n",
    "    s.GetAnnotation().bit_count()\n",
    "    for s in population[0].gene_annotation.IterRetainedStrata()\n",
    "]\n",
    "\n",
    "\n",
    "def plot_sweep_and_annotations():\n",
    "    # Create a figure and a single subplot\n",
    "    fig, ax1 = plt.subplots()\n",
    "\n",
    "    # Make the first plot on ax1\n",
    "    sns.lineplot(data=annotations, color=\"b\", ax=ax1)\n",
    "    ax1.set_ylabel(\"Stratum Annotation Bit Count\", color=\"b\")\n",
    "    ax1.tick_params(\"y\", colors=\"b\")\n",
    "\n",
    "    # Create a second axes that shares the same x-axis\n",
    "    ax2 = ax1.twinx()\n",
    "\n",
    "    # Make the second plot on ax2\n",
    "    sns.lineplot(data=prevalences, color=\"r\", ax=ax2)\n",
    "    ax2.set_ylabel(\"Gene Prevalence\", color=\"r\")\n",
    "    ax2.tick_params(\"y\", colors=\"r\")\n",
    "\n",
    "    ax1.set_xlabel(\"Generation\")\n",
    "\n",
    "    fig.tight_layout()  # otherwise the right y-label is slightly clipped\n",
    "\n",
    "\n",
    "tp.tee(\n",
    "    plot_sweep_and_annotations,\n",
    "    teeplot_outattrs={\n",
    "        \"notebook\": \"gene-selection-inference\",\n",
    "        \"replicate\": str(MILL_REPLICATE),\n",
    "        \"fitness-advantage\": str(MILL_FITNESS_ADVANTAGE),\n",
    "    },\n",
    ")\n"
   ]
  },
  {
   "cell_type": "code",
   "execution_count": 11,
   "id": "f8842180",
   "metadata": {
    "execution": {
     "iopub.execute_input": "2023-05-23T23:41:57.775186Z",
     "iopub.status.busy": "2023-05-23T23:41:57.774240Z",
     "iopub.status.idle": "2023-05-23T23:41:57.780059Z",
     "shell.execute_reply": "2023-05-23T23:41:57.779331Z"
    },
    "papermill": {
     "duration": 0.108869,
     "end_time": "2023-05-23T23:41:57.780197",
     "exception": false,
     "start_time": "2023-05-23T23:41:57.671328",
     "status": "completed"
    },
    "tags": []
   },
   "outputs": [],
   "source": [
    "records = [\n",
    "    {\n",
    "        \"notebook\": \"gene-selection-inference\",\n",
    "        \"replicate\": MILL_REPLICATE,\n",
    "        \"fitness-advantage\": MILL_FITNESS_ADVANTAGE,\n",
    "        \"generation\": generation,\n",
    "        \"prevalence\": prevalence,\n",
    "        \"annotation\": annotation,\n",
    "    }\n",
    "    for generation, (prevalence, annotation) in enumerate(\n",
    "        zip(prevalences, annotations)\n",
    "    )\n",
    "]\n",
    "outdf = pd.DataFrame.from_records(records)\n",
    "outdf.to_csv(\n",
    "    kn.pack(\n",
    "        {\n",
    "            \"a\": \"prevalence-annotation-by-generation\",\n",
    "            \"notebook\": \"gene-selection-inference\",\n",
    "            \"replicate\": str(MILL_REPLICATE),\n",
    "            \"fitness-advantage\": str(MILL_FITNESS_ADVANTAGE),\n",
    "            \"ext\": \".csv\",\n",
    "        }\n",
    "    )\n",
    ")\n"
   ]
  }
 ],
 "metadata": {
  "kernelspec": {
   "display_name": "Python 3",
   "language": "python",
   "name": "python3"
  },
  "language_info": {
   "codemirror_mode": {
    "name": "ipython",
    "version": 3
   },
   "file_extension": ".py",
   "mimetype": "text/x-python",
   "name": "python",
   "nbconvert_exporter": "python",
   "pygments_lexer": "ipython3",
   "version": "3.10.6"
  },
  "papermill": {
   "default_parameters": {},
   "duration": 1123.244954,
   "end_time": "2023-05-23T23:41:59.000149",
   "environment_variables": {},
   "exception": null,
   "input_path": "gene-selection-inference.ipynb",
   "output_path": "gene-selection-inference-parameterization-25.ipynb",
   "parameters": {
    "MILL_FITNESS_ADVANTAGE": 0.1,
    "MILL_REPLICATE": 8
   },
   "start_time": "2023-05-23T23:23:15.755195",
   "version": "2.4.0"
  }
 },
 "nbformat": 4,
 "nbformat_minor": 5
}