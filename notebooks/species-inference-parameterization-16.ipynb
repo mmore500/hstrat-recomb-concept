{
 "cells": [
  {
   "cell_type": "code",
   "execution_count": 1,
   "id": "6cec3e4f",
   "metadata": {
    "execution": {
     "iopub.execute_input": "2023-05-24T02:22:55.435200Z",
     "iopub.status.busy": "2023-05-24T02:22:55.433898Z",
     "iopub.status.idle": "2023-05-24T02:22:57.730006Z",
     "shell.execute_reply": "2023-05-24T02:22:57.731420Z"
    },
    "papermill": {
     "duration": 2.362438,
     "end_time": "2023-05-24T02:22:57.731830",
     "exception": false,
     "start_time": "2023-05-24T02:22:55.369392",
     "status": "completed"
    },
    "tags": []
   },
   "outputs": [],
   "source": [
    "import endomill\n",
    "import yaml\n"
   ]
  },
  {
   "cell_type": "code",
   "execution_count": 2,
   "id": "77b8992d",
   "metadata": {
    "execution": {
     "iopub.execute_input": "2023-05-24T02:22:57.856206Z",
     "iopub.status.busy": "2023-05-24T02:22:57.854867Z",
     "iopub.status.idle": "2023-05-24T02:22:57.884101Z",
     "shell.execute_reply": "2023-05-24T02:22:57.885711Z"
    },
    "papermill": {
     "duration": 0.101368,
     "end_time": "2023-05-24T02:22:57.886020",
     "exception": false,
     "start_time": "2023-05-24T02:22:57.784652",
     "status": "completed"
    },
    "tags": []
   },
   "outputs": [],
   "source": [
    "parameter_packs = [\n",
    "    {\n",
    "        \"MILL_TREATMENT_NAME\": treatment,\n",
    "        \"MILL_REPLICATE\": replicate,\n",
    "    }\n",
    "    for treatment in [\"bag\", \"ring\", \"allopatry\"]\n",
    "    for replicate in range(10)\n",
    "]\n",
    "\n",
    "\n",
    "for i, pp in enumerate(parameter_packs):\n",
    "    with open(f\"species-inference-parameterization-{i}.yaml\", \"w\") as file:\n",
    "        yaml.safe_dump(pp, file)\n",
    "# endomill.instantiate_over(parameter_packs=parameter_packs)\n"
   ]
  },
  {
   "cell_type": "markdown",
   "id": "56255dbb",
   "metadata": {
    "papermill": {
     "duration": 0.055457,
     "end_time": "2023-05-24T02:22:57.994346",
     "exception": false,
     "start_time": "2023-05-24T02:22:57.938889",
     "status": "completed"
    },
    "tags": []
   },
   "source": [
    "# Papermill Parameters\n"
   ]
  },
  {
   "cell_type": "code",
   "execution_count": 3,
   "id": "481afbd8",
   "metadata": {
    "execution": {
     "iopub.execute_input": "2023-05-24T02:22:58.149595Z",
     "iopub.status.busy": "2023-05-24T02:22:58.147008Z",
     "iopub.status.idle": "2023-05-24T02:22:58.151225Z",
     "shell.execute_reply": "2023-05-24T02:22:58.148272Z"
    },
    "papermill": {
     "duration": 0.0913,
     "end_time": "2023-05-24T02:22:58.151507",
     "exception": false,
     "start_time": "2023-05-24T02:22:58.060207",
     "status": "completed"
    },
    "tags": [
     "parameters"
    ]
   },
   "outputs": [],
   "source": [
    "MILL_TREATMENT_NAME: str\n",
    "MILL_REPLICATE: int\n"
   ]
  },
  {
   "cell_type": "code",
   "execution_count": 4,
   "id": "00d96dbf",
   "metadata": {
    "execution": {
     "iopub.execute_input": "2023-05-24T02:22:58.299619Z",
     "iopub.status.busy": "2023-05-24T02:22:58.296953Z",
     "iopub.status.idle": "2023-05-24T02:22:58.301000Z",
     "shell.execute_reply": "2023-05-24T02:22:58.298261Z"
    },
    "papermill": {
     "duration": 0.093333,
     "end_time": "2023-05-24T02:22:58.301291",
     "exception": false,
     "start_time": "2023-05-24T02:22:58.207958",
     "status": "completed"
    },
    "tags": [
     "injected-parameters"
    ]
   },
   "outputs": [],
   "source": [
    "# Parameters\n",
    "MILL_REPLICATE = 6\n",
    "MILL_TREATMENT_NAME = \"ring\"\n"
   ]
  },
  {
   "cell_type": "markdown",
   "id": "4c816cf5",
   "metadata": {
    "papermill": {
     "duration": 0.046517,
     "end_time": "2023-05-24T02:22:58.402910",
     "exception": false,
     "start_time": "2023-05-24T02:22:58.356393",
     "status": "completed"
    },
    "tags": []
   },
   "source": [
    "# Global Setup\n"
   ]
  },
  {
   "cell_type": "code",
   "execution_count": 5,
   "id": "7751548c",
   "metadata": {
    "execution": {
     "iopub.execute_input": "2023-05-24T02:22:58.523268Z",
     "iopub.status.busy": "2023-05-24T02:22:58.521928Z",
     "iopub.status.idle": "2023-05-24T02:23:07.580040Z",
     "shell.execute_reply": "2023-05-24T02:23:07.581590Z"
    },
    "papermill": {
     "duration": 9.12297,
     "end_time": "2023-05-24T02:23:07.581924",
     "exception": false,
     "start_time": "2023-05-24T02:22:58.458954",
     "status": "completed"
    },
    "tags": []
   },
   "outputs": [],
   "source": [
    "import copy\n",
    "import math\n",
    "import itertools as it\n",
    "import typing\n",
    "import random\n",
    "\n",
    "import alifedata_phyloinformatics_convert as apc\n",
    "from Bio import Phylo as BioPhylo\n",
    "from deap import algorithms as deap_algorithms\n",
    "from deap import base as deap_base\n",
    "from deap import creator as deap_creator\n",
    "from deap import tools as deap_tools\n",
    "\n",
    "from hstrat import hstrat\n",
    "from iterpop import iterpop as ip\n",
    "from keyname import keyname as kn\n",
    "from matplotlib import pyplot as plt\n",
    "from nbmetalog import nbmetalog as nbm\n",
    "import numpy as np\n",
    "import pandas as pd\n",
    "from scipy import stats as scipy_stats\n",
    "import seaborn as sns\n",
    "import sympy\n",
    "from teeplot import teeplot as tp\n",
    "from tqdm import tqdm\n",
    "\n",
    "import pylib\n"
   ]
  },
  {
   "cell_type": "code",
   "execution_count": 6,
   "id": "93049793",
   "metadata": {
    "execution": {
     "iopub.execute_input": "2023-05-24T02:23:07.699867Z",
     "iopub.status.busy": "2023-05-24T02:23:07.698395Z",
     "iopub.status.idle": "2023-05-24T02:23:07.701490Z",
     "shell.execute_reply": "2023-05-24T02:23:07.702846Z"
    },
    "papermill": {
     "duration": 0.066596,
     "end_time": "2023-05-24T02:23:07.703177",
     "exception": false,
     "start_time": "2023-05-24T02:23:07.636581",
     "status": "completed"
    },
    "tags": []
   },
   "outputs": [],
   "source": [
    "random.seed(MILL_REPLICATE)\n"
   ]
  },
  {
   "cell_type": "code",
   "execution_count": 7,
   "id": "494f34f4",
   "metadata": {
    "execution": {
     "iopub.execute_input": "2023-05-24T02:23:07.883609Z",
     "iopub.status.busy": "2023-05-24T02:23:07.882153Z",
     "iopub.status.idle": "2023-05-24T02:23:09.708167Z",
     "shell.execute_reply": "2023-05-24T02:23:09.708817Z"
    },
    "papermill": {
     "duration": 1.928696,
     "end_time": "2023-05-24T02:23:09.709035",
     "exception": false,
     "start_time": "2023-05-24T02:23:07.780339",
     "status": "completed"
    },
    "tags": []
   },
   "outputs": [
    {
     "name": "stdout",
     "output_type": "stream",
     "text": [
      "context: local\n",
      "hostname: thinkpad\n",
      "interpreter: 3.10.6 (main, Mar 10 2023, 10:55:28) [GCC 11.3.0]\n",
      "nbcellexec: null\n",
      "nbname: None\n",
      "nbpath: None\n",
      "revision: null\n",
      "session: 102e1d52-2961-4574-9066-6ea4f01689b0\n",
      "timestamp: 2023-05-23T19:23:08Z00:00\n",
      "\n",
      "\n"
     ]
    },
    {
     "name": "stdout",
     "output_type": "stream",
     "text": [
      "IPython==7.31.1\n",
      "keyname==0.5.2\n",
      "yaml==6.0\n",
      "Bio==1.79\n",
      "alifedata_phyloinformatics_convert==0.13.0\n",
      "deap==1.3\n",
      "endomill==0.1.3\n",
      "hstrat==1.6.1\n",
      "iterpop==0.4.1\n",
      "matplotlib==3.6.2\n",
      "nbmetalog==0.2.6\n",
      "numpy==1.23.5\n",
      "pandas==1.5.2\n",
      "scipy==1.10.1\n",
      "seaborn==0.12.1\n",
      "sympy==1.9\n",
      "teeplot==0.5.0\n",
      "re==2.2.1\n",
      "debugpy==1.6.6\n",
      "logging==0.5.1.2\n",
      "psutil==5.9.0\n",
      "zmq==22.3.0\n",
      "json==2.0.9\n",
      "ipykernel==6.7.0\n"
     ]
    }
   ],
   "source": [
    "nbm.print_metadata()\n"
   ]
  },
  {
   "cell_type": "markdown",
   "id": "23cae75c",
   "metadata": {
    "papermill": {
     "duration": 0.030803,
     "end_time": "2023-05-24T02:23:09.768992",
     "exception": false,
     "start_time": "2023-05-24T02:23:09.738189",
     "status": "completed"
    },
    "tags": []
   },
   "source": [
    "# Parameters\n"
   ]
  },
  {
   "cell_type": "code",
   "execution_count": 8,
   "id": "36aaee77",
   "metadata": {
    "execution": {
     "iopub.execute_input": "2023-05-24T02:23:09.861739Z",
     "iopub.status.busy": "2023-05-24T02:23:09.860417Z",
     "iopub.status.idle": "2023-05-24T02:23:09.867009Z",
     "shell.execute_reply": "2023-05-24T02:23:09.868049Z"
    },
    "papermill": {
     "duration": 0.064909,
     "end_time": "2023-05-24T02:23:09.868390",
     "exception": false,
     "start_time": "2023-05-24T02:23:09.803481",
     "status": "completed"
    },
    "tags": []
   },
   "outputs": [],
   "source": [
    "HSTRAT_DIFFERENTIA_WIDTH = 64\n",
    "NGEN = 200\n",
    "NPOP = 100\n",
    "NTOURN = 2\n"
   ]
  },
  {
   "cell_type": "markdown",
   "id": "31b074fb",
   "metadata": {
    "papermill": {
     "duration": 0.062846,
     "end_time": "2023-05-24T02:23:09.986383",
     "exception": false,
     "start_time": "2023-05-24T02:23:09.923537",
     "status": "completed"
    },
    "tags": []
   },
   "source": [
    "# Setup\n"
   ]
  },
  {
   "cell_type": "code",
   "execution_count": 9,
   "id": "0b4e24b1",
   "metadata": {
    "execution": {
     "iopub.execute_input": "2023-05-24T02:23:10.115529Z",
     "iopub.status.busy": "2023-05-24T02:23:10.114056Z",
     "iopub.status.idle": "2023-05-24T02:23:10.127205Z",
     "shell.execute_reply": "2023-05-24T02:23:10.128523Z"
    },
    "papermill": {
     "duration": 0.086938,
     "end_time": "2023-05-24T02:23:10.128853",
     "exception": false,
     "start_time": "2023-05-24T02:23:10.041915",
     "status": "completed"
    },
    "tags": []
   },
   "outputs": [],
   "source": [
    "deap_creator.create(\"FitnessMax\", deap_base.Fitness, weights=(1.0,))\n",
    "deap_creator.create(\"Individual\", list, fitness=deap_creator.FitnessMax)\n",
    "\n",
    "toolbox = deap_base.Toolbox()\n",
    "\n",
    "toolbox.register(\"attr_bool\", random.randint, 0, 1)\n",
    "toolbox.register(\n",
    "    \"individual\",\n",
    "    deap_tools.initRepeat,\n",
    "    deap_creator.Individual,\n",
    "    toolbox.attr_bool,\n",
    "    n=100,\n",
    ")\n",
    "toolbox.register(\"population\", deap_tools.initRepeat, list, toolbox.individual)\n",
    "\n",
    "\n",
    "def evalOneMax(individual):\n",
    "    return (sum(individual),)\n",
    "\n",
    "\n",
    "toolbox.register(\"evaluate\", evalOneMax)\n",
    "toolbox.register(\"mate\", deap_tools.cxTwoPoint)\n",
    "toolbox.register(\"mutate\", deap_tools.mutFlipBit, indpb=0.05)\n",
    "toolbox.register(\"select\", deap_tools.selTournament, tournsize=NTOURN)\n",
    "\n",
    "# Decorate the variation operators\n",
    "history = deap_tools.History()\n",
    "toolbox.decorate(\"mate\", history.decorator)\n",
    "\n",
    "toolbox.decorate(\"mate\", pylib.deap.hstrat_mate_decorator)\n"
   ]
  },
  {
   "cell_type": "markdown",
   "id": "506ad68e",
   "metadata": {
    "papermill": {
     "duration": 0.058207,
     "end_time": "2023-05-24T02:23:10.243917",
     "exception": false,
     "start_time": "2023-05-24T02:23:10.185710",
     "status": "completed"
    },
    "tags": []
   },
   "source": [
    "# Evolve\n"
   ]
  },
  {
   "cell_type": "code",
   "execution_count": 10,
   "id": "c58a54e2",
   "metadata": {
    "execution": {
     "iopub.execute_input": "2023-05-24T02:23:10.368071Z",
     "iopub.status.busy": "2023-05-24T02:23:10.366604Z",
     "iopub.status.idle": "2023-05-24T02:32:33.442508Z",
     "shell.execute_reply": "2023-05-24T02:32:33.440851Z"
    },
    "papermill": {
     "duration": 563.139524,
     "end_time": "2023-05-24T02:32:33.442793",
     "exception": false,
     "start_time": "2023-05-24T02:23:10.303269",
     "status": "completed"
    },
    "tags": []
   },
   "outputs": [
    {
     "name": "stderr",
     "output_type": "stream",
     "text": [
      "\r",
      "  0%|                                                                                                                                                                 | 0/200 [00:00<?, ?it/s]"
     ]
    },
    {
     "name": "stderr",
     "output_type": "stream",
     "text": [
      "\r",
      "  0%|▊                                                                                                                                                        | 1/200 [00:00<02:28,  1.34it/s]"
     ]
    },
    {
     "name": "stderr",
     "output_type": "stream",
     "text": [
      "\r",
      "  1%|█▌                                                                                                                                                       | 2/200 [00:01<02:05,  1.58it/s]"
     ]
    },
    {
     "name": "stderr",
     "output_type": "stream",
     "text": [
      "\r",
      "  2%|██▎                                                                                                                                                      | 3/200 [00:01<02:00,  1.64it/s]"
     ]
    },
    {
     "name": "stderr",
     "output_type": "stream",
     "text": [
      "\r",
      "  2%|███                                                                                                                                                      | 4/200 [00:02<01:59,  1.64it/s]"
     ]
    },
    {
     "name": "stderr",
     "output_type": "stream",
     "text": [
      "\r",
      "  2%|███▊                                                                                                                                                     | 5/200 [00:03<02:18,  1.41it/s]"
     ]
    },
    {
     "name": "stderr",
     "output_type": "stream",
     "text": [
      "\r",
      "  3%|████▌                                                                                                                                                    | 6/200 [00:04<02:13,  1.45it/s]"
     ]
    },
    {
     "name": "stderr",
     "output_type": "stream",
     "text": [
      "\r",
      "  4%|█████▎                                                                                                                                                   | 7/200 [00:04<02:13,  1.45it/s]"
     ]
    },
    {
     "name": "stderr",
     "output_type": "stream",
     "text": [
      "\r",
      "  4%|██████                                                                                                                                                   | 8/200 [00:05<02:14,  1.43it/s]"
     ]
    },
    {
     "name": "stderr",
     "output_type": "stream",
     "text": [
      "\r",
      "  4%|██████▉                                                                                                                                                  | 9/200 [00:06<02:16,  1.40it/s]"
     ]
    },
    {
     "name": "stderr",
     "output_type": "stream",
     "text": [
      "\r",
      "  5%|███████▌                                                                                                                                                | 10/200 [00:07<02:36,  1.22it/s]"
     ]
    },
    {
     "name": "stderr",
     "output_type": "stream",
     "text": [
      "\r",
      "  6%|████████▎                                                                                                                                               | 11/200 [00:08<02:34,  1.23it/s]"
     ]
    },
    {
     "name": "stderr",
     "output_type": "stream",
     "text": [
      "\r",
      "  6%|█████████                                                                                                                                               | 12/200 [00:08<02:27,  1.28it/s]"
     ]
    },
    {
     "name": "stderr",
     "output_type": "stream",
     "text": [
      "\r",
      "  6%|█████████▉                                                                                                                                              | 13/200 [00:09<02:49,  1.10it/s]"
     ]
    },
    {
     "name": "stderr",
     "output_type": "stream",
     "text": [
      "\r",
      "  7%|██████████▋                                                                                                                                             | 14/200 [00:10<02:47,  1.11it/s]"
     ]
    },
    {
     "name": "stderr",
     "output_type": "stream",
     "text": [
      "\r",
      "  8%|███████████▍                                                                                                                                            | 15/200 [00:11<02:45,  1.12it/s]"
     ]
    },
    {
     "name": "stderr",
     "output_type": "stream",
     "text": [
      "\r",
      "  8%|████████████▏                                                                                                                                           | 16/200 [00:12<02:45,  1.11it/s]"
     ]
    },
    {
     "name": "stderr",
     "output_type": "stream",
     "text": [
      "\r",
      "  8%|████████████▉                                                                                                                                           | 17/200 [00:13<02:49,  1.08it/s]"
     ]
    },
    {
     "name": "stderr",
     "output_type": "stream",
     "text": [
      "\r",
      "  9%|█████████████▋                                                                                                                                          | 18/200 [00:14<03:11,  1.05s/it]"
     ]
    },
    {
     "name": "stderr",
     "output_type": "stream",
     "text": [
      "\r",
      " 10%|██████████████▍                                                                                                                                         | 19/200 [00:15<03:09,  1.05s/it]"
     ]
    },
    {
     "name": "stderr",
     "output_type": "stream",
     "text": [
      "\r",
      " 10%|███████████████▏                                                                                                                                        | 20/200 [00:17<03:08,  1.05s/it]"
     ]
    },
    {
     "name": "stderr",
     "output_type": "stream",
     "text": [
      "\r",
      " 10%|███████████████▉                                                                                                                                        | 21/200 [00:18<03:07,  1.05s/it]"
     ]
    },
    {
     "name": "stderr",
     "output_type": "stream",
     "text": [
      "\r",
      " 11%|████████████████▋                                                                                                                                       | 22/200 [00:19<03:23,  1.14s/it]"
     ]
    },
    {
     "name": "stderr",
     "output_type": "stream",
     "text": [
      "\r",
      " 12%|█████████████████▍                                                                                                                                      | 23/200 [00:20<03:20,  1.14s/it]"
     ]
    },
    {
     "name": "stderr",
     "output_type": "stream",
     "text": [
      "\r",
      " 12%|██████████████████▏                                                                                                                                     | 24/200 [00:21<03:18,  1.13s/it]"
     ]
    },
    {
     "name": "stderr",
     "output_type": "stream",
     "text": [
      "\r",
      " 12%|███████████████████                                                                                                                                     | 25/200 [00:22<03:20,  1.15s/it]"
     ]
    },
    {
     "name": "stderr",
     "output_type": "stream",
     "text": [
      "\r",
      " 13%|███████████████████▊                                                                                                                                    | 26/200 [00:24<03:40,  1.27s/it]"
     ]
    },
    {
     "name": "stderr",
     "output_type": "stream",
     "text": [
      "\r",
      " 14%|████████████████████▌                                                                                                                                   | 27/200 [00:25<03:33,  1.23s/it]"
     ]
    },
    {
     "name": "stderr",
     "output_type": "stream",
     "text": [
      "\r",
      " 14%|█████████████████████▎                                                                                                                                  | 28/200 [00:26<03:13,  1.13s/it]"
     ]
    },
    {
     "name": "stderr",
     "output_type": "stream",
     "text": [
      "\r",
      " 14%|██████████████████████                                                                                                                                  | 29/200 [00:27<02:52,  1.01s/it]"
     ]
    },
    {
     "name": "stderr",
     "output_type": "stream",
     "text": [
      "\r",
      " 15%|██████████████████████▊                                                                                                                                 | 30/200 [00:28<02:54,  1.03s/it]"
     ]
    },
    {
     "name": "stderr",
     "output_type": "stream",
     "text": [
      "\r",
      " 16%|███████████████████████▌                                                                                                                                | 31/200 [00:29<03:02,  1.08s/it]"
     ]
    },
    {
     "name": "stderr",
     "output_type": "stream",
     "text": [
      "\r",
      " 16%|████████████████████████▎                                                                                                                               | 32/200 [00:30<03:16,  1.17s/it]"
     ]
    },
    {
     "name": "stderr",
     "output_type": "stream",
     "text": [
      "\r",
      " 16%|█████████████████████████                                                                                                                               | 33/200 [00:32<03:27,  1.24s/it]"
     ]
    },
    {
     "name": "stderr",
     "output_type": "stream",
     "text": [
      "\r",
      " 17%|█████████████████████████▊                                                                                                                              | 34/200 [00:34<03:59,  1.45s/it]"
     ]
    },
    {
     "name": "stderr",
     "output_type": "stream",
     "text": [
      "\r",
      " 18%|██████████████████████████▌                                                                                                                             | 35/200 [00:35<03:57,  1.44s/it]"
     ]
    },
    {
     "name": "stderr",
     "output_type": "stream",
     "text": [
      "\r",
      " 18%|███████████████████████████▎                                                                                                                            | 36/200 [00:37<03:58,  1.45s/it]"
     ]
    },
    {
     "name": "stderr",
     "output_type": "stream",
     "text": [
      "\r",
      " 18%|████████████████████████████                                                                                                                            | 37/200 [00:38<03:59,  1.47s/it]"
     ]
    },
    {
     "name": "stderr",
     "output_type": "stream",
     "text": [
      "\r",
      " 19%|████████████████████████████▉                                                                                                                           | 38/200 [00:40<03:59,  1.48s/it]"
     ]
    },
    {
     "name": "stderr",
     "output_type": "stream",
     "text": [
      "\r",
      " 20%|█████████████████████████████▋                                                                                                                          | 39/200 [00:41<04:08,  1.54s/it]"
     ]
    },
    {
     "name": "stderr",
     "output_type": "stream",
     "text": [
      "\r",
      " 20%|██████████████████████████████▍                                                                                                                         | 40/200 [00:43<04:13,  1.58s/it]"
     ]
    },
    {
     "name": "stderr",
     "output_type": "stream",
     "text": [
      "\r",
      " 20%|███████████████████████████████▏                                                                                                                        | 41/200 [00:45<04:16,  1.61s/it]"
     ]
    },
    {
     "name": "stderr",
     "output_type": "stream",
     "text": [
      "\r",
      " 21%|███████████████████████████████▉                                                                                                                        | 42/200 [00:46<04:16,  1.62s/it]"
     ]
    },
    {
     "name": "stderr",
     "output_type": "stream",
     "text": [
      "\r",
      " 22%|████████████████████████████████▋                                                                                                                       | 43/200 [00:48<04:35,  1.75s/it]"
     ]
    },
    {
     "name": "stderr",
     "output_type": "stream",
     "text": [
      "\r",
      " 22%|█████████████████████████████████▍                                                                                                                      | 44/200 [00:50<04:33,  1.75s/it]"
     ]
    },
    {
     "name": "stderr",
     "output_type": "stream",
     "text": [
      "\r",
      " 22%|██████████████████████████████████▏                                                                                                                     | 45/200 [00:52<04:32,  1.76s/it]"
     ]
    },
    {
     "name": "stderr",
     "output_type": "stream",
     "text": [
      "\r",
      " 23%|██████████████████████████████████▉                                                                                                                     | 46/200 [00:53<04:08,  1.61s/it]"
     ]
    },
    {
     "name": "stderr",
     "output_type": "stream",
     "text": [
      "\r",
      " 24%|███████████████████████████████████▋                                                                                                                    | 47/200 [00:55<04:13,  1.66s/it]"
     ]
    },
    {
     "name": "stderr",
     "output_type": "stream",
     "text": [
      "\r",
      " 24%|████████████████████████████████████▍                                                                                                                   | 48/200 [00:56<04:06,  1.62s/it]"
     ]
    },
    {
     "name": "stderr",
     "output_type": "stream",
     "text": [
      "\r",
      " 24%|█████████████████████████████████████▏                                                                                                                  | 49/200 [00:58<03:48,  1.51s/it]"
     ]
    },
    {
     "name": "stderr",
     "output_type": "stream",
     "text": [
      "\r",
      " 25%|██████████████████████████████████████                                                                                                                  | 50/200 [00:59<03:32,  1.42s/it]"
     ]
    },
    {
     "name": "stderr",
     "output_type": "stream",
     "text": [
      "\r",
      " 26%|██████████████████████████████████████▊                                                                                                                 | 51/200 [01:00<03:25,  1.38s/it]"
     ]
    },
    {
     "name": "stderr",
     "output_type": "stream",
     "text": [
      "\r",
      " 26%|███████████████████████████████████████▌                                                                                                                | 52/200 [01:02<03:59,  1.62s/it]"
     ]
    },
    {
     "name": "stderr",
     "output_type": "stream",
     "text": [
      "\r",
      " 26%|████████████████████████████████████████▎                                                                                                               | 53/200 [01:04<03:39,  1.49s/it]"
     ]
    },
    {
     "name": "stderr",
     "output_type": "stream",
     "text": [
      "\r",
      " 27%|█████████████████████████████████████████                                                                                                               | 54/200 [01:05<03:33,  1.46s/it]"
     ]
    },
    {
     "name": "stderr",
     "output_type": "stream",
     "text": [
      "\r",
      " 28%|█████████████████████████████████████████▊                                                                                                              | 55/200 [01:07<03:38,  1.51s/it]"
     ]
    },
    {
     "name": "stderr",
     "output_type": "stream",
     "text": [
      "\r",
      " 28%|██████████████████████████████████████████▌                                                                                                             | 56/200 [01:08<03:31,  1.47s/it]"
     ]
    },
    {
     "name": "stderr",
     "output_type": "stream",
     "text": [
      "\r",
      " 28%|███████████████████████████████████████████▎                                                                                                            | 57/200 [01:11<04:24,  1.85s/it]"
     ]
    },
    {
     "name": "stderr",
     "output_type": "stream",
     "text": [
      "\r",
      " 29%|████████████████████████████████████████████                                                                                                            | 58/200 [01:13<04:24,  1.86s/it]"
     ]
    },
    {
     "name": "stderr",
     "output_type": "stream",
     "text": [
      "\r",
      " 30%|████████████████████████████████████████████▊                                                                                                           | 59/200 [01:15<04:38,  1.97s/it]"
     ]
    },
    {
     "name": "stderr",
     "output_type": "stream",
     "text": [
      "\r",
      " 30%|█████████████████████████████████████████████▌                                                                                                          | 60/200 [01:17<04:48,  2.06s/it]"
     ]
    },
    {
     "name": "stderr",
     "output_type": "stream",
     "text": [
      "\r",
      " 30%|██████████████████████████████████████████████▎                                                                                                         | 61/200 [01:19<04:56,  2.13s/it]"
     ]
    },
    {
     "name": "stderr",
     "output_type": "stream",
     "text": [
      "\r",
      " 31%|███████████████████████████████████████████████                                                                                                         | 62/200 [01:22<05:21,  2.33s/it]"
     ]
    },
    {
     "name": "stderr",
     "output_type": "stream",
     "text": [
      "\r",
      " 32%|███████████████████████████████████████████████▉                                                                                                        | 63/200 [01:24<05:11,  2.28s/it]"
     ]
    },
    {
     "name": "stderr",
     "output_type": "stream",
     "text": [
      "\r",
      " 32%|████████████████████████████████████████████████▋                                                                                                       | 64/200 [01:26<05:02,  2.22s/it]"
     ]
    },
    {
     "name": "stderr",
     "output_type": "stream",
     "text": [
      "\r",
      " 32%|█████████████████████████████████████████████████▍                                                                                                      | 65/200 [01:29<05:04,  2.26s/it]"
     ]
    },
    {
     "name": "stderr",
     "output_type": "stream",
     "text": [
      "\r",
      " 33%|██████████████████████████████████████████████████▏                                                                                                     | 66/200 [01:31<05:01,  2.25s/it]"
     ]
    },
    {
     "name": "stderr",
     "output_type": "stream",
     "text": [
      "\r",
      " 34%|██████████████████████████████████████████████████▉                                                                                                     | 67/200 [01:34<05:23,  2.43s/it]"
     ]
    },
    {
     "name": "stderr",
     "output_type": "stream",
     "text": [
      "\r",
      " 34%|███████████████████████████████████████████████████▋                                                                                                    | 68/200 [01:36<05:07,  2.33s/it]"
     ]
    },
    {
     "name": "stderr",
     "output_type": "stream",
     "text": [
      "\r",
      " 34%|████████████████████████████████████████████████████▍                                                                                                   | 69/200 [01:38<05:07,  2.35s/it]"
     ]
    },
    {
     "name": "stderr",
     "output_type": "stream",
     "text": [
      "\r",
      " 35%|█████████████████████████████████████████████████████▏                                                                                                  | 70/200 [01:41<04:59,  2.31s/it]"
     ]
    },
    {
     "name": "stderr",
     "output_type": "stream",
     "text": [
      "\r",
      " 36%|█████████████████████████████████████████████████████▉                                                                                                  | 71/200 [01:42<04:38,  2.16s/it]"
     ]
    },
    {
     "name": "stderr",
     "output_type": "stream",
     "text": [
      "\r",
      " 36%|██████████████████████████████████████████████████████▋                                                                                                 | 72/200 [01:46<05:21,  2.51s/it]"
     ]
    },
    {
     "name": "stderr",
     "output_type": "stream",
     "text": [
      "\r",
      " 36%|███████████████████████████████████████████████████████▍                                                                                                | 73/200 [01:48<05:20,  2.52s/it]"
     ]
    },
    {
     "name": "stderr",
     "output_type": "stream",
     "text": [
      "\r",
      " 37%|████████████████████████████████████████████████████████▏                                                                                               | 74/200 [01:50<05:06,  2.43s/it]"
     ]
    },
    {
     "name": "stderr",
     "output_type": "stream",
     "text": [
      "\r",
      " 38%|█████████████████████████████████████████████████████████                                                                                               | 75/200 [01:53<04:55,  2.37s/it]"
     ]
    },
    {
     "name": "stderr",
     "output_type": "stream",
     "text": [
      "\r",
      " 38%|█████████████████████████████████████████████████████████▊                                                                                              | 76/200 [01:54<04:31,  2.19s/it]"
     ]
    },
    {
     "name": "stderr",
     "output_type": "stream",
     "text": [
      "\r",
      " 38%|██████████████████████████████████████████████████████████▌                                                                                             | 77/200 [01:57<04:46,  2.33s/it]"
     ]
    },
    {
     "name": "stderr",
     "output_type": "stream",
     "text": [
      "\r",
      " 39%|███████████████████████████████████████████████████████████▎                                                                                            | 78/200 [01:59<04:30,  2.21s/it]"
     ]
    },
    {
     "name": "stderr",
     "output_type": "stream",
     "text": [
      "\r",
      " 40%|████████████████████████████████████████████████████████████                                                                                            | 79/200 [02:01<04:03,  2.01s/it]"
     ]
    },
    {
     "name": "stderr",
     "output_type": "stream",
     "text": [
      "\r",
      " 40%|████████████████████████████████████████████████████████████▊                                                                                           | 80/200 [02:03<04:00,  2.00s/it]"
     ]
    },
    {
     "name": "stderr",
     "output_type": "stream",
     "text": [
      "\r",
      " 40%|█████████████████████████████████████████████████████████████▌                                                                                          | 81/200 [02:04<03:41,  1.86s/it]"
     ]
    },
    {
     "name": "stderr",
     "output_type": "stream",
     "text": [
      "\r",
      " 41%|██████████████████████████████████████████████████████████████▎                                                                                         | 82/200 [02:07<04:13,  2.15s/it]"
     ]
    },
    {
     "name": "stderr",
     "output_type": "stream",
     "text": [
      "\r",
      " 42%|███████████████████████████████████████████████████████████████                                                                                         | 83/200 [02:08<03:51,  1.97s/it]"
     ]
    },
    {
     "name": "stderr",
     "output_type": "stream",
     "text": [
      "\r",
      " 42%|███████████████████████████████████████████████████████████████▊                                                                                        | 84/200 [02:10<03:49,  1.98s/it]"
     ]
    },
    {
     "name": "stderr",
     "output_type": "stream",
     "text": [
      "\r",
      " 42%|████████████████████████████████████████████████████████████████▌                                                                                       | 85/200 [02:12<03:46,  1.97s/it]"
     ]
    },
    {
     "name": "stderr",
     "output_type": "stream",
     "text": [
      "\r",
      " 43%|█████████████████████████████████████████████████████████████████▎                                                                                      | 86/200 [02:15<03:48,  2.00s/it]"
     ]
    },
    {
     "name": "stderr",
     "output_type": "stream",
     "text": [
      "\r",
      " 44%|██████████████████████████████████████████████████████████████████                                                                                      | 87/200 [02:17<04:18,  2.29s/it]"
     ]
    },
    {
     "name": "stderr",
     "output_type": "stream",
     "text": [
      "\r",
      " 44%|██████████████████████████████████████████████████████████████████▉                                                                                     | 88/200 [02:19<04:06,  2.20s/it]"
     ]
    },
    {
     "name": "stderr",
     "output_type": "stream",
     "text": [
      "\r",
      " 44%|███████████████████████████████████████████████████████████████████▋                                                                                    | 89/200 [02:21<03:54,  2.11s/it]"
     ]
    },
    {
     "name": "stderr",
     "output_type": "stream",
     "text": [
      "\r",
      " 45%|████████████████████████████████████████████████████████████████████▍                                                                                   | 90/200 [02:23<03:45,  2.05s/it]"
     ]
    },
    {
     "name": "stderr",
     "output_type": "stream",
     "text": [
      "\r",
      " 46%|█████████████████████████████████████████████████████████████████████▏                                                                                  | 91/200 [02:26<04:16,  2.35s/it]"
     ]
    },
    {
     "name": "stderr",
     "output_type": "stream",
     "text": [
      "\r",
      " 46%|█████████████████████████████████████████████████████████████████████▉                                                                                  | 92/200 [02:30<04:41,  2.60s/it]"
     ]
    },
    {
     "name": "stderr",
     "output_type": "stream",
     "text": [
      "\r",
      " 46%|██████████████████████████████████████████████████████████████████████▋                                                                                 | 93/200 [02:34<05:36,  3.15s/it]"
     ]
    },
    {
     "name": "stderr",
     "output_type": "stream",
     "text": [
      "\r",
      " 47%|███████████████████████████████████████████████████████████████████████▍                                                                                | 94/200 [02:37<05:35,  3.16s/it]"
     ]
    },
    {
     "name": "stderr",
     "output_type": "stream",
     "text": [
      "\r",
      " 48%|████████████████████████████████████████████████████████████████████████▏                                                                               | 95/200 [02:40<05:21,  3.06s/it]"
     ]
    },
    {
     "name": "stderr",
     "output_type": "stream",
     "text": [
      "\r",
      " 48%|████████████████████████████████████████████████████████████████████████▉                                                                               | 96/200 [02:43<05:24,  3.12s/it]"
     ]
    },
    {
     "name": "stderr",
     "output_type": "stream",
     "text": [
      "\r",
      " 48%|█████████████████████████████████████████████████████████████████████████▋                                                                              | 97/200 [02:46<05:25,  3.16s/it]"
     ]
    },
    {
     "name": "stderr",
     "output_type": "stream",
     "text": [
      "\r",
      " 49%|██████████████████████████████████████████████████████████████████████████▍                                                                             | 98/200 [02:49<05:13,  3.08s/it]"
     ]
    },
    {
     "name": "stderr",
     "output_type": "stream",
     "text": [
      "\r",
      " 50%|███████████████████████████████████████████████████████████████████████████▏                                                                            | 99/200 [02:52<05:03,  3.01s/it]"
     ]
    },
    {
     "name": "stderr",
     "output_type": "stream",
     "text": [
      "\r",
      " 50%|███████████████████████████████████████████████████████████████████████████▌                                                                           | 100/200 [02:55<04:42,  2.82s/it]"
     ]
    },
    {
     "name": "stderr",
     "output_type": "stream",
     "text": [
      "\r",
      " 50%|████████████████████████████████████████████████████████████████████████████▎                                                                          | 101/200 [02:58<04:54,  2.97s/it]"
     ]
    },
    {
     "name": "stderr",
     "output_type": "stream",
     "text": [
      "\r",
      " 51%|█████████████████████████████████████████████████████████████████████████████                                                                          | 102/200 [03:01<04:46,  2.93s/it]"
     ]
    },
    {
     "name": "stderr",
     "output_type": "stream",
     "text": [
      "\r",
      " 52%|█████████████████████████████████████████████████████████████████████████████▊                                                                         | 103/200 [03:03<04:37,  2.86s/it]"
     ]
    },
    {
     "name": "stderr",
     "output_type": "stream",
     "text": [
      "\r",
      " 52%|██████████████████████████████████████████████████████████████████████████████▌                                                                        | 104/200 [03:07<04:49,  3.02s/it]"
     ]
    },
    {
     "name": "stderr",
     "output_type": "stream",
     "text": [
      "\r",
      " 52%|███████████████████████████████████████████████████████████████████████████████▎                                                                       | 105/200 [03:11<05:33,  3.51s/it]"
     ]
    },
    {
     "name": "stderr",
     "output_type": "stream",
     "text": [
      "\r",
      " 53%|████████████████████████████████████████████████████████████████████████████████                                                                       | 106/200 [03:15<05:29,  3.51s/it]"
     ]
    },
    {
     "name": "stderr",
     "output_type": "stream",
     "text": [
      "\r",
      " 54%|████████████████████████████████████████████████████████████████████████████████▊                                                                      | 107/200 [03:18<05:25,  3.50s/it]"
     ]
    },
    {
     "name": "stderr",
     "output_type": "stream",
     "text": [
      "\r",
      " 54%|█████████████████████████████████████████████████████████████████████████████████▌                                                                     | 108/200 [03:22<05:22,  3.51s/it]"
     ]
    },
    {
     "name": "stderr",
     "output_type": "stream",
     "text": [
      "\r",
      " 55%|██████████████████████████████████████████████████████████████████████████████████▎                                                                    | 109/200 [03:25<05:11,  3.42s/it]"
     ]
    },
    {
     "name": "stderr",
     "output_type": "stream",
     "text": [
      "\r",
      " 55%|███████████████████████████████████████████████████████████████████████████████████                                                                    | 110/200 [03:30<05:46,  3.85s/it]"
     ]
    },
    {
     "name": "stderr",
     "output_type": "stream",
     "text": [
      "\r",
      " 56%|███████████████████████████████████████████████████████████████████████████████████▊                                                                   | 111/200 [03:34<05:36,  3.78s/it]"
     ]
    },
    {
     "name": "stderr",
     "output_type": "stream",
     "text": [
      "\r",
      " 56%|████████████████████████████████████████████████████████████████████████████████████▌                                                                  | 112/200 [03:37<05:30,  3.75s/it]"
     ]
    },
    {
     "name": "stderr",
     "output_type": "stream",
     "text": [
      "\r",
      " 56%|█████████████████████████████████████████████████████████████████████████████████████▎                                                                 | 113/200 [03:41<05:24,  3.73s/it]"
     ]
    },
    {
     "name": "stderr",
     "output_type": "stream",
     "text": [
      "\r",
      " 57%|██████████████████████████████████████████████████████████████████████████████████████                                                                 | 114/200 [03:45<05:19,  3.72s/it]"
     ]
    },
    {
     "name": "stderr",
     "output_type": "stream",
     "text": [
      "\r",
      " 57%|██████████████████████████████████████████████████████████████████████████████████████▊                                                                | 115/200 [03:48<05:15,  3.72s/it]"
     ]
    },
    {
     "name": "stderr",
     "output_type": "stream",
     "text": [
      "\r",
      " 58%|███████████████████████████████████████████████████████████████████████████████████████▌                                                               | 116/200 [03:54<05:48,  4.14s/it]"
     ]
    },
    {
     "name": "stderr",
     "output_type": "stream",
     "text": [
      "\r",
      " 58%|████████████████████████████████████████████████████████████████████████████████████████▎                                                              | 117/200 [03:57<05:35,  4.04s/it]"
     ]
    },
    {
     "name": "stderr",
     "output_type": "stream",
     "text": [
      "\r",
      " 59%|█████████████████████████████████████████████████████████████████████████████████████████                                                              | 118/200 [04:01<05:25,  3.97s/it]"
     ]
    },
    {
     "name": "stderr",
     "output_type": "stream",
     "text": [
      "\r",
      " 60%|█████████████████████████████████████████████████████████████████████████████████████████▊                                                             | 119/200 [04:04<04:43,  3.50s/it]"
     ]
    },
    {
     "name": "stderr",
     "output_type": "stream",
     "text": [
      "\r",
      " 60%|██████████████████████████████████████████████████████████████████████████████████████████▌                                                            | 120/200 [04:06<04:05,  3.07s/it]"
     ]
    },
    {
     "name": "stderr",
     "output_type": "stream",
     "text": [
      "\r",
      " 60%|███████████████████████████████████████████████████████████████████████████████████████████▎                                                           | 121/200 [04:08<03:40,  2.79s/it]"
     ]
    },
    {
     "name": "stderr",
     "output_type": "stream",
     "text": [
      "\r",
      " 61%|████████████████████████████████████████████████████████████████████████████████████████████                                                           | 122/200 [04:11<03:51,  2.97s/it]"
     ]
    },
    {
     "name": "stderr",
     "output_type": "stream",
     "text": [
      "\r",
      " 62%|████████████████████████████████████████████████████████████████████████████████████████████▊                                                          | 123/200 [04:13<03:31,  2.75s/it]"
     ]
    },
    {
     "name": "stderr",
     "output_type": "stream",
     "text": [
      "\r",
      " 62%|█████████████████████████████████████████████████████████████████████████████████████████████▌                                                         | 124/200 [04:16<03:18,  2.61s/it]"
     ]
    },
    {
     "name": "stderr",
     "output_type": "stream",
     "text": [
      "\r",
      " 62%|██████████████████████████████████████████████████████████████████████████████████████████████▍                                                        | 125/200 [04:17<02:54,  2.33s/it]"
     ]
    },
    {
     "name": "stderr",
     "output_type": "stream",
     "text": [
      "\r",
      " 63%|███████████████████████████████████████████████████████████████████████████████████████████████▏                                                       | 126/200 [04:19<02:34,  2.09s/it]"
     ]
    },
    {
     "name": "stderr",
     "output_type": "stream",
     "text": [
      "\r",
      " 64%|███████████████████████████████████████████████████████████████████████████████████████████████▉                                                       | 127/200 [04:20<02:20,  1.93s/it]"
     ]
    },
    {
     "name": "stderr",
     "output_type": "stream",
     "text": [
      "\r",
      " 64%|████████████████████████████████████████████████████████████████████████████████████████████████▋                                                      | 128/200 [04:23<02:34,  2.15s/it]"
     ]
    },
    {
     "name": "stderr",
     "output_type": "stream",
     "text": [
      "\r",
      " 64%|█████████████████████████████████████████████████████████████████████████████████████████████████▍                                                     | 129/200 [04:25<02:22,  2.01s/it]"
     ]
    },
    {
     "name": "stderr",
     "output_type": "stream",
     "text": [
      "\r",
      " 65%|██████████████████████████████████████████████████████████████████████████████████████████████████▏                                                    | 130/200 [04:26<02:12,  1.90s/it]"
     ]
    },
    {
     "name": "stderr",
     "output_type": "stream",
     "text": [
      "\r",
      " 66%|██████████████████████████████████████████████████████████████████████████████████████████████████▉                                                    | 131/200 [04:28<02:05,  1.82s/it]"
     ]
    },
    {
     "name": "stderr",
     "output_type": "stream",
     "text": [
      "\r",
      " 66%|███████████████████████████████████████████████████████████████████████████████████████████████████▋                                                   | 132/200 [04:30<02:00,  1.77s/it]"
     ]
    },
    {
     "name": "stderr",
     "output_type": "stream",
     "text": [
      "\r",
      " 66%|████████████████████████████████████████████████████████████████████████████████████████████████████▍                                                  | 133/200 [04:31<01:55,  1.73s/it]"
     ]
    },
    {
     "name": "stderr",
     "output_type": "stream",
     "text": [
      "\r",
      " 67%|█████████████████████████████████████████████████████████████████████████████████████████████████████▏                                                 | 134/200 [04:34<02:15,  2.06s/it]"
     ]
    },
    {
     "name": "stderr",
     "output_type": "stream",
     "text": [
      "\r",
      " 68%|█████████████████████████████████████████████████████████████████████████████████████████████████████▉                                                 | 135/200 [04:36<02:06,  1.94s/it]"
     ]
    },
    {
     "name": "stderr",
     "output_type": "stream",
     "text": [
      "\r",
      " 68%|██████████████████████████████████████████████████████████████████████████████████████████████████████▋                                                | 136/200 [04:38<02:00,  1.88s/it]"
     ]
    },
    {
     "name": "stderr",
     "output_type": "stream",
     "text": [
      "\r",
      " 68%|███████████████████████████████████████████████████████████████████████████████████████████████████████▍                                               | 137/200 [04:40<02:01,  1.93s/it]"
     ]
    },
    {
     "name": "stderr",
     "output_type": "stream",
     "text": [
      "\r",
      " 69%|████████████████████████████████████████████████████████████████████████████████████████████████████████▏                                              | 138/200 [04:43<02:22,  2.30s/it]"
     ]
    },
    {
     "name": "stderr",
     "output_type": "stream",
     "text": [
      "\r",
      " 70%|████████████████████████████████████████████████████████████████████████████████████████████████████████▉                                              | 139/200 [04:46<02:36,  2.57s/it]"
     ]
    },
    {
     "name": "stderr",
     "output_type": "stream",
     "text": [
      "\r",
      " 70%|█████████████████████████████████████████████████████████████████████████████████████████████████████████▋                                             | 140/200 [04:49<02:45,  2.76s/it]"
     ]
    },
    {
     "name": "stderr",
     "output_type": "stream",
     "text": [
      "\r",
      " 70%|██████████████████████████████████████████████████████████████████████████████████████████████████████████▍                                            | 141/200 [04:54<03:18,  3.37s/it]"
     ]
    },
    {
     "name": "stderr",
     "output_type": "stream",
     "text": [
      "\r",
      " 71%|███████████████████████████████████████████████████████████████████████████████████████████████████████████▏                                           | 142/200 [04:57<03:14,  3.36s/it]"
     ]
    },
    {
     "name": "stderr",
     "output_type": "stream",
     "text": [
      "\r",
      " 72%|███████████████████████████████████████████████████████████████████████████████████████████████████████████▉                                           | 143/200 [05:01<03:10,  3.35s/it]"
     ]
    },
    {
     "name": "stderr",
     "output_type": "stream",
     "text": [
      "\r",
      " 72%|████████████████████████████████████████████████████████████████████████████████████████████████████████████▋                                          | 144/200 [05:04<03:13,  3.45s/it]"
     ]
    },
    {
     "name": "stderr",
     "output_type": "stream",
     "text": [
      "\r",
      " 72%|█████████████████████████████████████████████████████████████████████████████████████████████████████████████▍                                         | 145/200 [05:09<03:29,  3.82s/it]"
     ]
    },
    {
     "name": "stderr",
     "output_type": "stream",
     "text": [
      "\r",
      " 73%|██████████████████████████████████████████████████████████████████████████████████████████████████████████████▏                                        | 146/200 [05:14<03:39,  4.06s/it]"
     ]
    },
    {
     "name": "stderr",
     "output_type": "stream",
     "text": [
      "\r",
      " 74%|██████████████████████████████████████████████████████████████████████████████████████████████████████████████▉                                        | 147/200 [05:18<03:45,  4.25s/it]"
     ]
    },
    {
     "name": "stderr",
     "output_type": "stream",
     "text": [
      "\r",
      " 74%|███████████████████████████████████████████████████████████████████████████████████████████████████████████████▋                                       | 148/200 [05:25<04:19,  4.98s/it]"
     ]
    },
    {
     "name": "stderr",
     "output_type": "stream",
     "text": [
      "\r",
      " 74%|████████████████████████████████████████████████████████████████████████████████████████████████████████████████▍                                      | 149/200 [05:30<04:09,  4.90s/it]"
     ]
    },
    {
     "name": "stderr",
     "output_type": "stream",
     "text": [
      "\r",
      " 75%|█████████████████████████████████████████████████████████████████████████████████████████████████████████████████▎                                     | 150/200 [05:35<04:03,  4.86s/it]"
     ]
    },
    {
     "name": "stderr",
     "output_type": "stream",
     "text": [
      "\r",
      " 76%|██████████████████████████████████████████████████████████████████████████████████████████████████████████████████                                     | 151/200 [05:39<03:57,  4.84s/it]"
     ]
    },
    {
     "name": "stderr",
     "output_type": "stream",
     "text": [
      "\r",
      " 76%|██████████████████████████████████████████████████████████████████████████████████████████████████████████████████▊                                    | 152/200 [05:44<03:51,  4.83s/it]"
     ]
    },
    {
     "name": "stderr",
     "output_type": "stream",
     "text": [
      "\r",
      " 76%|███████████████████████████████████████████████████████████████████████████████████████████████████████████████████▌                                   | 153/200 [05:49<03:46,  4.81s/it]"
     ]
    },
    {
     "name": "stderr",
     "output_type": "stream",
     "text": [
      "\r",
      " 77%|████████████████████████████████████████████████████████████████████████████████████████████████████████████████████▎                                  | 154/200 [05:54<03:41,  4.81s/it]"
     ]
    },
    {
     "name": "stderr",
     "output_type": "stream",
     "text": [
      "\r",
      " 78%|█████████████████████████████████████████████████████████████████████████████████████████████████████████████████████                                  | 155/200 [06:01<04:05,  5.46s/it]"
     ]
    },
    {
     "name": "stderr",
     "output_type": "stream",
     "text": [
      "\r",
      " 78%|█████████████████████████████████████████████████████████████████████████████████████████████████████████████████████▊                                 | 156/200 [06:04<03:33,  4.85s/it]"
     ]
    },
    {
     "name": "stderr",
     "output_type": "stream",
     "text": [
      "\r",
      " 78%|██████████████████████████████████████████████████████████████████████████████████████████████████████████████████████▌                                | 157/200 [06:07<03:01,  4.21s/it]"
     ]
    },
    {
     "name": "stderr",
     "output_type": "stream",
     "text": [
      "\r",
      " 79%|███████████████████████████████████████████████████████████████████████████████████████████████████████████████████████▎                               | 158/200 [06:10<02:39,  3.80s/it]"
     ]
    },
    {
     "name": "stderr",
     "output_type": "stream",
     "text": [
      "\r",
      " 80%|████████████████████████████████████████████████████████████████████████████████████████████████████████████████████████                               | 159/200 [06:12<02:22,  3.46s/it]"
     ]
    },
    {
     "name": "stderr",
     "output_type": "stream",
     "text": [
      "\r",
      " 80%|████████████████████████████████████████████████████████████████████████████████████████████████████████████████████████▊                              | 160/200 [06:15<02:10,  3.27s/it]"
     ]
    },
    {
     "name": "stderr",
     "output_type": "stream",
     "text": [
      "\r",
      " 80%|█████████████████████████████████████████████████████████████████████████████████████████████████████████████████████████▌                             | 161/200 [06:18<02:00,  3.09s/it]"
     ]
    },
    {
     "name": "stderr",
     "output_type": "stream",
     "text": [
      "\r",
      " 81%|██████████████████████████████████████████████████████████████████████████████████████████████████████████████████████████▎                            | 162/200 [06:21<01:54,  3.01s/it]"
     ]
    },
    {
     "name": "stderr",
     "output_type": "stream",
     "text": [
      "\r",
      " 82%|███████████████████████████████████████████████████████████████████████████████████████████████████████████████████████████                            | 163/200 [06:25<02:11,  3.56s/it]"
     ]
    },
    {
     "name": "stderr",
     "output_type": "stream",
     "text": [
      "\r",
      " 82%|███████████████████████████████████████████████████████████████████████████████████████████████████████████████████████████▊                           | 164/200 [06:28<02:00,  3.35s/it]"
     ]
    },
    {
     "name": "stderr",
     "output_type": "stream",
     "text": [
      "\r",
      " 82%|████████████████████████████████████████████████████████████████████████████████████████████████████████████████████████████▌                          | 165/200 [06:31<01:51,  3.19s/it]"
     ]
    },
    {
     "name": "stderr",
     "output_type": "stream",
     "text": [
      "\r",
      " 83%|█████████████████████████████████████████████████████████████████████████████████████████████████████████████████████████████▎                         | 166/200 [06:34<01:45,  3.10s/it]"
     ]
    },
    {
     "name": "stderr",
     "output_type": "stream",
     "text": [
      "\r",
      " 84%|██████████████████████████████████████████████████████████████████████████████████████████████████████████████████████████████                         | 167/200 [06:37<01:39,  3.02s/it]"
     ]
    },
    {
     "name": "stderr",
     "output_type": "stream",
     "text": [
      "\r",
      " 84%|██████████████████████████████████████████████████████████████████████████████████████████████████████████████████████████████▊                        | 168/200 [06:40<01:35,  3.00s/it]"
     ]
    },
    {
     "name": "stderr",
     "output_type": "stream",
     "text": [
      "\r",
      " 84%|███████████████████████████████████████████████████████████████████████████████████████████████████████████████████████████████▌                       | 169/200 [06:43<01:31,  2.95s/it]"
     ]
    },
    {
     "name": "stderr",
     "output_type": "stream",
     "text": [
      "\r",
      " 85%|████████████████████████████████████████████████████████████████████████████████████████████████████████████████████████████████▎                      | 170/200 [06:48<01:46,  3.56s/it]"
     ]
    },
    {
     "name": "stderr",
     "output_type": "stream",
     "text": [
      "\r",
      " 86%|█████████████████████████████████████████████████████████████████████████████████████████████████████████████████████████████████                      | 171/200 [06:51<01:39,  3.42s/it]"
     ]
    },
    {
     "name": "stderr",
     "output_type": "stream",
     "text": [
      "\r",
      " 86%|█████████████████████████████████████████████████████████████████████████████████████████████████████████████████████████████████▊                     | 172/200 [06:54<01:31,  3.28s/it]"
     ]
    },
    {
     "name": "stderr",
     "output_type": "stream",
     "text": [
      "\r",
      " 86%|██████████████████████████████████████████████████████████████████████████████████████████████████████████████████████████████████▌                    | 173/200 [06:57<01:27,  3.24s/it]"
     ]
    },
    {
     "name": "stderr",
     "output_type": "stream",
     "text": [
      "\r",
      " 87%|███████████████████████████████████████████████████████████████████████████████████████████████████████████████████████████████████▎                   | 174/200 [07:00<01:22,  3.15s/it]"
     ]
    },
    {
     "name": "stderr",
     "output_type": "stream",
     "text": [
      "\r",
      " 88%|████████████████████████████████████████████████████████████████████████████████████████████████████████████████████████████████████▏                  | 175/200 [07:04<01:29,  3.57s/it]"
     ]
    },
    {
     "name": "stderr",
     "output_type": "stream",
     "text": [
      "\r",
      " 88%|████████████████████████████████████████████████████████████████████████████████████████████████████████████████████████████████████▉                  | 176/200 [07:10<01:39,  4.14s/it]"
     ]
    },
    {
     "name": "stderr",
     "output_type": "stream",
     "text": [
      "\r",
      " 88%|█████████████████████████████████████████████████████████████████████████████████████████████████████████████████████████████████████▋                 | 177/200 [07:15<01:44,  4.54s/it]"
     ]
    },
    {
     "name": "stderr",
     "output_type": "stream",
     "text": [
      "\r",
      " 89%|██████████████████████████████████████████████████████████████████████████████████████████████████████████████████████████████████████▍                | 178/200 [07:24<02:04,  5.66s/it]"
     ]
    },
    {
     "name": "stderr",
     "output_type": "stream",
     "text": [
      "\r",
      " 90%|███████████████████████████████████████████████████████████████████████████████████████████████████████████████████████████████████████▏               | 179/200 [07:29<01:58,  5.63s/it]"
     ]
    },
    {
     "name": "stderr",
     "output_type": "stream",
     "text": [
      "\r",
      " 90%|███████████████████████████████████████████████████████████████████████████████████████████████████████████████████████████████████████▉               | 180/200 [07:35<01:52,  5.62s/it]"
     ]
    },
    {
     "name": "stderr",
     "output_type": "stream",
     "text": [
      "\r",
      " 90%|████████████████████████████████████████████████████████████████████████████████████████████████████████████████████████████████████████▋              | 181/200 [07:40<01:47,  5.64s/it]"
     ]
    },
    {
     "name": "stderr",
     "output_type": "stream",
     "text": [
      "\r",
      " 91%|█████████████████████████████████████████████████████████████████████████████████████████████████████████████████████████████████████████▍             | 182/200 [07:45<01:36,  5.37s/it]"
     ]
    },
    {
     "name": "stderr",
     "output_type": "stream",
     "text": [
      "\r",
      " 92%|██████████████████████████████████████████████████████████████████████████████████████████████████████████████████████████████████████████▏            | 183/200 [07:49<01:24,  4.99s/it]"
     ]
    },
    {
     "name": "stderr",
     "output_type": "stream",
     "text": [
      "\r",
      " 92%|██████████████████████████████████████████████████████████████████████████████████████████████████████████████████████████████████████████▉            | 184/200 [07:53<01:15,  4.72s/it]"
     ]
    },
    {
     "name": "stderr",
     "output_type": "stream",
     "text": [
      "\r",
      " 92%|███████████████████████████████████████████████████████████████████████████████████████████████████████████████████████████████████████████▋           | 185/200 [07:57<01:08,  4.54s/it]"
     ]
    },
    {
     "name": "stderr",
     "output_type": "stream",
     "text": [
      "\r",
      " 93%|████████████████████████████████████████████████████████████████████████████████████████████████████████████████████████████████████████████▍          | 186/200 [08:04<01:12,  5.15s/it]"
     ]
    },
    {
     "name": "stderr",
     "output_type": "stream",
     "text": [
      "\r",
      " 94%|█████████████████████████████████████████████████████████████████████████████████████████████████████████████████████████████████████████████▏         | 187/200 [08:08<01:03,  4.87s/it]"
     ]
    },
    {
     "name": "stderr",
     "output_type": "stream",
     "text": [
      "\r",
      " 94%|█████████████████████████████████████████████████████████████████████████████████████████████████████████████████████████████████████████████▉         | 188/200 [08:12<00:56,  4.69s/it]"
     ]
    },
    {
     "name": "stderr",
     "output_type": "stream",
     "text": [
      "\r",
      " 94%|██████████████████████████████████████████████████████████████████████████████████████████████████████████████████████████████████████████████▋        | 189/200 [08:17<00:50,  4.58s/it]"
     ]
    },
    {
     "name": "stderr",
     "output_type": "stream",
     "text": [
      "\r",
      " 95%|███████████████████████████████████████████████████████████████████████████████████████████████████████████████████████████████████████████████▍       | 190/200 [08:21<00:44,  4.49s/it]"
     ]
    },
    {
     "name": "stderr",
     "output_type": "stream",
     "text": [
      "\r",
      " 96%|████████████████████████████████████████████████████████████████████████████████████████████████████████████████████████████████████████████████▏      | 191/200 [08:25<00:39,  4.43s/it]"
     ]
    },
    {
     "name": "stderr",
     "output_type": "stream",
     "text": [
      "\r",
      " 96%|████████████████████████████████████████████████████████████████████████████████████████████████████████████████████████████████████████████████▉      | 192/200 [08:30<00:35,  4.39s/it]"
     ]
    },
    {
     "name": "stderr",
     "output_type": "stream",
     "text": [
      "\r",
      " 96%|█████████████████████████████████████████████████████████████████████████████████████████████████████████████████████████████████████████████████▋     | 193/200 [08:35<00:31,  4.53s/it]"
     ]
    },
    {
     "name": "stderr",
     "output_type": "stream",
     "text": [
      "\r",
      " 97%|██████████████████████████████████████████████████████████████████████████████████████████████████████████████████████████████████████████████████▍    | 194/200 [08:41<00:29,  4.99s/it]"
     ]
    },
    {
     "name": "stderr",
     "output_type": "stream",
     "text": [
      "\r",
      " 98%|███████████████████████████████████████████████████████████████████████████████████████████████████████████████████████████████████████████████████▏   | 195/200 [08:50<00:31,  6.29s/it]"
     ]
    },
    {
     "name": "stderr",
     "output_type": "stream",
     "text": [
      "\r",
      " 98%|███████████████████████████████████████████████████████████████████████████████████████████████████████████████████████████████████████████████████▉   | 196/200 [08:56<00:24,  6.24s/it]"
     ]
    },
    {
     "name": "stderr",
     "output_type": "stream",
     "text": [
      "\r",
      " 98%|████████████████████████████████████████████████████████████████████████████████████████████████████████████████████████████████████████████████████▋  | 197/200 [09:02<00:18,  6.20s/it]"
     ]
    },
    {
     "name": "stderr",
     "output_type": "stream",
     "text": [
      "\r",
      " 99%|█████████████████████████████████████████████████████████████████████████████████████████████████████████████████████████████████████████████████████▍ | 198/200 [09:08<00:12,  6.18s/it]"
     ]
    },
    {
     "name": "stderr",
     "output_type": "stream",
     "text": [
      "\r",
      "100%|██████████████████████████████████████████████████████████████████████████████████████████████████████████████████████████████████████████████████████▏| 199/200 [09:14<00:06,  6.18s/it]"
     ]
    },
    {
     "name": "stderr",
     "output_type": "stream",
     "text": [
      "\r",
      "100%|███████████████████████████████████████████████████████████████████████████████████████████████████████████████████████████████████████████████████████| 200/200 [09:21<00:00,  6.15s/it]"
     ]
    },
    {
     "name": "stderr",
     "output_type": "stream",
     "text": [
      "\r",
      "100%|███████████████████████████████████████████████████████████████████████████████████████████████████████████████████████████████████████████████████████| 200/200 [09:21<00:00,  2.81s/it]"
     ]
    },
    {
     "name": "stderr",
     "output_type": "stream",
     "text": [
      "\n"
     ]
    }
   ],
   "source": [
    "# Create the population and populate the history\n",
    "population = toolbox.population(n=NPOP)\n",
    "\n",
    "species_ancestor = hstrat.HereditaryStratigraphicColumn(\n",
    "    stratum_retention_policy=hstrat.perfect_resolution_algo.Policy(),\n",
    "    stratum_differentia_bit_width=HSTRAT_DIFFERENTIA_WIDTH,\n",
    ")\n",
    "gene_ancestor = hstrat.HereditaryStratigraphicColumn(\n",
    "    stratum_retention_policy=hstrat.perfect_resolution_algo.Policy(),\n",
    "    stratum_differentia_bit_width=HSTRAT_DIFFERENTIA_WIDTH,\n",
    "    initial_stratum_annotation=0,\n",
    ")\n",
    "for member in population:\n",
    "    member.species_annotation = species_ancestor.CloneDescendant()\n",
    "    member.gene_annotation = gene_ancestor.CloneDescendant(0)\n",
    "\n",
    "history.update(population)\n",
    "\n",
    "# Do the evolution, the decorators will take care of updating the\n",
    "# history\n",
    "if MILL_TREATMENT_NAME == \"bag\":\n",
    "    for _gen in range(NGEN):\n",
    "        offspring = deap_algorithms.varAnd(\n",
    "            population,\n",
    "            toolbox,\n",
    "            cxpb=1.0,\n",
    "            mutpb=1.0,\n",
    "        )\n",
    "        fits = toolbox.map(toolbox.evaluate, offspring)\n",
    "        for fit, ind in zip(fits, offspring):\n",
    "            ind.fitness.values = fit\n",
    "        population = toolbox.select(offspring, k=NPOP)\n",
    "        population = [copy.deepcopy(ind) for ind in population]\n",
    "\n",
    "elif MILL_TREATMENT_NAME == \"ring\":\n",
    "    NUM_ISLANDS = 10\n",
    "    NUM_MIGRATIONS = 1\n",
    "    slice_size = len(population) // NUM_ISLANDS\n",
    "    for gen in tqdm(range(NGEN)):\n",
    "        for slice_ in pylib.util.iter_slices(len(population), slice_size):\n",
    "            subpopulation = population[slice_]\n",
    "            offspring = deap_algorithms.varAnd(\n",
    "                subpopulation, toolbox, cxpb=1.0, mutpb=1.0\n",
    "            )\n",
    "            fits = toolbox.map(toolbox.evaluate, offspring)\n",
    "            for fit, ind in zip(fits, offspring):\n",
    "                ind.fitness.values = fit\n",
    "            subpopulation = toolbox.select(offspring, k=len(subpopulation))\n",
    "            population[slice_] = [copy.deepcopy(ind) for ind in subpopulation]\n",
    "\n",
    "        for m in range(NUM_MIGRATIONS):\n",
    "            displacement = random.randrange(slice_size, 2 * slice_size)\n",
    "            a = random.randrange(len(population))\n",
    "            b = (a + displacement) % len(population)\n",
    "            population[a], population[b] = population[b], population[a]\n",
    "\n",
    "    from_subpopulations = []\n",
    "    for i in range(0, len(population), slice_size):\n",
    "        subpopulation = population[i : i + slice_size]\n",
    "        from_subpopulations.extend(subpopulation)\n",
    "    population = from_subpopulations\n",
    "\n",
    "elif MILL_TREATMENT_NAME == \"allopatry\":\n",
    "    # sympatry\n",
    "    for gen in tqdm(range(NGEN // 2)):\n",
    "        offspring = deap_algorithms.varAnd(\n",
    "            population, toolbox, cxpb=1.0, mutpb=1.0\n",
    "        )\n",
    "        fits = toolbox.map(toolbox.evaluate, offspring)\n",
    "\n",
    "        for fit, ind in zip(fits, offspring):\n",
    "            ind.fitness.values = fit\n",
    "        population = toolbox.select(offspring, k=len(population))\n",
    "        population = [copy.deepcopy(ind) for ind in population]\n",
    "\n",
    "    # two-island allopatry\n",
    "    slice_size = NPOP // 2\n",
    "    from_subpopulations = []\n",
    "    for i in range(0, len(population), slice_size):\n",
    "        subpopulation = population[i : i + slice_size]\n",
    "        for gen in tqdm(range(NGEN // 4)):\n",
    "            offspring = deap_algorithms.varAnd(\n",
    "                subpopulation, toolbox, cxpb=1.0, mutpb=1.0\n",
    "            )\n",
    "            fits = toolbox.map(toolbox.evaluate, offspring)\n",
    "            for fit, ind in zip(fits, offspring):\n",
    "                ind.fitness.values = fit\n",
    "            subpopulation = toolbox.select(offspring, k=len(subpopulation))\n",
    "            subpopulation = [copy.deepcopy(ind) for ind in subpopulation]\n",
    "\n",
    "        from_subpopulations.extend(subpopulation)\n",
    "    population = from_subpopulations\n",
    "\n",
    "    # three-island allopatry: left island\n",
    "    slice_size = NPOP // 2\n",
    "    from_subpopulations = []\n",
    "    for i in range(0, len(population) // 2, slice_size):\n",
    "        subpopulation = population[i : i + slice_size]\n",
    "        for gen in tqdm(range(NGEN // 4)):\n",
    "            offspring = deap_algorithms.varAnd(\n",
    "                subpopulation, toolbox, cxpb=1.0, mutpb=1.0\n",
    "            )\n",
    "            fits = toolbox.map(toolbox.evaluate, offspring)\n",
    "            for fit, ind in zip(fits, offspring):\n",
    "                ind.fitness.values = fit\n",
    "            subpopulation = toolbox.select(offspring, k=len(subpopulation))\n",
    "            subpopulation = [copy.deepcopy(ind) for ind in subpopulation]\n",
    "\n",
    "        from_subpopulations.extend(subpopulation)\n",
    "\n",
    "    # three-island allopatry: right five islands\n",
    "    slice_size = NPOP // 10\n",
    "    for i in range(len(population) // 2, len(population), slice_size):\n",
    "        subpopulation = population[i : i + slice_size]\n",
    "        for gen in tqdm(range(NGEN // 4)):\n",
    "            offspring = deap_algorithms.varAnd(\n",
    "                subpopulation, toolbox, cxpb=1.0, mutpb=1.0\n",
    "            )\n",
    "            fits = toolbox.map(toolbox.evaluate, offspring)\n",
    "            for fit, ind in zip(fits, offspring):\n",
    "                ind.fitness.values = fit\n",
    "            subpopulation = toolbox.select(offspring, k=len(subpopulation))\n",
    "            subpopulation = [copy.deepcopy(ind) for ind in subpopulation]\n",
    "\n",
    "        from_subpopulations.extend(subpopulation)\n",
    "\n",
    "    population = from_subpopulations\n",
    "\n",
    "else:\n",
    "    assert False, MILL_TREATMENT_NAME\n",
    "\n",
    "# ensure all extant organisms registered with phylogeny tracker\n",
    "for x in population:\n",
    "    history.update([x])\n"
   ]
  },
  {
   "cell_type": "markdown",
   "id": "e1787db0",
   "metadata": {
    "papermill": {
     "duration": 0.253721,
     "end_time": "2023-05-24T02:32:33.942977",
     "exception": false,
     "start_time": "2023-05-24T02:32:33.689256",
     "status": "completed"
    },
    "tags": []
   },
   "source": [
    "# Reconstruction\n"
   ]
  },
  {
   "cell_type": "code",
   "execution_count": 11,
   "id": "fbd0694e",
   "metadata": {
    "execution": {
     "iopub.execute_input": "2023-05-24T02:32:34.448913Z",
     "iopub.status.busy": "2023-05-24T02:32:34.447522Z",
     "iopub.status.idle": "2023-05-24T02:32:37.596604Z",
     "shell.execute_reply": "2023-05-24T02:32:37.597699Z"
    },
    "papermill": {
     "duration": 3.402504,
     "end_time": "2023-05-24T02:32:37.598008",
     "exception": false,
     "start_time": "2023-05-24T02:32:34.195504",
     "status": "completed"
    },
    "tags": []
   },
   "outputs": [
    {
     "data": {
      "text/html": [
       "<div>\n",
       "<style scoped>\n",
       "    .dataframe tbody tr th:only-of-type {\n",
       "        vertical-align: middle;\n",
       "    }\n",
       "\n",
       "    .dataframe tbody tr th {\n",
       "        vertical-align: top;\n",
       "    }\n",
       "\n",
       "    .dataframe thead th {\n",
       "        text-align: right;\n",
       "    }\n",
       "</style>\n",
       "<table border=\"1\" class=\"dataframe\">\n",
       "  <thead>\n",
       "    <tr style=\"text-align: right;\">\n",
       "      <th></th>\n",
       "      <th>id</th>\n",
       "      <th>ancestor_list</th>\n",
       "      <th>origin_time</th>\n",
       "      <th>taxon_label</th>\n",
       "      <th>ancestor_id</th>\n",
       "      <th>name</th>\n",
       "    </tr>\n",
       "  </thead>\n",
       "  <tbody>\n",
       "    <tr>\n",
       "      <th>0</th>\n",
       "      <td>0</td>\n",
       "      <td>[none]</td>\n",
       "      <td>0.0</td>\n",
       "      <td>Root</td>\n",
       "      <td>0</td>\n",
       "      <td>Root</td>\n",
       "    </tr>\n",
       "    <tr>\n",
       "      <th>135</th>\n",
       "      <td>135</td>\n",
       "      <td>[0]</td>\n",
       "      <td>134.0</td>\n",
       "      <td>Inner+r=134+d=P7TtlvJPPzR+uid=D29iwo6SfbSG9i5j...</td>\n",
       "      <td>0</td>\n",
       "      <td>Inner+r=134+d=P7TtlvJPPzR+uid=D29iwo6SfbSG9i5j...</td>\n",
       "    </tr>\n",
       "    <tr>\n",
       "      <th>144</th>\n",
       "      <td>144</td>\n",
       "      <td>[135]</td>\n",
       "      <td>139.0</td>\n",
       "      <td>Inner+r=139+d=OpYnMXdTuFZ+uid=DJb6dYArCH-Ab6rb...</td>\n",
       "      <td>135</td>\n",
       "      <td>Inner+r=139+d=OpYnMXdTuFZ+uid=DJb6dYArCH-Ab6rb...</td>\n",
       "    </tr>\n",
       "    <tr>\n",
       "      <th>196</th>\n",
       "      <td>196</td>\n",
       "      <td>[135]</td>\n",
       "      <td>156.0</td>\n",
       "      <td>Inner+r=156+d=P6Lk8kgB83v+uid=BlsYT3btPzC-dG6-...</td>\n",
       "      <td>135</td>\n",
       "      <td>Inner+r=156+d=P6Lk8kgB83v+uid=BlsYT3btPzC-dG6-...</td>\n",
       "    </tr>\n",
       "    <tr>\n",
       "      <th>243</th>\n",
       "      <td>243</td>\n",
       "      <td>[196]</td>\n",
       "      <td>168.0</td>\n",
       "      <td>Inner+r=168+d=Pn1CcmM31g_+uid=DB5kFalfLuVU-mlh...</td>\n",
       "      <td>196</td>\n",
       "      <td>Inner+r=168+d=Pn1CcmM31g_+uid=DB5kFalfLuVU-mlh...</td>\n",
       "    </tr>\n",
       "    <tr>\n",
       "      <th>...</th>\n",
       "      <td>...</td>\n",
       "      <td>...</td>\n",
       "      <td>...</td>\n",
       "      <td>...</td>\n",
       "      <td>...</td>\n",
       "      <td>...</td>\n",
       "    </tr>\n",
       "    <tr>\n",
       "      <th>802</th>\n",
       "      <td>802</td>\n",
       "      <td>[606]</td>\n",
       "      <td>201.0</td>\n",
       "      <td>20124</td>\n",
       "      <td>606</td>\n",
       "      <td>20124</td>\n",
       "    </tr>\n",
       "    <tr>\n",
       "      <th>803</th>\n",
       "      <td>803</td>\n",
       "      <td>[606]</td>\n",
       "      <td>201.0</td>\n",
       "      <td>20130</td>\n",
       "      <td>606</td>\n",
       "      <td>20130</td>\n",
       "    </tr>\n",
       "    <tr>\n",
       "      <th>804</th>\n",
       "      <td>804</td>\n",
       "      <td>[606]</td>\n",
       "      <td>201.0</td>\n",
       "      <td>20122</td>\n",
       "      <td>606</td>\n",
       "      <td>20122</td>\n",
       "    </tr>\n",
       "    <tr>\n",
       "      <th>805</th>\n",
       "      <td>805</td>\n",
       "      <td>[606]</td>\n",
       "      <td>201.0</td>\n",
       "      <td>20127</td>\n",
       "      <td>606</td>\n",
       "      <td>20127</td>\n",
       "    </tr>\n",
       "    <tr>\n",
       "      <th>806</th>\n",
       "      <td>806</td>\n",
       "      <td>[606]</td>\n",
       "      <td>201.0</td>\n",
       "      <td>20128</td>\n",
       "      <td>606</td>\n",
       "      <td>20128</td>\n",
       "    </tr>\n",
       "  </tbody>\n",
       "</table>\n",
       "<p>159 rows × 6 columns</p>\n",
       "</div>"
      ],
      "text/plain": [
       "      id ancestor_list  origin_time  \\\n",
       "0      0        [none]          0.0   \n",
       "135  135           [0]        134.0   \n",
       "144  144         [135]        139.0   \n",
       "196  196         [135]        156.0   \n",
       "243  243         [196]        168.0   \n",
       "..   ...           ...          ...   \n",
       "802  802         [606]        201.0   \n",
       "803  803         [606]        201.0   \n",
       "804  804         [606]        201.0   \n",
       "805  805         [606]        201.0   \n",
       "806  806         [606]        201.0   \n",
       "\n",
       "                                           taxon_label  ancestor_id  \\\n",
       "0                                                 Root            0   \n",
       "135  Inner+r=134+d=P7TtlvJPPzR+uid=D29iwo6SfbSG9i5j...            0   \n",
       "144  Inner+r=139+d=OpYnMXdTuFZ+uid=DJb6dYArCH-Ab6rb...          135   \n",
       "196  Inner+r=156+d=P6Lk8kgB83v+uid=BlsYT3btPzC-dG6-...          135   \n",
       "243  Inner+r=168+d=Pn1CcmM31g_+uid=DB5kFalfLuVU-mlh...          196   \n",
       "..                                                 ...          ...   \n",
       "802                                              20124          606   \n",
       "803                                              20130          606   \n",
       "804                                              20122          606   \n",
       "805                                              20127          606   \n",
       "806                                              20128          606   \n",
       "\n",
       "                                                  name  \n",
       "0                                                 Root  \n",
       "135  Inner+r=134+d=P7TtlvJPPzR+uid=D29iwo6SfbSG9i5j...  \n",
       "144  Inner+r=139+d=OpYnMXdTuFZ+uid=DJb6dYArCH-Ab6rb...  \n",
       "196  Inner+r=156+d=P6Lk8kgB83v+uid=BlsYT3btPzC-dG6-...  \n",
       "243  Inner+r=168+d=Pn1CcmM31g_+uid=DB5kFalfLuVU-mlh...  \n",
       "..                                                 ...  \n",
       "802                                              20124  \n",
       "803                                              20130  \n",
       "804                                              20122  \n",
       "805                                              20127  \n",
       "806                                              20128  \n",
       "\n",
       "[159 rows x 6 columns]"
      ]
     },
     "execution_count": 11,
     "metadata": {},
     "output_type": "execute_result"
    }
   ],
   "source": [
    "extant_nodes = [individual.history_index for individual in population]\n",
    "reconstructed_df = hstrat.build_tree(\n",
    "    [individual.species_annotation for individual in population],\n",
    "    version_pin=hstrat.__version__,\n",
    "    force_common_ancestry=True,\n",
    "    taxon_labels=map(str, extant_nodes),\n",
    ")\n",
    "reconstructed_df[\"name\"] = reconstructed_df[\"taxon_label\"]\n",
    "reconstructed_df.to_csv(\n",
    "    kn.pack(\n",
    "        {\n",
    "            \"a\": \"phylogeny\",\n",
    "            \"notebook\": \"species-inference\",\n",
    "            \"replicate\": str(MILL_REPLICATE),\n",
    "            \"treatment\": MILL_TREATMENT_NAME,\n",
    "            \"type\": \"reconstruction\",\n",
    "            \"ext\": \".csv\",\n",
    "        }\n",
    "    )\n",
    ")\n",
    "reconstructed_df\n"
   ]
  },
  {
   "cell_type": "code",
   "execution_count": 12,
   "id": "8ff5a2dd",
   "metadata": {
    "execution": {
     "iopub.execute_input": "2023-05-24T02:32:38.057890Z",
     "iopub.status.busy": "2023-05-24T02:32:38.056498Z",
     "iopub.status.idle": "2023-05-24T02:32:43.580701Z",
     "shell.execute_reply": "2023-05-24T02:32:43.581701Z"
    },
    "papermill": {
     "duration": 5.740762,
     "end_time": "2023-05-24T02:32:43.582002",
     "exception": false,
     "start_time": "2023-05-24T02:32:37.841240",
     "status": "completed"
    },
    "tags": []
   },
   "outputs": [
    {
     "name": "stdout",
     "output_type": "stream",
     "text": [
      "teeplots/./notebook=species-inference+replicate=6+treatment=ring+type=reconstruction+viz=draw-biopython-tree+ext=.pdf\n"
     ]
    },
    {
     "name": "stdout",
     "output_type": "stream",
     "text": [
      "teeplots/./notebook=species-inference+replicate=6+treatment=ring+type=reconstruction+viz=draw-biopython-tree+ext=.png\n"
     ]
    },
    {
     "data": {
      "image/png": "[encoded data removed]",
      "text/plain": [
       "<Figure size 468x288 with 1 Axes>"
      ]
     },
     "metadata": {
      "needs_background": "light"
     },
     "output_type": "display_data"
    }
   ],
   "source": [
    "reconstructed_tree = apc.alife_dataframe_to_biopython_tree(\n",
    "    reconstructed_df, setup_branch_lengths=True\n",
    ")\n",
    "BioPhylo.write(\n",
    "    reconstructed_tree,\n",
    "    kn.pack(\n",
    "        {\n",
    "            \"a\": \"phylogeny\",\n",
    "            \"notebook\": \"species-inference\",\n",
    "            \"replicate\": str(MILL_REPLICATE),\n",
    "            \"treatment\": MILL_TREATMENT_NAME,\n",
    "            \"type\": \"reconstruction\",\n",
    "            \"ext\": \".nwk\",\n",
    "        }\n",
    "    ),\n",
    "    'newick',\n",
    ")\n",
    "tp.tee(\n",
    "    pylib.tree.draw_biopython_tree,\n",
    "    reconstructed_tree,\n",
    "    teeplot_outattrs={\n",
    "        \"notebook\": \"species-inference\",\n",
    "        \"replicate\": str(MILL_REPLICATE),\n",
    "        \"treatment\": MILL_TREATMENT_NAME,\n",
    "        \"type\": \"reconstruction\",\n",
    "    },\n",
    ")\n"
   ]
  },
  {
   "cell_type": "code",
   "execution_count": 13,
   "id": "6585e955",
   "metadata": {
    "execution": {
     "iopub.execute_input": "2023-05-24T02:32:44.065441Z",
     "iopub.status.busy": "2023-05-24T02:32:44.064172Z",
     "iopub.status.idle": "2023-05-24T02:32:47.535339Z",
     "shell.execute_reply": "2023-05-24T02:32:47.537233Z"
    },
    "papermill": {
     "duration": 3.722258,
     "end_time": "2023-05-24T02:32:47.537528",
     "exception": false,
     "start_time": "2023-05-24T02:32:43.815270",
     "status": "completed"
    },
    "tags": []
   },
   "outputs": [
    {
     "name": "stdout",
     "output_type": "stream",
     "text": [
      "teeplots/./drop_overlapping_labels=true+notebook=species-inference+replicate=6+treatment=ring+type=reconstruction+viz=draw-biopython-tree+ext=.pdf\n"
     ]
    },
    {
     "name": "stdout",
     "output_type": "stream",
     "text": [
      "teeplots/./drop_overlapping_labels=true+notebook=species-inference+replicate=6+treatment=ring+type=reconstruction+viz=draw-biopython-tree+ext=.png\n"
     ]
    },
    {
     "data": {
      "image/png": "[encoded data removed]",
      "text/plain": [
       "<Figure size 650x400 with 1 Axes>"
      ]
     },
     "metadata": {},
     "output_type": "display_data"
    }
   ],
   "source": [
    "reconstructed_tree = apc.alife_dataframe_to_biopython_tree(\n",
    "    reconstructed_df, setup_branch_lengths=True\n",
    ")\n",
    "tp.tee(\n",
    "    pylib.tree.draw_biopython_tree,\n",
    "    reconstructed_tree,\n",
    "    drop_overlapping_labels=True,\n",
    "    teeplot_outattrs={\n",
    "        \"drop_overlapping_labels\": \"true\",\n",
    "        \"notebook\": \"species-inference\",\n",
    "        \"replicate\": str(MILL_REPLICATE),\n",
    "        \"treatment\": MILL_TREATMENT_NAME,\n",
    "        \"type\": \"reconstruction\",\n",
    "    },\n",
    ")\n"
   ]
  },
  {
   "cell_type": "code",
   "execution_count": 14,
   "id": "644f7b5b",
   "metadata": {
    "execution": {
     "iopub.execute_input": "2023-05-24T02:32:48.089637Z",
     "iopub.status.busy": "2023-05-24T02:32:48.088241Z",
     "iopub.status.idle": "2023-05-24T02:32:50.580322Z",
     "shell.execute_reply": "2023-05-24T02:32:50.581404Z"
    },
    "papermill": {
     "duration": 2.774274,
     "end_time": "2023-05-24T02:32:50.581730",
     "exception": false,
     "start_time": "2023-05-24T02:32:47.807456",
     "status": "completed"
    },
    "tags": []
   },
   "outputs": [
    {
     "name": "stdout",
     "output_type": "stream",
     "text": [
      "teeplots/./max_leaves=20+notebook=species-inference+replicate=6+treatment=ring+type=reconstruction+viz=draw-biopython-tree+ext=.pdf\n"
     ]
    },
    {
     "name": "stdout",
     "output_type": "stream",
     "text": [
      "teeplots/./max_leaves=20+notebook=species-inference+replicate=6+treatment=ring+type=reconstruction+viz=draw-biopython-tree+ext=.png\n"
     ]
    },
    {
     "data": {
      "image/png": "[encoded data removed]",
      "text/plain": [
       "<Figure size 650x400 with 1 Axes>"
      ]
     },
     "metadata": {},
     "output_type": "display_data"
    }
   ],
   "source": [
    "reconstructed_tree = apc.alife_dataframe_to_biopython_tree(\n",
    "    reconstructed_df, setup_branch_lengths=True\n",
    ")\n",
    "tp.tee(\n",
    "    pylib.tree.draw_biopython_tree,\n",
    "    reconstructed_tree,\n",
    "    max_leaves=20,\n",
    "    teeplot_outattrs={\n",
    "        \"max_leaves\": \"20\",\n",
    "        \"notebook\": \"species-inference\",\n",
    "        \"replicate\": str(MILL_REPLICATE),\n",
    "        \"treatment\": MILL_TREATMENT_NAME,\n",
    "        \"type\": \"reconstruction\",\n",
    "    },\n",
    ")\n"
   ]
  },
  {
   "cell_type": "markdown",
   "id": "11d75064",
   "metadata": {
    "papermill": {
     "duration": 0.232986,
     "end_time": "2023-05-24T02:32:51.053894",
     "exception": false,
     "start_time": "2023-05-24T02:32:50.820908",
     "status": "completed"
    },
    "tags": []
   },
   "source": [
    "# Actual Pedigree\n"
   ]
  },
  {
   "cell_type": "code",
   "execution_count": 15,
   "id": "896f1aa2",
   "metadata": {
    "execution": {
     "iopub.execute_input": "2023-05-24T02:32:51.366447Z",
     "iopub.status.busy": "2023-05-24T02:32:51.356204Z",
     "iopub.status.idle": "2023-05-24T02:33:06.868336Z",
     "shell.execute_reply": "2023-05-24T02:33:06.869335Z"
    },
    "papermill": {
     "duration": 15.678226,
     "end_time": "2023-05-24T02:33:06.869652",
     "exception": false,
     "start_time": "2023-05-24T02:32:51.191426",
     "status": "completed"
    },
    "tags": []
   },
   "outputs": [
    {
     "data": {
      "text/plain": [
       "1"
      ]
     },
     "execution_count": 15,
     "metadata": {},
     "output_type": "execute_result"
    }
   ],
   "source": [
    "distilled_tree = pylib.deap.history_to_tree_upgma(history, extant_nodes)\n",
    "BioPhylo.write(\n",
    "    distilled_tree,\n",
    "    kn.pack(\n",
    "        {\n",
    "            \"a\": \"phylogeny\",\n",
    "            \"notebook\": \"species-inference\",\n",
    "            \"replicate\": str(MILL_REPLICATE),\n",
    "            \"treatment\": MILL_TREATMENT_NAME,\n",
    "            \"type\": \"distilled-pedigree\",\n",
    "            \"ext\": \".nwk\",\n",
    "        }\n",
    "    ),\n",
    "    'newick',\n",
    ")\n"
   ]
  },
  {
   "cell_type": "code",
   "execution_count": 16,
   "id": "0f8beb67",
   "metadata": {
    "execution": {
     "iopub.execute_input": "2023-05-24T02:33:07.430974Z",
     "iopub.status.busy": "2023-05-24T02:33:07.429583Z",
     "iopub.status.idle": "2023-05-24T02:33:13.381606Z",
     "shell.execute_reply": "2023-05-24T02:33:13.382720Z"
    },
    "papermill": {
     "duration": 6.25071,
     "end_time": "2023-05-24T02:33:13.383014",
     "exception": false,
     "start_time": "2023-05-24T02:33:07.132304",
     "status": "completed"
    },
    "tags": []
   },
   "outputs": [
    {
     "name": "stdout",
     "output_type": "stream",
     "text": [
      "teeplots/./notebook=species-inference+replicate=6+treatment=ring+type=distilled-reference+viz=draw-biopython-tree+ext=.pdf\n"
     ]
    },
    {
     "name": "stdout",
     "output_type": "stream",
     "text": [
      "teeplots/./notebook=species-inference+replicate=6+treatment=ring+type=distilled-reference+viz=draw-biopython-tree+ext=.png\n"
     ]
    },
    {
     "data": {
      "image/png": "[encoded data removed]",
      "text/plain": [
       "<Figure size 650x400 with 1 Axes>"
      ]
     },
     "metadata": {},
     "output_type": "display_data"
    }
   ],
   "source": [
    "tp.tee(\n",
    "    pylib.tree.draw_biopython_tree,\n",
    "    distilled_tree,\n",
    "    teeplot_outattrs={\n",
    "        \"notebook\": \"species-inference\",\n",
    "        \"replicate\": str(MILL_REPLICATE),\n",
    "        \"treatment\": MILL_TREATMENT_NAME,\n",
    "        \"type\": \"distilled-reference\",\n",
    "    },\n",
    ")\n"
   ]
  },
  {
   "cell_type": "code",
   "execution_count": 17,
   "id": "f93688df",
   "metadata": {
    "execution": {
     "iopub.execute_input": "2023-05-24T02:33:13.936151Z",
     "iopub.status.busy": "2023-05-24T02:33:13.934825Z",
     "iopub.status.idle": "2023-05-24T02:33:15.813480Z",
     "shell.execute_reply": "2023-05-24T02:33:15.814126Z"
    },
    "papermill": {
     "duration": 2.1654,
     "end_time": "2023-05-24T02:33:15.814332",
     "exception": false,
     "start_time": "2023-05-24T02:33:13.648932",
     "status": "completed"
    },
    "tags": []
   },
   "outputs": [
    {
     "name": "stdout",
     "output_type": "stream",
     "text": [
      "teeplots/./max_leaves=20+notebook=species-inference+replicate=6+treatment=ring+type=distilled-reference+viz=draw-biopython-tree+ext=.pdf\n"
     ]
    },
    {
     "name": "stdout",
     "output_type": "stream",
     "text": [
      "teeplots/./max_leaves=20+notebook=species-inference+replicate=6+treatment=ring+type=distilled-reference+viz=draw-biopython-tree+ext=.png\n"
     ]
    },
    {
     "data": {
      "image/png": "[encoded data removed]",
      "text/plain": [
       "<Figure size 650x400 with 1 Axes>"
      ]
     },
     "metadata": {},
     "output_type": "display_data"
    }
   ],
   "source": [
    "tp.tee(\n",
    "    pylib.tree.draw_biopython_tree,\n",
    "    distilled_tree,\n",
    "    max_leaves=20,\n",
    "    teeplot_outattrs={\n",
    "        \"max_leaves\": \"20\",\n",
    "        \"notebook\": \"species-inference\",\n",
    "        \"replicate\": str(MILL_REPLICATE),\n",
    "        \"treatment\": MILL_TREATMENT_NAME,\n",
    "        \"type\": \"distilled-reference\",\n",
    "    },\n",
    ")\n"
   ]
  },
  {
   "cell_type": "code",
   "execution_count": 18,
   "id": "522978b4",
   "metadata": {
    "execution": {
     "iopub.execute_input": "2023-05-24T02:33:16.204918Z",
     "iopub.status.busy": "2023-05-24T02:33:16.203557Z",
     "iopub.status.idle": "2023-05-24T02:33:20.091128Z",
     "shell.execute_reply": "2023-05-24T02:33:20.089351Z"
    },
    "papermill": {
     "duration": 4.08226,
     "end_time": "2023-05-24T02:33:20.091417",
     "exception": false,
     "start_time": "2023-05-24T02:33:16.009157",
     "status": "completed"
    },
    "tags": []
   },
   "outputs": [
    {
     "name": "stdout",
     "output_type": "stream",
     "text": [
      "teeplots/./drop_overlapping_labels=true+notebook=species-inference+replicate=6+treatment=ring+type=distilled-reference+viz=draw-biopython-tree+ext=.pdf\n"
     ]
    },
    {
     "name": "stdout",
     "output_type": "stream",
     "text": [
      "teeplots/./drop_overlapping_labels=true+notebook=species-inference+replicate=6+treatment=ring+type=distilled-reference+viz=draw-biopython-tree+ext=.png\n"
     ]
    },
    {
     "data": {
      "image/png": "[encoded data removed]",
      "text/plain": [
       "<Figure size 650x400 with 1 Axes>"
      ]
     },
     "metadata": {},
     "output_type": "display_data"
    }
   ],
   "source": [
    "tp.tee(\n",
    "    pylib.tree.draw_biopython_tree,\n",
    "    distilled_tree,\n",
    "    drop_overlapping_labels=True,\n",
    "    teeplot_outattrs={\n",
    "        \"drop_overlapping_labels\": \"true\",\n",
    "        \"notebook\": \"species-inference\",\n",
    "        \"replicate\": str(MILL_REPLICATE),\n",
    "        \"treatment\": MILL_TREATMENT_NAME,\n",
    "        \"type\": \"distilled-reference\",\n",
    "    },\n",
    ")\n"
   ]
  },
  {
   "cell_type": "code",
   "execution_count": 19,
   "id": "9cc69d2b",
   "metadata": {
    "execution": {
     "iopub.execute_input": "2023-05-24T02:33:20.695722Z",
     "iopub.status.busy": "2023-05-24T02:33:20.674869Z",
     "iopub.status.idle": "2023-05-24T02:33:42.485108Z",
     "shell.execute_reply": "2023-05-24T02:33:42.486592Z"
    },
    "papermill": {
     "duration": 22.103962,
     "end_time": "2023-05-24T02:33:42.486911",
     "exception": false,
     "start_time": "2023-05-24T02:33:20.382949",
     "status": "completed"
    },
    "tags": []
   },
   "outputs": [
    {
     "data": {
      "text/plain": [
       "0.3191255283744238"
      ]
     },
     "execution_count": 19,
     "metadata": {},
     "output_type": "execute_result"
    }
   ],
   "source": [
    "distilled_tree = pylib.deap.history_to_tree_upgma(\n",
    "    history, extant_nodes, correct_origin_times=False\n",
    ")\n",
    "BioPhylo.write(\n",
    "    distilled_tree,\n",
    "    kn.pack(\n",
    "        {\n",
    "            \"a\": \"phylogeny\",\n",
    "            \"notebook\": \"species-inference\",\n",
    "            \"replicate\": str(MILL_REPLICATE),\n",
    "            \"treatment\": MILL_TREATMENT_NAME,\n",
    "            \"type\": \"distilled-pedigree-uncorrected\",\n",
    "            \"ext\": \".nwk\",\n",
    "        }\n",
    "    ),\n",
    "    'newick',\n",
    ")\n",
    "\n",
    "quartet_dist = pylib.tree.polymorphic_quartet_distance(\n",
    "    reconstructed_tree, distilled_tree\n",
    ")\n",
    "quartet_dist\n"
   ]
  },
  {
   "cell_type": "code",
   "execution_count": 20,
   "id": "be638b6c",
   "metadata": {
    "execution": {
     "iopub.execute_input": "2023-05-24T02:33:43.090934Z",
     "iopub.status.busy": "2023-05-24T02:33:43.089246Z",
     "iopub.status.idle": "2023-05-24T02:33:43.106119Z",
     "shell.execute_reply": "2023-05-24T02:33:43.104922Z"
    },
    "papermill": {
     "duration": 0.330535,
     "end_time": "2023-05-24T02:33:43.106385",
     "exception": false,
     "start_time": "2023-05-24T02:33:42.775850",
     "status": "completed"
    },
    "tags": []
   },
   "outputs": [
    {
     "data": {
      "text/html": [
       "<div>\n",
       "<style scoped>\n",
       "    .dataframe tbody tr th:only-of-type {\n",
       "        vertical-align: middle;\n",
       "    }\n",
       "\n",
       "    .dataframe tbody tr th {\n",
       "        vertical-align: top;\n",
       "    }\n",
       "\n",
       "    .dataframe thead th {\n",
       "        text-align: right;\n",
       "    }\n",
       "</style>\n",
       "<table border=\"1\" class=\"dataframe\">\n",
       "  <thead>\n",
       "    <tr style=\"text-align: right;\">\n",
       "      <th></th>\n",
       "      <th>replicate</th>\n",
       "      <th>treatment</th>\n",
       "      <th>quartet distance</th>\n",
       "    </tr>\n",
       "  </thead>\n",
       "  <tbody>\n",
       "    <tr>\n",
       "      <th>0</th>\n",
       "      <td>6</td>\n",
       "      <td>ring</td>\n",
       "      <td>0.319126</td>\n",
       "    </tr>\n",
       "  </tbody>\n",
       "</table>\n",
       "</div>"
      ],
      "text/plain": [
       "   replicate treatment  quartet distance\n",
       "0          6      ring          0.319126"
      ]
     },
     "execution_count": 20,
     "metadata": {},
     "output_type": "execute_result"
    }
   ],
   "source": [
    "records = [\n",
    "    {\n",
    "        \"replicate\": MILL_REPLICATE,\n",
    "        \"treatment\": MILL_TREATMENT_NAME,\n",
    "        \"quartet distance\": quartet_dist,\n",
    "    }\n",
    "]\n",
    "outdf = pd.DataFrame.from_records(records)\n",
    "outdf.to_csv(\n",
    "    kn.pack(\n",
    "        {\n",
    "            \"a\": \"reconstruction-accuracy\",\n",
    "            \"notebook\": \"species-inference\",\n",
    "            \"replicate\": MILL_REPLICATE,\n",
    "            \"treatment\": MILL_TREATMENT_NAME,\n",
    "            \"ext\": \".csv\",\n",
    "        }\n",
    "    )\n",
    ")\n",
    "outdf\n"
   ]
  }
 ],
 "metadata": {
  "kernelspec": {
   "display_name": "Python 3",
   "language": "python",
   "name": "python3"
  },
  "language_info": {
   "codemirror_mode": {
    "name": "ipython",
    "version": 3
   },
   "file_extension": ".py",
   "mimetype": "text/x-python",
   "name": "python",
   "nbconvert_exporter": "python",
   "pygments_lexer": "ipython3",
   "version": "3.10.6"
  },
  "papermill": {
   "default_parameters": {},
   "duration": 654.075438,
   "end_time": "2023-05-24T02:33:46.127142",
   "environment_variables": {},
   "exception": null,
   "input_path": "species-inference.ipynb",
   "output_path": "species-inference-parameterization-16.ipynb",
   "parameters": {
    "MILL_REPLICATE": 6,
    "MILL_TREATMENT_NAME": "ring"
   },
   "start_time": "2023-05-24T02:22:52.051704",
   "version": "2.4.0"
  }
 },
 "nbformat": 4,
 "nbformat_minor": 5
}